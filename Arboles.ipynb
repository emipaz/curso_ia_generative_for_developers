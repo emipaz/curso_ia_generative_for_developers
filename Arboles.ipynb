{
 "cells": [
  {
   "cell_type": "markdown",
   "id": "8765d4e4-636d-467d-800c-083774abcf72",
   "metadata": {},
   "source": [
    "# ¿Qué es un árbol?\n",
    "\n",
    "GPT : En informática, un árbol es una estructura de datos jerárquica que se utiliza para representar relaciones entre elementos de forma organizada. Un árbol se compone de nodos, donde cada nodo puede contener un valor o una información, así como referencias (o punteros) a otros nodos, llamados nodos hijos."
   ]
  },
  {
   "cell_type": "markdown",
   "id": "aee9400c-a022-4c43-919d-07b96a3adeed",
   "metadata": {},
   "source": [
    "## Características de los árboles:"
   ]
  },
  {
   "cell_type": "markdown",
   "id": "b754813e-3fd1-457e-ab76-5d13ac179f5f",
   "metadata": {},
   "source": [
    "1. **Nodos**: Cada elemento de un árbol se denomina nodo. Hay un nodo especial llamado nodo raíz, que es el punto de partida del árbol.\n",
    "2. **Raíz**: Es el nodo superior del árbol y no tiene padre. \n",
    "3. **Hijos y Padres**: Cada nodo (excepto la raíz) tiene un nodo padre y puede tener cero o más nodos hijos.\n",
    "4. **Niveles**: La profundidad de un nodo se refiere a qué tan lejos está de la raíz, y se mide en niveles. La raíz está en el nivel 0, sus hijos en el nivel 1, y así sucesivamente.\n",
    "6. **Hojas**: Los nodos que no tienen hijos se llaman nodos hoja o nodos terminales.\n",
    "7. **Altura del árbol**: Es la longitud máxima del camino desde la raíz hasta una hoja.\n",
    "8. **Subárboles**: Cualquier nodo del árbol se puede considerar como la raíz de un subárbol que incluye a todos sus descendientes."
   ]
  },
  {
   "cell_type": "markdown",
   "id": "9214749b-27b3-4d71-879a-f8c61cf718c5",
   "metadata": {},
   "source": [
    "## Tipos de árboles:"
   ]
  },
  {
   "cell_type": "markdown",
   "id": "650ab940-d447-443e-937f-157743bf07e0",
   "metadata": {},
   "source": [
    "- **Árbol binario**: Cada nodo tiene como máximo dos hijos, denominados hijo izquierdo y hijo derecho.\n",
    "- **Árbol AVL**: Un tipo de árbol binario balanceado que mantiene las alturas de sus subárboles equilibradas.\n",
    "- **Árbol B**: Utilizado en bases de datos y sistemas de archivos, permite mantener la información ordenada y facilita búsquedas, inserciones y eliminaciones.\n",
    "- **Árbol de decisiones**: Estructura utilizada en aprendizaje automático y análisis de decisiones.\n",
    "- **Árbol de expresión**: Representa expresiones algebraicas, donde los nodos internos son operadores y los nodos hoja son operandos.\n",
    "\n",
    "Los árboles son fundamentales en la informática, especialmente en algoritmos de búsqueda y clasificación, como los árboles binarios de búsq\n",
    "ueda (BST), donde la organización jerárquica permite realizar operaciones de búsqueda, inserción y eliminación de manera eficiente."
   ]
  },
  {
   "cell_type": "markdown",
   "id": "4b7cda80-e5c4-4932-b026-787c0ab5a70a",
   "metadata": {},
   "source": [
    "## Para que me quede claro , puede existir un arbol, donde un nodo tenga mas de 2 hijos, pero no es lo mas habitual o no se usa?. explicame los motivos \n",
    "\n",
    "GPT : Sí, efectivamente, existe la posibilidad de tener un árbol donde un nodo tenga más de dos hijos. A esta estructura se le conoce gener\n",
    "almente como un **árbol general** o simplemente un **árbol** (sin la restricción de que cada nodo tenga como máximo dos hijos). Sin embargo\n",
    ", en la práctica, el uso de árboles binarios (donde cada nodo tiene como máximo dos hijos) es más común y tiene varias razones:"
   ]
  },
  {
   "cell_type": "markdown",
   "id": "3dde629e-dcb8-47c5-8bb3-43c41c2dbd99",
   "metadata": {
    "jp-MarkdownHeadingCollapsed": true
   },
   "source": [
    "**Simplicidad**:\n",
    "   - Los árboles binarios son más simples de implementar y comprender. La lógica para agregar, eliminar y buscar elementos es más directa c\n",
    "uando se limitan a dos hijos.\n",
    "\n",
    "**Eficiencia en Búsqueda**:\n",
    "   - En un árbol binario de búsqueda (BST), los nodos se organizan de tal forma que los valores en el hijo izquierdo son menores que el nod\n",
    "o padre y los del hijo derecho son mayores. Esta propiedad permite búsquedas eficientes en tiempo promedio O(log n) en árboles balanceados.\n",
    "\n",
    "**Estructuras de Datos Establecidas**:\n",
    "   - Muchas estructuras de datos y algoritmos clásicos (como montículos y árboles AVL) se basan en la propiedad de tener dos hijos. Esto ha\n",
    " llevado a una amplia adopción en la comunidad de desarrolladores y académicos.\n",
    "\n",
    "**Balanceo**:\n",
    "   - Es más fácil mantener un árbol binario balanceado. La altura del árbol se puede controlar mejor cuando cada nodo solo tiene dos hijos,\n",
    " lo que ayuda a mantener la eficiencia en operaciones. Con más de dos hijos, el balanceo puede volverse complicado, y se puede afectar el r\n",
    "endimiento de búsqueda.\n",
    "\n",
    "**Facilidad de Implementación en ciertos lenguajes**:\n",
    "   - Muchos lenguajes de programación tienen estructuras de datos que son inherentes para manejar árboles binarios de forma más eficiente. \n",
    "Esto hace que sean más accesibles para su uso.\n",
    "\n",
    "**Aplicaciones específicas**:\n",
    "   - Aunque los árboles generales o de múltiples hijos son útiles en casos específicos, como sistemas de archivos (donde un directorio pued\n",
    "e contener múltiples archivos y subdirectorios), en muchos otros contextos, como las bases de datos o algoritmos de búsqueda, los árboles b\n",
    "inarios son más aplicables.\n",
    "\n",
    "Conclusión:\n",
    "> Si bien los árboles que permiten nodos con más de dos hijos (como los árboles B o los árboles n-arios) son utilizados en ciertas aplicacion\n",
    "es, los árboles binarios ofrecen una combinación de simplicidad, eficiencia y facilidad de implementación que los hace más comunes en la ma\n",
    "yoría de los contextos de programación y algoritmos."
   ]
  },
  {
   "cell_type": "code",
   "execution_count": 126,
   "id": "21699892-06bf-41df-9c81-9a324c5137ce",
   "metadata": {},
   "outputs": [],
   "source": [
    "class TreeNode:\n",
    "    def __init__(self, key):\n",
    "        self.left = None\n",
    "        self.right = None\n",
    "        self.val = key\n",
    "\n",
    "class BinaryTree:\n",
    "    def __init__(self):\n",
    "        self.root = None\n",
    "    \n",
    "    def insert(self, key):\n",
    "        if self.root is None:\n",
    "            self.root = TreeNode(key)\n",
    "        else:\n",
    "            self._insert(self.root, key)\n",
    "    \n",
    "    def _insert(self, node, key):\n",
    "        if key < node.val:\n",
    "            if node.left is None:\n",
    "                node.left = TreeNode(key)\n",
    "            else:\n",
    "                self._insert(node.left, key)\n",
    "        else:\n",
    "            if node.right is None:\n",
    "                node.right = TreeNode(key)\n",
    "            else:\n",
    "                self._insert(node.right, key)\n",
    "    \n",
    "    def inorder(self, node):\n",
    "        if node:\n",
    "            #print(\"buscando ...\")\n",
    "            #print(node.val)\n",
    "            self.inorder(node.left)\n",
    "            print(node.val, end=' ')\n",
    "            self.inorder(node.right)"
   ]
  },
  {
   "cell_type": "code",
   "execution_count": 127,
   "id": "df0219dc-e924-4b90-8af4-9c489e6c5ed6",
   "metadata": {},
   "outputs": [
    {
     "name": "stdout",
     "output_type": "stream",
     "text": [
      "Inorder traversal of the binary tree:\n",
      "1 3 4 6 7 8 10 "
     ]
    }
   ],
   "source": [
    "# Example usage\n",
    "bt = BinaryTree()\n",
    "bt.insert(8)\n",
    "bt.insert(3)\n",
    "bt.insert(10)\n",
    "bt.insert(1)\n",
    "bt.insert(6)\n",
    "bt.insert(4)\n",
    "bt.insert(7)\n",
    "\n",
    "print(\"Inorder traversal of the binary tree:\")\n",
    "busqueda = bt.inorder(bt.root)"
   ]
  },
  {
   "cell_type": "markdown",
   "id": "2049138a-1970-4902-955b-00151626d2a8",
   "metadata": {},
   "source": [
    "## Con esta implementacion de arbol binario me gustaria implementar un __str__ que muestre el arbol y un debug de inorder \n",
    "\n",
    "GPT :Para implementar el método `__str__` en la clase `BinaryTree`, podemos crear una representación en forma de cadena del árbol. A\n",
    "demás, también podemos agregar un método de depuración que imprima la traversión en orden (inorder) de los nodos, de manera más estr\n",
    "ucturada.\n",
    "\n",
    "A continuación te presento una posible implementación de ambos métodos:"
   ]
  },
  {
   "cell_type": "markdown",
   "id": "1cf180a4-7d86-4864-8b83-cb5e6b10f887",
   "metadata": {},
   "source": [
    "### Código Completo con `__str__` y Método de Depuración"
   ]
  },
  {
   "cell_type": "code",
   "execution_count": 128,
   "id": "6eca6f16-5b54-4ca4-8bcc-92e6e5eb5a7e",
   "metadata": {},
   "outputs": [],
   "source": [
    "class TreeNode:\n",
    "    def __init__(self, key):\n",
    "        self.left = None\n",
    "        self.right = None\n",
    "        self.val = key\n",
    "    def __str__(self):\n",
    "        izq = self.left.val if self.left else None\n",
    "        der = self.right.val if self.right else None\n",
    "        return f\"\"\"Nodo con valor :{self.val}\n",
    "        Nodo Izquierdo : {izq}\n",
    "        Nodo Derecho   : {der}\n",
    "        \"\"\"\n",
    "\n",
    "class BinaryTree:\n",
    "    def __init__(self):\n",
    "        self.root = None\n",
    "\n",
    "    def insert(self, key):\n",
    "        if self.root is None:\n",
    "            self.root = TreeNode(key)\n",
    "        else:\n",
    "            self._insert(self.root, key)\n",
    "\n",
    "    def _insert(self, node, key):\n",
    "        if key < node.val:\n",
    "            if node.left is None:\n",
    "                node.left = TreeNode(key)\n",
    "            else:\n",
    "                self._insert(node.left, key)\n",
    "        else:\n",
    "            if node.right is None:\n",
    "                node.right = TreeNode(key)\n",
    "            else:\n",
    "                self._insert(node.right, key)\n",
    "\n",
    "    def inorder(self, node, verbose=False):\n",
    "        # Método para obtener el recorrido en orden de los nodos\n",
    "        return self._inorder(node, verbose)\n",
    "\n",
    "    def _inorder(self, node, debug):\n",
    "        result = []\n",
    "        if node:\n",
    "            if debug:\n",
    "                print(\"visita nodo\")\n",
    "                print(node)\n",
    "                print()\n",
    "            result.extend(self._inorder(node.left, debug))\n",
    "            result.append(node.val)\n",
    "            if debug:\n",
    "                print(\"Valor guardado : \",node.val)\n",
    "                print()\n",
    "            result.extend(self._inorder(node.right, debug))\n",
    "        return result\n",
    "\n",
    "    def __str__(self):\n",
    "        # Método que devuelve una representación del árbol\n",
    "        return self._str_helper(self.root, 0)\n",
    "\n",
    "    def _str_helper(self, node, level):\n",
    "        result = \"\"\n",
    "        if node is not None:\n",
    "            result += self._str_helper(node.right, level + 1)\n",
    "            result += \"|  \" * level + str(node.val) + \"\\n\"\n",
    "            result += self._str_helper(node.left, level + 1)\n",
    "        return result"
   ]
  },
  {
   "cell_type": "markdown",
   "id": "14b395e1-5dc3-4dfd-9b7c-f7d057068081",
   "metadata": {},
   "source": [
    "**Explicación**\n",
    "\n",
    "1. **Método `__str__`**:\n",
    "   - Este método invoca a `_str_helper`, que realiza un recorrido del árbol de forma recursiva.\n",
    "   - `_str_helper` usa la profundidad (`level`) para agregar espacios en blanco que simulan la estructura del árbol visualment\n",
    "e.\n",
    "   - Primero se procesan los hijos derechos (para que se dibujen en la parte superior) y luego el nodo actual, seguido de los \n",
    "hijos izquierdos.\n",
    "2. **Método de depuración `inorder`**:\n",
    "   - Se implementa en el método `inorder`, que devuelve una lista con los valores de los nodos en orden.\n",
    "   - Utilizamos un método interno `_inorder` que acumula los resultados en una lista y se realiza un recorrido recursivo. "
   ]
  },
  {
   "cell_type": "code",
   "execution_count": 129,
   "id": "cdd05c83-501a-4f06-a7c0-7602a8a4fcb4",
   "metadata": {},
   "outputs": [],
   "source": [
    "# Ejemplo de uso\n",
    "bt = BinaryTree()\n",
    "\n",
    "# Inserción de nodos\n",
    "for value in [8,3,10,15,6,5,4,2,11,1]:\n",
    "    bt.insert(value)"
   ]
  },
  {
   "cell_type": "code",
   "execution_count": 130,
   "id": "861e6328-d770-41ad-9651-dc444efd3732",
   "metadata": {},
   "outputs": [
    {
     "name": "stdout",
     "output_type": "stream",
     "text": [
      "Representación del árbol:\n",
      "|  |  15\n",
      "|  |  |  11\n",
      "|  10\n",
      "8\n",
      "|  |  6\n",
      "|  |  |  5\n",
      "|  |  |  |  4\n",
      "|  3\n",
      "|  |  2\n",
      "|  |  |  1\n",
      "\n"
     ]
    }
   ],
   "source": [
    "# Imprimir el árbol\n",
    "print(\"Representación del árbol:\")\n",
    "print(bt)"
   ]
  },
  {
   "cell_type": "code",
   "execution_count": 131,
   "id": "52bebebd-226a-4c8d-8c81-cc6a13d9d6bb",
   "metadata": {},
   "outputs": [
    {
     "name": "stdout",
     "output_type": "stream",
     "text": [
      "Recorrido en orden de los nodos:\n",
      "visita nodo\n",
      "Nodo con valor :8\n",
      "        Nodo Izquierdo : 3\n",
      "        Nodo Derecho   : 10\n",
      "        \n",
      "\n",
      "visita nodo\n",
      "Nodo con valor :3\n",
      "        Nodo Izquierdo : 2\n",
      "        Nodo Derecho   : 6\n",
      "        \n",
      "\n",
      "visita nodo\n",
      "Nodo con valor :2\n",
      "        Nodo Izquierdo : 1\n",
      "        Nodo Derecho   : None\n",
      "        \n",
      "\n",
      "visita nodo\n",
      "Nodo con valor :1\n",
      "        Nodo Izquierdo : None\n",
      "        Nodo Derecho   : None\n",
      "        \n",
      "\n",
      "Valor guardado :  1\n",
      "\n",
      "Valor guardado :  2\n",
      "\n",
      "Valor guardado :  3\n",
      "\n",
      "visita nodo\n",
      "Nodo con valor :6\n",
      "        Nodo Izquierdo : 5\n",
      "        Nodo Derecho   : None\n",
      "        \n",
      "\n",
      "visita nodo\n",
      "Nodo con valor :5\n",
      "        Nodo Izquierdo : 4\n",
      "        Nodo Derecho   : None\n",
      "        \n",
      "\n",
      "visita nodo\n",
      "Nodo con valor :4\n",
      "        Nodo Izquierdo : None\n",
      "        Nodo Derecho   : None\n",
      "        \n",
      "\n",
      "Valor guardado :  4\n",
      "\n",
      "Valor guardado :  5\n",
      "\n",
      "Valor guardado :  6\n",
      "\n",
      "Valor guardado :  8\n",
      "\n",
      "visita nodo\n",
      "Nodo con valor :10\n",
      "        Nodo Izquierdo : None\n",
      "        Nodo Derecho   : 15\n",
      "        \n",
      "\n",
      "Valor guardado :  10\n",
      "\n",
      "visita nodo\n",
      "Nodo con valor :15\n",
      "        Nodo Izquierdo : 11\n",
      "        Nodo Derecho   : None\n",
      "        \n",
      "\n",
      "visita nodo\n",
      "Nodo con valor :11\n",
      "        Nodo Izquierdo : None\n",
      "        Nodo Derecho   : None\n",
      "        \n",
      "\n",
      "Valor guardado :  11\n",
      "\n",
      "Valor guardado :  15\n",
      "\n",
      "[1, 2, 3, 4, 5, 6, 8, 10, 11, 15]\n"
     ]
    }
   ],
   "source": [
    "# Imprimir el recorrido en orden\n",
    "print(\"Recorrido en orden de los nodos:\")\n",
    "print(bt.inorder(bt.root, verbose= True))"
   ]
  },
  {
   "cell_type": "markdown",
   "id": "693868d0-8751-42af-860b-5b7d496a430a",
   "metadata": {},
   "source": [
    "## Para mejorar la implementacion faltaria un metodo de eliminacion y otro tipo pop que me extraiga el  elemento mas chico y me lo devuelva, podes implementarlos?\n",
    "\n",
    "GPT : Claro, puedo ayudarte a implementar un método para eliminar un nodo y otro método para extraer el último elemento (un tipo \"pop\"). En un árbol binario de búsqueda, la eliminación de un nodo puede ser un poco más compleja que simplemente eliminar un valor, ya que hay que mantener la propiedad del árbol. Vamos a implementar ambos métodos en la clase `BinaryTree`.\n",
    "\n",
    "Aquí te dejo una implementación básica:"
   ]
  },
  {
   "cell_type": "code",
   "execution_count": 137,
   "id": "8ce8dd6f-82d7-4da9-acb1-18934a5c55ab",
   "metadata": {},
   "outputs": [],
   "source": [
    "class Node:\n",
    "    def __init__(self, value):\n",
    "        self.value = value\n",
    "        self.left = None\n",
    "        self.right = None\n",
    "\n",
    "class BinaryTree:\n",
    "    def __init__(self):\n",
    "        self.root = None\n",
    "\n",
    "    def insert(self, value):\n",
    "        if not self.root:\n",
    "            self.root = Node(value)\n",
    "        else:\n",
    "            self._insert_recursive(self.root, value)\n",
    "\n",
    "    def _insert_recursive(self, node, value):\n",
    "        if value < node.value:\n",
    "            if node.left is None:\n",
    "                node.left = Node(value)\n",
    "            else:\n",
    "                self._insert_recursive(node.left, value)\n",
    "        else:\n",
    "            if node.right is None:\n",
    "                node.right = Node(value)\n",
    "            else:\n",
    "                self._insert_recursive(node.right, value)\n",
    "\n",
    "    def in_order_traversal(self):\n",
    "        values = []\n",
    "        self._in_order_recursive(self.root, values)\n",
    "        return values\n",
    "\n",
    "    def _in_order_recursive(self, node, values):\n",
    "        if node:\n",
    "            self._in_order_recursive(node.left, values)\n",
    "            values.append(node.value)\n",
    "            self._in_order_recursive(node.right, values)\n",
    "\n",
    "    def delete(self, value):\n",
    "        self.root = self._delete_recursive(self.root, value)\n",
    "\n",
    "    def _delete_recursive(self, node, value):\n",
    "        if not node:\n",
    "            return node\n",
    "\n",
    "        if value < node.value:\n",
    "            node.left = self._delete_recursive(node.left, value)\n",
    "        elif value > node.value:\n",
    "            node.right = self._delete_recursive(node.right, value)\n",
    "        else:\n",
    "            # Caso 1: Nodo con solo un hijo o sin hijo\n",
    "            if node.left is None:\n",
    "                return node.right\n",
    "            elif node.right is None:\n",
    "                return node.left\n",
    "            \n",
    "            # Caso 2: Nodo con dos hijos\n",
    "            # Encuentra el sucesor inorden (más pequeño en el subárbol derecho)\n",
    "            min_larger_node = self._find_minimum(node.right)\n",
    "            node.value = min_larger_node.value\n",
    "            node.right = self._delete_recursive(node.right, min_larger_node.value)\n",
    "\n",
    "        return node\n",
    "\n",
    "    def _find_minimum(self, node):\n",
    "        current = node\n",
    "        while current.left is not None:\n",
    "            current = current.left\n",
    "        return current\n",
    "\n",
    "    def _find_maximum(self, node):\n",
    "        current = node\n",
    "        while current.right is not None:\n",
    "            current = current.right\n",
    "        return current\n",
    "\n",
    "    def pop(self, minimum= True):\n",
    "        if not self.root:\n",
    "            return None\n",
    "        if minimum:\n",
    "            # Obtengo el menor de los elementos\n",
    "            value_node = self._find_minimum(self.root)\n",
    "        else:\n",
    "            # Obtengo el mayor de los elementos\n",
    "            value_node = self._find_maximum(self.root)\n",
    "        # eliminamos el nodo del arbol\n",
    "        self.delete(value_node.value)\n",
    "        return value_node.value\n",
    "\n",
    "    def __str__(self):\n",
    "        # Método que devuelve una representación del árbol\n",
    "        return self._str_helper(self.root, 0)\n",
    "\n",
    "    def _str_helper(self, node, level):\n",
    "        result = \"\"\n",
    "        if node is not None:\n",
    "            result += self._str_helper(node.right, level + 1)\n",
    "            result += \"|  \" * level + str(node.value) + \"\\n\"\n",
    "            result += self._str_helper(node.left, level + 1)\n",
    "        return result\n"
   ]
  },
  {
   "cell_type": "markdown",
   "id": "678bfca8-755b-415f-b2f2-7bf67f9ed6a1",
   "metadata": {},
   "source": [
    "**Desglose de la implementación:**\n",
    "1. **Método `delete`**: Busca y elimina un nodo con un valor específico, manteniendo la estructura del árbol.\n",
    "2. **Método `_delete_recursive`**: Método auxiliar que realiza la lógica recursivamente.\n",
    "3. **Método `pop`**: Encuentra y elimina el nodo con el valor más pequeño , si se para el parametro `minimum` en False, encuentra y elimina el nodo con el valor mas grande\n",
    "4. **Método `_find_minimum`**: Encuentra el nodo con el valor mínimo en un subárbol dado.\n",
    "5. **Método `_find_miximum`**: Encuentra el nodo con el valor Maximo en un subárbol dado."
   ]
  },
  {
   "cell_type": "code",
   "execution_count": 142,
   "id": "44a7d391-f5ba-4507-a810-f3ba058274a7",
   "metadata": {},
   "outputs": [
    {
     "name": "stdout",
     "output_type": "stream",
     "text": [
      "Recorrido inorden: [2, 3, 4, 5, 6, 7, 8]\n"
     ]
    }
   ],
   "source": [
    "tree = BinaryTree()\n",
    "values = [5, 3, 7, 2, 4, 6, 8]\n",
    "for value in values:\n",
    "    tree.insert(value)\n",
    "\n",
    "print(\"Recorrido inorden:\", tree.in_order_traversal())"
   ]
  },
  {
   "cell_type": "code",
   "execution_count": 143,
   "id": "0ac09351-cc4d-49a2-9683-3ab6b21e16ff",
   "metadata": {},
   "outputs": [
    {
     "name": "stdout",
     "output_type": "stream",
     "text": [
      "|  |  8\n",
      "|  7\n",
      "|  |  6\n",
      "5\n",
      "|  |  4\n",
      "|  3\n",
      "|  |  2\n",
      "\n"
     ]
    }
   ],
   "source": [
    "print(tree)"
   ]
  },
  {
   "cell_type": "code",
   "execution_count": 144,
   "id": "078c1ffc-7403-426b-b6d4-db6eceb716cf",
   "metadata": {},
   "outputs": [
    {
     "name": "stdout",
     "output_type": "stream",
     "text": [
      "Recorrido inorden después de eliminar 5: [2, 3, 4, 6, 7, 8]\n"
     ]
    }
   ],
   "source": [
    "# Eliminar un nodo\n",
    "tree.delete(5)\n",
    "print(\"Recorrido inorden después de eliminar 5:\", tree.in_order_traversal())"
   ]
  },
  {
   "cell_type": "code",
   "execution_count": 140,
   "id": "b8964053-79cd-47af-a7ec-194c25fa9970",
   "metadata": {},
   "outputs": [
    {
     "name": "stdout",
     "output_type": "stream",
     "text": [
      "|  |  8\n",
      "|  7\n",
      "6\n",
      "|  |  4\n",
      "|  3\n",
      "|  |  2\n",
      "\n"
     ]
    }
   ],
   "source": [
    "print(tree)"
   ]
  },
  {
   "cell_type": "code",
   "execution_count": 145,
   "id": "10d30121-afb4-4fa9-8a44-64536cf3c6e4",
   "metadata": {},
   "outputs": [
    {
     "name": "stdout",
     "output_type": "stream",
     "text": [
      "Minimo elemento extraído: 2\n",
      "Recorrido inorden después de pop: [3, 4, 6, 7, 8]\n",
      "|  |  8\n",
      "|  7\n",
      "6\n",
      "|  |  4\n",
      "|  3\n",
      "\n"
     ]
    }
   ],
   "source": [
    "# Extraer el elemto minimo\n",
    "last_element = tree.pop()\n",
    "print(\"Minimo elemento extraído:\", last_element)\n",
    "print(\"Recorrido inorden después de pop:\", tree.in_order_traversal())\n",
    "print(tree)"
   ]
  },
  {
   "cell_type": "code",
   "execution_count": 146,
   "id": "d79ddd62-3b77-4c7d-a180-5422c44baeed",
   "metadata": {},
   "outputs": [
    {
     "name": "stdout",
     "output_type": "stream",
     "text": [
      "Maximo elemento extraído: 8\n",
      "Recorrido inorden después de pop: [3, 4, 6, 7]\n",
      "|  7\n",
      "6\n",
      "|  |  4\n",
      "|  3\n",
      "\n"
     ]
    }
   ],
   "source": [
    "# Extraer el elemto minimo\n",
    "last_element = tree.pop(False)\n",
    "print(\"Maximo elemento extraído:\", last_element)\n",
    "print(\"Recorrido inorden después de pop:\", tree.in_order_traversal())\n",
    "print(tree)"
   ]
  },
  {
   "cell_type": "markdown",
   "id": "0d55a712-c494-480e-a3ed-8c000844e70c",
   "metadata": {},
   "source": [
    "## ¿Que Impacto genera la recursión en la memoria?\n",
    "\n",
    "GPT : La recursión es una técnica comúnmente utilizada en la programación, especialmente en la manipulación de estructuras de datos como árboles. Sin embargo, tiene un impacto significativo en el uso de memoria, debido a la forma en que las llamadas recursivas se gestionan en la pila de llamadas (call stack).   \n",
    "\n",
    "Aquí hay algunos puntos clave sobre el impacto de la recursión en la memoria:"
   ]
  },
  {
   "cell_type": "markdown",
   "id": "102cbf68-f61f-4218-a53e-0f9169701d01",
   "metadata": {},
   "source": [
    "### 1. **Uso de la Pila de Llamadas**"
   ]
  },
  {
   "cell_type": "markdown",
   "id": "41e42736-c8ad-4a7b-afd1-4daf0b196ee7",
   "metadata": {},
   "source": [
    "Cada vez que se realiza una llamada recursiva, se agrega un nuevo marco de pila (stack frame) a la pila de llamadas. Cada marco de pila contiene:\n",
    "\n",
    "- Argumentos de la función.\n",
    "- Variables locales.\n",
    "- Información para regresar al contexto de la llamada anterior.\n",
    "\n",
    "Esto significa que si la profundidad de la recursión es muy alta (por ejemplo, en un árbol muy desequilibrado), se pueden agotar los r\n",
    "ecursos de la pila, llevando a un **desbordamiento de pila** (stack overflow)."
   ]
  },
  {
   "cell_type": "markdown",
   "id": "865374c0-843c-4353-bc04-92d64a44219a",
   "metadata": {},
   "source": [
    "### 2. **Profundidad de Recursión**\n",
    "- **Árboles Balanceados**: En un árbol binario balanceado, la profundidad de la recursión (y por lo tanto el uso de memoria) suele ser logarítmica, O(log n), donde n es el número de nodos. Esto se debe a que en cada nivel el número de nodos se duplica, llevando a una menor profundidad.\n",
    "  \n",
    "- **Árboles Desequilibrados**: En el caso de un árbol desequilibrado (por ejemplo, uno que se comporta como una lista enlazada), la profundidad puede llegar a ser O(n), lo que significa que se utilizará más memoria y habrá un mayor riesgo de desbordamiento de pila."
   ]
  },
  {
   "cell_type": "markdown",
   "id": "6bbf4582-93bf-4be1-a0ab-92eb0804a4d3",
   "metadata": {},
   "source": [
    "### 3. **Eficiencia de la Memoria**"
   ]
  },
  {
   "cell_type": "markdown",
   "id": "6e410f90-f7a5-45a2-9ef1-a8b294b04105",
   "metadata": {},
   "source": [
    "Cada vez que se hace una llamada recursiva, hay un costo adicional en términos de memoria, pero la recursión también tiene la ventaja de facilitar la implementación de ciertos algoritmos de manera más clara y expresiva. Sin embargo, este coste debe ser considerado, especialmente en problemas donde la profundidad de la recursión puede ser grande."
   ]
  },
  {
   "cell_type": "markdown",
   "id": "0322497a-b563-46e1-b05c-d144b4729411",
   "metadata": {},
   "source": [
    "### 4. **Alternativas a la Recursión**"
   ]
  },
  {
   "cell_type": "markdown",
   "id": "0a7a2eef-f925-4bbb-af58-8ed76b6ac639",
   "metadata": {},
   "source": [
    "Para evitar los problemas de uso de memoria asociados con la recursión, especialmente en situaciones donde la profundidad puede ser si\n",
    "gnificativa, se pueden considerar alternativas:\n",
    "\n",
    "- **Iteración**: Muchas de las técnicas que se pueden implementar de manera recursiva también se pueden implementar usando bucles iter\n",
    "ativos, utilizando pilas o colas para rastrear el estado.\n",
    "- **Recursión de Cola (Tail Recursion)**: Algunos lenguajes de programación optimizan la recursión de cola, que es una forma de recursión donde la llamada recursiva es la última operación en la función. Esto puede permitir la reutilización del marco de pila, aunque no todos los lenguajes (como Python) implementan esta optimización."
   ]
  },
  {
   "cell_type": "markdown",
   "id": "6e0ce203-6fb5-4f23-89fc-3e2e8b7aea58",
   "metadata": {},
   "source": [
    "### 5. **Gestión de la Memoria**"
   ]
  },
  {
   "cell_type": "markdown",
   "id": "16ef0ce7-1734-404e-9d00-27d695a87678",
   "metadata": {},
   "source": [
    "Algunos lenguajes de programación tienen un manejo de memoria más eficiente que otros cuando se trata de recursión. Por ejemplo, en Python, el límite de profundidad de recursión se puede ajustar, pero hay un límite que se debe considerar."
   ]
  },
  {
   "cell_type": "markdown",
   "id": "e79ce58f-4cd5-48f8-8e25-cb09ec691111",
   "metadata": {},
   "source": [
    "### Conclusión\n",
    "La recursión puede resultar una herramienta poderosa y elegante, especialmente en la manipulación de estructuras de datos como árboles. Sin embargo, es importante ser consciente del impacto que tiene en el uso de la memoria y considerar la posibilidad de desbordamiento de pila. Se debe elegir la técnica adecuada según el problema y la estructura de datos en particular. Si los datos o la profundidad de la recursión son grandes, métodos alternativos iterativos pueden ser más adecuados."
   ]
  },
  {
   "cell_type": "markdown",
   "id": "9bdfc87b-4570-4b21-85e0-3f58a06adf79",
   "metadata": {},
   "source": [
    "## Otro tema que me intriga es como puedo en un arbor tener Validación de entrada para evitar ataques.\n",
    "\n",
    "GPT : La validación de entrada es un aspecto crítico de la seguridad en el desarrollo de software. Al construir y manejar un árbol (por ejemplo, un árbol binario, un árbol de decisiones, etc.), la validación de la entrada puede ayudar a prevenir ataques comunes como la inyección de datos, los desbordamientos de búfer y otros problemas de seguridad. Aquí hay algunas estrategias y buenas prácticas que podrías considerar:"
   ]
  },
  {
   "cell_type": "markdown",
   "id": "a69a2566-9d36-474f-893c-7e2005340b5e",
   "metadata": {},
   "source": [
    "### Estrategias de Validación de Entrada"
   ]
  },
  {
   "cell_type": "markdown",
   "id": "76425d14-0042-462b-b276-e538b6c0d16a",
   "metadata": {},
   "source": [
    "1. **Tipos de Datos**: Asegúrate de que los datos ingresados sean del tipo esperado. Por ejemplo, si esperas un entero, verifica que l\n",
    "a entrada sea realmente un número entero.\n",
    "\n",
    "2. **Rango y Longitud**: Además de verificar el tipo de dato, asegúrate de que los valores estén dentro de un rango aceptable. Por eje\n",
    "mplo, si tus nodos solo pueden tener valores entre 1 y 100, valida que la entrada esté dentro de estos límites.\n",
    "\n",
    "3. **Formateo**: Si estás aceptando cadenas, verifica que estén en el formato correcto (por ejemplo, que no contengan caracteres especiales no deseados).\n",
    "\n",
    "4. **Escapado y Sanitización**: Siempre escapa o sanitiza los datos de entrada que se usarán en cualquier operación crítica. Por ejemplo, si estás trabajando con bases de datos, asegúrate de usar declaraciones preparadas para evitar inyecciones SQL.\n",
    "\n",
    "5. **Limitación de Tamaño**: Restrinje el tamaño de los datos de entrada. Por ejemplo, si un nodo puede contener una cadena, establece un límite de caracteres para evitar desbordamientos.\n",
    "\n",
    "6. **Manejo de Errores**: Implementa un manejo de errores adecuado para manejar entradas no válidas. Esto puede incluir lanzar excepciones o retornar mensajes de error claros.\n",
    "\n",
    "7. **Autenticación y Autorización**: Asegúrate de que los usuarios estén autenticados y autorizados para realizar acciones en el árbol."
   ]
  },
  {
   "cell_type": "markdown",
   "id": "4ba2e6a8-6254-473d-ab72-68eb4ac51885",
   "metadata": {},
   "source": [
    "### Ejemplo de Validación de Entrada en un Árbol Binario\n",
    "\n",
    "Aquí tienes un ejemplo sencillo de cómo incorporar la validación de entrada cuando se agrega un nuevo nodo a un árbol binario:"
   ]
  },
  {
   "cell_type": "code",
   "execution_count": null,
   "id": "6866c57d-3606-4ca4-a16e-fc7696eea03a",
   "metadata": {},
   "outputs": [],
   "source": [
    "class TreeNode:\n",
    "    def __init__(self, value):\n",
    "        if not isinstance(value, int):\n",
    "            raise ValueError(\"El valor debe ser un entero\")\n",
    "        if value < 1 or value > 100:\n",
    "            raise ValueError(\"El valor debe estar entre 1 y 100\")\n",
    "        \n",
    "        self.value = value\n",
    "        self.left = None\n",
    "        self.right = None\n",
    "\n",
    "class BinaryTree:\n",
    "    def __init__(self):\n",
    "        self.root = None\n",
    "\n",
    "    def insert(self, value):\n",
    "        if not isinstance(value, int):\n",
    "            raise ValueError(\"El valor debe ser un entero\")\n",
    "        if value < 1 or value > 100:\n",
    "            raise ValueError(\"El valor debe estar entre 1 y 100\")\n",
    "\n",
    "        if self.root is None:\n",
    "            self.root = TreeNode(value)\n",
    "        else:\n",
    "            self._insert_recursive(self.root, value)\n",
    "\n",
    "    def _insert_recursive(self, node, value):\n",
    "        if value < node.value:\n",
    "            if node.left is None:\n",
    "                node.left = TreeNode(value)\n",
    "            else:\n",
    "                self._insert_recursive(node.left, value)\n",
    "        else:\n",
    "            if node.right is None:\n",
    "                node.right = TreeNode(value)\n",
    "            else:\n",
    "                self._insert_recursive(node.right, value)\n"
   ]
  },
  {
   "cell_type": "markdown",
   "id": "c1e6dd7c-6ad9-484a-8311-a04d87a97a23",
   "metadata": {},
   "source": [
    "### Conclusión\n",
    "\n",
    "La validación de entrada es esencial en cualquier aplicación para prevenir vulnerabilidades de seguridad. Al implementar métodos de validación robustos en tu lógica de árbol, puedes proteger tu aplicación y sus datos de entradas maliciosas. Siempre recuerda probar tu sistema con entradas inesperadas o maliciosas para verificar cómo se comporta y qué medidas de seguridad son necesarias."
   ]
  },
  {
   "cell_type": "markdown",
   "id": "abfdad40-10d9-4cdb-a9ef-b3f4504a8d32",
   "metadata": {},
   "source": [
    "## Ejemplo practico\n",
    "___"
   ]
  },
  {
   "cell_type": "code",
   "execution_count": null,
   "id": "cb45d776-f398-43a3-8fa9-6a1cabb310cb",
   "metadata": {},
   "outputs": [],
   "source": []
  },
  {
   "cell_type": "markdown",
   "id": "9687b88c-6555-4ff0-8242-400ce6e66eef",
   "metadata": {},
   "source": [
    "Quiero un ejemplo practico con arboles binarios ej tengo una lista de amigos con sus cumpleaños y quiero ingresarlos en  un un arbol binaria para despues obtener la lista de las fechas, crees que ese ejemplo esta bien, si se te ocurre algo mas didactico decime.                               \n",
    "\n",
    "GPT : Claro, un árbol binario puede ser una manera efectiva de organizar datos, y tu idea de utilizarlo para almacenar amigos junto con sus cumpleaños es excelente. Voy a crear un ejemplo práctico en Python que te permitirá insertar amigos en un árbol binario basado en sus fechas de cumpleaños y luego realizar un recorrido inorden para obtener una lista ordenada de cumpleaños\n",
    "."
   ]
  },
  {
   "cell_type": "markdown",
   "id": "d5c8a50d-853d-4b56-931a-61ae109f6dff",
   "metadata": {},
   "source": [
    "### Concepto"
   ]
  },
  {
   "cell_type": "markdown",
   "id": "05533267-e1d8-46c5-86c5-4c6382e24960",
   "metadata": {},
   "source": [
    "1. **Estructura del Nodo**: Cada nodo contendrá el nombre de un amigo y su fecha de cumpleaños.\n",
    "2. **Inserción**: Los amigos se insertarán en el árbol en función de la fecha de cumpleaños, es decir, un nodo con una fecha d\n",
    "e cumpleaños anterior se insertará a la izquierda y uno con una fecha posterior a la derecha.\n",
    "3. **Recorrido Inorden**: Al recorrer el árbol inorden, obtendrás los cumpleaños en orden cronológico."
   ]
  },
  {
   "cell_type": "markdown",
   "id": "3d9651f5-2139-4839-ab87-7e3151261ed4",
   "metadata": {},
   "source": [
    "### Implementación"
   ]
  },
  {
   "cell_type": "markdown",
   "id": "5c98f38c-9844-4c2f-b327-3c749690a75c",
   "metadata": {},
   "source": [
    "Aquí tienes un ejemplo de cómo podría verse esto en Python:"
   ]
  },
  {
   "cell_type": "code",
   "execution_count": 147,
   "id": "4cd34266-3246-4507-876b-bf37eb159d58",
   "metadata": {},
   "outputs": [],
   "source": [
    "class Node:\n",
    "    def __init__(self, name, birthday):\n",
    "        self.name = name\n",
    "        self.birthday = birthday  # Date in format MM-DD\n",
    "        self.left = None\n",
    "        self.right = None\n",
    "\n",
    "class BirthdayTree:\n",
    "    def __init__(self):\n",
    "        self.root = None\n",
    "\n",
    "    def insert(self, name, birthday):\n",
    "        if not self.root:\n",
    "            self.root = Node(name, birthday)\n",
    "        else:\n",
    "            self._insert_recursively(self.root, name, birthday)\n",
    "\n",
    "    def _insert_recursively(self, current_node, name, birthday):\n",
    "        if birthday < current_node.birthday:\n",
    "            if current_node.left is None:\n",
    "                current_node.left = Node(name, birthday)\n",
    "            else:\n",
    "                self._insert_recursively(current_node.left, name, birthday)\n",
    "        else:\n",
    "            if current_node.right is None:\n",
    "                current_node.right = Node(name, birthday)\n",
    "            else:\n",
    "                self._insert_recursively(current_node.right, name, birthday)\n",
    "\n",
    "    def in_order_traversal(self, node):\n",
    "        if node is not None:\n",
    "            self.in_order_traversal(node.left)  # Visita izquierdo\n",
    "            print(f\"{node.name}: {node.birthday}\")  # Visita nodo\n",
    "            self.in_order_traversal(node.right)  # Visita derecho"
   ]
  },
  {
   "cell_type": "code",
   "execution_count": 148,
   "id": "65a6f89e-a965-499b-b32a-9f34a6252887",
   "metadata": {},
   "outputs": [],
   "source": [
    "tree = BirthdayTree()\n",
    "# Lista de amigos y sus cumpleaños\n",
    "amigos = [\n",
    "        (\"Alice\", \"05-17\"),\n",
    "        (\"Bob\", \"12-15\"),\n",
    "        (\"Charlie\", \"01-25\"),\n",
    "        (\"David\", \"07-30\"),\n",
    "        (\"Eve\", \"04-10\"),\n",
    "        (\"Frank\", \"08-22\")\n",
    "    ]\n",
    "   \n",
    "# Insertamos amigos en el árbol\n",
    "for name, birthday in amigos:\n",
    "    tree.insert(name, birthday)"
   ]
  },
  {
   "cell_type": "code",
   "execution_count": 149,
   "id": "ac6a9bab-a8cb-4c44-8bf5-6d25f1dd1d70",
   "metadata": {},
   "outputs": [
    {
     "name": "stdout",
     "output_type": "stream",
     "text": [
      "Lista de amigos con sus cumpleaños (ordenada por fecha):\n",
      "Charlie: 01-25\n",
      "Eve: 04-10\n",
      "Alice: 05-17\n",
      "David: 07-30\n",
      "Frank: 08-22\n",
      "Bob: 12-15\n"
     ]
    }
   ],
   "source": [
    "# Realizamos el recorrido inorden\n",
    "print(\"Lista de amigos con sus cumpleaños (ordenada por fecha):\")\n",
    "tree.in_order_traversal(tree.root)"
   ]
  },
  {
   "cell_type": "markdown",
   "id": "fa3049e6-f005-442f-9aa6-19aa6c450a2c",
   "metadata": {},
   "source": [
    "**Explicación**\n",
    "- **Inserción**: Como puedes ver, la función `insert` se encarga de colocar cada amigo en el lugar correcto del árbol según las fechas de cumpleaños.\n",
    "- **Recorrido Inorden**: A través de `in_order_traversal`, obtienes una lista ordenada de amigos con sus cumpleaños.\n",
    "\n",
    "**Opciones para mejorar**\n",
    "- **Validaciones**: Agregar validaciones para asegurar que las fechas son introducidas de manera correcta.\n",
    "- **Búsqueda**: Implementar una función para buscar un amigo específico por su cumpleaños.\n",
    "- **Eliminación**: Agregar funcionalidad para eliminar un amigo del árbol.\n",
    "\n",
    "Este enfoque es didáctico porque permite trabajar con un conjunto de datos (amigos y cumpleaños) que es relevante y fácil de entender."
   ]
  },
  {
   "cell_type": "markdown",
   "id": "842f567c-c963-4cb4-91ae-e49aad0e2ca2",
   "metadata": {},
   "source": [
    "___"
   ]
  },
  {
   "cell_type": "code",
   "execution_count": null,
   "id": "b9ef1724-5161-4233-9a4b-89ce5e746321",
   "metadata": {},
   "outputs": [],
   "source": []
  },
  {
   "cell_type": "markdown",
   "id": "98166c84-ba6e-4990-9b8b-06eb63700681",
   "metadata": {},
   "source": [
    "## ¿Que es un arbol balanceado?\n",
    "\n",
    "GPT : Un árbol balanceado es una estructura de datos en forma de árbol que mantiene una condición de equilibrio en sus nodos. Esto significa que las alturas de los subárboles izquierdo y derecho de cada nodo difieren en un valor limitado. La principal ventaja de un árbol balanceado es que permite operaciones de búsqueda, inserción y eliminación de manera más eficiente, ya que su altura se mantiene relativamente baja en comparación con un árbol desbalanceado."
   ]
  },
  {
   "cell_type": "markdown",
   "id": "64a3bb2c-a856-4bed-9258-b49ee01a3eef",
   "metadata": {},
   "source": [
    "Existen varios tipos de árboles balanceados, entre ellos:\n",
    "\n",
    "1. **Árboles AVL**: Mantienen un equilibrio estricto, asegurando que la diferencia de altura entre el subárbol izquierdo y el derecho \n",
    "de cualquier nodo no sea mayor que uno.\n",
    "\n",
    "2. **Árboles Rojo-Negro**: Utilizan un sistema de colores (rojo y negro) para asegurar que el árbol permanezca aproximado a un árbol b\n",
    "alanceado, permitiendo un cierto grado de desequilibrio.\n",
    "\n",
    "3. **Árboles Splay**: Se reestructuran a sí mismos con el fin de traer a la raíz los elementos que se han accedido más recientemente.\n",
    "\n",
    "4. **Árboles B**: Utilizados principalmente en sistemas de gestión de bases de datos y archivos, son árboles balanceados que mantienen\n",
    " sus nodos con múltiples claves y punteros.\n",
    "\n",
    "El balanceo en estos árboles permite que, en el peor de los casos, las operaciones complejas (como búsqueda, inserción y eliminación) se realicen en tiempo logarítmico, es decir, O(log n), donde n es el número de nodos en el árbol. Esto mejora significativamente la eficiencia del manejo de datos en comparación con árboles desbalanceados que pueden degenerar en listas vinculadas en algunos casos, llevando el tiempo de operación a O(n)."
   ]
  },
  {
   "cell_type": "markdown",
   "id": "ce26120e-ec87-4d81-98ed-2b0716163822",
   "metadata": {},
   "source": [
    "## Codigo de Arbol Binario AVL"
   ]
  },
  {
   "cell_type": "markdown",
   "id": "c98d4241-3897-4aa1-9267-5bd3090b16b7",
   "metadata": {},
   "source": [
    "Necesito que veas y comentes el siguiente codigo:"
   ]
  },
  {
   "cell_type": "code",
   "execution_count": 150,
   "id": "f6dadac2-ffde-4238-abed-2e33cbfbea69",
   "metadata": {},
   "outputs": [],
   "source": [
    "import threading\n",
    "\n",
    "class AVLNode:\n",
    "    # Constructor to initialize an AVL tree node.\n",
    "    def __init__(self, key):\n",
    "        self.left = None    # Pointer to the left child, initially None.\n",
    "        self.right = None   # Pointer to the right child, initially None.\n",
    "        self.val = key      # The value/key of the node.\n",
    "        self.height = 1     # The height of the node, initially 1 since it's a leaf when created.\n",
    "\n",
    "class AVLTree:\n",
    "    # Constructor to initialize an AVL tree.\n",
    "    def __init__(self):\n",
    "        self.root = None        # The root node of the tree, initially None.\n",
    "        self.tree_lock = threading.Lock()  # A lock to ensure thread-safe modifications.\n",
    "\n",
    "    # Public method to insert a key into the AVL tree.\n",
    "    def insert(self, key):\n",
    "        with self.tree_lock:  # Acquire the lock to ensure exclusive access for the operation.\n",
    "            self.root = self._insert(self.root, key)  # Start insertion from the root.\n",
    "\n",
    "    # Internal recursive method to handle the insertion logic.\n",
    "    def _insert(self, node, key):\n",
    "        if not node:\n",
    "            return AVLNode(key)  # Base case: return a new node if we reach a leaf position.\n",
    "\n",
    "        # Recursive case: navigate to the correct position in the tree.\n",
    "        if key < node.val:\n",
    "            node.left = self._insert(node.left, key)\n",
    "        else:\n",
    "            node.right = self._insert(node.right, key)\n",
    "\n",
    "        # After insertion, update the height of the current node.\n",
    "        node.height = 1 + max(self._get_height(node.left), self._get_height(node.right))\n",
    "\n",
    "        # Check and fix the balance of the tree if needed.\n",
    "        return self._rebalance(node, key)\n",
    "\n",
    "    # Method to delete a node with the specified key.\n",
    "    def delete(self, key):\n",
    "        with self.tree_lock:  # Acquire the lock to ensure exclusive access for the operation.\n",
    "            self.root = self._delete(self.root, key)  # Start deletion from the root.\n",
    "\n",
    "    # Internal recursive method to handle the deletion logic.\n",
    "    def _delete(self, node, key):\n",
    "        if not node:\n",
    "            return node  # Base case: if key isn't found, do nothing.\n",
    "\n",
    "        # Recursive deletion according to the key comparison.\n",
    "        if key < node.val:\n",
    "            node.left = self._delete(node.left, key)\n",
    "        elif key > node.val:\n",
    "            node.right = self._delete(node.right, key)\n",
    "        else:\n",
    "            # Handling the node with two children or one/no children.\n",
    "            if node.left is None:\n",
    "                return node.right\n",
    "            elif node.right is None:\n",
    "                return node.left\n",
    "\n",
    "            # Finding the smallest node in the right subtree to replace the current node.\n",
    "            temp = self._get_min_value_node(node.right)\n",
    "            node.val = temp.val\n",
    "            node.right = self._delete(node.right, temp.val)\n",
    "\n",
    "        # Update the height of the node and rebalance it.\n",
    "        return self._rebalance(node, None)\n",
    "\n",
    "    # Helper function to get the node with the minimum value (used in deletion).\n",
    "    def _get_min_value_node(self, node):\n",
    "        current = node\n",
    "        while current and current.left is not None:\n",
    "            current = current.left\n",
    "        return current\n",
    "\n",
    "    # Public method to search for a key in the tree.\n",
    "    def search(self, key):\n",
    "        with self.tree_lock:\n",
    "            return self._search(self.root, key)  # Start searching from the root.\n",
    "\n",
    "    # Internal recursive method to handle the search logic.\n",
    "    def _search(self, node, key):\n",
    "        # Base case: return the node if found, or None if not found.\n",
    "        if not node or node.val == key:\n",
    "            return node\n",
    "\n",
    "        # Navigate to the left or right subtree based on the key comparison.\n",
    "        if key < node.val:\n",
    "            return self._search(node.left, key)\n",
    "        else:\n",
    "            return self._search(node.right, key)\n",
    "\n",
    "    # Method to print all nodes in the tree in in-order sequence.\n",
    "    def print_in_order(self):\n",
    "        output = []\n",
    "        self._print_in_order(self.root, output)\n",
    "        return output\n",
    "\n",
    "    # Internal recursive method to collect values in in-order sequence.\n",
    "    def _print_in_order(self, node, output):\n",
    "        if node:\n",
    "            self._print_in_order(node.left, output)\n",
    "            output.append(node.val)\n",
    "            self._print_in_order(node.right, output)\n",
    "\n",
    "    # Utility method to get the height of a node.\n",
    "    def _get_height(self, node):\n",
    "        if not node:\n",
    "            return 0\n",
    "        return node.height\n",
    "\n",
    "    # Utility method to calculate the balance factor of a node.\n",
    "    def _get_balance(self, node):\n",
    "        if not node:\n",
    "            return"
   ]
  },
  {
   "cell_type": "markdown",
   "id": "975418f0-e38f-4660-a4f5-2775cafec252",
   "metadata": {},
   "source": [
    "GPT : Claro, aquí tienes un comentario sobre el código que proporcionaste, que implementa un árbol AVL en Python:"
   ]
  },
  {
   "cell_type": "markdown",
   "id": "f7f0fceb-49d8-43e1-8305-6b0deae34d49",
   "metadata": {},
   "source": [
    "### Descripción General"
   ]
  },
  {
   "cell_type": "markdown",
   "id": "ee2dcf74-d255-41e0-85ec-d327de2ef68a",
   "metadata": {},
   "source": [
    "El código define dos clases: `AVLNode` y `AVLTree`. La clase `AVLNode` representa un nodo en el árbol AVL, mientras que `AVLTree` implementa la estructura del árbol AVL, incluyendo operaciones de inserción, eliminación y búsqueda. Además, utiliza un mecanismo de bloqueo (threading.Lock) para asegurar que las modificaciones al árbol se realicen de manera segura en un entorno multihilo."
   ]
  },
  {
   "cell_type": "markdown",
   "id": "4a8c5835-7fc5-47c8-8447-496eefe8b316",
   "metadata": {},
   "source": [
    "### Detalle de las Clases y Métodos"
   ]
  },
  {
   "cell_type": "markdown",
   "id": "f42a8f10-551c-4a89-ae55-60549f7ff588",
   "metadata": {},
   "source": [
    "1. **Clase `AVLNode`:**\n",
    "   - Representa un nodo en el árbol AVL.\n",
    "   - Cada nodo contiene:\n",
    "     - `left` y `right`: punteros a los nodos hijo izquierdo y derecho, respectivamente.\n",
    "     - `val`: el valor del nodo.\n",
    "     - `height`: la altura del nodo, que se inicializa en 1 al crear un nodo hoja.\n",
    "2. **Clase `AVLTree`:**\n",
    "   - Inicializa el árbol con un puntero a la raíz (`root`) y un bloqueo (`tree_lock`) para asegurar la consistencia en operaciones multihilo.\n",
    "   **Métodos Principales:**\n",
    "   - `insert(self, key)`: \n",
    "     - Inserta una nueva clave en el árbol, bloqueando el acceso para evitar conflictos en un entorno concurrente.\n",
    "     - Utiliza el método interno `_insert` para realizar la inserción recursivamente y también para balancear el árbol después de la inserción.\n",
    "   - `_insert(self, node, key)`:\n",
    "     - Maneja la lógica de inserción recursiva, ajusta la altura del nodo actual y verifica si se requiere reequilibrar el árbol.\n",
    "   - `delete(self, key)`:\n",
    "     - Elimina un nodo con la clave especificada, asegurando que la operación sea segura en un entorno multihilo.\n",
    "     - Utiliza `_delete` para realizar la eliminación recursivamente.\n",
    "   - `_delete(self, node, key)`:\n",
    "     - Realiza la lógica de eliminación y ajusta el árbol, buscando elementos para reemplazar un nodo que se elimina (en caso de que t\n",
    "enga dos hijos, se reemplaza con el menor de la subárbol derecho).\n",
    "   - `search(self, key)`:\n",
    "     - Busca una clave en el árbol de manera segura para hilos.\n",
    "     - Utiliza `_search` para implementar la búsqueda recursiva.\n",
    "   - `_search(self, node, key)`:\n",
    "     - Maneja la lógica de búsqueda recursiva.\n",
    "   - `print_in_order(self)`:\n",
    "     - Método público que imprime todos los valores en el árbol en orden ascendente.\n",
    "     - Utiliza `_print_in_order` para recolectar los valores en secuencia in-order.\n",
    "   - `_print_in_order(self, node, output)`:\n",
    "     - Implementa la lógica de recolección recursiva de valores en orden.\n",
    "   - `_get_height(self, node)`:\n",
    "     - Devuelve la altura de un nodo (0 si es None).\n",
    "   - `_get_balance(self, node)`:\n",
    "     - Calcula el factor de balance de un nodo (se ha dejado incompleto en el código proporcionado, pero típicamente se haría restando\n",
    " la altura del subárbol izquierdo de la altura del subárbol derecho)."
   ]
  },
  {
   "cell_type": "markdown",
   "id": "f7d494f3-ce76-4226-840e-919ea135004d",
   "metadata": {},
   "source": [
    "### Consideraciones Finales"
   ]
  },
  {
   "cell_type": "markdown",
   "id": "ccf9b31c-170b-469d-b415-6fdf6fbf1180",
   "metadata": {},
   "source": [
    "- El uso de hilos y bloqueos garantiza que el árbol AVL maneje respuestas concurrentes, lo cual es crucial en aplicaciones donde múltiples procesos pueden modificar la estructura de datos simultáneamente.\n",
    "- Sin embargo, es importante asegurarse de que el método de reequilibrio (posiblemente mencionado en `_rebalance`, que no está completamente incluido en el código) también considere la mantención de la propiedad de equilibrio del árbol AVL, que requiere que las alturas de dos subárboles de cualquier nodo difieran en no más de uno. \n",
    "\n",
    "Este código es un muy buen comienzo para entender la estructura de datos de un árbol AVL en un contexto multihilo, aunque se debería completar cualquier parte que falte para garantizar su funcionalidad completa."
   ]
  },
  {
   "cell_type": "markdown",
   "id": "969e4c77-3751-49a9-a11b-2574eaa56e01",
   "metadata": {},
   "source": [
    "## Eres un ingeniero de software experto y un ingeniero de confiabilidad de sitios que pone código en producción en sistemas a gran escala. Completa la implentacion anterior generando docstrngs detallados en español con comentarios en linea. Despues genera ejemplos de uso del arbol.\n",
    "\n",
    "GPT : A continuación, te muestro un ejemplo básico de un **Árbol AVL**, que es un tipo de árbol auto-balanceado. Aquí te dejo la implementación:"
   ]
  },
  {
   "cell_type": "code",
   "execution_count": null,
   "id": "2a770dc6-9270-4948-876b-8e7d78d9cd10",
   "metadata": {},
   "outputs": [],
   "source": [
    "class NodoAVL:\n",
    "    \"\"\"\n",
    "    Clase que representa un nodo en un árbol AVL.\n",
    "\n",
    "    Atributos:\n",
    "    valor (int): El valor almacenado en el nodo.\n",
    "    izquierdo (NodoAVL): Referencia al subárbol izquierdo.\n",
    "    derecho (NodoAVL): Referencia al subárbol derecho.\n",
    "    altura (int): Altura del nodo.\n",
    "    \"\"\"\n",
    "\n",
    "    def __init__(self, valor):\n",
    "        \"\"\"Inicializa un nodo AVL con el valor dado y sin hijos.\"\"\"\n",
    "        self.valor = valor\n",
    "        self.izquierdo = None\n",
    "        self.derecho = None\n",
    "        self.altura = 1  # Inicialmente, la altura es 1 para nodos hoja.\n",
    "\n",
    "\n",
    "class ArbolAVL:\n",
    "    \"\"\"\n",
    "    Clase que representa un Árbol AVL.\n",
    "\n",
    "    Métodos:\n",
    "    insertar(valor): Inserta un nuevo valor en el árbol.\n",
    "    buscar(valor): Busca un valor en el árbol, devuelve True si se encuentra, False de lo contrario.\n",
    "    recorrido_inorden(): Realiza un recorrido inorden del árbol y retorna una lista de valores.\n",
    "    \"\"\"\n",
    "\n",
    "    def __init__(self):\n",
    "        \"\"\"Inicializa el árbol AVL vacío.\"\"\"\n",
    "        self.raiz = None\n",
    "\n",
    "    def insertar(self, valor):\n",
    "        \"\"\"\n",
    "        Inserta un nuevo valor en el árbol AVL y reequilibra si es necesario.\n",
    "\n",
    "        Args:\n",
    "        valor (int): El valor a insertar en el árbol.\n",
    "        \"\"\"\n",
    "        self.raiz = self._insertar_recursivo(self.raiz, valor)\n",
    "\n",
    "    def _insertar_recursivo(self, nodo, valor):\n",
    "        \"\"\"\n",
    "        Método recursivo para insertar un nuevo valor en el subárbol.\n",
    "\n",
    "        Args:\n",
    "        nodo (NodoAVL): El nodo actual del que se está procesando.\n",
    "        valor (int): El valor a insertar.\n",
    "\n",
    "        Returns:\n",
    "        NodoAVL: El nodo actualizado después de la inserción.\n",
    "        \"\"\"\n",
    "        if not nodo:\n",
    "            return NodoAVL(valor)\n",
    "\n",
    "        if valor < nodo.valor:\n",
    "            nodo.izquierdo = self._insertar_recursivo(nodo.izquierdo, valor)\n",
    "        elif valor > nodo.valor:\n",
    "            nodo.derecho = self._insertar_recursivo(nodo.derecho, valor)\n",
    "        else:\n",
    "            return nodo  # Duplicados no se permiten.\n",
    "\n",
    "        # Actualizar la altura del nodo actual.\n",
    "        nodo.altura = 1 + max(self._altura(nodo.izquierdo), self._altura(nodo.derecho))\n",
    "\n",
    "        # Obtener el factor de balance para verificar si este nodo se volvió desbalanceado.\n",
    "        factor_balance = self._balance(nodo)\n",
    "\n",
    "        # Si el nodo se volvió desbalanceado, se ejecutan las 4 condiciones.\n",
    "\n",
    "        # Izquierda Izquierda\n",
    "        if factor_balance > 1 and valor < nodo.izquierdo.valor:\n",
    "            return self._rotar_derecha(nodo)\n",
    "\n",
    "        # Derecha Derecha\n",
    "        if factor_balance < -1 and valor > nodo.derecho.valor:\n",
    "            return self._rotar_izquierda(nodo)\n",
    "\n",
    "        # Izquierda Derecha\n",
    "        if factor_balance > 1 and valor > nodo.izquierdo.valor:\n",
    "            nodo.izquierdo = self._rotar_izquierda(nodo.izquierdo)\n",
    "            return self._rotar_derecha(nodo)\n",
    "\n",
    "        # Derecha Izquierda\n",
    "        if factor_balance < -1 and valor < nodo.derecho.valor:\n",
    "            nodo.derecho = self._rotar_derecha(nodo.derecho)\n",
    "            return self._rotar_izquierda(nodo)\n",
    "\n",
    "        return nodo\n",
    "\n",
    "    def _rotar_derecha(self, nodo):\n",
    "        \"\"\"\n",
    "        Realiza una rotación a la derecha en el nodo dado.\n",
    "\n",
    "        Args:\n",
    "        nodo (NodoAVL): El nodo sobre el que se realiza la rotación.\n",
    "\n",
    "        Returns:\n",
    "        NodoAVL: Nuevo nodo raíz del subárbol después de la rotación.\n",
    "        \"\"\"\n",
    "        nodo_izquierdo = nodo.izquierdo\n",
    "        nodo.izquierdo = nodo_izquierdo.derecho\n",
    "        nodo_izquierdo.derecho = nodo\n",
    "\n",
    "        # Actualizar alturas\n",
    "        nodo.altura = 1 + max(self._altura(nodo.izquierdo), self._altura(nodo.derecho))\n",
    "        nodo_izquierdo.altura = 1 + max(self._altura(nodo_izquierdo.izquierdo), self._altura(nodo_izquierdo.derecho))\n",
    "\n",
    "        return nodo_izquierdo\n",
    "\n",
    "    def _rotar_izquierda(self, nodo):\n",
    "        \"\"\"\n",
    "        Realiza una rotación a la izquierda en el nodo dado.\n",
    "\n",
    "        Args:\n",
    "        nodo (NodoAVL): El nodo sobre el que se realiza la rotación.\n",
    "\n",
    "        Returns:\n",
    "        NodoAVL: Nuevo nodo raíz del subárbol después de la rotación.\n",
    "        \"\"\"\n",
    "        nodo_derecho = nodo.derecho\n",
    "        nodo.derecho = nodo_derecho.izquierdo\n",
    "        nodo_derecho.izquierdo = nodo\n",
    "\n",
    "        # Actualizar alturas\n",
    "        nodo.altura = 1 + max(self._altura(nodo.izquierdo), self._altura(nodo.derecho))\n",
    "        nodo_derecho.altura = 1 + max(self._altura(nodo_derecho.izquierdo), self._altura(nodo_derecho.derecho))\n",
    "\n",
    "        return nodo_derecho\n",
    "\n",
    "    def _altura(self, nodo):\n",
    "        \"\"\"Devuelve la altura del nodo o 0 si es None.\"\"\"\n",
    "        if not nodo:\n",
    "            return 0\n",
    "        return nodo.altura\n",
    "\n",
    "    def _balance(self, nodo):\n",
    "        \"\"\"Devuelve el factor de balance del nodo.\"\"\"\n",
    "        if not nodo:\n",
    "            return 0\n",
    "        return self._altura(nodo.izquierdo) - self._altura(nodo.derecho)\n",
    "\n",
    "    def buscar(self, valor):\n",
    "        \"\"\"\n",
    "        Busca un valor en el árbol AVL.\n",
    "\n",
    "        Args:\n",
    "        valor (int): El valor a buscar.\n",
    "\n",
    "        Returns:\n",
    "        bool: True si el valor se encuentra, False en caso contrario.\n",
    "        \"\"\"\n",
    "        return self._buscar_recursivo(self.raiz, valor)\n",
    "\n",
    "    def _buscar_recursivo(self, nodo, valor):\n",
    "        \"\"\"Método recursivo para buscar un valor en el subárbol.\"\"\"\n",
    "        if nodo is None:\n",
    "            return False\n",
    "        if valor == nodo.valor:\n",
    "            return True\n",
    "        elif valor < nodo.valor:\n",
    "            return self._buscar_recursivo(nodo.izquierdo, valor)\n",
    "        else:\n",
    "            return self._buscar_recursivo(nodo.derecho, valor)\n",
    "\n",
    "    def recorrido_inorden(self):\n",
    "        \"\"\"\n",
    "        Realiza un recorrido inorden del árbol y retorna una lista de valores.\n",
    "\n",
    "        Returns:\n",
    "        list: Lista de valores en orden creciente.\n",
    "        \"\"\"\n",
    "        resultado = []\n",
    "        self._recorrido_inorden_recursivo(self.raiz, resultado)\n",
    "        return resultado\n",
    "\n",
    "    def _recorrido_inorden_recursivo(self, nodo, resultado):\n",
    "        \"\"\"Método recursivo para realizar un recorrido inorden.\"\"\"\n",
    "        if nodo is not None:\n",
    "            self._recorrido_inorden_recursivo(nodo.izquierdo, resultado)\n",
    "            resultado.append(nodo.valor)\n",
    "            self._recorrido_inorden_recursivo(nodo.derecho, resultado)"
   ]
  },
  {
   "cell_type": "code",
   "execution_count": null,
   "id": "8e322204-1df0-4912-b90e-d558a7acabd3",
   "metadata": {},
   "outputs": [],
   "source": [
    "# Ejemplo de uso del Árbol AVL\n",
    "arbol_avl = ArbolAVL()\n",
    "\n",
    "# Insertar valores\n",
    "for valor in [10, 20, 30, 40, 50, 25]:\n",
    "    arbol_avl.insertar(valor)\n",
    "\n",
    "# Recorrido inorden\n",
    "print(\"Recorrido inorden del árbol AVL:\", arbol_avl.recorrido_inorden())\n",
    "\n",
    "# Buscar valores\n",
    "print(arbol_avl.buscar(25))  # Debería retornar True\n",
    "print(arbol_avl.buscar(100))  # Debería retornar False"
   ]
  },
  {
   "cell_type": "markdown",
   "id": "584d29df-3ac1-489f-91b4-45dcb4e7821e",
   "metadata": {},
   "source": [
    "### Notas:"
   ]
  },
  {
   "cell_type": "markdown",
   "id": "e8eb3204-9952-4985-8bda-578d0a57d08d",
   "metadata": {},
   "source": [
    "- Esta implementación de un árbol AVL mantiene el balance después de cada inserción y permite búsquedas eficientes.\n",
    "- Puedes observar cómo se realizan las rotaciones para mantener el equilibrio del árbol al insertarse un nuevo nodo.\n",
    "- Además de la inserción, el código sigue permitiendo buscar y hacer un recorrido en orden, manteniendo la estructura del árbol AVL.\n",
    "- Al igual que el anterior, este código está diseñado para ser legible y contiene `docstrings` y comentarios que explican su funcional\n",
    "idad."
   ]
  },
  {
   "cell_type": "markdown",
   "id": "bd6db2e8-4587-4b47-8e92-5548fc532da6",
   "metadata": {},
   "source": [
    "##  No agregaste validacion y compatibilidad con multihilos \n",
    "\n",
    "GPT : Agregar validación y compatibilidad con multihilos a un árbol AVL es fundamental cuando se espera que múltiples hilos puedan acc\n",
    "eder a la estructura de datos al mismo tiempo. Para ello, se puede usar un bloqueo (lock) para garantizar que solo un hilo acceda a la\n",
    "s operaciones de modificación (como inserciones y eliminaciones) a la vez.\n",
    "\n",
    "A continuación, te presento una versión del árbol AVL que incluye validaciones básicas (para evitar insertar valores duplicados) y com\n",
    "patibilidad con multihilos usando `threading.Lock`:"
   ]
  },
  {
   "cell_type": "code",
   "execution_count": 160,
   "id": "ffd0f80b-a06f-4fd4-97a0-34a5678218b0",
   "metadata": {},
   "outputs": [],
   "source": [
    "import threading\n",
    "\n",
    "class NodoAVL:\n",
    "    \"\"\"Clase que representa un nodo en un árbol AVL.\"\"\"\n",
    "    def __init__(self, valor):\n",
    "        \"\"\"Inicializa un nodo AVL con el valor dado y sin hijos.\"\"\"\n",
    "        self.valor = valor\n",
    "        self.izquierdo = None\n",
    "        self.derecho = None\n",
    "        self.altura = 1  # Inicialmente, la altura es 1 para nodos hoja.\n",
    "\n",
    "class ArbolAVL:\n",
    "    \"\"\"Clase que representa un Árbol AVL.\"\"\"\n",
    "    def __init__(self):\n",
    "        \"\"\"Inicializa el árbol AVL vacío y el bloqueo.\"\"\"\n",
    "        self.raiz = None\n",
    "        self.lock = threading.Lock()\n",
    "\n",
    "    def insertar(self, valor):\n",
    "        \"\"\"\n",
    "        Inserta un nuevo valor en el árbol AVL y reequilibra si es necesario.\n",
    "        \n",
    "        Args:\n",
    "        valor (int): El valor a insertar en el árbol.\n",
    "        \"\"\"\n",
    "        with self.lock: # Bloqueo para operaciones seguras en multihilos\n",
    "            if not self._buscar(self.raiz, valor):\n",
    "                self.raiz = self._insertar_recursivo(self.raiz, valor)\n",
    "\n",
    "    def _insertar_recursivo(self, nodo, valor):\n",
    "        \"\"\"Método recursivo para insertar un nuevo valor en el subárbol.\"\"\"\n",
    "        if not nodo:\n",
    "            return NodoAVL(valor)\n",
    "\n",
    "        if valor < nodo.valor:\n",
    "            nodo.izquierdo = self._insertar_recursivo(nodo.izquierdo, valor)\n",
    "        elif valor > nodo.valor:\n",
    "            nodo.derecho = self._insertar_recursivo(nodo.derecho, valor)\n",
    "        else:\n",
    "            return nodo  # No se permiten duplicados.\n",
    "\n",
    "        nodo.altura = 1 + max(self._altura(nodo.izquierdo), self._altura(nodo.derecho))\n",
    "        factor_balance = self._balance(nodo)\n",
    "\n",
    "        # Rotaciones para mantener el equilibrio\n",
    "        if factor_balance > 1 and valor < nodo.izquierdo.valor:\n",
    "            return self._rotar_derecha(nodo)\n",
    "        if factor_balance < -1 and valor > nodo.derecho.valor:\n",
    "            return self._rotar_izquierda(nodo)\n",
    "        if factor_balance > 1 and valor > nodo.izquierdo.valor:\n",
    "            nodo.izquierdo = self._rotar_izquierda(nodo.izquierdo)\n",
    "            return self._rotar_derecha(nodo)\n",
    "        if factor_balance < -1 and valor < nodo.derecho.valor:\n",
    "            nodo.derecho = self._rotar_derecha(nodo.derecho)\n",
    "            return self._rotar_izquierda(nodo)\n",
    "\n",
    "        return nodo\n",
    "\n",
    "    def _rotar_derecha(self, nodo):\n",
    "        \"\"\"Realiza una rotación a la derecha en el nodo dado.\"\"\"\n",
    "        nodo_izquierdo = nodo.izquierdo\n",
    "        nodo.izquierdo = nodo_izquierdo.derecho\n",
    "        nodo_izquierdo.derecho = nodo\n",
    "\n",
    "        # Actualizar alturas\n",
    "        nodo.altura = 1 + max(self._altura(nodo.izquierdo), self._altura(nodo.derecho))\n",
    "        nodo_izquierdo.altura = 1 + max(self._altura(nodo_izquierdo.izquierdo), self._altura(nodo_izquierdo.derecho))\n",
    "\n",
    "        return nodo_izquierdo\n",
    "\n",
    "    def _rotar_izquierda(self, nodo):\n",
    "        \"\"\"Realiza una rotación a la izquierda en el nodo dado.\"\"\"\n",
    "        nodo_derecho = nodo.derecho\n",
    "        nodo.derecho = nodo_derecho.izquierdo\n",
    "        nodo_derecho.izquierdo = nodo\n",
    "        \n",
    "        # Actualizar alturas\n",
    "        nodo.altura = 1 + max(self._altura(nodo.izquierdo), self._altura(nodo.derecho))\n",
    "        nodo_derecho.altura = 1 + max(self._altura(nodo_derecho.izquierdo), self._altura(nodo_derecho.derecho))\n",
    "\n",
    "        return nodo_derecho\n",
    "\n",
    "    def _altura(self, nodo):\n",
    "        \"\"\"Devuelve la altura del nodo o 0 si es None.\"\"\"\n",
    "        if not nodo:\n",
    "            return 0\n",
    "        return nodo.altura\n",
    "\n",
    "    def _balance(self, nodo):\n",
    "        \"\"\"Devuelve el factor de balance del nodo.\"\"\"\n",
    "        if not nodo:\n",
    "            return 0\n",
    "        return self._altura(nodo.izquierdo) - self._altura(nodo.derecho)\n",
    "\n",
    "    def buscar(self, valor):\n",
    "        \"\"\"\n",
    "        Busca un valor en el árbol AVL.\n",
    "\n",
    "        Args:\n",
    "        valor (int): El valor a buscar.\n",
    "\n",
    "        Returns:\n",
    "        bool: True si el valor se encuentra, False en caso contrario.\n",
    "        \"\"\"\n",
    "        with self.lock:  # Bloqueo para garantizar seguridad en el hilo\n",
    "            return self._buscar(self.raiz, valor)\n",
    "\n",
    "    def _buscar(self, nodo, valor):\n",
    "        \"\"\"Método recursivo para buscar un valor en el subárbol.\"\"\"\n",
    "        if nodo is None:\n",
    "            return False\n",
    "        if valor == nodo.valor:\n",
    "            return True\n",
    "        elif valor < nodo.valor:\n",
    "            return self._buscar(nodo.izquierdo, valor)\n",
    "        else:\n",
    "            return self._buscar(nodo.derecho, valor)\n",
    "\n",
    "    def recorrido_inorden(self):\n",
    "        \"\"\"\n",
    "        Realiza un recorrido inorden del árbol y retorna una lista de valores.\n",
    "\n",
    "        Returns:\n",
    "        list: Lista de valores en orden creciente.\n",
    "        \"\"\"\n",
    "        with self.lock:  # Bloqueo para garantizar seguridad en el hilo\n",
    "            resultado = []\n",
    "            self._recorrido_inorden_recursivo(self.raiz, resultado)\n",
    "            return resultado\n",
    "\n",
    "    def _recorrido_inorden_recursivo(self, nodo, resultado):\n",
    "        \"\"\"Método recursivo para realizar un recorrido inorden.\"\"\"\n",
    "        if nodo is not None:\n",
    "            self._recorrido_inorden_recursivo(nodo.izquierdo, resultado)\n",
    "            resultado.append(nodo.valor)\n",
    "            self._recorrido_inorden_recursivo(nodo.derecho, resultado)\n",
    "\n",
    "    def __str__(self):\n",
    "        # Método que devuelve una representación del árbol\n",
    "        return self._str_helper(self.raiz, 0)\n",
    "\n",
    "    def _str_helper(self, node, level):\n",
    "        result = \"\"\n",
    "        if node is not None:\n",
    "            result += self._str_helper(node.derecho, level + 1)\n",
    "            result += \"|  \" * level + str(node.valor) + \"\\n\"\n",
    "            result += self._str_helper(node.izquierdo, level + 1)\n",
    "        return result\n",
    "    "
   ]
  },
  {
   "cell_type": "code",
   "execution_count": 161,
   "id": "6beff44a-465d-420a-8ffa-a1187149edd9",
   "metadata": {},
   "outputs": [],
   "source": [
    "# Ejemplo de uso del Árbol AVL\n",
    "arbol_avl = ArbolAVL()\n",
    "\n",
    "# Insertar valores en un hilo\n",
    "def insertar_valores(valores):\n",
    "    for valor in valores:\n",
    "        arbol_avl.insertar(valor)"
   ]
  },
  {
   "cell_type": "code",
   "execution_count": 163,
   "id": "d73547ae-98a8-4e0d-9efd-fb491db648a5",
   "metadata": {},
   "outputs": [
    {
     "name": "stdout",
     "output_type": "stream",
     "text": [
      "Recorrido inorden del árbol AVL: [10, 15, 20, 25, 30, 35, 40, 50]\n",
      "|  |  50\n",
      "|  40\n",
      "|  |  35\n",
      "30\n",
      "|  |  25\n",
      "|  20\n",
      "|  |  |  15\n",
      "|  |  10\n",
      "\n"
     ]
    }
   ],
   "source": [
    "# Uso de múltiples hilos para insertar valores\n",
    "hilo1 = threading.Thread(target=insertar_valores, args=([10, 20, 30, 40],))\n",
    "hilo2 = threading.Thread(target=insertar_valores, args=([50, 25, 35, 15],))\n",
    "\n",
    "hilo1.start()\n",
    "hilo2.start()\n",
    "\n",
    "hilo1.join()\n",
    "hilo2.join()\n",
    "\n",
    "# Recorrido inorden\n",
    "print(\"Recorrido inorden del árbol AVL:\", arbol_avl.recorrido_inorden())\n",
    "print(arbol_avl)"
   ]
  },
  {
   "cell_type": "code",
   "execution_count": 164,
   "id": "70b9e364-06a5-4df8-b274-f613e645ad86",
   "metadata": {},
   "outputs": [
    {
     "name": "stdout",
     "output_type": "stream",
     "text": [
      "True\n",
      "False\n"
     ]
    }
   ],
   "source": [
    "# Buscar valores\n",
    "print(arbol_avl.buscar(25))  # Debería retornar True\n",
    "print(arbol_avl.buscar(100))  # Debería retornar False"
   ]
  },
  {
   "cell_type": "markdown",
   "id": "eceff68d-e7f9-48fd-9fee-9441d37ac030",
   "metadata": {},
   "source": [
    "### Cambios Realizados:\n",
    "1. **Uso de `threading.Lock`:** Se creó un objeto `lock` para asegurar que las operaciones de modificación (inserción y búsqueda) sean\n",
    " seguras en entornos multihilo. Esto evita problemas de concurrencia.\n",
    "\n",
    "2. **Validaciones Duplicadas:** Se añadió un chequeo para evitar la inserción de valores duplicados en el árbol al acceder al método `\n",
    "insertar`.\n",
    "\n",
    "3. **Ejemplo de Uso con Múltiples Hilos:** Se proporciona un ejemplo donde dos hilos intentan insertar valores al árbol simultáneamente."
   ]
  },
  {
   "cell_type": "markdown",
   "id": "f1ad14df-e508-44f9-a5a3-95ecf396e746",
   "metadata": {},
   "source": [
    "### Notas:\n",
    "- Esta implementación es básica y se puede ampliar para incluir otras funciones como la eliminación, aplicando un enfoque similar con \n",
    "bloqueos.\n",
    "- Los árboles AVL aseguran operaciones de búsqueda, inserción y eliminación más eficientes que los árboles de búsqueda binarios simple\n",
    "s, manteniendo el tiempo de complejidad en O(log n) en operaciones promedio."
   ]
  },
  {
   "cell_type": "code",
   "execution_count": null,
   "id": "d5ae703c-4a5f-4753-a662-21488158ec1f",
   "metadata": {},
   "outputs": [],
   "source": []
  }
 ],
 "metadata": {
  "kernelspec": {
   "display_name": "Python 3 (ipykernel)",
   "language": "python",
   "name": "python3"
  },
  "language_info": {
   "codemirror_mode": {
    "name": "ipython",
    "version": 3
   },
   "file_extension": ".py",
   "mimetype": "text/x-python",
   "name": "python",
   "nbconvert_exporter": "python",
   "pygments_lexer": "ipython3",
   "version": "3.10.4"
  }
 },
 "nbformat": 4,
 "nbformat_minor": 5
}
