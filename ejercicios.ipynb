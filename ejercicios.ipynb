{
 "cells": [
  {
   "cell_type": "markdown",
   "id": "8488979b-b96f-4232-85eb-5079607f50e0",
   "metadata": {},
   "source": [
    "___"
   ]
  },
  {
   "cell_type": "markdown",
   "id": "82e0db3a-c6ee-473d-a2ca-34786fdeaf43",
   "metadata": {},
   "source": [
    "Escriba una función Python llamada calculate_area que tome como argumento radio. La función debe calcular el área de un círculo dado el radio.\n",
    "\n",
    "Asegúrese de que la función maneja entradas no numéricas lanzando un ValueError con el mensaje \"La entrada debe ser un valor numérico\". Tambien que si el radio es menor de 0 lanze un ValueError con el mensaje \"el radio no puede ser negativo\" en los casos muestre el valor recibido Incluya comentarios en el código que expliquen cada paso."
   ]
  },
  {
   "cell_type": "code",
   "execution_count": 2,
   "id": "36389b9a-4a60-4bc4-8e43-a6bca5fcefe2",
   "metadata": {},
   "outputs": [],
   "source": [
    "import math\n",
    "\n",
    "def calculate_area(radio):\n",
    "    \"\"\"\n",
    "    Calcula el área de un círculo dado su radio.\n",
    "    \n",
    "    Parámetros:\n",
    "    radio (float o int): El radio del círculo.\n",
    "    \n",
    "    Retorna:\n",
    "    float: El área del círculo.\n",
    "    \n",
    "    Lanza:\n",
    "    ValueError: Si la entrada no es numérica o si el radio es negativo.\n",
    "    \"\"\"\n",
    "    # Verificar si la entrada es un número\n",
    "    if not isinstance(radio, (int, float)):\n",
    "        raise ValueError(f\"La entrada debe ser un valor numérico. Valor recibido: {radio}\")\n",
    "    \n",
    "    # Verificar si el radio es negativo\n",
    "    if radio < 0:\n",
    "        raise ValueError(f\"El radio no puede ser negativo. Valor recibido: {radio}\")\n",
    "    \n",
    "    # Calcular el área del círculo usando la fórmula A = πr²\n",
    "    area = math.pi * (radio ** 2)\n",
    "    return area"
   ]
  },
  {
   "cell_type": "code",
   "execution_count": 3,
   "id": "4fa54222-7e3e-47c5-b4e2-44f0ab3df49d",
   "metadata": {},
   "outputs": [
    {
     "name": "stdout",
     "output_type": "stream",
     "text": [
      "El área del círculo es: 78.54\n"
     ]
    }
   ],
   "source": [
    "# Ejemplo de uso\n",
    "try:\n",
    "    resultado = calculate_area(5)\n",
    "    print(f\"El área del círculo es: {resultado:.2f}\")\n",
    "except ValueError as e:\n",
    "    print(e)"
   ]
  },
  {
   "cell_type": "markdown",
   "id": "5df292a0-f4bd-442f-bc48-004491910be5",
   "metadata": {},
   "source": [
    "Este código garantiza que solo se acepten valores numéricos y no negativos como radio. Si la entrada es inválida, se lanza un ValueError con un mensaje descriptivo."
   ]
  },
  {
   "cell_type": "markdown",
   "id": "17baf748-b701-4f7a-a4a3-59ccd2813be3",
   "metadata": {},
   "source": [
    "___"
   ]
  },
  {
   "cell_type": "markdown",
   "id": "b65eea44-509c-40c8-84be-053db53e1fef",
   "metadata": {},
   "source": [
    "hola tengo el siguiente código :\n",
    "```python\n",
    "import requests\n",
    "\n",
    "def descargar_archivo(url, nombre_archivo):\n",
    "    respuesta = requests.get(url)\n",
    "    with open(nombre_archivo, 'wb') as archivo:\n",
    "        archivo.write(respuesta.content)\n",
    "```\n",
    "necesitaria un head para evitar los bloqueos y permitir descargar documentos de texto plano tambien."
   ]
  },
  {
   "cell_type": "markdown",
   "id": "ccb2acf2-579c-44f8-ad30-161533e98146",
   "metadata": {},
   "source": [
    "Puedes agregar un encabezado User-Agent para evitar bloqueos y verificar el tipo de contenido antes de guardar el archivo. Aquí tienes la versión mejorada:"
   ]
  },
  {
   "cell_type": "code",
   "execution_count": null,
   "id": "726f54d9-300d-41de-9502-7d5e30c87947",
   "metadata": {},
   "outputs": [],
   "source": [
    "import requests\n",
    "\n",
    "def descargar_archivo(url, nombre_archivo):\n",
    "    headers = {\n",
    "        \"User-Agent\": \"Mozilla/5.0 (Windows NT 10.0; Win64; x64) AppleWebKit/537.36 (KHTML, like Gecko) Chrome/91.0.4472.124 Safari/537.36\"\n",
    "    }\n",
    "    \n",
    "    respuesta = requests.get(url, headers=headers)\n",
    "    \n",
    "    if respuesta.status_code == 200:\n",
    "        # Detecta si el contenido es texto plano\n",
    "        content_type = respuesta.headers.get(\"Content-Type\", \"\")\n",
    "        modo = \"wb\" if \"text\" not in content_type else \"w\"\n",
    "        \n",
    "        with open(nombre_archivo, modo) as archivo:\n",
    "            archivo.write(respuesta.content if \"text\" not in content_type else respuesta.text)\n",
    "        print(f\"Archivo guardado como: {nombre_archivo}\")\n",
    "    else:\n",
    "        print(f\"Error al descargar: {respuesta.status_code}\")\n",
    "\n",
    "# Ejemplo de uso\n",
    "# descargar_archivo(\"https://ejemplo.com/archivo.txt\", \"archivo.txt\")"
   ]
  },
  {
   "cell_type": "markdown",
   "id": "f033a3e3-e6d7-40f7-82be-6bbfd12eaede",
   "metadata": {},
   "source": [
    "## Mejoras:\n",
    "\n",
    "1. Evita bloqueos:\n",
    "   \n",
    "     Se añade un User-Agent para hacer que la solicitud parezca provenir de un navegador real.\n",
    "\n",
    "2. Manejo de contenido:\n",
    "  \n",
    "     Si el archivo es de texto (text/plain, text/html, etc.), se guarda en modo \"w\" en lugar de binario.\n",
    "\n",
    "3. Manejo de errores:\n",
    "\n",
    "     Verifica el código de estado antes de guardar."
   ]
  },
  {
   "cell_type": "markdown",
   "id": "24c16305-9f1a-4736-8b93-c40746ffbf61",
   "metadata": {},
   "source": [
    "___"
   ]
  },
  {
   "cell_type": "markdown",
   "id": "d64410d0-6637-4f94-a97e-799de8407fb8",
   "metadata": {},
   "source": [
    "Genera Documentacion y comentarios para el siguiente código:\n",
    "```python \n",
    "def unicos_con_orden(items): \n",
    "    def _unicos(items): \n",
    "        seen = set() \n",
    "        for item in items: \n",
    "            if item not in seen: \n",
    "                  yield item \n",
    "                 seen.add(item) \n",
    "    return list(_unicos(items))\n",
    "```"
   ]
  },
  {
   "cell_type": "markdown",
   "id": "05573125-5e61-4f75-b49e-cce96656dde2",
   "metadata": {},
   "source": [
    "Aquí tienes la documentación y los comentarios para tu código:"
   ]
  },
  {
   "cell_type": "code",
   "execution_count": 8,
   "id": "238db72c-0258-47c3-9b29-1b8705afc376",
   "metadata": {},
   "outputs": [],
   "source": [
    "def unicos_con_orden(items):\n",
    "    \"\"\"\n",
    "    Elimina los elementos duplicados de una secuencia mientras preserva el orden original.\n",
    "    \n",
    "    Parámetros:\n",
    "        items (iterable): Una lista o cualquier iterable que contenga elementos.\n",
    "    \n",
    "    Retorna:\n",
    "        list: Una lista con los elementos únicos en el mismo orden en que aparecen por primera vez.\n",
    "    \"\"\"\n",
    "    def _unicos(items):\n",
    "        \"\"\"\n",
    "        Generador interno que produce elementos únicos manteniendo el orden de aparición.\n",
    "        \n",
    "        Parámetros:\n",
    "            items (iterable): Un iterable con elementos.\n",
    "        \n",
    "        Retorna:\n",
    "            generator: Un generador que produce los elementos únicos en orden.\n",
    "        \"\"\"\n",
    "        seen = set()  # Conjunto para almacenar elementos ya vistos\n",
    "        for item in items:\n",
    "            if item not in seen:\n",
    "                yield item  # Devuelve el elemento si no ha sido visto antes\n",
    "                seen.add(item)  # Agrega el elemento al conjunto de vistos\n",
    "    \n",
    "    return list(_unicos(items))  # Convierte el generador en lista y lo retorna\n"
   ]
  },
  {
   "cell_type": "markdown",
   "id": "8237567b-a22b-4887-8f15-8e162b72fad4",
   "metadata": {},
   "source": [
    "He agregado documentación clara y comentarios explicativos para que el código sea más comprensible. ¿Quieres que haga algún ajuste o agregue más detalles?"
   ]
  },
  {
   "cell_type": "code",
   "execution_count": 9,
   "id": "84a6f8ab-b0ee-4d11-8005-0feb1ad4f2c3",
   "metadata": {},
   "outputs": [],
   "source": [
    "lista = [0,1,2,4,5,3,6,1,2,3,5,0,0,458,985,458]"
   ]
  },
  {
   "cell_type": "code",
   "execution_count": 10,
   "id": "73bd72f4-2063-40b1-98d8-3403e793bb2a",
   "metadata": {},
   "outputs": [
    {
     "data": {
      "text/plain": [
       "[0, 1, 2, 4, 5, 3, 6, 458, 985]"
      ]
     },
     "execution_count": 10,
     "metadata": {},
     "output_type": "execute_result"
    }
   ],
   "source": [
    "unicos_con_orden(lista)"
   ]
  },
  {
   "cell_type": "markdown",
   "id": "b12456d2-4881-4c50-83ba-74cadd993631",
   "metadata": {},
   "source": [
    "___"
   ]
  },
  {
   "cell_type": "raw",
   "id": "6d90faa9-fd4f-48d5-97b5-7e072b8041da",
   "metadata": {},
   "source": [
    "Actúa como un arquitecto de software y un experto en seguridad. \n",
    "Evalúa el siguiente script y proporciona retroalimentación \n",
    "sobre su estructura y vulnerabilidades.\n",
    "\n",
    "def storeuserdata(user_data):\n",
    " database = open(‘user_database.txt’, ‘a’)\n",
    " database.write(str(user_data))\n",
    " database.close()\n",
    "storeuserdata({‘username’: ‘admin’, ‘password’: ‘1234’})\n",
    "\n"
   ]
  },
  {
   "cell_type": "markdown",
   "id": "e0f3c093-fe57-4133-91f6-24db90d9221b",
   "metadata": {},
   "source": [
    "Como arquitecto de software y experto en seguridad, hay varios puntos que deben abordarse en este script. Aquí te dejo la retroalimentación detallada:\n",
    "\n",
    "1. Inseguridad en el almacenamiento de contraseñas:\n",
    "\n",
    "  - El almacenamiento de contraseñas como texto plano ('password': '1234') es una vulnerabilidad grave. Las contraseñas deben ser hasheadas (por ejemplo, utilizando bcrypt o argon2) antes de almacenarlas en cualquier base de datos. De lo contrario, si un atacante obtiene acceso al archivo user_database.txt, podrá leer las contraseñas sin dificultad.\n",
    "   \n",
    "  - **Recomendación**: Utiliza una librería de hashing de contraseñas como bcrypt para almacenar contraseñas de manera segura.\n",
    "\n",
    "2. Inseguridad en el archivo de almacenamiento (user_database.txt):\n",
    "\n",
    "  - Usar un archivo de texto plano para almacenar datos sensibles es muy riesgoso. Los archivos de texto pueden ser fácilmente leídos y manipulados si un atacante tiene acceso al sistema.\n",
    "  - **Recomendación**: Utiliza una base de datos en lugar de un archivo de texto para almacenar datos de usuario. Bases de datos como SQLite, MySQL, o PostgreSQL proporcionan mecanismos de seguridad y acceso controlado más robustos.\n",
    "\n",
    "3. Uso de apertura de archivos sin contexto:\n",
    "  - El script utiliza open() sin el uso de un bloque with. Usar un bloque with es más seguro porque asegura que el archivo se cierre automáticamente, incluso si ocurre un error dentro del bloque.\n",
    "  - **Recomendación**: Usa el contexto adecuado para manejar archivos:\n",
    "    \n",
    "    ```python\n",
    "    with open('user_database.txt', 'a') as database:\n",
    "    database.write(str(user_data))\n",
    "    ```"
   ]
  },
  {
   "cell_type": "markdown",
   "id": "63ae248e-d115-4cf5-b3de-67bc79bfd4c2",
   "metadata": {},
   "source": [
    "4. Falta de validación de entrada:\n",
    "  - No se valida el tipo o formato de los datos de entrada (user_data). Los datos podrían ser manipulados fácilmente y no se realiza ninguna verificación.\n",
    "  - **Recomendación**: Realiza una validación de los datos antes de escribirlos en el archivo o base de datos. Por ejemplo, asegúrate de que los datos sigan el formato esperado (nombres de usuario válidos, contraseñas que cumplan con los requisitos de seguridad, etc.).\n",
    "\n",
    "5. Inyección de datos:\n",
    "  - Al escribir los datos en el archivo como un str(user_data), no hay ninguna protección contra inyecciones de código o datos maliciosos que puedan ser interpretados de manera incorrecta al leer el archivo posteriormente.\n",
    "  - **Recomendación**: Evita usar str() para convertir datos y escribe de manera estructurada, como en un formato JSON o en un sistema de base de datos. Además, valida los datos antes de escribirlos.\n",
    "\n",
    "6. Control de errores:\n",
    "  - El script no tiene manejo de errores. Si hay un problema al abrir el archivo (por ejemplo, falta de permisos), el script fallará sin proporcionar información útil.\n",
    "  - **Recomendación**: Agrega un manejo adecuado de excepciones para manejar problemas como fallos en la apertura del archivo, escritura o lectura de datos:\n",
    "\n",
    "    ```python\n",
    "    try:\n",
    "        with open('user_database.txt', 'a') as database:\n",
    "        database.write(str(user_data))\n",
    "    except Exception as e:\n",
    "        print(f\"Error al guardar los datos: {e}\")\n",
    "    ```\n"
   ]
  },
  {
   "cell_type": "markdown",
   "id": "781902b8-8e3a-4c33-95db-b5859789594c",
   "metadata": {},
   "source": [
    "7. Manejo de datos sensibles:\n",
    "  - Es importante no almacenar datos sensibles (como contraseñas o datos personales) sin cifrado o al menos una técnica de enmascaramiento. De no hacerlo, el sistema es vulnerable a ataques internos o externos.\n",
    "  - **Recomendación**: Cifra los datos sensibles (como las contraseñas) antes de almacenarlos, utilizando técnicas como AES para cifrado o JWT para autenticación de sesiones.\n",
    "\n",
    "> Conclusión:\n",
    "Este script es vulnerable a múltiples riesgos de seguridad. Lo más importante es cambiar el método de almacenamiento de contraseñas y datos sensibles, y usar una base de datos segura con buenas prácticas de validación y cifrado. Además, implementar un manejo adecuado de archivos y errores es fundamental para mejorar la robustez del sistema."
   ]
  },
  {
   "cell_type": "markdown",
   "id": "ba9c5369-58d7-40be-a012-534edcd73be6",
   "metadata": {},
   "source": [
    "___"
   ]
  },
  {
   "cell_type": "code",
   "execution_count": null,
   "id": "d7304a87-ea04-497a-afd2-dd76a7e59295",
   "metadata": {},
   "outputs": [],
   "source": []
  }
 ],
 "metadata": {
  "kernelspec": {
   "display_name": "Python 3 (ipykernel)",
   "language": "python",
   "name": "python3"
  },
  "language_info": {
   "codemirror_mode": {
    "name": "ipython",
    "version": 3
   },
   "file_extension": ".py",
   "mimetype": "text/x-python",
   "name": "python",
   "nbconvert_exporter": "python",
   "pygments_lexer": "ipython3",
   "version": "3.10.4"
  }
 },
 "nbformat": 4,
 "nbformat_minor": 5
}
