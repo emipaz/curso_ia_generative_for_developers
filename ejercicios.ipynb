{
 "cells": [
  {
   "cell_type": "markdown",
   "id": "8488979b-b96f-4232-85eb-5079607f50e0",
   "metadata": {},
   "source": [
    "___"
   ]
  },
  {
   "cell_type": "markdown",
   "id": "82e0db3a-c6ee-473d-a2ca-34786fdeaf43",
   "metadata": {},
   "source": [
    "Escriba una función Python llamada calculate_area que tome como argumento radio. La función debe calcular el área de un círculo dado el radio.\n",
    "\n",
    "Asegúrese de que la función maneja entradas no numéricas lanzando un ValueError con el mensaje \"La entrada debe ser un valor numérico\". Tambien que si el radio es menor de 0 lanze un ValueError con el mensaje \"el radio no puede ser negativo\" en los casos muestre el valor recibido Incluya comentarios en el código que expliquen cada paso."
   ]
  },
  {
   "cell_type": "code",
   "execution_count": 2,
   "id": "36389b9a-4a60-4bc4-8e43-a6bca5fcefe2",
   "metadata": {},
   "outputs": [],
   "source": [
    "import math\n",
    "\n",
    "def calculate_area(radio):\n",
    "    \"\"\"\n",
    "    Calcula el área de un círculo dado su radio.\n",
    "    \n",
    "    Parámetros:\n",
    "    radio (float o int): El radio del círculo.\n",
    "    \n",
    "    Retorna:\n",
    "    float: El área del círculo.\n",
    "    \n",
    "    Lanza:\n",
    "    ValueError: Si la entrada no es numérica o si el radio es negativo.\n",
    "    \"\"\"\n",
    "    # Verificar si la entrada es un número\n",
    "    if not isinstance(radio, (int, float)):\n",
    "        raise ValueError(f\"La entrada debe ser un valor numérico. Valor recibido: {radio}\")\n",
    "    \n",
    "    # Verificar si el radio es negativo\n",
    "    if radio < 0:\n",
    "        raise ValueError(f\"El radio no puede ser negativo. Valor recibido: {radio}\")\n",
    "    \n",
    "    # Calcular el área del círculo usando la fórmula A = πr²\n",
    "    area = math.pi * (radio ** 2)\n",
    "    return area"
   ]
  },
  {
   "cell_type": "code",
   "execution_count": 3,
   "id": "4fa54222-7e3e-47c5-b4e2-44f0ab3df49d",
   "metadata": {},
   "outputs": [
    {
     "name": "stdout",
     "output_type": "stream",
     "text": [
      "El área del círculo es: 78.54\n"
     ]
    }
   ],
   "source": [
    "# Ejemplo de uso\n",
    "try:\n",
    "    resultado = calculate_area(5)\n",
    "    print(f\"El área del círculo es: {resultado:.2f}\")\n",
    "except ValueError as e:\n",
    "    print(e)"
   ]
  },
  {
   "cell_type": "markdown",
   "id": "5df292a0-f4bd-442f-bc48-004491910be5",
   "metadata": {},
   "source": [
    "Este código garantiza que solo se acepten valores numéricos y no negativos como radio. Si la entrada es inválida, se lanza un ValueError con un mensaje descriptivo."
   ]
  },
  {
   "cell_type": "markdown",
   "id": "17baf748-b701-4f7a-a4a3-59ccd2813be3",
   "metadata": {},
   "source": [
    "___"
   ]
  },
  {
   "cell_type": "markdown",
   "id": "b65eea44-509c-40c8-84be-053db53e1fef",
   "metadata": {},
   "source": [
    "hola tengo el siguiente código :\n",
    "```python\n",
    "import requests\n",
    "\n",
    "def descargar_archivo(url, nombre_archivo):\n",
    "    respuesta = requests.get(url)\n",
    "    with open(nombre_archivo, 'wb') as archivo:\n",
    "        archivo.write(respuesta.content)\n",
    "```\n",
    "necesitaria un head para evitar los bloqueos y permitir descargar documentos de texto plano tambien."
   ]
  },
  {
   "cell_type": "markdown",
   "id": "ccb2acf2-579c-44f8-ad30-161533e98146",
   "metadata": {},
   "source": [
    "Puedes agregar un encabezado User-Agent para evitar bloqueos y verificar el tipo de contenido antes de guardar el archivo. Aquí tienes la versión mejorada:"
   ]
  },
  {
   "cell_type": "code",
   "execution_count": null,
   "id": "726f54d9-300d-41de-9502-7d5e30c87947",
   "metadata": {},
   "outputs": [],
   "source": [
    "import requests\n",
    "\n",
    "def descargar_archivo(url, nombre_archivo):\n",
    "    headers = {\n",
    "        \"User-Agent\": \"Mozilla/5.0 (Windows NT 10.0; Win64; x64) AppleWebKit/537.36 (KHTML, like Gecko) Chrome/91.0.4472.124 Safari/537.36\"\n",
    "    }\n",
    "    \n",
    "    respuesta = requests.get(url, headers=headers)\n",
    "    \n",
    "    if respuesta.status_code == 200:\n",
    "        # Detecta si el contenido es texto plano\n",
    "        content_type = respuesta.headers.get(\"Content-Type\", \"\")\n",
    "        modo = \"wb\" if \"text\" not in content_type else \"w\"\n",
    "        \n",
    "        with open(nombre_archivo, modo) as archivo:\n",
    "            archivo.write(respuesta.content if \"text\" not in content_type else respuesta.text)\n",
    "        print(f\"Archivo guardado como: {nombre_archivo}\")\n",
    "    else:\n",
    "        print(f\"Error al descargar: {respuesta.status_code}\")\n",
    "\n",
    "# Ejemplo de uso\n",
    "# descargar_archivo(\"https://ejemplo.com/archivo.txt\", \"archivo.txt\")"
   ]
  },
  {
   "cell_type": "markdown",
   "id": "f033a3e3-e6d7-40f7-82be-6bbfd12eaede",
   "metadata": {},
   "source": [
    "## Mejoras:\n",
    "\n",
    "1. Evita bloqueos:\n",
    "   \n",
    "     Se añade un User-Agent para hacer que la solicitud parezca provenir de un navegador real.\n",
    "\n",
    "2. Manejo de contenido:\n",
    "  \n",
    "     Si el archivo es de texto (text/plain, text/html, etc.), se guarda en modo \"w\" en lugar de binario.\n",
    "\n",
    "3. Manejo de errores:\n",
    "\n",
    "     Verifica el código de estado antes de guardar."
   ]
  },
  {
   "cell_type": "markdown",
   "id": "24c16305-9f1a-4736-8b93-c40746ffbf61",
   "metadata": {},
   "source": [
    "___"
   ]
  },
  {
   "cell_type": "markdown",
   "id": "d64410d0-6637-4f94-a97e-799de8407fb8",
   "metadata": {},
   "source": [
    "Genera Documentacion y comentarios para el siguiente código:\n",
    "```python \n",
    "def unicos_con_orden(items): \n",
    "    def _unicos(items): \n",
    "        seen = set() \n",
    "        for item in items: \n",
    "            if item not in seen: \n",
    "                  yield item \n",
    "                 seen.add(item) \n",
    "    return list(_unicos(items))\n",
    "```"
   ]
  },
  {
   "cell_type": "markdown",
   "id": "05573125-5e61-4f75-b49e-cce96656dde2",
   "metadata": {},
   "source": [
    "Aquí tienes la documentación y los comentarios para tu código:"
   ]
  },
  {
   "cell_type": "code",
   "execution_count": 8,
   "id": "238db72c-0258-47c3-9b29-1b8705afc376",
   "metadata": {},
   "outputs": [],
   "source": [
    "def unicos_con_orden(items):\n",
    "    \"\"\"\n",
    "    Elimina los elementos duplicados de una secuencia mientras preserva el orden original.\n",
    "    \n",
    "    Parámetros:\n",
    "        items (iterable): Una lista o cualquier iterable que contenga elementos.\n",
    "    \n",
    "    Retorna:\n",
    "        list: Una lista con los elementos únicos en el mismo orden en que aparecen por primera vez.\n",
    "    \"\"\"\n",
    "    def _unicos(items):\n",
    "        \"\"\"\n",
    "        Generador interno que produce elementos únicos manteniendo el orden de aparición.\n",
    "        \n",
    "        Parámetros:\n",
    "            items (iterable): Un iterable con elementos.\n",
    "        \n",
    "        Retorna:\n",
    "            generator: Un generador que produce los elementos únicos en orden.\n",
    "        \"\"\"\n",
    "        seen = set()  # Conjunto para almacenar elementos ya vistos\n",
    "        for item in items:\n",
    "            if item not in seen:\n",
    "                yield item  # Devuelve el elemento si no ha sido visto antes\n",
    "                seen.add(item)  # Agrega el elemento al conjunto de vistos\n",
    "    \n",
    "    return list(_unicos(items))  # Convierte el generador en lista y lo retorna\n"
   ]
  },
  {
   "cell_type": "markdown",
   "id": "8237567b-a22b-4887-8f15-8e162b72fad4",
   "metadata": {},
   "source": [
    "He agregado documentación clara y comentarios explicativos para que el código sea más comprensible. ¿Quieres que haga algún ajuste o agregue más detalles?"
   ]
  },
  {
   "cell_type": "code",
   "execution_count": 9,
   "id": "84a6f8ab-b0ee-4d11-8005-0feb1ad4f2c3",
   "metadata": {},
   "outputs": [],
   "source": [
    "lista = [0,1,2,4,5,3,6,1,2,3,5,0,0,458,985,458]"
   ]
  },
  {
   "cell_type": "code",
   "execution_count": 10,
   "id": "73bd72f4-2063-40b1-98d8-3403e793bb2a",
   "metadata": {},
   "outputs": [
    {
     "data": {
      "text/plain": [
       "[0, 1, 2, 4, 5, 3, 6, 458, 985]"
      ]
     },
     "execution_count": 10,
     "metadata": {},
     "output_type": "execute_result"
    }
   ],
   "source": [
    "unicos_con_orden(lista)"
   ]
  },
  {
   "cell_type": "markdown",
   "id": "b12456d2-4881-4c50-83ba-74cadd993631",
   "metadata": {},
   "source": [
    "___"
   ]
  },
  {
   "cell_type": "markdown",
   "id": "2136e071-316d-4b3e-836d-6dd135ccd672",
   "metadata": {},
   "source": [
    "Actúa como un arquitecto de software y un experto en seguridad. \n",
    "Evalúa el siguiente script y proporciona retroalimentación \n",
    "sobre su estructura y vulnerabilidades.\n",
    "\n",
    "```python\n",
    "def storeuserdata(user_data):\n",
    " database = open(‘user_database.txt’, ‘a’)\n",
    " database.write(str(user_data))\n",
    " database.close()\n",
    "storeuserdata({‘username’: ‘admin’, ‘password’: ‘1234’})\n",
    "```\n"
   ]
  },
  {
   "cell_type": "markdown",
   "id": "e0f3c093-fe57-4133-91f6-24db90d9221b",
   "metadata": {},
   "source": [
    "Como arquitecto de software y experto en seguridad, hay varios puntos que deben abordarse en este script. Aquí te dejo la retroalimentación detallada:\n",
    "\n",
    "1. Inseguridad en el almacenamiento de contraseñas:\n",
    "\n",
    "  - El almacenamiento de contraseñas como texto plano ('password': '1234') es una vulnerabilidad grave. Las contraseñas deben ser hasheadas (por ejemplo, utilizando bcrypt o argon2) antes de almacenarlas en cualquier base de datos. De lo contrario, si un atacante obtiene acceso al archivo user_database.txt, podrá leer las contraseñas sin dificultad.\n",
    "   \n",
    "  - **Recomendación**: Utiliza una librería de hashing de contraseñas como bcrypt para almacenar contraseñas de manera segura.\n",
    "\n",
    "2. Inseguridad en el archivo de almacenamiento (user_database.txt):\n",
    "\n",
    "  - Usar un archivo de texto plano para almacenar datos sensibles es muy riesgoso. Los archivos de texto pueden ser fácilmente leídos y manipulados si un atacante tiene acceso al sistema.\n",
    "  - **Recomendación**: Utiliza una base de datos en lugar de un archivo de texto para almacenar datos de usuario. Bases de datos como SQLite, MySQL, o PostgreSQL proporcionan mecanismos de seguridad y acceso controlado más robustos.\n",
    "\n",
    "3. Uso de apertura de archivos sin contexto:\n",
    "  - El script utiliza open() sin el uso de un bloque with. Usar un bloque with es más seguro porque asegura que el archivo se cierre automáticamente, incluso si ocurre un error dentro del bloque.\n",
    "  - **Recomendación**: Usa el contexto adecuado para manejar archivos:\n",
    "    \n",
    "    ```python\n",
    "    with open('user_database.txt', 'a') as database:\n",
    "    database.write(str(user_data))\n",
    "    ```"
   ]
  },
  {
   "cell_type": "markdown",
   "id": "63ae248e-d115-4cf5-b3de-67bc79bfd4c2",
   "metadata": {},
   "source": [
    "4. Falta de validación de entrada:\n",
    "  - No se valida el tipo o formato de los datos de entrada (user_data). Los datos podrían ser manipulados fácilmente y no se realiza ninguna verificación.\n",
    "  - **Recomendación**: Realiza una validación de los datos antes de escribirlos en el archivo o base de datos. Por ejemplo, asegúrate de que los datos sigan el formato esperado (nombres de usuario válidos, contraseñas que cumplan con los requisitos de seguridad, etc.).\n",
    "\n",
    "5. Inyección de datos:\n",
    "  - Al escribir los datos en el archivo como un str(user_data), no hay ninguna protección contra inyecciones de código o datos maliciosos que puedan ser interpretados de manera incorrecta al leer el archivo posteriormente.\n",
    "  - **Recomendación**: Evita usar str() para convertir datos y escribe de manera estructurada, como en un formato JSON o en un sistema de base de datos. Además, valida los datos antes de escribirlos.\n",
    "\n",
    "6. Control de errores:\n",
    "  - El script no tiene manejo de errores. Si hay un problema al abrir el archivo (por ejemplo, falta de permisos), el script fallará sin proporcionar información útil.\n",
    "  - **Recomendación**: Agrega un manejo adecuado de excepciones para manejar problemas como fallos en la apertura del archivo, escritura o lectura de datos:\n",
    "\n",
    "    ```python\n",
    "    try:\n",
    "        with open('user_database.txt', 'a') as database:\n",
    "        database.write(str(user_data))\n",
    "    except Exception as e:\n",
    "        print(f\"Error al guardar los datos: {e}\")\n",
    "    ```\n"
   ]
  },
  {
   "cell_type": "markdown",
   "id": "781902b8-8e3a-4c33-95db-b5859789594c",
   "metadata": {},
   "source": [
    "7. Manejo de datos sensibles:\n",
    "  - Es importante no almacenar datos sensibles (como contraseñas o datos personales) sin cifrado o al menos una técnica de enmascaramiento. De no hacerlo, el sistema es vulnerable a ataques internos o externos.\n",
    "  - **Recomendación**: Cifra los datos sensibles (como las contraseñas) antes de almacenarlos, utilizando técnicas como AES para cifrado o JWT para autenticación de sesiones.\n",
    "\n",
    "> Conclusión:\n",
    "Este script es vulnerable a múltiples riesgos de seguridad. Lo más importante es cambiar el método de almacenamiento de contraseñas y datos sensibles, y usar una base de datos segura con buenas prácticas de validación y cifrado. Además, implementar un manejo adecuado de archivos y errores es fundamental para mejorar la robustez del sistema."
   ]
  },
  {
   "cell_type": "markdown",
   "id": "ba9c5369-58d7-40be-a012-534edcd73be6",
   "metadata": {},
   "source": [
    "___"
   ]
  },
  {
   "cell_type": "markdown",
   "id": "7c2817be-724c-452a-bd65-c1605f665773",
   "metadata": {},
   "source": [
    "Como colaborador de proyectos de código abierto en Python, critica esta biblioteca de Python para visualización de datos y sugiere mejoras para hacerla comparable a bibliotecas importantes como Matplotlib o Seaborn\n",
    "\n",
    "\n",
    "```python\n",
    "import matplotlib.pyplot as plt\n",
    "\n",
    "class DataVisualizer:\n",
    "    \n",
    "    def __init__(self, data):\n",
    "        self.data = data      \n",
    "    def plot(self, kind='line'):         \n",
    "        if kind == 'line':             \n",
    "            plt.plot(self.data)         \n",
    "        elif kind == 'bar':             \n",
    "            plt.bar(range(len(self.data)), self.data)         \n",
    "        plt.show()\n",
    "```"
   ]
  },
  {
   "cell_type": "markdown",
   "id": "f8f3933a-bc34-4ee4-80e2-d46ae75a5d49",
   "metadata": {},
   "source": [
    "Aquí hay varias oportunidades de mejora para hacer esta biblioteca más competitiva con Matplotlib o Seaborn:\n",
    "\n",
    "**Críticas y Mejoras**\n",
    "1. Falta de Flexibilidad en Datos de Entrada:\n",
    "  - Actualmente, solo acepta una lista unidimensional. Para ser más útil, debería soportar estructuras de datos más versátiles como pandas.DataFrame o numpy.array.\n",
    "  - Se podría agregar soporte para múltiples series de datos.\n",
    "\n",
    "2. Opciones de Personalización Limitadas\n",
    "  - No permite modificar aspectos clave del gráfico, como colores, etiquetas, títulos, tamaño de la figura, etc.\n",
    "  - Se podría agregar parámetros opcionales para personalización, como xlabel, ylabel, title, color, legend, etc.\n",
    "\n",
    "3. Ausencia de Manejo de Errores\n",
    "  - Si el usuario pasa datos incorrectos (por ejemplo, una cadena en lugar de una lista de números), el código lanzará un error sin un mensaje claro.\n",
    "  - Se debería agregar validación de entrada con mensajes de error descriptivos.\n",
    "\n",
    "4. Pocas Opciones de Gráficos\n",
    "  - Solo admite line y bar. Se podría ampliar la funcionalidad con gráficos adicionales como scatter, hist, boxplot, etc.\n",
    "  - Se puede aprovechar plt.subplots() para mejorar la disposición de los gráficos.\n",
    "\n",
    "5. Uso Ineficiente de Matplotlib\n",
    "  - Se puede mejorar el rendimiento y la modularidad utilizando objetos Figure y Axes en lugar de los métodos globales de matplotlib.pyplot."
   ]
  },
  {
   "cell_type": "markdown",
   "id": "26e3a3e7-d301-46a9-8345-5706bb712c59",
   "metadata": {},
   "source": [
    "Versión Mejorada\n",
    "Aquí tienes una versión más robusta de la biblioteca:\n",
    "\n",
    "```python\n",
    "import matplotlib.pyplot as plt\n",
    "import numpy as np\n",
    "import pandas as pd\n",
    "\n",
    "class DataVisualizer:\n",
    "    def __init__(self, data):\n",
    "        if not isinstance(data, (list, np.ndarray, pd.Series, pd.DataFrame)):\n",
    "            raise TypeError(\"Data must be a list, NumPy array, pandas Series, or DataFrame\")\n",
    "        self.data = data\n",
    "\n",
    "    def plot(self, kind='line', xlabel='', ylabel='', title='', color=None, legend=None):\n",
    "        fig, ax = plt.subplots()\n",
    "\n",
    "        if isinstance(self.data, (list, np.ndarray, pd.Series)):\n",
    "            x = range(len(self.data))\n",
    "            y = self.data\n",
    "        elif isinstance(self.data, pd.DataFrame):\n",
    "            x = self.data.index\n",
    "            y = self.data.values.T  # Transpuesta para iterar columnas\n",
    "\n",
    "        if kind == 'line':\n",
    "            ax.plot(x, y, color=color if color else 'b')\n",
    "        elif kind == 'bar':\n",
    "            ax.bar(x, y[0] if isinstance(y, np.ndarray) else y, color=color if color else 'g')\n",
    "        elif kind == 'scatter':\n",
    "            ax.scatter(x, y, color=color if color else 'r')\n",
    "        elif kind == 'hist':\n",
    "            ax.hist(y, bins=10, color=color if color else 'purple', alpha=0.7)\n",
    "        else:\n",
    "            raise ValueError(f\"Unsupported plot type: {kind}\")\n",
    "\n",
    "        ax.set_xlabel(xlabel)\n",
    "        ax.set_ylabel(ylabel)\n",
    "        ax.set_title(title)\n",
    "\n",
    "        if legend:\n",
    "            ax.legend(legend)\n",
    "\n",
    "        plt.show()\n",
    "```\n",
    "\n",
    "Beneficios de la Nueva Versión\n",
    "- ✅ Soporte para list, numpy.array, pandas.Series y pandas.DataFrame.\n",
    "- ✅ Mayor flexibilidad con personalización de etiquetas, colores y leyendas.\n",
    "- ✅ Más tipos de gráficos (scatter, hist).\n",
    "- ✅ Manejo de errores mejorado con validaciones y mensajes claros.\n",
    "- ✅ Uso eficiente de matplotlib con Figure y Axes.\n",
    "\n",
    "Con estas mejoras, la biblioteca puede ser un punto de partida más sólido para un proyecto de código abierto con potencial de crecimiento. 🚀\n",
    "\n",
    "Dijiste:\n",
    "dame ejemplos de uso\n",
    "\n",
    "ChatGPT dijo:\n",
    "Aquí tienes ejemplos de uso con diferentes tipos de datos y configuraciones personalizadas para la versión mejorada de DataVisualizer.\n",
    "\n",
    "- 1️⃣ Usando una Lista (Serie Unidimensional)\n",
    "  ```python\n",
    "        data = [10, 20, 15, 30, 25]\n",
    "        visualizer = DataVisualizer(data)\n",
    "        visualizer.plot(kind='line', xlabel='Índice', ylabel='Valor', title='Gráfico de Línea')\n",
    "    ```\n",
    "\n",
    "📌 Salida: Un gráfico de líneas con los valores [10, 20, 15, 30, 25].\n",
    "\n",
    "- 2️⃣ Usando un numpy.array\n",
    "  ```python\n",
    "        import numpy as np\n",
    "\n",
    "        data = np.random.randint(1, 100, 10)  # 10 valores aleatorios entre 1 y 100\n",
    "        visualizer = DataVisualizer(data)\n",
    "        visualizer.plot(kind='bar', xlabel='Índice', ylabel='Valor', title='Gráfico de Barras', color='orange')\n",
    "    ```\n",
    "📌 Salida: Un gráfico de barras con valores aleatorios.\n",
    "\n",
    "- 3️⃣ Usando un pandas.Series\n",
    "    ```python\n",
    "        import pandas as pd\n",
    "\n",
    "        data = pd.Series([3, 7, 2, 8, 5])\n",
    "        visualizer = DataVisualizer(data)\n",
    "        visualizer.plot(kind='scatter', xlabel='Índice', ylabel='Valor', title='Gráfico de Dispersión', color='red')\n",
    "        ```\n",
    "📌 Salida: Un gráfico de dispersión con puntos rojos.\n",
    "\n",
    "- 4️⃣ Usando un pandas.DataFrame con Varias Series\n",
    "    ```python\n",
    "        df = pd.DataFrame({'A': np.random.randint(1, 50, 10),\n",
    "                           'B': np.random.randint(1, 50, 10)\n",
    "                           })\n",
    "\n",
    "        visualizer = DataVisualizer(df)\n",
    "        visualizer.plot(kind='line', xlabel='Índice', ylabel='Valores', title='Gráfico de Múltiples Series', legend=['A', 'B'])\n",
    "    ```        \n",
    "📌 Salida: Un gráfico de líneas con dos series (A y B) y su leyenda.\n",
    "\n",
    "- 5️⃣ Histograma con Datos Aleatorios\n",
    "    ```python\n",
    "        data = np.random.randn(1000)  # 1000 valores con distribución normal\n",
    "        visualizer = DataVisualizer(data)\n",
    "        visualizer.plot(kind='hist', xlabel='Valor', ylabel='Frecuencia', title='Histograma', color='purple')\n",
    "    ```\n",
    "📌 Salida: Un histograma con distribución normal.\n",
    "\n",
    "\n",
    "Con estos ejemplos, puedes ver la flexibilidad de la clase DataVisualizer. 🔥\n",
    "¿Qué te parece? ¿Te gustaría agregar más opciones, como boxplot o heatmap? 😊"
   ]
  },
  {
   "cell_type": "markdown",
   "id": "457bba78-4e49-4be3-97ae-37c2a7b73a20",
   "metadata": {},
   "source": [
    "en este ejemplo:\n",
    "```python\n",
    "df = pd.DataFrame({\n",
    "    'A': np.random.randint(1, 50, 10),\n",
    "    'B': np.random.randint(1, 50, 10)\n",
    "})\n",
    "\n",
    "visualizer = DataVisualizer(df)\n",
    "visualizer.plot(kind='line', xlabel='Índice', ylabel='Valores', title='Gráfico de Múltiples Series', legend=['A', 'B'])\n",
    "```\n",
    "obtengo el siguiente error:\n",
    "\n",
    "ValueError: x and y must have same first dimension, but have shapes (10,) and (2, 10)"
   ]
  },
  {
   "cell_type": "markdown",
   "id": "235a9d53-4dad-4f7e-a421-f4a8df18f495",
   "metadata": {},
   "source": [
    "El error ocurre porque y en el caso de un DataFrame se está transponiendo (y = self.data.values.T), lo que hace que y tenga una forma de (2, 10) en lugar de (10, 2).\n",
    "\n",
    "Explicación del Problema\n",
    "Cuando se usa ax.plot(x, y), x tiene una forma de (10,) (porque son los índices del DataFrame), pero y tiene una forma de (2, 10) después de la transposición. Matplotlib espera que x e y tengan la misma primera dimensión, por lo que lanza el error."
   ]
  },
  {
   "cell_type": "markdown",
   "id": "804dfc82-d88d-4ccb-8ca9-e4f86d4e9afb",
   "metadata": {},
   "source": [
    "Ahora nececito una explicacion detallada y que me generes los docstring y comentarios en linea"
   ]
  },
  {
   "cell_type": "code",
   "execution_count": 2,
   "id": "f30204b5-27d2-4963-822f-d0d5135719b2",
   "metadata": {},
   "outputs": [],
   "source": [
    "import matplotlib.pyplot as plt\n",
    "import numpy as np\n",
    "import pandas as pd\n",
    "\n",
    "class DataVisualizer:\n",
    "    \"\"\"\n",
    "    Clase para visualizar datos utilizando Matplotlib.\n",
    "    \n",
    "    Admite listas, arrays de NumPy, Series de Pandas y DataFrames de Pandas como entrada de datos.\n",
    "    Puede generar gráficos de líneas, barras, dispersión e histogramas.\n",
    "    \"\"\"\n",
    "\n",
    "    def __init__(self, data):\n",
    "        \"\"\"\n",
    "        Inicializa el objeto DataVisualizer con los datos proporcionados.\n",
    "        \n",
    "        :param data: Datos a visualizar. Debe ser una lista, un array de NumPy, \n",
    "                     una Serie de Pandas o un DataFrame de Pandas.\n",
    "        :raises TypeError: Si el tipo de datos no es compatible.\n",
    "        \"\"\"\n",
    "        if not isinstance(data, (list, np.ndarray, pd.Series, pd.DataFrame)):\n",
    "            raise TypeError(\"Data must be a list, NumPy array, pandas Series, or DataFrame\")\n",
    "        self.data = data  # Se almacena la data para su posterior visualización\n",
    "\n",
    "    def plot(self, kind='line', xlabel='', ylabel='', title='', color=None, legend=None):\n",
    "        \"\"\"\n",
    "        Genera un gráfico basado en los datos y el tipo de gráfico especificado.\n",
    "        \n",
    "        :param kind: Tipo de gráfico ('line', 'bar', 'scatter', 'hist').\n",
    "        :param xlabel: Etiqueta del eje X.\n",
    "        :param ylabel: Etiqueta del eje Y.\n",
    "        :param title: Título del gráfico.\n",
    "        :param color: Color de las líneas o barras (opcional).\n",
    "        :param legend: Lista con nombres de las series para la leyenda (opcional).\n",
    "        :raises ValueError: Si el tipo de gráfico no está soportado.\n",
    "        \"\"\"\n",
    "        fig, ax = plt.subplots()  # Crea la figura y los ejes del gráfico\n",
    "\n",
    "        # Determinar los valores de X e Y según el tipo de datos\n",
    "        if isinstance(self.data, (list, np.ndarray, pd.Series)):\n",
    "            x = range(len(self.data))  # Índices para el eje X\n",
    "            y = self.data  # Valores en el eje Y\n",
    "\n",
    "            if kind == 'line':\n",
    "                ax.plot(x, y, color=color if color else 'b')\n",
    "            elif kind == 'bar':\n",
    "                ax.bar(x, y, color=color if color else 'g', edgecolor='black', width=0.6)\n",
    "            elif kind == 'scatter':\n",
    "                ax.scatter(x, y, color=color if color else 'r')\n",
    "            elif kind == 'hist':\n",
    "                ax.hist(y, bins=10, color=color if color else 'purple', alpha=0.7)\n",
    "            else:\n",
    "                raise ValueError(f\"Unsupported plot type: {kind}\")\n",
    "\n",
    "        elif isinstance(self.data, pd.DataFrame):\n",
    "            x = self.data.index  # Índices del DataFrame como eje X\n",
    "            colors = ['b', 'g', 'r', 'c', 'm', 'y', 'k']  # Lista de colores para múltiples series\n",
    "\n",
    "            for i, col in enumerate(self.data.columns):\n",
    "                if kind == 'line':\n",
    "                    ax.plot(x, self.data[col], color=color if color else colors[i % len(colors)], label=col)\n",
    "                elif kind == 'bar':\n",
    "                    ax.bar(x, self.data[col], color=color if color else colors[i % len(colors)], \n",
    "                           edgecolor='black', width=0.6)\n",
    "                elif kind == 'scatter':\n",
    "                    ax.scatter(x, self.data[col], color=color if color else colors[i % len(colors)], label=col)\n",
    "                elif kind == 'hist':\n",
    "                    ax.hist(self.data[col], bins=10, color=color if color else colors[i % len(colors)], alpha=0.7)\n",
    "                else:\n",
    "                    raise ValueError(f\"Unsupported plot type: {kind}\")\n",
    "\n",
    "            ax.legend()  # Agregar la leyenda automáticamente si hay varias series\n",
    "\n",
    "        # Configuración de etiquetas y título\n",
    "        ax.set_xlabel(xlabel)\n",
    "        ax.set_ylabel(ylabel)\n",
    "        ax.set_title(title)\n",
    "\n",
    "        plt.show()  # Mostrar el gráfico"
   ]
  },
  {
   "cell_type": "code",
   "execution_count": 6,
   "id": "aca214f4-f614-403f-b108-ca9038de1182",
   "metadata": {},
   "outputs": [
    {
     "data": {
      "image/png": "[encoded data removed]",
      "text/plain": [
       "<Figure size 432x288 with 1 Axes>"
      ]
     },
     "metadata": {
      "needs_background": "light"
     },
     "output_type": "display_data"
    }
   ],
   "source": [
    "data = [10, 20, 15, 30, 25]\n",
    "visualizer = DataVisualizer(data)\n",
    "visualizer.plot(kind='line', xlabel='Índice', ylabel='Valor', title='Gráfico de Línea')"
   ]
  },
  {
   "cell_type": "code",
   "execution_count": 3,
   "id": "ac37e7cd-309e-4b55-b476-691592c7ba54",
   "metadata": {},
   "outputs": [
    {
     "name": "stdout",
     "output_type": "stream",
     "text": [
      "[15 98 10 65 47  9 35 78 39 11]\n"
     ]
    },
    {
     "data": {
      "image/png": "[encoded data removed]",
      "text/plain": [
       "<Figure size 432x288 with 1 Axes>"
      ]
     },
     "metadata": {
      "needs_background": "light"
     },
     "output_type": "display_data"
    }
   ],
   "source": [
    "# Prueba con barras mejoradas\n",
    "data = np.random.randint(1, 100, 10)  # 10 valores aleatorios\n",
    "print(data)\n",
    "visualizer = DataVisualizer(data)\n",
    "visualizer.plot(kind='bar', xlabel='Índice', ylabel='Valor', title='Gráfico de Barras Mejorado', color='orange')"
   ]
  },
  {
   "cell_type": "code",
   "execution_count": 4,
   "id": "d341b81f-f0e0-4e2d-a61b-2c6a0750851f",
   "metadata": {},
   "outputs": [
    {
     "data": {
      "image/png": "[encoded data removed]",
      "text/plain": [
       "<Figure size 432x288 with 1 Axes>"
      ]
     },
     "metadata": {
      "needs_background": "light"
     },
     "output_type": "display_data"
    }
   ],
   "source": [
    "data = np.random.randn(1000)  # 1000 valores con distribución normal\n",
    "visualizer = DataVisualizer(data)\n",
    "visualizer.plot(kind='hist', xlabel='Valor', ylabel='Frecuencia', title='Histograma', color='purple')"
   ]
  },
  {
   "cell_type": "code",
   "execution_count": 5,
   "id": "d038cdc0-48f9-4173-94cf-09e119ec0b89",
   "metadata": {},
   "outputs": [
    {
     "data": {
      "image/png": "[encoded data removed]",
      "text/plain": [
       "<Figure size 432x288 with 1 Axes>"
      ]
     },
     "metadata": {
      "needs_background": "light"
     },
     "output_type": "display_data"
    }
   ],
   "source": [
    "data = pd.Series([3, 7, 2, 8, 5])\n",
    "visualizer = DataVisualizer(data)\n",
    "visualizer.plot(kind='scatter', xlabel='Índice', ylabel='Valor', title='Gráfico de Dispersión', color='red')"
   ]
  },
  {
   "cell_type": "code",
   "execution_count": 7,
   "id": "6d664733-6eec-44fb-8bab-e16114cec3cd",
   "metadata": {},
   "outputs": [
    {
     "data": {
      "image/png": "[encoded data removed]",
      "text/plain": [
       "<Figure size 432x288 with 1 Axes>"
      ]
     },
     "metadata": {
      "needs_background": "light"
     },
     "output_type": "display_data"
    }
   ],
   "source": [
    "# Prueba con DataFrame de Pandas\n",
    "df = pd.DataFrame({\n",
    "    'A': np.random.randint(1, 50, 10),\n",
    "    'B': np.random.randint(1, 50, 10)\n",
    "})\n",
    "\n",
    "visualizer = DataVisualizer(df)\n",
    "visualizer.plot(kind='line', xlabel='Índice', ylabel='Valores', title='Gráfico de Múltiples Series', legend=['A', 'B'])"
   ]
  },
  {
   "cell_type": "code",
   "execution_count": null,
   "id": "88a51234-e212-46f8-99aa-f76a2445c502",
   "metadata": {},
   "outputs": [],
   "source": []
  }
 ],
 "metadata": {
  "kernelspec": {
   "display_name": "Python 3 (ipykernel)",
   "language": "python",
   "name": "python3"
  },
  "language_info": {
   "codemirror_mode": {
    "name": "ipython",
    "version": 3
   },
   "file_extension": ".py",
   "mimetype": "text/x-python",
   "name": "python",
   "nbconvert_exporter": "python",
   "pygments_lexer": "ipython3",
   "version": "3.10.4"
  }
 },
 "nbformat": 4,
 "nbformat_minor": 5
}
