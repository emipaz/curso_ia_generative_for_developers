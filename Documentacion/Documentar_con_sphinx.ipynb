{
 "cells": [
  {
   "cell_type": "markdown",
   "id": "94dc5e00-54da-4e85-b050-093da6693b03",
   "metadata": {},
   "source": [
    "# ¿que es sphinx ?"
   ]
  },
  {
   "cell_type": "markdown",
   "id": "31eac743-379b-48bd-9239-ba92baf6e328",
   "metadata": {},
   "source": [
    "GPT :Sphinx es una herramienta de documentación que se utiliza para crear documentación técnica, especialmente para proyectos de software. Es especialmente popular en la comunidad de Python, aunque puede ser utilizada con otros lenguajes también. Algunas de sus características principales incluyen:\n",
    "\n",
    "1. **Generación de Documentación**: Sphinx permite generar documentación en varios formatos, como HTML, PDF, LaTeX, entre otros.\n",
    "\n",
    "2. **Extensibilidad**: Sphinx tiene una arquitectura de extensiones que permite añadir funcionalidades adicionales, como el soporte para el formato Markdown o la integración con proyectos de pruebas.\n",
    "\n",
    "3. **ReStructuredText (reST)**: Utiliza un formato de marcado llamado reStructuredText para escribir la documentación, aunque también se puede configurar para aceptar otros formatos.\n",
    "\n",
    "4. **Navegación**: Proporciona una estructura de navegación sencilla y clara, lo que facilita a los usuarios encontrar la información que necesitan.\n",
    "\n",
    "5. **Soporte para Docstrings**: Sphinx puede extraer automáticamente documentación de los docstrings en el código Python, lo que lo hace muy útil para la documentación de bibliotecas y proyectos de código abierto.\n",
    "\n",
    "En resumen, Sphinx es una herramienta potente y flexible diseñada para crear documentación clara y organizada para proyectos de software. Si necesitas más información específica o ejemplos de uso, no dudes en preguntar.\n",
    "emi :como se instala?\n",
    "GPT :Para instalar Sphinx, puedes seguir los siguientes pasos. La instalación se puede hacer fácilmente utilizando `pip`, que es el administrador de paquetes de Python. A continuación, se detallan los pasos:"
   ]
  },
  {
   "cell_type": "markdown",
   "id": "19076453-bbea-47c5-a342-a3cd5ed6fd04",
   "metadata": {},
   "source": [
    "### 1. Instalar Python"
   ]
  },
  {
   "cell_type": "markdown",
   "id": "0546ee34-4a79-47d8-83d2-62c90fae5b18",
   "metadata": {},
   "source": [
    "Asegúrate de tener Python instalado en tu sistema. Sphinx es compatible con Python 3.6 y versiones posteriores. Puedes descargar Python desde [python.org](https://www.python.org/downloads/) e instalarlo."
   ]
  },
  {
   "cell_type": "markdown",
   "id": "20de8277-98c9-4dd1-934c-7d5eb13e9c56",
   "metadata": {},
   "source": [
    "### 2. Instalar Sphinx usando pip"
   ]
  },
  {
   "cell_type": "markdown",
   "id": "7ab261b5-4aa8-4e67-bfdb-ddf8a0911734",
   "metadata": {},
   "source": [
    "Abre una terminal o línea de comandos y ejecuta el siguiente comando:\n",
    "\n",
    "```bash\n",
    "pip install sphinx\n",
    "```\n",
    "\n",
    "Esto instalará Sphinx y sus dependencias."
   ]
  },
  {
   "cell_type": "markdown",
   "id": "4eb8c9f6-5c57-4f62-bc4d-cdaaa0cb7d19",
   "metadata": {},
   "source": [
    "### 3. (Opcional) Instalar extensiones adicionales\n",
    "Sphinx tiene muchas extensiones útiles que puedes instalar si lo deseas. Por ejemplo, si necesitas soporte para Markdown, puedes instalar `recommonmark` o `sphinx-markdown-parser`. Aquí tienes un ejemplo:\n",
    "\n",
    "```bash\n",
    "pip install recommonmark\n",
    "```\n",
    "\n",
    "### 4. Crear un nuevo proyecto de Sphinx\n",
    "Para crear un nuevo proyecto de documentación utilizando Sphinx, puedes utilizar el comando:\n",
    "\n",
    "```bash\n",
    "sphinx-quickstart\n",
    "```\n",
    "\n",
    "Este comando te guiará a través de una serie de preguntas y configuraciones iniciales para establecer la estructura de tu proyecto de documentación.\n",
    "\n",
    "### 5. Generar la documentación\n",
    "Una vez que has creado tu proyecto y escrito tu documentación, puedes compilarla mediante el siguiente comando:\n",
    "\n",
    "```bash\n",
    "make html\n",
    "```\n",
    "\n",
    "Este comando generará la documentación en formato HTML. El resultado se almacenará en el directorio `_build/html` dentro de tu proyecto.\n",
    "\n",
    "### Nota Adicional"
   ]
  },
  {
   "cell_type": "markdown",
   "id": "b82e539d-cc81-4aa8-8212-7870f6908ccc",
   "metadata": {},
   "source": [
    "Si deseas generar documentación en otros formatos (como PDF o LaTeX), puedes utilizar otros comandos en lugar de `make html`. \n",
    "\n",
    "Si tienes alguna pregunta adicional sobre el uso de Sphinx, ¡no dudes en preguntar!\n",
    "emi :podemos simular una execucion de sphinx ?\n",
    "GPT :Claro, podemos simular el proceso de configuración y ejecución de Sphinx paso a paso. A continuación, te guiaré a través de una simulación de cómo podrías crear un proyecto de documentación simple utilizando Sphinx en tu máquina local."
   ]
  },
  {
   "cell_type": "markdown",
   "id": "c126dbcb-2471-4e25-9bb1-b32ee0be62bb",
   "metadata": {},
   "source": [
    "### Simulación de la Ejecución de Sphinx"
   ]
  },
  {
   "cell_type": "markdown",
   "id": "9cd0226a-489c-4ed1-a6d0-55451462c3fc",
   "metadata": {},
   "source": [
    "#### 1. **Instalación (asumiendo que ya tienes Python y pip instalados)**"
   ]
  },
  {
   "cell_type": "markdown",
   "id": "3d92ce3b-e335-4f21-a309-07cb3e1adaed",
   "metadata": {},
   "source": [
    "Primero, abrirías tu terminal (o símbolo del sistema en Windows) y ejecutarías:\n",
    "\n",
    "```bash\n",
    "pip install sphinx\n",
    "```"
   ]
  },
  {
   "cell_type": "markdown",
   "id": "c31c0420-79cd-4675-bc3f-08b13f77f467",
   "metadata": {},
   "source": [
    "### 2. **Crear un nuevo proyecto de Sphinx**"
   ]
  },
  {
   "cell_type": "markdown",
   "id": "8678e410-3430-4bc4-a93f-4d5fb37d5deb",
   "metadata": {},
   "source": [
    "Una vez que Sphinx está instalado, crearías un nuevo directorio para tu proyecto:\n",
    "\n",
    "```bash\n",
    "mkdir mi_documentacion\n",
    "cd mi_documentacion\n",
    "```\n",
    "\n",
    "Luego, ejecutarías el comando para inicializar un nuevo proyecto de Sphinx:\n",
    "\n",
    "```bash\n",
    "sphinx-quickstart\n",
    "```"
   ]
  },
  {
   "cell_type": "markdown",
   "id": "4211ddb2-27f9-4e12-b0c0-49015bed7e68",
   "metadata": {},
   "source": [
    "#### 3. **Respondiendo a las preguntas de configuración**"
   ]
  },
  {
   "cell_type": "markdown",
   "id": "c3bfdde3-e3bc-457e-882a-5357f711aa6c",
   "metadata": {},
   "source": [
    "El comando `sphinx-quickstart` te haría varias preguntas para configurar tu proyecto. Por ejemplo:\n",
    "\n",
    "```\n",
    "Welcome to Sphinx 5.0.2 documentation generator.\n",
    "\n",
    "Please enter values for the following questions. End with an empty line.\n",
    "\n",
    "Author name [Your name]:\n",
    "Project name [My Project]:\n",
    "Project version [1.0]:\n",
    "Release []:\n",
    "Source dir []: source\n",
    "Build dir []: build\n",
    "HTML theme [alabaster]:\n",
    "```"
   ]
  },
  {
   "cell_type": "markdown",
   "id": "1cd5c694-ca85-42be-a4c7-5063d473b197",
   "metadata": {},
   "source": [
    "Puedes ingresar tus respuestas o simplemente presionar Enter para aceptar los valores predeterminados. Al final, se creará la estructura básica de directorios y archivos."
   ]
  },
  {
   "cell_type": "markdown",
   "id": "8e5cd24c-b30c-4bee-ba61-875b2f2eaa91",
   "metadata": {},
   "source": [
    "#### 4. **Estructura del proyecto**"
   ]
  },
  {
   "cell_type": "markdown",
   "id": "b167ad70-6736-431c-b8cc-17a7e90f4093",
   "metadata": {},
   "source": [
    "Después de ejecutar `sphinx-quickstart`, deberías tener la siguiente estructura de directorios:\n",
    "\n",
    "```\n",
    "mi_documentacion/\n",
    "├── build/\n",
    "├── source/\n",
    "│   ├── conf.py\n",
    "│   ├── index.rst\n",
    "```\n",
    "\n",
    "- `conf.py` es el archivo de configuración donde puedes personalizar tu proyecto.\n",
    "- `index.rst` es el archivo principal que contiene la estructura de tu documentación."
   ]
  },
  {
   "cell_type": "markdown",
   "id": "95cf1ec4-5535-40b5-9b32-f06550cde438",
   "metadata": {},
   "source": [
    "#### 5. **Escribir documentación**"
   ]
  },
  {
   "cell_type": "markdown",
   "id": "b1924d04-e828-491d-a341-3d25311307c3",
   "metadata": {},
   "source": [
    "Abre `source/index.rst` en un editor de texto y añade contenido. Un ejemplo simple podría ser:\n",
    "\n",
    "```rst\n",
    ".. My Project documentation master file, created by\n",
    "   sphinx-quickstart on Mon Jan 01 00:00:00 2023.\n",
    "   You can adapt this file completely to your liking, but it should at least\n",
    "   contain the root `toctree` directive.\n",
    "\n",
    "Welcome to My Project's documentation!\n",
    "=======================================\n",
    "\n",
    "Contents:\n",
    "\n",
    ".. toctree::\n",
    "   :maxdepth: 2\n",
    "   :caption: Table of Contents\n",
    "\n",
    "   your_module  # Este sería un archivo que puedes crear, por ejemplo.\n",
    "```"
   ]
  },
  {
   "cell_type": "markdown",
   "id": "00aaae10-68ca-4e47-95fa-25102913bd5a",
   "metadata": {},
   "source": [
    "#### 6. **Generar la documentación**"
   ]
  },
  {
   "cell_type": "markdown",
   "id": "9c4e09fd-b1bd-40d6-b0b8-b4670901561b",
   "metadata": {},
   "source": [
    "Para construir la documentación en formato HTML, regresa a la terminal y ejecuta:\n",
    "\n",
    "```bash\n",
    "make html\n",
    "```\n",
    "\n",
    "Si estás en Windows, puedes usar:\n",
    "\n",
    "```bash\n",
    ".\\make.bat html\n",
    "```\n",
    "\n",
    "Esto generará la documentación en el directorio `build/html`."
   ]
  },
  {
   "cell_type": "markdown",
   "id": "a7e8f17d-6aef-46ec-a074-4527f0dd1cf1",
   "metadata": {},
   "source": [
    "#### 7. **Ver la documentación generada**"
   ]
  },
  {
   "cell_type": "markdown",
   "id": "ccfc86b5-1bb7-44f2-a792-04fe1c36f705",
   "metadata": {},
   "source": [
    "Finalmente, ahora puedes abrir el archivo `index.html` ubicado en `build/html` con tu navegador web. Simplemente navega a esa ubicación y abre el archivo:\n",
    "\n",
    "```bash\n",
    "open build/html/index.html  # En macOS\n",
    "xdg-open build/html/index.html  # En Linux\n",
    "start build\\html\\index.html  # En Windows\n",
    "```"
   ]
  },
  {
   "cell_type": "markdown",
   "id": "1e50567e-b6c7-4781-a6aa-b2cb5464c5be",
   "metadata": {},
   "source": [
    "### Resumen"
   ]
  },
  {
   "cell_type": "markdown",
   "id": "77fa2718-2059-4fba-bac0-be0f7b1102c4",
   "metadata": {},
   "source": [
    "Así es cómo simularías la ejecución de Sphinx para crear un proyecto de documentación. Aunque no puedo ejecutar los comandos en un entorno real, estos pasos describen cómo se haría. Si necesitas ejemplos más específicos o quieres profundizar en alguna parte del proceso, ¡hazmelo saber!"
   ]
  },
  {
   "cell_type": "markdown",
   "id": "3fe56b56-be95-416a-9f65-92f8d7cb742e",
   "metadata": {},
   "source": [
    "Sphinx puede procesar diferentes estilos de docstrings, pero su soporte varía dependiendo de la extensión que uses para generar la documentación.\n",
    "\n",
    "📌 Sphinx y los estilos de docstrings\n",
    "Sphinx, por defecto, interpreta docstrings en reStructuredText (reST), pero con la extensión adecuada, también puede procesar otros formatos:"
   ]
  },
  {
   "cell_type": "markdown",
   "id": "6602d9d5-53c7-4dc7-a37a-6f22ebe47793",
   "metadata": {},
   "source": [
    "- 1️⃣ reStructuredText (reST) (Formato Nativo de Sphinx)\n",
    "\n",
    "Se integra directamente con Sphinx sin configuraciones adicionales.\n",
    "\n",
    "Usa el formato estándar de Sphinx con :param, :return, etc.\n",
    "\n",
    "- 2️⃣ Google Style\n",
    "\n",
    "Se admite usando la extensión sphinx.ext.napoleon.\n",
    "\n",
    "Es más legible y fácil de escribir.\n",
    "\n",
    "- 3️⃣ NumPy Style\n",
    "\n",
    "También soportado por sphinx.ext.napoleon.\n",
    "\n",
    "Muy utilizado en la comunidad científica.\n",
    "\n",
    "🚀 Cómo configurar Sphinx para Google y NumPy\n",
    "Si deseas usar los estilos Google o NumPy, debes habilitar Napoleon en tu configuración de Sphinx (conf.py):"
   ]
  },
  {
   "cell_type": "markdown",
   "id": "a71e2482-f85d-4906-a2d5-c5032c175aca",
   "metadata": {},
   "source": [
    "```python\n",
    "# En conf.py, agrega:\n",
    "extensions = ['sphinx.ext.napoleon']\n",
    "```\n",
    "\n",
    "Con esto, Sphinx podrá leer tanto Google Style como NumPy Style, además del formato nativo en reStructuredText.\n",
    "\n",
    "En resumen:\n",
    "- ✅ Sphinx lee cualquier estilo, pero requiere napoleon para Google y NumPy.\n",
    "- ✅ Si usas reST, Sphinx lo interpreta de forma nativa."
   ]
  },
  {
   "cell_type": "markdown",
   "id": "70572a8c-556e-43c4-b3d3-241058a6ed1b",
   "metadata": {},
   "source": [
    "### sphinx funciona con otros lenguajes?"
   ]
  },
  {
   "cell_type": "markdown",
   "id": "03885e56-5ffc-47d1-82a5-9c739f7b59e8",
   "metadata": {},
   "source": [
    "ChatGPT dijo:\n",
    "Sí, aunque Sphinx está diseñado principalmente para Python, también puede documentar otros lenguajes con las extensiones adecuadas. 🚀\n",
    "\n",
    "- 🔹 Lenguajes compatibles con Sphinx\n",
    "  - 1️⃣ Python (Soporte Nativo)\n",
    "\n",
    "    Sphinx se creó para documentar proyectos en Python.\n",
    "    Soporta módulos, clases, funciones, atributos, excepciones, etc.\n",
    "    Extrae docstrings y genera documentación automáticamente.\n",
    "\n",
    "  - 2️⃣ C/C++\n",
    "\n",
    "    Con la extensión sphinx.ext.c o sphinx.ext.cpp, puedes documentar código en C y C++.\n",
    "    Permite documentar funciones, estructuras y clases con directivas como .. c:function:: o .. cpp:class::.\n",
    "\n",
    "  - 3️⃣ JavaScript\n",
    "\n",
    "      Usando la extensión sphinx-js, Sphinx puede extraer documentación de archivos JavaScript y TypeScript.\n",
    "      Compatible con JSDoc.\n",
    "\n",
    "  - 4️⃣ Java\n",
    "\n",
    "    Aunque no tiene soporte nativo, puedes integrar Sphinx con Javadoc o usar extensiones como sphinxcontrib-javadoc.\n",
    "\n",
    "  - 5️⃣ Otros lenguajes (Rust, Go, PHP, etc.)\n",
    "\n",
    "    Puedes usar extensiones personalizadas o escribir documentación en reStructuredText sin extracción automática del código fuente.\n",
    "    Algunas herramientas como Doxygen pueden generar archivos compatibles con Sphinx.\n",
    "\n",
    "🔹 Ejemplo: Documentar C++ en Sphinx\n",
    "```rst\n",
    ".. cpp:function:: int suma(int a, int b)\n",
    "\n",
    "   Calcula la suma de dos enteros.\n",
    "\n",
    "   :param a: Primer número.\n",
    "   :param b: Segundo número.\n",
    "   :returns: La suma de `a` y `b`.\n",
    "```\n",
    "\n",
    "🔹 Conclusión\n",
    "\n",
    "- ✅ Sphinx se puede usar con varios lenguajes, aunque el soporte para algunos requiere extensiones adicionales.\n",
    "- ✅ Para lenguajes sin soporte directo, puedes escribir la documentación manualmente en reStructuredText."
   ]
  },
  {
   "cell_type": "markdown",
   "id": "84d8dd30-3ec1-44da-8a15-24a0d703d5aa",
   "metadata": {},
   "source": [
    "## hay forma de que sphinx haga todo en modo oscuro?"
   ]
  },
  {
   "cell_type": "markdown",
   "id": "f7aabad6-a82a-4574-8bd5-035faad86864",
   "metadata": {},
   "source": [
    "ChatGPT dijo:\n",
    "Sí, Sphinx puede usar un tema en modo oscuro. Hay varias formas de hacerlo:\n",
    "\n",
    "- 🔹 Opción 1: Usar un tema con soporte para modo oscuro\n",
    "Algunos temas ya tienen modo oscuro integrado, por ejemplo:\n",
    "\n",
    "- 📌 1. furo (Recomendado)\n",
    "\n",
    "    Un tema moderno con soporte automático para modo oscuro.\n",
    "    Se adapta a la preferencia del sistema del usuario.\n",
    "\n",
    "I- nstalación y configuración:\n",
    "\n",
    "```bash\n",
    "pip install furo\n",
    "```\n",
    "\n",
    "En conf.py, agrega:\n",
    "\n",
    "```python\n",
    "html_theme = \"furo\"\n",
    "```\n",
    "\n",
    "- 📌 2. sphinx_rtd_theme con CSS personalizado\n",
    "\n",
    "    Si usas sphinx_rtd_theme (el de ReadTheDocs), puedes forzar el modo oscuro con CSS:\n",
    "\n",
    "    ```bash\n",
    "    pip install sphinx_rtd_theme\n",
    "    ```\n",
    "    \n",
    "En conf.py:\n",
    "\n",
    "```python\n",
    "    html_theme = \"sphinx_rtd_theme\"\n",
    "    html_css_files = [\"dark_mode.css\"]\n",
    "```\n",
    "    \n",
    "Crea un archivo _static/dark_mode.css con el siguiente CSS:\n",
    "\n",
    "```css\n",
    "    background-color: #1e1e1e;\n",
    "    color: #d4d4d4;\n",
    "}\n",
    "a {\n",
    "    color: #569cd6;\n",
    "}\n",
    "```\n",
    "\n",
    "Asegúrate de agregar esto en conf.py:\n",
    "\n",
    "```python\n",
    "html_static_path = [\"_static\"]\n",
    "```\n"
   ]
  },
  {
   "cell_type": "markdown",
   "id": "df07743c-0e94-4177-bd7e-42c23dbcbe2d",
   "metadata": {},
   "source": []
  },
  {
   "cell_type": "markdown",
   "id": "e6ccacbe-0480-4737-8ce9-1fd1347222bc",
   "metadata": {},
   "source": [
    "```bash\n",
    "\n",
    ":\\AIgenerative\\Curso 2 (Team Software Engineering with AI)\\Semana2\\doc_emilist>sphinx-quickstart\n",
    "Welcome to the Sphinx 8.1.3 quickstart utility.\n",
    "\n",
    "Please enter values for the following settings (just press Enter to\n",
    "accept a default value, if one is given in brackets).\n",
    "\n",
    "Selected root path: .\n",
    "\n",
    "You have two options for placing the build directory for Sphinx output.\n",
    "Either, you use a directory \"_build\" within the root path, or you separate\n",
    "\"source\" and \"build\" directories within the root path.\n",
    "> Separate source and build directories (y/n) [n]: y\n",
    "\n",
    "The project name will occur in several places in the built documentation.\n",
    "> Project name: Lista de Emi\n",
    "> Author name(s): Emiliano\n",
    "> Project release []: 1\n",
    "\n",
    "If the documents are to be written in a language other than English,\n",
    "you can select a language here by its language code. Sphinx will then\n",
    "translate text that it generates into that language.\n",
    "\n",
    "For a list of supported codes, see\n",
    "https://www.sphinx-doc.org/en/master/usage/configuration.html#confval-language.\n",
    "> Project language [en]: es\n",
    "\n",
    "Creating file E:\\AIgenerative\\Curso 2 (Team Software Engineering with AI)\\Semana2\\doc_emilist\\source\\conf.py.\n",
    "Creating file E:\\AIgenerative\\Curso 2 (Team Software Engineering with AI)\\Semana2\\doc_emilist\\source\\index.rst.\n",
    "Creating file E:\\AIgenerative\\Curso 2 (Team Software Engineering with AI)\\Semana2\\doc_emilist\\Makefile.\n",
    "Creating file E:\\AIgenerative\\Curso 2 (Team Software Engineering with AI)\\Semana2\\doc_emilist\\make.bat.\n",
    "\n",
    "Finished: An initial directory structure has been created.\n",
    "\n",
    "You should now populate your master file E:\\AIgenerative\\Curso 2 (Team Software Engineering with AI)\\Semana2\\doc_emilist\\source\n",
    "\\index.rst and create other documentation\n",
    "source files. Use the Makefile to build the docs, like so:\n",
    "   make builder\n",
    "where \"builder\" is one of the supported builders, e.g. html, latex or linkcheck.\n",
    "\n",
    "\n",
    "E:\\AIgenerative\\Curso 2 (Team Software Engineering with AI)\\Semana2\\doc_emilist>\n",
    "```"
   ]
  },
  {
   "cell_type": "markdown",
   "id": "1e7cdff1-d97b-4eea-b896-498ff86cf7f1",
   "metadata": {},
   "source": [
    "## Configurar config.py"
   ]
  },
  {
   "cell_type": "markdown",
   "id": "35563120-d801-42c1-ba40-57905335df24",
   "metadata": {},
   "source": [
    "- 2️⃣ Agrega la ruta del código fuente\n",
    "\n",
    "En conf.py, agrega esto para que Sphinx encuentre tu módulo:\n",
    "\n",
    "```python\n",
    "import os\n",
    "import sys\n",
    "sys.path.insert(0, os.path.abspath(\"..\"))  # Ajusta la ruta si es necesario\n",
    "```\n",
    "\n",
    "Si tu código está dentro de una carpeta como src, usa:\n",
    "\n",
    "```python\n",
    "sys.path.insert(0, os.path.abspath(\"../src\"))\n",
    "```\n"
   ]
  },
  {
   "cell_type": "markdown",
   "id": "9da387ec-864e-4889-b4aa-cb9e5411f000",
   "metadata": {},
   "source": [
    "- 1️⃣ Verifica que sphinx.ext.autodoc esté activado\n",
    "\n",
    "Abre el archivo docs/conf.py y asegúrate de que la línea con sphinx.ext.autodoc no esté comentada:\n",
    "\n",
    "```python\n",
    "extensions = [\n",
    "    \"sphinx.ext.autodoc\",\n",
    "    \"sphinx.ext.napoleon\",  # Para soportar docstrings estilo Google\n",
    "]\n",
    "```\n",
    "\n",
    "También puedes agregar \"sphinx.ext.viewcode\" para que la documentación tenga enlaces al código fuente."
   ]
  },
  {
   "cell_type": "markdown",
   "id": "41a0dd4f-5750-41eb-bbe1-fc9b013a2857",
   "metadata": {},
   "source": [
    "- Genera los archivos .rst con sphinx-apidoc\n",
    "\n",
    "Desde la carpeta docs, ejecuta:\n",
    "\n",
    "```sh\n",
    "sphinx-apidoc -o source/ ../\n",
    "```\n",
    "    \n",
    "Esto generará archivos .rst en \n",
    "docs/source/ con referencias a tu código.\n",
    "\n",
    "Si no ves archivos .rst, revisa que la ruta ../ apunte a tu código.\n",
    "\n"
   ]
  },
  {
   "cell_type": "markdown",
   "id": "958135df-2447-4e31-acc5-ba4f85944d0d",
   "metadata": {},
   "source": [
    "al ejecutar \n",
    "\n",
    "```cmd\n",
    "E:\\AIgenerative\\Curso 2 (Team Software Engineering with AI)\\Semana2\\doc_emilist>sphinx-apidoc -o source/ ./codigo  \n",
    "\n",
    "E:\\AIgenerative\\Curso 2 (Team Software Engineering with AI)\\Semana2\\doc_emilist>\n",
    "```\n",
    "\n",
    "se generaron 3 archivos rst\n",
    "\n",
    "- index.rst\n",
    "\n",
    "```rst\n",
    ".. Lista de Emi documentation master file, created by\n",
    "   sphinx-quickstart on Wed Mar 26 10:59:50 2025.\n",
    "   You can adapt this file completely to your liking, but it should at least\n",
    "   contain the root `toctree` directive.\n",
    "\n",
    "Lista de Emi documentation\n",
    "==========================\n",
    "\n",
    "Add your content using ``reStructuredText`` syntax. See the\n",
    "`reStructuredText <https://www.sphinx-doc.org/en/master/usage/restructuredtext/index.html>`_\n",
    "documentation for details.\n",
    "\n",
    "\n",
    ".. toctree::\n",
    "   :maxdepth: 2\n",
    "   :caption: Contents:\n",
    "```\n",
    "\n",
    "- modules.rst\n",
    "\n",
    "```rst\n",
    "codigo\n",
    "======\n",
    "\n",
    ".. toctree::\n",
    "   :maxdepth: 4\n",
    "\n",
    "   emilist\n",
    "```\n",
    "\n",
    "y por ultimo el  rst del codigo\n",
    "\n",
    "- emilist.rst\n",
    "\n",
    "```rst\n",
    "emilist module\n",
    "==============\n",
    "\n",
    ".. automodule:: emilist\n",
    "   :members:\n",
    "   :undoc-members:\n",
    "   :show-inheritance:\n",
    "```\n",
    "\n"
   ]
  },
  {
   "cell_type": "markdown",
   "id": "309f720e-6251-47ea-b8ea-11caba937b34",
   "metadata": {},
   "source": [
    "Agregar el modulo en el index:\n",
    "\n",
    "en index.rst\n",
    "\n",
    "```rst\n",
    ".. Lista de Emi documentation master file, created by\n",
    "   sphinx-quickstart on Wed Mar 26 10:59:50 2025.\n",
    "   You can adapt this file completely to your liking, but it should at least\n",
    "   contain the root `toctree` directive.\n",
    "\n",
    "Lista de Emi documentation\n",
    "==========================\n",
    "\n",
    "Add your content using ``reStructuredText`` syntax. See the\n",
    "`reStructuredText <https://www.sphinx-doc.org/en/master/usage/restructuredtext/index.html>`_\n",
    "documentation for details.\n",
    "\n",
    "\n",
    ".. toctree::\n",
    "   :maxdepth: 2\n",
    "   :caption: Contents:\n",
    "\n",
    "    emilist\n",
    "\n",
    "Indices and tables\n",
    "==================\n",
    "\n",
    "* :ref:`genindex`\n",
    "* :ref:`modindex`\n",
    "* :ref:`search`\n",
    "```\n"
   ]
  },
  {
   "cell_type": "markdown",
   "id": "9443ccb1-0dd4-41ec-8dbe-a06c68842766",
   "metadata": {},
   "source": [
    "## Configurar el modo oscuro\n",
    "\n",
    "en config.py cambiar el html_theme\n",
    "\n",
    "```python\n",
    "# html_theme = 'alabaster'\n",
    "# modo oscuro pip install furo\n",
    "html_theme = \"furo\"\n",
    "```"
   ]
  },
  {
   "cell_type": "markdown",
   "id": "f666f5f4-7048-4669-8d56-8f2f08f0f4ed",
   "metadata": {},
   "source": [
    "## Generar documentacion en html"
   ]
  },
  {
   "cell_type": "markdown",
   "id": "bb67dcff-8ffa-406e-9a61-cee771f2961a",
   "metadata": {},
   "source": [
    "```cmd\n",
    "E:\\AIgenerative\\Curso 2 (Team Software Engineering with AI)\\Semana2\\doc_emilist>make html\n",
    "Running Sphinx v8.1.3\n",
    "loading translations [es]... done\n",
    "making output directory... done\n",
    "building [mo]: targets for 0 po files that are out of date\n",
    "writing output... \n",
    "building [html]: targets for 3 source files that are out of date\n",
    "updating environment: [new config] 3 added, 0 changed, 0 removed\n",
    "reading sources... [100%] modules\n",
    "looking for now-outdated files... none found\n",
    "pickling environment... done\n",
    "checking consistency... E:\\AIgenerative\\Curso 2 (Team Software Engineering with AI)\\Semana2\\doc_emilist\\source\\modules.rst: WAR\n",
    "NING: document isn't included in any toctree\n",
    "done\n",
    "preparing documents... done\n",
    "copying assets...       \n",
    "copying static files... \n",
    "Writing evaluated template result to E:\\AIgenerative\\Curso 2 (Team Software Engineering with AI)\\Semana2\\doc_emilist\\build\\html\n",
    "\\_static\\basic.css\n",
    "Writing evaluated template result to E:\\AIgenerative\\Curso 2 (Team Software Engineering with AI)\\Semana2\\doc_emilist\\build\\html\n",
    "\\_static\\documentation_options.js\n",
    "Writing evaluated template result to E:\\AIgenerative\\Curso 2 (Team Software Engineering with AI)\\Semana2\\doc_emilist\\build\\html\n",
    "\\_static\\language_data.js\n",
    "copying static files: done\n",
    "copying extra files... \n",
    "copying extra files: done\n",
    "copying assets: done\n",
    "writing output... [100%] modules\n",
    "generating indices... genindex py-modindex done\n",
    "writing additional pages... search done\n",
    "dumping search index in Spanish (code: es)... done\n",
    "dumping object inventory... done\n",
    "build succeeded, 1 warning.     \n",
    "\n",
    "The HTML pages are in build\\html.\n",
    "``` "
   ]
  },
  {
   "cell_type": "code",
   "execution_count": null,
   "id": "01e8eaf2-a136-413a-8120-805b0e506f9f",
   "metadata": {},
   "outputs": [],
   "source": []
  }
 ],
 "metadata": {
  "kernelspec": {
   "display_name": "Python 3 (ipykernel)",
   "language": "python",
   "name": "python3"
  },
  "language_info": {
   "codemirror_mode": {
    "name": "ipython",
    "version": 3
   },
   "file_extension": ".py",
   "mimetype": "text/x-python",
   "name": "python",
   "nbconvert_exporter": "python",
   "pygments_lexer": "ipython3",
   "version": "3.10.4"
  }
 },
 "nbformat": 4,
 "nbformat_minor": 5
}
