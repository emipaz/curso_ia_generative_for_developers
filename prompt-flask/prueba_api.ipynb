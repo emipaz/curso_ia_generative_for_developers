{
 "cells": [
  {
   "cell_type": "markdown",
   "id": "d6419ca8-c8ff-408d-9896-c803f8672024",
   "metadata": {},
   "source": [
    "# Ejecutamos el servidor flask"
   ]
  },
  {
   "cell_type": "markdown",
   "id": "5490c0f8-8b8e-4018-bc9e-72d71a59802b",
   "metadata": {},
   "source": [
    "```powershell\n",
    "PS E:\\AIgenerative\\Curso 1\\semana2\\prompt-flask> python .\\api.py\n",
    " * Serving Flask app 'api'\n",
    " * Debug mode: on\n",
    "WARNING: This is a development server. Do not use it in a production deployment. Use a production WSGI server instead.\n",
    " * Running on http://127.0.0.1:5000\n",
    "Press CTRL+C to quit\n",
    " * Restarting with watchdog (windowsapi)\n",
    " * Debugger is active!\n",
    " * Debugger PIN: 100-701-448\n",
    "```"
   ]
  },
  {
   "cell_type": "markdown",
   "id": "aed89dfe-54f0-4c30-a477-19a3a7bb562e",
   "metadata": {},
   "source": [
    "## Obtener todas las tareas"
   ]
  },
  {
   "cell_type": "code",
   "execution_count": 15,
   "id": "971ca7d8-e127-43e4-8f42-d69291f56e48",
   "metadata": {},
   "outputs": [
    {
     "name": "stdout",
     "output_type": "stream",
     "text": [
      "["
     ]
    },
    {
     "name": "stderr",
     "output_type": "stream",
     "text": [
      "  % Total    % Received % Xferd  Average Speed   Time    Time     Time  Current\n",
      "                                 Dload  Upload   Total   Spent    Left  Speed\n",
      "\n",
      "  0     0    0     0    0     0      0      0 --:--:-- --:--:-- --:--:--     0\n",
      "100   144  100   144    0     0   8158      0 --:--:-- --:--:-- --:--:--  8470\n"
     ]
    },
    {
     "name": "stdout",
     "output_type": "stream",
     "text": [
      "\n",
      "  {\n",
      "    \"done\": false,\n",
      "    \"id\": 1,\n",
      "    \"title\": \"Comprar leche\"\n",
      "  },\n",
      "  {\n",
      "    \"done\": true,\n",
      "    \"id\": 2,\n",
      "    \"title\": \"Sacar la basura\"\n",
      "  }\n",
      "]\n"
     ]
    }
   ],
   "source": [
    "!curl -X GET http://127.0.0.1:5000/tasks"
   ]
  },
  {
   "cell_type": "markdown",
   "id": "693045ab-aa5f-41f4-9924-7c5c5417e675",
   "metadata": {},
   "source": [
    "## Crear una tarea"
   ]
  },
  {
   "cell_type": "code",
   "execution_count": 16,
   "id": "660ef287-3298-4ee9-8e9d-9c216d3bc47c",
   "metadata": {},
   "outputs": [
    {
     "name": "stdout",
     "output_type": "stream",
     "text": [
      "{\n",
      "  \"done\": false,\n",
      "  \"id\": 3,\n",
      "  \"title\": \"Aprender Flask\"\n",
      "}\n"
     ]
    },
    {
     "name": "stderr",
     "output_type": "stream",
     "text": [
      "  % Total    % Received % Xferd  Average Speed   Time    Time     Time  Current\n",
      "                                 Dload  Upload   Total   Spent    Left  Speed\n",
      "\n",
      "  0     0    0     0    0     0      0      0 --:--:-- --:--:-- --:--:--     0\n",
      "100    87  100    60  100    27   1694    762 --:--:-- --:--:-- --:--:--  2485\n"
     ]
    }
   ],
   "source": [
    "!curl -X POST http://127.0.0.1:5000/tasks -H \"Content-Type: application/json\" -d \"{\\\"title\\\": \\\"Aprender Flask\\\"}\""
   ]
  },
  {
   "cell_type": "markdown",
   "id": "8f3888fe-4249-48ed-bbcc-be3e41813ea0",
   "metadata": {},
   "source": [
    "## Actualizar una tarea"
   ]
  },
  {
   "cell_type": "code",
   "execution_count": 17,
   "id": "0d13e9c7-cfa0-4bbe-8e90-c92bd694d256",
   "metadata": {},
   "outputs": [
    {
     "name": "stdout",
     "output_type": "stream",
     "text": [
      "{\n",
      "  \"done\": true,\n",
      "  \"id\": 1,\n",
      "  \"title\": \"Comprar leche\"\n",
      "}\n"
     ]
    },
    {
     "name": "stderr",
     "output_type": "stream",
     "text": [
      "  % Total    % Received % Xferd  Average Speed   Time    Time     Time  Current\n",
      "                                 Dload  Upload   Total   Spent    Left  Speed\n",
      "\n",
      "  0     0    0     0    0     0      0      0 --:--:-- --:--:-- --:--:--     0\n",
      "100    72  100    58  100    14   1736    419 --:--:-- --:--:-- --:--:--  2181\n"
     ]
    }
   ],
   "source": [
    "!curl -X PUT http://127.0.0.1:5000/tasks/1 -H \"Content-Type: application/json\" -d \"{\\\"done\\\": true}\""
   ]
  },
  {
   "cell_type": "markdown",
   "id": "47b8571e-af03-4c24-8f9c-130bfcf40302",
   "metadata": {},
   "source": [
    "## Eliminar una tarea"
   ]
  },
  {
   "cell_type": "code",
   "execution_count": 18,
   "id": "a2b9790a-b017-4260-9a3b-7db1ca15faa5",
   "metadata": {},
   "outputs": [
    {
     "name": "stdout",
     "output_type": "stream",
     "text": [
      "{\n",
      "  \"message\": \"Tarea eliminada\"\n",
      "}\n"
     ]
    },
    {
     "name": "stderr",
     "output_type": "stream",
     "text": [
      "  % Total    % Received % Xferd  Average Speed   Time    Time     Time  Current\n",
      "                                 Dload  Upload   Total   Spent    Left  Speed\n",
      "\n",
      "  0     0    0     0    0     0      0      0 --:--:-- --:--:-- --:--:--     0\n",
      "100    35  100    35    0     0   1073      0 --:--:-- --:--:-- --:--:--  1093\n"
     ]
    }
   ],
   "source": [
    "!curl -X DELETE http://127.0.0.1:5000/tasks/1"
   ]
  },
  {
   "cell_type": "markdown",
   "id": "479af2ed-2eec-4543-9c87-0ec6d30c1de8",
   "metadata": {},
   "source": [
    "### Ver ejecucion en la consola"
   ]
  },
  {
   "cell_type": "markdown",
   "id": "03a45f20-cc22-4610-af6f-48e6712d6f44",
   "metadata": {},
   "source": [
    "```powershell\n",
    "PS E:\\AIgenerative\\Curso 1\\semana2\\prompt-flask> python .\\api.py\n",
    " * Serving Flask app 'api'\n",
    " * Debug mode: on\n",
    "WARNING: This is a development server. Do not use it in a production deployment. Use a production WSGI server instead.\n",
    " * Running on http://127.0.0.1:5000\n",
    "Press CTRL+C to quit\n",
    " * Restarting with watchdog (windowsapi)\n",
    " * Debugger is active!\n",
    " * Debugger PIN: 100-701-448\n",
    "127.0.0.1 - - [03/Feb/2025 14:56:30] \"GET /tasks HTTP/1.1\" 200 -\n",
    "127.0.0.1 - - [03/Feb/2025 14:56:32] \"POST /tasks HTTP/1.1\" 201 -\n",
    "127.0.0.1 - - [03/Feb/2025 14:56:34] \"PUT /tasks/1 HTTP/1.1\" 200 -\n",
    "127.0.0.1 - - [03/Feb/2025 14:56:35] \"DELETE /tasks/1 HTTP/1.1\" 200 -\n",
    "```"
   ]
  },
  {
   "cell_type": "code",
   "execution_count": 19,
   "id": "c07232ad-7443-434e-a594-c8ccb07433d6",
   "metadata": {},
   "outputs": [
    {
     "name": "stdout",
     "output_type": "stream",
     "text": [
      "[\n",
      "  {\n",
      "    \"done\": true,\n",
      "    \"id\": 2,\n",
      "    \"title\": \"Sacar la basura\"\n",
      "  },\n",
      "  {\n",
      "    \"done\": false,\n",
      "    \"id\": 3,\n",
      "    \"title\": \"Aprender Flask\"\n",
      "  }\n",
      "]\n"
     ]
    },
    {
     "name": "stderr",
     "output_type": "stream",
     "text": [
      "  % Total    % Received % Xferd  Average Speed   Time    Time     Time  Current\n",
      "                                 Dload  Upload   Total   Spent    Left  Speed\n",
      "\n",
      "  0     0    0     0    0     0      0      0 --:--:-- --:--:-- --:--:--     0\n",
      "100   145  100   145    0     0   6409      0 --:--:-- --:--:-- --:--:--  6590\n"
     ]
    }
   ],
   "source": [
    "!curl -X GET http://127.0.0.1:5000/tasks"
   ]
  },
  {
   "cell_type": "code",
   "execution_count": null,
   "id": "6e99f720-bba1-4d92-9544-f52d8965f7a0",
   "metadata": {},
   "outputs": [],
   "source": []
  }
 ],
 "metadata": {
  "kernelspec": {
   "display_name": "Python 3 (ipykernel)",
   "language": "python",
   "name": "python3"
  },
  "language_info": {
   "codemirror_mode": {
    "name": "ipython",
    "version": 3
   },
   "file_extension": ".py",
   "mimetype": "text/x-python",
   "name": "python",
   "nbconvert_exporter": "python",
   "pygments_lexer": "ipython3",
   "version": "3.10.4"
  }
 },
 "nbformat": 4,
 "nbformat_minor": 5
}
