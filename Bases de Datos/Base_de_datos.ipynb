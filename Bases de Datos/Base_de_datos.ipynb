{
 "cells": [
  {
   "cell_type": "markdown",
   "id": "dd5990c9-8ce6-42c1-a3a9-32e740288a77",
   "metadata": {},
   "source": [
    "# Bases da Datos"
   ]
  },
  {
   "cell_type": "markdown",
   "id": "26c758db-fdc7-40bb-8742-6ea2ac8ecce8",
   "metadata": {},
   "source": [
    "Prompt:  \n",
    "\n",
    "este es un prompt de ejamplo para usar un llm que nos ayude:\n",
    "\n",
    "\"Sugiere una configuración de Python ligera pero potente que use una base de datos basada en archivos para poder practicar con bases de datos. Quiero que el código pueda ejecutarse en Google Colab.\"\n",
    "\n",
    "1. que opinas del prompt\n",
    "2. que responderias al prompt "
   ]
  },
  {
   "cell_type": "markdown",
   "id": "5f1dfd57-8daa-4a8e-afe2-62f6e1449fba",
   "metadata": {},
   "source": [
    "1. ¿Qué opino del prompt?\n",
    "\n",
    "    El prompt está bastante bien planteado: es claro, tiene un objetivo (practicar con bases de datos), especifica el entorno (Google Colab) y da una restricción técnica razonable (base de datos basada en archivos, ligera pero potente).\n",
    "\n",
    "Algunas sugerencias menores para hacerlo aún más efectivo:\n",
    "\n",
    "- Aclarar si se quiere usar SQL directamente o también experimentar con ORM.\n",
    "- Mencionar si se desea trabajar en modo interactivo (Jupyter) o con scripts.\n",
    "\n",
    "Versión mejorada del prompt (opcional):\n",
    "\n",
    "```textpain\n",
    "“Sugiere una configuración ligera en Python para practicar con bases de datos en Google Colab, usando una base de datos basada en archivos (como SQLite). Quiero que el entorno sea fácil de usar, preferentemente con SQL y también opcionalmente con SQLAlchemy (ORM).”\n",
    "```"
   ]
  },
  {
   "cell_type": "markdown",
   "id": "c91d118c-3696-47d9-b1b3-e3fa1c30688d",
   "metadata": {},
   "source": [
    "2. ¿Qué respondería al prompt?\n",
    "\n",
    "    Aquí va una posible respuesta útil del LLM:\n",
    "\n",
    "Para practicar bases de datos en Google Colab con una configuración ligera pero potente, te recomiendo usar SQLite junto con las librerías estándar de Python y, opcionalmente, SQLAlchemy para trabajar con ORM.\n",
    "\n",
    "- ✅ Configuración recomendada:\n",
    "\n",
    "```python\n",
    "# Instalar SQLAlchemy si querés usar ORM\n",
    "!pip install sqlalchemy\n",
    "```\n",
    "\n",
    "- 🔧 Librerías a usar:\n",
    "  - sqlite3: viene con Python, permite ejecutar consultas SQL directamente.\n",
    "  - SQLAlchemy: opcional, permite trabajar con bases de datos usando clases y objetos de Python (ORM).\n",
    "  - "
   ]
  },
  {
   "cell_type": "markdown",
   "id": "f0a7a285-e663-4fa1-9eb6-549b3250ca54",
   "metadata": {},
   "source": [
    "- 🗃️ Base de datos basada en archivo:\n",
    "\n",
    "    SQLite crea un archivo .db que contiene toda la base de datos. Es ideal para Colab porque:\n",
    "\n",
    "  - No necesita instalación de servidor.\n",
    "  - Se puede guardar en el sistema de archivos de Colab o descargarlo."
   ]
  },
  {
   "cell_type": "markdown",
   "id": "2c28ba32-7e84-449b-a506-e7a4ad3badd1",
   "metadata": {},
   "source": [
    "## 🧪 Ejemplo básico con sqlite3:"
   ]
  },
  {
   "cell_type": "code",
   "execution_count": null,
   "id": "baecbe5f-4ce4-46fe-892b-05da0825bc70",
   "metadata": {},
   "outputs": [],
   "source": [
    "import sqlite3"
   ]
  },
  {
   "cell_type": "code",
   "execution_count": null,
   "id": "2c186a1c-7479-45a9-8774-b053c3f07af3",
   "metadata": {},
   "outputs": [],
   "source": [
    "# Crear conexión y cursor\n",
    "conn = sqlite3.connect(\"mi_base_de_datos.db\")\n",
    "cursor = conn.cursor()"
   ]
  },
  {
   "cell_type": "code",
   "execution_count": null,
   "id": "869d8a73-e6d3-4050-b2de-120230fb3fbd",
   "metadata": {},
   "outputs": [],
   "source": [
    "# Crear tabla\n",
    "cursor.execute(\"CREATE TABLE IF NOT EXISTS alumnos (id INTEGER PRIMARY KEY, nombre TEXT)\")"
   ]
  },
  {
   "cell_type": "code",
   "execution_count": null,
   "id": "007053ad-abee-4f52-8bc6-3eb7df971b9d",
   "metadata": {},
   "outputs": [],
   "source": [
    "# Insertar datos\n",
    "cursor.execute(\"INSERT INTO alumnos (nombre) VALUES (?)\", (\"Ana\",))\n",
    "conn.commit()"
   ]
  },
  {
   "cell_type": "code",
   "execution_count": null,
   "id": "379f9359-ad85-47ec-ac93-6bd39cf2d3aa",
   "metadata": {},
   "outputs": [],
   "source": [
    "# Leer datos\n",
    "cursor.execute(\"SELECT * FROM alumnos\")\n",
    "print(cursor.fetchall())"
   ]
  },
  {
   "cell_type": "markdown",
   "id": "df150356-6a40-4b30-814a-4bd3edcbaf60",
   "metadata": {},
   "source": [
    "Cargar varios registros desde una lista de tuplas"
   ]
  },
  {
   "cell_type": "code",
   "execution_count": null,
   "id": "62b699fa-f2cd-46ec-8555-3c2dbaacb115",
   "metadata": {},
   "outputs": [],
   "source": [
    "# Lista de alumnos\n",
    "alumnos = [(\"Luis\",), (\"María\",), (\"Pedro\",), (\"Lucía\",)]\n",
    "\n",
    "# Insertar múltiples filas con executemany\n",
    "cursor.executemany(\"INSERT INTO alumnos (nombre) VALUES (?)\", alumnos)\n",
    "conn.commit()"
   ]
  },
  {
   "cell_type": "code",
   "execution_count": null,
   "id": "8db380da-04f2-4efa-b301-7a1aee7af982",
   "metadata": {},
   "outputs": [],
   "source": [
    "# Cerrar cpneccion a la base\n",
    "\n",
    "conn.close()"
   ]
  },
  {
   "cell_type": "markdown",
   "id": "c77dc7dd-a46a-4043-b63c-3283731dbbee",
   "metadata": {},
   "source": [
    "- 🚀 Consejo extra:\n",
    "\n",
    "Podés usar librerías como pandas para visualizar resultados de consultas en forma de tabla:"
   ]
  },
  {
   "cell_type": "code",
   "execution_count": null,
   "id": "3ad42f1f-3dc8-4ae8-af70-7d1b893d7ff6",
   "metadata": {},
   "outputs": [],
   "source": [
    "import pandas as pd\n",
    "\n",
    "conn = sqlite3.connect(\"mi_base_de_datos.db\")\n",
    "df = pd.read_sql_query(\"SELECT * FROM alumnos\", conn)\n",
    "df.head()\n"
   ]
  },
  {
   "cell_type": "markdown",
   "id": "b4381411-74c4-454d-bf32-b949f9b9c0f7",
   "metadata": {},
   "source": [
    "## Ejemplo del video del curso"
   ]
  },
  {
   "cell_type": "code",
   "execution_count": null,
   "id": "c4e94bb1-dce1-449d-9cc2-944a170ab93d",
   "metadata": {},
   "outputs": [],
   "source": [
    "from sqlalchemy import create_engine\n",
    "from sqlalchemy import text"
   ]
  },
  {
   "cell_type": "code",
   "execution_count": null,
   "id": "d1c4e2db-20e8-4d38-9fee-c6db83c7f93f",
   "metadata": {},
   "outputs": [],
   "source": [
    "# Crea el \"engine\" para conectarse a una base de datos SQLite llamada\n",
    "# echo=True: hace que SQLAlchemy muestre en consola todas las consultas SQL\n",
    "engine = create_engine('sqlite:///ecommerce.db', echo=True) "
   ]
  },
  {
   "cell_type": "code",
   "execution_count": null,
   "id": "b4eb3219-af53-4b14-a670-fb6b4756c3b3",
   "metadata": {},
   "outputs": [],
   "source": [
    "\n",
    "with engine.connect() as connection:\n",
    "    result = connection.execute(text(\"SELECT 1\"))\n",
    "    # Fetch and print the result\n",
    "    print(result.scalar()) # This should print 1 if the connection is successful"
   ]
  },
  {
   "cell_type": "markdown",
   "id": "9f0efd92-3043-4227-ab92-72bd18eacaec",
   "metadata": {},
   "source": [
    "### Otro ejemplo con mas datos y una base de datos en memoria"
   ]
  },
  {
   "cell_type": "markdown",
   "id": "55e8e6e2-3eb5-4de4-884a-cb2d908bc0b3",
   "metadata": {},
   "source": [
    "Para crear una base de datos en memoria (es decir, que no se guarda en disco y se borra al cerrar la conexión), el cambio clave está en la URL de conexión.\n",
    "\n",
    "🧠 Cambios según la librería\n",
    "\n",
    "- ✅ 1. Con sqlite3 (base en memoria)\n",
    "\n",
    "    ```python\n",
    "    import sqlite3\n",
    "\n",
    "    conn = sqlite3.connect(\":memory:\")\n",
    "    ```\n",
    "\n",
    "\":memory:\" le indica a SQLite que cree una base temporal en la RAM.\n",
    "\n",
    "Se borra cuando cerrás la conexión, Ideal para pruebas rápidas."
   ]
  },
  {
   "cell_type": "markdown",
   "id": "e09b3e4a-98ce-4d8d-95b2-c53f0db1bb80",
   "metadata": {},
   "source": [
    "- ✅ 2. Con SQLAlchemy\n",
    "\n",
    "    ```python\n",
    "    from sqlalchemy import create_engine\n",
    "\n",
    "    engine = create_engine(\"sqlite:///:memory:\", echo=True)\n",
    "    ```\n",
    "\n",
    "\"sqlite:///:memory:\" hace lo mismo: base en RAM, no en archivo.\n",
    "\n",
    "Recordá que cada conexión nueva crea una base distinta, así que si vas a usar engine.connect() varias veces, deberías usar la misma conexión o manejar un poolclass.\n",
    "\n",
    "- ⚠️ Importante con SQLAlchemy\n",
    "\n",
    "    Si vas a usar la base de datos en memoria con varios accesos, usá esto para mantener la misma conexión abierta:\n",
    "\n",
    "    ```python\n",
    "    from sqlalchemy.pool import StaticPool\n",
    "    engine = create_engine(\n",
    "        \"sqlite:///:memory:\",\n",
    "        connect_args={\"check_same_thread\": False},\n",
    "        poolclass=StaticPool,\n",
    "        echo=True\n",
    "    )\n",
    "    ```\n",
    "  "
   ]
  },
  {
   "cell_type": "code",
   "execution_count": null,
   "id": "33569f4c-2847-44c6-a9fe-01ee51055925",
   "metadata": {},
   "outputs": [],
   "source": [
    "from sqlalchemy import create_engine, text"
   ]
  },
  {
   "cell_type": "code",
   "execution_count": null,
   "id": "724da4c3-5ae5-4293-a984-3dbb397fa5df",
   "metadata": {},
   "outputs": [],
   "source": [
    "# Crear conexión a una base de datos SQLite en memoria ram\n",
    "engine = create_engine(\"sqlite:///:memory:\", echo=True)\n",
    "\n",
    "# Crear tabla e insertar múltiples filas\n",
    "with engine.connect() as conn:\n",
    "    conn.execute(text(\"DROP TABLE IF EXISTS alumnos\"))\n",
    "    conn.execute(text(\"CREATE TABLE alumnos (id INTEGER PRIMARY KEY, nombre TEXT)\"))\n",
    "    conn.execute(text(\"INSERT INTO alumnos (nombre) VALUES ('Ana'), ('Luis'), ('María')\"))\n",
    "    conn.commit()"
   ]
  },
  {
   "cell_type": "code",
   "execution_count": null,
   "id": "224abf94-ab0a-495a-a8d2-dd4a7d6da212",
   "metadata": {},
   "outputs": [],
   "source": [
    "# Ejecutar consulta que devuelve varias filas\n",
    "with engine.connect() as conn:\n",
    "    result = conn.execute(text(\"SELECT nombre FROM alumnos\"))\n",
    "    \n",
    "    # scalar() solo toma el primer valor de la primera fila\n",
    "    print(\"Usando .scalar():\", result.scalar())  # → Ana"
   ]
  },
  {
   "cell_type": "markdown",
   "id": "f9af9c08-0c1e-4ad3-9527-2a2ed2f2fe6f",
   "metadata": {},
   "source": [
    "⚠️ Importante\n",
    "\n",
    "> Después de usar .scalar(), el cursor ya ha leído la primera fila, por lo que si luego querés recorrer el resto, tendrías que reejecutar la consulta o usar otro método como .fetchall() desde el principio."
   ]
  },
  {
   "cell_type": "code",
   "execution_count": null,
   "id": "294c5f28-0e37-423d-8339-e15d3cf2ae73",
   "metadata": {},
   "outputs": [],
   "source": [
    "with engine.connect() as conn:\n",
    "    result = conn.execute(text(\"SELECT nombre FROM alumnos\"))\n",
    "    print(\"Usando .fetchoone():\", result.fetchone())  # → Ana"
   ]
  },
  {
   "cell_type": "markdown",
   "id": "74fdbce0-892e-4244-86d3-565e8700ef62",
   "metadata": {},
   "source": [
    "| Método        | Devuelve                                      | Uso típico                        |\n",
    "| ------------- | --------------------------------------------- | --------------------------------- |\n",
    "| `scalar()`    | Un solo valor (primera columna, primera fila) | Consultas tipo `SELECT COUNT(*)`  |\n",
    "| `fetchone()`  | Una sola fila                                 | Cuando esperás un único resultado |\n",
    "| `fetchall()`  | Lista de todas las filas                      | Para procesar todo el resultado   |\n",
    "| `fetchmany()` | Lista parcial de filas                        | Si querés paginar o limitar       |\n",
    "| Iteración     | Una fila por ciclo                            | Para recorrer grandes resultados  |\n"
   ]
  },
  {
   "cell_type": "markdown",
   "id": "cfb2f81a-d789-420c-a997-bebec6024683",
   "metadata": {},
   "source": [
    "# Generacion de un Esquema"
   ]
  },
  {
   "cell_type": "markdown",
   "id": "e0e5c5c3-cb7c-4c77-835d-250ce6434db6",
   "metadata": {},
   "source": [
    "## Diseñe un esquema de base de datos para una aplicación de comercio electrónico con tablas para usuarios, productos, pedidos y order_items."
   ]
  },
  {
   "cell_type": "markdown",
   "id": "ac5c0036-465a-4115-970c-021b47c1d2b0",
   "metadata": {},
   "source": [
    "Claro, acá tenés un diseño básico pero funcional de un esquema de base de datos para una aplicación de comercio electrónico. Incluye las tablas principales: usuarios, productos, pedidos y order_items (ítems del pedido)."
   ]
  },
  {
   "cell_type": "markdown",
   "id": "9957720f-3a3a-44f1-8422-82b811238034",
   "metadata": {},
   "source": [
    "### 📦 Tablas y relaciones"
   ]
  },
  {
   "cell_type": "markdown",
   "id": "45da7fb3-c80e-435d-9060-befb3715df77",
   "metadata": {},
   "source": [
    "1. usuarios\n",
    "  - id: ID único del usuario (PK)\n",
    "  - nombre: nombre del usuario\n",
    "  - email: correo electrónico (único)\n",
    "  - direccion: dirección de envío\n",
    "  - fecha_creacion: fecha en que se registró"
   ]
  },
  {
   "cell_type": "markdown",
   "id": "b0d75e54-4f60-4677-8000-22e8692447a4",
   "metadata": {},
   "source": [
    "2. productos\n",
    "  - id: ID del producto (PK)\n",
    "  - nombre: nombre del producto\n",
    "  - descripcion: texto opcional\n",
    "  - precio: precio unitario\n",
    "  - stock: cantidad disponible"
   ]
  },
  {
   "cell_type": "markdown",
   "id": "0f43efd0-99a2-4e5a-841e-488ed0635f45",
   "metadata": {},
   "source": [
    "3. pedidos\n",
    "  - id: ID del pedido (PK)\n",
    "  - usuario_id: FK → usuarios.id\n",
    "   - fecha: fecha del pedido\n",
    "  - estado: por ejemplo \"pendiente\", \"enviado\", \"cancelado\""
   ]
  },
  {
   "cell_type": "markdown",
   "id": "e0d6e7df-411b-4cad-9397-337ff823b74a",
   "metadata": {},
   "source": [
    "4. order_items\n",
    "  - id: ID del ítem (PK)\n",
    "  - pedido_id: FK → pedidos.id\n",
    "  - producto_id: FK → productos.id\n",
    "  - cantidad: cuántos productos de ese tipo se pidieron\n",
    "  - precio_unitario: precio del producto al momento del pedido (puede cambiar luego en productos)"
   ]
  },
  {
   "cell_type": "markdown",
   "id": "acb886f3-f657-4eac-8369-bfc70a92e80c",
   "metadata": {},
   "source": [
    "🔗 Relaciones\n",
    "\n",
    "- Un usuario puede tener muchos pedidos\n",
    "- Un pedido puede tener muchos ítems\n",
    "- Un ítem pertenece a un solo producto"
   ]
  },
  {
   "cell_type": "markdown",
   "id": "58c6ddbc-0068-4cbf-b4b5-044f0785276f",
   "metadata": {},
   "source": [
    "```sql\n",
    "CREATE TABLE usuarios (\n",
    "    id INTEGER PRIMARY KEY,\n",
    "    nombre TEXT NOT NULL,\n",
    "    email TEXT UNIQUE NOT NULL,\n",
    "    direccion TEXT,\n",
    "    fecha_creacion TEXT\n",
    ");\n",
    "\n",
    "CREATE TABLE productos (\n",
    "    id INTEGER PRIMARY KEY,\n",
    "    nombre TEXT NOT NULL,\n",
    "    descripcion TEXT,\n",
    "    precio REAL NOT NULL,\n",
    "    stock INTEGER NOT NULL\n",
    ");\n",
    "\n",
    "CREATE TABLE pedidos (\n",
    "    id INTEGER PRIMARY KEY,\n",
    "    usuario_id INTEGER NOT NULL,\n",
    "    fecha TEXT NOT NULL,\n",
    "    estado TEXT,\n",
    "    FOREIGN KEY (usuario_id) REFERENCES usuarios(id)\n",
    ");\n",
    "\n",
    "CREATE TABLE order_items (\n",
    "    id INTEGER PRIMARY KEY,\n",
    "    pedido_id INTEGER NOT NULL,\n",
    "    producto_id INTEGER NOT NULL,\n",
    "    cantidad INTEGER NOT NULL,\n",
    "    precio_unitario REAL NOT NULL,\n",
    "    FOREIGN KEY (pedido_id) REFERENCES pedidos(id),\n",
    "    FOREIGN KEY (producto_id) REFERENCES productos(id)\n",
    ");\n",
    "```"
   ]
  },
  {
   "cell_type": "markdown",
   "id": "49e1591f-7e93-4858-b5f6-665b3ad9bb2f",
   "metadata": {},
   "source": [
    "📝 Notas útiles para sqlite3\n",
    "\n",
    "SQLite sí soporta claves foráneas, pero tenés que activarlas si querés que se cumplan:\n",
    "\n",
    "```python\n",
    "cursor.execute(\"PRAGMA foreign_keys = ON;\")\n",
    "```\n",
    "\n",
    "El tipo TEXT y REAL funcionan bien para strings y números con decimales, respectivamente.\n",
    "\n",
    "Las fechas se guardan como texto (TEXT) en formato ISO (YYYY-MM-DD) por lo general.\n",
    "\n"
   ]
  },
  {
   "cell_type": "markdown",
   "id": "6fbac1b5-9736-4cd3-b80c-fd9dfadf9956",
   "metadata": {},
   "source": [
    "### Diferencia entre motores sql"
   ]
  },
  {
   "cell_type": "markdown",
   "id": "ce99d948-37aa-4953-a9ef-aefb3179bc51",
   "metadata": {},
   "source": [
    "- 🟡 Diferencias para MySQL\n",
    "\n",
    "- Tipo INTEGER PRIMARY KEY → AUTO_INCREMENT\n",
    "\n",
    "    ```sql\n",
    "    id INTEGER PRIMARY KEY AUTO_INCREMENT\n",
    "    ```\n",
    "    \n",
    "- Tipo TEXT para fechas → usar DATETIME o TIMESTAMP\n",
    "\n",
    "    ```sql\n",
    "    fecha_creacion DATETIME\n",
    "    fecha DATETIME\n",
    "    ```\n",
    "\n",
    "- Restricción de claves foráneas requiere motor InnoDB\n",
    "\n",
    "Agregá esto al final si querés asegurarte:\n",
    "\n",
    "```sql\n",
    "ENGINE=InnoDB;\n",
    "```\n",
    "\n",
    "Nombres de tablas y columnas a veces necesitan cuidado si son reservados (como order)\n",
    "\n",
    "En tu caso order_items está bien, pero order sería conflictivo.\n",
    "\n",
    "- 🧩 Ejemplo (MySQL, modificada solo una tabla):\n",
    "\n",
    "    ```sql\n",
    "    CREATE TABLE usuarios (\n",
    "        id INTEGER PRIMARY KEY AUTO_INCREMENT,\n",
    "        nombre TEXT NOT NULL,\n",
    "        email TEXT UNIQUE NOT NULL,\n",
    "        direccion TEXT,\n",
    "        fecha_creacion DATETIME\n",
    "    ) ENGINE=InnoDB;\n",
    "    ```"
   ]
  },
  {
   "cell_type": "markdown",
   "id": "867dfba9-2a72-4935-bc11-c28ac911f1e4",
   "metadata": {},
   "source": [
    "- 🔵 Diferencias para PostgreSQL\n",
    "\n",
    "- Tipo INTEGER PRIMARY KEY → SERIAL PRIMARY KEY\n",
    "\n",
    "    ```sql\n",
    "    id SERIAL PRIMARY KEY\n",
    "\n",
    "- Tipo de fechas: usá TIMESTAMP o DATE\n",
    "\n",
    "    ```sql\n",
    "    fecha_creacion TIMESTAMP\n",
    "    fecha TIMESTAMP\n",
    "    ```\n",
    "\n",
    "No hace falta declarar motor (ENGINE), PostgreSQL no lo usa.\n",
    "\n",
    "- Tipos TEXT están OK, pero podrías preferir VARCHAR(n) si querés límites.\n",
    "\n",
    "- 🧩 Ejemplo (PostgreSQL, tabla modificada):\n",
    "\n",
    "    ```sql\n",
    "    CREATE TABLE usuarios (\n",
    "        id SERIAL PRIMARY KEY,\n",
    "        nombre TEXT NOT NULL,\n",
    "        email TEXT UNIQUE NOT NULL,\n",
    "        direccion TEXT,\n",
    "        fecha_creacion TIMESTAMP\n",
    "    );\n",
    "    ```"
   ]
  },
  {
   "cell_type": "markdown",
   "id": "86cc39fa-4f50-44c9-9e26-a616a4e1bc62",
   "metadata": {},
   "source": [
    "✅ Resumen de cambios clave\n",
    "\n",
    "| Elemento                       | SQLite                | MySQL                                | PostgreSQL           |\n",
    "| ------------------------------ | --------------------- | ------------------------------------ | -------------------- |\n",
    "| Clave primaria autoincremental | `INTEGER PRIMARY KEY` | `INTEGER PRIMARY KEY AUTO_INCREMENT` | `SERIAL PRIMARY KEY` |\n",
    "| Fecha/hora                     | `TEXT`                | `DATETIME` o `TIMESTAMP`             | `TIMESTAMP`          |\n",
    "| Motor de tabla                 | No aplica             | `ENGINE=InnoDB`                      | No aplica            |\n"
   ]
  },
  {
   "cell_type": "markdown",
   "id": "2b388862-f81a-46ff-9570-c0fa697f7bcc",
   "metadata": {},
   "source": [
    "# Usando SQLalchemy como ORM"
   ]
  },
  {
   "cell_type": "markdown",
   "id": "49f13aed-4a3b-45cb-840a-a63c85c256dd",
   "metadata": {},
   "source": [
    "## 🧱 ¿Qué es un ORM?\n",
    "\n",
    "ORM significa Object-Relational Mapping (Mapeo Objeto-Relacional).\n",
    "Es una técnica que permite trabajar con bases de datos relacionales (como SQLite, PostgreSQL, MySQL) usando clases y objetos en lugar de escribir consultas SQL manuales.\n",
    "\n",
    "- Con un ORM:\n",
    "  - Cada tabla de la base se representa como una clase.\n",
    "  - Cada fila es una instancia de esa clase.\n",
    "  - Cada columna es un atributo de la clase."
   ]
  },
  {
   "cell_type": "markdown",
   "id": "a7b82b40-8a60-419f-91d3-7a0cf2cdad6b",
   "metadata": {},
   "source": [
    "🧑‍💻 Ejemplo simple\n",
    "\n",
    "En vez de hacer esto en SQL:\n",
    "\n",
    "```sql\n",
    "SELECT * FROM usuarios WHERE id = 1;\n",
    "```\n",
    "\n",
    "Con un ORM como SQLAlchemy podés hacer:\n",
    "\n",
    "```python\n",
    "usuario = session.query(Usuario).get(1)\n",
    "```\n",
    "\n",
    "- 🔧 ¿Para qué sirve?\n",
    "  - Para escribir menos SQL manual.\n",
    "  - Para trabajar con la base usando Python puro.\n",
    "  - Para que el código sea más portable y mantenible.\n",
    "\n"
   ]
  },
  {
   "cell_type": "markdown",
   "id": "b2a3e4af-b47d-4e18-b4a5-ac739b3f632d",
   "metadata": {},
   "source": [
    "| Aspecto                          | ✅ Ventajas del ORM                                           | ⚠️ Desventajas del ORM                                                 |\n",
    "| -------------------------------- | ------------------------------------------------------------ | ---------------------------------------------------------------------- |\n",
    "| **Productividad**                | Abstrae SQL, menos código repetido                           | Puede ocultar detalles importantes del SQL                             |\n",
    "| **Mantenimiento**                | Cambios en la base se reflejan en clases                     | Refactorizar mal puede causar errores silenciosos                      |\n",
    "| **Legibilidad**                  | Más legible para quienes conocen Python                      | Menos legible para quienes prefieren SQL                               |\n",
    "| **Compatibilidad entre motores** | El mismo código puede funcionar en SQLite, MySQL, PostgreSQL | Algunos comportamientos pueden no ser idénticos                        |\n",
    "| **Consultas complejas**          | Permite componer consultas con objetos                       | Consultas muy complejas pueden volverse verbosas                       |\n",
    "| **Seguridad (inyección SQL)**    | Menor riesgo si se usa bien                                  | Menor riesgo, pero aún puede haber errores si se mezcla con SQL manual |\n",
    "| **Rendimiento**                  | Adecuado para la mayoría de los casos                        | Puede ser menos eficiente que SQL optimizado                           |\n",
    "| **Aprendizaje**                  | Más amigable si ya conocés Python                            | Requiere entender el mapeo ORM                                         |\n",
    "| **Depuración**                   | Genera SQL automáticamente (puede verse con `echo=True`)     | A veces cuesta rastrear el SQL generado                                |\n",
    "| **Relaciones entre tablas**      | Muy fácil de navegar con `relationship()`                    | Puede generar muchas consultas si no se usa bien (`n+1 queries`)       |\n"
   ]
  },
  {
   "cell_type": "markdown",
   "id": "ff7bab9b-4af0-4ee9-99fd-e81f5ad14d1a",
   "metadata": {},
   "source": [
    "- 🧠 Conclusión\n",
    "\n",
    "Usar un ORM como SQLAlchemy:\n",
    "\n",
    "Es ideal para prototipos, apps pequeñas a medianas, y cuando priorizás productividad y mantenimiento.\n",
    "\n",
    "Puede ser menos eficiente que SQL puro en proyectos con grandes volúmenes de datos o consultas muy especializadas."
   ]
  },
  {
   "cell_type": "markdown",
   "id": "50c74e9d-1aa3-4f2b-9620-b33f8f635781",
   "metadata": {},
   "source": [
    "! En SQLAlchemy (y en general en cualquier ORM), podés definir métodos personalizados dentro de cada clase del modelo. Esto es muy útil para:\n",
    "\n",
    "- Encapsular lógica relacionada con esa entidad.\n",
    "- Agregar validaciones.\n",
    "- Realizar acciones relacionadas con sus atributos.\n",
    "\n",
    "🧑‍💻 Ejemplo: agregar un método en una clase ORM\n",
    "\n",
    "```python\n",
    "class Usuario(Base):\n",
    "    __tablename__ = 'usuarios'\n",
    "    id = Column(Integer, primary_key=True)\n",
    "    nombre = Column(String, nullable=False)\n",
    "    email = Column(String, unique=True, nullable=False)\n",
    "\n",
    "    def saludar(self):\n",
    "        return f\"Hola, soy {self.nombre}!\"\n",
    "```\n",
    "\n",
    "Y podés usarlo así:\n",
    "\n",
    "```python\n",
    "usuario = session.query(Usuario).get(1)\n",
    "print(usuario.saludar())  # → Hola, soy Juan!\n",
    "```\n",
    "📌 Recomendaciones\n",
    "\n",
    "Los métodos no deben hacer commits directamente, salvo que tengas un caso muy claro.\n",
    "\n",
    "Podés crear también métodos de clase (@classmethod) o estáticos (@staticmethod) si necesitás lógica más general.\n",
    "\n",
    "También podés crear propiedades calculadas con @property."
   ]
  },
  {
   "cell_type": "markdown",
   "id": "c49b3bac-2b10-43ce-9ba6-beb8f2b6816e",
   "metadata": {},
   "source": [
    "🧱 Esquema completo en SQLAlchemy (usando SQLite)"
   ]
  },
  {
   "cell_type": "code",
   "execution_count": 1,
   "id": "5685f8fd-ec5f-4646-99f2-74e8a4acaafc",
   "metadata": {},
   "outputs": [],
   "source": [
    "from sqlalchemy import create_engine, Column, Integer, String, Text, Float, ForeignKey, DateTime\n",
    "from sqlalchemy.orm import declarative_base, relationship, sessionmaker\n",
    "from datetime import datetime"
   ]
  },
  {
   "cell_type": "code",
   "execution_count": 2,
   "id": "5ae2ce11-8495-4096-ad0b-9957da87ed8d",
   "metadata": {},
   "outputs": [],
   "source": [
    "Base = declarative_base()\n",
    "\n",
    "class Usuario(Base):\n",
    "    __tablename__ = 'usuarios'\n",
    "    id = Column(Integer, primary_key=True)\n",
    "    nombre = Column(String, nullable=False)\n",
    "    email = Column(String, unique=True, nullable=False)\n",
    "    direccion = Column(Text)\n",
    "    fecha_creacion = Column(DateTime, default=datetime.utcnow)\n",
    "\n",
    "    pedidos = relationship('Pedido', back_populates='usuario')\n",
    "\n",
    "\n",
    "class Producto(Base):\n",
    "    __tablename__ = 'productos'\n",
    "    id = Column(Integer, primary_key=True)\n",
    "    nombre = Column(String, nullable=False)\n",
    "    descripcion = Column(Text)\n",
    "    precio = Column(Float, nullable=False)\n",
    "    stock = Column(Integer, nullable=False)\n",
    "\n",
    "    items = relationship('OrderItem', back_populates='producto')\n",
    "\n",
    "\n",
    "class Pedido(Base):\n",
    "    __tablename__ = 'pedidos'\n",
    "    id = Column(Integer, primary_key=True)\n",
    "    usuario_id = Column(Integer, ForeignKey('usuarios.id'), nullable=False)\n",
    "    fecha = Column(DateTime, default=datetime.utcnow)\n",
    "    estado = Column(String)\n",
    "\n",
    "    usuario = relationship('Usuario', back_populates='pedidos')\n",
    "    items = relationship('OrderItem', back_populates='pedido')\n",
    "\n",
    "    def total(self):\n",
    "        return sum(item.cantidad * item.precio_unitario for item in self.items)\n",
    "\n",
    "    def detalle(self):\n",
    "        lineas = []\n",
    "        for item in self.items:\n",
    "            lineas.append(f\"{item.cantidad} x {item.producto.nombre} @ {item.precio_unitario:.2f} = {item.cantidad * item.precio_unitario:.2f}\")\n",
    "        return lineas\n",
    "\n",
    "\n",
    "class OrderItem(Base):\n",
    "    __tablename__ = 'order_items'\n",
    "    id = Column(Integer, primary_key=True)\n",
    "    pedido_id = Column(Integer, ForeignKey('pedidos.id'), nullable=False)\n",
    "    producto_id = Column(Integer, ForeignKey('productos.id'), nullable=False)\n",
    "    cantidad = Column(Integer, nullable=False)\n",
    "    precio_unitario = Column(Float, nullable=False)\n",
    "\n",
    "    pedido = relationship('Pedido', back_populates='items')\n",
    "    producto = relationship('Producto', back_populates='items')"
   ]
  },
  {
   "cell_type": "code",
   "execution_count": 3,
   "id": "1d987919-98c6-41a6-860a-35f23eb4617a",
   "metadata": {},
   "outputs": [],
   "source": [
    "# Crear la base en memoria o en archivo\n",
    "engine = create_engine('sqlite:///:memory:', echo=True)"
   ]
  },
  {
   "cell_type": "code",
   "execution_count": 4,
   "id": "6f58e923-46cf-4eb4-8556-6a75dee69816",
   "metadata": {},
   "outputs": [
    {
     "name": "stdout",
     "output_type": "stream",
     "text": [
      "2025-05-07 17:04:57,948 INFO sqlalchemy.engine.Engine BEGIN (implicit)\n",
      "2025-05-07 17:04:57,958 INFO sqlalchemy.engine.Engine PRAGMA main.table_info(\"usuarios\")\n",
      "2025-05-07 17:04:57,961 INFO sqlalchemy.engine.Engine [raw sql] ()\n",
      "2025-05-07 17:04:57,965 INFO sqlalchemy.engine.Engine PRAGMA temp.table_info(\"usuarios\")\n",
      "2025-05-07 17:04:57,967 INFO sqlalchemy.engine.Engine [raw sql] ()\n",
      "2025-05-07 17:04:57,972 INFO sqlalchemy.engine.Engine PRAGMA main.table_info(\"productos\")\n",
      "2025-05-07 17:04:57,976 INFO sqlalchemy.engine.Engine [raw sql] ()\n",
      "2025-05-07 17:04:57,980 INFO sqlalchemy.engine.Engine PRAGMA temp.table_info(\"productos\")\n",
      "2025-05-07 17:04:57,982 INFO sqlalchemy.engine.Engine [raw sql] ()\n",
      "2025-05-07 17:04:57,987 INFO sqlalchemy.engine.Engine PRAGMA main.table_info(\"pedidos\")\n",
      "2025-05-07 17:04:57,991 INFO sqlalchemy.engine.Engine [raw sql] ()\n",
      "2025-05-07 17:04:57,998 INFO sqlalchemy.engine.Engine PRAGMA temp.table_info(\"pedidos\")\n",
      "2025-05-07 17:04:58,001 INFO sqlalchemy.engine.Engine [raw sql] ()\n",
      "2025-05-07 17:04:58,007 INFO sqlalchemy.engine.Engine PRAGMA main.table_info(\"order_items\")\n",
      "2025-05-07 17:04:58,010 INFO sqlalchemy.engine.Engine [raw sql] ()\n",
      "2025-05-07 17:04:58,015 INFO sqlalchemy.engine.Engine PRAGMA temp.table_info(\"order_items\")\n",
      "2025-05-07 17:04:58,021 INFO sqlalchemy.engine.Engine [raw sql] ()\n",
      "2025-05-07 17:04:58,030 INFO sqlalchemy.engine.Engine \n",
      "CREATE TABLE usuarios (\n",
      "\tid INTEGER NOT NULL, \n",
      "\tnombre VARCHAR NOT NULL, \n",
      "\temail VARCHAR NOT NULL, \n",
      "\tdireccion TEXT, \n",
      "\tfecha_creacion DATETIME, \n",
      "\tPRIMARY KEY (id), \n",
      "\tUNIQUE (email)\n",
      ")\n",
      "\n",
      "\n",
      "2025-05-07 17:04:58,033 INFO sqlalchemy.engine.Engine [no key 0.00294s] ()\n",
      "2025-05-07 17:04:58,039 INFO sqlalchemy.engine.Engine \n",
      "CREATE TABLE productos (\n",
      "\tid INTEGER NOT NULL, \n",
      "\tnombre VARCHAR NOT NULL, \n",
      "\tdescripcion TEXT, \n",
      "\tprecio FLOAT NOT NULL, \n",
      "\tstock INTEGER NOT NULL, \n",
      "\tPRIMARY KEY (id)\n",
      ")\n",
      "\n",
      "\n",
      "2025-05-07 17:04:58,041 INFO sqlalchemy.engine.Engine [no key 0.00232s] ()\n",
      "2025-05-07 17:04:58,046 INFO sqlalchemy.engine.Engine \n",
      "CREATE TABLE pedidos (\n",
      "\tid INTEGER NOT NULL, \n",
      "\tusuario_id INTEGER NOT NULL, \n",
      "\tfecha DATETIME, \n",
      "\testado VARCHAR, \n",
      "\tPRIMARY KEY (id), \n",
      "\tFOREIGN KEY(usuario_id) REFERENCES usuarios (id)\n",
      ")\n",
      "\n",
      "\n",
      "2025-05-07 17:04:58,049 INFO sqlalchemy.engine.Engine [no key 0.00288s] ()\n",
      "2025-05-07 17:04:58,054 INFO sqlalchemy.engine.Engine \n",
      "CREATE TABLE order_items (\n",
      "\tid INTEGER NOT NULL, \n",
      "\tpedido_id INTEGER NOT NULL, \n",
      "\tproducto_id INTEGER NOT NULL, \n",
      "\tcantidad INTEGER NOT NULL, \n",
      "\tprecio_unitario FLOAT NOT NULL, \n",
      "\tPRIMARY KEY (id), \n",
      "\tFOREIGN KEY(pedido_id) REFERENCES pedidos (id), \n",
      "\tFOREIGN KEY(producto_id) REFERENCES productos (id)\n",
      ")\n",
      "\n",
      "\n",
      "2025-05-07 17:04:58,056 INFO sqlalchemy.engine.Engine [no key 0.00217s] ()\n",
      "2025-05-07 17:04:58,058 INFO sqlalchemy.engine.Engine COMMIT\n"
     ]
    }
   ],
   "source": [
    "# Crear todas las tablas\n",
    "Base.metadata.create_all(engine)"
   ]
  },
  {
   "cell_type": "code",
   "execution_count": 5,
   "id": "1c6fd3cc-ebe1-4d2f-9fef-87ae9fe96391",
   "metadata": {},
   "outputs": [],
   "source": [
    "# Crear una sesión\n",
    "Session = sessionmaker(bind=engine)\n",
    "session = Session()"
   ]
  },
  {
   "cell_type": "markdown",
   "id": "729b4592-27d0-4d57-9db8-8b2db0f605a5",
   "metadata": {},
   "source": [
    "Datos Ficticios para Cargar"
   ]
  },
  {
   "cell_type": "code",
   "execution_count": 6,
   "id": "34d7fb31-5eda-48bc-bb40-8071fec85f24",
   "metadata": {},
   "outputs": [
    {
     "name": "stdout",
     "output_type": "stream",
     "text": [
      "2025-05-07 17:05:08,380 INFO sqlalchemy.engine.Engine BEGIN (implicit)\n",
      "2025-05-07 17:05:08,397 INFO sqlalchemy.engine.Engine INSERT INTO productos (nombre, descripcion, precio, stock) VALUES (?, ?, ?, ?) RETURNING id\n",
      "2025-05-07 17:05:08,404 INFO sqlalchemy.engine.Engine [generated in 0.00102s (insertmanyvalues) 1/3 (ordered; batch not supported)] ('Teclado', 'Teclado mecánico', 45.5, 10)\n",
      "2025-05-07 17:05:08,415 INFO sqlalchemy.engine.Engine INSERT INTO productos (nombre, descripcion, precio, stock) VALUES (?, ?, ?, ?) RETURNING id\n",
      "2025-05-07 17:05:08,419 INFO sqlalchemy.engine.Engine [insertmanyvalues 2/3 (ordered; batch not supported)] ('Mouse', 'Mouse óptico', 20.0, 20)\n",
      "2025-05-07 17:05:08,428 INFO sqlalchemy.engine.Engine INSERT INTO productos (nombre, descripcion, precio, stock) VALUES (?, ?, ?, ?) RETURNING id\n",
      "2025-05-07 17:05:08,436 INFO sqlalchemy.engine.Engine [insertmanyvalues 3/3 (ordered; batch not supported)] ('Monitor', '24 pulgadas LED', 120.99, 5)\n",
      "2025-05-07 17:05:08,456 INFO sqlalchemy.engine.Engine INSERT INTO usuarios (nombre, email, direccion, fecha_creacion) VALUES (?, ?, ?, ?) RETURNING id\n",
      "2025-05-07 17:05:08,465 INFO sqlalchemy.engine.Engine [generated in 0.00111s (insertmanyvalues) 1/2 (ordered; batch not supported)] ('Ana', 'ana@example.com', 'Calle Falsa 123', '2025-05-07 20:05:08.455647')\n",
      "2025-05-07 17:05:08,483 INFO sqlalchemy.engine.Engine INSERT INTO usuarios (nombre, email, direccion, fecha_creacion) VALUES (?, ?, ?, ?) RETURNING id\n",
      "2025-05-07 17:05:08,493 INFO sqlalchemy.engine.Engine [insertmanyvalues 2/2 (ordered; batch not supported)] ('Luis', 'luis@example.com', 'Av. Siempre Viva 742', '2025-05-07 20:05:08.455647')\n",
      "2025-05-07 17:05:08,522 INFO sqlalchemy.engine.Engine INSERT INTO pedidos (usuario_id, fecha, estado) VALUES (?, ?, ?)\n",
      "2025-05-07 17:05:08,532 INFO sqlalchemy.engine.Engine [generated in 0.00981s] (1, '2025-05-07 20:05:08.522650', 'pendiente')\n",
      "2025-05-07 17:05:08,563 INFO sqlalchemy.engine.Engine INSERT INTO order_items (pedido_id, producto_id, cantidad, precio_unitario) VALUES (?, ?, ?, ?) RETURNING id\n",
      "2025-05-07 17:05:08,571 INFO sqlalchemy.engine.Engine [generated in 0.00146s (insertmanyvalues) 1/2 (ordered; batch not supported)] (1, 1, 1, 45.5)\n",
      "2025-05-07 17:05:08,581 INFO sqlalchemy.engine.Engine INSERT INTO order_items (pedido_id, producto_id, cantidad, precio_unitario) VALUES (?, ?, ?, ?) RETURNING id\n",
      "2025-05-07 17:05:08,603 INFO sqlalchemy.engine.Engine [insertmanyvalues 2/2 (ordered; batch not supported)] (1, 2, 2, 20.0)\n",
      "2025-05-07 17:05:08,616 INFO sqlalchemy.engine.Engine COMMIT\n"
     ]
    }
   ],
   "source": [
    "# Crear usuarios y productos\n",
    "u1 = Usuario(nombre='Ana', email='ana@example.com', direccion='Calle Falsa 123')\n",
    "u2 = Usuario(nombre='Luis', email='luis@example.com', direccion='Av. Siempre Viva 742')\n",
    "\n",
    "p1 = Producto(nombre='Teclado', descripcion='Teclado mecánico', precio=45.50, stock=10)\n",
    "p2 = Producto(nombre='Mouse', descripcion='Mouse óptico', precio=20.00, stock=20)\n",
    "p3 = Producto(nombre='Monitor', descripcion='24 pulgadas LED', precio=120.99, stock=5)\n",
    "\n",
    "session.add_all([u1, u2, p1, p2, p3])\n",
    "# session.commit()\n",
    "\n",
    "# Crear el pedido y sus items *antes* del commit\n",
    "pedido = Pedido(usuario=u1, estado='pendiente')\n",
    "\n",
    "item1 = OrderItem(producto=p1, cantidad=1, precio_unitario=p1.precio)\n",
    "item2 = OrderItem(producto=p2, cantidad=2, precio_unitario=p2.precio)\n",
    "\n",
    "pedido.items.extend([item1, item2])\n",
    "\n",
    "session.add(pedido)\n",
    "session.commit()"
   ]
  },
  {
   "cell_type": "code",
   "execution_count": 8,
   "id": "a0d2deb5-6eed-441a-bf82-78f59b0b2809",
   "metadata": {},
   "outputs": [
    {
     "name": "stdout",
     "output_type": "stream",
     "text": [
      "2025-05-07 17:10:14,653 INFO sqlalchemy.engine.Engine BEGIN (implicit)\n",
      "2025-05-07 17:10:14,668 INFO sqlalchemy.engine.Engine SELECT pedidos.id AS pedidos_id, pedidos.usuario_id AS pedidos_usuario_id, pedidos.fecha AS pedidos_fecha, pedidos.estado AS pedidos_estado \n",
      "FROM pedidos \n",
      "WHERE pedidos.id = ?\n",
      "2025-05-07 17:10:14,671 INFO sqlalchemy.engine.Engine [generated in 0.00373s] (1,)\n",
      "2025-05-07 17:10:14,686 INFO sqlalchemy.engine.Engine SELECT order_items.id AS order_items_id, order_items.pedido_id AS order_items_pedido_id, order_items.producto_id AS order_items_producto_id, order_items.cantidad AS order_items_cantidad, order_items.precio_unitario AS order_items_precio_unitario \n",
      "FROM order_items \n",
      "WHERE ? = order_items.pedido_id\n",
      "2025-05-07 17:10:14,690 INFO sqlalchemy.engine.Engine [generated in 0.00377s] (1,)\n"
     ]
    },
    {
     "data": {
      "text/plain": [
       "85.5"
      ]
     },
     "execution_count": 8,
     "metadata": {},
     "output_type": "execute_result"
    }
   ],
   "source": [
    "pedido.total()"
   ]
  },
  {
   "cell_type": "code",
   "execution_count": 9,
   "id": "eaa7f1c2-0e73-4051-8901-0a0fd64bc3ad",
   "metadata": {},
   "outputs": [
    {
     "name": "stdout",
     "output_type": "stream",
     "text": [
      "2025-05-07 17:10:51,401 INFO sqlalchemy.engine.Engine SELECT productos.id AS productos_id, productos.nombre AS productos_nombre, productos.descripcion AS productos_descripcion, productos.precio AS productos_precio, productos.stock AS productos_stock \n",
      "FROM productos \n",
      "WHERE productos.id = ?\n",
      "2025-05-07 17:10:51,407 INFO sqlalchemy.engine.Engine [generated in 0.00560s] (1,)\n",
      "2025-05-07 17:10:51,418 INFO sqlalchemy.engine.Engine SELECT productos.id AS productos_id, productos.nombre AS productos_nombre, productos.descripcion AS productos_descripcion, productos.precio AS productos_precio, productos.stock AS productos_stock \n",
      "FROM productos \n",
      "WHERE productos.id = ?\n",
      "2025-05-07 17:10:51,429 INFO sqlalchemy.engine.Engine [cached since 0.02815s ago] (2,)\n"
     ]
    },
    {
     "data": {
      "text/plain": [
       "['1 x Teclado @ 45.50 = 45.50', '2 x Mouse @ 20.00 = 40.00']"
      ]
     },
     "execution_count": 9,
     "metadata": {},
     "output_type": "execute_result"
    }
   ],
   "source": [
    "pedido.detalle()"
   ]
  },
  {
   "cell_type": "markdown",
   "id": "00b72e14-bab7-4e1c-8451-180e96758cf0",
   "metadata": {},
   "source": [
    "Pedido para luis que quiere 2 monitores un teclado y un mouse"
   ]
  },
  {
   "cell_type": "code",
   "execution_count": 10,
   "id": "54f8b822-e5b9-4a6d-bff6-2412bfbd02b6",
   "metadata": {},
   "outputs": [
    {
     "name": "stdout",
     "output_type": "stream",
     "text": [
      "2025-05-07 17:15:50,511 INFO sqlalchemy.engine.Engine SELECT usuarios.id AS usuarios_id, usuarios.nombre AS usuarios_nombre, usuarios.email AS usuarios_email, usuarios.direccion AS usuarios_direccion, usuarios.fecha_creacion AS usuarios_fecha_creacion \n",
      "FROM usuarios \n",
      "WHERE usuarios.nombre = ?\n",
      " LIMIT ? OFFSET ?\n",
      "2025-05-07 17:15:50,517 INFO sqlalchemy.engine.Engine [generated in 0.00705s] ('Luis', 1, 0)\n",
      "2025-05-07 17:15:50,530 INFO sqlalchemy.engine.Engine SELECT productos.id AS productos_id, productos.nombre AS productos_nombre, productos.descripcion AS productos_descripcion, productos.precio AS productos_precio, productos.stock AS productos_stock \n",
      "FROM productos \n",
      "WHERE productos.nombre = ?\n",
      " LIMIT ? OFFSET ?\n",
      "2025-05-07 17:15:50,542 INFO sqlalchemy.engine.Engine [generated in 0.01240s] ('Teclado', 1, 0)\n",
      "2025-05-07 17:15:50,558 INFO sqlalchemy.engine.Engine SELECT productos.id AS productos_id, productos.nombre AS productos_nombre, productos.descripcion AS productos_descripcion, productos.precio AS productos_precio, productos.stock AS productos_stock \n",
      "FROM productos \n",
      "WHERE productos.nombre = ?\n",
      " LIMIT ? OFFSET ?\n",
      "2025-05-07 17:15:50,562 INFO sqlalchemy.engine.Engine [cached since 0.03264s ago] ('Mouse', 1, 0)\n",
      "2025-05-07 17:15:50,575 INFO sqlalchemy.engine.Engine SELECT productos.id AS productos_id, productos.nombre AS productos_nombre, productos.descripcion AS productos_descripcion, productos.precio AS productos_precio, productos.stock AS productos_stock \n",
      "FROM productos \n",
      "WHERE productos.nombre = ?\n",
      " LIMIT ? OFFSET ?\n",
      "2025-05-07 17:15:50,584 INFO sqlalchemy.engine.Engine [cached since 0.05431s ago] ('Monitor', 1, 0)\n",
      "2025-05-07 17:15:50,609 INFO sqlalchemy.engine.Engine INSERT INTO pedidos (usuario_id, fecha, estado) VALUES (?, ?, ?)\n",
      "2025-05-07 17:15:50,613 INFO sqlalchemy.engine.Engine [cached since 642.1s ago] (2, '2025-05-07 20:15:50.608410', 'pendiente')\n",
      "2025-05-07 17:15:50,627 INFO sqlalchemy.engine.Engine INSERT INTO order_items (pedido_id, producto_id, cantidad, precio_unitario) VALUES (?, ?, ?, ?) RETURNING id\n",
      "2025-05-07 17:15:50,634 INFO sqlalchemy.engine.Engine [cached since 642.1s ago (insertmanyvalues) 1/3 (ordered; batch not supported)] (2, 1, 1, 45.5)\n",
      "2025-05-07 17:15:50,640 INFO sqlalchemy.engine.Engine INSERT INTO order_items (pedido_id, producto_id, cantidad, precio_unitario) VALUES (?, ?, ?, ?) RETURNING id\n",
      "2025-05-07 17:15:50,643 INFO sqlalchemy.engine.Engine [insertmanyvalues 2/3 (ordered; batch not supported)] (2, 2, 1, 20.0)\n",
      "2025-05-07 17:15:50,653 INFO sqlalchemy.engine.Engine INSERT INTO order_items (pedido_id, producto_id, cantidad, precio_unitario) VALUES (?, ?, ?, ?) RETURNING id\n",
      "2025-05-07 17:15:50,656 INFO sqlalchemy.engine.Engine [insertmanyvalues 3/3 (ordered; batch not supported)] (2, 3, 2, 120.99)\n",
      "2025-05-07 17:15:50,670 INFO sqlalchemy.engine.Engine COMMIT\n",
      "Pedido creado correctamente para Luis.\n"
     ]
    }
   ],
   "source": [
    "# 1. Obtener al usuario \"Luis\"\n",
    "luis = session.query(Usuario).filter_by(nombre='Luis').first()\n",
    "\n",
    "# 2. Obtener los productos necesarios\n",
    "teclado = session.query(Producto).filter_by(nombre='Teclado').first()\n",
    "mouse = session.query(Producto).filter_by(nombre='Mouse').first()\n",
    "monitor = session.query(Producto).filter_by(nombre='Monitor').first()\n",
    "\n",
    "# 3. Crear el nuevo pedido\n",
    "pedido_luis = Pedido(usuario=luis, estado='pendiente')\n",
    "\n",
    "# 4. Crear los ítems del pedido\n",
    "item1 = OrderItem(producto=teclado, cantidad=1, precio_unitario=teclado.precio)\n",
    "item2 = OrderItem(producto=mouse, cantidad=1, precio_unitario=mouse.precio)\n",
    "item3 = OrderItem(producto=monitor, cantidad=2, precio_unitario=monitor.precio)\n",
    "\n",
    "# Asignar los ítems al pedido\n",
    "pedido_luis.items.extend([item1, item2, item3])\n",
    "\n",
    "# 5. Agregar el pedido a la sesión y guardar todo\n",
    "session.add(pedido_luis)\n",
    "session.commit()\n",
    "\n",
    "print(\"Pedido creado correctamente para Luis.\")"
   ]
  },
  {
   "cell_type": "code",
   "execution_count": 12,
   "id": "05f0cdca-1c1e-4b27-b923-e3ba9ec85cb4",
   "metadata": {},
   "outputs": [
    {
     "name": "stdout",
     "output_type": "stream",
     "text": [
      "1 x Teclado @ 45.50 = 45.50\n",
      "1 x Mouse @ 20.00 = 20.00\n",
      "2 x Monitor @ 120.99 = 241.98\n",
      "307.48\n"
     ]
    }
   ],
   "source": [
    "for item in pedido_luis.detalle():\n",
    "    print (item)\n",
    "print(pedido_luis.total())"
   ]
  },
  {
   "cell_type": "code",
   "execution_count": 15,
   "id": "a51926c1-0e58-4e16-b20b-871570e84433",
   "metadata": {},
   "outputs": [],
   "source": [
    "productos = session.query(Producto)"
   ]
  },
  {
   "cell_type": "code",
   "execution_count": 20,
   "id": "75ba3c41-8cba-4b70-bdd4-85e155c826d7",
   "metadata": {},
   "outputs": [
    {
     "name": "stdout",
     "output_type": "stream",
     "text": [
      "2025-05-07 17:24:19,962 INFO sqlalchemy.engine.Engine SELECT productos.id AS productos_id, productos.nombre AS productos_nombre, productos.descripcion AS productos_descripcion, productos.precio AS productos_precio, productos.stock AS productos_stock \n",
      "FROM productos\n",
      "2025-05-07 17:24:19,966 INFO sqlalchemy.engine.Engine [cached since 137.6s ago] ()\n",
      "Teclado 10\n",
      "Mouse 20\n",
      "Monitor 5\n"
     ]
    }
   ],
   "source": [
    "for producto in productos.all():\n",
    "    print(producto.nombre, producto.stock)"
   ]
  },
  {
   "cell_type": "markdown",
   "id": "9bf56a79-ee69-4a49-8589-1bd47e2fc0df",
   "metadata": {},
   "source": [
    "📄 Leer datos (Read)"
   ]
  },
  {
   "cell_type": "code",
   "execution_count": 22,
   "id": "df31c49c-2288-4cf4-b591-78883fb3e38f",
   "metadata": {},
   "outputs": [
    {
     "name": "stdout",
     "output_type": "stream",
     "text": [
      "2025-05-07 17:32:03,526 INFO sqlalchemy.engine.Engine SELECT usuarios.id AS usuarios_id, usuarios.nombre AS usuarios_nombre, usuarios.email AS usuarios_email, usuarios.direccion AS usuarios_direccion, usuarios.fecha_creacion AS usuarios_fecha_creacion \n",
      "FROM usuarios \n",
      "WHERE usuarios.nombre = ?\n",
      " LIMIT ? OFFSET ?\n",
      "2025-05-07 17:32:03,532 INFO sqlalchemy.engine.Engine [cached since 973s ago] ('Ana', 1, 0)\n",
      "Pedido ID: 1\n",
      "Estado :  pendiente\n",
      "Total: 85.5\n",
      "Detalle:\n",
      "   1 x Teclado @ 45.50 = 45.50\n",
      "   2 x Mouse @ 20.00 = 40.00\n"
     ]
    }
   ],
   "source": [
    "# Obtener todos los pedidos de Ana\n",
    "ana = session.query(Usuario).filter_by(nombre='Ana').first()\n",
    "for p in ana.pedidos:\n",
    "    print(\"Pedido ID:\", p.id)\n",
    "    print(\"Estado : \", p.estado)\n",
    "    print(\"Total:\", p.total())\n",
    "    print(\"Detalle:\")\n",
    "    for linea in p.detalle():\n",
    "        print(\"  \", linea)"
   ]
  },
  {
   "cell_type": "markdown",
   "id": "82565fc5-1a8c-485e-bc61-f85c5b8649c8",
   "metadata": {},
   "source": [
    "📝 Modificar datos (Update)"
   ]
  },
  {
   "cell_type": "code",
   "execution_count": 24,
   "id": "a529eca8-f841-40f7-b05b-57cab9738443",
   "metadata": {},
   "outputs": [
    {
     "data": {
      "text/plain": [
       "{'_sa_instance_state': <sqlalchemy.orm.state.InstanceState at 0x234db41c4c0>,\n",
       " 'id': 1,\n",
       " 'estado': 'pendiente',\n",
       " 'usuario_id': 1,\n",
       " 'fecha': datetime.datetime(2025, 5, 7, 20, 5, 8, 522650),\n",
       " 'items': [<__main__.OrderItem at 0x234ddad0e80>,\n",
       "  <__main__.OrderItem at 0x234ddad1390>]}"
      ]
     },
     "execution_count": 24,
     "metadata": {},
     "output_type": "execute_result"
    }
   ],
   "source": [
    "p.__dict__"
   ]
  },
  {
   "cell_type": "code",
   "execution_count": 25,
   "id": "6aebd2b2-5122-42c3-9027-860e81beb89c",
   "metadata": {},
   "outputs": [
    {
     "name": "stdout",
     "output_type": "stream",
     "text": [
      "2025-05-07 17:35:46,175 INFO sqlalchemy.engine.Engine UPDATE pedidos SET estado=? WHERE pedidos.id = ?\n",
      "2025-05-07 17:35:46,181 INFO sqlalchemy.engine.Engine [generated in 0.00575s] ('enviado', 1)\n",
      "2025-05-07 17:35:46,189 INFO sqlalchemy.engine.Engine COMMIT\n"
     ]
    }
   ],
   "source": [
    "# Cambiar estado del pedido\n",
    "p.estado = 'enviado'\n",
    "session.commit()"
   ]
  },
  {
   "cell_type": "code",
   "execution_count": 27,
   "id": "afb1c835-30b0-48a7-873a-acc46abcd452",
   "metadata": {},
   "outputs": [
    {
     "name": "stdout",
     "output_type": "stream",
     "text": [
      "2025-05-07 17:36:38,571 INFO sqlalchemy.engine.Engine SELECT usuarios.id AS usuarios_id, usuarios.nombre AS usuarios_nombre, usuarios.email AS usuarios_email, usuarios.direccion AS usuarios_direccion, usuarios.fecha_creacion AS usuarios_fecha_creacion \n",
      "FROM usuarios \n",
      "WHERE usuarios.nombre = ?\n",
      " LIMIT ? OFFSET ?\n",
      "2025-05-07 17:36:38,575 INFO sqlalchemy.engine.Engine [cached since 1248s ago] ('Ana', 1, 0)\n",
      "Pedido ID: 1\n",
      "Estado :  enviado\n",
      "Total: 85.5\n",
      "Detalle:\n",
      "   1 x Teclado @ 45.50 = 45.50\n",
      "   2 x Mouse @ 20.00 = 40.00\n"
     ]
    }
   ],
   "source": [
    "ana = session.query(Usuario).filter_by(nombre='Ana').first()\n",
    "for p in ana.pedidos:\n",
    "    print(\"Pedido ID:\", p.id)\n",
    "    print(\"Estado : \", p.estado)\n",
    "    print(\"Total:\", p.total())\n",
    "    print(\"Detalle:\")\n",
    "    for linea in p.detalle():\n",
    "        print(\"  \", linea)"
   ]
  },
  {
   "cell_type": "markdown",
   "id": "134ef2ac-3730-4b0b-9ef2-74a6f70e686d",
   "metadata": {},
   "source": [
    "❌ Eliminar datos (Delete)"
   ]
  },
  {
   "cell_type": "code",
   "execution_count": 28,
   "id": "9a844d69-04ee-4029-8d51-eb7b29345351",
   "metadata": {},
   "outputs": [
    {
     "name": "stdout",
     "output_type": "stream",
     "text": [
      "2025-05-07 17:38:13,523 INFO sqlalchemy.engine.Engine SELECT productos.id AS productos_id, productos.nombre AS productos_nombre, productos.descripcion AS productos_descripcion, productos.precio AS productos_precio, productos.stock AS productos_stock \n",
      "FROM productos \n",
      "WHERE productos.nombre = ?\n",
      " LIMIT ? OFFSET ?\n",
      "2025-05-07 17:38:13,527 INFO sqlalchemy.engine.Engine [cached since 1343s ago] ('Monitor', 1, 0)\n",
      "2025-05-07 17:38:13,548 INFO sqlalchemy.engine.Engine SELECT order_items.id AS order_items_id, order_items.pedido_id AS order_items_pedido_id, order_items.producto_id AS order_items_producto_id, order_items.cantidad AS order_items_cantidad, order_items.precio_unitario AS order_items_precio_unitario \n",
      "FROM order_items \n",
      "WHERE ? = order_items.producto_id\n",
      "2025-05-07 17:38:13,558 INFO sqlalchemy.engine.Engine [generated in 0.01095s] (3,)\n",
      "2025-05-07 17:38:13,575 INFO sqlalchemy.engine.Engine UPDATE order_items SET producto_id=? WHERE order_items.id = ?\n",
      "2025-05-07 17:38:13,580 INFO sqlalchemy.engine.Engine [generated in 0.00508s] (None, 5)\n",
      "2025-05-07 17:38:13,594 INFO sqlalchemy.engine.Engine ROLLBACK\n"
     ]
    },
    {
     "ename": "IntegrityError",
     "evalue": "(sqlite3.IntegrityError) NOT NULL constraint failed: order_items.producto_id\n[SQL: UPDATE order_items SET producto_id=? WHERE order_items.id = ?]\n[parameters: (None, 5)]\n(Background on this error at: https://sqlalche.me/e/20/gkpj)",
     "output_type": "error",
     "traceback": [
      "\u001b[1;31m---------------------------------------------------------------------------\u001b[0m",
      "\u001b[1;31mIntegrityError\u001b[0m                            Traceback (most recent call last)",
      "File \u001b[1;32m~\\AppData\\Roaming\\Python\\Python310\\site-packages\\sqlalchemy\\engine\\base.py:1964\u001b[0m, in \u001b[0;36mConnection._exec_single_context\u001b[1;34m(self, dialect, context, statement, parameters)\u001b[0m\n\u001b[0;32m   1963\u001b[0m     \u001b[38;5;28;01mif\u001b[39;00m \u001b[38;5;129;01mnot\u001b[39;00m evt_handled:\n\u001b[1;32m-> 1964\u001b[0m         \u001b[38;5;28;43mself\u001b[39;49m\u001b[38;5;241;43m.\u001b[39;49m\u001b[43mdialect\u001b[49m\u001b[38;5;241;43m.\u001b[39;49m\u001b[43mdo_execute\u001b[49m\u001b[43m(\u001b[49m\n\u001b[0;32m   1965\u001b[0m \u001b[43m            \u001b[49m\u001b[43mcursor\u001b[49m\u001b[43m,\u001b[49m\u001b[43m \u001b[49m\u001b[43mstr_statement\u001b[49m\u001b[43m,\u001b[49m\u001b[43m \u001b[49m\u001b[43meffective_parameters\u001b[49m\u001b[43m,\u001b[49m\u001b[43m \u001b[49m\u001b[43mcontext\u001b[49m\n\u001b[0;32m   1966\u001b[0m \u001b[43m        \u001b[49m\u001b[43m)\u001b[49m\n\u001b[0;32m   1968\u001b[0m \u001b[38;5;28;01mif\u001b[39;00m \u001b[38;5;28mself\u001b[39m\u001b[38;5;241m.\u001b[39m_has_events \u001b[38;5;129;01mor\u001b[39;00m \u001b[38;5;28mself\u001b[39m\u001b[38;5;241m.\u001b[39mengine\u001b[38;5;241m.\u001b[39m_has_events:\n",
      "File \u001b[1;32m~\\AppData\\Roaming\\Python\\Python310\\site-packages\\sqlalchemy\\engine\\default.py:942\u001b[0m, in \u001b[0;36mDefaultDialect.do_execute\u001b[1;34m(self, cursor, statement, parameters, context)\u001b[0m\n\u001b[0;32m    941\u001b[0m \u001b[38;5;28;01mdef\u001b[39;00m\u001b[38;5;250m \u001b[39m\u001b[38;5;21mdo_execute\u001b[39m(\u001b[38;5;28mself\u001b[39m, cursor, statement, parameters, context\u001b[38;5;241m=\u001b[39m\u001b[38;5;28;01mNone\u001b[39;00m):\n\u001b[1;32m--> 942\u001b[0m     \u001b[43mcursor\u001b[49m\u001b[38;5;241;43m.\u001b[39;49m\u001b[43mexecute\u001b[49m\u001b[43m(\u001b[49m\u001b[43mstatement\u001b[49m\u001b[43m,\u001b[49m\u001b[43m \u001b[49m\u001b[43mparameters\u001b[49m\u001b[43m)\u001b[49m\n",
      "\u001b[1;31mIntegrityError\u001b[0m: NOT NULL constraint failed: order_items.producto_id",
      "\nThe above exception was the direct cause of the following exception:\n",
      "\u001b[1;31mIntegrityError\u001b[0m                            Traceback (most recent call last)",
      "Input \u001b[1;32mIn [28]\u001b[0m, in \u001b[0;36m<cell line: 4>\u001b[1;34m()\u001b[0m\n\u001b[0;32m      2\u001b[0m producto_a_eliminar \u001b[38;5;241m=\u001b[39m session\u001b[38;5;241m.\u001b[39mquery(Producto)\u001b[38;5;241m.\u001b[39mfilter_by(nombre\u001b[38;5;241m=\u001b[39m\u001b[38;5;124m'\u001b[39m\u001b[38;5;124mMonitor\u001b[39m\u001b[38;5;124m'\u001b[39m)\u001b[38;5;241m.\u001b[39mfirst()\n\u001b[0;32m      3\u001b[0m session\u001b[38;5;241m.\u001b[39mdelete(producto_a_eliminar)\n\u001b[1;32m----> 4\u001b[0m \u001b[43msession\u001b[49m\u001b[38;5;241;43m.\u001b[39;49m\u001b[43mcommit\u001b[49m\u001b[43m(\u001b[49m\u001b[43m)\u001b[49m\n",
      "File \u001b[1;32m~\\AppData\\Roaming\\Python\\Python310\\site-packages\\sqlalchemy\\orm\\session.py:2032\u001b[0m, in \u001b[0;36mSession.commit\u001b[1;34m(self)\u001b[0m\n\u001b[0;32m   2029\u001b[0m \u001b[38;5;28;01mif\u001b[39;00m trans \u001b[38;5;129;01mis\u001b[39;00m \u001b[38;5;28;01mNone\u001b[39;00m:\n\u001b[0;32m   2030\u001b[0m     trans \u001b[38;5;241m=\u001b[39m \u001b[38;5;28mself\u001b[39m\u001b[38;5;241m.\u001b[39m_autobegin_t()\n\u001b[1;32m-> 2032\u001b[0m \u001b[43mtrans\u001b[49m\u001b[38;5;241;43m.\u001b[39;49m\u001b[43mcommit\u001b[49m\u001b[43m(\u001b[49m\u001b[43m_to_root\u001b[49m\u001b[38;5;241;43m=\u001b[39;49m\u001b[38;5;28;43;01mTrue\u001b[39;49;00m\u001b[43m)\u001b[49m\n",
      "File \u001b[1;32m<string>:2\u001b[0m, in \u001b[0;36mcommit\u001b[1;34m(self, _to_root)\u001b[0m\n",
      "File \u001b[1;32m~\\AppData\\Roaming\\Python\\Python310\\site-packages\\sqlalchemy\\orm\\state_changes.py:139\u001b[0m, in \u001b[0;36m_StateChange.declare_states.<locals>._go\u001b[1;34m(fn, self, *arg, **kw)\u001b[0m\n\u001b[0;32m    137\u001b[0m \u001b[38;5;28mself\u001b[39m\u001b[38;5;241m.\u001b[39m_next_state \u001b[38;5;241m=\u001b[39m _StateChangeStates\u001b[38;5;241m.\u001b[39mCHANGE_IN_PROGRESS\n\u001b[0;32m    138\u001b[0m \u001b[38;5;28;01mtry\u001b[39;00m:\n\u001b[1;32m--> 139\u001b[0m     ret_value \u001b[38;5;241m=\u001b[39m fn(\u001b[38;5;28mself\u001b[39m, \u001b[38;5;241m*\u001b[39marg, \u001b[38;5;241m*\u001b[39m\u001b[38;5;241m*\u001b[39mkw)\n\u001b[0;32m    140\u001b[0m \u001b[38;5;28;01mexcept\u001b[39;00m:\n\u001b[0;32m    141\u001b[0m     \u001b[38;5;28;01mraise\u001b[39;00m\n",
      "File \u001b[1;32m~\\AppData\\Roaming\\Python\\Python310\\site-packages\\sqlalchemy\\orm\\session.py:1313\u001b[0m, in \u001b[0;36mSessionTransaction.commit\u001b[1;34m(self, _to_root)\u001b[0m\n\u001b[0;32m   1311\u001b[0m \u001b[38;5;28;01mif\u001b[39;00m \u001b[38;5;28mself\u001b[39m\u001b[38;5;241m.\u001b[39m_state \u001b[38;5;129;01mis\u001b[39;00m \u001b[38;5;129;01mnot\u001b[39;00m SessionTransactionState\u001b[38;5;241m.\u001b[39mPREPARED:\n\u001b[0;32m   1312\u001b[0m     \u001b[38;5;28;01mwith\u001b[39;00m \u001b[38;5;28mself\u001b[39m\u001b[38;5;241m.\u001b[39m_expect_state(SessionTransactionState\u001b[38;5;241m.\u001b[39mPREPARED):\n\u001b[1;32m-> 1313\u001b[0m         \u001b[38;5;28;43mself\u001b[39;49m\u001b[38;5;241;43m.\u001b[39;49m\u001b[43m_prepare_impl\u001b[49m\u001b[43m(\u001b[49m\u001b[43m)\u001b[49m\n\u001b[0;32m   1315\u001b[0m \u001b[38;5;28;01mif\u001b[39;00m \u001b[38;5;28mself\u001b[39m\u001b[38;5;241m.\u001b[39m_parent \u001b[38;5;129;01mis\u001b[39;00m \u001b[38;5;28;01mNone\u001b[39;00m \u001b[38;5;129;01mor\u001b[39;00m \u001b[38;5;28mself\u001b[39m\u001b[38;5;241m.\u001b[39mnested:\n\u001b[0;32m   1316\u001b[0m     \u001b[38;5;28;01mfor\u001b[39;00m conn, trans, should_commit, autoclose \u001b[38;5;129;01min\u001b[39;00m \u001b[38;5;28mset\u001b[39m(\n\u001b[0;32m   1317\u001b[0m         \u001b[38;5;28mself\u001b[39m\u001b[38;5;241m.\u001b[39m_connections\u001b[38;5;241m.\u001b[39mvalues()\n\u001b[0;32m   1318\u001b[0m     ):\n",
      "File \u001b[1;32m<string>:2\u001b[0m, in \u001b[0;36m_prepare_impl\u001b[1;34m(self)\u001b[0m\n",
      "File \u001b[1;32m~\\AppData\\Roaming\\Python\\Python310\\site-packages\\sqlalchemy\\orm\\state_changes.py:139\u001b[0m, in \u001b[0;36m_StateChange.declare_states.<locals>._go\u001b[1;34m(fn, self, *arg, **kw)\u001b[0m\n\u001b[0;32m    137\u001b[0m \u001b[38;5;28mself\u001b[39m\u001b[38;5;241m.\u001b[39m_next_state \u001b[38;5;241m=\u001b[39m _StateChangeStates\u001b[38;5;241m.\u001b[39mCHANGE_IN_PROGRESS\n\u001b[0;32m    138\u001b[0m \u001b[38;5;28;01mtry\u001b[39;00m:\n\u001b[1;32m--> 139\u001b[0m     ret_value \u001b[38;5;241m=\u001b[39m fn(\u001b[38;5;28mself\u001b[39m, \u001b[38;5;241m*\u001b[39marg, \u001b[38;5;241m*\u001b[39m\u001b[38;5;241m*\u001b[39mkw)\n\u001b[0;32m    140\u001b[0m \u001b[38;5;28;01mexcept\u001b[39;00m:\n\u001b[0;32m    141\u001b[0m     \u001b[38;5;28;01mraise\u001b[39;00m\n",
      "File \u001b[1;32m~\\AppData\\Roaming\\Python\\Python310\\site-packages\\sqlalchemy\\orm\\session.py:1288\u001b[0m, in \u001b[0;36mSessionTransaction._prepare_impl\u001b[1;34m(self)\u001b[0m\n\u001b[0;32m   1286\u001b[0m     \u001b[38;5;28;01mif\u001b[39;00m \u001b[38;5;28mself\u001b[39m\u001b[38;5;241m.\u001b[39msession\u001b[38;5;241m.\u001b[39m_is_clean():\n\u001b[0;32m   1287\u001b[0m         \u001b[38;5;28;01mbreak\u001b[39;00m\n\u001b[1;32m-> 1288\u001b[0m     \u001b[38;5;28;43mself\u001b[39;49m\u001b[38;5;241;43m.\u001b[39;49m\u001b[43msession\u001b[49m\u001b[38;5;241;43m.\u001b[39;49m\u001b[43mflush\u001b[49m\u001b[43m(\u001b[49m\u001b[43m)\u001b[49m\n\u001b[0;32m   1289\u001b[0m \u001b[38;5;28;01melse\u001b[39;00m:\n\u001b[0;32m   1290\u001b[0m     \u001b[38;5;28;01mraise\u001b[39;00m exc\u001b[38;5;241m.\u001b[39mFlushError(\n\u001b[0;32m   1291\u001b[0m         \u001b[38;5;124m\"\u001b[39m\u001b[38;5;124mOver 100 subsequent flushes have occurred within \u001b[39m\u001b[38;5;124m\"\u001b[39m\n\u001b[0;32m   1292\u001b[0m         \u001b[38;5;124m\"\u001b[39m\u001b[38;5;124msession.commit() - is an after_flush() hook \u001b[39m\u001b[38;5;124m\"\u001b[39m\n\u001b[0;32m   1293\u001b[0m         \u001b[38;5;124m\"\u001b[39m\u001b[38;5;124mcreating new objects?\u001b[39m\u001b[38;5;124m\"\u001b[39m\n\u001b[0;32m   1294\u001b[0m     )\n",
      "File \u001b[1;32m~\\AppData\\Roaming\\Python\\Python310\\site-packages\\sqlalchemy\\orm\\session.py:4353\u001b[0m, in \u001b[0;36mSession.flush\u001b[1;34m(self, objects)\u001b[0m\n\u001b[0;32m   4351\u001b[0m \u001b[38;5;28;01mtry\u001b[39;00m:\n\u001b[0;32m   4352\u001b[0m     \u001b[38;5;28mself\u001b[39m\u001b[38;5;241m.\u001b[39m_flushing \u001b[38;5;241m=\u001b[39m \u001b[38;5;28;01mTrue\u001b[39;00m\n\u001b[1;32m-> 4353\u001b[0m     \u001b[38;5;28;43mself\u001b[39;49m\u001b[38;5;241;43m.\u001b[39;49m\u001b[43m_flush\u001b[49m\u001b[43m(\u001b[49m\u001b[43mobjects\u001b[49m\u001b[43m)\u001b[49m\n\u001b[0;32m   4354\u001b[0m \u001b[38;5;28;01mfinally\u001b[39;00m:\n\u001b[0;32m   4355\u001b[0m     \u001b[38;5;28mself\u001b[39m\u001b[38;5;241m.\u001b[39m_flushing \u001b[38;5;241m=\u001b[39m \u001b[38;5;28;01mFalse\u001b[39;00m\n",
      "File \u001b[1;32m~\\AppData\\Roaming\\Python\\Python310\\site-packages\\sqlalchemy\\orm\\session.py:4488\u001b[0m, in \u001b[0;36mSession._flush\u001b[1;34m(self, objects)\u001b[0m\n\u001b[0;32m   4485\u001b[0m     transaction\u001b[38;5;241m.\u001b[39mcommit()\n\u001b[0;32m   4487\u001b[0m \u001b[38;5;28;01mexcept\u001b[39;00m:\n\u001b[1;32m-> 4488\u001b[0m     \u001b[38;5;28;01mwith\u001b[39;00m util\u001b[38;5;241m.\u001b[39msafe_reraise():\n\u001b[0;32m   4489\u001b[0m         transaction\u001b[38;5;241m.\u001b[39mrollback(_capture_exception\u001b[38;5;241m=\u001b[39m\u001b[38;5;28;01mTrue\u001b[39;00m)\n",
      "File \u001b[1;32m~\\AppData\\Roaming\\Python\\Python310\\site-packages\\sqlalchemy\\util\\langhelpers.py:146\u001b[0m, in \u001b[0;36msafe_reraise.__exit__\u001b[1;34m(self, type_, value, traceback)\u001b[0m\n\u001b[0;32m    144\u001b[0m     \u001b[38;5;28;01massert\u001b[39;00m exc_value \u001b[38;5;129;01mis\u001b[39;00m \u001b[38;5;129;01mnot\u001b[39;00m \u001b[38;5;28;01mNone\u001b[39;00m\n\u001b[0;32m    145\u001b[0m     \u001b[38;5;28mself\u001b[39m\u001b[38;5;241m.\u001b[39m_exc_info \u001b[38;5;241m=\u001b[39m \u001b[38;5;28;01mNone\u001b[39;00m  \u001b[38;5;66;03m# remove potential circular references\u001b[39;00m\n\u001b[1;32m--> 146\u001b[0m     \u001b[38;5;28;01mraise\u001b[39;00m exc_value\u001b[38;5;241m.\u001b[39mwith_traceback(exc_tb)\n\u001b[0;32m    147\u001b[0m \u001b[38;5;28;01melse\u001b[39;00m:\n\u001b[0;32m    148\u001b[0m     \u001b[38;5;28mself\u001b[39m\u001b[38;5;241m.\u001b[39m_exc_info \u001b[38;5;241m=\u001b[39m \u001b[38;5;28;01mNone\u001b[39;00m  \u001b[38;5;66;03m# remove potential circular references\u001b[39;00m\n",
      "File \u001b[1;32m~\\AppData\\Roaming\\Python\\Python310\\site-packages\\sqlalchemy\\orm\\session.py:4449\u001b[0m, in \u001b[0;36mSession._flush\u001b[1;34m(self, objects)\u001b[0m\n\u001b[0;32m   4447\u001b[0m \u001b[38;5;28mself\u001b[39m\u001b[38;5;241m.\u001b[39m_warn_on_events \u001b[38;5;241m=\u001b[39m \u001b[38;5;28;01mTrue\u001b[39;00m\n\u001b[0;32m   4448\u001b[0m \u001b[38;5;28;01mtry\u001b[39;00m:\n\u001b[1;32m-> 4449\u001b[0m     \u001b[43mflush_context\u001b[49m\u001b[38;5;241;43m.\u001b[39;49m\u001b[43mexecute\u001b[49m\u001b[43m(\u001b[49m\u001b[43m)\u001b[49m\n\u001b[0;32m   4450\u001b[0m \u001b[38;5;28;01mfinally\u001b[39;00m:\n\u001b[0;32m   4451\u001b[0m     \u001b[38;5;28mself\u001b[39m\u001b[38;5;241m.\u001b[39m_warn_on_events \u001b[38;5;241m=\u001b[39m \u001b[38;5;28;01mFalse\u001b[39;00m\n",
      "File \u001b[1;32m~\\AppData\\Roaming\\Python\\Python310\\site-packages\\sqlalchemy\\orm\\unitofwork.py:466\u001b[0m, in \u001b[0;36mUOWTransaction.execute\u001b[1;34m(self)\u001b[0m\n\u001b[0;32m    464\u001b[0m \u001b[38;5;28;01melse\u001b[39;00m:\n\u001b[0;32m    465\u001b[0m     \u001b[38;5;28;01mfor\u001b[39;00m rec \u001b[38;5;129;01min\u001b[39;00m topological\u001b[38;5;241m.\u001b[39msort(\u001b[38;5;28mself\u001b[39m\u001b[38;5;241m.\u001b[39mdependencies, postsort_actions):\n\u001b[1;32m--> 466\u001b[0m         \u001b[43mrec\u001b[49m\u001b[38;5;241;43m.\u001b[39;49m\u001b[43mexecute\u001b[49m\u001b[43m(\u001b[49m\u001b[38;5;28;43mself\u001b[39;49m\u001b[43m)\u001b[49m\n",
      "File \u001b[1;32m~\\AppData\\Roaming\\Python\\Python310\\site-packages\\sqlalchemy\\orm\\unitofwork.py:642\u001b[0m, in \u001b[0;36mSaveUpdateAll.execute\u001b[1;34m(self, uow)\u001b[0m\n\u001b[0;32m    640\u001b[0m \u001b[38;5;129m@util\u001b[39m\u001b[38;5;241m.\u001b[39mpreload_module(\u001b[38;5;124m\"\u001b[39m\u001b[38;5;124msqlalchemy.orm.persistence\u001b[39m\u001b[38;5;124m\"\u001b[39m)\n\u001b[0;32m    641\u001b[0m \u001b[38;5;28;01mdef\u001b[39;00m\u001b[38;5;250m \u001b[39m\u001b[38;5;21mexecute\u001b[39m(\u001b[38;5;28mself\u001b[39m, uow):\n\u001b[1;32m--> 642\u001b[0m     \u001b[43mutil\u001b[49m\u001b[38;5;241;43m.\u001b[39;49m\u001b[43mpreloaded\u001b[49m\u001b[38;5;241;43m.\u001b[39;49m\u001b[43morm_persistence\u001b[49m\u001b[38;5;241;43m.\u001b[39;49m\u001b[43msave_obj\u001b[49m\u001b[43m(\u001b[49m\n\u001b[0;32m    643\u001b[0m \u001b[43m        \u001b[49m\u001b[38;5;28;43mself\u001b[39;49m\u001b[38;5;241;43m.\u001b[39;49m\u001b[43mmapper\u001b[49m\u001b[43m,\u001b[49m\n\u001b[0;32m    644\u001b[0m \u001b[43m        \u001b[49m\u001b[43muow\u001b[49m\u001b[38;5;241;43m.\u001b[39;49m\u001b[43mstates_for_mapper_hierarchy\u001b[49m\u001b[43m(\u001b[49m\u001b[38;5;28;43mself\u001b[39;49m\u001b[38;5;241;43m.\u001b[39;49m\u001b[43mmapper\u001b[49m\u001b[43m,\u001b[49m\u001b[43m \u001b[49m\u001b[38;5;28;43;01mFalse\u001b[39;49;00m\u001b[43m,\u001b[49m\u001b[43m \u001b[49m\u001b[38;5;28;43;01mFalse\u001b[39;49;00m\u001b[43m)\u001b[49m\u001b[43m,\u001b[49m\n\u001b[0;32m    645\u001b[0m \u001b[43m        \u001b[49m\u001b[43muow\u001b[49m\u001b[43m,\u001b[49m\n\u001b[0;32m    646\u001b[0m \u001b[43m    \u001b[49m\u001b[43m)\u001b[49m\n",
      "File \u001b[1;32m~\\AppData\\Roaming\\Python\\Python310\\site-packages\\sqlalchemy\\orm\\persistence.py:85\u001b[0m, in \u001b[0;36msave_obj\u001b[1;34m(base_mapper, states, uowtransaction, single)\u001b[0m\n\u001b[0;32m     79\u001b[0m     insert \u001b[38;5;241m=\u001b[39m _collect_insert_commands(table, states_to_insert)\n\u001b[0;32m     81\u001b[0m     update \u001b[38;5;241m=\u001b[39m _collect_update_commands(\n\u001b[0;32m     82\u001b[0m         uowtransaction, table, states_to_update\n\u001b[0;32m     83\u001b[0m     )\n\u001b[1;32m---> 85\u001b[0m     \u001b[43m_emit_update_statements\u001b[49m\u001b[43m(\u001b[49m\n\u001b[0;32m     86\u001b[0m \u001b[43m        \u001b[49m\u001b[43mbase_mapper\u001b[49m\u001b[43m,\u001b[49m\n\u001b[0;32m     87\u001b[0m \u001b[43m        \u001b[49m\u001b[43muowtransaction\u001b[49m\u001b[43m,\u001b[49m\n\u001b[0;32m     88\u001b[0m \u001b[43m        \u001b[49m\u001b[43mmapper\u001b[49m\u001b[43m,\u001b[49m\n\u001b[0;32m     89\u001b[0m \u001b[43m        \u001b[49m\u001b[43mtable\u001b[49m\u001b[43m,\u001b[49m\n\u001b[0;32m     90\u001b[0m \u001b[43m        \u001b[49m\u001b[43mupdate\u001b[49m\u001b[43m,\u001b[49m\n\u001b[0;32m     91\u001b[0m \u001b[43m    \u001b[49m\u001b[43m)\u001b[49m\n\u001b[0;32m     93\u001b[0m     _emit_insert_statements(\n\u001b[0;32m     94\u001b[0m         base_mapper,\n\u001b[0;32m     95\u001b[0m         uowtransaction,\n\u001b[1;32m   (...)\u001b[0m\n\u001b[0;32m     98\u001b[0m         insert,\n\u001b[0;32m     99\u001b[0m     )\n\u001b[0;32m    101\u001b[0m _finalize_insert_update_commands(\n\u001b[0;32m    102\u001b[0m     base_mapper,\n\u001b[0;32m    103\u001b[0m     uowtransaction,\n\u001b[1;32m   (...)\u001b[0m\n\u001b[0;32m    119\u001b[0m     ),\n\u001b[0;32m    120\u001b[0m )\n",
      "File \u001b[1;32m~\\AppData\\Roaming\\Python\\Python310\\site-packages\\sqlalchemy\\orm\\persistence.py:912\u001b[0m, in \u001b[0;36m_emit_update_statements\u001b[1;34m(base_mapper, uowtransaction, mapper, table, update, bookkeeping, use_orm_update_stmt, enable_check_rowcount)\u001b[0m\n\u001b[0;32m    905\u001b[0m multiparams \u001b[38;5;241m=\u001b[39m [rec[\u001b[38;5;241m2\u001b[39m] \u001b[38;5;28;01mfor\u001b[39;00m rec \u001b[38;5;129;01min\u001b[39;00m records]\n\u001b[0;32m    907\u001b[0m check_rowcount \u001b[38;5;241m=\u001b[39m enable_check_rowcount \u001b[38;5;129;01mand\u001b[39;00m (\n\u001b[0;32m    908\u001b[0m     assert_multirow\n\u001b[0;32m    909\u001b[0m     \u001b[38;5;129;01mor\u001b[39;00m (assert_singlerow \u001b[38;5;129;01mand\u001b[39;00m \u001b[38;5;28mlen\u001b[39m(multiparams) \u001b[38;5;241m==\u001b[39m \u001b[38;5;241m1\u001b[39m)\n\u001b[0;32m    910\u001b[0m )\n\u001b[1;32m--> 912\u001b[0m c \u001b[38;5;241m=\u001b[39m \u001b[43mconnection\u001b[49m\u001b[38;5;241;43m.\u001b[39;49m\u001b[43mexecute\u001b[49m\u001b[43m(\u001b[49m\n\u001b[0;32m    913\u001b[0m \u001b[43m    \u001b[49m\u001b[43mstatement\u001b[49m\u001b[43m,\u001b[49m\u001b[43m \u001b[49m\u001b[43mmultiparams\u001b[49m\u001b[43m,\u001b[49m\u001b[43m \u001b[49m\u001b[43mexecution_options\u001b[49m\u001b[38;5;241;43m=\u001b[39;49m\u001b[43mexecution_options\u001b[49m\n\u001b[0;32m    914\u001b[0m \u001b[43m\u001b[49m\u001b[43m)\u001b[49m\n\u001b[0;32m    916\u001b[0m rows \u001b[38;5;241m+\u001b[39m\u001b[38;5;241m=\u001b[39m c\u001b[38;5;241m.\u001b[39mrowcount\n\u001b[0;32m    918\u001b[0m \u001b[38;5;28;01mfor\u001b[39;00m (\n\u001b[0;32m    919\u001b[0m     state,\n\u001b[0;32m    920\u001b[0m     state_dict,\n\u001b[1;32m   (...)\u001b[0m\n\u001b[0;32m    926\u001b[0m     has_all_pks,\n\u001b[0;32m    927\u001b[0m ) \u001b[38;5;129;01min\u001b[39;00m records:\n",
      "File \u001b[1;32m~\\AppData\\Roaming\\Python\\Python310\\site-packages\\sqlalchemy\\engine\\base.py:1416\u001b[0m, in \u001b[0;36mConnection.execute\u001b[1;34m(self, statement, parameters, execution_options)\u001b[0m\n\u001b[0;32m   1414\u001b[0m     \u001b[38;5;28;01mraise\u001b[39;00m exc\u001b[38;5;241m.\u001b[39mObjectNotExecutableError(statement) \u001b[38;5;28;01mfrom\u001b[39;00m\u001b[38;5;250m \u001b[39m\u001b[38;5;21;01merr\u001b[39;00m\n\u001b[0;32m   1415\u001b[0m \u001b[38;5;28;01melse\u001b[39;00m:\n\u001b[1;32m-> 1416\u001b[0m     \u001b[38;5;28;01mreturn\u001b[39;00m \u001b[43mmeth\u001b[49m\u001b[43m(\u001b[49m\n\u001b[0;32m   1417\u001b[0m \u001b[43m        \u001b[49m\u001b[38;5;28;43mself\u001b[39;49m\u001b[43m,\u001b[49m\n\u001b[0;32m   1418\u001b[0m \u001b[43m        \u001b[49m\u001b[43mdistilled_parameters\u001b[49m\u001b[43m,\u001b[49m\n\u001b[0;32m   1419\u001b[0m \u001b[43m        \u001b[49m\u001b[43mexecution_options\u001b[49m\u001b[43m \u001b[49m\u001b[38;5;129;43;01mor\u001b[39;49;00m\u001b[43m \u001b[49m\u001b[43mNO_OPTIONS\u001b[49m\u001b[43m,\u001b[49m\n\u001b[0;32m   1420\u001b[0m \u001b[43m    \u001b[49m\u001b[43m)\u001b[49m\n",
      "File \u001b[1;32m~\\AppData\\Roaming\\Python\\Python310\\site-packages\\sqlalchemy\\sql\\elements.py:516\u001b[0m, in \u001b[0;36mClauseElement._execute_on_connection\u001b[1;34m(self, connection, distilled_params, execution_options)\u001b[0m\n\u001b[0;32m    514\u001b[0m     \u001b[38;5;28;01mif\u001b[39;00m TYPE_CHECKING:\n\u001b[0;32m    515\u001b[0m         \u001b[38;5;28;01massert\u001b[39;00m \u001b[38;5;28misinstance\u001b[39m(\u001b[38;5;28mself\u001b[39m, Executable)\n\u001b[1;32m--> 516\u001b[0m     \u001b[38;5;28;01mreturn\u001b[39;00m \u001b[43mconnection\u001b[49m\u001b[38;5;241;43m.\u001b[39;49m\u001b[43m_execute_clauseelement\u001b[49m\u001b[43m(\u001b[49m\n\u001b[0;32m    517\u001b[0m \u001b[43m        \u001b[49m\u001b[38;5;28;43mself\u001b[39;49m\u001b[43m,\u001b[49m\u001b[43m \u001b[49m\u001b[43mdistilled_params\u001b[49m\u001b[43m,\u001b[49m\u001b[43m \u001b[49m\u001b[43mexecution_options\u001b[49m\n\u001b[0;32m    518\u001b[0m \u001b[43m    \u001b[49m\u001b[43m)\u001b[49m\n\u001b[0;32m    519\u001b[0m \u001b[38;5;28;01melse\u001b[39;00m:\n\u001b[0;32m    520\u001b[0m     \u001b[38;5;28;01mraise\u001b[39;00m exc\u001b[38;5;241m.\u001b[39mObjectNotExecutableError(\u001b[38;5;28mself\u001b[39m)\n",
      "File \u001b[1;32m~\\AppData\\Roaming\\Python\\Python310\\site-packages\\sqlalchemy\\engine\\base.py:1638\u001b[0m, in \u001b[0;36mConnection._execute_clauseelement\u001b[1;34m(self, elem, distilled_parameters, execution_options)\u001b[0m\n\u001b[0;32m   1626\u001b[0m compiled_cache: Optional[CompiledCacheType] \u001b[38;5;241m=\u001b[39m execution_options\u001b[38;5;241m.\u001b[39mget(\n\u001b[0;32m   1627\u001b[0m     \u001b[38;5;124m\"\u001b[39m\u001b[38;5;124mcompiled_cache\u001b[39m\u001b[38;5;124m\"\u001b[39m, \u001b[38;5;28mself\u001b[39m\u001b[38;5;241m.\u001b[39mengine\u001b[38;5;241m.\u001b[39m_compiled_cache\n\u001b[0;32m   1628\u001b[0m )\n\u001b[0;32m   1630\u001b[0m compiled_sql, extracted_params, cache_hit \u001b[38;5;241m=\u001b[39m elem\u001b[38;5;241m.\u001b[39m_compile_w_cache(\n\u001b[0;32m   1631\u001b[0m     dialect\u001b[38;5;241m=\u001b[39mdialect,\n\u001b[0;32m   1632\u001b[0m     compiled_cache\u001b[38;5;241m=\u001b[39mcompiled_cache,\n\u001b[1;32m   (...)\u001b[0m\n\u001b[0;32m   1636\u001b[0m     linting\u001b[38;5;241m=\u001b[39m\u001b[38;5;28mself\u001b[39m\u001b[38;5;241m.\u001b[39mdialect\u001b[38;5;241m.\u001b[39mcompiler_linting \u001b[38;5;241m|\u001b[39m compiler\u001b[38;5;241m.\u001b[39mWARN_LINTING,\n\u001b[0;32m   1637\u001b[0m )\n\u001b[1;32m-> 1638\u001b[0m ret \u001b[38;5;241m=\u001b[39m \u001b[38;5;28;43mself\u001b[39;49m\u001b[38;5;241;43m.\u001b[39;49m\u001b[43m_execute_context\u001b[49m\u001b[43m(\u001b[49m\n\u001b[0;32m   1639\u001b[0m \u001b[43m    \u001b[49m\u001b[43mdialect\u001b[49m\u001b[43m,\u001b[49m\n\u001b[0;32m   1640\u001b[0m \u001b[43m    \u001b[49m\u001b[43mdialect\u001b[49m\u001b[38;5;241;43m.\u001b[39;49m\u001b[43mexecution_ctx_cls\u001b[49m\u001b[38;5;241;43m.\u001b[39;49m\u001b[43m_init_compiled\u001b[49m\u001b[43m,\u001b[49m\n\u001b[0;32m   1641\u001b[0m \u001b[43m    \u001b[49m\u001b[43mcompiled_sql\u001b[49m\u001b[43m,\u001b[49m\n\u001b[0;32m   1642\u001b[0m \u001b[43m    \u001b[49m\u001b[43mdistilled_parameters\u001b[49m\u001b[43m,\u001b[49m\n\u001b[0;32m   1643\u001b[0m \u001b[43m    \u001b[49m\u001b[43mexecution_options\u001b[49m\u001b[43m,\u001b[49m\n\u001b[0;32m   1644\u001b[0m \u001b[43m    \u001b[49m\u001b[43mcompiled_sql\u001b[49m\u001b[43m,\u001b[49m\n\u001b[0;32m   1645\u001b[0m \u001b[43m    \u001b[49m\u001b[43mdistilled_parameters\u001b[49m\u001b[43m,\u001b[49m\n\u001b[0;32m   1646\u001b[0m \u001b[43m    \u001b[49m\u001b[43melem\u001b[49m\u001b[43m,\u001b[49m\n\u001b[0;32m   1647\u001b[0m \u001b[43m    \u001b[49m\u001b[43mextracted_params\u001b[49m\u001b[43m,\u001b[49m\n\u001b[0;32m   1648\u001b[0m \u001b[43m    \u001b[49m\u001b[43mcache_hit\u001b[49m\u001b[38;5;241;43m=\u001b[39;49m\u001b[43mcache_hit\u001b[49m\u001b[43m,\u001b[49m\n\u001b[0;32m   1649\u001b[0m \u001b[43m\u001b[49m\u001b[43m)\u001b[49m\n\u001b[0;32m   1650\u001b[0m \u001b[38;5;28;01mif\u001b[39;00m has_events:\n\u001b[0;32m   1651\u001b[0m     \u001b[38;5;28mself\u001b[39m\u001b[38;5;241m.\u001b[39mdispatch\u001b[38;5;241m.\u001b[39mafter_execute(\n\u001b[0;32m   1652\u001b[0m         \u001b[38;5;28mself\u001b[39m,\n\u001b[0;32m   1653\u001b[0m         elem,\n\u001b[1;32m   (...)\u001b[0m\n\u001b[0;32m   1657\u001b[0m         ret,\n\u001b[0;32m   1658\u001b[0m     )\n",
      "File \u001b[1;32m~\\AppData\\Roaming\\Python\\Python310\\site-packages\\sqlalchemy\\engine\\base.py:1843\u001b[0m, in \u001b[0;36mConnection._execute_context\u001b[1;34m(self, dialect, constructor, statement, parameters, execution_options, *args, **kw)\u001b[0m\n\u001b[0;32m   1841\u001b[0m     \u001b[38;5;28;01mreturn\u001b[39;00m \u001b[38;5;28mself\u001b[39m\u001b[38;5;241m.\u001b[39m_exec_insertmany_context(dialect, context)\n\u001b[0;32m   1842\u001b[0m \u001b[38;5;28;01melse\u001b[39;00m:\n\u001b[1;32m-> 1843\u001b[0m     \u001b[38;5;28;01mreturn\u001b[39;00m \u001b[38;5;28;43mself\u001b[39;49m\u001b[38;5;241;43m.\u001b[39;49m\u001b[43m_exec_single_context\u001b[49m\u001b[43m(\u001b[49m\n\u001b[0;32m   1844\u001b[0m \u001b[43m        \u001b[49m\u001b[43mdialect\u001b[49m\u001b[43m,\u001b[49m\u001b[43m \u001b[49m\u001b[43mcontext\u001b[49m\u001b[43m,\u001b[49m\u001b[43m \u001b[49m\u001b[43mstatement\u001b[49m\u001b[43m,\u001b[49m\u001b[43m \u001b[49m\u001b[43mparameters\u001b[49m\n\u001b[0;32m   1845\u001b[0m \u001b[43m    \u001b[49m\u001b[43m)\u001b[49m\n",
      "File \u001b[1;32m~\\AppData\\Roaming\\Python\\Python310\\site-packages\\sqlalchemy\\engine\\base.py:1983\u001b[0m, in \u001b[0;36mConnection._exec_single_context\u001b[1;34m(self, dialect, context, statement, parameters)\u001b[0m\n\u001b[0;32m   1980\u001b[0m     result \u001b[38;5;241m=\u001b[39m context\u001b[38;5;241m.\u001b[39m_setup_result_proxy()\n\u001b[0;32m   1982\u001b[0m \u001b[38;5;28;01mexcept\u001b[39;00m \u001b[38;5;167;01mBaseException\u001b[39;00m \u001b[38;5;28;01mas\u001b[39;00m e:\n\u001b[1;32m-> 1983\u001b[0m     \u001b[38;5;28;43mself\u001b[39;49m\u001b[38;5;241;43m.\u001b[39;49m\u001b[43m_handle_dbapi_exception\u001b[49m\u001b[43m(\u001b[49m\n\u001b[0;32m   1984\u001b[0m \u001b[43m        \u001b[49m\u001b[43me\u001b[49m\u001b[43m,\u001b[49m\u001b[43m \u001b[49m\u001b[43mstr_statement\u001b[49m\u001b[43m,\u001b[49m\u001b[43m \u001b[49m\u001b[43meffective_parameters\u001b[49m\u001b[43m,\u001b[49m\u001b[43m \u001b[49m\u001b[43mcursor\u001b[49m\u001b[43m,\u001b[49m\u001b[43m \u001b[49m\u001b[43mcontext\u001b[49m\n\u001b[0;32m   1985\u001b[0m \u001b[43m    \u001b[49m\u001b[43m)\u001b[49m\n\u001b[0;32m   1987\u001b[0m \u001b[38;5;28;01mreturn\u001b[39;00m result\n",
      "File \u001b[1;32m~\\AppData\\Roaming\\Python\\Python310\\site-packages\\sqlalchemy\\engine\\base.py:2352\u001b[0m, in \u001b[0;36mConnection._handle_dbapi_exception\u001b[1;34m(self, e, statement, parameters, cursor, context, is_sub_exec)\u001b[0m\n\u001b[0;32m   2350\u001b[0m \u001b[38;5;28;01melif\u001b[39;00m should_wrap:\n\u001b[0;32m   2351\u001b[0m     \u001b[38;5;28;01massert\u001b[39;00m sqlalchemy_exception \u001b[38;5;129;01mis\u001b[39;00m \u001b[38;5;129;01mnot\u001b[39;00m \u001b[38;5;28;01mNone\u001b[39;00m\n\u001b[1;32m-> 2352\u001b[0m     \u001b[38;5;28;01mraise\u001b[39;00m sqlalchemy_exception\u001b[38;5;241m.\u001b[39mwith_traceback(exc_info[\u001b[38;5;241m2\u001b[39m]) \u001b[38;5;28;01mfrom\u001b[39;00m\u001b[38;5;250m \u001b[39m\u001b[38;5;21;01me\u001b[39;00m\n\u001b[0;32m   2353\u001b[0m \u001b[38;5;28;01melse\u001b[39;00m:\n\u001b[0;32m   2354\u001b[0m     \u001b[38;5;28;01massert\u001b[39;00m exc_info[\u001b[38;5;241m1\u001b[39m] \u001b[38;5;129;01mis\u001b[39;00m \u001b[38;5;129;01mnot\u001b[39;00m \u001b[38;5;28;01mNone\u001b[39;00m\n",
      "File \u001b[1;32m~\\AppData\\Roaming\\Python\\Python310\\site-packages\\sqlalchemy\\engine\\base.py:1964\u001b[0m, in \u001b[0;36mConnection._exec_single_context\u001b[1;34m(self, dialect, context, statement, parameters)\u001b[0m\n\u001b[0;32m   1962\u001b[0m                 \u001b[38;5;28;01mbreak\u001b[39;00m\n\u001b[0;32m   1963\u001b[0m     \u001b[38;5;28;01mif\u001b[39;00m \u001b[38;5;129;01mnot\u001b[39;00m evt_handled:\n\u001b[1;32m-> 1964\u001b[0m         \u001b[38;5;28;43mself\u001b[39;49m\u001b[38;5;241;43m.\u001b[39;49m\u001b[43mdialect\u001b[49m\u001b[38;5;241;43m.\u001b[39;49m\u001b[43mdo_execute\u001b[49m\u001b[43m(\u001b[49m\n\u001b[0;32m   1965\u001b[0m \u001b[43m            \u001b[49m\u001b[43mcursor\u001b[49m\u001b[43m,\u001b[49m\u001b[43m \u001b[49m\u001b[43mstr_statement\u001b[49m\u001b[43m,\u001b[49m\u001b[43m \u001b[49m\u001b[43meffective_parameters\u001b[49m\u001b[43m,\u001b[49m\u001b[43m \u001b[49m\u001b[43mcontext\u001b[49m\n\u001b[0;32m   1966\u001b[0m \u001b[43m        \u001b[49m\u001b[43m)\u001b[49m\n\u001b[0;32m   1968\u001b[0m \u001b[38;5;28;01mif\u001b[39;00m \u001b[38;5;28mself\u001b[39m\u001b[38;5;241m.\u001b[39m_has_events \u001b[38;5;129;01mor\u001b[39;00m \u001b[38;5;28mself\u001b[39m\u001b[38;5;241m.\u001b[39mengine\u001b[38;5;241m.\u001b[39m_has_events:\n\u001b[0;32m   1969\u001b[0m     \u001b[38;5;28mself\u001b[39m\u001b[38;5;241m.\u001b[39mdispatch\u001b[38;5;241m.\u001b[39mafter_cursor_execute(\n\u001b[0;32m   1970\u001b[0m         \u001b[38;5;28mself\u001b[39m,\n\u001b[0;32m   1971\u001b[0m         cursor,\n\u001b[1;32m   (...)\u001b[0m\n\u001b[0;32m   1975\u001b[0m         context\u001b[38;5;241m.\u001b[39mexecutemany,\n\u001b[0;32m   1976\u001b[0m     )\n",
      "File \u001b[1;32m~\\AppData\\Roaming\\Python\\Python310\\site-packages\\sqlalchemy\\engine\\default.py:942\u001b[0m, in \u001b[0;36mDefaultDialect.do_execute\u001b[1;34m(self, cursor, statement, parameters, context)\u001b[0m\n\u001b[0;32m    941\u001b[0m \u001b[38;5;28;01mdef\u001b[39;00m\u001b[38;5;250m \u001b[39m\u001b[38;5;21mdo_execute\u001b[39m(\u001b[38;5;28mself\u001b[39m, cursor, statement, parameters, context\u001b[38;5;241m=\u001b[39m\u001b[38;5;28;01mNone\u001b[39;00m):\n\u001b[1;32m--> 942\u001b[0m     \u001b[43mcursor\u001b[49m\u001b[38;5;241;43m.\u001b[39;49m\u001b[43mexecute\u001b[49m\u001b[43m(\u001b[49m\u001b[43mstatement\u001b[49m\u001b[43m,\u001b[49m\u001b[43m \u001b[49m\u001b[43mparameters\u001b[49m\u001b[43m)\u001b[49m\n",
      "\u001b[1;31mIntegrityError\u001b[0m: (sqlite3.IntegrityError) NOT NULL constraint failed: order_items.producto_id\n[SQL: UPDATE order_items SET producto_id=? WHERE order_items.id = ?]\n[parameters: (None, 5)]\n(Background on this error at: https://sqlalche.me/e/20/gkpj)"
     ]
    }
   ],
   "source": [
    "# Eliminar un producto\n",
    "producto_a_eliminar = session.query(Producto).filter_by(nombre='Monitor').first()\n",
    "session.delete(producto_a_eliminar)\n",
    "session.commit()"
   ]
  },
  {
   "cell_type": "markdown",
   "id": "6ac2f120-5763-4707-b2d3-4a131e75da59",
   "metadata": {},
   "source": [
    "creo que se debe que tengo un pedido donde esta ese producto, puede ser '\n",
    "\n",
    "\n",
    "ChatGPT dijo:\n",
    "Exacto, el error que estás viendo se debe a que estás intentando eliminar un producto que está referenciado en otra tabla, específicamente en order_items (ítems de pedido), y esa relación tiene una restricción NOT NULL en el campo producto_id.\n",
    "\n",
    "Qué está pasando\n",
    "Cuando haces:\n",
    "\n",
    "```python\n",
    "session.delete(producto_a_eliminar)\n",
    "session.commit()\n",
    "```\n",
    "\n",
    "SQLAlchemy intenta actualizar los registros de order_items que hacen referencia a ese producto, probablemente porque tienes una relación definida con cascade=\"all\" o similar, y no se puede establecer producto_id = NULL porque el campo es NOT NULL.\n",
    "\n",
    "Cómo solucionarlo\n",
    "Tienes varias opciones, dependiendo del comportamiento que desees:"
   ]
  },
  {
   "cell_type": "markdown",
   "id": "13813570-545b-4e19-a37e-3ac1e3f0317a",
   "metadata": {},
   "source": [
    " ✅ Opción 1: Prevenir la eliminación si el producto está en uso\n",
    "\n",
    "```python\n",
    "producto = session.query(Producto).filter_by(nombre='Monitor').first()\n",
    "\n",
    "# Verificar si hay pedidos con ese producto\n",
    "if producto and producto.order_items:\n",
    "    print(\"No se puede eliminar el producto, está en pedidos existentes.\")\n",
    "else:\n",
    "    session.delete(producto)\n",
    "    session.commit()\n",
    "```"
   ]
  },
  {
   "cell_type": "markdown",
   "id": "70d6cb6b-6e4d-432d-9150-47a4e4dfe481",
   "metadata": {},
   "source": [
    "- ✅ Opción 2: Eliminar también los ítems relacionados (si estás seguro)\n",
    "Esto borra los registros de order_items que lo usan:\n",
    "\n",
    "```python\n",
    "producto = session.query(Producto).filter_by(nombre='Monitor').first()\n",
    "\n",
    "if producto:\n",
    "    for item in producto.order_items:\n",
    "        session.delete(item)\n",
    "    session.delete(producto)\n",
    "    session.commit()\n",
    "```"
   ]
  },
  {
   "cell_type": "markdown",
   "id": "ff69ddcf-48b1-482c-8be4-b50ef5d844db",
   "metadata": {},
   "source": [
    "- ✅ Opción 3: Definir ON DELETE CASCADE en la base de datos\n",
    "\n",
    "Si usás SQLite, necesitas declarar las claves foráneas con ondelete=\"CASCADE\" y activar las foreign keys así:\n",
    "\n",
    "```python\n",
    "from sqlalchemy import event\n",
    "from sqlalchemy.engine import Engine\n",
    "\n",
    "@event.listens_for(Engine, \"connect\")\n",
    "def set_sqlite_pragma(dbapi_connection, connection_record):\n",
    "    cursor = dbapi_connection.cursor()\n",
    "    cursor.execute(\"PRAGMA foreign_keys=ON\")\n",
    "    cursor.close()\n",
    "```\n",
    "\n",
    "Y en tu modelo de OrderItem:\n",
    "\n",
    "```python\n",
    "pedido_id = Column(Integer, ForeignKey('pedidos.id', ondelete='CASCADE'))\n",
    "producto_id = Column(Integer, ForeignKey('productos.id', ondelete='CASCADE'))\n",
    "```\n",
    "\n",
    "Pero ten en cuenta que para que esto funcione bien, debes haber creado la base con esa configuración desde el principio.\n",
    "\n",
    "¿Querés que te ayude a revisar tus modelos para ver si podemos aplicar esta solución de forma segura?"
   ]
  }
 ],
 "metadata": {
  "kernelspec": {
   "display_name": "Python 3 (ipykernel)",
   "language": "python",
   "name": "python3"
  },
  "language_info": {
   "codemirror_mode": {
    "name": "ipython",
    "version": 3
   },
   "file_extension": ".py",
   "mimetype": "text/x-python",
   "name": "python",
   "nbconvert_exporter": "python",
   "pygments_lexer": "ipython3",
   "version": "3.10.4"
  }
 },
 "nbformat": 4,
 "nbformat_minor": 5
}
