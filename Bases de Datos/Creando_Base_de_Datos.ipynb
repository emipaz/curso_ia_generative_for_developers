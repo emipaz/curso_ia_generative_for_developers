{
 "cells": [
  {
   "cell_type": "markdown",
   "metadata": {},
   "source": [
    "# Bases de Datos con SQLalchemy"
   ]
  },
  {
   "cell_type": "markdown",
   "metadata": {},
   "source": [
    "## Simple Database with SQLalchemy"
   ]
  },
  {
   "cell_type": "markdown",
   "metadata": {},
   "source": [
    "- Instalacion de SQLalchemy\n",
    "  ```bash\n",
    "  pip install sqlalchemy\n",
    "  ```\n",
    "___\n",
    "  \n",
    "- Importaciones:\n",
    "  - create_engine: Función de SQLAlchemy que se utiliza para establecer una conexión con la base de datos.\n",
    "  - text: Función de SQLAlchemy que permite crear consultas SQL a partir de cadenas de texto.\n",
    "___"
   ]
  },
  {
   "cell_type": "code",
   "execution_count": 1,
   "metadata": {},
   "outputs": [],
   "source": [
    "import sqlalchemy"
   ]
  },
  {
   "cell_type": "code",
   "execution_count": 3,
   "metadata": {},
   "outputs": [
    {
     "data": {
      "text/plain": [
       "'2.0.38'"
      ]
     },
     "execution_count": 3,
     "metadata": {},
     "output_type": "execute_result"
    }
   ],
   "source": [
    "sqlalchemy.__version__"
   ]
  },
  {
   "cell_type": "code",
   "execution_count": 4,
   "metadata": {},
   "outputs": [],
   "source": [
    "from sqlalchemy import create_engine, text"
   ]
  },
  {
   "cell_type": "markdown",
   "metadata": {},
   "source": [
    "- Creación del motor de base de datos:\n",
    "\n",
    "  - create_engine('sqlite:///ecommerce.db', echo=True): Crea un motor de base de datos para interactuar con un archivo SQLite llamado ecommerce.db.\n",
    "  - para usar una base en memoria ram usar create_engine('sqlite:///:memory:')\n",
    "  - El parámetro echo=True es útil para depurar, ya que muestra las consultas SQL que se ejecutan."
   ]
  },
  {
   "cell_type": "code",
   "execution_count": 5,
   "metadata": {},
   "outputs": [],
   "source": [
    "engine = create_engine('sqlite:///:memory:', echo=True)"
   ]
  },
  {
   "cell_type": "markdown",
   "metadata": {},
   "source": [
    "- Conexión y ejecución de la consulta:\n",
    "  - with engine.connect() as connection: Abre una conexión al motor de la base de datos. El uso de with asegura que la conexión se cierre automáticamente cuando se sale del bloque.\n",
    "  - connection.execute(text(\"SELECT 1\")): Ejecuta una consulta SQL que simplemente selecciona el número 1. Esto es una prueba básica para verificar que la conexión a la base de datos funciona correctamente.\n",
    "- Obtención y muestra del resultado:\n",
    "  - result.scalar(): Devuelve el valor escalar (único) del resultado de la consulta. En este caso, debería ser 1.\n",
    "  - print(result.scalar()): Imprime el resultado de la consulta, que debería ser 1 si la conexión a la base de datos es exitosa."
   ]
  },
  {
   "cell_type": "code",
   "execution_count": 6,
   "metadata": {},
   "outputs": [
    {
     "name": "stdout",
     "output_type": "stream",
     "text": [
      "2025-05-19 19:50:09,870 INFO sqlalchemy.engine.Engine BEGIN (implicit)\n",
      "2025-05-19 19:50:09,881 INFO sqlalchemy.engine.Engine SELECT 1\n",
      "2025-05-19 19:50:09,883 INFO sqlalchemy.engine.Engine [generated in 0.01362s] ()\n",
      "1\n",
      "2025-05-19 19:50:09,886 INFO sqlalchemy.engine.Engine ROLLBACK\n"
     ]
    }
   ],
   "source": [
    "with engine.connect() as connection:\n",
    "    result = connection.execute(text(\"SELECT 1\"))\n",
    "    # Fetch and print the result\n",
    "    print(result.scalar()) # This should print 1 if the connection is successful"
   ]
  },
  {
   "cell_type": "markdown",
   "metadata": {},
   "source": [
    "> Este código es una manera simple de verificar que tu configuración de SQLAlchemy y la conexión a la base de datos están funcionando correctamente."
   ]
  },
  {
   "cell_type": "markdown",
   "metadata": {},
   "source": [
    "## Implementacion de un Esquema"
   ]
  },
  {
   "cell_type": "markdown",
   "metadata": {},
   "source": [
    "Tengo una base de datos SQLite configurada en Python con SQLAlchemy. ¿Podrían ayudarme a implementar tablas para el siguiente esquema?\n",
    "\n",
    ". Users:\n",
    "   - id (Primary Key)\n",
    "   - name\n",
    "   - email (Unique)\n",
    "\n",
    "2. Products:\n",
    "   - id (Primary Key)\n",
    "   - name\n",
    "   - price\n",
    "\n",
    "3. Orders:\n",
    "   - id (Primary Key)\n",
    "   - user_id (Foreign Key referencing Users)\n",
    "\n",
    "4. Order_items:\n",
    "   - id (Primary Key)\n",
    "   - order_id (Foreign Key referencing Orders)\n",
    "   - product_id (Foreign Key referencing Products)\n",
    "   - quantity\n",
    "\n",
    "Usa sqlalchemy pero normal, no ORM\n",
    "\n",
    "\n",
    "ChatGPT dijo:\n",
    "Claro, aquí tienes cómo implementar las tablas que describes usando SQLAlchemy con estilo SQL Expression Language (no ORM). Este enfoque es más explícito y cercano al SQL puro."
   ]
  },
  {
   "cell_type": "markdown",
   "metadata": {},
   "source": [
    "### ✅ Modo Imperativo (Core)\n",
    "\n",
    "- Define tablas con Table(...), columnas, claves foráneas, etc.\n",
    "- No usa clases ni objetos.\n",
    "- Es como escribir SQL estructurado en Python.\n",
    "- No es ORM."
   ]
  },
  {
   "cell_type": "markdown",
   "metadata": {},
   "source": [
    "### ✅ Modo Declarativo + ORM \n",
    "\n",
    "- Definelas tablas como class Usuario(Base)\n",
    "- Usa POO: defines clases que representan tablas.\n",
    "- Estas clases permiten crear instancias (objetos) que representan filas.\n",
    "- Te permite usar session.add(), session.query(), etc.\n",
    "\n",
    "Es el modo ORM de SQLAlchemy, usando el sistema declarativo para definir los modelos."
   ]
  },
  {
   "cell_type": "markdown",
   "metadata": {},
   "source": [
    "Importaciones"
   ]
  },
  {
   "cell_type": "code",
   "execution_count": 8,
   "metadata": {},
   "outputs": [],
   "source": [
    "# Estructura de la base de datos\n",
    "from sqlalchemy import create_engine, MetaData, Table, Column\n",
    "\n",
    "# Tipos de datos\n",
    "from sqlalchemy import Integer, String, Float\n",
    "\n",
    "# Relaciones y restricciones\n",
    "from sqlalchemy import ForeignKey, UniqueConstraint"
   ]
  },
  {
   "cell_type": "markdown",
   "metadata": {},
   "source": [
    "## Creacion de la base de Datos (Modo Imperativo)"
   ]
  },
  {
   "cell_type": "code",
   "execution_count": 9,
   "metadata": {},
   "outputs": [],
   "source": [
    "# Crear motor y metadatos\n",
    "engine = create_engine('sqlite:///:memory:', echo=True)\n",
    "metadata = MetaData()"
   ]
  },
  {
   "cell_type": "markdown",
   "metadata": {},
   "source": [
    "Tabla de usuarios"
   ]
  },
  {
   "cell_type": "code",
   "execution_count": 10,
   "metadata": {},
   "outputs": [],
   "source": [
    "# Tabla Users\n",
    "users = Table(\n",
    "    'users', metadata,\n",
    "    Column('id', Integer, primary_key = True),\n",
    "    Column('name', String, nullable = False),\n",
    "    Column('email', String, nullable = False, unique = True)\n",
    ")"
   ]
  },
  {
   "cell_type": "markdown",
   "metadata": {},
   "source": [
    "- Usuarios con ID único, nombre y email.\n",
    "\n",
    "- email es único (unique=True), no puede repetirse."
   ]
  },
  {
   "cell_type": "code",
   "execution_count": 11,
   "metadata": {},
   "outputs": [],
   "source": [
    "# Tabla Products\n",
    "products = Table(\n",
    "    'products', metadata,\n",
    "    Column('id', Integer, primary_key=True),\n",
    "    Column('name', String, nullable=False),\n",
    "    Column('price', Float, nullable=False)\n",
    ")"
   ]
  },
  {
   "cell_type": "markdown",
   "metadata": {},
   "source": [
    "- Productos con ID, nombre y precio."
   ]
  },
  {
   "cell_type": "code",
   "execution_count": 13,
   "metadata": {},
   "outputs": [
    {
     "ename": "InvalidRequestError",
     "evalue": "Table 'orders' is already defined for this MetaData instance.  Specify 'extend_existing=True' to redefine options and columns on an existing Table object.",
     "output_type": "error",
     "traceback": [
      "\u001b[1;31m---------------------------------------------------------------------------\u001b[0m",
      "\u001b[1;31mInvalidRequestError\u001b[0m                       Traceback (most recent call last)",
      "Input \u001b[1;32mIn [13]\u001b[0m, in \u001b[0;36m<cell line: 2>\u001b[1;34m()\u001b[0m\n\u001b[0;32m      1\u001b[0m \u001b[38;5;66;03m# Tabla Orders\u001b[39;00m\n\u001b[1;32m----> 2\u001b[0m orders \u001b[38;5;241m=\u001b[39m \u001b[43mTable\u001b[49m\u001b[43m(\u001b[49m\n\u001b[0;32m      3\u001b[0m \u001b[43m    \u001b[49m\u001b[38;5;124;43m'\u001b[39;49m\u001b[38;5;124;43morders\u001b[39;49m\u001b[38;5;124;43m'\u001b[39;49m\u001b[43m,\u001b[49m\u001b[43m \u001b[49m\u001b[43mmetadata\u001b[49m\u001b[43m,\u001b[49m\n\u001b[0;32m      4\u001b[0m \u001b[43m    \u001b[49m\u001b[43mColumn\u001b[49m\u001b[43m(\u001b[49m\u001b[38;5;124;43m'\u001b[39;49m\u001b[38;5;124;43mid\u001b[39;49m\u001b[38;5;124;43m'\u001b[39;49m\u001b[43m,\u001b[49m\u001b[43m \u001b[49m\u001b[43mInteger\u001b[49m\u001b[43m,\u001b[49m\u001b[43m \u001b[49m\u001b[43mprimary_key\u001b[49m\u001b[38;5;241;43m=\u001b[39;49m\u001b[38;5;28;43;01mTrue\u001b[39;49;00m\u001b[43m)\u001b[49m\u001b[43m,\u001b[49m\n\u001b[0;32m      5\u001b[0m \u001b[43m    \u001b[49m\u001b[43mColumn\u001b[49m\u001b[43m(\u001b[49m\u001b[38;5;124;43m'\u001b[39;49m\u001b[38;5;124;43muser_id\u001b[39;49m\u001b[38;5;124;43m'\u001b[39;49m\u001b[43m,\u001b[49m\u001b[43m \u001b[49m\u001b[43mInteger\u001b[49m\u001b[43m,\u001b[49m\u001b[43m \u001b[49m\u001b[43mForeignKey\u001b[49m\u001b[43m(\u001b[49m\u001b[38;5;124;43m'\u001b[39;49m\u001b[38;5;124;43musers.id\u001b[39;49m\u001b[38;5;124;43m'\u001b[39;49m\u001b[43m)\u001b[49m\u001b[43m,\u001b[49m\u001b[43m \u001b[49m\u001b[43mnullable\u001b[49m\u001b[38;5;241;43m=\u001b[39;49m\u001b[38;5;28;43;01mFalse\u001b[39;49;00m\u001b[43m)\u001b[49m\n\u001b[0;32m      6\u001b[0m \u001b[43m)\u001b[49m\n",
      "File \u001b[1;32m<string>:2\u001b[0m, in \u001b[0;36m__new__\u001b[1;34m(cls, *args, **kw)\u001b[0m\n",
      "File \u001b[1;32m~\\AppData\\Roaming\\Python\\Python310\\site-packages\\sqlalchemy\\util\\deprecations.py:281\u001b[0m, in \u001b[0;36mdeprecated_params.<locals>.decorate.<locals>.warned\u001b[1;34m(fn, *args, **kwargs)\u001b[0m\n\u001b[0;32m    274\u001b[0m     \u001b[38;5;28;01mif\u001b[39;00m m \u001b[38;5;129;01min\u001b[39;00m kwargs:\n\u001b[0;32m    275\u001b[0m         _warn_with_version(\n\u001b[0;32m    276\u001b[0m             messages[m],\n\u001b[0;32m    277\u001b[0m             versions[m],\n\u001b[0;32m    278\u001b[0m             version_warnings[m],\n\u001b[0;32m    279\u001b[0m             stacklevel\u001b[38;5;241m=\u001b[39m\u001b[38;5;241m3\u001b[39m,\n\u001b[0;32m    280\u001b[0m         )\n\u001b[1;32m--> 281\u001b[0m \u001b[38;5;28;01mreturn\u001b[39;00m fn(\u001b[38;5;241m*\u001b[39margs, \u001b[38;5;241m*\u001b[39m\u001b[38;5;241m*\u001b[39mkwargs)\n",
      "File \u001b[1;32m~\\AppData\\Roaming\\Python\\Python310\\site-packages\\sqlalchemy\\sql\\schema.py:430\u001b[0m, in \u001b[0;36mTable.__new__\u001b[1;34m(cls, *args, **kw)\u001b[0m\n\u001b[0;32m    423\u001b[0m \u001b[38;5;129m@util\u001b[39m\u001b[38;5;241m.\u001b[39mdeprecated_params(\n\u001b[0;32m    424\u001b[0m     mustexist\u001b[38;5;241m=\u001b[39m(\n\u001b[0;32m    425\u001b[0m         \u001b[38;5;124m\"\u001b[39m\u001b[38;5;124m1.4\u001b[39m\u001b[38;5;124m\"\u001b[39m,\n\u001b[1;32m   (...)\u001b[0m\n\u001b[0;32m    428\u001b[0m )\n\u001b[0;32m    429\u001b[0m \u001b[38;5;28;01mdef\u001b[39;00m\u001b[38;5;250m \u001b[39m\u001b[38;5;21m__new__\u001b[39m(\u001b[38;5;28mcls\u001b[39m, \u001b[38;5;241m*\u001b[39margs: Any, \u001b[38;5;241m*\u001b[39m\u001b[38;5;241m*\u001b[39mkw: Any) \u001b[38;5;241m-\u001b[39m\u001b[38;5;241m>\u001b[39m Any:\n\u001b[1;32m--> 430\u001b[0m     \u001b[38;5;28;01mreturn\u001b[39;00m \u001b[38;5;28mcls\u001b[39m\u001b[38;5;241m.\u001b[39m_new(\u001b[38;5;241m*\u001b[39margs, \u001b[38;5;241m*\u001b[39m\u001b[38;5;241m*\u001b[39mkw)\n",
      "File \u001b[1;32m~\\AppData\\Roaming\\Python\\Python310\\site-packages\\sqlalchemy\\sql\\schema.py:462\u001b[0m, in \u001b[0;36mTable._new\u001b[1;34m(cls, *args, **kw)\u001b[0m\n\u001b[0;32m    460\u001b[0m \u001b[38;5;28;01mif\u001b[39;00m key \u001b[38;5;129;01min\u001b[39;00m metadata\u001b[38;5;241m.\u001b[39mtables:\n\u001b[0;32m    461\u001b[0m     \u001b[38;5;28;01mif\u001b[39;00m \u001b[38;5;129;01mnot\u001b[39;00m keep_existing \u001b[38;5;129;01mand\u001b[39;00m \u001b[38;5;129;01mnot\u001b[39;00m extend_existing \u001b[38;5;129;01mand\u001b[39;00m \u001b[38;5;28mbool\u001b[39m(args):\n\u001b[1;32m--> 462\u001b[0m         \u001b[38;5;28;01mraise\u001b[39;00m exc\u001b[38;5;241m.\u001b[39mInvalidRequestError(\n\u001b[0;32m    463\u001b[0m             \u001b[38;5;124mf\u001b[39m\u001b[38;5;124m\"\u001b[39m\u001b[38;5;124mTable \u001b[39m\u001b[38;5;124m'\u001b[39m\u001b[38;5;132;01m{\u001b[39;00mkey\u001b[38;5;132;01m}\u001b[39;00m\u001b[38;5;124m'\u001b[39m\u001b[38;5;124m is already defined for this MetaData \u001b[39m\u001b[38;5;124m\"\u001b[39m\n\u001b[0;32m    464\u001b[0m             \u001b[38;5;124m\"\u001b[39m\u001b[38;5;124minstance.  Specify \u001b[39m\u001b[38;5;124m'\u001b[39m\u001b[38;5;124mextend_existing=True\u001b[39m\u001b[38;5;124m'\u001b[39m\u001b[38;5;124m \u001b[39m\u001b[38;5;124m\"\u001b[39m\n\u001b[0;32m    465\u001b[0m             \u001b[38;5;124m\"\u001b[39m\u001b[38;5;124mto redefine \u001b[39m\u001b[38;5;124m\"\u001b[39m\n\u001b[0;32m    466\u001b[0m             \u001b[38;5;124m\"\u001b[39m\u001b[38;5;124moptions and columns on an \u001b[39m\u001b[38;5;124m\"\u001b[39m\n\u001b[0;32m    467\u001b[0m             \u001b[38;5;124m\"\u001b[39m\u001b[38;5;124mexisting Table object.\u001b[39m\u001b[38;5;124m\"\u001b[39m\n\u001b[0;32m    468\u001b[0m         )\n\u001b[0;32m    469\u001b[0m     table \u001b[38;5;241m=\u001b[39m metadata\u001b[38;5;241m.\u001b[39mtables[key]\n\u001b[0;32m    470\u001b[0m     \u001b[38;5;28;01mif\u001b[39;00m extend_existing:\n",
      "\u001b[1;31mInvalidRequestError\u001b[0m: Table 'orders' is already defined for this MetaData instance.  Specify 'extend_existing=True' to redefine options and columns on an existing Table object."
     ]
    }
   ],
   "source": [
    "# Tabla Orders\n",
    "orders = Table(\n",
    "    'orders', metadata,\n",
    "    Column('id', Integer, primary_key=True),\n",
    "    Column('user_id', Integer, ForeignKey('users.id'), nullable = False)\n",
    ")"
   ]
  },
  {
   "cell_type": "markdown",
   "metadata": {},
   "source": [
    "- Pedidos realizados por usuarios.\n",
    "\n",
    "  - user_id es clave foránea que apunta al ID de la tabla users."
   ]
  },
  {
   "cell_type": "code",
   "execution_count": 14,
   "metadata": {},
   "outputs": [],
   "source": [
    "# Tabla Order_items\n",
    "order_items = Table(\n",
    "    'order_items', metadata,\n",
    "    Column('id', Integer, primary_key=True),\n",
    "    Column('order_id', Integer, ForeignKey('orders.id'), nullable=False),\n",
    "    Column('product_id', Integer, ForeignKey('products.id'), nullable=False),\n",
    "    Column('quantity', Integer, nullable=False)\n",
    ")"
   ]
  },
  {
   "cell_type": "markdown",
   "metadata": {},
   "source": [
    "-- Detalle de productos dentro de un pedido.\n",
    "  - Cada fila representa un producto específico en un pedido dado.\n",
    "  - Tiene claves foráneas a orders.id y products.id."
   ]
  },
  {
   "cell_type": "code",
   "execution_count": 15,
   "metadata": {},
   "outputs": [
    {
     "name": "stdout",
     "output_type": "stream",
     "text": [
      "2025-05-19 20:02:32,854 INFO sqlalchemy.engine.Engine BEGIN (implicit)\n",
      "2025-05-19 20:02:32,856 INFO sqlalchemy.engine.Engine PRAGMA main.table_info(\"users\")\n",
      "2025-05-19 20:02:32,858 INFO sqlalchemy.engine.Engine [raw sql] ()\n",
      "2025-05-19 20:02:32,860 INFO sqlalchemy.engine.Engine PRAGMA temp.table_info(\"users\")\n",
      "2025-05-19 20:02:32,861 INFO sqlalchemy.engine.Engine [raw sql] ()\n",
      "2025-05-19 20:02:32,863 INFO sqlalchemy.engine.Engine PRAGMA main.table_info(\"products\")\n",
      "2025-05-19 20:02:32,869 INFO sqlalchemy.engine.Engine [raw sql] ()\n",
      "2025-05-19 20:02:32,871 INFO sqlalchemy.engine.Engine PRAGMA temp.table_info(\"products\")\n",
      "2025-05-19 20:02:32,873 INFO sqlalchemy.engine.Engine [raw sql] ()\n",
      "2025-05-19 20:02:32,875 INFO sqlalchemy.engine.Engine PRAGMA main.table_info(\"orders\")\n",
      "2025-05-19 20:02:32,879 INFO sqlalchemy.engine.Engine [raw sql] ()\n",
      "2025-05-19 20:02:32,881 INFO sqlalchemy.engine.Engine PRAGMA temp.table_info(\"orders\")\n",
      "2025-05-19 20:02:32,883 INFO sqlalchemy.engine.Engine [raw sql] ()\n",
      "2025-05-19 20:02:32,889 INFO sqlalchemy.engine.Engine PRAGMA main.table_info(\"order_items\")\n",
      "2025-05-19 20:02:32,892 INFO sqlalchemy.engine.Engine [raw sql] ()\n",
      "2025-05-19 20:02:32,894 INFO sqlalchemy.engine.Engine PRAGMA temp.table_info(\"order_items\")\n",
      "2025-05-19 20:02:32,895 INFO sqlalchemy.engine.Engine [raw sql] ()\n",
      "2025-05-19 20:02:32,900 INFO sqlalchemy.engine.Engine \n",
      "CREATE TABLE users (\n",
      "\tid INTEGER NOT NULL, \n",
      "\tname VARCHAR NOT NULL, \n",
      "\temail VARCHAR NOT NULL, \n",
      "\tPRIMARY KEY (id), \n",
      "\tUNIQUE (email)\n",
      ")\n",
      "\n",
      "\n",
      "2025-05-19 20:02:32,904 INFO sqlalchemy.engine.Engine [no key 0.00414s] ()\n",
      "2025-05-19 20:02:32,915 INFO sqlalchemy.engine.Engine \n",
      "CREATE TABLE products (\n",
      "\tid INTEGER NOT NULL, \n",
      "\tname VARCHAR NOT NULL, \n",
      "\tprice FLOAT NOT NULL, \n",
      "\tPRIMARY KEY (id)\n",
      ")\n",
      "\n",
      "\n",
      "2025-05-19 20:02:32,919 INFO sqlalchemy.engine.Engine [no key 0.00478s] ()\n",
      "2025-05-19 20:02:32,926 INFO sqlalchemy.engine.Engine \n",
      "CREATE TABLE orders (\n",
      "\tid INTEGER NOT NULL, \n",
      "\tuser_id INTEGER NOT NULL, \n",
      "\tPRIMARY KEY (id), \n",
      "\tFOREIGN KEY(user_id) REFERENCES users (id)\n",
      ")\n",
      "\n",
      "\n",
      "2025-05-19 20:02:32,930 INFO sqlalchemy.engine.Engine [no key 0.00348s] ()\n",
      "2025-05-19 20:02:32,943 INFO sqlalchemy.engine.Engine \n",
      "CREATE TABLE order_items (\n",
      "\tid INTEGER NOT NULL, \n",
      "\torder_id INTEGER NOT NULL, \n",
      "\tproduct_id INTEGER NOT NULL, \n",
      "\tquantity INTEGER NOT NULL, \n",
      "\tPRIMARY KEY (id), \n",
      "\tFOREIGN KEY(order_id) REFERENCES orders (id), \n",
      "\tFOREIGN KEY(product_id) REFERENCES products (id)\n",
      ")\n",
      "\n",
      "\n",
      "2025-05-19 20:02:32,950 INFO sqlalchemy.engine.Engine [no key 0.00662s] ()\n",
      "2025-05-19 20:02:32,959 INFO sqlalchemy.engine.Engine COMMIT\n"
     ]
    }
   ],
   "source": [
    "# Crear las tablas en la base de datos\n",
    "metadata.create_all(engine)"
   ]
  },
  {
   "cell_type": "markdown",
   "metadata": {},
   "source": [
    "- Se crean todas las tablas definidas en el objeto metadata en la base de datos conectada por engine.\n",
    "\n"
   ]
  },
  {
   "cell_type": "markdown",
   "metadata": {},
   "source": [
    "### En SQLAlchemy, UniqueConstraint se usa para asegurar que una o más columnas tengan valores únicos en combinación, a nivel de tabla."
   ]
  },
  {
   "cell_type": "markdown",
   "metadata": {},
   "source": [
    "- ¿Por qué usar UniqueConstraint?\n",
    "\n",
    "Cuando quieres garantizar que una columna o una combinación de columnas no se repita.\n",
    "\n",
    "A diferencia de unique=True (que se aplica a una sola columna), UniqueConstraint puede aplicarse a varias columnas al mismo tiempo.\n",
    "\n",
    "- Ejemplo simple (una columna):\n",
    "\n",
    "En la tabla users, cuando escribes:\n",
    "\n",
    "```python\n",
    "Column('email', String, unique=True)\n",
    "```\n",
    "\n",
    "Esto es equivalente a:\n",
    "\n",
    "```python\n",
    "UniqueConstraint('email', name='uix_email')\n",
    "```\n",
    "\n",
    "uix_email es simplemente el nombre que tú le das a la restricción de unicidad. Sirve para:\n",
    "\n",
    "- Identificar la restricción en la base de datos.\n",
    "- Poder referenciarla si más adelante quieres modificarla, eliminarla o capturar errores relacionados.\n",
    "- Darle un nombre legible y significativo.\n",
    "\n",
    "> ¿Por qué usar un nombre?\n",
    "\n",
    "> Cuando no le das un nombre, SQLAlchemy (o el motor SQL) genera uno automático, que puede ser poco claro, como sqlite_autoindex_users_1.\n",
    "> Dándole un nombre como uix_email, el significado es claro:\n",
    "\n",
    "- uix → convención común para \"unique index\" o \"unique constraint\"\n",
    "- email → columna afectada"
   ]
  },
  {
   "cell_type": "markdown",
   "metadata": {},
   "source": [
    "### Ejemplo con múltiples columnas:\n",
    "\n",
    "Supón que tienes una tabla de asistencia donde un usuario no puede registrar asistencia más de una vez por día:\n",
    "\n",
    "```python\n",
    "from sqlalchemy import Table, Column, Integer, Date, ForeignKey, UniqueConstraint\n",
    "\n",
    "attendance = Table(\n",
    "    'attendance', metadata,\n",
    "    Column('id', Integer, primary_key=True),\n",
    "    Column('user_id', Integer, ForeignKey('users.id')),\n",
    "    Column('date', Date),\n",
    "    UniqueConstraint('user_id', 'date', name='uix_user_date')\n",
    ")\n",
    "```\n",
    "\n",
    "Esto significa que no puede haber dos filas con el mismo user_id y date. Es útil para reglas de negocio más complejas.\n",
    "\n",
    "¿Cuándo usar unique=True vs UniqueConstraint?\n",
    "\n",
    "| Uso                                           | Mejor opción            |\n",
    "| --------------------------------------------- | ----------------------- |\n",
    "| Una sola columna debe ser única               | `unique=True`           |\n",
    "| Combinación de varias columnas debe ser única | `UniqueConstraint(...)` |\n"
   ]
  },
  {
   "cell_type": "markdown",
   "metadata": {},
   "source": [
    "## Consideraciones de Seguridad"
   ]
  },
  {
   "cell_type": "markdown",
   "metadata": {},
   "source": [
    "## ¿Cuáles son las cosas a tener en cuenta al implementar la operación de creación de una base de datos?\n",
    "\n",
    "\n",
    "ChatGPT dijo:\n",
    "Buena pregunta. Al implementar la creación de una base de datos (como cuando usás SQLAlchemy con metadata.create_all(engine)), hay varios aspectos clave que deberías tener en cuenta para evitar errores y asegurarte de que la base sea robusta y útil desde el inicio."
   ]
  },
  {
   "cell_type": "markdown",
   "metadata": {},
   "source": [
    "✅ 1. Definir bien el esquema desde el principio\n",
    "Asegurate de que cada tabla tenga una clave primaria (primary_key).\n",
    "\n",
    "Usá tipos de datos apropiados (String, Integer, Float, etc.).\n",
    "\n",
    "Definí bien las relaciones con ForeignKey si hay referencias entre tablas."
   ]
  },
  {
   "cell_type": "markdown",
   "metadata": {},
   "source": [
    "✅ 2. Restricciones\n",
    "unique=True o UniqueConstraint() para evitar duplicados.\n",
    "\n",
    "nullable=False en columnas obligatorias.\n",
    "\n",
    "CheckConstraint si necesitás validar rangos (por ejemplo, price > 0)."
   ]
  },
  {
   "cell_type": "markdown",
   "metadata": {},
   "source": [
    "✅ 3. Nombre de las tablas y columnas\n",
    "Usá nombres consistentes, en minúsculas y con guiones bajos (snake_case).\n",
    "\n",
    "Evitá palabras reservadas de SQL como order, select, etc."
   ]
  },
  {
   "cell_type": "markdown",
   "metadata": {},
   "source": [
    "✅ 4. Manejo de errores\n",
    "Asegurate de que si la base ya existe, no se sobreescriba sin querer.\n",
    "\n",
    "Capturá errores si usás create_all() varias veces para evitar problemas con restricciones duplicadas."
   ]
  },
  {
   "cell_type": "markdown",
   "metadata": {},
   "source": [
    "✅ 5. Persistencia y motor\n",
    "Asegurate de que create_engine() apunte al archivo o base correcta (SQLite, PostgreSQL, etc.).\n",
    "\n",
    "Para SQLite: asegurate de que el archivo tenga permisos de escritura si se va a modificar."
   ]
  },
  {
   "cell_type": "markdown",
   "metadata": {},
   "source": [
    "✅ 6. Versión de la base de datos y migraciones\n",
    "SQLAlchemy no borra ni modifica automáticamente tablas existentes. Si el esquema cambia, vas a necesitar una herramienta como Alembic para hacer migraciones controladas."
   ]
  },
  {
   "cell_type": "markdown",
   "metadata": {},
   "source": [
    "_\n",
    "✅ 7. Pruebas iniciales\n",
    "Después de crear las tablas, es buena práctica probar inserciones básicas para verificar que las restricciones funcionen como esperás."
   ]
  },
  {
   "cell_type": "markdown",
   "metadata": {},
   "source": [
    "✅ 8. Documentación del esquema\n",
    "Mantené una descripción clara de qué representa cada tabla y campo.\n",
    "\n",
    "Esto ayuda a otros desarrolladores o a vos mismo en el futuro."
   ]
  },
  {
   "cell_type": "markdown",
   "metadata": {},
   "source": [
    "## 🧩 Checklist en Código – SQLAlchemy + SQLite (Modo Imperativo)"
   ]
  },
  {
   "cell_type": "code",
   "execution_count": 16,
   "metadata": {},
   "outputs": [],
   "source": [
    "from sqlalchemy import (\n",
    "    create_engine, MetaData, Table, Column,\n",
    "    Integer, String, Float, ForeignKey, UniqueConstraint, inspect\n",
    ")\n",
    "import os"
   ]
  },
  {
   "cell_type": "code",
   "execution_count": 17,
   "metadata": {},
   "outputs": [
    {
     "name": "stdout",
     "output_type": "stream",
     "text": [
      "✅ Se va a crear la base: prueba.db\n"
     ]
    }
   ],
   "source": [
    "# 1. Crear motor: asegurate de no sobrescribir accidentalmente\n",
    "db_path = 'prueba.db'\n",
    "if os.path.exists(db_path):\n",
    "    print(f\"⚠️ Ya existe la base de datos: {db_path}\")\n",
    "else:\n",
    "    print(f\"✅ Se va a crear la base: {db_path}\")"
   ]
  },
  {
   "cell_type": "code",
   "execution_count": 18,
   "metadata": {},
   "outputs": [],
   "source": [
    "engine = create_engine(f'sqlite:///{db_path}', echo=True )\n",
    "metadata = MetaData()"
   ]
  },
  {
   "cell_type": "code",
   "execution_count": 19,
   "metadata": {},
   "outputs": [],
   "source": [
    "# 2. Definir esquema: con claves primarias y restricciones\n",
    "users = Table(\n",
    "    'users', metadata,\n",
    "    Column('id', Integer, primary_key=True),\n",
    "    Column('name', String, nullable=False),\n",
    "    Column('email', String, nullable=False),\n",
    "    UniqueConstraint('email', name='uix_email')\n",
    ")\n",
    "\n",
    "products = Table(\n",
    "    'products', metadata,\n",
    "    Column('id', Integer, primary_key=True),\n",
    "    Column('name', String, nullable=False),\n",
    "    Column('price', Float, nullable=False)\n",
    ")\n",
    "\n",
    "orders = Table(\n",
    "    'orders', metadata,\n",
    "    Column('id', Integer, primary_key=True),\n",
    "    Column('user_id', Integer, ForeignKey('users.id'), nullable=False)\n",
    ")\n",
    "\n",
    "order_items = Table(\n",
    "    'order_items', metadata,\n",
    "    Column('id', Integer, primary_key=True),\n",
    "    Column('order_id', Integer, ForeignKey('orders.id'), nullable=False),\n",
    "    Column('product_id', Integer, ForeignKey('products.id'), nullable=False),\n",
    "    Column('quantity', Integer, nullable=False)\n",
    ")"
   ]
  },
  {
   "cell_type": "code",
   "execution_count": 20,
   "metadata": {},
   "outputs": [
    {
     "name": "stdout",
     "output_type": "stream",
     "text": [
      "2025-05-19 20:14:34,906 INFO sqlalchemy.engine.Engine BEGIN (implicit)\n",
      "2025-05-19 20:14:34,909 INFO sqlalchemy.engine.Engine PRAGMA main.table_info(\"users\")\n",
      "2025-05-19 20:14:34,911 INFO sqlalchemy.engine.Engine [raw sql] ()\n",
      "2025-05-19 20:14:34,915 INFO sqlalchemy.engine.Engine PRAGMA temp.table_info(\"users\")\n",
      "2025-05-19 20:14:34,916 INFO sqlalchemy.engine.Engine [raw sql] ()\n",
      "2025-05-19 20:14:34,920 INFO sqlalchemy.engine.Engine PRAGMA main.table_info(\"products\")\n",
      "2025-05-19 20:14:34,922 INFO sqlalchemy.engine.Engine [raw sql] ()\n",
      "2025-05-19 20:14:34,925 INFO sqlalchemy.engine.Engine PRAGMA temp.table_info(\"products\")\n",
      "2025-05-19 20:14:34,927 INFO sqlalchemy.engine.Engine [raw sql] ()\n",
      "2025-05-19 20:14:34,929 INFO sqlalchemy.engine.Engine PRAGMA main.table_info(\"orders\")\n",
      "2025-05-19 20:14:34,933 INFO sqlalchemy.engine.Engine [raw sql] ()\n",
      "2025-05-19 20:14:34,936 INFO sqlalchemy.engine.Engine PRAGMA temp.table_info(\"orders\")\n",
      "2025-05-19 20:14:34,938 INFO sqlalchemy.engine.Engine [raw sql] ()\n",
      "2025-05-19 20:14:34,940 INFO sqlalchemy.engine.Engine PRAGMA main.table_info(\"order_items\")\n",
      "2025-05-19 20:14:34,942 INFO sqlalchemy.engine.Engine [raw sql] ()\n",
      "2025-05-19 20:14:34,943 INFO sqlalchemy.engine.Engine PRAGMA temp.table_info(\"order_items\")\n",
      "2025-05-19 20:14:34,944 INFO sqlalchemy.engine.Engine [raw sql] ()\n",
      "2025-05-19 20:14:34,948 INFO sqlalchemy.engine.Engine \n",
      "CREATE TABLE users (\n",
      "\tid INTEGER NOT NULL, \n",
      "\tname VARCHAR NOT NULL, \n",
      "\temail VARCHAR NOT NULL, \n",
      "\tPRIMARY KEY (id), \n",
      "\tCONSTRAINT uix_email UNIQUE (email)\n",
      ")\n",
      "\n",
      "\n",
      "2025-05-19 20:14:34,950 INFO sqlalchemy.engine.Engine [no key 0.00160s] ()\n",
      "2025-05-19 20:14:34,956 INFO sqlalchemy.engine.Engine \n",
      "CREATE TABLE products (\n",
      "\tid INTEGER NOT NULL, \n",
      "\tname VARCHAR NOT NULL, \n",
      "\tprice FLOAT NOT NULL, \n",
      "\tPRIMARY KEY (id)\n",
      ")\n",
      "\n",
      "\n",
      "2025-05-19 20:14:34,958 INFO sqlalchemy.engine.Engine [no key 0.00161s] ()\n",
      "2025-05-19 20:14:34,967 INFO sqlalchemy.engine.Engine \n",
      "CREATE TABLE orders (\n",
      "\tid INTEGER NOT NULL, \n",
      "\tuser_id INTEGER NOT NULL, \n",
      "\tPRIMARY KEY (id), \n",
      "\tFOREIGN KEY(user_id) REFERENCES users (id)\n",
      ")\n",
      "\n",
      "\n",
      "2025-05-19 20:14:34,969 INFO sqlalchemy.engine.Engine [no key 0.00171s] ()\n",
      "2025-05-19 20:14:34,975 INFO sqlalchemy.engine.Engine \n",
      "CREATE TABLE order_items (\n",
      "\tid INTEGER NOT NULL, \n",
      "\torder_id INTEGER NOT NULL, \n",
      "\tproduct_id INTEGER NOT NULL, \n",
      "\tquantity INTEGER NOT NULL, \n",
      "\tPRIMARY KEY (id), \n",
      "\tFOREIGN KEY(order_id) REFERENCES orders (id), \n",
      "\tFOREIGN KEY(product_id) REFERENCES products (id)\n",
      ")\n",
      "\n",
      "\n",
      "2025-05-19 20:14:34,977 INFO sqlalchemy.engine.Engine [no key 0.00194s] ()\n",
      "2025-05-19 20:14:34,985 INFO sqlalchemy.engine.Engine COMMIT\n"
     ]
    }
   ],
   "source": [
    "# 3. Crear tablas (si no existen)\n",
    "metadata.create_all(engine)"
   ]
  },
  {
   "cell_type": "code",
   "execution_count": 21,
   "metadata": {},
   "outputs": [
    {
     "name": "stdout",
     "output_type": "stream",
     "text": [
      "2025-05-19 20:15:28,864 INFO sqlalchemy.engine.Engine BEGIN (implicit)\n",
      "2025-05-19 20:15:28,868 INFO sqlalchemy.engine.Engine SELECT name FROM sqlite_master WHERE type='table' AND name NOT LIKE 'sqlite~_%' ESCAPE '~' ORDER BY name\n",
      "2025-05-19 20:15:28,873 INFO sqlalchemy.engine.Engine [raw sql] ()\n",
      "2025-05-19 20:15:28,885 INFO sqlalchemy.engine.Engine ROLLBACK\n",
      "\n",
      "📋 Tablas creadas:\n",
      " - order_items\n",
      " - orders\n",
      " - products\n",
      " - users\n"
     ]
    }
   ],
   "source": [
    "# 4. Verificar las tablas creadas (inspector)\n",
    "inspector = inspect(engine)\n",
    "created_tables = inspector.get_table_names()\n",
    "print(\"\\n📋 Tablas creadas:\")\n",
    "for t in created_tables:\n",
    "    print(f\" - {t}\")"
   ]
  },
  {
   "cell_type": "code",
   "execution_count": 23,
   "metadata": {},
   "outputs": [
    {
     "name": "stdout",
     "output_type": "stream",
     "text": [
      "\n",
      "🔍 Revisión de restricciones:\n",
      "→ order_items:\n",
      "   - Primary Key: ['id']\n",
      "   - Sin restricciones únicas\n",
      "→ orders:\n",
      "   - Primary Key: ['id']\n",
      "   - Sin restricciones únicas\n",
      "→ products:\n",
      "   - Primary Key: ['id']\n",
      "   - Sin restricciones únicas\n",
      "→ users:\n",
      "   - Primary Key: ['id']\n",
      "   - Unique: ['email'] (nombre: uix_email)\n"
     ]
    }
   ],
   "source": [
    "# 5. Verificar claves primarias y restricciones únicas\n",
    "print(\"\\n🔍 Revisión de restricciones:\")\n",
    "for table_name in created_tables:\n",
    "    pk = inspector.get_pk_constraint(table_name)\n",
    "    uniques = inspector.get_unique_constraints(table_name)\n",
    "    print(f\"→ {table_name}:\")\n",
    "    print(f\"   - Primary Key: {pk['constrained_columns']}\")\n",
    "    if uniques:\n",
    "        for uc in uniques:\n",
    "            print(f\"   - Unique: {uc['column_names']} (nombre: {uc['name']})\")\n",
    "    else:\n",
    "        print(\"   - Sin restricciones únicas\")"
   ]
  },
  {
   "cell_type": "markdown",
   "metadata": {},
   "source": [
    "#### ✅ Este script hace:\n",
    "\n",
    "- Verifica si el archivo de base existe antes de crear.\n",
    "- Define el esquema completo con claves primarias y restricciones.\n",
    "- Crea las tablas (sin duplicar si ya existen).\n",
    "- Usa inspect() para revisar qué se creó realmente.\n",
    "- Imprime claves primarias y restricciones únicas por tabla."
   ]
  },
  {
   "cell_type": "markdown",
   "metadata": {},
   "source": [
    "### Creacion de un Nuevo Usuario en modo declarativo"
   ]
  },
  {
   "cell_type": "code",
   "execution_count": 24,
   "metadata": {},
   "outputs": [],
   "source": [
    "from sqlalchemy import insert\n",
    "from sqlalchemy.exc import IntegrityError"
   ]
  },
  {
   "cell_type": "code",
   "execution_count": 25,
   "metadata": {},
   "outputs": [],
   "source": [
    "def crear_usuario(nombre: str, email: str) -> None:\n",
    "    \"\"\"\n",
    "    Inserta un nuevo usuario en la tabla `users`.\n",
    "    Lanza una excepción si el email ya existe o hay otro problema.\n",
    "    \"\"\"\n",
    "    stmt = insert(users).values(name=nombre, email=email)\n",
    "\n",
    "    # `engine.begin()` abre una transacción y hace commit automático si todo va bien\n",
    "    try:\n",
    "        with engine.begin() as conn:\n",
    "            conn.execute(stmt)\n",
    "        print(f\"✅ Usuario '{nombre}' agregado.\")\n",
    "    except IntegrityError:\n",
    "        print(\"Ese email ya está registrado.\")\n",
    "    except Exception as exc:\n",
    "        print(f\"❌ No se pudo agregar el usuario: {exc}\")"
   ]
  },
  {
   "cell_type": "code",
   "execution_count": 26,
   "metadata": {},
   "outputs": [
    {
     "name": "stdout",
     "output_type": "stream",
     "text": [
      "2025-05-19 20:22:43,756 INFO sqlalchemy.engine.Engine BEGIN (implicit)\n",
      "2025-05-19 20:22:43,768 INFO sqlalchemy.engine.Engine INSERT INTO users (name, email) VALUES (?, ?)\n",
      "2025-05-19 20:22:43,769 INFO sqlalchemy.engine.Engine [generated in 0.00198s] ('María López', 'maria@example.com')\n",
      "2025-05-19 20:22:43,773 INFO sqlalchemy.engine.Engine COMMIT\n",
      "✅ Usuario 'María López' agregado.\n"
     ]
    }
   ],
   "source": [
    "# Ejemplo de uso\n",
    "crear_usuario(\"María López\", \"maria@example.com\")"
   ]
  },
  {
   "cell_type": "code",
   "execution_count": 27,
   "metadata": {},
   "outputs": [
    {
     "name": "stdout",
     "output_type": "stream",
     "text": [
      "2025-05-19 20:23:20,880 INFO sqlalchemy.engine.Engine BEGIN (implicit)\n",
      "2025-05-19 20:23:20,883 INFO sqlalchemy.engine.Engine INSERT INTO users (name, email) VALUES (?, ?)\n",
      "2025-05-19 20:23:20,892 INFO sqlalchemy.engine.Engine [cached since 37.13s ago] ('Pedro Gómez', 'pedro@example.com')\n",
      "2025-05-19 20:23:20,899 INFO sqlalchemy.engine.Engine COMMIT\n",
      "✅ Usuario 'Pedro Gómez' agregado.\n"
     ]
    }
   ],
   "source": [
    "crear_usuario(\"Pedro Gómez\", \"pedro@example.com\")"
   ]
  },
  {
   "cell_type": "code",
   "execution_count": 28,
   "metadata": {},
   "outputs": [
    {
     "name": "stdout",
     "output_type": "stream",
     "text": [
      "2025-05-19 20:23:38,464 INFO sqlalchemy.engine.Engine BEGIN (implicit)\n",
      "2025-05-19 20:23:38,469 INFO sqlalchemy.engine.Engine INSERT INTO users (name, email) VALUES (?, ?)\n",
      "2025-05-19 20:23:38,472 INFO sqlalchemy.engine.Engine [cached since 54.7s ago] ('Alguien', 'maria@example.com')\n",
      "2025-05-19 20:23:38,478 INFO sqlalchemy.engine.Engine ROLLBACK\n",
      "Ese email ya está registrado.\n"
     ]
    }
   ],
   "source": [
    "# Duplicado → disparará IntegrityError por la restricción única\n",
    "crear_usuario(\"Alguien\", \"maria@example.com\")"
   ]
  },
  {
   "cell_type": "code",
   "execution_count": 29,
   "metadata": {},
   "outputs": [
    {
     "name": "stdout",
     "output_type": "stream",
     "text": [
      "2025-05-19 20:24:38,595 INFO sqlalchemy.engine.Engine BEGIN (implicit)\n",
      "2025-05-19 20:24:38,598 INFO sqlalchemy.engine.Engine INSERT INTO users (name, email) VALUES (?, ?)\n",
      "2025-05-19 20:24:38,600 INFO sqlalchemy.engine.Engine [cached since 114.8s ago] ('emi', 'noes_unmail')\n",
      "2025-05-19 20:24:38,606 INFO sqlalchemy.engine.Engine COMMIT\n",
      "✅ Usuario 'emi' agregado.\n"
     ]
    }
   ],
   "source": [
    "crear_usuario(\"emi\",\"noes_unmail\")"
   ]
  },
  {
   "cell_type": "markdown",
   "metadata": {},
   "source": [
    "Funcion con Validacion de email"
   ]
  },
  {
   "cell_type": "code",
   "execution_count": 30,
   "metadata": {},
   "outputs": [],
   "source": [
    "import re\n",
    "from sqlalchemy import insert\n",
    "from sqlalchemy.exc import IntegrityError\n",
    "\n",
    "EMAIL_REGEX = r'^[\\w\\.-]+@[\\w\\.-]+\\.\\w+$'\n",
    "\n",
    "def crear_usuario(nombre: str, email: str):\n",
    "    def es_email_valido(email: str) -> bool:\n",
    "        return re.match(EMAIL_REGEX, email) is not None\n",
    "\n",
    "    if not es_email_valido(email):\n",
    "        # print(f\"❌ Email inválido: '{email}'\")\n",
    "        raise ValueError (f\"❌ Email inválido: '{email}'\")\n",
    "\n",
    "    stmt = insert(users).values(name=nombre, email=email)\n",
    "\n",
    "    try:\n",
    "        with engine.begin() as conn:\n",
    "            conn.execute(stmt)\n",
    "        print(f\"✅ Usuario '{nombre}' agregado.\")\n",
    "    except IntegrityError:\n",
    "        print(\"❌ Ese email ya está registrado.\")\n",
    "    except Exception as exc:\n",
    "        print(f\"❌ Error inesperado: {exc}\")"
   ]
  },
  {
   "cell_type": "code",
   "execution_count": 31,
   "metadata": {},
   "outputs": [
    {
     "ename": "ValueError",
     "evalue": "❌ Email inválido: 'noes_unmail'",
     "output_type": "error",
     "traceback": [
      "\u001b[1;31m---------------------------------------------------------------------------\u001b[0m",
      "\u001b[1;31mValueError\u001b[0m                                Traceback (most recent call last)",
      "Input \u001b[1;32mIn [31]\u001b[0m, in \u001b[0;36m<cell line: 1>\u001b[1;34m()\u001b[0m\n\u001b[1;32m----> 1\u001b[0m \u001b[43mcrear_usuario\u001b[49m\u001b[43m(\u001b[49m\u001b[38;5;124;43m\"\u001b[39;49m\u001b[38;5;124;43memi\u001b[39;49m\u001b[38;5;124;43m\"\u001b[39;49m\u001b[43m,\u001b[49m\u001b[38;5;124;43m\"\u001b[39;49m\u001b[38;5;124;43mnoes_unmail\u001b[39;49m\u001b[38;5;124;43m\"\u001b[39;49m\u001b[43m)\u001b[49m\n",
      "Input \u001b[1;32mIn [30]\u001b[0m, in \u001b[0;36mcrear_usuario\u001b[1;34m(nombre, email)\u001b[0m\n\u001b[0;32m      9\u001b[0m     \u001b[38;5;28;01mreturn\u001b[39;00m re\u001b[38;5;241m.\u001b[39mmatch(EMAIL_REGEX, email) \u001b[38;5;129;01mis\u001b[39;00m \u001b[38;5;129;01mnot\u001b[39;00m \u001b[38;5;28;01mNone\u001b[39;00m\n\u001b[0;32m     11\u001b[0m \u001b[38;5;28;01mif\u001b[39;00m \u001b[38;5;129;01mnot\u001b[39;00m es_email_valido(email):\n\u001b[0;32m     12\u001b[0m     \u001b[38;5;66;03m# print(f\"❌ Email inválido: '{email}'\")\u001b[39;00m\n\u001b[1;32m---> 13\u001b[0m     \u001b[38;5;28;01mraise\u001b[39;00m \u001b[38;5;167;01mValueError\u001b[39;00m (\u001b[38;5;124mf\u001b[39m\u001b[38;5;124m\"\u001b[39m\u001b[38;5;124m❌ Email inválido: \u001b[39m\u001b[38;5;124m'\u001b[39m\u001b[38;5;132;01m{\u001b[39;00memail\u001b[38;5;132;01m}\u001b[39;00m\u001b[38;5;124m'\u001b[39m\u001b[38;5;124m\"\u001b[39m)\n\u001b[0;32m     15\u001b[0m stmt \u001b[38;5;241m=\u001b[39m insert(users)\u001b[38;5;241m.\u001b[39mvalues(name\u001b[38;5;241m=\u001b[39mnombre, email\u001b[38;5;241m=\u001b[39memail)\n\u001b[0;32m     17\u001b[0m \u001b[38;5;28;01mtry\u001b[39;00m:\n",
      "\u001b[1;31mValueError\u001b[0m: ❌ Email inválido: 'noes_unmail'"
     ]
    }
   ],
   "source": [
    "crear_usuario(\"emi\",\"noes_unmail\")"
   ]
  },
  {
   "cell_type": "markdown",
   "metadata": {},
   "source": [
    "- Opción 2: Usar una librería como email-validator (más robusta)\n",
    "```bash\n",
    "pip install email-validator\n",
    "```\n",
    "\n",
    "Y luego:\n",
    "\n",
    "```python\n",
    "from email_validator import validate_email, EmailNotValidError\n",
    "\n",
    "def es_email_valido(email: str) -> bool:\n",
    "    try:\n",
    "        validate_email(email)\n",
    "        return True\n",
    "    except EmailNotValidError:\n",
    "        return False\n",
    "```\n",
    "Esto te protege mejor contra emails con formatos incorrectos, dominios inválidos, etc.\n",
    "\n",
    "Resumen\n",
    "Usa regex si solo te interesa una validación básica (más rápida y sin dependencias).\n",
    "\n",
    "Usa email-validator si necesitas una validación más completa y robusta.\n",
    "\n",
    "¿Quieres que también rechace correos con dominios específicos (como temporales) o que sea sensible a mayúsculas, etc.? Puedo ayudarte a extender la validación si lo necesitas."
   ]
  },
  {
   "cell_type": "code",
   "execution_count": null,
   "metadata": {},
   "outputs": [],
   "source": []
  },
  {
   "cell_type": "markdown",
   "metadata": {},
   "source": [
    "Funcion para leer todos los usuarios"
   ]
  },
  {
   "cell_type": "code",
   "execution_count": 32,
   "metadata": {},
   "outputs": [],
   "source": [
    "from sqlalchemy import select"
   ]
  },
  {
   "cell_type": "code",
   "execution_count": 35,
   "metadata": {},
   "outputs": [],
   "source": [
    "# Función para leer todos los usuarios\n",
    "def leer_todos_los_usuarios(table=False):\n",
    "    with engine.connect() as conn:\n",
    "        stmt = select(users)\n",
    "        result = conn.execute(stmt)\n",
    "        if table:\n",
    "            return [dict(row) for row in result.mappings()] # devuelve la columna\n",
    "        return [row for row in result] # solo los datos"
   ]
  },
  {
   "cell_type": "code",
   "execution_count": 36,
   "metadata": {},
   "outputs": [
    {
     "name": "stdout",
     "output_type": "stream",
     "text": [
      "2025-05-19 20:31:41,608 INFO sqlalchemy.engine.Engine BEGIN (implicit)\n",
      "2025-05-19 20:31:41,613 INFO sqlalchemy.engine.Engine SELECT users.id, users.name, users.email \n",
      "FROM users\n",
      "2025-05-19 20:31:41,615 INFO sqlalchemy.engine.Engine [cached since 76.71s ago] ()\n",
      "2025-05-19 20:31:41,623 INFO sqlalchemy.engine.Engine ROLLBACK\n",
      "(1, 'María López', 'maria@example.com')\n",
      "(2, 'Pedro Gómez', 'pedro@example.com')\n",
      "(3, 'emi', 'noes_unmail')\n"
     ]
    }
   ],
   "source": [
    "# Ejemplo de uso\n",
    "usuarios = leer_todos_los_usuarios()\n",
    "for usuario in usuarios:\n",
    "    print(usuario)"
   ]
  },
  {
   "cell_type": "markdown",
   "metadata": {},
   "source": [
    "✅ Funcion para eliminar un usuario por cualquier campo"
   ]
  },
  {
   "cell_type": "code",
   "execution_count": 37,
   "metadata": {},
   "outputs": [
    {
     "name": "stdout",
     "output_type": "stream",
     "text": [
      "2025-05-19 20:32:26,429 INFO sqlalchemy.engine.Engine BEGIN (implicit)\n",
      "2025-05-19 20:32:26,435 INFO sqlalchemy.engine.Engine SELECT users.id, users.name, users.email \n",
      "FROM users\n",
      "2025-05-19 20:32:26,442 INFO sqlalchemy.engine.Engine [cached since 121.5s ago] ()\n",
      "2025-05-19 20:32:26,445 INFO sqlalchemy.engine.Engine ROLLBACK\n",
      "{'id': 1, 'name': 'María López', 'email': 'maria@example.com'}\n",
      "{'id': 2, 'name': 'Pedro Gómez', 'email': 'pedro@example.com'}\n",
      "{'id': 3, 'name': 'emi', 'email': 'noes_unmail'}\n"
     ]
    }
   ],
   "source": [
    "usuarios = leer_todos_los_usuarios(True)\n",
    "for usuario in usuarios:\n",
    "    print(usuario)"
   ]
  },
  {
   "cell_type": "code",
   "execution_count": 38,
   "metadata": {},
   "outputs": [],
   "source": [
    "from sqlalchemy import delete"
   ]
  },
  {
   "cell_type": "code",
   "execution_count": 39,
   "metadata": {},
   "outputs": [],
   "source": [
    "def eliminar_usuario_por(**filtros):\n",
    "    \"\"\"\n",
    "    Elimina un usuario por uno o más filtros: id=1, name='Juan', email='a@b.com'\n",
    "    Retorna la cantidad de filas eliminadas.\n",
    "    \"\"\"\n",
    "    with engine.connect() as conn:\n",
    "        condiciones = [getattr(users.c, campo) == valor for campo, valor in filtros.items()]\n",
    "        stmt = delete(users).where(*condiciones)\n",
    "        result = conn.execute(stmt)\n",
    "        conn.commit()\n",
    "        return result.rowcount"
   ]
  },
  {
   "cell_type": "code",
   "execution_count": 40,
   "metadata": {},
   "outputs": [
    {
     "name": "stdout",
     "output_type": "stream",
     "text": [
      "2025-05-19 20:36:32,792 INFO sqlalchemy.engine.Engine BEGIN (implicit)\n",
      "2025-05-19 20:36:32,800 INFO sqlalchemy.engine.Engine DELETE FROM users WHERE users.name = ?\n",
      "2025-05-19 20:36:32,813 INFO sqlalchemy.engine.Engine [generated in 0.02086s] ('emi',)\n",
      "2025-05-19 20:36:32,831 INFO sqlalchemy.engine.Engine COMMIT\n"
     ]
    },
    {
     "data": {
      "text/plain": [
       "1"
      ]
     },
     "execution_count": 40,
     "metadata": {},
     "output_type": "execute_result"
    }
   ],
   "source": [
    "eliminar_usuario_por(name=\"emi\")"
   ]
  },
  {
   "cell_type": "code",
   "execution_count": 41,
   "metadata": {},
   "outputs": [
    {
     "name": "stdout",
     "output_type": "stream",
     "text": [
      "2025-05-19 20:36:56,586 INFO sqlalchemy.engine.Engine BEGIN (implicit)\n",
      "2025-05-19 20:36:56,589 INFO sqlalchemy.engine.Engine SELECT users.id, users.name, users.email \n",
      "FROM users\n",
      "2025-05-19 20:36:56,593 INFO sqlalchemy.engine.Engine [cached since 391.7s ago] ()\n",
      "2025-05-19 20:36:56,599 INFO sqlalchemy.engine.Engine ROLLBACK\n",
      "(1, 'María López', 'maria@example.com')\n",
      "(2, 'Pedro Gómez', 'pedro@example.com')\n"
     ]
    }
   ],
   "source": [
    "usuarios = leer_todos_los_usuarios()\n",
    "for usuario in usuarios:\n",
    "    print(usuario)"
   ]
  },
  {
   "cell_type": "markdown",
   "metadata": {},
   "source": [
    "✅ Función genérica para actualizar usuario:"
   ]
  },
  {
   "cell_type": "code",
   "execution_count": 44,
   "metadata": {},
   "outputs": [],
   "source": [
    "from sqlalchemy import update"
   ]
  },
  {
   "cell_type": "code",
   "execution_count": 45,
   "metadata": {},
   "outputs": [],
   "source": [
    "def actualizar_usuario_por(filtros, nuevos_datos):\n",
    "    \"\"\"\n",
    "    filtros: dict para ubicar el usuario (por id, name, email, etc.)\n",
    "    nuevos_datos: dict con las columnas a actualizar\n",
    "    \"\"\"\n",
    "    with engine.connect() as conn:\n",
    "        condiciones = [getattr(users.c, campo) == valor for campo, valor in filtros.items()]\n",
    "        stmt = update(users).where(*condiciones).values(**nuevos_datos)\n",
    "        result = conn.execute(stmt)\n",
    "        conn.commit()\n",
    "        return result.rowcount"
   ]
  },
  {
   "cell_type": "code",
   "execution_count": 46,
   "metadata": {},
   "outputs": [
    {
     "name": "stdout",
     "output_type": "stream",
     "text": [
      "2025-05-19 20:38:04,542 INFO sqlalchemy.engine.Engine BEGIN (implicit)\n",
      "2025-05-19 20:38:04,546 INFO sqlalchemy.engine.Engine UPDATE users SET name=? WHERE users.name = ?\n",
      "2025-05-19 20:38:04,547 INFO sqlalchemy.engine.Engine [generated in 0.00517s] ('Maria Belen López', 'María López')\n",
      "2025-05-19 20:38:04,552 INFO sqlalchemy.engine.Engine COMMIT\n"
     ]
    },
    {
     "data": {
      "text/plain": [
       "1"
      ]
     },
     "execution_count": 46,
     "metadata": {},
     "output_type": "execute_result"
    }
   ],
   "source": [
    "actualizar_usuario_por({\"name\":\"María López\"}, {\"name\":\"Maria Belen López\"})"
   ]
  },
  {
   "cell_type": "code",
   "execution_count": 47,
   "metadata": {},
   "outputs": [
    {
     "name": "stdout",
     "output_type": "stream",
     "text": [
      "2025-05-19 20:38:38,014 INFO sqlalchemy.engine.Engine BEGIN (implicit)\n",
      "2025-05-19 20:38:38,015 INFO sqlalchemy.engine.Engine SELECT users.id, users.name, users.email \n",
      "FROM users\n",
      "2025-05-19 20:38:38,020 INFO sqlalchemy.engine.Engine [cached since 493.1s ago] ()\n",
      "2025-05-19 20:38:38,024 INFO sqlalchemy.engine.Engine ROLLBACK\n",
      "(1, 'Maria Belen López', 'maria@example.com')\n",
      "(2, 'Pedro Gómez', 'pedro@example.com')\n"
     ]
    }
   ],
   "source": [
    "usuarios = leer_todos_los_usuarios()\n",
    "for usuario in usuarios:\n",
    "    print(usuario)"
   ]
  },
  {
   "cell_type": "markdown",
   "metadata": {},
   "source": [
    "Metodo Patch"
   ]
  },
  {
   "cell_type": "markdown",
   "metadata": {},
   "source": [
    "la función de update() en SQLAlchemy es \"parcial\" por naturaleza, como un PATCH: solo actualiza los campos que vos le pases, sin tocar los demás.\n",
    "\n",
    "- ✅ ¿Qué significa esto?\n",
    "\n",
    "Cuando hacés:\n",
    "\n",
    "```python\n",
    "actualizar_usuario_por({'email': 'a@b.com'}, {'name': 'Nuevo Nombre'})\n",
    "```\n",
    "\n",
    "Solo se actualiza la columna name. Si el usuario tiene otros campos como email o id, esos no se modifican.\n",
    "\n",
    "- 🔄 Entonces, para comportarse como PATCH:\n",
    "\n",
    "No necesitás nada especial. Solo asegurate de pasar solo los campos que querés actualizar.\n",
    "\n",
    "- 🛑 Validación (opcional)\n",
    "\n",
    "Si querés que no actualice si el usuario no existe, podés hacer una verificación previa:\n",
    "\n",
    "```python\n",
    "def actualizar_usuario_por(filtros, nuevos_datos):\n",
    "    with engine.connect() as conn:\n",
    "        condiciones = [getattr(users.c, campo) == valor for campo, valor in filtros.items()]\n",
    "        # Verificar si existe\n",
    "        select_stmt = select(users).where(*condiciones)\n",
    "        result = conn.execute(select_stmt).mappings().first()\n",
    "        if not result:\n",
    "            return 0  # o lanzar una excepción\n",
    "        # Actualizar solo campos indicados\n",
    "        update_stmt = update(users).where(*condiciones).values(**nuevos_datos)\n",
    "        result = conn.execute(update_stmt)\n",
    "        conn.commit()\n",
    "        return result.rowcount\n",
    "```\n"
   ]
  },
  {
   "cell_type": "code",
   "execution_count": null,
   "metadata": {},
   "outputs": [],
   "source": []
  },
  {
   "cell_type": "code",
   "execution_count": null,
   "metadata": {},
   "outputs": [],
   "source": []
  }
 ],
 "metadata": {
  "kernelspec": {
   "display_name": "Python 3 (ipykernel)",
   "language": "python",
   "name": "python3"
  },
  "language_info": {
   "codemirror_mode": {
    "name": "ipython",
    "version": 3
   },
   "file_extension": ".py",
   "mimetype": "text/x-python",
   "name": "python",
   "nbconvert_exporter": "python",
   "pygments_lexer": "ipython3",
   "version": "3.10.4"
  }
 },
 "nbformat": 4,
 "nbformat_minor": 4
}
