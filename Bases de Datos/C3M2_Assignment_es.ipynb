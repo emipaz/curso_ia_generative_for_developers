{
 "cells": [
  {
   "cell_type": "markdown",
   "metadata": {},
   "source": [
    "# Tarea de programación: Base de datos de redes sociales\n",
    "\n",
    "## ¡Bienvenido!\n",
    "\n",
    "En este módulo has estado aprendiendo cómo los LLM pueden ayudar con muchas tareas comunes al trabajar con bases de datos. En esta tarea tendrás la oportunidad de poner en práctica esas habilidades. Estarás trabajando con una base de datos diseñada para representar una red social simple. Aquí están las tareas que necesitarás completar:\n",
    "\n",
    "1. Escribir código que lea datos de un archivo CSV proporcionado en la base de datos\n",
    "2. Desarrollar funciones que consulten la base de datos\n",
    "\n",
    "### Envío y calificación\n",
    "\n",
    "Este cuaderno será calificado en base a cuatro funciones que escribas. Puedes encontrar código inicial para las cuatro funciones a continuación. Se proporcionan pruebas unitarias para ayudarte a probar tu trabajo.\n",
    "\n",
    "### Trabajando con el LLM:\n",
    "\n",
    "- **GPT-4o está disponible:** Puedes usar el LLM que prefieras en esta tarea, pero [GPT-4o ha sido puesto a disposición](https://www.coursera.org/learn/ai-powered-software-and-system-design/ungradedLab/rSPHu/gpt-4o-environment-for-assignment-to-use-alongside-the-programming-assignment) en el laboratorio no calificado que sigue a esta tarea.\n",
    "- **Proporciona contexto a tu LLM:** El LLM necesitará el contexto del problema en el que estás trabajando y el código ya disponible para ti para ayudar a desarrollar soluciones.\n",
    "- **Trabaja de forma iterativa y prueba a medida que avanzas:** Recuerda, los consejos del LLM no siempre serán perfectos. Depende de ti decidir qué es útil, probar el código que proporciona e iterar a medida que trabajas hacia una solución.\n"
   ]
  },
  {
   "cell_type": "markdown",
   "metadata": {},
   "source": [
    "### Importaciones necesarias\n"
   ]
  },
  {
   "cell_type": "code",
   "execution_count": 1,
   "metadata": {
    "deletable": false,
    "editable": false
   },
   "outputs": [],
   "source": [
    "import unittests\n",
    "import submission_checker"
   ]
  },
  {
   "cell_type": "markdown",
   "metadata": {},
   "source": [
    "### Esquema de la base de datos\n",
    "\n",
    "La función a continuación define el esquema para la base de datos que utilizarás en esta tarea. La base de datos representa una red social compuesta por personas que pueden ser amigas entre sí y unirse a clubes. No puedes editar esta función, pero debes entender cómo funciona y el esquema de la base de datos que define. **Lee esta función cuidadosamente y compártela con tu LLM** para asegurarte de que entiendes el esquema antes de continuar.\n"
   ]
  },
  {
   "cell_type": "code",
   "execution_count": 2,
   "metadata": {
    "colab": {
     "base_uri": "https://localhost:8080/"
    },
    "deletable": false,
    "editable": false,
    "id": "OML5zvqo0FeL",
    "outputId": "4630141d-fc05-49cb-bce2-a52d544be69c",
    "tags": [
     "graded"
    ]
   },
   "outputs": [],
   "source": [
    "from sqlalchemy import create_engine, Column, Integer, String, ForeignKey, Table\n",
    "from sqlalchemy.orm import declarative_base\n",
    "from sqlalchemy.orm import relationship, sessionmaker\n",
    "import numpy as np\n",
    "import os\n",
    "import pandas as pd\n",
    "import json\n",
    "\n",
    "# Creates the database for the social network\n",
    "\n",
    "def create_database():\n",
    "    Base = declarative_base()\n",
    "\n",
    "    friendships = Table('friendships', Base.metadata,\n",
    "                        Column('person_id', Integer, ForeignKey('people.id'), primary_key=True),\n",
    "                        Column('friend_id', Integer, ForeignKey('people.id'), primary_key=True))\n",
    "\n",
    "    club_members = Table('club_members', Base.metadata,\n",
    "                         Column('person_id', Integer, ForeignKey('people.id'), primary_key=True),\n",
    "                         Column('club_id', Integer, ForeignKey('clubs.id'), primary_key=True))\n",
    "\n",
    "    class Person(Base):\n",
    "        __tablename__ = 'people'\n",
    "        id = Column(Integer, primary_key=True)\n",
    "        name = Column(String)\n",
    "        age = Column(Integer)\n",
    "        gender = Column(String)\n",
    "        location = Column(String)\n",
    "        friends = relationship(\"Person\",\n",
    "                               secondary=friendships,\n",
    "                               primaryjoin=id == friendships.c.person_id,\n",
    "                               secondaryjoin=id == friendships.c.friend_id)\n",
    "        clubs = relationship(\"Club\", secondary=club_members, back_populates=\"members\")\n",
    "\n",
    "    class Club(Base):\n",
    "        __tablename__ = 'clubs'\n",
    "        id = Column(Integer, primary_key=True)\n",
    "        description = Column(String)\n",
    "        members = relationship(\"Person\", secondary=club_members, back_populates=\"clubs\")\n",
    "\n",
    "    if os.path.exists(\"social_network.db\"):\n",
    "        os.remove(\"social_network.db\")\n",
    "    engine = create_engine(f'sqlite:///{\"social_network.db\"}', echo=False)\n",
    "    Base.metadata.create_all(engine)\n",
    "\n",
    "    Session = sessionmaker(bind=engine)\n",
    "    session = Session()\n",
    "\n",
    "    return session, Club, Person, friendships, club_members"
   ]
  },
  {
   "cell_type": "markdown",
   "metadata": {},
   "source": [
    "### Ejercicio 1: Cargar la base de datos desde un archivo CSV\n",
    "\n",
    "La base de datos definida en la función `create_database` aún no contiene ningún dato. Necesitarás escribir el código para la función `load_data_from_csv` a continuación para poblar la base de datos. Para hacer eso, utilizarás el archivo `members.csv` que está disponible en este laboratorio en el mismo directorio que este cuaderno. Los datos están almacenados en una tabla única con una fila para cada persona. La columna Friendships contiene los IDs de todas las personas que la persona en esa fila considera amigos. La columna Clubs contiene los nombres de cada club al que pertenece la persona en esa fila.\n",
    "\n",
    "Algunas notas importantes sobre este ejercicio:\n",
    "\n",
    "* Para que tu función sea calificada correctamente, no cambies el nombre de la función ni sus parámetros.\n",
    "* No deberías necesitar importar bibliotecas adicionales, ya que a veces esto puede causar errores con el calificador. Si es absolutamente necesario, hazlo dentro de la misma celda que la función `load_data_from_csv`.\n",
    "\n",
    "**SUGERENCIAS**:\n",
    "\n",
    "- **Recuerda** que debes evitar pegar código de LLM directamente en tu solución. Si un código no se ejecuta, intenta mirar la excepción y entender qué podría estar sucediendo, luego puedes pasar más información al LLM.\n",
    "- **Recuerda** también pasar la función `create_database()` para que el LLM pueda entender la estructura de la base de datos.\n",
    "- **Recuerda** pasar la información necesaria sobre la estructura de `members.csv`. Puedes verla haciendo clic en el archivo `members.csv` en el panel derecho. **Pasa la información correcta al LLM sobre las columnas,** **recuerda mencionar que la columna Friends es una lista de enteros correspondientes al ID de los amigos y la columna Clubs es una lista de cadenas correspondientes a los clubes a los que pertenece el miembro.**\n",
    "- **Pasa** la función `load_data_from_csv` y pídele que la complete.\n",
    "- **Recuerda** que la solución debe colocarse en la celda designada para ello (la que está debajo de aquí). Puedes crear nuevas celdas para probar si lo deseas, pero **recuerda** pegar tu solución en la celda inicial calificada. **NO** la elimines, ya que está etiquetada y el autocalificador buscará la etiqueta específica, eliminarla hará que el autocalificador no pueda encontrar tu solución.\n"
   ]
  },
  {
   "cell_type": "code",
   "execution_count": 3,
   "metadata": {
    "deletable": false,
    "editable": false
   },
   "outputs": [
    {
     "data": {
      "text/html": [
       "<div>\n",
       "<style scoped>\n",
       "    .dataframe tbody tr th:only-of-type {\n",
       "        vertical-align: middle;\n",
       "    }\n",
       "\n",
       "    .dataframe tbody tr th {\n",
       "        vertical-align: top;\n",
       "    }\n",
       "\n",
       "    .dataframe thead th {\n",
       "        text-align: right;\n",
       "    }\n",
       "</style>\n",
       "<table border=\"1\" class=\"dataframe\">\n",
       "  <thead>\n",
       "    <tr style=\"text-align: right;\">\n",
       "      <th></th>\n",
       "      <th>ID</th>\n",
       "      <th>Name</th>\n",
       "      <th>Surname</th>\n",
       "      <th>Location</th>\n",
       "      <th>Age</th>\n",
       "      <th>Gender</th>\n",
       "      <th>Friendships</th>\n",
       "      <th>Clubs</th>\n",
       "    </tr>\n",
       "  </thead>\n",
       "  <tbody>\n",
       "    <tr>\n",
       "      <th>0</th>\n",
       "      <td>0</td>\n",
       "      <td>John</td>\n",
       "      <td>Rocha</td>\n",
       "      <td>948 Christian Park Apt. 683 New Christopher, M...</td>\n",
       "      <td>57</td>\n",
       "      <td>Male</td>\n",
       "      <td>[4, 10, 12, 5, 19, 14]</td>\n",
       "      <td>[Fitness Club]</td>\n",
       "    </tr>\n",
       "    <tr>\n",
       "      <th>1</th>\n",
       "      <td>1</td>\n",
       "      <td>William</td>\n",
       "      <td>Ruiz</td>\n",
       "      <td>09477 Paul Station Williamsmouth, NM 93899</td>\n",
       "      <td>42</td>\n",
       "      <td>Female</td>\n",
       "      <td>[9, 15, 17, 10, 3]</td>\n",
       "      <td>[Travel Club, Art Club, Cooking Club]</td>\n",
       "    </tr>\n",
       "    <tr>\n",
       "      <th>2</th>\n",
       "      <td>2</td>\n",
       "      <td>Jackie</td>\n",
       "      <td>Mccullough</td>\n",
       "      <td>903 Keller River Suite 149 Davidside, IN 11476</td>\n",
       "      <td>36</td>\n",
       "      <td>Non-binary</td>\n",
       "      <td>[6, 4, 10, 9]</td>\n",
       "      <td>[Hiking Club, Art Club]</td>\n",
       "    </tr>\n",
       "    <tr>\n",
       "      <th>3</th>\n",
       "      <td>3</td>\n",
       "      <td>Michael</td>\n",
       "      <td>Powell</td>\n",
       "      <td>7528 Brenda Mills Jenniferstad, RI 38209</td>\n",
       "      <td>67</td>\n",
       "      <td>Female</td>\n",
       "      <td>[11, 7, 13, 6, 14, 2]</td>\n",
       "      <td>[Hiking Club, Chess Club, Gaming Club, Book Cl...</td>\n",
       "    </tr>\n",
       "    <tr>\n",
       "      <th>4</th>\n",
       "      <td>4</td>\n",
       "      <td>Scott</td>\n",
       "      <td>Boyd</td>\n",
       "      <td>545 Evelyn Shores Apt. 744 North Craigchester,...</td>\n",
       "      <td>47</td>\n",
       "      <td>Female</td>\n",
       "      <td>[15, 17, 1, 11, 0, 10, 5]</td>\n",
       "      <td>[Gaming Club]</td>\n",
       "    </tr>\n",
       "  </tbody>\n",
       "</table>\n",
       "</div>"
      ],
      "text/plain": [
       "   ID     Name     Surname                                           Location  \\\n",
       "0   0     John       Rocha  948 Christian Park Apt. 683 New Christopher, M...   \n",
       "1   1  William        Ruiz         09477 Paul Station Williamsmouth, NM 93899   \n",
       "2   2   Jackie  Mccullough     903 Keller River Suite 149 Davidside, IN 11476   \n",
       "3   3  Michael      Powell           7528 Brenda Mills Jenniferstad, RI 38209   \n",
       "4   4    Scott        Boyd  545 Evelyn Shores Apt. 744 North Craigchester,...   \n",
       "\n",
       "   Age      Gender                Friendships  \\\n",
       "0   57        Male     [4, 10, 12, 5, 19, 14]   \n",
       "1   42      Female         [9, 15, 17, 10, 3]   \n",
       "2   36  Non-binary              [6, 4, 10, 9]   \n",
       "3   67      Female      [11, 7, 13, 6, 14, 2]   \n",
       "4   47      Female  [15, 17, 1, 11, 0, 10, 5]   \n",
       "\n",
       "                                               Clubs  \n",
       "0                                     [Fitness Club]  \n",
       "1              [Travel Club, Art Club, Cooking Club]  \n",
       "2                            [Hiking Club, Art Club]  \n",
       "3  [Hiking Club, Chess Club, Gaming Club, Book Cl...  \n",
       "4                                      [Gaming Club]  "
      ]
     },
     "execution_count": 3,
     "metadata": {},
     "output_type": "execute_result"
    }
   ],
   "source": [
    "# The members.csv file contains 20 people. The code below will show you the first 5 rows to help you understand the format of the CSV file\n",
    "\n",
    "pd.read_csv(\"members.csv\", converters = {'Friendships': eval, \"Clubs\": eval}).head()"
   ]
  },
  {
   "cell_type": "code",
   "execution_count": null,
   "metadata": {
    "deletable": false,
    "tags": [
     "graded"
    ]
   },
   "outputs": [],
   "source": [
    "# GRADED CELL 1 - Do NOT delete it, do NOT place your solution anywhere else. You can create new cells and work from there, but in the end add your solution in this cell.\n",
    "# Function to load data from CSV into the database\n",
    "def load_data_from_csv(session, Club, Person, friendships, club_members, csv_path=\"members.csv\"):\n",
    "    \"\"\"\n",
    "    Load data from a CSV file into the database, clearing existing data and creating new records for people, clubs, friendships, and club memberships.\n",
    "\n",
    "    This function performs several key operations:\n",
    "    1. Clears existing data from the Person, Club, friendships, and club_members tables.\n",
    "    2. Reads data from a CSV file specified by `csv_path`, defaulting to \"members.csv\".\n",
    "    3. For each row in the CSV, it creates or retrieves clubs mentioned, creates a person with the specified attributes, and associates them with the clubs.\n",
    "    4. Establishes friendships based on the \"Friendships\" column in the CSV, which lists friend IDs for each person.\n",
    "    5. Commits all changes to the database to ensure data integrity and consistency.\n",
    "\n",
    "    Parameters:\n",
    "    - session: The SQLAlchemy session object used for database transactions.\n",
    "    - Club: The Club class model used to create or retrieve club records.\n",
    "    - Person: The Person class model used to create person records.\n",
    "    - friendships: The table/model representing friendships between people.\n",
    "    - club_members: The table/model representing memberships of people in clubs.\n",
    "    - csv_path (str, optional): The path to the CSV file containing the data to be loaded. Defaults to \"members.csv\".\n",
    "\n",
    "    Returns:\n",
    "    None. The function operates by side effects, modifying the database directly.\n",
    "\n",
    "    Note:\n",
    "    The function assumes the CSV file is formatted with specific columns: \"ID\", \"Name\", \"Surname\", \"Age\", \"Gender\", \"Location\", \"Clubs\", and \"Friendships\".\n",
    "    \"Clubs\" is expected to be string representations of lists and \"Friendships\" is expected to be a list of IDs representing the member friends.\n",
    "    \"\"\"\n",
    "    # Step 1: Clear existing data from all relevant tables\n",
    "    session.query(Person).delete()\n",
    "    session.query(Club).delete()\n",
    "    session.query(friendships).delete()\n",
    "    session.query(club_members).delete()\n",
    "\n",
    "    session.commit()  # Commit the deletion of all existing records\n",
    "\n",
    "    # Load the CSV data\n",
    "    df = pd.read_csv(\"members.csv\", converters = {'Friendships': eval, \"Clubs\": eval})\n",
    "    ### START CODE HERE ###\n",
    "    pass"
   ]
  },
  {
   "cell_type": "code",
   "execution_count": 4,
   "metadata": {},
   "outputs": [],
   "source": [
    "# GRADED CELL 1 - Do NOT delete it, do NOT place your solution anywhere else. You can create new cells and work from there, but in the end add your solution in this cell.\n",
    "# Function to load data from CSV into the database\n",
    "def load_data_from_csv(session, Club, Person, friendships, club_members, csv_path=\"members.csv\"):\n",
    "    \"\"\"\n",
    "    Load data from a CSV file into the database, clearing existing data and creating new records for people, clubs, friendships, and club memberships.\n",
    "    \"\"\"\n",
    "\n",
    "    # Step 1: Clear existing data from all relevant tables\n",
    "    session.query(Person).delete()\n",
    "    session.query(Club).delete()\n",
    "    session.query(friendships).delete()\n",
    "    session.query(club_members).delete()\n",
    "\n",
    "    session.commit()  # Commit the deletion of all existing records\n",
    "\n",
    "    # Load the CSV data\n",
    "    df = pd.read_csv(csv_path, converters={'Friendships': eval, \"Clubs\": eval})\n",
    "\n",
    "    # Diccionarios auxiliares para evitar duplicados\n",
    "    clubs_dict = {}\n",
    "    people_dict = {}\n",
    "\n",
    "    # Crear objetos Person y Club\n",
    "    for _, row in df.iterrows():\n",
    "        # Crear o reutilizar clubs\n",
    "        person_clubs = []\n",
    "        for club_desc in row[\"Clubs\"]:\n",
    "            if club_desc not in clubs_dict:\n",
    "                new_club = Club(description=club_desc)\n",
    "                session.add(new_club)\n",
    "                session.flush()  # Para que se le asigne un ID\n",
    "                clubs_dict[club_desc] = new_club\n",
    "            person_clubs.append(clubs_dict[club_desc])\n",
    "\n",
    "        # Crear persona\n",
    "        person = Person(\n",
    "            id=row[\"ID\"],\n",
    "            name=f\"{row['Name']} {row['Surname']}\",\n",
    "            age=row[\"Age\"],\n",
    "            gender=row[\"Gender\"],\n",
    "            location=row[\"Location\"],\n",
    "            clubs=person_clubs\n",
    "        )\n",
    "        session.add(person)\n",
    "        people_dict[row[\"ID\"]] = person\n",
    "\n",
    "    session.commit()  # Guardamos personas y clubes\n",
    "\n",
    "    # Segunda pasada para las amistades (relaciones recursivas)\n",
    "    for _, row in df.iterrows():\n",
    "        person = people_dict[row[\"ID\"]]\n",
    "        for friend_id in row[\"Friendships\"]:\n",
    "            if friend_id in people_dict:\n",
    "                friend = people_dict[friend_id]\n",
    "                if friend not in person.friends:  # Evita duplicados\n",
    "                    person.friends.append(friend)\n",
    "\n",
    "    session.commit()\n"
   ]
  },
  {
   "cell_type": "code",
   "execution_count": 5,
   "metadata": {
    "deletable": false,
    "editable": false
   },
   "outputs": [
    {
     "name": "stdout",
     "output_type": "stream",
     "text": [
      "=== All Persons ===\n",
      "ID: 0, Name: John Rocha, Age: 57, Gender: Male, Location: 948 Christian Park Apt. 683 New Christopher, MN 06675\n",
      "ID: 1, Name: William Ruiz, Age: 42, Gender: Female, Location: 09477 Paul Station Williamsmouth, NM 93899\n",
      "ID: 2, Name: Jackie Mccullough, Age: 36, Gender: Non-binary, Location: 903 Keller River Suite 149 Davidside, IN 11476\n",
      "\n",
      "=== All Clubs and their Members ===\n",
      "Club ID: 1, Description: Fitness Club, Members: ['John Rocha', 'Amanda Norris', 'Michael Clark', 'Christina Murphy']\n",
      "Club ID: 2, Description: Travel Club, Members: ['William Ruiz', 'Michael Powell', 'Becky Peterson', 'Nicholas Harrington', 'Luis Kim', 'Nathan Mendez']\n",
      "Club ID: 3, Description: Art Club, Members: ['William Ruiz', 'Jackie Mccullough', 'Amanda Norris', 'Becky Peterson', 'Mark Allen', 'Brian Mays', 'Eric Dougherty', 'Nathan Mendez']\n",
      "\n",
      "=== Friendships ===\n",
      "John Rocha's Friends: ['Scott Boyd', 'Andrew Williams', 'Nicholas Harrington', 'Christina Murphy', 'Luis Kim', 'Mark Mcintyre']\n",
      "William Ruiz's Friends: ['Michael Powell', 'Mark Allen', 'Nicholas Harrington', 'Brian Mays', 'Nathan Mendez']\n",
      "Jackie Mccullough's Friends: ['Scott Boyd', 'Amanda Norris', 'Mark Allen', 'Nicholas Harrington']\n"
     ]
    }
   ],
   "source": [
    "# The code below creates the database and reads in the data \n",
    "session, Club, Person, friendships, club_members = create_database()\n",
    "load_data_from_csv(session, Club, Person, friendships, club_members, \"members.csv\")\n",
    "\n",
    "# If your load_data_from_csv function is working correctly, then you should have read in data correctly into all four tables in the database.\n",
    "\n",
    "print_amount = 3\n",
    "\n",
    "# Print first 3 persons\n",
    "print(\"=== All Persons ===\")\n",
    "people = session.query(Person).all()\n",
    "for person in people[:print_amount ]:\n",
    "    print(f\"ID: {person.id}, Name: {person.name}, Age: {person.age}, Gender: {person.gender}, Location: {person.location}\")\n",
    "\n",
    "# Print first 3 clubs and their members\n",
    "print(\"\\n=== All Clubs and their Members ===\")\n",
    "clubs = session.query(Club).all()\n",
    "for club in clubs[:print_amount ]:\n",
    "    print(f\"Club ID: {club.id}, Description: {club.description}, Members: {[member.name for member in club.members]}\")\n",
    "\n",
    "# Print friendships of first three persons\n",
    "print(\"\\n=== Friendships ===\")\n",
    "for person in people[:print_amount ]:\n",
    "    friends = [friend.name for friend in person.friends]\n",
    "    print(f\"{person.name}'s Friends: {friends}\")"
   ]
  },
  {
   "cell_type": "markdown",
   "metadata": {},
   "source": [
    "Resultado esperado:\n",
    "```\n",
    "=== Todas las personas ===\n",
    "ID: 0, Nombre: John Rocha, Edad: 57, Género: Masculino, Ubicación: 948 Christian Park Apt. 683 New Christopher, MN 06675\n",
    "ID: 1, Nombre: William Ruiz, Edad: 42, Género: Femenino, Ubicación: 09477 Paul Station Williamsmouth, NM 93899\n",
    "ID: 2, Nombre: Jackie Mccullough, Edad: 36, Género: No binario, Ubicación: 903 Keller River Suite 149 Davidside, IN 11476\n",
    "\n",
    "=== Todos los clubes y sus miembros ===\n",
    "ID del Club: 1, Descripción: Club de Fitness, Miembros: ['John Rocha', 'Amanda Norris', 'Michael Clark', 'Christina Murphy']\n",
    "ID del Club: 2, Descripción: Club de Viajes, Miembros: ['William Ruiz', 'Michael Powell', 'Becky Peterson', 'Nicholas Harrington', 'Luis Kim', 'Nathan Mendez']\n",
    "ID del Club: 3, Descripción: Club de Arte, Miembros: ['William Ruiz', 'Jackie Mccullough', 'Amanda Norris', 'Becky Peterson', 'Mark Allen', 'Brian Mays', 'Eric Dougherty', 'Nathan Mendez']\n",
    "\n",
    "=== Amistades ===\n",
    "Amigos de John Rocha: ['Scott Boyd', 'Andrew Williams', 'Nicholas Harrington', 'Christina Murphy', 'Luis Kim', 'Mark Mcintyre']\n",
    "Amigos de William Ruiz: ['Michael Powell', 'Mark Allen', 'Nicholas Harrington', 'Brian Mays', 'Nathan Mendez']\n",
    "Amigos de Jackie Mccullough: ['Scott Boyd', 'Amanda Norris', 'Mark Allen', 'Nicholas Harrington']\n",
    "```\n"
   ]
  },
  {
   "cell_type": "code",
   "execution_count": 6,
   "metadata": {
    "deletable": false,
    "editable": false
   },
   "outputs": [
    {
     "name": "stdout",
     "output_type": "stream",
     "text": [
      "\u001b[92m All tests passed!\n",
      "  If you made your solution in a different cell, make sure to include it in the graded cell as well.\n"
     ]
    }
   ],
   "source": [
    "unittests.test_load_data_from_csv(load_data_from_csv)"
   ]
  },
  {
   "cell_type": "markdown",
   "metadata": {},
   "source": [
    "### Ejercicio 2: Obtener los miembros de un club\n",
    "\n",
    "Suponiendo que tus datos se han cargado correctamente, ahora deberías poder consultar los datos en tu base de datos. Para este ejercicio, escribe una función llamada `get_club_members`. Esta función debe aceptar una descripción de un club y una sesión, y devolver una lista de todos sus miembros. **Asegúrate de que esta función devuelva una lista que contenga los objetos Person definidos.** Solo debe ingresar una **descripción del club**.\n"
   ]
  },
  {
   "cell_type": "code",
   "execution_count": null,
   "metadata": {
    "deletable": false,
    "tags": [
     "graded"
    ]
   },
   "outputs": [],
   "source": [
    "# GRADED CELL 2 - Do NOT delete it, do NOT place your solution anywhere else. You can create new cells and work from there, but in the end add your solution in this cell.\n",
    "def get_club_members(session, club_description):\n",
    "    \"\"\"\n",
    "    Returns a list of Person objects who are members of a club given the club's description.\n",
    "    \n",
    "    Parameters:\n",
    "    - session: The SQLAlchemy session for database queries.\n",
    "    - club_description (str): The description of the club for which members are to be retrieved.\n",
    "    \n",
    "    Returns:\n",
    "    - List[Person]: A list of Person objects who are members of the specified club.\n",
    "    \"\"\"\n",
    "    ### START CODE HERE ###\n",
    "    pass"
   ]
  },
  {
   "cell_type": "code",
   "execution_count": 7,
   "metadata": {},
   "outputs": [],
   "source": [
    "def get_club_members(session, club_description):\n",
    "    \"\"\"\n",
    "    Returns a list of Person objects who are members of a club given the club's description.\n",
    "    \"\"\"\n",
    "    club = session.query(Club).filter_by(description=club_description).first()\n",
    "    if club:\n",
    "        return club.members\n",
    "    else:\n",
    "        return []\n"
   ]
  },
  {
   "cell_type": "code",
   "execution_count": 8,
   "metadata": {
    "deletable": false,
    "editable": false
   },
   "outputs": [
    {
     "name": "stdout",
     "output_type": "stream",
     "text": [
      "Members of the Hiking Club:\n",
      "- Jackie Mccullough, Age: 36, Location: 903 Keller River Suite 149 Davidside, IN 11476\n",
      "- Michael Powell, Age: 67, Location: 7528 Brenda Mills Jenniferstad, RI 38209\n",
      "- Amanda Norris, Age: 27, Location: 8446 Thomas Crossing Suite 184 West Jacobshire, CA 41663\n",
      "- Michael Clark, Age: 39, Location: 688 Sean River Apt. 585 Amandatown, AZ 76721\n",
      "- Christina Murphy, Age: 19, Location: 276 Wolfe Springs Lake Eric, PA 61512\n",
      "- Luis Kim, Age: 34, Location: 23367 Chase Heights Apt. 892 Calebchester, NC 59073\n",
      "- Nathan Mendez, Age: 70, Location: 16039 Carey Views Apt. 776 Tylerfurt, DE 67034\n"
     ]
    }
   ],
   "source": [
    "# Example usage of the get_club_members function\n",
    "\n",
    "# Assume the session and all models have been correctly set up and populated as per your initial code\n",
    "\n",
    "# Fetching members of the \"Hiking Club\"\n",
    "hiking_club_members = get_club_members(session, \"Hiking Club\")\n",
    "\n",
    "# Printing out the names of all members of the Hiking Club\n",
    "print(\"Members of the Hiking Club:\")\n",
    "for person in hiking_club_members:\n",
    "    print(f\"- {person.name}, Age: {person.age}, Location: {person.location}\")"
   ]
  },
  {
   "cell_type": "markdown",
   "metadata": {},
   "source": [
    "Miembros del Club de Excursionismo:\n",
    "- Jackie Mccullough, Edad: 36, Ubicación: 903 Keller River Suite 149 Davidside, IN 11476\n",
    "- Michael Powell, Edad: 67, Ubicación: 7528 Brenda Mills Jenniferstad, RI 38209\n",
    "- Amanda Norris, Edad: 27, Ubicación: 8446 Thomas Crossing Suite 184 West Jacobshire, CA 41663\n",
    "- Michael Clark, Edad: 39, Ubicación: 688 Sean River Apt. 585 Amandatown, AZ 76721\n",
    "- Christina Murphy, Edad: 19, Ubicación: 276 Wolfe Springs Lake Eric, PA 61512\n",
    "- Luis Kim, Edad: 34, Ubicación: 23367 Chase Heights Apt. 892 Calebchester, NC 59073\n",
    "- Nathan Mendez, Edad: 70, Ubicación: 16039 Carey Views Apt. 776 Tylerfurt, DE 67034\n"
   ]
  },
  {
   "cell_type": "code",
   "execution_count": 9,
   "metadata": {
    "deletable": false,
    "editable": false
   },
   "outputs": [
    {
     "name": "stdout",
     "output_type": "stream",
     "text": [
      "\u001b[92m All tests passed!\n",
      "  If you made your solution in a different cell, make sure to include it in the graded cell as well.\n"
     ]
    }
   ],
   "source": [
    "unittests.test_get_club_members(load_data_from_csv, get_club_members)"
   ]
  },
  {
   "cell_type": "markdown",
   "metadata": {},
   "source": [
    "### Ejercicio 3: Obtener los amigos de una persona\n",
    "\n",
    "En este ejercicio, se requiere crear una función llamada `get_friends_of_person`. Esta función debe aceptar el nombre de una persona y una sesión, devolver una lista de todas las personas que consideran ser amigos. **Asegúrate de que esta función devuelva una lista que contenga los objetos Person definidos.** La entrada debe ser solo el **nombre de una persona**.\n"
   ]
  },
  {
   "cell_type": "code",
   "execution_count": null,
   "metadata": {
    "deletable": false,
    "tags": [
     "graded"
    ]
   },
   "outputs": [],
   "source": [
    "# GRADED CELL 3 - Do NOT delete it, do NOT place your solution anywhere else. You can create new cells and work from there, but in the end add your solution in this cell.\n",
    "def get_friends_of_person(session, person_name):\n",
    "    \"\"\"\n",
    "    Returns a list of Person objects who are friends with the specified person.\n",
    "    \n",
    "    Parameters:\n",
    "    - session: The SQLAlchemy session object used to query the database.\n",
    "    - person_name (str): The name of the person for whom to retrieve friends.\n",
    "    \n",
    "    Returns:\n",
    "    - List[Person]: A list of Person objects who are friends with the specified person.\n",
    "    \"\"\"\n",
    "    ### START CODE HERE ###\n",
    "    pass"
   ]
  },
  {
   "cell_type": "code",
   "execution_count": 10,
   "metadata": {},
   "outputs": [],
   "source": [
    "# GRADED CELL 3 - Do NOT delete it, do NOT place your solution anywhere else. You can create new cells and work from there, but in the end add your solution in this cell.\n",
    "def get_friends_of_person(session, person_name):\n",
    "    \"\"\"\n",
    "    Returns a list of Person objects who are friends with the specified person.\n",
    "    \"\"\"\n",
    "    person = session.query(Person).filter_by(name=person_name).first()\n",
    "    if person:\n",
    "        return person.friends\n",
    "    else:\n",
    "        return []\n"
   ]
  },
  {
   "cell_type": "code",
   "execution_count": 11,
   "metadata": {
    "deletable": false,
    "editable": false
   },
   "outputs": [
    {
     "name": "stdout",
     "output_type": "stream",
     "text": [
      "Friends of John Rocha:\n",
      "- Scott Boyd, Age: 47, Location: 545 Evelyn Shores Apt. 744 North Craigchester, CO 47369\n",
      "- Andrew Williams, Age: 24, Location: USCGC Jacobs FPO AE 78539\n",
      "- Nicholas Harrington, Age: 52, Location: 97681 Hernandez Villages Suite 344 Elizabethborough, UT 44717\n",
      "- Christina Murphy, Age: 19, Location: 276 Wolfe Springs Lake Eric, PA 61512\n",
      "- Luis Kim, Age: 34, Location: 23367 Chase Heights Apt. 892 Calebchester, NC 59073\n",
      "- Mark Mcintyre, Age: 22, Location: 5635 Jennifer Freeway Suite 436 Newmanberg, IL 05315\n"
     ]
    }
   ],
   "source": [
    "# Example usage of the get_friends_of_person function\n",
    "\n",
    "# Fetching friends of given name\n",
    "name = \"John Rocha\"\n",
    "\n",
    "john_friends = get_friends_of_person(session,name)\n",
    "\n",
    "# Printing out the names of all friends of John Rocha\n",
    "print(f\"Friends of {name}:\")\n",
    "for friend in john_friends:\n",
    "    print(f\"- {friend.name}, Age: {friend.age}, Location: {friend.location}\")"
   ]
  },
  {
   "cell_type": "markdown",
   "metadata": {},
   "source": [
    "Resultado esperado:\n",
    "```\n",
    "- Scott Boyd, Edad: 47, Ubicación: 545 Evelyn Shores Apt. 744 North Craigchester, CO 47369\n",
    "- Andrew Williams, Edad: 24, Ubicación: USCGC Jacobs FPO AE 78539\n",
    "- Nicholas Harrington, Edad: 52, Ubicación: 97681 Hernandez Villages Suite 344 Elizabethborough, UT 44717\n",
    "- Christina Murphy, Edad: 19, Ubicación: 276 Wolfe Springs Lake Eric, PA 61512\n",
    "- Luis Kim, Edad: 34, Ubicación: 23367 Chase Heights Apt. 892 Calebchester, NC 59073\n",
    "- Mark Mcintyre, Edad: 22, Ubicación: 5635 Jennifer Freeway Suite 436 Newmanberg, IL 05315\n",
    "```\n"
   ]
  },
  {
   "cell_type": "code",
   "execution_count": 12,
   "metadata": {
    "deletable": false,
    "editable": false
   },
   "outputs": [
    {
     "name": "stdout",
     "output_type": "stream",
     "text": [
      "\u001b[92m All tests passed!\n",
      "  If you made your solution in a different cell, make sure to include it in the graded cell as well.\n"
     ]
    }
   ],
   "source": [
    "unittests.test_get_friends_of_person(load_data_from_csv, get_friends_of_person)"
   ]
  },
  {
   "cell_type": "markdown",
   "metadata": {},
   "source": [
    "### Ejercicio 4: Obtener a todas las personas que consideran a una persona como amiga\n",
    "\n",
    "Ahora escribe una función llamada `get_persons_who_consider_them_friend`. Esta función debe tomar dos parámetros: el nombre de un individuo y una sesión. Devolverá una lista de personas que consideran a este individuo como amigo. Es importante recordar que en nuestra base de datos, la amistad no es necesariamente mutua. Por ejemplo, Alice podría considerar a Bob como amigo, pero Bob podría no sentir lo mismo por Alice. **Tu función debe devolver una lista de objetos Person para todos los que consideran al nombre de entrada como su amigo.** La entrada a esta función debe ser estrictamente el **nombre de la persona** sobre la que estás preguntando.\n"
   ]
  },
  {
   "cell_type": "code",
   "execution_count": null,
   "metadata": {
    "deletable": false,
    "tags": [
     "graded"
    ]
   },
   "outputs": [],
   "source": [
    "# GRADED CELL 4 - Do NOT delete it, do NOT place your solution anywhere else. You can create new cells and work from there, but in the end add your solution in this cell.\n",
    "def get_persons_who_consider_them_friend(session, person_name):\n",
    "    \"\"\"\n",
    "    Returns a list of Person objects who consider the specified person as their friend,\n",
    "    in a scenario where friendships are unidirectional.\n",
    "    \n",
    "    Parameters:\n",
    "    - person_name (str): The name of the person to find who is considered as a friend by others.\n",
    "    \n",
    "    Returns:\n",
    "    - List[Person]: A list of Person objects who consider the specified person as their friend.\n",
    "    \"\"\"\n",
    "    ### START CODE HERE ###\n",
    "    pass"
   ]
  },
  {
   "cell_type": "code",
   "execution_count": 13,
   "metadata": {},
   "outputs": [],
   "source": [
    "# GRADED CELL 4 - Do NOT delete it, do NOT place your solution anywhere else. You can create new cells and work from there, but in the end add your solution in this cell.\n",
    "def get_persons_who_consider_them_friend(session, person_name):\n",
    "    \"\"\"\n",
    "    Returns a list of Person objects who consider the specified person as their friend,\n",
    "    in a scenario where friendships are unidirectional.\n",
    "    \"\"\"\n",
    "    target = session.query(Person).filter_by(name=person_name).first()\n",
    "    if not target:\n",
    "        return []\n",
    "    \n",
    "    people = session.query(Person).all()\n",
    "    result = [p for p in people if target in p.friends]\n",
    "    return result\n"
   ]
  },
  {
   "cell_type": "code",
   "execution_count": 14,
   "metadata": {
    "deletable": false,
    "editable": false
   },
   "outputs": [
    {
     "name": "stdout",
     "output_type": "stream",
     "text": [
      "People who consider John Rocha as their friend:\n",
      "- Scott Boyd, Age: 47, Location: 545 Evelyn Shores Apt. 744 North Craigchester, CO 47369\n",
      "- Christina Murphy, Age: 19, Location: 276 Wolfe Springs Lake Eric, PA 61512\n",
      "- Brian Mays, Age: 61, Location: 80208 Parker Glen Harrisland, PW 54882\n",
      "- Nathan Mendez, Age: 70, Location: 16039 Carey Views Apt. 776 Tylerfurt, DE 67034\n"
     ]
    }
   ],
   "source": [
    "# Example usage of the get_persons_who_consider_them_friend function\n",
    "\n",
    "# Fetching people who consider given name as their friend\n",
    "name = 'John Rocha'\n",
    "\n",
    "name_friend_of = get_persons_who_consider_them_friend(session, name)\n",
    "\n",
    "# Printing out the names of all people who consider Alice as their friend\n",
    "print(f\"People who consider {name} as their friend:\")\n",
    "for person in name_friend_of:\n",
    "    print(f\"- {person.name}, Age: {person.age}, Location: {person.location}\")"
   ]
  },
  {
   "cell_type": "markdown",
   "metadata": {},
   "source": [
    "Resultado esperado:\n",
    "```\n",
    "Personas que consideran a John Rocha como su amigo:\n",
    "- Scott Boyd, Edad: 47, Ubicación: 545 Evelyn Shores Apt. 744 North Craigchester, CO 47369\n",
    "- Christina Murphy, Edad: 19, Ubicación: 276 Wolfe Springs Lake Eric, PA 61512\n",
    "- Brian Mays, Edad: 61, Ubicación: 80208 Parker Glen Harrisland, PW 54882\n",
    "- Nathan Mendez, Edad: 70, Ubicación: 16039 Carey Views Apt. 776 Tylerfurt, DE 67034\n",
    "```\n"
   ]
  },
  {
   "cell_type": "code",
   "execution_count": 15,
   "metadata": {
    "deletable": false,
    "editable": false
   },
   "outputs": [
    {
     "name": "stdout",
     "output_type": "stream",
     "text": [
      "\u001b[92m All tests passed!\n",
      "  If you made your solution in a different cell, make sure to include it in the graded cell as well.\n"
     ]
    }
   ],
   "source": [
    "unittests.test_get_persons_who_consider_them_friend(load_data_from_csv, get_persons_who_consider_them_friend)"
   ]
  },
  {
   "cell_type": "markdown",
   "metadata": {},
   "source": [
    "## Preparando tu Envío para la Calificación\n",
    "\n",
    "Tu envío será evaluado por un sistema de calificación automatizado, conocido como un autograder. Este sistema revisa automáticamente tu cuaderno y asigna una calificación basada en criterios específicos. Es importante tener en cuenta que el autograder solo evaluará las celdas marcadas para la calificación y no considerará el contenido de todo el cuaderno. Por lo tanto, si incluyes algún contenido adicional (como declaraciones de impresión) fuera de las funciones en las celdas calificadas, podría interrumpir el proceso del autograder. Esta discrepancia podría ser la razón por la cual podrías pasar todas las pruebas unitarias pero aún encontrar problemas con el autograder.\n",
    "\n",
    "Para evitar tales problemas, por favor ejecuta la siguiente celda antes de enviar. Este paso verificará la consistencia dentro de las celdas calificadas pero no evaluará la corrección de tus soluciones—ese aspecto es determinado por las pruebas unitarias. Si la verificación de consistencia descubre algún problema, tendrás la oportunidad de revisar y ajustar tu código en consecuencia.\n",
    "\n",
    "**Recuerda, esta verificación se enfoca en asegurar que las celdas calificadas estén correctamente formateadas y no evalúa la precisión de tus respuestas.**\n"
   ]
  },
  {
   "cell_type": "code",
   "execution_count": null,
   "metadata": {
    "deletable": false,
    "editable": false
   },
   "outputs": [],
   "source": [
    "submission_checker.check_notebook()"
   ]
  },
  {
   "cell_type": "markdown",
   "metadata": {},
   "source": [
    "Una vez que hayas escrito los cuatro métodos, estás listo para enviar. **Asegúrate de guardar tu trabajo antes de enviarlo** para que el evaluador pueda evaluar la versión más reciente de tu tarea.\n",
    "\n",
    "¡Felicidades por terminar esta tarea!\n"
   ]
  }
 ],
 "metadata": {
  "colab": {
   "provenance": []
  },
  "grader_version": "1",
  "kernelspec": {
   "display_name": "Python 3 (ipykernel)",
   "language": "python",
   "name": "python3"
  },
  "language_info": {
   "codemirror_mode": {
    "name": "ipython",
    "version": 3
   },
   "file_extension": ".py",
   "mimetype": "text/x-python",
   "name": "python",
   "nbconvert_exporter": "python",
   "pygments_lexer": "ipython3",
   "version": "3.11.6"
  }
 },
 "nbformat": 4,
 "nbformat_minor": 4
}
