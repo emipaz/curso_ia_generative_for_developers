{
 "cells": [
  {
   "cell_type": "markdown",
   "id": "a7d5bcd4-9dab-4b00-9df2-ad1379140b66",
   "metadata": {},
   "source": [
    "# ¿Qué es una lista enlazada?"
   ]
  },
  {
   "cell_type": "markdown",
   "id": "7e140ca5-3dda-4ec7-9e94-28a4bc3cb587",
   "metadata": {},
   "source": [
    "GPT : Una lista enlazada es una estructura de datos lineal en la que los elementos (o nodos) están almacenados en diferentes ubicaciones de memoria y cada elemento contiene un enlace (o puntero) al siguiente elemento de la lista. \n",
    "Este tipo de organización permite una mayor flexibilidad en comparación con los arreglos (o listas estáticas), ya que se pueden agregar o eliminar elementos de manera eficiente sin necesidad de mover otros elementos de la estructura.\n",
    "\n",
    "Cada nodo de una lista enlazada generalmente consta de dos componentes:\n",
    "\n",
    "1. **Dato**: El valor o la información que almacena el nodo.\n",
    "2. **Enlace (o puntero)**: Una referencia al siguiente nodo en la lista.\n",
    "\n",
    "Existen diferentes tipos de listas enlazadas, entre las que se incluyen:\n",
    "\n",
    "- **Lista enlazada simple**: Cada nodo tiene un solo puntero que apunta al siguiente nodo de la lista.\n",
    "  \n",
    "- **Lista enlazada doble**: Cada nodo tiene dos punteros: uno que apunta al siguiente nodo y otro que apunta al nodo anterior. Esto permite una navegación en ambas direcciones.\n",
    "\n",
    "- **Lista enlazada circular**: La lista enlazada puede ser circular, lo que significa que el último nodo de la lista apunta de nuevo al primer nodo, formando un ciclo.\n",
    "\n",
    "Las listas enlazadas son útiles en situaciones donde se requiere una manipulación dinámica de datos, como en la implementación de pilas, colas y otras estructuras de datos complejas."
   ]
  },
  {
   "cell_type": "markdown",
   "id": "e43387b6-9aeb-485b-8975-2b3ac7a738ed",
   "metadata": {},
   "source": [
    "## Escribe alguna implementación de una lista enlazada en Python.\n",
    "\n",
    "GPT : Claro, aquí tienes un ejemplo simple de cómo implementar una lista enlazada en Python. En este caso, vamos a crear una lista enlazada simple, donde \n",
    "cada nodo tiene un valor y un puntero al siguiente nodo."
   ]
  },
  {
   "cell_type": "code",
   "execution_count": 2,
   "id": "85a284ce-bb23-4494-acd2-da52ec45842a",
   "metadata": {},
   "outputs": [],
   "source": [
    "class Nodo:\n",
    "    def __init__(self, dato):\n",
    "        self.dato = dato  # Almacena el valor del nodo\n",
    "        self.siguiente = None  # Inicialmente, el siguiente nodo es None"
   ]
  },
  {
   "cell_type": "code",
   "execution_count": 3,
   "id": "9ebf8969-1761-480f-9733-ded3927a0bd7",
   "metadata": {},
   "outputs": [],
   "source": [
    "class ListaEnlazada:\n",
    "    def __init__(self):\n",
    "        self.cabeza = None  # La lista comienza vacía\n",
    "        self.longitud = 0\n",
    "\n",
    "    def __len__(self):\n",
    "        return self.longitud\n",
    "\n",
    "    def __str__(self):\n",
    "        actual = self.cabeza\n",
    "        string = \"\"\n",
    "        while actual:\n",
    "            string += str(actual.dato) + \" -> \"\n",
    "            actual = actual.siguiente\n",
    "        else:\n",
    "            string += str(None) # Indica el final de la lista\n",
    "        return string\n",
    "\n",
    "    def __repr__(self):\n",
    "        return \"ListaEnlazada :\" + str(self)\n",
    "\n",
    "    def agregar_nodo(self, dato):\n",
    "        \"\"\"Agrega un nuevo nodo al final de la lista enlazada.\"\"\"\n",
    "        nuevo_nodo = Nodo(dato)  # Crea un nuevo nodo\n",
    "        self.longitud += 1\n",
    "        if not self.cabeza:  # Si la lista está vacía\n",
    "            self.cabeza = nuevo_nodo  # El nuevo nodo es la cabeza\n",
    "            return\n",
    "        \n",
    "        # Si la lista no está vacía, recorremos hasta el final\n",
    "        ultimo = self.cabeza\n",
    "        while ultimo.siguiente:\n",
    "            ultimo = ultimo.siguiente\n",
    "        ultimo.siguiente = nuevo_nodo # Agrega el nuevo nodo al final\n",
    "\n",
    "    \n",
    "        "
   ]
  },
  {
   "cell_type": "markdown",
   "id": "0f21714f-b50a-4437-8cee-9df62ffae08f",
   "metadata": {
    "jp-MarkdownHeadingCollapsed": true
   },
   "source": [
    "### Explicación del código:\n",
    "\n",
    "1. **Clase `Nodo`**: Representa cada elemento de la lista. Tiene dos atributos: `dato` para almacenar el valor y `siguiente` que es un puntero al siguient\n",
    "e nodo.\n",
    "3. **Clase `ListaEnlazada`**: Representa la lista enlazada.\n",
    "   - **Método `agregar_nodo`**: Agrega un nuevo nodo al final de la lista.\n",
    "   - **Método `__str__`**: Recorre la lista y devuelve un string (cuando es llamado por str o print).\n",
    "   - **Método `__repr__`**: Devuelve una representacion del objeto en consola\n",
    "   - **Método `__len__`**: Devuelve la longitud de la lista (cuando es invocado por la funcion len)\n",
    "4. **Uso de la lista**: Creamos una instancia de `ListaEnlazada`, agregamos algunos elementos y luego imprimimos la lista."
   ]
  },
  {
   "cell_type": "code",
   "execution_count": 4,
   "id": "b61a6fa4-e48d-42c9-885b-7fcdea0142a2",
   "metadata": {},
   "outputs": [
    {
     "data": {
      "text/plain": [
       "ListaEnlazada :None"
      ]
     },
     "execution_count": 4,
     "metadata": {},
     "output_type": "execute_result"
    }
   ],
   "source": [
    "# Ejemplo de uso\n",
    "\n",
    "lista = ListaEnlazada()\n",
    "lista"
   ]
  },
  {
   "cell_type": "code",
   "execution_count": 5,
   "id": "7740c6ca-7554-4eef-8fc9-34d252d84f60",
   "metadata": {},
   "outputs": [
    {
     "data": {
      "text/plain": [
       "ListaEnlazada :1 -> None"
      ]
     },
     "execution_count": 5,
     "metadata": {},
     "output_type": "execute_result"
    }
   ],
   "source": [
    "lista.agregar_nodo(1)\n",
    "lista"
   ]
  },
  {
   "cell_type": "code",
   "execution_count": 6,
   "id": "8394b68c-519c-4e90-9358-c5763f5479b5",
   "metadata": {},
   "outputs": [
    {
     "data": {
      "text/plain": [
       "1"
      ]
     },
     "execution_count": 6,
     "metadata": {},
     "output_type": "execute_result"
    }
   ],
   "source": [
    "len(lista)"
   ]
  },
  {
   "cell_type": "code",
   "execution_count": 7,
   "id": "2e2e15b6-88cd-4869-9979-e4548c5137a5",
   "metadata": {},
   "outputs": [],
   "source": [
    "lista.agregar_nodo(2)"
   ]
  },
  {
   "cell_type": "code",
   "execution_count": 8,
   "id": "10d93b70-ca15-4ac5-9e98-2e3a0d29d6db",
   "metadata": {},
   "outputs": [],
   "source": [
    "lista.agregar_nodo(3)"
   ]
  },
  {
   "cell_type": "code",
   "execution_count": 9,
   "id": "b24f13d9-5ff3-4cb8-941e-01adfb7644ac",
   "metadata": {},
   "outputs": [
    {
     "data": {
      "text/plain": [
       "3"
      ]
     },
     "execution_count": 9,
     "metadata": {},
     "output_type": "execute_result"
    }
   ],
   "source": [
    "len(lista)"
   ]
  },
  {
   "cell_type": "code",
   "execution_count": 10,
   "id": "1783f5ad-c4b8-4f0e-9a0b-d1b05151303f",
   "metadata": {},
   "outputs": [
    {
     "name": "stdout",
     "output_type": "stream",
     "text": [
      "1 -> 2 -> 3 -> None\n"
     ]
    }
   ],
   "source": [
    "print(lista)"
   ]
  },
  {
   "cell_type": "code",
   "execution_count": 11,
   "id": "5bed154b-3b1b-4dce-b784-b726c49a2ace",
   "metadata": {},
   "outputs": [
    {
     "data": {
      "text/plain": [
       "ListaEnlazada :1 -> 2 -> 3 -> None"
      ]
     },
     "execution_count": 11,
     "metadata": {},
     "output_type": "execute_result"
    }
   ],
   "source": [
    "lista"
   ]
  },
  {
   "cell_type": "markdown",
   "id": "e8fb4f14-c464-41a2-9d8e-de38305dd664",
   "metadata": {},
   "source": [
    "## ¿Cuáles son las desventajas y los costos asociados con las listas enlazadas en comparación con otras estructuras de datos de Python?\n",
    "\n",
    "GPT : Las listas enlazadas tienen varias ventajas, como la capacidad de agregar y eliminar elementos de manera eficiente, pero también presentan numerosas desventajas y costos asociativos en comparación con otras estructuras de datos, como las listas de Python (que son en realidad arreglos dinámicos en implementación).  \n",
    "\n",
    "A continuación, se detallan algunos de estos aspectos:"
   ]
  },
  {
   "cell_type": "markdown",
   "id": "4c13382e-f2bf-4be8-9558-0b3fd5489288",
   "metadata": {},
   "source": [
    "### Desventajas de las listas enlazadas:\n",
    "\n",
    "1. **Acceso a elementos**:\n",
    "   - **Costo**: O(n)\n",
    "   - Las listas enlazadas no permiten el acceso aleatorio a elementos. Para acceder a un elemento en la lista enlazada, es necesario recorrer desde la cabeza hasta el nodo deseado, lo que puede llevar tiempo lineal en el peor de los casos. En cambio, las listas de Python permiten el acceso en tiempo constate (O(1)) por índice.\n",
    "2. **Uso de memoria**:\n",
    "   - **Costo**: Mayor uso de memoria por nodo.\n",
    "   - Cada nodo de una lista enlazada requiere memoria adicional para almacenar un puntero (o enlace) al siguiente nodo. Esto puede hacer que las listas enlazadas utilicen más memoria que una lista de Python, que almacena los elementos de manera contigua.\n",
    "3. **Cache locality**:\n",
    "   - Las listas enlazadas pueden llevar a una peor localidad de caché. Dado que los nodos pueden estar dispersos en la memoria, acceder a elementos adyacentes puede resultar menos eficiente en términos de uso de memoria caché en comparación con estructuras de datos que almacenan elementos de forma contigua, como las listas de Python.\n",
    "4. **Complejidad en la implementación**:\n",
    "   - La implementación de una lista enlazada puede ser más compleja que el uso de listas de Python. Aunque las listas enlazadas son una buena introducción a la programación de estructuras de datos, a menudo requieren más código y lógica para manejar ciertas operaciones como la inserción, eliminación y búsqueda.\n",
    "5. **Patrón de acceso menos eficiente**:\n",
    "   - Los algoritmos que dependen de patrones de acceso a memoria contigua (como muchos algoritmos de ordenación o búsqueda) pueden ser más lentos cuando se usan listas enlazadas, ya que el acceso a elementos en memoria no es predecible y puede requerir múltiples cargas de memoria.\n",
    "\n",
    "### Comparación con otras estructuras de datos:\n",
    "\n",
    "- **Listas de Python**:\n",
    "  - **Acceso**: O(1) por índice vs. O(n) en listas enlazadas.\n",
    "  - **Inserción y eliminación**: Promocionan O(n) en el peor de los casos (si el evento ocurre al final) vs. O(1) en listas enlazadas (si se inserta o elimina al inicio).\n",
    "- **Arreglos**:\n",
    "  - Al igual que las listas de Python, permiten acceso rápido por índice, pero tienen un tamaño fijo en muchas implementaciones. Las listas enlazadas ofrecen una mayor flexibilidad en el tamaño.\n",
    "- **Otras estructuras de datos (pilas, colas, diccionarios)**:\n",
    "  - Dependiendo de la implementación, a veces es mejor usar una lista enlazada para pilas o colas. Sin embargo, para el acceso rápido a elementos, las estructuras como diccionarios (que tienen acceso promedio O(1)) pueden ser más eficientes.\n",
    "\n",
    "En resumen, aunque las listas enlazadas tienen sus aplicaciones y son útiles en ciertas circunstancias, a menudo no son la opción más eficiente en términos de tiempo y memoria para muchas de las operaciones comunes que se realizan en los programas. La elección de la estructura de datos apropiada depende del caso de uso específico y de los requerimientos del programa."
   ]
  },
  {
   "cell_type": "markdown",
   "id": "5e1e6098-c456-44d7-9845-ead660a18829",
   "metadata": {
    "jp-MarkdownHeadingCollapsed": true
   },
   "source": [
    "### podes aclararme mejor el punto 3 y por que seria una desventaja  \n",
    "\n",
    "GPT : Claro, el punto 3 se refiere a la **localidad de caché** y cómo afecta al rendimiento de las listas enlazadas en comparación con otras estructuras d\n",
    "e datos, específicamente aquellas que almacenan elementos contiguos, como las listas (arreglos dinámicos) en Python."
   ]
  },
  {
   "cell_type": "markdown",
   "id": "efbd9304-777e-4135-8e91-6bf23b338d03",
   "metadata": {},
   "source": [
    "#### Localidad de Caché"
   ]
  },
  {
   "cell_type": "markdown",
   "id": "e4f4af80-87bc-4af3-8f91-eb3a3586de4a",
   "metadata": {
    "jp-MarkdownHeadingCollapsed": true
   },
   "source": [
    "La **localidad de caché** se refiere a la forma en que las CPU acceden a la memoria y cómo el diseño de la memoria y la arquitectura de la CPU afectan la velocidad de acceso a datos. Existen dos tipos principales de localidad:\n",
    "\n",
    "1. **Localidad temporal**: Si un dato se ha accedido recientemente, es probable que se vuelva a acceder pronto.\n",
    "2. **Localidad espacial**: Si un dato en una dirección de memoria se accede, es probable que los datos cercanos en la memoria también se accedan pronto."
   ]
  },
  {
   "cell_type": "markdown",
   "id": "1a14295d-aae0-4439-8ab6-d4a7657103cd",
   "metadata": {},
   "source": [
    "##### **Desventaja de las Listas Enlazadaz**"
   ]
  },
  {
   "cell_type": "markdown",
   "id": "2039de02-32e1-4dd3-9215-6e493b90a009",
   "metadata": {},
   "source": [
    "**Dispersión en la Memoria**\n",
    "1. **Almacenamiento No Contiguo**: \n",
    "  - Un problema con las listas enlazadas es que los nodos pueden estar dispersos por toda la memoria. Cuando se añade un nodo, puede ser almacenado en cualquier lugar que tenga espacio disponible. Esto contrasta con estructuras como las listas de Python, donde los elementos están almacenados de manera contigua.\n",
    "2. **Acceso y Rendimiento**:\n",
    "  - Dado que los nodos de una lista enlazada pueden estar en ubicaciones de memoria completamente distintas, el acceso a elementos adyacentes puede requerir cargar diferentes bloques de memoria, lo que a su vez puede implicar acceder a diferentes líneas de caché.\n",
    "   - Cuando intentas acceder a elementos que están cerca entre sí (como en una operación de búsqueda o recorrido), la CPU espera que esos datos estén disponibles en caché. Sin embargo, en el caso de listas enlazadas, dado que los nodos pueden no estar contiguos, es menos probable que se acceda a ellos con la misma eficiencia que si estuvieran juntos (como en una lista de Python).\n",
    "3. **Impacto en el Rendimiento**\n",
    "  - **Más Fallos de Caché**:\n",
    "    - Al acceder a una lista enlazada, es posible que se produzcan más \"fallos en caché\", lo que significa que la CPU tendrá que ir a la memoria principal para obtener los datos. Esto es mucho más lento que obtener los datos de la caché de la CPU.\n",
    "  - **Latencia**: \n",
    "    - Cada vez que la CPU necesita acceder a una ubicación de memoria que no está en caché, experimenta una latencia que puede ralentizar el rendimiento general del programa."
   ]
  },
  {
   "cell_type": "markdown",
   "id": "496a4d27-1867-4c7c-ad0d-a52919f77a40",
   "metadata": {},
   "source": [
    "##### **Comparación con Listas Contiguas**"
   ]
  },
  {
   "cell_type": "markdown",
   "id": "f74401a9-a222-4962-8305-45508a67b41d",
   "metadata": {},
   "source": [
    "En contraste, cuando usas listas que son contiguas en memoria (como las listas en Python), el acceso a datos adyacentes es mucho más eficiente. Los sistemas de caché están diseñados para trabajar de manera óptima con datos que están agrupados, lo que significa que:\n",
    "\n",
    "- Cuando se accede a un elemento, puede que se carguen varios elementos adyacentes en caché, lo que hace que accesos posteriores sean mucho más rápidos."
   ]
  },
  {
   "cell_type": "markdown",
   "id": "faeb15a6-4413-48fe-98e0-373d5a099006",
   "metadata": {
    "jp-MarkdownHeadingCollapsed": true
   },
   "source": [
    "#### Coclusión\n",
    "\n",
    "La menor localidad de caché en listas enlazadas se traduce en un menor rendimiento en muchas situaciones donde se accede repetidamente a los elementos. Por esta razón, en aplicaciones donde el rendimiento es crítico y se hacen muchas operaciones de lectura, las listas enlazadas podrían no ser la elección más eficiente en comparación con estructuras de datos que utilizan almacenamiento contiguo."
   ]
  },
  {
   "cell_type": "markdown",
   "id": "03e19de9",
   "metadata": {
    "jp-MarkdownHeadingCollapsed": true
   },
   "source": [
    "## como mejorarias en eficiencia y en manejo de errores mi lista enlazada"
   ]
  },
  {
   "cell_type": "markdown",
   "id": "2b313085",
   "metadata": {},
   "source": [
    "GPT : Para mejorar la eficiencia y el manejo de errores de tu lista enlazada, puedes considerar las siguientes sugerencias:\n",
    "\n",
    "1. Uso de excepciones para el manejo de errores: Implementa excepciones para manejar errores como intentos de acceso a nodos inexistentes o operaciones en una lista vacía.\n",
    "\n",
    "Optimización de operaciones comunes: Asegúrate de que las operaciones comunes como inserción, eliminación y búsqueda sean lo más eficientes posible. Por ejemplo, mantener una referencia al último nodo puede hacer que las inserciones al final de la lista sean O(1) en lugar de O(n).\n",
    "\n",
    "Documentación y pruebas unitarias: Asegúrate de documentar bien tu código y de escribir pruebas unitarias para verificar que todas las operaciones de la lista enlazada funcionen correctamente.\n",
    "\n",
    "Uso de nodos centinela: Considera el uso de nodos centinela (dummy nodes) para simplificar la lógica de inserción y eliminación, especialmente en listas doblemente enlazadas.\n",
    "\n",
    "Aquí tienes un ejemplo de cómo podrías implementar algunas de estas mejoras en Python:"
   ]
  },
  {
   "cell_type": "code",
   "execution_count": 80,
   "id": "c931c60f",
   "metadata": {},
   "outputs": [],
   "source": [
    "class Node:\n",
    "    def __init__(self, valor=None):\n",
    "        self.valor = valor\n",
    "        self.proximo = None\n",
    "\n",
    "class LinkedList:\n",
    "    def __init__(self):\n",
    "        self.inicio = None\n",
    "        self.final = None\n",
    "        self.longitud = 0\n",
    "\n",
    "    def _esta_vacia(self):\n",
    "        return self.longitud == 0\n",
    "\n",
    "    def append(self, valor):\n",
    "        nodo_nuevo = Node(valor)\n",
    "        if self._esta_vacia():\n",
    "            self.inicio = nodo_nuevo\n",
    "            self.final  = nodo_nuevo\n",
    "        else:\n",
    "            self.final.proximo = nodo_nuevo\n",
    "            self.final = nodo_nuevo\n",
    "        self.longitud += 1\n",
    "\n",
    "    def prepend(self, valor):\n",
    "        nodo_nuevo = Node(valor)\n",
    "        if self._esta_vacia():\n",
    "            self.head = nodo_nuevo\n",
    "            self.tail = nodo_nuevo\n",
    "        else:\n",
    "            nodo_nuevo.proximo = self.inicio\n",
    "            self.inicio = nodo_nuevo\n",
    "        self.longitud += 1\n",
    "\n",
    "    def delete(self, valor):\n",
    "        if self._esta_vacia():\n",
    "            raise ValueError(\"La lista está vacía\")\n",
    "        \n",
    "        actual = self.inicio\n",
    "        previo = None\n",
    "\n",
    "        while actual is not None:\n",
    "            if actual.valor == valor:\n",
    "                if previo is None:\n",
    "                    self.inicio = actual.next\n",
    "                else:\n",
    "                    previo.proximo = actual.proximo\n",
    "\n",
    "                if actual.proximo is None:\n",
    "                    self.final = previo\n",
    "\n",
    "                self.longitud -= 1\n",
    "                return\n",
    "            previo = actual\n",
    "            actual = actual.proximo\n",
    "\n",
    "        raise ValueError(\"El elemento no se encuentra en la lista\")\n",
    "\n",
    "    def index(self, valor):\n",
    "        actual = self.inicio\n",
    "        indice = 0\n",
    "        while actual is not None:\n",
    "            if actual.valor == valor:\n",
    "                return indice\n",
    "            actual = actual.proximo\n",
    "            indice +=1\n",
    "        else:\n",
    "            raise ValueError (f\"{valor} no esta en la lista\")\n",
    "\n",
    "    def __len__(self):\n",
    "        return self.longitud\n",
    "\n",
    "    def __iter__(self):\n",
    "        actual = self.inicio\n",
    "        while actual is not None:\n",
    "            yield actual.valor\n",
    "            actual = actual.proximo\n",
    "\n",
    "    def __str__(self):\n",
    "        actual = self.inicio\n",
    "        string = \"\"\n",
    "        while actual is not None:\n",
    "                string += str(actual.valor) + \" -> \"\n",
    "                actual = actual.proximo\n",
    "        else:\n",
    "            string += str(actual) # Indica el final de la lista\n",
    "        return string\n",
    "\n",
    "    def __repr__(self):\n",
    "        return \"ListaEnlazada :\" + str(self)\n",
    "\n",
    "    \n",
    "    "
   ]
  },
  {
   "cell_type": "markdown",
   "id": "5b4d2dff-5a2a-4a05-b979-2276f14dfc5f",
   "metadata": {},
   "source": [
    "Mejoras implementadas:\n",
    "\n",
    "- Excepciones:\n",
    "    - Se utilizan excepciones para manejar errores como la eliminación de un elemento en una lista vacía o la búsqueda de un elemento inexistente.\n",
    "- Optimización:\n",
    "    - Se mantiene una referencia al último nodo (final) para hacer que las inserciones al final de la lista sean O(1).\n",
    "- Renombrar Métodos:\n",
    "    - Cambio de `agregar_nodo` a `append` , ayuda para la compatibilidad de codigo con listas de python.\n",
    "- Métodos adicionales:\n",
    "    - Para mejorar la usabilidad y eficiencia de la lista enlazada.\n",
    "    - Métodos como :\n",
    "        - `_esta_vacia`:\n",
    "          - Devuelve True si la lista esta vacia.\n",
    "        - `prepend` :\n",
    "          - Agrega un elemento en al principio de la lista.\n",
    "        - `delete`:\n",
    "          - Elimina un elemento de la lista.\n",
    "        - `index`:\n",
    "          - Devuelve el indice del elemento en la lista (Falta la implementacion de acceder al indice) , actua igual que index de las listas de python.     \n",
    "        - `__len__` :\n",
    "          - Devuelve la longitud cuando se invoca la lista con la funcion `len`.\n",
    "        - `__iter__`:\n",
    "          - Permite iterar la lista con un bucle `for` o invocarlo con `next` previo tranformacion a generator con `iter`\n",
    "     "
   ]
  },
  {
   "cell_type": "code",
   "execution_count": 81,
   "id": "11130d49",
   "metadata": {},
   "outputs": [
    {
     "data": {
      "text/plain": [
       "ListaEnlazada :None"
      ]
     },
     "execution_count": 81,
     "metadata": {},
     "output_type": "execute_result"
    }
   ],
   "source": [
    "lista = LinkedList()\n",
    "lista"
   ]
  },
  {
   "cell_type": "code",
   "execution_count": 82,
   "id": "560d83b2",
   "metadata": {},
   "outputs": [],
   "source": [
    "lista.append(1)\n",
    "lista.append(2)\n",
    "lista.append(3)\n",
    "lista.append(4)"
   ]
  },
  {
   "cell_type": "code",
   "execution_count": 83,
   "id": "59979d89",
   "metadata": {},
   "outputs": [
    {
     "data": {
      "text/plain": [
       "4"
      ]
     },
     "execution_count": 83,
     "metadata": {},
     "output_type": "execute_result"
    }
   ],
   "source": [
    "len(lista)"
   ]
  },
  {
   "cell_type": "code",
   "execution_count": 84,
   "id": "62a704d4",
   "metadata": {},
   "outputs": [
    {
     "name": "stdout",
     "output_type": "stream",
     "text": [
      "1 -> 2 -> 3 -> 4 -> None\n"
     ]
    }
   ],
   "source": [
    "print(lista)"
   ]
  },
  {
   "cell_type": "code",
   "execution_count": 85,
   "id": "5e203bd6",
   "metadata": {},
   "outputs": [],
   "source": [
    "lista.prepend(0)"
   ]
  },
  {
   "cell_type": "code",
   "execution_count": 86,
   "id": "68ff6358",
   "metadata": {},
   "outputs": [
    {
     "data": {
      "text/plain": [
       "ListaEnlazada :0 -> 1 -> 2 -> 3 -> 4 -> None"
      ]
     },
     "execution_count": 86,
     "metadata": {},
     "output_type": "execute_result"
    }
   ],
   "source": [
    "lista"
   ]
  },
  {
   "cell_type": "code",
   "execution_count": 89,
   "id": "5722f0d2",
   "metadata": {},
   "outputs": [
    {
     "data": {
      "text/plain": [
       "4"
      ]
     },
     "execution_count": 89,
     "metadata": {},
     "output_type": "execute_result"
    }
   ],
   "source": [
    "lista.index(4)"
   ]
  },
  {
   "cell_type": "code",
   "execution_count": 90,
   "id": "5c807330",
   "metadata": {},
   "outputs": [
    {
     "ename": "ValueError",
     "evalue": "5 no esta en la lista",
     "output_type": "error",
     "traceback": [
      "\u001b[1;31m---------------------------------------------------------------------------\u001b[0m",
      "\u001b[1;31mValueError\u001b[0m                                Traceback (most recent call last)",
      "Input \u001b[1;32mIn [90]\u001b[0m, in \u001b[0;36m<cell line: 1>\u001b[1;34m()\u001b[0m\n\u001b[1;32m----> 1\u001b[0m \u001b[43mlista\u001b[49m\u001b[38;5;241;43m.\u001b[39;49m\u001b[43mindex\u001b[49m\u001b[43m(\u001b[49m\u001b[38;5;241;43m5\u001b[39;49m\u001b[43m)\u001b[49m\n",
      "Input \u001b[1;32mIn [80]\u001b[0m, in \u001b[0;36mLinkedList.index\u001b[1;34m(self, valor)\u001b[0m\n\u001b[0;32m     66\u001b[0m     indice \u001b[38;5;241m+\u001b[39m\u001b[38;5;241m=\u001b[39m\u001b[38;5;241m1\u001b[39m\n\u001b[0;32m     67\u001b[0m \u001b[38;5;28;01melse\u001b[39;00m:\n\u001b[1;32m---> 68\u001b[0m     \u001b[38;5;28;01mraise\u001b[39;00m \u001b[38;5;167;01mValueError\u001b[39;00m (\u001b[38;5;124mf\u001b[39m\u001b[38;5;124m\"\u001b[39m\u001b[38;5;132;01m{\u001b[39;00mvalor\u001b[38;5;132;01m}\u001b[39;00m\u001b[38;5;124m no esta en la lista\u001b[39m\u001b[38;5;124m\"\u001b[39m)\n",
      "\u001b[1;31mValueError\u001b[0m: 5 no esta en la lista"
     ]
    }
   ],
   "source": [
    "lista.index(5) # no se encontro el elemento"
   ]
  },
  {
   "cell_type": "code",
   "execution_count": 66,
   "id": "4bd9a037",
   "metadata": {},
   "outputs": [],
   "source": [
    "lis_gen = iter(lista) # transforma la lista en un generador"
   ]
  },
  {
   "cell_type": "code",
   "execution_count": 67,
   "id": "b169181a-4932-498e-8bee-e4bebe14d819",
   "metadata": {},
   "outputs": [
    {
     "data": {
      "text/plain": [
       "generator"
      ]
     },
     "execution_count": 67,
     "metadata": {},
     "output_type": "execute_result"
    }
   ],
   "source": [
    "type(lis_gen)"
   ]
  },
  {
   "cell_type": "code",
   "execution_count": 68,
   "id": "d0a9bc70-fe33-4721-bdc9-6435c4584ca4",
   "metadata": {},
   "outputs": [
    {
     "data": {
      "text/plain": [
       "0"
      ]
     },
     "execution_count": 68,
     "metadata": {},
     "output_type": "execute_result"
    }
   ],
   "source": [
    "next(lis_gen)"
   ]
  },
  {
   "cell_type": "code",
   "execution_count": 69,
   "id": "731585ac-89e8-4c07-b938-fbd12a793eb6",
   "metadata": {},
   "outputs": [
    {
     "data": {
      "text/plain": [
       "1"
      ]
     },
     "execution_count": 69,
     "metadata": {},
     "output_type": "execute_result"
    }
   ],
   "source": [
    "next(lis_gen)"
   ]
  },
  {
   "cell_type": "code",
   "execution_count": 72,
   "id": "c473f402-2706-4707-853d-d3163a636dff",
   "metadata": {},
   "outputs": [],
   "source": [
    "py_list = []\n",
    "py_list.append(0)\n",
    "py_list.append(2)\n",
    "py_list.append(3)\n",
    "py_list.append(4)"
   ]
  },
  {
   "cell_type": "code",
   "execution_count": 73,
   "id": "c5d7a92b-c447-49b3-bd11-c97090c00dac",
   "metadata": {},
   "outputs": [
    {
     "name": "stdout",
     "output_type": "stream",
     "text": [
      "0 -> 1 -> 2 -> 3 -> 4 -> None\n",
      "[0, 2, 3, 4]\n"
     ]
    }
   ],
   "source": [
    "print(lista)\n",
    "print(py_list)"
   ]
  },
  {
   "cell_type": "code",
   "execution_count": 74,
   "id": "a8b3abea-e4c2-4f3a-a477-ea73ca2cd6c2",
   "metadata": {},
   "outputs": [
    {
     "data": {
      "text/plain": [
       "0"
      ]
     },
     "execution_count": 74,
     "metadata": {},
     "output_type": "execute_result"
    }
   ],
   "source": [
    "lista.find(0)"
   ]
  },
  {
   "cell_type": "code",
   "execution_count": 78,
   "id": "df401724-de01-47a7-970c-1c4ed9f5908b",
   "metadata": {},
   "outputs": [
    {
     "ename": "ValueError",
     "evalue": "5 is not in list",
     "output_type": "error",
     "traceback": [
      "\u001b[1;31m---------------------------------------------------------------------------\u001b[0m",
      "\u001b[1;31mValueError\u001b[0m                                Traceback (most recent call last)",
      "Input \u001b[1;32mIn [78]\u001b[0m, in \u001b[0;36m<cell line: 1>\u001b[1;34m()\u001b[0m\n\u001b[1;32m----> 1\u001b[0m \u001b[43mpy_list\u001b[49m\u001b[38;5;241;43m.\u001b[39;49m\u001b[43mindex\u001b[49m\u001b[43m(\u001b[49m\u001b[38;5;241;43m5\u001b[39;49m\u001b[43m)\u001b[49m\n",
      "\u001b[1;31mValueError\u001b[0m: 5 is not in list"
     ]
    }
   ],
   "source": [
    "py_list.index(5)"
   ]
  },
  {
   "cell_type": "markdown",
   "id": "0ecb7c8f-6a72-4c31-bd0b-1fb1c7912804",
   "metadata": {
    "jp-MarkdownHeadingCollapsed": true
   },
   "source": [
    "## Ahora me pongo en rol de programador y genero codigo como este:"
   ]
  },
  {
   "cell_type": "code",
   "execution_count": 10,
   "id": "f41a3035",
   "metadata": {},
   "outputs": [],
   "source": [
    "class MiListaEnlazada(LinkedList):\n",
    "\n",
    "    def __getitem__(self, index):\n",
    "        if isinstance(index, slice):\n",
    "            inicio, final, paso = index.indices(self.longitud)\n",
    "            nueva_lista = MiListaEnlazada()\n",
    "            for i in range(inicio, final, paso):\n",
    "                nueva_lista.append(self[i])\n",
    "            return nueva_lista\n",
    "        if index < 0:\n",
    "            index += self.longitud\n",
    "        if index >= self.longitud:\n",
    "            raise IndexError(\"Indice fuera de rango\")\n",
    "        \n",
    "        actual = self.inicio\n",
    "        for i in range(index):\n",
    "            actual = actual.proximo\n",
    "        return actual.valor"
   ]
  },
  {
   "cell_type": "markdown",
   "id": "1b1f71e6-d9f6-4bc6-b6c3-e3a10e3d4a13",
   "metadata": {},
   "source": [
    "### necesito que me generes comentarios y expliques como funciona el siguiente codigo :\n",
    "\n",
    "```python\n",
    "class MiListaEnlazada(LinkedList):\n",
    "\n",
    "    def __getitem__(self, index):\n",
    "        if isinstance(index, slice):\n",
    "            inicio, final, paso = index.indices(self.longitud)\n",
    "            nueva_lista = MiListaEnlazada()\n",
    "            for i in range(inicio, final, paso):\n",
    "                nueva_lista.append(self[i])\n",
    "            return nueva_lista\n",
    "        if index < 0:\n",
    "            index += self.longitud\n",
    "        if index >= self.longitud:\n",
    "            raise IndexError(\"Indice fuera de rango\")\n",
    "        \n",
    "        actual = self.inicio\n",
    "        for i in range(index):\n",
    "            actual = actual.proximo\n",
    "        return actual.valor\n",
    "```"
   ]
  },
  {
   "cell_type": "markdown",
   "id": "d87a54a4-6048-4bf3-97cd-aafe9fe543aa",
   "metadata": {},
   "source": [
    "GPT : Vamos a desglosar y explicar el código de la clase `MiListaEnlazada`, que extiende (hereda) de una clase `LinkedList`. Esta implementación parece ser una versión de una lista enlazada que permite el acceso a sus elementos utilizando la notación de corchetes, similar a las listas nativas de Python.  \n",
    "Aquí están los comentarios y explicaciones sobre cómo funciona cada parte del código:\n",
    "\n",
    "```python\n",
    "class MiListaEnlazada(LinkedList):\n",
    "```\n",
    "- **Definición de Clase**: Se define la clase `MiListaEnlazada` que hereda de `LinkedList`, lo cual sugiere que `MiListaEnlazada` tiene todas las funcionalidades de la clase base `LinkedList`.\n",
    "\n",
    "```python\n",
    "    def __getitem__(self, index):\n",
    "```\n",
    "- **Método `__getitem__`**: Este método especial permite que la clase se comporte como una lista, es decir, se puede acceder a sus elementos utilizando la notación de corchetes `mi_lista_enlazada[i]`.\n",
    "\n",
    "```python\n",
    "        if isinstance(index, slice):\n",
    "```\n",
    "- **Verificación de Slicing**: Se verifica si el índice proporcionado es un objeto de tipo `slice`, lo cual se utiliza para obtener un rango de elementos de la lista.\n",
    "\n",
    "```python\n",
    "            inicio, final, paso = index.indices(self.longitud)\n",
    "```\n",
    "- **Obteniendo los Límites del Slicing**: El método `indices` del objeto `slice` transforma el índice de segmento en valores `inic\n",
    "io`, `final`, y `paso` en función de la longitud de la lista. Esto es útil para evitar errores o accesos fuera de rango.\n",
    "\n",
    "```python\n",
    "            nueva_lista = MiListaEnlazada()\n",
    "```\n",
    "- **Creación de Nueva Lista**: Se crea una nueva instancia de `MiListaEnlazada` para almacenar los elementos que se extraerán con \n",
    "el slicing.\n",
    "\n",
    "```python\n",
    "            for i in range(inicio, final, paso):\n",
    "```\n",
    "- **Iteración sobre el Rango**: Se itera desde el índice `inicio` hasta `final` con el `paso` definido, para recopilar los element\n",
    "os especificados por el rango.\n",
    "\n",
    "```python\n",
    "                nueva_lista.append(self[i])\n",
    "```\n",
    "- **Adición de Elementos**: Para cada índice en el rango, se agrega el elemento correspondiente a `nueva_lista` usando el método `\n",
    "append`, que se asume que está definido en `LinkedList`.\n",
    "\n",
    "```python\n",
    "            return nueva_lista\n",
    "```\n",
    "- **Retorno de Nueva Lista**: Finalmente, se devuelve la nueva lista que contiene los elementos solicitados.\n",
    "\n",
    "```python\n",
    "        if index < 0:\n",
    "            index += self.longitud\n",
    "```\n",
    "- **Manejo de Índices Negativos**: Si el índice es negativo, se ajusta sumándole la longitud de la lista. Esto permite acceder a e\n",
    "lementos desde el final de la lista de manera similar a como lo hace Python con las listas nativas.\n",
    "\n",
    "```python\n",
    "        if index >= self.longitud:\n",
    "            raise IndexError(\"Indice fuera de rango\")\n",
    "```\n",
    "- **Verificación de Rangos**: Se lanza una excepción `IndexError` si el índice ajustado está fuera del rango de la longitud de la \n",
    "lista, evitando así accesos incorrectos.\n",
    "\n",
    "```python\n",
    "        actual = self.inicio\n",
    "```\n",
    "- **Inicialización del Nodo Actual**: Se crea una referencia llamada `actual` que se inicializa al primer nodo `inicio` de la list\n",
    "a enlazada.\n",
    "\n",
    "```python\n",
    "        for i in range(index):\n",
    "            actual = actual.proximo\n",
    "```\n",
    "- **Navegación en la Lista**: Se itera desde 0 hasta el índice deseado, actualizando `actual` al siguiente nodo en cada iteración \n",
    "hasta llegar al nodo correspondiente.\n",
    "\n",
    "```python\n",
    "        return actual.valor\n",
    "```\n",
    "- **Retorno del Valor**: Finalmente, se retorna el valor del nodo que se ha alcanzado, permitiendo acceder al elemento deseado de \n",
    "la lista.\n",
    "\n",
    "### Resumen\n",
    "El método `__getitem__` de la clase `MiListaEnlazada` permite tanto acceder a elementos individuales con índices como crear sub-listas utilizando slicing. Esto ofrece a los usuarios de `MiListaEnlazada` una interfaz similar a la de las listas nativas de Python\n",
    ", mientras que la estructura subyacente sigue siendo una lista enlazada.   \n",
    "La implementación también maneja adecuadamente entradas fuera de rango y proporciona un comportamiento intuitivo para índices negativos."
   ]
  },
  {
   "cell_type": "code",
   "execution_count": 11,
   "id": "b7e26ad8",
   "metadata": {},
   "outputs": [],
   "source": [
    "lista = MiListaEnlazada()\n",
    "lista.append(1)\n",
    "lista.append(2)\n",
    "lista.append(3)\n",
    "lista.append(4)\n",
    "lista.append(5)\n"
   ]
  },
  {
   "cell_type": "code",
   "execution_count": 12,
   "id": "271e627a",
   "metadata": {},
   "outputs": [
    {
     "name": "stdout",
     "output_type": "stream",
     "text": [
      "1 -> 2 -> 3 -> 4 -> 5 -> None\n"
     ]
    }
   ],
   "source": [
    "\n",
    "print(lista)\n"
   ]
  },
  {
   "cell_type": "code",
   "execution_count": 13,
   "id": "c3db5730",
   "metadata": {},
   "outputs": [],
   "source": [
    "nueva_lista = lista[1:3:1]\n"
   ]
  },
  {
   "cell_type": "code",
   "execution_count": 14,
   "id": "1cbb8f7e",
   "metadata": {},
   "outputs": [
    {
     "data": {
      "text/plain": [
       "ListaEnlazada :2 -> 3 -> None"
      ]
     },
     "execution_count": 14,
     "metadata": {},
     "output_type": "execute_result"
    }
   ],
   "source": [
    "nueva_lista"
   ]
  },
  {
   "cell_type": "code",
   "execution_count": 15,
   "id": "7b6fd98f",
   "metadata": {},
   "outputs": [
    {
     "name": "stdout",
     "output_type": "stream",
     "text": [
      "5 -> 4 -> 3 -> 2 -> 1 -> None\n"
     ]
    }
   ],
   "source": [
    "print(lista[::-1])\n"
   ]
  },
  {
   "cell_type": "code",
   "execution_count": 16,
   "id": "179956e0",
   "metadata": {},
   "outputs": [
    {
     "data": {
      "text/plain": [
       "5"
      ]
     },
     "execution_count": 16,
     "metadata": {},
     "output_type": "execute_result"
    }
   ],
   "source": [
    "lista[-1]"
   ]
  },
  {
   "cell_type": "code",
   "execution_count": 17,
   "id": "d1e8cf61",
   "metadata": {},
   "outputs": [
    {
     "data": {
      "text/plain": [
       "4"
      ]
     },
     "execution_count": 17,
     "metadata": {},
     "output_type": "execute_result"
    }
   ],
   "source": [
    "lista.find(5)"
   ]
  },
  {
   "cell_type": "code",
   "execution_count": null,
   "id": "e4450807-d8d4-4aea-9e45-56836768da59",
   "metadata": {},
   "outputs": [],
   "source": []
  },
  {
   "cell_type": "code",
   "execution_count": null,
   "id": "36a51b17-fbca-4825-bf66-5421aff67d97",
   "metadata": {},
   "outputs": [],
   "source": []
  },
  {
   "cell_type": "markdown",
   "id": "31b205a1-2199-438c-8aaf-4dc769be6553",
   "metadata": {
    "jp-MarkdownHeadingCollapsed": true
   },
   "source": [
    "## ahora podes implementar el metodo `__setitem__` con compatibilidad de slide y chequea que el slide tenga la misma cantidad de elementos que se quieren cambiar\n",
    "\n",
    "GPT :Para implementar el método `__setitem__` en la clase `MiListaEnlazada`, debemos considerar la funcionalidad de asignación de valores a elementos individuales y a segmentos de la \n",
    "lista utilizando slicing. Además, debemos asegurarnos de que, al utilizar slicing, el número de elementos proporcionados coincida con el número de elementos que se desean modificar.  "
   ]
  },
  {
   "cell_type": "markdown",
   "id": "cd6e5465-823c-4412-a541-6694481620cf",
   "metadata": {},
   "source": [
    "Aquí está la implementación de `__setitem__`, que incluye verificaciones adecuadas para el caso de slicing:\n",
    "\n",
    "```python\n",
    "class MiListaEnlazada(LinkedList):\n",
    "\n",
    "    def __getitem__(self, index):\n",
    "        # Código anterior para __getitem__...\n",
    "\n",
    "    def __setitem__(self, index, value):\n",
    "        if isinstance(index, slice):\n",
    "            # Obtener límites del slice\n",
    "            inicio, final, paso = index.indices(self.longitud)\n",
    "\n",
    "            # Verificar que el número de elementos a asignar es igual al número de elementos a cambiar\n",
    "            if isinstance(value, MiListaEnlazada):\n",
    "                if len(value) != (final - inicio) // paso:\n",
    "                    raise ValueError(\"El número de elementos en la asignación no coincide con el número de elementos a cambiar.\")\n",
    "                # Asignación en caso de que value sea una instancia de MiListaEnlazada\n",
    "                for i, val in zip(range(inicio, final, paso), value):\n",
    "                    self[i] = val\n",
    "            else:\n",
    "                # Si 'value' no es una lista enlazada, tratarlo como una lista normal\n",
    "                if len(value) != (final - inicio) // paso:\n",
    "                    raise ValueError(\"El número de elementos en la asignación no coincide con el número de elementos a cambiar.\")\n",
    "                for i, val in zip(range(inicio, final, paso), value):\n",
    "                    self[i] = val\n",
    "            return\n",
    "\n",
    "        if index < 0:\n",
    "            index += self.longitud\n",
    "\n",
    "        if index >= self.longitud:\n",
    "            raise IndexError(\"Indice fuera de rango\")\n",
    "\n",
    "        # Asignar el nuevo valor al nodo correspondiente\n",
    "        actual = self.inicio\n",
    "        for i in range(index):\n",
    "            actual = actual.proximo\n",
    "        actual.valor = value\n",
    "```\n",
    "\n",
    "### Explicación del Código\n",
    "\n",
    "1. **Definición del Método**: El método `__setitem__` permite modificar el valor de un elemento o un rango de elementos en la lista enlazada.\n",
    "2. **Verificación de Slicing**: Se comprueba si el `index` es de tipo `slice`. Si lo es, se obtienen los límites `inicio`, `final`, y `paso`.\n",
    "3. **Comprobación de Tamaño**:\n",
    "   - Se verifica que el número de elementos en `value` sea igual a la cantidad de elementos que queremos cambiar. Esto se calcula como `(final - inicio) // paso`.\n",
    "   - Si hay una discrepancia en la cantidad de elementos, se lanza un `ValueError`.\n",
    "4. **Asignación en Slicing**:\n",
    "   - Se recorre el rango determinado utilizando `zip` para combinar cada posición del rango (usando el índice calculado) con su correspondiente valor en `value`.\n",
    "   - Se asignan los valores usando `self[i] = val`, que llama a `__setitem__` nuevamente para gestionar correctamente la lógica de la lista enlazada.\n",
    "5. **Manejo de Índices Negativos**: Si `index` no es un `slice`, se maneja de la misma forma que en `__getitem__`, ajustando el índice si es negativo.\n",
    "6. **Comprobación de Índices Fuera de Rango**: Se lanza un `IndexError` si el índice está fuera del rango válido de la lista.\n",
    "7. **Asignación de Valor Individual**:\n",
    "   - Para un índice individual, se recorre la lista hasta llegar al nodo correspondiente y se actualiza su valor directamente.\n",
    "\n",
    "### Consideraciones\n",
    "- Asegúrate de que el método `append` y otros métodos utilizados en la clase base `LinkedList` funcionen correctamente con el tipo de datos que se espera.\n",
    "- La implementación asume que los valores pueden ser tanto instancias de `MiListaEnlazada` como listas normales. Si deseas restringirlo a un tipo específico, puedes modificar la lógic\n",
    "a de verificación correspondiente."
   ]
  },
  {
   "cell_type": "markdown",
   "id": "2c65fcde-3a90-46c2-b93b-fa1d6361e7dc",
   "metadata": {},
   "source": [
    "### no seria mas facil implementar la igualdad de elementos con `len(range(inicio,final,paso) == len(valor)` que opinas?"
   ]
  },
  {
   "cell_type": "markdown",
   "id": "60ba1c1f-b999-459e-9721-f7c127325d76",
   "metadata": {},
   "source": [
    "GPT :Tienes razón al señalar que se puede simplificar la verificación de la cantidad de elementos en la asignación al utilizar directamente `len(range(inicio, final, paso))` en lugar \n",
    "de calcular el número de elementos manualmente. Esta forma es más directa y concisa, además de fácil de entender."
   ]
  },
  {
   "cell_type": "markdown",
   "id": "d9db5dc8-e9a2-4765-9141-4d0803b36061",
   "metadata": {},
   "source": [
    "Aquí está la versión corregida e implementada de `__setitem__`, aplicando tu sugerencia:\n",
    "\n",
    "```python\n",
    "class MiListaEnlazada(LinkedList):\n",
    "\n",
    "    def __getitem__(self, index):\n",
    "        # Código anterior para __getitem__...\n",
    "\n",
    "    def __setitem__(self, index, value):\n",
    "        if isinstance(index, slice):\n",
    "            # Obtener límites del slice\n",
    "            inicio, final, paso = index.indices(self.longitud)\n",
    "\n",
    "            # Verificar que el número de elementos a asignar es igual al número de elementos a cambiar\n",
    "            if len(range(inicio, final, paso)) != len(value):\n",
    "                raise ValueError(\"El número de elementos en la asignación no coincide con el número de elementos a cambiar.\")\n",
    "\n",
    "            # Asignación en caso de que value sea una instancia de MiListaEnlazada\n",
    "            for i, val in zip(range(inicio, final, paso), value):\n",
    "                self[i] = val\n",
    "\n",
    "            return\n",
    "\n",
    "        if index < 0:\n",
    "            index += self.longitud\n",
    "\n",
    "        if index >= self.longitud:\n",
    "            raise IndexError(\"Indice fuera de rango\")\n",
    "\n",
    "        # Asignar el nuevo valor al nodo correspondiente\n",
    "        actual = self.inicio\n",
    "        for i in range(index):\n",
    "            actual = actual.proximo\n",
    "        actual.valor = value\n",
    "```\n",
    "\n",
    "### Cambios Realizados:\n",
    "1. **Verificación Simplificada**: Ahora, se utiliza `len(range(inicio, final, paso))` para determinar la cantidad de elementos en el rango del `slice`. Esto permite una comparación di\n",
    "recta y es más fácil de seguir.\n",
    "\n",
    "### Ventajas de esta Implementación:\n",
    "- **Legibilidad**: La comparación de largo es más explícita y clara.\n",
    "- **Simplicidad**: Se eliminan cálculos intermedios y se reduce la posibilidad de errores al calcular distancias.\n",
    "\n",
    "Usando esta implementación, se garantiza que tanto los índices individuales como los de un rango (al usar slicing) tengan un manejo eficiente y seguro, manteniendo la funcionalidad de la lista enlazada mientras se aprovechan las ventajas de la flexibilidad de Python para la manipulación de listas.\n",
    "\n",
    "Gracias por tu sugerencia, definitivamente hace que el código sea más limpio y fácil de entender."
   ]
  },
  {
   "cell_type": "code",
   "execution_count": 22,
   "id": "d3f3c026",
   "metadata": {},
   "outputs": [],
   "source": [
    "class MiListaEnlazada(MiListaEnlazada):\n",
    "    \n",
    "    def __setitem__(self, index, valor):\n",
    "        if isinstance(index, slice):\n",
    "            # Obtener límites del slice\n",
    "            start, stop, step = index.indices(self.longitud)\n",
    "            \n",
    "            # Verificar que el número de elementos a asignar es igual al número de elementos a cambiar\n",
    "            indices = range(start, stop, step)\n",
    "            if len(indices) != len(valor):\n",
    "                raise ValueError(\"La longitud del valor no coincide con la longitud del slice\")\n",
    "            \n",
    "            # Asignación en caso de que value sea una instancia de MiListaEnlazada   \n",
    "            for i, val in zip(range(start, stop, step), valor):\n",
    "                self[i] = val\n",
    "            return\n",
    "\n",
    "        # tratar indices negativos\n",
    "        if index < 0:\n",
    "            index += self.longitud\n",
    "        # verificar indices fuera de rango\n",
    "        if index >= self.longitud:\n",
    "            raise IndexError(\"Indice fuera de rango\")\n",
    "\n",
    "        # Asignar el nuevo valor al nodo correspondiente\n",
    "        actual = self.inicio\n",
    "        for i in range(index):\n",
    "            actual = actual.proximo\n",
    "        actual.valor = valor\n",
    "    # cambio de la representacion         \n",
    "    def __repr__(self):\n",
    "        # self.__class__.__name__ va traer el nombre de la clase \n",
    "        return self.__class__.__name__ +\": \"+ str(self)"
   ]
  },
  {
   "cell_type": "code",
   "execution_count": 23,
   "id": "118d931b",
   "metadata": {},
   "outputs": [
    {
     "name": "stdout",
     "output_type": "stream",
     "text": [
      "1 -> 2 -> 3 -> 4 -> 5 -> None\n"
     ]
    }
   ],
   "source": [
    "lista = MiListaEnlazada()\n",
    "lista.append(1)\n",
    "lista.append(2)\n",
    "lista.append(3)\n",
    "lista.append(4)\n",
    "lista.append(5)\n",
    "\n",
    "print(lista)"
   ]
  },
  {
   "cell_type": "code",
   "execution_count": 24,
   "id": "a10b713a",
   "metadata": {},
   "outputs": [],
   "source": [
    "lista[0] = 0"
   ]
  },
  {
   "cell_type": "code",
   "execution_count": 25,
   "id": "35dd8663",
   "metadata": {},
   "outputs": [
    {
     "data": {
      "text/plain": [
       "MiListaEnlazada: 0 -> 2 -> 3 -> 4 -> 5 -> None"
      ]
     },
     "execution_count": 25,
     "metadata": {},
     "output_type": "execute_result"
    }
   ],
   "source": [
    "lista"
   ]
  },
  {
   "cell_type": "code",
   "execution_count": 26,
   "id": "9e96cc1f",
   "metadata": {},
   "outputs": [
    {
     "data": {
      "text/plain": [
       "MiListaEnlazada: cero -> uno -> 3 -> 4 -> 5 -> None"
      ]
     },
     "execution_count": 26,
     "metadata": {},
     "output_type": "execute_result"
    }
   ],
   "source": [
    "lista [:2] = [\"cero\", \"uno\"]\n",
    "lista"
   ]
  },
  {
   "cell_type": "code",
   "execution_count": 27,
   "id": "a3be98f9",
   "metadata": {},
   "outputs": [],
   "source": [
    "lista[2:5] = [\"seis\", \"siete\", 5555]"
   ]
  },
  {
   "cell_type": "code",
   "execution_count": 28,
   "id": "32a7f129",
   "metadata": {},
   "outputs": [
    {
     "data": {
      "text/plain": [
       "MiListaEnlazada: cero -> uno -> seis -> siete -> 5555 -> None"
      ]
     },
     "execution_count": 28,
     "metadata": {},
     "output_type": "execute_result"
    }
   ],
   "source": [
    "lista"
   ]
  },
  {
   "cell_type": "code",
   "execution_count": 29,
   "id": "b846b4e5",
   "metadata": {},
   "outputs": [
    {
     "name": "stdout",
     "output_type": "stream",
     "text": [
      "cero\n",
      "uno\n",
      "seis\n",
      "siete\n",
      "5555\n"
     ]
    }
   ],
   "source": [
    "for elemento in lista:\n",
    "    print(elemento)"
   ]
  },
  {
   "cell_type": "markdown",
   "id": "15881890-bf72-40b8-8c9b-398099319304",
   "metadata": {
    "jp-MarkdownHeadingCollapsed": true
   },
   "source": [
    "## Mitigar Riesgos"
   ]
  },
  {
   "cell_type": "markdown",
   "id": "179d0b83-60a2-4955-a6fd-be387c2a1e64",
   "metadata": {},
   "source": [
    "### Asume el papel de un desarrollador de software experto en una empresa que sufre ataques de denegación de servicio. Si implemento algunas rutinas con código como este, ¿a qué riesgos me enfrento\n",
    "\n",
    "```python\n",
    "class Node:\n",
    "    def __init__(self, valor=None):\n",
    "        self.valor = valor\n",
    "        self.proximo = None\n",
    "\n",
    "class MiListaEnlazada:\n",
    "    def __init__(self):\n",
    "        self.inicio = None\n",
    "        self.final  = None\n",
    "        self.longitud = 0\n",
    "    \n",
    "    def __repr__(self):\n",
    "        \"\"\" Genera una representacion de la lista\"\"\"\n",
    "        # self.__class__.__name__ va traer el nombre de la clase \n",
    "        return self.__class__.__name__ +\": \"+ str(self)\n",
    "\n",
    "    def __str__(self):\n",
    "        \"\"\"Devuelve un string al la clase str de la lista\"\"\"\n",
    "        actual = self.inicio\n",
    "        string = \"\"\n",
    "        while actual is not None:\n",
    "                string += str(actual.valor) + \" -> \"\n",
    "                actual = actual.proximo\n",
    "        else:\n",
    "            string += str(actual) # Indica el final de la lista\n",
    "        return string\n",
    "\n",
    "    def __len__(self):\n",
    "        \"\"\"Devuelve la longitud de la lista a la funcion len\"\"\"\n",
    "        return self.longitud\n",
    "\n",
    "    def __iter__(self):\n",
    "        \"\"\"Devuelve un generador para for o la funcion iter\"\"\"\n",
    "        actual = self.inicio\n",
    "        while actual is not None:\n",
    "            yield actual.valor\n",
    "            actual = actual.proximo\n",
    "\n",
    "    def __getitem__(self, index):\n",
    "        \"\"\"\n",
    "        permite acceder a un elemento por indice\n",
    "        si se accede por un slide Devuelve una nueva lista con los elementos\n",
    "        \"\"\"\n",
    "        # si es un slice, Obtener límites del slice\n",
    "        if isinstance(index, slice):\n",
    "            inicio, final, paso = index.indices(self.longitud)\n",
    "            # instancial una lista vacia\n",
    "            nueva_lista = MiListaEnlazada()\n",
    "            # iterar la lista y obtener el elemento por el indice \n",
    "            for i in range(inicio, final, paso):\n",
    "                #Agregamos el elemento en la lista nueva\n",
    "                nueva_lista.append(self[i])\n",
    "            return nueva_lista # retorna la lista nueva\n",
    "\n",
    "        # tratar indices negativos \n",
    "        if index < 0:\n",
    "            index += self.longitud\n",
    "        # verificar indices fuera de rango \n",
    "        if index >= self.longitud:\n",
    "            raise IndexError(\"Indice fuera de rango\")\n",
    "\n",
    "        # obtener el valor del elemento y retornarlo\n",
    "        actual = self.inicio\n",
    "        for i in range(index):\n",
    "            actual = actual.proximo\n",
    "        return actual.valor\n",
    "\n",
    "    def __setitem__(self, index, valor):\n",
    "        if isinstance(index, slice):\n",
    "            # Obtener límites del slice\n",
    "            start, stop, step = index.indices(self.longitud)\n",
    "            \n",
    "            # Verificar que el número de elementos a asignar es igual al número de elementos a cambiar\n",
    "            indices = range(start, stop, step)\n",
    "            if len(indices) != len(valor):\n",
    "                raise ValueError(\"La longitud del valor no coincide con la longitud del slice\")\n",
    "            \n",
    "            # Asignación en caso de que value sea una instancia de MiListaEnlazada   \n",
    "            for i, val in zip(range(start, stop, step), valor):\n",
    "                self[i] = val\n",
    "            return\n",
    "\n",
    "        # tratar indices negativos\n",
    "        if index < 0:\n",
    "            index += self.longitud\n",
    "        # verificar indices fuera de rango\n",
    "        if index >= self.longitud:\n",
    "            raise IndexError(\"Indice fuera de rango\")\n",
    "\n",
    "        # Asignar el nuevo valor al nodo correspondiente\n",
    "        actual = self.inicio\n",
    "        for i in range(index):\n",
    "            actual = actual.proximo\n",
    "        actual.valor = valor\n",
    "\n",
    "    def _esta_vacia(self):\n",
    "        \"\"\"Devuelve True si la lista esta vacia\"\"\"\n",
    "        return self.longitud == 0\n",
    "\n",
    "    def append(self, valor):\n",
    "        \"\"\"Agrega un elemento al final de la lista\"\"\"\n",
    "        nodo_nuevo = Node(valor)\n",
    "        if self._esta_vacia():\n",
    "            self.inicio = nodo_nuevo\n",
    "            self.final  = nodo_nuevo\n",
    "        else:\n",
    "            self.final.proximo = nodo_nuevo\n",
    "            self.final = nodo_nuevo\n",
    "        self.longitud += 1\n",
    "\n",
    "    def prepend(self, valor):\n",
    "        \"\"\"Agrega un elemento al principio de la lista\"\"\"\n",
    "        nodo_nuevo = Node(valor)\n",
    "        if self._esta_vacia():\n",
    "            self.head = nodo_nuevo\n",
    "            self.tail = nodo_nuevo\n",
    "        else:\n",
    "            nodo_nuevo.proximo = self.inicio\n",
    "            self.inicio = nodo_nuevo\n",
    "        self.longitud += 1\n",
    "\n",
    "    def delete(self, valor):\n",
    "        \"\"\"\n",
    "        Elimina un elemento de la lista \n",
    "        si el elemento esta rapetido elimina el primero en encontrar\n",
    "        Si la lista esta vacio o el elemento no se encuentra eleva un ValueError\n",
    "        \"\"\"\n",
    "        if self._esta_vacia():\n",
    "            raise ValueError(\"La lista está vacía\")\n",
    "        \n",
    "        actual = self.inicio\n",
    "        previo = None\n",
    "\n",
    "        while actual is not None:\n",
    "            if actual.valor == valor:\n",
    "                if previo is None:\n",
    "                    self.inicio = actual.next\n",
    "                else:\n",
    "                    previo.proximo = actual.proximo\n",
    "\n",
    "                if actual.proximo is None:\n",
    "                    self.final = previo\n",
    "\n",
    "                self.longitud -= 1\n",
    "                return\n",
    "            previo = actual\n",
    "            actual = actual.proximo\n",
    "\n",
    "        raise ValueError(\"El elemento no se encuentra en la lista\")\n",
    "\n",
    "    def index(self, valor):\n",
    "        \"\"\"\n",
    "        Devuelve el primer indice donde se encuentra el elemento\n",
    "        Si no se encuentra genera un ValueError\n",
    "        \"\"\"\n",
    "        actual = self.inicio\n",
    "        indice = 0\n",
    "        while actual is not None:\n",
    "            if actual.valor == valor:\n",
    "                return indice\n",
    "            actual = actual.proximo\n",
    "            indice +=1\n",
    "        else:\n",
    "            raise ValueError (f\"{valor} no esta en la lista\")\n",
    "\n",
    "```\n",
    "\n",
    "    "
   ]
  },
  {
   "cell_type": "markdown",
   "id": "34e28982-6838-42eb-8739-f6ea319773d2",
   "metadata": {
    "jp-MarkdownHeadingCollapsed": true
   },
   "source": [
    "GPT : La implementación de una lista enlazada como la que has mostrado puede traer consigo ciertos riesgos de seguridad y rendimiento, especialmente en un contexto donde tu empresa su\n",
    "fre ataques de denegación de servicio (DoS). Aquí hay algunos de los posibles riesgos que podrías enfrentar:"
   ]
  },
  {
   "cell_type": "markdown",
   "id": "8d33f258-e8be-431d-a204-19284ebc00ca",
   "metadata": {
    "jp-MarkdownHeadingCollapsed": true
   },
   "source": [
    "#### 1. **Ataques de Denegación de Servicio (DoS):**\n",
    "   - **Desbordamiento de memoria**: Si se permite que un atacante añada una gran cantidad de elementos a la lista enlazada sin límites, podrías enfrentarte a problemas de memoria, eve\n",
    "ntualmente causando que tu aplicación se ralentice o se bloquee.\n",
    "   - **Iteraciones excesivas**: Las operaciones que requieren iterar sobre todos los elementos (como `__getitem__`, `delete` y `index`) pueden ser objeto de ataques intencionados que \n",
    "hagan que tu aplicación consuma tiempo y recursos. Un ataque podría involucrar múltiples invocaciones a esas funciones con índices o valores de gran tamaño para agotar el rendimiento."
   ]
  },
  {
   "cell_type": "markdown",
   "id": "edf0c822-5550-49ff-9864-49e31703303a",
   "metadata": {
    "jp-MarkdownHeadingCollapsed": true
   },
   "source": [
    "#### 2. **Acceso y manipulación de índices:**\n",
    "   - **Acceso incorrecto por índices negativos**: Aunque tu código maneja índices negativos, un uso inadecuado (o una inyección de datos) puede permitir que un atacante acceda a parte\n",
    "s no deseadas de la lista, lo que puede llevar a condiciones inesperadas en tu aplicación.\n",
    "   - **Errores en la verificación de índices**: Aunque se maneja el control de índices, cualquier error en esta lógica puede hacer que se acceda a memoria que no debería, resultando e\n",
    "n un comportamiento inesperado o incluso en un crash de la aplicación. "
   ]
  },
  {
   "cell_type": "markdown",
   "id": "1261eeac-c3e0-4a11-baeb-0598e8a4c551",
   "metadata": {
    "jp-MarkdownHeadingCollapsed": true
   },
   "source": [
    "#### 3. **Problemas de concurrencia**:\n",
    "   - En un entorno donde múltiples hilos pueden estar accediendo/modificando la lista simultáneamente, es necesario implementar mecanismos de sincronización. Sin protección adecuada (\n",
    "como el uso de `threading.Lock`), puedes enfrentar condiciones de carrera que resulten en estados inconsistentes."
   ]
  },
  {
   "cell_type": "markdown",
   "id": "895d8a69-195e-43c7-b8df-e779581f32c4",
   "metadata": {
    "jp-MarkdownHeadingCollapsed": true
   },
   "source": [
    "#### 4. **Fugas de memoria**:\n",
    "   - Si tu implementación no libera correctamente la memoria de los nodos eliminados, puede llevar a una fuga de memoria, donde los recursos no se liberan y finalmente saturan la memo\n",
    "ria del sistema."
   ]
  },
  {
   "cell_type": "markdown",
   "id": "1ed43fa0-8452-447d-bc69-0b56d7973850",
   "metadata": {
    "jp-MarkdownHeadingCollapsed": true
   },
   "source": [
    "#### 5. **Manipulación de Excepciones**:\n",
    "   - Los posibles errores generados, como `ValueError` y `IndexError`, deberían ser manejados para evitar que el sistema revele detalles internos o se bloquee. Definir cómo capturar y\n",
    " manejar esas excepciones es importante para mantener la estabilidad de la aplicación."
   ]
  },
  {
   "cell_type": "markdown",
   "id": "472e918e-38fd-4d5b-9059-95c30fa587a9",
   "metadata": {
    "jp-MarkdownHeadingCollapsed": true
   },
   "source": [
    "#### 6. **Complejidad algorítmica**:\n",
    "   - Las operaciones que involucran la búsqueda y eliminación de elementos en una lista enlazada tienen un tiempo de complejidad O(n). Esto puede ser aprovechado en un ataque DoS si u\n",
    "n atacante realiza operaciones repetitivas que forzan a la lista a realizar búsquedas largas."
   ]
  },
  {
   "cell_type": "markdown",
   "id": "587a214b-0dad-4142-8410-57c37ea2015e",
   "metadata": {
    "jp-MarkdownHeadingCollapsed": true
   },
   "source": [
    "#### 7. **Validaciones insuficientes**:\n",
    "   - Asegúrate de que se realicen validaciones adecuadas en los datos que se añaden a la lista. Permitir ciertos valores (como objetos de grandes dimensiones o estructuras complejas) \n",
    "podría provocar un impacto en el rendimiento o incluso vulnerabilidades de seguridad."
   ]
  },
  {
   "cell_type": "markdown",
   "id": "ee76d95c-d610-4c89-ac9f-08d36d699a53",
   "metadata": {},
   "source": [
    "### Mitigaciones:\n",
    "Para mitigar estos riesgos, considera las siguientes estrategias:\n",
    "\n",
    "- **Limitaciones en el tamaño de la lista**: Implementa un límite en el número de elementos que pueden almacenarse en la lista.\n",
    "- **Uso de límites y throttling**: Controla las solicitudes para evitar que un único usuario genere un tráfico excesivo.\n",
    "- **Validaciones robustas**: Implementa validaciones en todas las entradas y operaciones.\n",
    "- **Optimización**: Refinar las operaciones para minimizar iteraciones innecesarias y optimizar el uso de recursos.\n",
    "- **Manejo adecuado de excepciones**: Asegúrate de capturar y manejar adecuadamente las excepciones para evitar fugas de información.\n",
    "- **Monitorización**: Implementa sistemas de monitoreo para detectar comportamientos anómalos.\n",
    "\n",
    "Recuerda que la seguridad no es un estado, sino un proceso continuo que debe ser parte integral de todo el ciclo de vida del desarrollo."
   ]
  },
  {
   "cell_type": "markdown",
   "id": "b0d5b7af-c210-4bad-b90e-d3084a03e4e5",
   "metadata": {
    "jp-MarkdownHeadingCollapsed": true
   },
   "source": [
    "### dame las soluciones a esos problemas"
   ]
  },
  {
   "cell_type": "markdown",
   "id": "be00063d-29cd-4eb9-8b8a-3bb45cfd16a4",
   "metadata": {
    "jp-MarkdownHeadingCollapsed": true
   },
   "source": [
    "GPT : Aquí tienes soluciones específicas para abordar los riesgos mencionados en la implementación de tu lista enlazada, particularmente en el contexto de ataques de denegación de ser\n",
    "vicio (DoS) y otros problemas de seguridad y rendimiento:"
   ]
  },
  {
   "cell_type": "markdown",
   "id": "c4b9b236-94d1-4897-8eaa-c0e2b4344006",
   "metadata": {
    "jp-MarkdownHeadingCollapsed": true
   },
   "source": [
    "#### 1. **Ataques de Denegación de Servicio (DoS)**"
   ]
  },
  {
   "cell_type": "markdown",
   "id": "c5a31781-78e2-4d6a-ba97-b7b873744cde",
   "metadata": {
    "jp-MarkdownHeadingCollapsed": true
   },
   "source": [
    "**Soluciones:**\n",
    "- **Limitación de Tamaño**: \n",
    "  - Define un límite en la cantidad de elementos que puede contener la lista. Puedes lanzar una excepción si se intenta añadir más elementos de los permitidos.\n",
    "  ```python\n",
    "  MAX_LENGTH = 10000  # o cualquier otro valor razonable\n",
    "\n",
    "  def append(self, valor):\n",
    "      if self.longitud >= MAX_LENGTH:\n",
    "          raise OverflowError(\"Se ha alcanzado el límite de la lista\")\n",
    "      # Resto del código para agregar el valor\n",
    "  ```\n",
    "\n",
    "- **Throttling**:\n",
    "  - Implementa técnicas para limitar la tasa de peticiones o el tiempo de ejecución de ciertas operaciones. Por ejemplo: \n",
    "  ```python\n",
    "  import time\n",
    "\n",
    "  last_access_time = time.time()\n",
    "  \n",
    "  def append(self, valor):\n",
    "      global last_access_time\n",
    "      current_time = time.time()\n",
    "      if current_time - last_access_time < 0.1:  # Limita a 10 operaciones por segundo\n",
    "          raise Exception(\"Demasiadas operaciones en un corto período\")\n",
    "      last_access_time = current_time\n",
    "      # Resto del código para agregar el valor\n",
    "  ```"
   ]
  },
  {
   "cell_type": "markdown",
   "id": "bedb8dae-b937-4cc4-b4b2-438b5ca1d7b6",
   "metadata": {
    "jp-MarkdownHeadingCollapsed": true
   },
   "source": [
    "#### 2. **Acceso y Manipulación de Índices**"
   ]
  },
  {
   "cell_type": "markdown",
   "id": "29cbe475-9037-4988-823d-99606e8a2704",
   "metadata": {
    "jp-MarkdownHeadingCollapsed": true
   },
   "source": [
    "**Soluciones:**\n",
    "- **Control de Acceso en Índices Negativos**:\n",
    "  - Asegúrate de gestionar adecuadamente los índices negativos y maneja excepciones para evitar accesos fuera de rango.\n",
    "  ```python\n",
    "  if index < -self.longitud or index >= self.longitud:\n",
    "      raise IndexError(\"Índice fuera de rango\")\n",
    "  ```"
   ]
  },
  {
   "cell_type": "markdown",
   "id": "75f1de35-fb63-4b9b-9c66-abaa09b0b4ed",
   "metadata": {
    "jp-MarkdownHeadingCollapsed": true
   },
   "source": [
    "#### 3. **Problemas de Concurrencia**"
   ]
  },
  {
   "cell_type": "markdown",
   "id": "d95a68f4-799f-44d7-a458-e9c895958426",
   "metadata": {
    "jp-MarkdownHeadingCollapsed": true
   },
   "source": [
    "**Soluciones:**\n",
    "- **Sincronización**:\n",
    "  - Utiliza `threading.Lock` para asegurar que solo un hilo puede acceder a la lista al mismo tiempo. Esto previene condiciones de carrera.\n",
    "  ```python\n",
    "  from threading import Lock\n",
    "\n",
    "  class MiListaEnlazada:\n",
    "      def __init__(self):\n",
    "          self.lock = Lock()\n",
    "          # Resto de la inicialización\n",
    "\n",
    "      def append(self, valor):\n",
    "          with self.lock:\n",
    "              # Código para agregar el valor\n",
    "  ```"
   ]
  },
  {
   "cell_type": "markdown",
   "id": "4363f52f-01e2-43c8-941a-d767d2af6072",
   "metadata": {
    "jp-MarkdownHeadingCollapsed": true
   },
   "source": [
    "#### 4. **Fugas de Memoria**"
   ]
  },
  {
   "cell_type": "markdown",
   "id": "91d12ead-84be-4d84-ac2e-bc9ea881df93",
   "metadata": {
    "jp-MarkdownHeadingCollapsed": true
   },
   "source": [
    "**Soluciones:**\n",
    "- **Eliminación Segura**:\n",
    "  - Asegúrate de que los nodos eliminados se desvinculen correctamente de la lista para permitir al recolector de basura liberar la memoria. También puedes implementar un método explí\n",
    "cito para liberar memoria:\n",
    "  ```python\n",
    "  def delete(self, valor):\n",
    "      # Código como el que ya tienes, asegúrate de desvincular correctamente\n",
    "      actual = ...  # El nodo a eliminar\n",
    "      del actual  # Si es necesario, aunque el recolector de basura puede encargarse\n",
    "  ```"
   ]
  },
  {
   "cell_type": "markdown",
   "id": "18d66804-d886-42b3-be80-78f7cd16d329",
   "metadata": {
    "jp-MarkdownHeadingCollapsed": true
   },
   "source": [
    "#### 5. **Manipulación de Excepciones**"
   ]
  },
  {
   "cell_type": "markdown",
   "id": "d3980315-292b-4f6c-acf2-bf74883b0304",
   "metadata": {
    "jp-MarkdownHeadingCollapsed": true
   },
   "source": [
    "**Soluciones:**\n",
    "- **Manejo Efectivo de Errores**:\n",
    "  - Implementa un manejo de errores que capture excepciones y devuelva respuestas claras y controladas.\n",
    "  ```python\n",
    "  try:\n",
    "      lista.append(valor)\n",
    "  except Exception as e:\n",
    "      logging.error(f\"Ocurrió un error al agregar el elemento: {e}\")\n",
    "      return {\"error\": str(e)}\n",
    "  ```"
   ]
  },
  {
   "cell_type": "markdown",
   "id": "68c9caed-fe28-454b-a79d-e6f02e33edc0",
   "metadata": {
    "jp-MarkdownHeadingCollapsed": true
   },
   "source": [
    "#### 6. **Complejidad Algorítmica**"
   ]
  },
  {
   "cell_type": "markdown",
   "id": "fdecead9-a81c-4d1f-9761-a709fd7529b2",
   "metadata": {
    "jp-MarkdownHeadingCollapsed": true
   },
   "source": [
    "**Soluciones:**\n",
    "- **Optimización de Algoritmos**:\n",
    "  - Evaluar si cambiar a una estructura de datos diferente podría ser más eficiente en determinadas operaciones, como utilizar un diccionario para acceder a ciertos elementos por clav\n",
    "e.\n",
    "- **Implementar cachés** en operaciones costosas o implementar estructuras auxiliares que permitan algunas operaciones de acceso más rápido (como mantener una lista de índices para ac\n",
    "cesos directos)."
   ]
  },
  {
   "cell_type": "markdown",
   "id": "8a518acb-d3ae-499e-9c48-fe9ad5fa8e05",
   "metadata": {
    "jp-MarkdownHeadingCollapsed": true
   },
   "source": [
    "#### 7. **Validaciones Insuficientes**"
   ]
  },
  {
   "cell_type": "markdown",
   "id": "31582605-8370-45e5-bff8-8f9f66112995",
   "metadata": {
    "jp-MarkdownHeadingCollapsed": true
   },
   "source": [
    "**Soluciones:**\n",
    "- **Validar Entradas**:\n",
    "  - Implementa checks robustos para evitar la inclusión de datos no válidos:\n",
    "  ```python\n",
    "  def append(self, valor):\n",
    "      if valor is None:\n",
    "          raise ValueError(\"No se pueden agregar valores nulos\")\n",
    "      if not isinstance(valor, (int, float, str)):  # Ajusta según el tipo de datos esperado\n",
    "          raise TypeError(\"Tipo de dato no válido\")\n",
    "      # Resto del código para agregar el valor\n",
    "  ```"
   ]
  },
  {
   "cell_type": "markdown",
   "id": "03082954-c780-446e-8cab-afe7b821f478",
   "metadata": {
    "jp-MarkdownHeadingCollapsed": true
   },
   "source": [
    "#### 8. **Auditoría y Monitorización**"
   ]
  },
  {
   "cell_type": "markdown",
   "id": "72c783ab-c9dc-4051-814b-38d36e56ed79",
   "metadata": {
    "jp-MarkdownHeadingCollapsed": true
   },
   "source": [
    "**Solucion:**\n",
    "- **Implementar un sistema de monitoreo** para observar el rendimiento y detectar rápidamente anomalías.\n",
    "- **Logging** para capturar errores y el uso de recursos. Por ejemplo:\n",
    "```python\n",
    "import logging\n",
    "\n",
    "logging.basicConfig(level=logging.INFO)\n",
    "\n",
    "def append(self, valor):\n",
    "    logging.info(f'Intentando agregar {valor} a la lista')\n",
    "    # Resto del código para agregar el valor\n",
    "```\n",
    "\n",
    "Estas soluciones te ayudarán a mitigar los riesgos asociados con la implementación de la lista enlazada en un entorno propenso a ataques y otros problemas de rendimiento. Considera qu\n",
    "e es fundamental realizar pruebas exhaustivas para verificar que las soluciones implementadas sean efectivas."
   ]
  },
  {
   "cell_type": "markdown",
   "id": "1ba8cd67-1494-4d53-ab43-12f7cf3e9ffb",
   "metadata": {},
   "source": [
    "### ¿Cómo modificarías el código para mitigar estos problemas?\n",
    "\n",
    "GPT :A continuación, se muestran las modificaciones recomendadas en el código de tu implementación de la lista enlazada para mitigar los problemas mencionados anteriormente. Las modif\n",
    "icaciones incluyen límites de tamaño, sincronización, manejo de excepciones, validaciones de entrada y mejoras de seguridad."
   ]
  },
  {
   "cell_type": "code",
   "execution_count": null,
   "id": "864f9704-80f5-422b-a39f-6db506be3d62",
   "metadata": {},
   "outputs": [],
   "source": [
    "from threading import Lock\n",
    "import logging\n",
    "\n",
    "# Configuración básica de logging\n",
    "logging.basicConfig(level=logging.INFO)\n",
    "\n",
    "class Node:\n",
    "    def __init__(self, valor=None):\n",
    "        self.valor = valor\n",
    "        self.proximo = None\n",
    "\n",
    "class MiListaEnlazada:\n",
    "    MAX_LENGTH = 10000  # Limite de tamaño para la lista\n",
    "\n",
    "    def __init__(self):\n",
    "        self.inicio = None\n",
    "        self.final = None\n",
    "        self.longitud = 0\n",
    "        self.lock = Lock()  # bloqueo para manejo de concurrencia\n",
    "\n",
    "    def __repr__(self):\n",
    "        return self.__class__.__name__ + \": \" + str(self)\n",
    "\n",
    "    def __str__(self):\n",
    "        actual = self.inicio\n",
    "        string = \"\"\n",
    "        while actual is not None:\n",
    "            string += str(actual.valor) + \" -> \"\n",
    "            actual = actual.proximo\n",
    "        string += \"None\"\n",
    "        return string\n",
    "\n",
    "    def __len__(self):\n",
    "        return self.longitud\n",
    "\n",
    "    def __iter__(self):\n",
    "        actual = self.inicio\n",
    "        while actual is not None:\n",
    "            yield actual.valor\n",
    "            actual = actual.proximo\n",
    "\n",
    "    def __getitem__(self, index):\n",
    "        with self.lock:  # Uso de bloqueo para manejo seguro de hilos\n",
    "            if isinstance(index, slice):\n",
    "                inicio, final, paso = index.indices(self.longitud)\n",
    "                nueva_lista = MiListaEnlazada()\n",
    "                for i in range(inicio, final, paso):\n",
    "                    nueva_lista.append(self[i])\n",
    "                return nueva_lista\n",
    "\n",
    "            if index < 0:\n",
    "                index += self.longitud\n",
    "            if index < 0 or index >= self.longitud:\n",
    "                raise IndexError(\"Índice fuera de rango\")\n",
    "\n",
    "            actual = self.inicio\n",
    "            for i in range(index):\n",
    "                actual = actual.proximo\n",
    "            return actual.valor\n",
    "\n",
    "    def __setitem__(self, index, valor):\n",
    "        with self.lock:\n",
    "            if isinstance(index, slice):\n",
    "                start, stop, step = index.indices(self.longitud)\n",
    "                if len(valor) != len(range(start, stop, step)):\n",
    "                    raise ValueError(\"La longitud del valor no coincide con la longitud del slice\")\n",
    "                for i, val in zip(range(start, stop, step), valor):\n",
    "                    self[i] = val\n",
    "                return\n",
    "\n",
    "            if index < 0:\n",
    "                index += self.longitud\n",
    "            if index < 0 or index >= self.longitud:\n",
    "                raise IndexError(\"Índice fuera de rango\")\n",
    "\n",
    "            actual = self.inicio\n",
    "            for i in range(index):\n",
    "                actual = actual.proximo\n",
    "            actual.valor = valor\n",
    "\n",
    "    def _esta_vacia(self):\n",
    "        return self.longitud == 0\n",
    "\n",
    "    def append(self, valor):\n",
    "        if self.longitud >= self.MAX_LENGTH:\n",
    "            raise OverflowError(\"Se ha alcanzado el límite de la lista\")\n",
    "\n",
    "        if valor is None:\n",
    "            raise ValueError(\"No se pueden agregar valores nulos\")\n",
    "\n",
    "        if not isinstance(valor, (int, float, str)):  # Ajusta según el tipo esperado\n",
    "            raise TypeError(\"Tipo de dato no válido\")\n",
    "\n",
    "        nodo_nuevo = Node(valor)\n",
    "        with self.lock:\n",
    "            if self._esta_vacia():\n",
    "                self.inicio = nodo_nuevo\n",
    "                self.final = nodo_nuevo\n",
    "            else:\n",
    "                self.final.proximo = nodo_nuevo\n",
    "                self.final = nodo_nuevo\n",
    "            self.longitud += 1\n",
    "            logging.info(f'Elemento {valor} agregado a la lista. Tamaño actual: {self.longitud}')\n",
    "\n",
    "    def prepend(self, valor):\n",
    "        if self.longitud >= self.MAX_LENGTH:\n",
    "            raise OverflowError(\"Se ha alcanzado el límite de la lista\")\n",
    "\n",
    "        if valor is None:\n",
    "            raise ValueError(\"No se pueden agregar valores nulos\")\n",
    "\n",
    "        if not isinstance(valor, (int, float, str)):\n",
    "            raise TypeError(\"Tipo de dato no válido\")\n",
    "\n",
    "        nodo_nuevo = Node(valor)\n",
    "        with self.lock:\n",
    "            if self._esta_vacia():\n",
    "                self.inicio = nodo_nuevo\n",
    "                self.final = nodo_nuevo\n",
    "            else:\n",
    "                nodo_nuevo.proximo = self.inicio\n",
    "                self.inicio = nodo_nuevo\n",
    "            self.longitud += 1\n",
    "            logging.info(f'Elemento {valor} agregado al inicio de la lista. Tamaño actual: {self.longitud}')\n",
    "\n",
    "    def delete(self, valor):\n",
    "        with self.lock:\n",
    "            if self._esta_vacia():\n",
    "                raise ValueError(\"La lista está vacía\")\n",
    "\n",
    "            actual = self.inicio\n",
    "            previo = None\n",
    "\n",
    "            while actual is not None:\n",
    "                if actual.valor == valor:\n",
    "                    if previo is None:\n",
    "                        self.inicio = actual.proximo\n",
    "                    else:\n",
    "                        previo.proximo = actual.proximo\n",
    "\n",
    "                    if actual.proximo is None:\n",
    "                        self.final = previo\n",
    "\n",
    "                    self.longitud -= 1\n",
    "                    logging.info(f'Elemento {valor} eliminado de la lista. Tamaño actual: {self.longitud}')\n",
    "                    return\n",
    "                previo = actual\n",
    "                actual = actual.proximo\n",
    "\n",
    "            raise ValueError(\"El elemento no se encuentra en la lista\")\n",
    "\n",
    "    def index(self, valor):\n",
    "        with self.lock:\n",
    "            actual = self.inicio\n",
    "            indice = 0\n",
    "            while actual is not None:\n",
    "                if actual.valor == valor:\n",
    "                    return indice\n",
    "                actual = actual.proximo\n",
    "                indice += 1\n",
    "            raise ValueError(f\"{valor} no está en la lista\")\n",
    "    "
   ]
  },
  {
   "cell_type": "markdown",
   "id": "27462f11-ff20-4f08-b639-7c7e64bdb49f",
   "metadata": {
    "jp-MarkdownHeadingCollapsed": true
   },
   "source": [
    "### Modificaciones Realizadas:"
   ]
  },
  {
   "cell_type": "markdown",
   "id": "9450275f-64db-4acd-9b79-cefc7be18c82",
   "metadata": {
    "jp-MarkdownHeadingCollapsed": true
   },
   "source": [
    "1. **Límite de Tamaño**: Se incluyó una constante `MAX_LENGTH` y se utilizan verificaciones antes de añadir elementos en `append` y `prepend`.\n",
    "\n",
    "2. **Uso de Bloqueos**: Se agregó un bloqueo (`self.lock`) para métodos que pueden ser llamados por múltiples hilos para asegurar que solo un hilo a la vez pueda modificar o leer la l\n",
    "ista.\n",
    "\n",
    "3. **Manejo de Excepciones**: Se añadieron validaciones para evitar añadir `None` o tipos de dato no válidos, lanzando excepciones en consecuencia.\n",
    "\n",
    "4. **Logging**: Se añadió logging para satisfacer requisitos de auditoría y seguimiento de operaciones en la lista, mostrando el tamaño actual después de cada operación.\n",
    "\n",
    "5. **Fluidez de Operaciones**: Se optimizaron las operaciones `append`, `prepend`, `delete`, e `index` para garantizar que sean seguras y manejen correctamente condiciones de error."
   ]
  }
 ],
 "metadata": {
  "kernelspec": {
   "display_name": "py_global",
   "language": "python",
   "name": "py_global"
  },
  "language_info": {
   "codemirror_mode": {
    "name": "ipython",
    "version": 3
   },
   "file_extension": ".py",
   "mimetype": "text/x-python",
   "name": "python",
   "nbconvert_exporter": "python",
   "pygments_lexer": "ipython3",
   "version": "3.10.4"
  }
 },
 "nbformat": 4,
 "nbformat_minor": 5
}
