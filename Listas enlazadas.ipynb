{
 "cells": [
  {
   "cell_type": "markdown",
   "id": "a7d5bcd4-9dab-4b00-9df2-ad1379140b66",
   "metadata": {},
   "source": [
    "# ¿Qué es una lista enlazada?"
   ]
  },
  {
   "cell_type": "markdown",
   "id": "7e140ca5-3dda-4ec7-9e94-28a4bc3cb587",
   "metadata": {},
   "source": [
    "GPT : Una lista enlazada es una estructura de datos lineal en la que los elementos (o nodos) están almacenados en diferentes ubicaciones de memoria y cada elemento contiene un enlace (o puntero) al siguiente elemento de la lista. \n",
    "Este tipo de organización permite una mayor flexibilidad en comparación con los arreglos (o listas estáticas), ya que se pueden agregar o eliminar elementos de manera eficiente sin necesidad de mover otros elementos de la estructura.\n",
    "\n",
    "Cada nodo de una lista enlazada generalmente consta de dos componentes:\n",
    "\n",
    "1. **Dato**: El valor o la información que almacena el nodo.\n",
    "2. **Enlace (o puntero)**: Una referencia al siguiente nodo en la lista.\n",
    "\n",
    "Existen diferentes tipos de listas enlazadas, entre las que se incluyen:\n",
    "\n",
    "- **Lista enlazada simple**: Cada nodo tiene un solo puntero que apunta al siguiente nodo de la lista.\n",
    "  \n",
    "- **Lista enlazada doble**: Cada nodo tiene dos punteros: uno que apunta al siguiente nodo y otro que apunta al nodo anterior. Esto permite una navegación en ambas direcciones.\n",
    "\n",
    "- **Lista enlazada circular**: La lista enlazada puede ser circular, lo que significa que el último nodo de la lista apunta de nuevo al primer nodo, formando un ciclo.\n",
    "\n",
    "Las listas enlazadas son útiles en situaciones donde se requiere una manipulación dinámica de datos, como en la implementación de pilas, colas y otras estructuras de datos complejas."
   ]
  },
  {
   "cell_type": "markdown",
   "id": "e43387b6-9aeb-485b-8975-2b3ac7a738ed",
   "metadata": {
    "jp-MarkdownHeadingCollapsed": true
   },
   "source": [
    "## Escribe alguna implementación de una lista enlazada en Python.\n",
    "\n",
    "GPT : Claro, aquí tienes un ejemplo simple de cómo implementar una lista enlazada en Python. En este caso, vamos a crear una lista enlazada simple, donde \n",
    "cada nodo tiene un valor y un puntero al siguiente nodo."
   ]
  },
  {
   "cell_type": "code",
   "execution_count": 2,
   "id": "85a284ce-bb23-4494-acd2-da52ec45842a",
   "metadata": {},
   "outputs": [],
   "source": [
    "class Nodo:\n",
    "    def __init__(self, dato):\n",
    "        self.dato = dato  # Almacena el valor del nodo\n",
    "        self.siguiente = None  # Inicialmente, el siguiente nodo es None"
   ]
  },
  {
   "cell_type": "code",
   "execution_count": 3,
   "id": "9ebf8969-1761-480f-9733-ded3927a0bd7",
   "metadata": {},
   "outputs": [],
   "source": [
    "class ListaEnlazada:\n",
    "    def __init__(self):\n",
    "        self.cabeza = None  # La lista comienza vacía\n",
    "        self.longitud = 0\n",
    "\n",
    "    def __len__(self):\n",
    "        return self.longitud\n",
    "\n",
    "    def __str__(self):\n",
    "        actual = self.cabeza\n",
    "        string = \"\"\n",
    "        while actual:\n",
    "            string += str(actual.dato) + \" -> \"\n",
    "            actual = actual.siguiente\n",
    "        else:\n",
    "            string += str(None) # Indica el final de la lista\n",
    "        return string\n",
    "\n",
    "    def __repr__(self):\n",
    "        return \"ListaEnlazada :\" + str(self)\n",
    "\n",
    "    def agregar_nodo(self, dato):\n",
    "        \"\"\"Agrega un nuevo nodo al final de la lista enlazada.\"\"\"\n",
    "        nuevo_nodo = Nodo(dato)  # Crea un nuevo nodo\n",
    "        self.longitud += 1\n",
    "        if not self.cabeza:  # Si la lista está vacía\n",
    "            self.cabeza = nuevo_nodo  # El nuevo nodo es la cabeza\n",
    "            return\n",
    "        \n",
    "        # Si la lista no está vacía, recorremos hasta el final\n",
    "        ultimo = self.cabeza\n",
    "        while ultimo.siguiente:\n",
    "            ultimo = ultimo.siguiente\n",
    "        ultimo.siguiente = nuevo_nodo # Agrega el nuevo nodo al final\n",
    "\n",
    "    \n",
    "        "
   ]
  },
  {
   "cell_type": "code",
   "execution_count": 4,
   "id": "b61a6fa4-e48d-42c9-885b-7fcdea0142a2",
   "metadata": {},
   "outputs": [
    {
     "data": {
      "text/plain": [
       "ListaEnlazada :None"
      ]
     },
     "execution_count": 4,
     "metadata": {},
     "output_type": "execute_result"
    }
   ],
   "source": [
    "# Ejemplo de uso\n",
    "\n",
    "lista = ListaEnlazada()\n",
    "lista"
   ]
  },
  {
   "cell_type": "code",
   "execution_count": 5,
   "id": "7740c6ca-7554-4eef-8fc9-34d252d84f60",
   "metadata": {},
   "outputs": [
    {
     "data": {
      "text/plain": [
       "ListaEnlazada :1 -> None"
      ]
     },
     "execution_count": 5,
     "metadata": {},
     "output_type": "execute_result"
    }
   ],
   "source": [
    "lista.agregar_nodo(1)\n",
    "lista"
   ]
  },
  {
   "cell_type": "code",
   "execution_count": 6,
   "id": "8394b68c-519c-4e90-9358-c5763f5479b5",
   "metadata": {},
   "outputs": [
    {
     "data": {
      "text/plain": [
       "1"
      ]
     },
     "execution_count": 6,
     "metadata": {},
     "output_type": "execute_result"
    }
   ],
   "source": [
    "len(lista)"
   ]
  },
  {
   "cell_type": "code",
   "execution_count": 7,
   "id": "2e2e15b6-88cd-4869-9979-e4548c5137a5",
   "metadata": {},
   "outputs": [],
   "source": [
    "lista.agregar_nodo(2)"
   ]
  },
  {
   "cell_type": "code",
   "execution_count": 8,
   "id": "10d93b70-ca15-4ac5-9e98-2e3a0d29d6db",
   "metadata": {},
   "outputs": [],
   "source": [
    "lista.agregar_nodo(3)"
   ]
  },
  {
   "cell_type": "code",
   "execution_count": 9,
   "id": "b24f13d9-5ff3-4cb8-941e-01adfb7644ac",
   "metadata": {},
   "outputs": [
    {
     "data": {
      "text/plain": [
       "3"
      ]
     },
     "execution_count": 9,
     "metadata": {},
     "output_type": "execute_result"
    }
   ],
   "source": [
    "len(lista)"
   ]
  },
  {
   "cell_type": "code",
   "execution_count": 10,
   "id": "1783f5ad-c4b8-4f0e-9a0b-d1b05151303f",
   "metadata": {},
   "outputs": [
    {
     "name": "stdout",
     "output_type": "stream",
     "text": [
      "1 -> 2 -> 3 -> None\n"
     ]
    }
   ],
   "source": [
    "print(lista)"
   ]
  },
  {
   "cell_type": "code",
   "execution_count": 11,
   "id": "5bed154b-3b1b-4dce-b784-b726c49a2ace",
   "metadata": {},
   "outputs": [
    {
     "data": {
      "text/plain": [
       "ListaEnlazada :1 -> 2 -> 3 -> None"
      ]
     },
     "execution_count": 11,
     "metadata": {},
     "output_type": "execute_result"
    }
   ],
   "source": [
    "lista"
   ]
  },
  {
   "cell_type": "markdown",
   "id": "0f21714f-b50a-4437-8cee-9df62ffae08f",
   "metadata": {},
   "source": [
    "### Explicación del código:\n",
    "\n",
    "1. **Clase `Nodo`**: Representa cada elemento de la lista. Tiene dos atributos: `dato` para almacenar el valor y `siguiente` que es un puntero al siguient\n",
    "e nodo.\n",
    "\n",
    "2. **Clase `ListaEnlazada`**: Representa la lista enlazada.\n",
    "   - **Método `agregar_nodo`**: Agrega un nuevo nodo al final de la lista.\n",
    "   - **Método `__str__`**: Recorre la lista y devuelve un string (cuando es llamado por str o print).\n",
    "   - **Método `__repr__`**: Devuelve una representacion del objeto en consola\n",
    "   - **Método `__len__`**: Devuelve la longitud de la lista (cuando es invocado por la funcion len)\n",
    "\n",
    "3. **Uso de la lista**: Creamos una instancia de `ListaEnlazada`, agregamos algunos elementos y luego imprimimos la lista."
   ]
  },
  {
   "cell_type": "markdown",
   "id": "e8fb4f14-c464-41a2-9d8e-de38305dd664",
   "metadata": {},
   "source": [
    "## ¿Cuáles son las desventajas y los costos asociados con las listas enlazadas en comparación con otras estructuras de datos de Python?\n",
    "\n",
    "GPT : Las listas enlazadas tienen varias ventajas, como la capacidad de agregar y eliminar elementos de manera eficiente, pero también presentan numerosas desventajas y costos asociativos en comparación con otras estructuras de datos, como las listas de Python (que son en realidad arreglos dinámicos en implementación).  \n",
    "\n",
    "A continuación, se detallan algunos de estos aspectos:"
   ]
  },
  {
   "cell_type": "markdown",
   "id": "4c13382e-f2bf-4be8-9558-0b3fd5489288",
   "metadata": {},
   "source": [
    "### Desventajas de las listas enlazadas:\n",
    "\n",
    "1. **Acceso a elementos**:\n",
    "   - **Costo**: O(n)\n",
    "   - Las listas enlazadas no permiten el acceso aleatorio a elementos. Para acceder a un elemento en la lista enlazada, es necesario recorrer desde la cabeza hasta el nodo deseado, lo que puede llevar tiempo lineal en el peor de los casos. En cambio, las listas de Python permiten el acceso en tiempo constate (O(1)) por índice.\n",
    "2. **Uso de memoria**:\n",
    "   - **Costo**: Mayor uso de memoria por nodo.\n",
    "   - Cada nodo de una lista enlazada requiere memoria adicional para almacenar un puntero (o enlace) al siguiente nodo. Esto puede hacer que las listas enlazadas utilicen más memoria que una lista de Python, que almacena los elementos de manera contigua.\n",
    "3. **Cache locality**:\n",
    "   - Las listas enlazadas pueden llevar a una peor localidad de caché. Dado que los nodos pueden estar dispersos en la memoria, acceder a elementos adyacentes puede resultar menos eficiente en términos de uso de memoria caché en comparación con estructuras de datos que almacenan elementos de forma contigua, como las listas de Python.\n",
    "4. **Complejidad en la implementación**:\n",
    "   - La implementación de una lista enlazada puede ser más compleja que el uso de listas de Python. Aunque las listas enlazadas son una buena introducción a la programación de estructuras de datos, a menudo requieren más código y lógica para manejar ciertas operaciones como la inserción, eliminación y búsqueda.\n",
    "5. **Patrón de acceso menos eficiente**:\n",
    "   - Los algoritmos que dependen de patrones de acceso a memoria contigua (como muchos algoritmos de ordenación o búsqueda) pueden ser más lentos cuando se usan listas enlazadas, ya que el acceso a elementos en memoria no es predecible y puede requerir múltiples cargas de memoria.\n",
    "\n",
    "### Comparación con otras estructuras de datos:\n",
    "\n",
    "- **Listas de Python**:\n",
    "  - **Acceso**: O(1) por índice vs. O(n) en listas enlazadas.\n",
    "  - **Inserción y eliminación**: Promocionan O(n) en el peor de los casos (si el evento ocurre al final) vs. O(1) en listas enlazadas (si se inserta o elimina al inicio).\n",
    "- **Arreglos**:\n",
    "  - Al igual que las listas de Python, permiten acceso rápido por índice, pero tienen un tamaño fijo en muchas implementaciones. Las listas enlazadas ofrecen una mayor flexibilidad en el tamaño.\n",
    "- **Otras estructuras de datos (pilas, colas, diccionarios)**:\n",
    "  - Dependiendo de la implementación, a veces es mejor usar una lista enlazada para pilas o colas. Sin embargo, para el acceso rápido a elementos, las estructuras como diccionarios (que tienen acceso promedio O(1)) pueden ser más eficientes.\n",
    "\n",
    "En resumen, aunque las listas enlazadas tienen sus aplicaciones y son útiles en ciertas circunstancias, a menudo no son la opción más eficiente en términos de tiempo y memoria para muchas de las operaciones comunes que se realizan en los programas. La elección de la estructura de datos apropiada depende del caso de uso específico y de los requerimientos del programa."
   ]
  },
  {
   "cell_type": "markdown",
   "id": "5e1e6098-c456-44d7-9845-ead660a18829",
   "metadata": {
    "jp-MarkdownHeadingCollapsed": true
   },
   "source": [
    "## podes aclararme mejor el punto 3 y por que seria una desventaja  \n",
    "\n",
    "GPT : Claro, el punto 3 se refiere a la **localidad de caché** y cómo afecta al rendimiento de las listas enlazadas en comparación con otras estructuras d\n",
    "e datos, específicamente aquellas que almacenan elementos contiguos, como las listas (arreglos dinámicos) en Python."
   ]
  },
  {
   "cell_type": "markdown",
   "id": "7b91170d-8ccb-4802-9970-ff159365a5ed",
   "metadata": {},
   "source": [
    "### Localidad de Caché\n",
    "\n",
    "La **localidad de caché** se refiere a la forma en que las CPU acceden a la memoria y cómo el diseño de la memoria y la arquitectura de la CPU afectan la velocidad de acceso a datos. Existen dos tipos principales de localidad:\n",
    "\n",
    "1. **Localidad temporal**: Si un dato se ha accedido recientemente, es probable que se vuelva a acceder pronto.\n",
    "2. **Localidad espacial**: Si un dato en una dirección de memoria se accede, es probable que los datos cercanos en la memoria también se accedan pronto.\n",
    "\n",
    "### Desventaja de las Listas Enlazadas\n",
    "\n",
    "#### Dispersión en la Memoria\n",
    "\n",
    "1. **Almacenamiento No Contiguo**: \n",
    "   - Un problema con las listas enlazadas es que los nodos pueden estar dispersos por toda la memoria. Cuando se añade un nodo, puede ser almacenado en cualquier lugar que tenga espacio disponible. Esto contrasta con estructuras como las listas de Python, donde los elementos están almacenados de manera contigua.\n",
    "\n",
    "2. **Acceso y Rendimiento**:\n",
    "   - Dado que los nodos de una lista enlazada pueden estar en ubicaciones de memoria completamente distintas, el acceso a elementos adyacentes puede requerir cargar diferentes bloques de memoria, lo que a su vez puede implicar acceder a diferentes líneas de caché.\n",
    "   - Cuando intentas acceder a elementos que están cerca entre sí (como en una operación de búsqueda o recorrido), la CPU espera que esos datos estén disponibles en caché. Sin embargo, en el caso de listas enlazadas, dado que los nodos pueden no estar contiguos, es menos probable que se acceda a ellos con la misma eficiencia que si estuvieran juntos (como en una lista de Python).\n",
    "\n",
    "#### Impacto en el Rendimiento\n",
    "\n",
    "- **Más Fallos de Caché**:\n",
    "  - Al acceder a una lista enlazada, es posible que se produzcan más \"fallos en caché\", lo que significa que la CPU tendrá que ir a la memoria principal para obtener los datos. Esto es mucho más lento que obtener los datos de la caché de la CPU.\n",
    "- **Latencia**: \n",
    "  - Cada vez que la CPU necesita acceder a una ubicación de memoria que no está en caché, experimenta una latencia que puede ralentizar el rendimiento general del programa.\n",
    "\n",
    "### Comparación con Listas Contiguas\n",
    "\n",
    "En contraste, cuando usas listas que son contiguas en memoria (como las listas en Python), el acceso a datos adyacentes es mucho más eficiente. Los sistemas de caché están diseñados para trabajar de manera óptima con datos que están agrupados, lo que significa que:\n",
    "\n",
    "- Cuando se accede a un elemento, puede que se carguen varios elementos adyacentes en caché, lo que hace que accesos posteriores sean mucho más rápidos.\n",
    "\n",
    "### Coclusión\n",
    "\n",
    "La menor localidad de caché en listas enlazadas se traduce en un menor rendimiento en muchas situaciones donde se accede repetidamente a los elementos. Por esta razón, en aplicaciones donde el rendimiento es crítico y se hacen muchas operaciones de lectura, las listas enlazadas podrían no ser la elección más eficiente en comparación con estructuras de datos que utilizan almacenamiento contiguo."
   ]
  },
  {
   "cell_type": "markdown",
   "id": "03e19de9",
   "metadata": {},
   "source": [
    "## como mejorarias en eficiencia y en manejo de errores mi lista enlazada"
   ]
  },
  {
   "cell_type": "markdown",
   "id": "2b313085",
   "metadata": {},
   "source": [
    "Para mejorar la eficiencia y el manejo de errores de tu lista enlazada, puedes considerar las siguientes sugerencias:\n",
    "\n",
    "1. Uso de excepciones para el manejo de errores: Implementa excepciones para manejar errores como intentos de acceso a nodos inexistentes o operaciones en una lista vacía.\n",
    "\n",
    "Optimización de operaciones comunes: Asegúrate de que las operaciones comunes como inserción, eliminación y búsqueda sean lo más eficientes posible. Por ejemplo, mantener una referencia al último nodo puede hacer que las inserciones al final de la lista sean O(1) en lugar de O(n).\n",
    "\n",
    "Documentación y pruebas unitarias: Asegúrate de documentar bien tu código y de escribir pruebas unitarias para verificar que todas las operaciones de la lista enlazada funcionen correctamente.\n",
    "\n",
    "Uso de nodos centinela: Considera el uso de nodos centinela (dummy nodes) para simplificar la lógica de inserción y eliminación, especialmente en listas doblemente enlazadas.\n",
    "\n",
    "Aquí tienes un ejemplo de cómo podrías implementar algunas de estas mejoras en Python:"
   ]
  },
  {
   "cell_type": "code",
   "execution_count": 2,
   "id": "c931c60f",
   "metadata": {},
   "outputs": [],
   "source": [
    "class Node:\n",
    "    def __init__(self, valor=None):\n",
    "        self.valor = valor\n",
    "        self.proximo = None\n",
    "\n",
    "class LinkedList:\n",
    "    def __init__(self):\n",
    "        self.inicio = None\n",
    "        self.final = None\n",
    "        self.longitud = 0\n",
    "\n",
    "    def _esta_vacia(self):\n",
    "        return self.longitud == 0\n",
    "\n",
    "    def append(self, valor):\n",
    "        nodo_nuevo = Node(valor)\n",
    "        if self._esta_vacia():\n",
    "            self.inicio = nodo_nuevo\n",
    "            self.final  = nodo_nuevo\n",
    "        else:\n",
    "            self.final.proximo = nodo_nuevo\n",
    "            self.final = nodo_nuevo\n",
    "        self.longitud += 1\n",
    "\n",
    "    def prepend(self, valor):\n",
    "        nodo_nuevo = Node(valor)\n",
    "        if self._esta_vacia():\n",
    "            self.head = nodo_nuevo\n",
    "            self.tail = nodo_nuevo\n",
    "        else:\n",
    "            nodo_nuevo.proximo = self.inicio\n",
    "            self.inicio = nodo_nuevo\n",
    "        self.longitud += 1\n",
    "\n",
    "    def delete(self, valor):\n",
    "        if self._esta_vacia():\n",
    "            raise ValueError(\"La lista está vacía\")\n",
    "        \n",
    "        actual = self.inicio\n",
    "        previo = None\n",
    "\n",
    "        while actual is not None:\n",
    "            if actual.valor == valor:\n",
    "                if previo is None:\n",
    "                    self.inicio = actual.next\n",
    "                else:\n",
    "                    previo.proximo = actual.proximo\n",
    "\n",
    "                if actual.proximo is None:\n",
    "                    self.final = previo\n",
    "\n",
    "                self.longitud -= 1\n",
    "                return\n",
    "            previo = actual\n",
    "            actual = actual.proximo\n",
    "\n",
    "        raise ValueError(\"El elemento no se encuentra en la lista\")\n",
    "\n",
    "    def find(self, valor):\n",
    "        actual = self.inicio\n",
    "        indice = 0\n",
    "        while actual is not None:\n",
    "            if actual.valor == valor:\n",
    "                return indice\n",
    "            actual = actual.proximo\n",
    "            indice +=1\n",
    "        else:\n",
    "            return -1\n",
    "\n",
    "    def __len__(self):\n",
    "        return self.longitud\n",
    "\n",
    "    def __iter__(self):\n",
    "        actual = self.inicio\n",
    "        while actual is not None:\n",
    "            yield actual.valor\n",
    "            actual = actual.proximo\n",
    "\n",
    "    def __str__(self):\n",
    "        actual = self.inicio\n",
    "        string = \"\"\n",
    "        while actual is not None:\n",
    "                string += str(actual.valor) + \" -> \"\n",
    "                actual = actual.proximo\n",
    "        else:\n",
    "            string += str(actual) # Indica el final de la lista\n",
    "        return string\n",
    "\n",
    "    def __repr__(self):\n",
    "        return \"ListaEnlazada :\" + str(self)\n",
    "\n",
    "    \n",
    "    "
   ]
  },
  {
   "cell_type": "code",
   "execution_count": 3,
   "id": "11130d49",
   "metadata": {},
   "outputs": [
    {
     "data": {
      "text/plain": [
       "ListaEnlazada :None"
      ]
     },
     "execution_count": 3,
     "metadata": {},
     "output_type": "execute_result"
    }
   ],
   "source": [
    "lista = LinkedList()\n",
    "lista"
   ]
  },
  {
   "cell_type": "code",
   "execution_count": 4,
   "id": "560d83b2",
   "metadata": {},
   "outputs": [],
   "source": [
    "lista.append(1)\n",
    "lista.append(2)\n",
    "lista.append(3)\n",
    "lista.append(4)\n"
   ]
  },
  {
   "cell_type": "code",
   "execution_count": 5,
   "id": "59979d89",
   "metadata": {},
   "outputs": [
    {
     "data": {
      "text/plain": [
       "4"
      ]
     },
     "execution_count": 5,
     "metadata": {},
     "output_type": "execute_result"
    }
   ],
   "source": [
    "len(lista)"
   ]
  },
  {
   "cell_type": "code",
   "execution_count": 6,
   "id": "62a704d4",
   "metadata": {},
   "outputs": [
    {
     "name": "stdout",
     "output_type": "stream",
     "text": [
      "1 -> 2 -> 3 -> 4 -> None\n"
     ]
    }
   ],
   "source": [
    "print(lista)"
   ]
  },
  {
   "cell_type": "code",
   "execution_count": 7,
   "id": "5e203bd6",
   "metadata": {},
   "outputs": [],
   "source": [
    "lista.prepend(0)"
   ]
  },
  {
   "cell_type": "code",
   "execution_count": 8,
   "id": "68ff6358",
   "metadata": {},
   "outputs": [
    {
     "data": {
      "text/plain": [
       "ListaEnlazada :0 -> 1 -> 2 -> 3 -> 4 -> None"
      ]
     },
     "execution_count": 8,
     "metadata": {},
     "output_type": "execute_result"
    }
   ],
   "source": [
    "lista"
   ]
  },
  {
   "cell_type": "code",
   "execution_count": 9,
   "id": "5722f0d2",
   "metadata": {},
   "outputs": [
    {
     "data": {
      "text/plain": [
       "4"
      ]
     },
     "execution_count": 9,
     "metadata": {},
     "output_type": "execute_result"
    }
   ],
   "source": [
    "lista.find(4)"
   ]
  },
  {
   "cell_type": "code",
   "execution_count": 10,
   "id": "5c807330",
   "metadata": {},
   "outputs": [
    {
     "data": {
      "text/plain": [
       "-1"
      ]
     },
     "execution_count": 10,
     "metadata": {},
     "output_type": "execute_result"
    }
   ],
   "source": [
    "lista.find(5)"
   ]
  },
  {
   "cell_type": "markdown",
   "id": "839c751a",
   "metadata": {},
   "source": [
    "Mejoras implementadas:\n",
    "\n",
    "- Excepciones: Se utilizan excepciones para manejar errores como la eliminación de un elemento en una lista vacía o la búsqueda de un elemento inexistente.\n",
    "- Optimización: Se mantiene una referencia al último nodo (final) para hacer que las inserciones al final de la lista sean O(1).\n",
    "- Métodos adicionales: Métodos como `_esta_vacia` , `__len__` y `__iter__` para mejorar la usabilidad y eficiencia de la lista enlazada."
   ]
  },
  {
   "cell_type": "code",
   "execution_count": null,
   "id": "4bd9a037",
   "metadata": {},
   "outputs": [],
   "source": []
  },
  {
   "cell_type": "code",
   "execution_count": 11,
   "id": "f41a3035",
   "metadata": {},
   "outputs": [],
   "source": [
    "class MiListaEnlazada(LinkedList):\n",
    "\n",
    "    def __getitem__(self, index):\n",
    "        if isinstance(index, slice):\n",
    "            inicio, final, paso = index.indices(self.longitud)\n",
    "            nueva_lista = MiListaEnlazada()\n",
    "            for i in range(inicio, final, paso):\n",
    "                nueva_lista.append(self[i])\n",
    "            return nueva_lista\n",
    "        if index < 0:\n",
    "            index += self.longitud\n",
    "        if index >= self.longitud:\n",
    "            raise IndexError(\"Indice fuera de rango\")\n",
    "        \n",
    "        actual = self.inicio\n",
    "        for i in range(index):\n",
    "            actual = actual.proximo\n",
    "        return actual.valor"
   ]
  },
  {
   "cell_type": "markdown",
   "id": "1daf0857",
   "metadata": {},
   "source": [
    "Explicación:\n",
    "- `__getitem__`: \n",
    "  - Permite acceder a elementos de la lista utilizando corchetes y un índice.\n",
    "  - Soporta índices negativos.\n",
    "  - Soporta slicing utilizando slice.\n",
    "    - Para slicing, crea una nueva instancia de MiListaEnlazada y añade los elementos correspondientes al slice.\n",
    "  - Lanza una excepción IndexError si el índice está fuera de rango.\n",
    "  - Itera hasta el índice deseado y devuelve el valor del nodo."
   ]
  },
  {
   "cell_type": "code",
   "execution_count": 12,
   "id": "b7e26ad8",
   "metadata": {},
   "outputs": [],
   "source": [
    "lista = MiListaEnlazada()\n",
    "lista.append(1)\n",
    "lista.append(2)\n",
    "lista.append(3)\n",
    "lista.append(4)\n",
    "lista.append(5)\n"
   ]
  },
  {
   "cell_type": "code",
   "execution_count": 13,
   "id": "271e627a",
   "metadata": {},
   "outputs": [
    {
     "name": "stdout",
     "output_type": "stream",
     "text": [
      "1 -> 2 -> 3 -> 4 -> 5 -> None\n"
     ]
    }
   ],
   "source": [
    "\n",
    "print(lista)\n"
   ]
  },
  {
   "cell_type": "code",
   "execution_count": 14,
   "id": "c3db5730",
   "metadata": {},
   "outputs": [],
   "source": [
    "nueva_lista = lista[1:3:1]\n"
   ]
  },
  {
   "cell_type": "code",
   "execution_count": 15,
   "id": "1cbb8f7e",
   "metadata": {},
   "outputs": [
    {
     "data": {
      "text/plain": [
       "ListaEnlazada :2 -> 3 -> None"
      ]
     },
     "execution_count": 15,
     "metadata": {},
     "output_type": "execute_result"
    }
   ],
   "source": [
    "nueva_lista"
   ]
  },
  {
   "cell_type": "code",
   "execution_count": 16,
   "id": "7b6fd98f",
   "metadata": {},
   "outputs": [
    {
     "name": "stdout",
     "output_type": "stream",
     "text": [
      "5 -> 4 -> 3 -> 2 -> 1 -> None\n"
     ]
    }
   ],
   "source": [
    "print(lista[::-1])\n"
   ]
  },
  {
   "cell_type": "code",
   "execution_count": 17,
   "id": "179956e0",
   "metadata": {},
   "outputs": [
    {
     "data": {
      "text/plain": [
       "5"
      ]
     },
     "execution_count": 17,
     "metadata": {},
     "output_type": "execute_result"
    }
   ],
   "source": [
    "lista[-1]"
   ]
  },
  {
   "cell_type": "code",
   "execution_count": 18,
   "id": "d1e8cf61",
   "metadata": {},
   "outputs": [
    {
     "data": {
      "text/plain": [
       "4"
      ]
     },
     "execution_count": 18,
     "metadata": {},
     "output_type": "execute_result"
    }
   ],
   "source": [
    "lista.find(5)"
   ]
  },
  {
   "cell_type": "code",
   "execution_count": 76,
   "id": "d3f3c026",
   "metadata": {},
   "outputs": [],
   "source": [
    "class MiListaEnlazada(MiListaEnlazada):\n",
    "\n",
    "    def __setitem__(self, index, valor):\n",
    "        if isinstance(index, slice):\n",
    "            start, stop, step = index.indices(self.longitud)\n",
    "            indices = range(start, stop, step)\n",
    "            if len(indices) != len(valor):\n",
    "                raise ValueError(\"La longitud del valor no coincide con la longitud del slice\")\n",
    "            for i, val in zip(range(start, stop, step), valor):\n",
    "                self[i] = val\n",
    "            return \n",
    "        if index < 0:\n",
    "            index += self.longitud\n",
    "        if index >= self.longitud:\n",
    "            raise IndexError(\"Indice fuera de rango\")\n",
    "        \n",
    "        actual = self.inicio\n",
    "        for i in range(index):\n",
    "            actual = actual.proximo\n",
    "        actual.valor = valor"
   ]
  },
  {
   "cell_type": "code",
   "execution_count": 77,
   "id": "118d931b",
   "metadata": {},
   "outputs": [
    {
     "name": "stdout",
     "output_type": "stream",
     "text": [
      "1 -> 2 -> 3 -> 4 -> 5 -> None\n"
     ]
    }
   ],
   "source": [
    "lista = MiListaEnlazada()\n",
    "lista.append(1)\n",
    "lista.append(2)\n",
    "lista.append(3)\n",
    "lista.append(4)\n",
    "lista.append(5)\n",
    "\n",
    "print(lista)"
   ]
  },
  {
   "cell_type": "code",
   "execution_count": 78,
   "id": "a10b713a",
   "metadata": {},
   "outputs": [],
   "source": [
    "lista[0] = 0"
   ]
  },
  {
   "cell_type": "code",
   "execution_count": 79,
   "id": "35dd8663",
   "metadata": {},
   "outputs": [
    {
     "data": {
      "text/plain": [
       "ListaEnlazada :0 -> 2 -> 3 -> 4 -> 5 -> None"
      ]
     },
     "execution_count": 79,
     "metadata": {},
     "output_type": "execute_result"
    }
   ],
   "source": [
    "lista"
   ]
  },
  {
   "cell_type": "code",
   "execution_count": 80,
   "id": "9e96cc1f",
   "metadata": {},
   "outputs": [
    {
     "data": {
      "text/plain": [
       "ListaEnlazada :cero -> uno -> 3 -> 4 -> 5 -> None"
      ]
     },
     "execution_count": 80,
     "metadata": {},
     "output_type": "execute_result"
    }
   ],
   "source": [
    "lista [:2] = [\"cero\", \"uno\"]\n",
    "lista"
   ]
  },
  {
   "cell_type": "code",
   "execution_count": 81,
   "id": "a3be98f9",
   "metadata": {},
   "outputs": [],
   "source": [
    "lista[2:5] = [\"seis\", \"siete\", 5555]"
   ]
  },
  {
   "cell_type": "code",
   "execution_count": 75,
   "id": "32a7f129",
   "metadata": {},
   "outputs": [
    {
     "data": {
      "text/plain": [
       "ListaEnlazada :cero -> uno -> seis -> siete -> 5555 -> None"
      ]
     },
     "execution_count": 75,
     "metadata": {},
     "output_type": "execute_result"
    }
   ],
   "source": [
    "lista"
   ]
  },
  {
   "cell_type": "code",
   "execution_count": null,
   "id": "b846b4e5",
   "metadata": {},
   "outputs": [],
   "source": []
  }
 ],
 "metadata": {
  "kernelspec": {
   "display_name": "Py310",
   "language": "python",
   "name": "py310"
  },
  "language_info": {
   "codemirror_mode": {
    "name": "ipython",
    "version": 3
   },
   "file_extension": ".py",
   "mimetype": "text/x-python",
   "name": "python",
   "nbconvert_exporter": "python",
   "pygments_lexer": "ipython3",
   "version": "3.10.9"
  }
 },
 "nbformat": 4,
 "nbformat_minor": 5
}
