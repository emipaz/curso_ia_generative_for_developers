{
 "cells": [
  {
   "cell_type": "markdown",
   "id": "ad8a7b0a-e657-4f17-8444-53ec0890b6df",
   "metadata": {},
   "source": [
    "# ¿Qué es una tabla hash?"
   ]
  },
  {
   "cell_type": "markdown",
   "id": "bec09f59-978e-49b1-afac-1a802d2871c5",
   "metadata": {},
   "source": [
    "GPT :Una tabla hash es una estructura de datos que implementa una colección de clave-valor, utilizada para almacenar y acceder a datos de manera eficiente. Funciona a través de una función hash, que es un algoritmo que transforma la clave en un índice numérico. \n",
    "\n",
    "Este índice se utiliza para almacenar el valor correspondiente en un array o lista.\n",
    "\n",
    "Aquí te explico los conceptos clave:\n",
    "\n",
    "1. **Clave**: Un identificador único que se utiliza para acceder a un valor específico en la tabla hash.\n",
    "2. **Valor**: El dato que se almacena y se relaciona con una clave.\n",
    "3. **Función hash**: Un algoritmo que toma la clave y devuelve un índice (o hash) que indica dónde almacenar o buscar el valor en la tabla.\n",
    "4. **Colisiones**: Ocurren cuando dos claves diferentes generan el mismo índice. Para manejar colisiones, se pueden utilizar diferentes técnicas, como encadenamiento (donde se almacenan múltiples valores en la misma ubicación utilizando una lista vinculada) o direccionamiento abierto (donde se busca diversas posiciones en el array hasta encontrar un espacio libre).        "
   ]
  },
  {
   "cell_type": "markdown",
   "id": "6fb534e9-befb-452c-8eb4-f23e55b6f2bd",
   "metadata": {},
   "source": [
    "### Ventajas de las tablas hash:"
   ]
  },
  {
   "cell_type": "markdown",
   "id": "9d58ca9f-4cf6-4633-b3ac-a26c429c0dc6",
   "metadata": {},
   "source": [
    "- **Acceso rápido**: Permiten acceder a los elementos en tiempo promedio O(1), lo que significa que, en general, el tiempo de búsqueda es constante independientemente del tamaño de la tabla.\n",
    "- **Almacenamiento eficiente**: Administran bien el espacio de almacenamiento."
   ]
  },
  {
   "cell_type": "markdown",
   "id": "c182c8ad-ba92-4de6-ab46-58f95b86dfec",
   "metadata": {},
   "source": [
    "### Desventajas:"
   ]
  },
  {
   "cell_type": "markdown",
   "id": "fee182d8-4941-4e20-aefd-58b9bc58be65",
   "metadata": {},
   "source": [
    "- **Colisiones**: Si no se manejan adecuadamente, pueden afectar la eficiencia de la tabla hash.\n",
    "- **Rehashing**: A medida que se añaden más elementos, puede ser necesario redimensionar la tabla y recalcular los índices, lo cual puede ser costoso.\n",
    "\n",
    "En resumen, las tablas hash son estructuras de datos muy útiles para realizar búsquedas y accesos rápidos a datos asociados a claves únicas."
   ]
  },
  {
   "cell_type": "markdown",
   "id": "85d8ae5d-5de1-4972-ba6a-40ca0c40e049",
   "metadata": {},
   "source": [
    "## ¿Cuál es la diferencia entre tabla hash y mapas de hash?"
   ]
  },
  {
   "cell_type": "markdown",
   "id": "c2dcaf2b-b239-45db-93a7-5e89067cac3c",
   "metadata": {},
   "source": [
    "GPT :La terminología \"tabla hash\" y \"mapa hash\" a menudo se utiliza de manera intercambiable, pero puede haber algunas diferencias sutiles dependiendo del contexto y del lenguaje de programación que se esté utilizando. Aquí te explico esas diferencias:"
   ]
  },
  {
   "cell_type": "markdown",
   "id": "fc24ae3f-56df-4a85-ab23-34c9ba7c299c",
   "metadata": {},
   "source": [
    "### Tabla Hash"
   ]
  },
  {
   "cell_type": "markdown",
   "id": "992fc296-82c1-4f69-880e-47908a2070a6",
   "metadata": {},
   "source": [
    "- **Definición**:\n",
    "\n",
    "        Una tabla hash se refiere a una estructura de datos fundamental que utiliza una función hash para mapear claves a índices en un array. Este término se centra en la estructura de almacenamiento y la técnica de hashing en sí.\n",
    "\n",
    "  <br>\n",
    "\n",
    "- **Uso**:\n",
    "\n",
    "        Generalmente se considera un concepto más abstracto o teórico que describe cómo funcionan las colecciones de datos basadas en hashing.\n"
   ]
  },
  {
   "cell_type": "markdown",
   "id": "508d2b88-7375-463d-a74e-a67845104581",
   "metadata": {},
   "source": [
    "### Mapa Hash"
   ]
  },
  {
   "cell_type": "markdown",
   "id": "9497512e-837a-45e7-937a-4066f6ae227c",
   "metadata": {},
   "source": [
    "- **Definición**:\n",
    "\n",
    "      Un mapa hash es una implementación específica de una tabla hash que proporciona una interfaz para asociar claves con valores. En muchos lenguajes de programación, un \"mapa\" es una colección que permite insertar, buscar, actualizar y eliminar pares de clave-valor.\n",
    "\n",
    "  <br>\n",
    "\n",
    "- **Uso**:\n",
    "\n",
    "      Se refiere más a una estructura de datos lista para usar, generalmente proporcionada como parte de bibliotecas o frameworks en lenguajes de programación. Por ejemplo, en Java, `HashMap` es una clase que implementa un mapa hash; en Python, el tipo de dato `dict` funciona como un mapa hash."
   ]
  },
  {
   "cell_type": "markdown",
   "id": "bed7dff9-2385-426a-9a41-ce97a251ea4d",
   "metadata": {},
   "source": [
    "### Ejemplo en Lenguajes de Programación"
   ]
  },
  {
   "cell_type": "markdown",
   "id": "42ed3327-238d-4ade-8b34-9f45b72ab2a6",
   "metadata": {},
   "source": [
    "- **En Java**:\n",
    "  - `HashMap` es una implementación de un mapa hash y utiliza internamente una tabla hash.\n",
    "- **En Python**:\n",
    "  - Los diccionarios (`dict`) utilizan una implementación de tabla hash para almacenar pares de clave-valor.\n",
    "  - Los conjuntos (`set`) Utilizan hash para almacenar elementos únicos y permitir búsquedas rápidas.       "
   ]
  },
  {
   "cell_type": "markdown",
   "id": "34846380-889c-495a-9c8a-4bad409facb2",
   "metadata": {},
   "source": [
    "### Resumen"
   ]
  },
  {
   "cell_type": "markdown",
   "id": "30a4db09-cab5-4aff-a805-ee23d36e9cf7",
   "metadata": {},
   "source": [
    "En resumen, la “tabla hash” se refiere a la estructura de datos subyacente y la función hashing que permite el almacenamiento y recuperación, mientras que un “mapa hash” es una aplicación práctica de esa estructura que proporciona métodos y funciones para interactuar con los datos de una manera más conveniente. Sin embargo, en muchos contextos, los términos pueden ser utilizados indistintamente."
   ]
  },
  {
   "cell_type": "markdown",
   "id": "ce2cdbc9-ef7f-4568-b23c-387a9736da21",
   "metadata": {},
   "source": [
    "## funcion `hash` en python"
   ]
  },
  {
   "cell_type": "markdown",
   "id": "bc17fac8-64b8-4552-91f5-354199bf1722",
   "metadata": {},
   "source": [
    "La funcion hash es la responzable en python de generar una clave unica para un objeto inmutable.  \n",
    "Devuelve el método `__hash__` de un objeto"
   ]
  },
  {
   "cell_type": "markdown",
   "id": "3fd208dd-000c-428a-b244-409f0d894e2b",
   "metadata": {},
   "source": [
    "## 📌 Reglas clave al definir `__hash__`\n",
    "\n",
    "Si defines `__hash__`, también debes definir `__eq__`, ya que los objetos iguales deben tener el mismo hash.\n",
    "\n",
    "El hash debe basarse en atributos inmutables del objeto.\n",
    "> Si el objeto es mutable, es mejor no definir `__hash__` o devolver None para evitar problemas en estructuras como set o dict."
   ]
  },
  {
   "cell_type": "code",
   "execution_count": 28,
   "id": "6f640369-31fb-4dcb-a5c2-adb6b60b2977",
   "metadata": {},
   "outputs": [],
   "source": [
    "class Persona:\n",
    "    def __init__(self, nombre, edad):\n",
    "        self.nombre = nombre\n",
    "        self.edad = edad\n",
    "\n",
    "    def __eq__(self, otro):\n",
    "        if isinstance(otro, Persona):\n",
    "            # return self.nombre == otro.nombre and self.edad == otro.edad\n",
    "            return self.__hash__() == otro.__hash__()\n",
    "        return False\n",
    "\n",
    "    def __hash__(self):\n",
    "        return hash((self.nombre, self.edad))  # Usamos una tupla para generar un hash único"
   ]
  },
  {
   "cell_type": "markdown",
   "id": "e8cea941-d73b-44f5-9d6c-8368a0aeddf3",
   "metadata": {},
   "source": [
    "**Explicación del código**\n",
    "- `__eq__`: compara si dos objetos tienen el mismo nombre y edad.\n",
    "- `__hash__`: devuelve un valor único basado en una tupla (nombre, edad), usando la función hash() incorporada de Python.\n",
    "\n",
    "Como resultado, los objetos pueden ser usados en set y como claves en dict, con el mismo comportamiento que los tipos inmutables en Python."
   ]
  },
  {
   "cell_type": "code",
   "execution_count": 29,
   "id": "1af7d903-6057-40ae-b36b-6b8e2a86d0ce",
   "metadata": {},
   "outputs": [],
   "source": [
    "# Ejemplo de uso\n",
    "p1 = Persona(\"Alice\", 30)\n",
    "p2 = Persona(\"Alice\", 30)\n",
    "p3 = Persona(\"Bob\", 25)"
   ]
  },
  {
   "cell_type": "code",
   "execution_count": 30,
   "id": "9c8b6d82-4c1c-4740-bb0c-4e5e6fa9d58d",
   "metadata": {},
   "outputs": [
    {
     "name": "stdout",
     "output_type": "stream",
     "text": [
      "True\n",
      "False\n"
     ]
    }
   ],
   "source": [
    "# Verificación de igualdad\n",
    "print(p1 == p2)  # True (porque nombre y edad son iguales)\n",
    "print(p1 == p3)  # False"
   ]
  },
  {
   "cell_type": "code",
   "execution_count": 31,
   "id": "7f6e8719-b62a-47e6-8dab-f27d1a533203",
   "metadata": {},
   "outputs": [
    {
     "data": {
      "text/plain": [
       "(4146672322379050087, 4146672322379050087)"
      ]
     },
     "execution_count": 31,
     "metadata": {},
     "output_type": "execute_result"
    }
   ],
   "source": [
    "p1.__hash__(), hash(p2)"
   ]
  },
  {
   "cell_type": "code",
   "execution_count": 32,
   "id": "dfd8b4cb-0384-491e-a582-d43b37a70797",
   "metadata": {},
   "outputs": [
    {
     "name": "stdout",
     "output_type": "stream",
     "text": [
      "2\n"
     ]
    }
   ],
   "source": [
    "# Uso en un conjunto (set)\n",
    "personas = {p1, p2, p3}\n",
    "print(len(personas))  # 2 (p1 y p2 son considerados iguales)"
   ]
  },
  {
   "cell_type": "code",
   "execution_count": 33,
   "id": "69c5818e-cb96-4f98-b5ac-0cf07e280a6f",
   "metadata": {},
   "outputs": [
    {
     "name": "stdout",
     "output_type": "stream",
     "text": [
      "Doctor\n"
     ]
    }
   ],
   "source": [
    "# Uso como clave en un diccionario\n",
    "personas = {p1: \"Doctor\", p3: \"Ingeniero\"}\n",
    "print(personas[p2])  # \"Doctor\" (p1 y p2 son el mismo objeto para el diccionario)"
   ]
  },
  {
   "cell_type": "code",
   "execution_count": null,
   "id": "a115d5de-6a12-44d7-a97c-17253f99b872",
   "metadata": {},
   "outputs": [],
   "source": [
    "## Practicas de prompt para contar palabras"
   ]
  },
  {
   "cell_type": "markdown",
   "id": "3489fe75-d834-4385-9e07-e5f7823e7a42",
   "metadata": {},
   "source": [
    "## Escriba código Python simple utilizando el lenguaje base para descargar texto de una URL determinada y luego cuente cada instancia de cada palabra en ese texto.\n",
    "\n",
    "GPT : Claro, a continuación te muestro un código en Python que descarga el contenido de una URL y cuenta las instancias de cada palabra en el texto. Para esto, utilizaremos las bibliotecas `requests` para obtener el contenido de la URL y `collections.Counter` para contar las palabras.\n",
    "\n",
    "Primero, asegúrate de tener instalada la biblioteca `requests`. Puedes instalarla usando pip si no la tienes ya:\n",
    "\n",
    "```bash\n",
    "pip install requests\n",
    "```\n",
    "\n",
    "Aquí tienes el código:"
   ]
  },
  {
   "cell_type": "code",
   "execution_count": 37,
   "id": "a7dfd8bc-e890-4812-819b-573f5aa5f213",
   "metadata": {},
   "outputs": [],
   "source": [
    "import requests\n",
    "from collections import Counter\n",
    "import re\n",
    "\n",
    "# Función para descargar el texto de una URL\n",
    "def descargar_texto(url):\n",
    "    try:\n",
    "        respuesta = requests.get(url)\n",
    "        respuesta.raise_for_status()  # Lanza un error si la respuesta es mala\n",
    "        return respuesta.text\n",
    "    except requests.RequestException as e:\n",
    "        print(f\"Error al descargar: {e}\")\n",
    "        return \"\"\n",
    "\n",
    "# Función para contar palabras en un texto\n",
    "def contar_palabras(texto):\n",
    "    # Usar una expresión regular para extraer las palabras\n",
    "    palabras = re.findall(r'\\b\\w+\\b', texto.lower())  # Usamos lower() para contar sin distinción de mayúsculas\n",
    "    contador = Counter(palabras)\n",
    "    return contador"
   ]
  },
  {
   "cell_type": "code",
   "execution_count": 47,
   "id": "284d3698-8a19-4172-bcda-3b101ea23312",
   "metadata": {},
   "outputs": [],
   "source": [
    "def palabras(url):\n",
    "    texto = descargar_texto(url)\n",
    "    if texto:\n",
    "        conteo_palabras = contar_palabras(texto)\n",
    "        # Imprimir el conteo de palabras\n",
    "        for palabra, cantidad in conteo_palabras.most_common(100):\n",
    "            print(f\"{palabra}: {cantidad}\")\n"
   ]
  },
  {
   "cell_type": "code",
   "execution_count": 48,
   "id": "270eb576-fb1a-4011-936b-7f0fcb9b8881",
   "metadata": {},
   "outputs": [],
   "source": [
    "### Instrucciones:"
   ]
  },
  {
   "cell_type": "markdown",
   "id": "5fb47c84-3085-465f-8b89-01a48dd37ce2",
   "metadata": {},
   "source": [
    "1. **Reemplaza** `'https://www.ejemplo.com'` con la URL de la cual deseas descargar el texto.\n",
    "2. **Ejecuta el código** en tu entorno de Python.\n",
    "\n",
    "### Detalles del Código:\n",
    "\n",
    "- **descargar_texto**: Esta función toma una URL y devuelve el contenido de la respuesta en texto. Maneja excepciones si hay \n",
    "algún problema de conexión.\n",
    "- **contar_palabras**: Esta función toma el texto, normaliza a minúsculas, utiliza una expresión regular para encontrar todas\n",
    " las palabras y cuenta cuántas veces aparece cada una.\n",
    "- El resultado se imprime en forma de pares `palabra: cantidad`.\n",
    "\n",
    "Este código es bastante básico y puede ampliarse o modificarse según las necesidades específicas, como filtrar palabras comun\n",
    "es (stop words) o manejar la codificación del texto de manera más rigurosa."
   ]
  },
  {
   "cell_type": "code",
   "execution_count": 49,
   "id": "d0280082-8eb0-4e19-b1aa-cb571d5faba5",
   "metadata": {},
   "outputs": [
    {
     "name": "stdout",
     "output_type": "stream",
     "text": [
      "y: 470\n",
      "que: 457\n",
      "el: 386\n",
      "la: 333\n",
      "a: 331\n",
      "de: 327\n",
      "en: 257\n",
      "me: 240\n",
      "no: 215\n",
      "un: 197\n",
      "the: 188\n",
      "se: 170\n",
      "los: 164\n",
      "lo: 157\n",
      "al: 131\n",
      "con: 131\n",
      "las: 125\n",
      "of: 123\n",
      "le: 117\n",
      "como: 117\n",
      "gutenberg: 98\n",
      "yo: 98\n",
      "project: 89\n",
      "una: 85\n",
      "si: 83\n",
      "to: 82\n",
      "por: 79\n",
      "or: 77\n",
      "ni: 76\n",
      "you: 75\n",
      "es: 74\n",
      "más: 68\n",
      "mi: 67\n",
      "gaucho: 66\n",
      "and: 66\n",
      "su: 66\n",
      "pa: 66\n",
      "in: 60\n",
      "pero: 59\n",
      "sin: 58\n",
      "era: 48\n",
      "with: 47\n",
      "1: 47\n",
      "this: 45\n",
      "ya: 45\n",
      "work: 45\n",
      "cuando: 44\n",
      "del: 41\n",
      "any: 37\n",
      "sus: 36\n",
      "para: 33\n",
      "nos: 32\n",
      "works: 32\n",
      "he: 31\n",
      "aunque: 31\n",
      "by: 30\n",
      "qué: 30\n",
      "había: 30\n",
      "pues: 29\n",
      "not: 28\n",
      "hasta: 28\n",
      "ha: 27\n",
      "hay: 27\n",
      "electronic: 27\n",
      "for: 26\n",
      "les: 26\n",
      "o: 26\n",
      "tan: 25\n",
      "mas: 25\n",
      "foundation: 25\n",
      "are: 24\n",
      "siempre: 24\n",
      "porque: 24\n",
      "hombre: 24\n",
      "otro: 24\n",
      "uno: 24\n",
      "is: 23\n",
      "entre: 23\n",
      "allí: 23\n",
      "día: 23\n",
      "ansí: 23\n",
      "vez: 23\n",
      "e: 23\n",
      "terms: 22\n",
      "if: 22\n",
      "nunca: 22\n",
      "esa: 21\n",
      "amigo: 20\n",
      "todo: 20\n",
      "dende: 20\n",
      "soy: 20\n",
      "copyright: 20\n",
      "states: 19\n",
      "pobre: 19\n",
      "tiene: 19\n",
      "él: 19\n",
      "son: 19\n",
      "mis: 19\n",
      "tal: 19\n",
      "license: 18\n"
     ]
    }
   ],
   "source": [
    "palabras(\"https://www.gutenberg.org/cache/epub/14765/pg14765.txt\")"
   ]
  },
  {
   "cell_type": "markdown",
   "id": "2429756d-bf52-43d5-b90b-ffff9e5233a9",
   "metadata": {},
   "source": [
    "## No estoy familiarizado con el contador en Python. Explícame qué es.\n",
    "\n",
    "GPT : ¡Claro! El `Counter` en Python es una clase que pertenece al módulo `collections`, y se utiliza para contar elementos e\n",
    "n una colección (como una lista, una tupla, o cualquier iterable). Es especialmente útil para contar la frecuencia de element\n",
    "os, como en el caso de contar palabras en un texto."
   ]
  },
  {
   "cell_type": "markdown",
   "id": "a0325b9b-0ffc-4a62-bf50-1a8aa4afb47a",
   "metadata": {},
   "source": [
    "### Principales características de `Counter`:"
   ]
  },
  {
   "cell_type": "markdown",
   "id": "6b2c9ff8-3b14-49cf-b6c8-a3308c667b4d",
   "metadata": {},
   "source": [
    "1. **Contar Elementos**: Permite contar la cantidad de veces que aparece cada elemento en un iterable. El resultado es un dic\n",
    "cionario donde las claves son los elementos y los valores son los conteos.\n",
    "2. **Uso Sencillo**: Solo necesitas pasarle un iterable (como una lista o un string), y te devolverá un `Counter` que contien\n",
    "e la cantidad de veces que aparece cada elemento.\n",
    "3. **Métodos útiles**: `Counter` viene con algunos métodos útiles:\n",
    "   - `most_common(n)`: Retorna una lista de las n palabras más comunes y sus contajes.\n",
    "   - `elements()`: Devuelve un iterador que produce cada elemento en el conteo."
   ]
  },
  {
   "cell_type": "markdown",
   "id": "d2d2ece5-59ef-437e-b725-725241079470",
   "metadata": {},
   "source": [
    "### Ejemplo de uso básico:"
   ]
  },
  {
   "cell_type": "markdown",
   "id": "e00dd0cc-de36-45b6-92ec-a797931b1f41",
   "metadata": {},
   "source": [
    "Aquí hay un ejemplo sencillo de cómo se puede usar `Counter` para contar palabras en un texto:"
   ]
  },
  {
   "cell_type": "code",
   "execution_count": 51,
   "id": "354f1f83-8f43-4f08-acf5-dfb83c494090",
   "metadata": {},
   "outputs": [
    {
     "name": "stdout",
     "output_type": "stream",
     "text": [
      "Counter({'hola': 2, 'todos': 2, 'mundo': 1, 'a': 1, 'son': 1, 'bienvenidos': 1})\n"
     ]
    }
   ],
   "source": [
    "from collections import Counter\n",
    "\n",
    "# Un texto de ejemplo\n",
    "texto = \"hola mundo hola a todos todos son bienvenidos\"\n",
    "\n",
    "# Separamos las palabras y las contamos\n",
    "contador = Counter(texto.split())\n",
    "\n",
    "# Imprimiendo los resultados\n",
    "print(contador)\n"
   ]
  },
  {
   "cell_type": "markdown",
   "id": "e5f60e31-850b-4cef-9090-5c6575de8543",
   "metadata": {},
   "source": [
    "Esto indica que `hola` aparece 2 veces, `todos` también aparece 2 veces, y las otras palabras solo una vez."
   ]
  },
  {
   "cell_type": "markdown",
   "id": "95d7e73e-8246-4802-b0b9-d4d51fe5db73",
   "metadata": {},
   "source": [
    "### Cómo funciona en el código anterior:"
   ]
  },
  {
   "cell_type": "markdown",
   "id": "a1801095-3054-43e7-9a45-d97b6e51883d",
   "metadata": {},
   "source": [
    "En el contexto del código que compartí previamente, `Counter` se utiliza para contar las palabras extraídas de un texto descargado. Gracias a `Counter`, es muy sencillo obtener la frecuencia de cada palabra sin necesidad de implementar manualmente un contador con un diccionario.\n",
    "\n",
    "Si tienes más preguntas sobre `Counter` o cómo funciona, ¡no dudes en preguntar!"
   ]
  },
  {
   "cell_type": "markdown",
   "id": "e17e635f-e050-4651-a200-04466d85585b",
   "metadata": {},
   "source": [
    "## ¿Por qué usaste un contador para hacer esto, en lugar de solo un diccionario de Python?\n",
    "\n",
    "GPT : Usar un `Counter` de la biblioteca `collections` para contar elementos tiene varias ventajas sobre el uso de un diccion\n",
    "ario estándar de Python. Aquí te detallo algunas razones por las cuales puede ser preferible utilizar `Counter`:"
   ]
  },
  {
   "cell_type": "markdown",
   "id": "59a1c836-cce7-4193-a641-2d60bf252fae",
   "metadata": {},
   "source": [
    "### Ventajas de usar `Counter`"
   ]
  },
  {
   "cell_type": "markdown",
   "id": "5036dc1f-332b-4cca-b3ed-904fcb6ea793",
   "metadata": {},
   "source": [
    "1. **Simplicidad y Concisión**:\n",
    "   - `Counter` proporciona una forma más directa de contar elementos. Al pasar directamente un iterable a `Counter`, se cuentan automáticamente las ocurrencias de cada elemento sin necesidad de inicializar un diccionario y escribir un bucle explícito para contar manualmente."
   ]
  },
  {
   "cell_type": "code",
   "execution_count": 53,
   "id": "003b8d19-9010-40c3-bab5-057a5918b606",
   "metadata": {},
   "outputs": [
    {
     "data": {
      "text/plain": [
       "Counter({'hola': 2, 'mundo': 1})"
      ]
     },
     "execution_count": 53,
     "metadata": {},
     "output_type": "execute_result"
    }
   ],
   "source": [
    "from collections import Counter\n",
    "\n",
    "# Contar palabras directamente desde un iterable\n",
    "conteo = Counter(['hola', 'mundo', 'hola'])\n",
    "conteo   # Resultado: Counter({'hola': 2, 'mundo': 1})"
   ]
  },
  {
   "cell_type": "markdown",
   "id": "8b21cc0d-0a1a-46d7-8008-85ddfab5a72d",
   "metadata": {},
   "source": [
    "2. **Funciones Integradas**:\n",
    "  - `Counter` ofrece métodos útiles que hacen que trabajar con contajes sea más fácil. Por ejemplo, `most_common(n)` que devuelve los n elementos más comunes en el contador, lo que es muy práctico para análisis.\n",
    "\n",
    "   ```python\n",
    "   conteo.most_common(1)  # Devuelve el par de palabra y conteo más frecuente\n",
    "   ```"
   ]
  },
  {
   "cell_type": "markdown",
   "id": "4f708573-4638-4cf3-b133-984ba6f88e63",
   "metadata": {},
   "source": [
    "3. **Manejo Automático de Claves**:\n",
    "   - Al usar un diccionario normal, necesitas gestionar la inicialización de las claves. Si intentas incrementar el conteo de una palabra que no existe, obtendrás un error a menos que verifiques primero si la clave está en el diccionario. `Counter` maneja esto automáticamente.\n",
    "\n",
    "       ```python\n",
    "       contador = {}\n",
    "       palabra = 'hola'\n",
    "       if palabra in contador:\n",
    "           contador[palabra] += 1\n",
    "       else:\n",
    "           contador[palabra] = 1\n",
    "       ```\n",
    " \n",
    "   - Con `Counter`, simplemente haces:\n",
    "     \n",
    "       ```python\n",
    "       from collections import Counter\n",
    "       contador = Counter()\n",
    "       contador['hola'] += 1  # Esto funciona incluso si 'hola' no estaba presente\n",
    "       ```"
   ]
  },
  {
   "cell_type": "markdown",
   "id": "f5a37504-3636-421e-8432-e86ce7b350c3",
   "metadata": {},
   "source": [
    "5. **Interfaz Intuitiva**:\n",
    "   - La forma en que `Counter` está diseñado es intuitiva para contar elementos. A menudo es más fácil de entender y usar, especialmente para quienes son nuevos en programación o en Python."
   ]
  },
  {
   "cell_type": "markdown",
   "id": "1dfb6a9a-7769-4bb6-a483-41ed57b9bb8d",
   "metadata": {},
   "source": [
    "6. **Estructura de Datos Especializada**:\n",
    "   - `Counter` es una estructura de datos específica, optimizada para contar elementos, mientras que un diccionario es más general. Esto puede llevar a un\n",
    "a mejor legibilidad y mantenimiento del código."
   ]
  },
  {
   "cell_type": "markdown",
   "id": "4056c64d-83dc-4074-b041-f98628133394",
   "metadata": {},
   "source": [
    "### En resumen"
   ]
  },
  {
   "cell_type": "markdown",
   "id": "42aec3a3-de44-4390-88c6-b0872620ca62",
   "metadata": {},
   "source": [
    "Si bien puedes usar un diccionario normal para contar palabras, `Counter` proporciona una manera más eficiente, concisa y legible de hacerlo. Al usar `Counter`, puedes escribir menos código, evitar errores comunes y obtener funcionalidades adicionales que pueden ser útiles para análisis de datos. Sin embargo, para tareas muy simples, un diccionario completamente funcional puede ser suficiente. ¡Todo depende de las necesidades de tu aplicación y tu preferencia personal!"
   ]
  },
  {
   "cell_type": "markdown",
   "id": "19be5912-1ddf-477f-8e9f-670c9c51631b",
   "metadata": {},
   "source": [
    "## Veo que utilizas una expresión regular para dividir el corpus en palabras adicionales. ¿Es esta la forma más rápida y escalable? ¿Qué pasaría si hubiera millones de libros en lugar de solo uno?\n",
    "\n",
    "GPT : Utilizar expresiones regulares para dividir un texto en palabras es una técnica común y efectiva, pero hay pros y contras. Vamos a desglosarlos y an\n",
    "alizar qué otras soluciones existen, así como qué se debería considerar si se trabaja con un gran volumen de texto, como millones de libros."
   ]
  },
  {
   "cell_type": "markdown",
   "id": "51afff49-28b0-4486-a86b-82ccde03be35",
   "metadata": {},
   "source": [
    "### Uso de Expresiones Regulares"
   ]
  },
  {
   "cell_type": "markdown",
   "id": "00c6fcb4-d8d8-4366-b717-686602f3c3e7",
   "metadata": {},
   "source": [
    "**Ventajas:**\n",
    "- **Flexibilidad**: Las expresiones regulares permiten definir patrones complejos para identificar palabras y filtrar caracteres no deseados, como puntuac\n",
    "ión o espacios.\n",
    "- **Control**: Puedes fácilmente personalizar la forma en que se extraen las palabras, eliminando cualquier cosa que no desees incluir en los resultados.\n",
    "\n",
    "**Desventajas:**\n",
    "- **Rendimiento**: Para textos muy grandes, las expresiones regulares pueden ser menos eficientes en cuanto a tiempo de ejecución debido a la naturaleza c\n",
    "ompleja de la operación.\n",
    "- **Completitud**: No todos los casos de uso son cubiertos perfectamente solo con expresiones regulares. Haz que sea fácil pasar por alto ciertos casos de\n",
    " borde, dependiendo de cómo esté estructurado tu texto."
   ]
  },
  {
   "cell_type": "markdown",
   "id": "2b720f92-42ac-4569-af6b-03f2e62c7718",
   "metadata": {},
   "source": [
    "### Alternativas y Estrategias para Escalabilidad"
   ]
  },
  {
   "cell_type": "markdown",
   "id": "d5d88150-9bf7-42f7-bff5-660edaa0d905",
   "metadata": {},
   "source": [
    "1. **Tokenización con Bibliotecas**:\n",
    "   - Hay bibliotecas en Python como `nltk` (Natural Language Toolkit) o `spaCy` que están optimizadas para la tokenización y el procesamiento de lenguaje natural. Estas bibliotecas ofrecen herramientas especializadas que son más rápidas y están optimizadas para procesamiento de lenguaje natural.\n",
    "   - Estas bibliotecas generalmente manejan coherencia en la tokenización y se encargan de casos especiales, como contracciones (ej. \"no\" + \"me\" → \"no me\")."
   ]
  },
  {
   "cell_type": "code",
   "execution_count": 54,
   "id": "eecb4479-cbf2-497b-8e5e-298966090328",
   "metadata": {},
   "outputs": [
    {
     "data": {
      "text/plain": [
       "['Hola', ',', 'mundo', '.', '¿Cómo', 'estás', '?']"
      ]
     },
     "execution_count": 54,
     "metadata": {},
     "output_type": "execute_result"
    }
   ],
   "source": [
    "import nltk\n",
    "from nltk.tokenize import word_tokenize\n",
    "\n",
    "# Asegúrate de tener descargado el conjunto de datos necesario\n",
    "# nltk.download('punkt')\n",
    "\n",
    "texto = \"Hola, mundo. ¿Cómo estás?\"\n",
    "palabras = word_tokenize(texto)\n",
    "palabras"
   ]
  },
  {
   "cell_type": "markdown",
   "id": "d31c45f5-56de-4d4c-954f-3fd0dff12a54",
   "metadata": {},
   "source": [
    "2. **Uso de Múltiples Procesos**:\n",
    "   - Si tienes millones de libros, sería recomendable dividir el trabajo utilizando técnicas de procesamiento en paralelo (por ejemplo, usando `multiproce\n",
    "ssing` en Python) para procesar cada libro en paralelo y así acelerar el conteo de palabras."
   ]
  },
  {
   "cell_type": "markdown",
   "id": "40fbef54-526a-475d-97fa-ec5d6a7a3199",
   "metadata": {},
   "source": [
    "3. **Cadenas y Bytes**:\n",
    "   - Si la entrada es extremadamente grande, podría ser útil leer texto en bloques, en lugar de cargar un texto entero en memoria, lo que es más eficiente\n",
    " para la memoria y puede mejorar la velocidad de procesamiento."
   ]
  },
  {
   "cell_type": "markdown",
   "id": "8ada1c16-bb38-49e9-bec9-01a6f6b681a3",
   "metadata": {},
   "source": [
    "  4. **Almacenamiento Intermedio y Bases de Datos**:\n",
    "   - En lugar de mantener todos los datos en memoria, considera usar una base de datos para almacenar los resultados intermedios de los conteos de palabra\n",
    "s. Esto puede facilitar la gestión y el análisis de palabras en grandes volúmenes de datos."
   ]
  },
  {
   "cell_type": "markdown",
   "id": "1804bc00-5461-4de1-a666-60f4df858544",
   "metadata": {},
   "source": [
    "  5. **Optimización de Algoritmos**:\n",
    "   - Además de la tokenización, asegúrate de que el algoritmo que utiliza el contador sea eficiente. Puedes, por ejemplo, implementar soluciones de conteo\n",
    " que sean más eficientes en términos de espacio y tiempo."
   ]
  },
  {
   "cell_type": "markdown",
   "id": "49a27a07-8cab-44f4-8f42-3537387c2391",
   "metadata": {},
   "source": [
    "### Resumen"
   ]
  },
  {
   "cell_type": "markdown",
   "id": "ce86bcc2-0c7d-432e-9270-e2ed39919818",
   "metadata": {},
   "source": [
    "Para textos grandes o cuando se trabaja con grandes volúmenes de datos (como millones de libros), usa bibliotecas especializadas que manejan problemas de \n",
    "tokenización de manera eficiente, y considera estrategias para paralelizar y optimizar tu proceso. Esto no solo mejora el rendimiento, sino que también fa\n",
    "cilita la gestión de los datos procesados."
   ]
  },
  {
   "cell_type": "code",
   "execution_count": null,
   "id": "57a67049-34c8-4f67-b871-2cda3fed9938",
   "metadata": {},
   "outputs": [],
   "source": []
  },
  {
   "cell_type": "code",
   "execution_count": null,
   "id": "712c2d0c-4435-4747-a0b5-35620807f5dc",
   "metadata": {},
   "outputs": [],
   "source": []
  }
 ],
 "metadata": {
  "kernelspec": {
   "display_name": "Python 3 (ipykernel)",
   "language": "python",
   "name": "python3"
  },
  "language_info": {
   "codemirror_mode": {
    "name": "ipython",
    "version": 3
   },
   "file_extension": ".py",
   "mimetype": "text/x-python",
   "name": "python",
   "nbconvert_exporter": "python",
   "pygments_lexer": "ipython3",
   "version": "3.10.4"
  }
 },
 "nbformat": 4,
 "nbformat_minor": 5
}
