{
 "cells": [
  {
   "cell_type": "markdown",
   "id": "d0c65f0c-47cf-45ec-a2b5-acc288d74a04",
   "metadata": {},
   "source": [
    "# ¿Qué es un array?"
   ]
  },
  {
   "cell_type": "markdown",
   "id": "555537e7-e541-4560-a71e-58723e6127ef",
   "metadata": {},
   "source": [
    "Un array (o arreglo) es una colección de elementos, todos del mismo tipo, que se almacenan en ubicaciones contiguas de memoria. El tamaño de un array es fijo y se define cuando se crea. Los elementos dentro de un array se pueden acceder mediante un índice, que generalmente comienza en 0."
   ]
  },
  {
   "cell_type": "markdown",
   "id": "e2d3e2ca-700f-4bd5-92df-a41127c5af96",
   "metadata": {},
   "source": [
    "## Características de los arrays:"
   ]
  },
  {
   "cell_type": "markdown",
   "id": "a9b740d4-6123-4234-b567-c8323691c21b",
   "metadata": {},
   "source": [
    "1. **Tamaño fijo:** Una vez que se declara un array, su tamaño no puede cambiar. Si necesitas más espacio, tendrías que crear un nuevo array y copiar los \n",
    "elementos.\n",
    "\n",
    "2. **Tipo homogéneo:** Todos los elementos en un array deben ser del mismo tipo, ya sea un tipo primitivo (como enteros o caracteres) o un tipo de objeto.\n",
    "\n",
    "3. **Acceso rápido:** Los arrays permiten accesos rápidos a sus elementos mediante índices, con una complejidad de tiempo O(1) para acceder a cualquier el\n",
    "emento."
   ]
  },
  {
   "cell_type": "markdown",
   "id": "a9d932bc-308c-4975-b548-7bd940caa943",
   "metadata": {},
   "source": [
    "### Estructura básica de un array:"
   ]
  },
  {
   "cell_type": "markdown",
   "id": "b3bafd5c-8a37-4497-9bf4-9a27473f853e",
   "metadata": {
    "jp-MarkdownHeadingCollapsed": true
   },
   "source": [
    "La declaración de un array varía según el lenguaje de programación. A continuación, algunos ejemplos:\n",
    "\n",
    "- **En Java:**\n",
    "  ```java\n",
    "  int[] array = {1, 2, 3, 4, 5};\n",
    "  ```\n",
    ". \n",
    "- **En C:**\n",
    "  ```c\n",
    "  int array[] = {1, 2, 3, 4, 5};\n",
    "  ```\n",
    ".  \n",
    "- **En C#**\n",
    "  ```csharp\n",
    "  int[] arr = new int[] {1, 2, 3, 4, 5};  // Array de enteros\n",
    "  ```\n",
    ". \n",
    "- **En JavaScript (TypedArray con Int32Array)** \n",
    "  ```javascript\n",
    "  let arr = new Int32Array([1, 2, 3, 4, 5]);  // Array de enteros de 32 bits\n",
    "  ```\n",
    ".  \n",
    "- **En Python (Usando array de la librería estándar)**\n",
    "  ```python\n",
    "  import array\n",
    "  arr = array.array('i', [1, 2, 3, 4, 5])  # Array de enteros\n",
    "  ```\n",
    ".\n",
    "- **En Rust**\n",
    "  ```rust\n",
    "  let arr: [i32; 5] = [1, 2, 3, 4, 5];  // Array de 5 enteros\n",
    "  ```"
   ]
  },
  {
   "cell_type": "code",
   "execution_count": null,
   "id": "878c58e2-60ab-4607-988c-ae702ed77995",
   "metadata": {},
   "outputs": [],
   "source": [
    "import array as arr\n",
    "\n",
    "a = arr.array (\"i\",[1,2,3,4,5])\n",
    "print(a)\n",
    "\n",
    "print(\"primer elemento del array\", a[0])\n",
    "\n",
    "a[0]=10\n",
    "\n",
    "print(\"array modificado\", a)"
   ]
  },
  {
   "cell_type": "markdown",
   "id": "6d17b64c-81a0-4109-b069-7a61da96baf3",
   "metadata": {},
   "source": [
    "Aunque los arrays del módulo `array` tienen un tamaño inicial fijo en el momento de su creación, tienen la capacidad de redimensionarse dinámicamente (al igual que las listas de Python) a través de operaciones como `append()` y `extend()`.  \n",
    "\n",
    "Dicho de otro modo, no son realmente \"fijos\" en el sentido de que no puedes agregar o quitar elementos; sin embargo, el enfoque de diseño de su gestión de memoria y tipo de datos homogéneo les confiere características diferentes respecto a otras estructuras de datos en Python, como las listas."
   ]
  },
  {
   "cell_type": "code",
   "execution_count": null,
   "id": "80d47102-c408-4a3b-bbeb-74d5204f8f22",
   "metadata": {},
   "outputs": [],
   "source": [
    "a.append(6)\n",
    "a.append(7)\n",
    "a"
   ]
  },
  {
   "cell_type": "markdown",
   "id": "d630f897-a0cd-4873-a38b-0ac9ebf9ce8c",
   "metadata": {},
   "source": [
    "___"
   ]
  },
  {
   "cell_type": "markdown",
   "id": "3bd3c943-62af-4339-a680-472ff1345071",
   "metadata": {},
   "source": [
    "## ¿Qué pasaría si implementara miles de millones de números usando un arreglo? ¿Qué riesgos enfrentaría?"
   ]
  },
  {
   "cell_type": "markdown",
   "id": "64230fe6-4a42-4b4a-8576-4e5e7dccee48",
   "metadata": {},
   "source": [
    "GPT : Implementar un arreglo (array) que contenga miles de millones de números plantearía varios desafíos y riesgos. Aquí te detallo algunos de los princi\n",
    "pales aspectos a considerar:\n",
    "\n",
    "### 1. **Límite de memoria**\n",
    "\n",
    "- **Uso de memoria:** Los arrays requieren que todos sus elementos se almacenen en una porción contigua de la memoria. Si intentas crear un array con mile\n",
    "s de millones de números, el consumo de memoria puede ser significativo. Por ejemplo, un array de enteros en Python consume típicamente 4 bytes por elemen\n",
    "to (para enteros de 32 bits), lo que significa que necesitarías aproximadamente 4 GB de memoria solamente para un array de 1 mil millón de números enteros\n",
    ".\n",
    "  \n",
    "- **Memoria disponible:** Dependiendo del sistema en el que estés trabajando, podrías quedarte sin memoria RAM disponible. Si pasas la capacidad de la mem\n",
    "oria, el sistema puede empezar a usar el archivo de intercambio (swap), lo que impactará seriamente en el rendimiento.\n",
    "\n",
    "### 2. **Complejidad de la gestión de memoria**\n",
    "\n",
    "- **Fragmentación de memoria:** Si haces muchas operaciones de inserción o eliminación en el array, puedes terminar con la fragmentación de la memoria, lo\n",
    " que podría reducir la eficiencia de tu programa.\n",
    "\n",
    "- **Fugas de memoria:** Si no gestionas correctamente la memoria (especialmente en lenguajes como C o C++ que requieren la gestión manual), podrías tener \n",
    "fugas de memoria, lo que haría que tus aplicaciones requieran más recursos con el tiempo y podrían llegar a colapsar.\n",
    "\n",
    "### 3. **Tiempos de operación**\n",
    "\n",
    "- **Operaciones lentas:** Realizar ciertas operaciones (como el desplazamiento, la inserción o la eliminación en un array grande) puede ser lento debido a\n",
    " la necesidad de mover grandes cantidades de datos. Las operaciones sobre arrays de gran tamaño tienden a ser costosas en términos de tiempo.\n",
    "\n",
    "### 4. **Limitaciones del lenguaje**\n",
    "\n",
    "- **Límite de índices:** Algunos lenguajes de programación tienen un límite en el tamaño de los índices que utilizan para acceder a los elementos de un ar\n",
    "ray. Por ejemplo, en Python, el índice es un número entero, pero podría haber limitaciones dependiendo de la arquitectura (32 bits frente a 64 bits).\n",
    "\n",
    "- **Tipos de datos:** Si el array necesita contener datos de un tipo específico, podrías tener dificultades si necesitas acceder o manejar datos de difere\n",
    "ntes tipos de manera eficiente.\n",
    "\n",
    "### 5. **Riesgos de procesamiento**\n",
    "\n",
    "- **CPU y rendimiento:** La gestión de un array de ese tamaño podría demandar mucha CPU, especialmente si se realizan cálculos y transformaciones en tiemp\n",
    "o real. Esto podría llevar a un alto uso de CPU y un rendimiento deficiente si no se gestionan bien los recursos.\n",
    "\n",
    "### 6. **Alternativas a los arrays**\n",
    "\n",
    "Dado que los arrays pueden ser problemáticos a gran escala, es posible que desees considerar alternativas:\n",
    "\n",
    "- **Estructuras de datos dinámicas:** Estructuras como `listas encadenadas`, `árboles`, o estructuras de datos que permiten el crecimiento dinámico pueden ser más eficientes.\n",
    "\n",
    "- **Bases de datos:** Si necesitas almacenar grandes volúmenes de datos, considera usar bases de datos. Estas están diseñadas para manejar grandes cantidades de información y permiten operaciones más eficientes y seguras.\n",
    "\n",
    "- **Arrays dispersos:** Si los datos que deseas almacenar son esparcidos, sería mejor utilizar estructuras de datos que almacenan solo los elementos significativos, como matrices dispersas."
   ]
  },
  {
   "cell_type": "markdown",
   "id": "904b75d2-38b6-41ae-a95e-864f8a103dcc",
   "metadata": {},
   "source": [
    "___"
   ]
  },
  {
   "cell_type": "markdown",
   "id": "082b5f1b-7837-45d6-a384-f02db1652a91",
   "metadata": {},
   "source": [
    "## Asume el papel de un ingeniero de software experto. ¿Qué consejo me darías sobre el uso de una matriz como esta?\n",
    "```python\n",
    "import array as arr\n",
    "\n",
    "a = arr.array (\"i\",[1,2,3,4,5])\n",
    "```"
   ]
  },
  {
   "cell_type": "markdown",
   "id": "6315ef55-6278-443f-969b-7892a8dc8811",
   "metadata": {},
   "source": [
    "GPT : Como ingeniero de software experto, te daría los siguientes consejos sobre el uso de array.array en Python:\n",
    "\n",
    "1. Usa array.array solo si realmente necesitas memoria eficiente\n",
    "Python ya tiene listas (list), que son más flexibles y generalmente preferidas. Sin embargo, array.array es útil cuando:\n",
    "\n",
    "Necesitas almacenar muchos datos numéricos y quieres reducir el consumo de memoria.\n",
    "Trabajas con estructuras binarias o necesitas intercambiar datos con C/C++.\n",
    "Ejemplo de diferencia de memoria:"
   ]
  },
  {
   "cell_type": "code",
   "execution_count": 3,
   "id": "34b4431b-d69b-41b1-9b1f-8cd3fe34e5eb",
   "metadata": {},
   "outputs": [],
   "source": [
    "import array\n",
    "import sys\n",
    "\n",
    "lst = [1, 2, 3, 4, 5]          # Lista normal\n",
    "arr = array.array('i', lst)    # Array de enteros"
   ]
  },
  {
   "cell_type": "code",
   "execution_count": 4,
   "id": "34d1540f-0301-4398-bb05-43085e7b3b19",
   "metadata": {},
   "outputs": [
    {
     "name": "stdout",
     "output_type": "stream",
     "text": [
      "120\n",
      "100\n"
     ]
    }
   ],
   "source": [
    "print(sys.getsizeof(lst))  # Mayor tamaño\n",
    "print(sys.getsizeof(arr))  # Menor tamaño"
   ]
  },
  {
   "cell_type": "markdown",
   "id": "e67b8fef-db85-45e1-ae14-2c058035e035",
   "metadata": {},
   "source": [
    "2. Asegúrate de usar el tipo de datos correcto\n",
    "\n",
    "El primer parámetro (\"i\") define el tipo de dato del array. Otros valores útiles incluyen:\n",
    "\n",
    "- \"b\": Byte (signed char, -128 a 127)\n",
    "- \"B\": Byte sin signo (0 a 255)\n",
    "- \"h\": Entero corto (short int)\n",
    "- \"I\": Entero sin signo\n",
    "- \"f\": Float\n",
    "- \"d\": Double\n",
    "\n",
    "Si intentas agregar un tipo de dato incorrecto, Python lanzará un error:"
   ]
  },
  {
   "cell_type": "markdown",
   "id": "0e32db51-701a-462c-9aa6-a751dc514a43",
   "metadata": {},
   "source": [
    "```python\n",
    "a.append(3.5)  # TypeError: 'float' object cannot be interpreted as an integer\n",
    "```"
   ]
  },
  {
   "cell_type": "code",
   "execution_count": 5,
   "id": "0bcce5c2-fb84-4aee-9a38-f0d2a8039d23",
   "metadata": {},
   "outputs": [
    {
     "ename": "TypeError",
     "evalue": "'float' object cannot be interpreted as an integer",
     "output_type": "error",
     "traceback": [
      "\u001b[1;31m---------------------------------------------------------------------------\u001b[0m",
      "\u001b[1;31mTypeError\u001b[0m                                 Traceback (most recent call last)",
      "Input \u001b[1;32mIn [5]\u001b[0m, in \u001b[0;36m<cell line: 1>\u001b[1;34m()\u001b[0m\n\u001b[1;32m----> 1\u001b[0m \u001b[43ma\u001b[49m\u001b[38;5;241;43m.\u001b[39;49m\u001b[43mappend\u001b[49m\u001b[43m(\u001b[49m\u001b[38;5;241;43m3.5\u001b[39;49m\u001b[43m)\u001b[49m\n",
      "\u001b[1;31mTypeError\u001b[0m: 'float' object cannot be interpreted as an integer"
     ]
    }
   ],
   "source": [
    " a.append(3.5) # TypeError: 'float' object cannot be interpreted as an integer\n"
   ]
  },
  {
   "cell_type": "markdown",
   "id": "9ca1fcff-badc-432e-996f-cac755548eba",
   "metadata": {},
   "source": [
    "3. Usa `array.array` si necesitas operaciones de bajo nivel\n",
    "Si necesitas operaciones binarias o trabajar con archivos en formato binario, array.array es una mejor opción que list.\n",
    "\n",
    "```python\n",
    "with open(\"data.bin\", \"wb\") as f:\n",
    "    a.tofile(f)  # Guarda los datos en binario\n",
    "```\n",
    "\n",
    "Y luego para leerlo:\n",
    "\n",
    "```python\n",
    "b = arr.array(\"i\")  # Crear array vacío\n",
    "with open(\"data.bin\", \"rb\") as f:\n",
    "    b.fromfile(f, 5)  # Cargar 5 elementos desde el archivo\n",
    "```"
   ]
  },
  {
   "cell_type": "markdown",
   "id": "078bcbae-fe25-4034-87e1-7a2d6c3e4591",
   "metadata": {},
   "source": [
    "4. Evita usar `array.array` si necesitas funcionalidades avanzadas\n",
    "\n",
    "Si necesitas manipular datos numéricos con eficiencia y realizar operaciones matemáticas avanzadas, usa numpy en lugar de array.array:"
   ]
  },
  {
   "cell_type": "code",
   "execution_count": 6,
   "id": "d0c412bf-793f-4006-a74c-639ff72fc0e7",
   "metadata": {},
   "outputs": [],
   "source": [
    "import numpy as np\n",
    "a = np.array([1, 2, 3, 4, 5], dtype=np.int32)  # Más potente y eficiente"
   ]
  },
  {
   "cell_type": "code",
   "execution_count": 7,
   "id": "01657861-354f-46bd-b729-e369fda79de1",
   "metadata": {},
   "outputs": [
    {
     "data": {
      "text/plain": [
       "array([1, 2, 3, 4, 5])"
      ]
     },
     "execution_count": 7,
     "metadata": {},
     "output_type": "execute_result"
    }
   ],
   "source": [
    "a"
   ]
  },
  {
   "cell_type": "markdown",
   "id": "fd097f6f-fadd-46b2-acae-996b66ebde17",
   "metadata": {},
   "source": [
    "Ventajas de numpy sobre array.array:\n",
    "\n",
    "- ✅ Mejor rendimiento en operaciones numéricas.\n",
    "- ✅ Soporta operaciones vectoriales (sumas, multiplicaciones).\n",
    "- ✅ Compatible con librerías científicas.\n",
    "\n",
    "- Conclusión\n",
    "\n",
    "    Usa array.array solo cuando necesites memoria eficiente, compatibilidad binaria o integración con C. Para cálculos científicos, numpy es mejor; para flexibilidad, usa list. 🚀"
   ]
  },
  {
   "cell_type": "markdown",
   "id": "a0b7ef87-10c2-446b-9034-a41c31e4b409",
   "metadata": {},
   "source": [
    "###  Usando NumPy"
   ]
  },
  {
   "cell_type": "markdown",
   "id": "38867c75-35bd-4fa3-94ab-2f652a6933de",
   "metadata": {},
   "source": [
    "NumPy es una biblioteca poderosa que se utiliza en Python para trabajar con arrays. Proporciona soporte para arrays multidimensionales y una gran gama de \n",
    "operaciones sobre ellos. Si planeas trabajar con arrays de manera frecuente y realizar operaciones matemáticas, te recomiendo usar NumPy."
   ]
  },
  {
   "cell_type": "markdown",
   "id": "346b3b4f-789a-44e8-a725-25bfcb56209a",
   "metadata": {},
   "source": [
    "#### Instalación\n",
    "\n",
    "Si no tienes NumPy instalado, puedes instalarlo usando pip:\n",
    "\n",
    "```bash\n",
    "pip install numpy\n",
    "```"
   ]
  },
  {
   "cell_type": "markdown",
   "id": "883a4946-30f7-42a0-87cf-56d16f2886ad",
   "metadata": {},
   "source": [
    "#### Ejemplo de uso de NumPy\n",
    "\n",
    "Aquí tienes algunos ejemplos básicos de cómo trabajar con arrays utilizando NumPy:"
   ]
  },
  {
   "cell_type": "code",
   "execution_count": 8,
   "id": "bc8bb15f-ad70-4cbe-9194-9999281bdc4d",
   "metadata": {},
   "outputs": [],
   "source": [
    "import numpy as np"
   ]
  },
  {
   "cell_type": "code",
   "execution_count": 9,
   "id": "0049fdf4-b190-42f8-9821-440c5fdb964b",
   "metadata": {},
   "outputs": [],
   "source": [
    "# Crear un array unidimensional\n",
    "arr = np.array([1, 2, 3, 4, 5])"
   ]
  },
  {
   "cell_type": "code",
   "execution_count": 10,
   "id": "cb5edaac-b102-4591-8dea-b85f5bb900bd",
   "metadata": {},
   "outputs": [
    {
     "name": "stdout",
     "output_type": "stream",
     "text": [
      "3\n"
     ]
    }
   ],
   "source": [
    "# Acceder a un elemento\n",
    "print(arr[2])  # Salida: 3"
   ]
  },
  {
   "cell_type": "code",
   "execution_count": 11,
   "id": "b412d972-9e48-421a-94e2-4b4dc48914be",
   "metadata": {},
   "outputs": [
    {
     "name": "stdout",
     "output_type": "stream",
     "text": [
      "[10  2  3  4  5]\n"
     ]
    }
   ],
   "source": [
    "# Modificar un elemento\n",
    "arr[0] = 10\n",
    "print(arr)"
   ]
  },
  {
   "cell_type": "code",
   "execution_count": 12,
   "id": "c9fba265-07b0-4235-9578-b3668afa47d6",
   "metadata": {},
   "outputs": [
    {
     "name": "stdout",
     "output_type": "stream",
     "text": [
      "6\n"
     ]
    }
   ],
   "source": [
    "# Crear un array multidimensional (matriz)\n",
    "matriz = np.array([[1, 2, 3], [4, 5, 6]])\n",
    "\n",
    "# Acceder a un elemento en la matriz\n",
    "print(matriz[1, 2])  # Salida: 6"
   ]
  },
  {
   "cell_type": "code",
   "execution_count": 13,
   "id": "88d20290-69e2-4d45-8551-6a6334103bc1",
   "metadata": {},
   "outputs": [
    {
     "data": {
      "text/plain": [
       "array([[1, 2, 3],\n",
       "       [4, 5, 6]])"
      ]
     },
     "execution_count": 13,
     "metadata": {},
     "output_type": "execute_result"
    }
   ],
   "source": [
    "matriz "
   ]
  },
  {
   "cell_type": "code",
   "execution_count": 14,
   "id": "94c9d3c9-4c16-4da7-8eaf-646fc67df4f4",
   "metadata": {},
   "outputs": [
    {
     "name": "stdout",
     "output_type": "stream",
     "text": [
      "[15  7  8  9 10]\n"
     ]
    }
   ],
   "source": [
    "# Operaciones matemáticas\n",
    "suma = arr + 5  # Suma 5 a cada elemento del array\n",
    "print(suma)  # Salida: [15  7  8  9 10]"
   ]
  },
  {
   "cell_type": "code",
   "execution_count": 15,
   "id": "febb4e2b-eddb-492f-86e5-51a946edc1f5",
   "metadata": {},
   "outputs": [
    {
     "name": "stdout",
     "output_type": "stream",
     "text": [
      "24\n"
     ]
    }
   ],
   "source": [
    "# Funciones de agregación\n",
    "suma_total = np.sum(arr)  # Suma de todos los elementos\n",
    "print(suma_total)  # Salida: 27"
   ]
  },
  {
   "cell_type": "code",
   "execution_count": 16,
   "id": "dee781bf-81a3-4e0f-a7c3-d1b03af87412",
   "metadata": {},
   "outputs": [
    {
     "name": "stdout",
     "output_type": "stream",
     "text": [
      "[[1 4]\n",
      " [2 5]\n",
      " [3 6]]\n"
     ]
    }
   ],
   "source": [
    "# Transposición de matrices\n",
    "transpuesta = np.transpose(matriz)\n",
    "print(transpuesta)"
   ]
  },
  {
   "cell_type": "code",
   "execution_count": 17,
   "id": "a6d938f3-a433-43c4-853f-e1489d8dbe49",
   "metadata": {},
   "outputs": [
    {
     "name": "stdout",
     "output_type": "stream",
     "text": [
      "[[0. 0. 0.]\n",
      " [0. 0. 0.]\n",
      " [0. 0. 0.]]\n"
     ]
    }
   ],
   "source": [
    "# Crear un array con ceros\n",
    "ceros = np.zeros((3, 3))  # Matriz 3x3 de ceros\n",
    "print(ceros)"
   ]
  },
  {
   "cell_type": "code",
   "execution_count": 18,
   "id": "5c484056-6806-46e2-8dee-8ab2cbc0881e",
   "metadata": {},
   "outputs": [
    {
     "name": "stdout",
     "output_type": "stream",
     "text": [
      "[0.21111709 0.49133954 0.13352873 0.84142559 0.64208152]\n"
     ]
    }
   ],
   "source": [
    "# Crear un array de números aleatorios\n",
    "aleatorios = np.random.rand(5)  # Array de 5 números aleatorios entre 0 y 1\n",
    "print(aleatorios)"
   ]
  },
  {
   "cell_type": "markdown",
   "id": "0920ca82-532f-4aa3-8be2-1e8046fe4f87",
   "metadata": {},
   "source": [
    "### Comparación entre listas y arrays en Python\n",
    "\n",
    "| Característica        | Listas                               | Arrays (array módulo) | Arrays (NumPy)          |\n",
    "|-----------------------|--------------------------------------|-----------------------|-------------------------|\n",
    "| Tipo de datos         | Pueden ser de diferentes tipos       | Homogéneos            | Homogéneos              |\n",
    "| Flexibilidad          | Dinámicas                            | Fijas                 | Fijas                   |\n",
    "| Eficiencia            | Menos eficientes en operaciones numéricas | Más eficientes       | Muy eficientes          |\n",
    "| Funciones matemáticas | Limitadas                            | Limitadas             | Amplias y extensivas    |\n",
    "| Estructura multidimensional | Listas de listas                    | Soportan menos fácilmente | Muy fáciles de usar      |\n",
    "\n",
    "### Conclusion\n",
    "\n",
    "> Para tareas generales, te puedes quedar con listas. Pero si buscas hacer cálculos numéricos intensivos o trabajar con grandes conjuntos de datos, NumPy es la mejor opción. "
   ]
  },
  {
   "cell_type": "markdown",
   "id": "361309f7-a5a7-45b3-bd3a-a620661293f1",
   "metadata": {},
   "source": [
    "___"
   ]
  },
  {
   "cell_type": "code",
   "execution_count": null,
   "id": "57d5a1af-6c64-4724-82a3-d86d6cd2e8d3",
   "metadata": {},
   "outputs": [],
   "source": []
  },
  {
   "cell_type": "code",
   "execution_count": null,
   "id": "bac91ef5-c4c8-4e2d-9715-dfad84942b99",
   "metadata": {},
   "outputs": [],
   "source": []
  }
 ],
 "metadata": {
  "kernelspec": {
   "display_name": "Python 3 (ipykernel)",
   "language": "python",
   "name": "python3"
  },
  "language_info": {
   "codemirror_mode": {
    "name": "ipython",
    "version": 3
   },
   "file_extension": ".py",
   "mimetype": "text/x-python",
   "name": "python",
   "nbconvert_exporter": "python",
   "pygments_lexer": "ipython3",
   "version": "3.10.4"
  }
 },
 "nbformat": 4,
 "nbformat_minor": 5
}
