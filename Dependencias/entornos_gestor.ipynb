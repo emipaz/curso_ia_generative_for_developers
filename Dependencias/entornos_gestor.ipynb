{
 "cells": [
  {
   "cell_type": "markdown",
   "id": "3242deb8-801e-45fc-a711-3a8df971aa16",
   "metadata": {},
   "source": [
    "## Eres experto en la configuración de entornos virtuales de Python. ¿Qué pasos puedo seguir para configurar un entorno virtual en mi Mac con venv?"
   ]
  },
  {
   "cell_type": "markdown",
   "id": "64ee6f71-5131-49d0-a7d3-6ee842a34181",
   "metadata": {},
   "source": [
    "GPT : Configurar un entorno virtual en Python utilizando `venv` es un proceso bastante sencillo. Aquí te dejo una guía paso a paso para hacerlo en tu \n",
    "Mac:"
   ]
  },
  {
   "cell_type": "markdown",
   "id": "829bb86a-26b9-4970-b738-a07388c155cd",
   "metadata": {},
   "source": [
    "### Pasos para configurar un entorno virtual en Python con `venv`"
   ]
  },
  {
   "cell_type": "markdown",
   "id": "23841979-85bb-4aed-8989-130ccd72cb16",
   "metadata": {},
   "source": [
    "1. **Asegúrate de tener Python instalado**:\n",
    "   Primero, verifica que tienes Python instalado. Abre la Terminal y ejecuta:\n",
    "\n",
    "   ```bash\n",
    "   python3 --version\n",
    "   ```\n",
    "\n",
    "   Si Python no está instalado, puedes instalarlo a través de [Homebrew](https://brew.sh/) ejecutando:\n",
    "\n",
    "   ```bash\n",
    "   brew install python\n",
    "   ```"
   ]
  },
  {
   "cell_type": "markdown",
   "id": "0b15e988-f742-4167-a9a5-3c87c8b0f299",
   "metadata": {},
   "source": [
    "2. **Crea un directorio para tu proyecto (opcional)**:\n",
    "   Es recomendable crear un directorio para tu proyecto donde guardarás tu entorno virtual y los archivos relacionados.\n",
    "\n",
    "   ```bash\n",
    "   mkdir mi_proyecto\n",
    "   cd mi_proyecto\n",
    "   ```"
   ]
  },
  {
   "cell_type": "markdown",
   "id": "a3b4892f-d869-4a04-a3e3-068cfe562886",
   "metadata": {},
   "source": [
    "3. **Crear el entorno virtual**:\n",
    "   Utiliza el comando `python3 -m venv` seguido del nombre que deseas darle a tu entorno virtual. Por ejemplo, puedes llamarlo `env`:\n",
    "\n",
    "   ```bash\n",
    "   python3 -m venv env\n",
    "   ```\n",
    "\n",
    "   Esto creará un directorio llamado `env` en tu carpeta del proyecto, que contendrá todos los archivos necesarios para el entorno virtual."
   ]
  },
  {
   "cell_type": "markdown",
   "id": "723ed252-e486-4f56-946d-b30b04512896",
   "metadata": {},
   "source": [
    "4. **Activar el entorno virtual**:\n",
    "   Para activar el entorno virtual que acabas de crear, ejecuta el siguiente comando:\n",
    "\n",
    "   ```bash\n",
    "   source env/bin/activate\n",
    "   ```\n",
    "\n",
    "   Después de activar el entorno, verás que el nombre de tu entorno virtual (en este caso, `env`) aparece al inicio de la línea de tu terminal."
   ]
  },
  {
   "cell_type": "markdown",
   "id": "84f1dd8c-32f9-4fc5-8bdb-1acbf8ed198b",
   "metadata": {},
   "source": [
    "5. **Instalar paquetes**:\n",
    "   Una vez que el entorno virtual esté activo, puedes instalar paquetes sin afectar los que están globalmente instalados en tu sistema. Por ejemplo, p\n",
    "ara instalar `requests`, puedes hacer:\n",
    "\n",
    "   ```bash\n",
    "   pip install requests\n",
    "   ```"
   ]
  },
  {
   "cell_type": "markdown",
   "id": "4bfc053b-af27-4877-96be-77322c15d331",
   "metadata": {},
   "source": [
    "6. **Desactivar el entorno virtual**:\n",
    "   Cuando termines de trabajar en tu proyecto, puedes desactivar el entorno virtual ejecutando:\n",
    "\n",
    "   ```bash\n",
    "   deactivate\n",
    "   ```\n",
    "\n",
    "### Opcional: Guardar las dependencias\n",
    "\n",
    "Si deseas guardar las dependencias de tu proyecto, puedes crear un archivo `requirements.txt`. Mientras estás en el entorno virtual, ejecuta:\n",
    "\n",
    "```bash\n",
    "pip freeze > requirements.txt\n",
    "```\n",
    "\n",
    "Más tarde, puedes instalar todas las dependencias guardadas en este archivo usando:\n",
    "\n",
    "```bash\n",
    "pip install -r requirements.txt\n",
    "```\n",
    "\n",
    "### Resumen\n",
    "\n",
    "Los pasos básicos para configurar un entorno virtual en Python con `venv` en tu Mac son:\n",
    "\n",
    "1. Asegúrate de tener Python instalado.\n",
    "2. Crea un directorio para tu proyecto.\n",
    "3. Crea un entorno virtual con `python3 -m venv env`.\n",
    "4. Activa el entorno virtual con `source env/bin/activate`.\n",
    "5. Instala paquetes según sea necesario.\n",
    "6. Desactiva el entorno cuando termines.\n",
    "\n",
    "¡Con esto deberías estar listo para comenzar a trabajar en tu proyecto Python en un entorno virtual!"
   ]
  },
  {
   "cell_type": "markdown",
   "id": "f5962fee-b285-4bec-8847-30c20ff1a58e",
   "metadata": {},
   "source": [
    "## como seria en windows?"
   ]
  },
  {
   "cell_type": "markdown",
   "id": "af38dbbe-72b3-4f4b-9ddc-a46e0741013e",
   "metadata": {},
   "source": [
    "GPT : Configurar un entorno virtual en Python utilizando `venv` en Windows es un proceso similar al de Mac, aunque hay algunas diferencias en los comandos utilizados. A continuación, te dejo una guía paso a paso para hacerlo en tu sistema Windows:\n",
    "_"
   ]
  },
  {
   "cell_type": "markdown",
   "id": "63084678-9592-4b4d-8cc9-10d0e2f6041a",
   "metadata": {},
   "source": [
    "### Pasos para configurar un entorno virtual en Python con `venv` en Windows"
   ]
  },
  {
   "cell_type": "markdown",
   "id": "f1aa8d02-35cc-46c9-853d-5d34d78ced3e",
   "metadata": {},
   "source": [
    "1. **Asegúrate de tener Python instalado**:\n",
    "   Verifica que tienes Python instalado en tu sistema. Abre la línea de comandos (Command Prompt o PowerShell) y ejecuta:\n",
    "\n",
    "   ```bash\n",
    "   python --version\n",
    "   ```\n",
    "\n",
    "   Si Python no está instalado, puedes descargarlo desde [python.org](https://www.python.org/downloads/) e instalarlo. Asegúrate de marcar la opción \"Add Python to PATH\" durante la instalación.\n",
    "\n",
    "2. **Crea un directorio para tu proyecto (opcional)**:\n",
    "   Es recomendable crear un directorio para tu proyecto donde guardarás tu entorno virtual y los archivos relacionados. Puedes hacerlo de la siguiente manera:\n",
    "\n",
    "   ```bash\n",
    "   mkdir mi_proyecto\n",
    "   cd mi_proyecto\n",
    "   ```\n",
    "\n",
    "3. **Crear el entorno virtual**:\n",
    "   Utiliza el comando `python -m venv` seguido del nombre que deseas darle a tu entorno virtual. Por ejemplo, puedes llamarlo `env`:\n",
    "\n",
    "   ```bash\n",
    "   python -m venv env\n",
    "   ```\n",
    "\n",
    "   Esto creará un directorio llamado `env` en tu carpeta del proyecto, que contendrá todos los archivos necesarios para el entorno virtual.\n",
    "\n",
    "4. **Activar el entorno virtual**:\n",
    "   Para activar el entorno virtual que acabas de crear, ejecuta el siguiente comando. La manera de activar el entorno depende de si estás utilizando Command Prompt o PowerShell:\n",
    "\n",
    "   - **En Command Prompt**:\n",
    "\n",
    "     ```bash\n",
    "     env\\Scripts\\activate\n",
    "     ```\n",
    "\n",
    "   - **En PowerShell**:\n",
    "\n",
    "     ```bash\n",
    "     .\\env\\Scripts\\Activate.ps1\n",
    "     ```\n",
    "\n",
    "   Una vez activado, deberías ver el nombre de tu entorno virtual (en este caso, `env`) en el prompt de la línea de comandos.\n",
    "\n",
    "5. **Instalar paquetes**:\n",
    "   Con el entorno virtual activo, puedes instalar paquetes utilizando `pip` sin afectar las instalaciones globales en tu sistema. Por ejemplo, para instalar `requests`, puedes hacer:\n",
    "\n",
    "   ```bash\n",
    "   pip install requests\n",
    "   ```\n",
    "\n",
    "6. **Desactivar el entorno virtual**:\n",
    "   Cuando termines de trabajar en tu proyecto, puedes desactivar el entorno virtual ejecutando:\n",
    "\n",
    "   ```bash\n",
    "   deactivate\n",
    "   ```"
   ]
  },
  {
   "cell_type": "markdown",
   "id": "a2894be6-56c2-422a-bb3f-a498fa36dfe5",
   "metadata": {},
   "source": [
    "### Opcional: Guardar las dependencias"
   ]
  },
  {
   "cell_type": "markdown",
   "id": "1d41c4f4-d996-4004-bb0d-787a289ba41e",
   "metadata": {},
   "source": [
    "Si deseas guardar las dependencias de tu proyecto, puedes crear un archivo `requirements.txt` ejecutando el siguiente comando mientras estás en el entorno virtual:\n",
    "\n",
    "```bash\n",
    "pip freeze > requirements.txt\n",
    "```\n",
    "\n",
    "Luego puedes instalar todas las dependencias guardadas en este archivo usando:\n",
    "\n",
    "```bash\n",
    "pip install -r requirements.txt\n",
    "```"
   ]
  },
  {
   "cell_type": "markdown",
   "id": "7c1c54c3-3e61-49ef-a635-7d23625586f7",
   "metadata": {},
   "source": [
    "### Resumen"
   ]
  },
  {
   "cell_type": "markdown",
   "id": "34ccd1e5-7f88-419c-9b57-547896b74cf4",
   "metadata": {},
   "source": [
    "Los pasos básicos para configurar un entorno virtual en Python con `venv` en Windows son:\n",
    "\n",
    "1. Verifica que Python esté instalado.\n",
    "2. Crea un directorio para tu proyecto.\n",
    "3. Crea un entorno virtual con `python -m venv env`.\n",
    "4. Activa el entorno virtual:\n",
    "   - Usando Command Prompt: `env\\Scripts\\activate`\n",
    "   - Usando PowerShell: `.\\env\\Scripts\\Activate.ps1`\n",
    "5. Instala paquetes según sea necesario.\n",
    "6. Desactiva el entorno cuando termines.\n",
    "\n",
    "¡Con estos pasos deberías estar listo para comenzar a trabajar en tu proyecto Python en un entorno virtual en Windows!"
   ]
  },
  {
   "cell_type": "markdown",
   "id": "9e2206ef-c5b5-4f26-a76d-e021c800cf1c",
   "metadata": {},
   "source": [
    "## uso de pip"
   ]
  },
  {
   "cell_type": "markdown",
   "id": "e913fa77-68c2-44f0-a32a-dbb20d2b2c50",
   "metadata": {},
   "source": [
    "Aquí tienes algunos comandos básicos de `pip` que puedes utilizar para gestionar paquetes en tu entorno virtual:      "
   ]
  },
  {
   "cell_type": "markdown",
   "id": "0363360d-6b0a-440f-a0de-8b5e622849a4",
   "metadata": {},
   "source": [
    "### Instalar un paquete:\n",
    "\n",
    "   ```bash\n",
    "   pip install nombre_del_paquete\n",
    "   ```"
   ]
  },
  {
   "cell_type": "markdown",
   "id": "bcfc2059-33b9-4c09-ab39-435a3607c723",
   "metadata": {},
   "source": [
    "### Instalar múltiples paquetes desde un archivo `requirements.txt`:**\n",
    "\n",
    "   ```bash\n",
    "   pip install -r requirements.txt\n",
    "   ```"
   ]
  },
  {
   "cell_type": "markdown",
   "id": "580950db-c9ae-4d92-927f-c05150309041",
   "metadata": {},
   "source": [
    "## Desinstalar un paquete\n",
    "\n",
    "\n",
    "   ```bash\n",
    "   pip uninstall nombre_del_paquete\n",
    "   ```"
   ]
  },
  {
   "cell_type": "markdown",
   "id": "b1a628d0-6db8-4002-899c-af6b51d6bdb6",
   "metadata": {},
   "source": [
    "### Actualizar un paquete a la última versión\n",
    "\n",
    "\n",
    "   ```bash\n",
    "   pip install --upgrade nombre_del_paquete\n",
    "   ```"
   ]
  },
  {
   "cell_type": "markdown",
   "id": "2c1da8e4-87bb-4641-b4de-f377c9976886",
   "metadata": {},
   "source": [
    "### Listar todos los paquetes instalados\n",
    "\n",
    "\n",
    "   ```bash\n",
    "   pip list\n",
    "   ```"
   ]
  },
  {
   "cell_type": "markdown",
   "id": "b7197155-4114-43c4-8d73-e35d8145e9ee",
   "metadata": {},
   "source": [
    "### Mostrar información detallada sobre un paquete específico\n",
    "   \n",
    "   ```bash\n",
    "   pip show nombre_del_paquete\n",
    "   ```"
   ]
  },
  {
   "cell_type": "markdown",
   "id": "003bbe1b-51e3-415f-a56d-1a43b51b861a",
   "metadata": {},
   "source": [
    "### Buscar un paquete\n",
    "   \n",
    "   ```bash\n",
    "   pip search nombre_del_paquete\n",
    "   ```"
   ]
  },
  {
   "cell_type": "markdown",
   "id": "41a97e75-c1ff-4a8b-b92d-ce41314db56c",
   "metadata": {},
   "source": [
    "### Generar un archivo `requirements.txt` con los paquetes instalados\n",
    "   \n",
    "   ```bash\n",
    "   pip freeze > requirements.txt\n",
    "   ```"
   ]
  },
  {
   "cell_type": "markdown",
   "id": "fa58c873-a1eb-47d7-ab1f-85436c820b43",
   "metadata": {},
   "source": [
    "### Instalar una versión específica de un paquete\n",
    "   \n",
    "   ```bash\n",
    "   pip install nombre_del_paquete==versión\n",
    "   ```"
   ]
  },
  {
   "cell_type": "markdown",
   "id": "c85b3667-66e9-45a8-ab06-c9cb79a4f3b3",
   "metadata": {},
   "source": [
    "Estos comandos te ayudarán a gestionar las dependencias de tu proyecto de manera eficiente."
   ]
  },
  {
   "cell_type": "markdown",
   "id": "891136c9-5373-4be5-a4f9-9ba08e45f285",
   "metadata": {},
   "source": [
    "## Uso de pip-tools"
   ]
  },
  {
   "cell_type": "markdown",
   "id": "376d3d27-a4c3-424b-8563-9278f19bb156",
   "metadata": {},
   "source": [
    "## Eres experto en programación en Python y gestión de dependencias. Por favor, guíame para instalar pip-tools y compilar mi primer conjunto de dependencias."
   ]
  },
  {
   "cell_type": "markdown",
   "id": "4a6dd832-f546-4f0d-9e1b-102776527b7d",
   "metadata": {},
   "source": [
    "`pip-tools` es una herramienta que ayuda a gestionar las dependencias de los proyectos de Python de forma más eficiente y organizada. Permite manejar las dependencias de manera \n",
    "más elegante que simplemente usar `pip` y `requirements.txt`. Algunas de las funcionalidades principales de `pip-tools` son:\n",
    "\n",
    "1. **Generación de archivos `requirements.txt`:** `pip-tools` puede generar automáticamente un archivo `requirements.txt` a partir de un archivo `requirements.in`, que enumera sólo la\n",
    "s dependencias directamente requeridas por tu proyecto, mientras que `requirements.txt` incluye todas las dependencias y subdependencias necesarias.\n",
    "\n",
    "2. **Resolución de versiones:** `pip-tools` se encarga de resolver las versiones de los paquetes de manera automática, lo que significa que puede encontrar y proporcionar versiones co\n",
    "mpatibles de las dependencias y sus subdependencias.\n",
    "\n",
    "3. **Actualización de dependencias:** Facilita la tarea de actualizar dependencias sin tener que preocuparse por la compatibilidad de versiones."
   ]
  },
  {
   "cell_type": "markdown",
   "id": "aef8895b-9dce-452e-84b0-9b559855ec6e",
   "metadata": {},
   "source": [
    "### Instalación"
   ]
  },
  {
   "cell_type": "markdown",
   "id": "bc8b32bc-2fdd-4642-9698-bece6681e170",
   "metadata": {},
   "source": [
    "Puedes instalar `pip-tools` utilizando `pip`:\n",
    "\n",
    "```bash\n",
    "pip install pip-tools\n",
    "```"
   ]
  },
  {
   "cell_type": "markdown",
   "id": "b913dfbd-bc06-4104-830f-82ca8954a025",
   "metadata": {},
   "source": [
    "### Uso básico"
   ]
  },
  {
   "cell_type": "markdown",
   "id": "0b2802ec-0ed2-44f0-88d8-9ac64344b724",
   "metadata": {},
   "source": [
    "1. **Crear un archivo `requirements.in`:** Este archivo contendrá las dependencias principales que deseas instalar. Por ejemplo:\n",
    "\n",
    "```\n",
    "requests\n",
    "Flask\n",
    "```"
   ]
  },
  {
   "cell_type": "markdown",
   "id": "b14dacc1-54da-4c22-a46c-e381350f9910",
   "metadata": {},
   "source": [
    "2. **Compilar el archivo `requirements.txt`:** Una vez que hayas creado el archivo `requirements.in`, puedes generar `requirements.txt` utilizando el siguiente comando:\n",
    "\n",
    "```bash\n",
    "pip-compile requirements.in\n",
    "```\n",
    "\n",
    "Este comando generará un archivo `requirements.txt` que contendrá todas las dependencias junto con sus versiones fijadas."
   ]
  },
  {
   "cell_type": "markdown",
   "id": "5d6fef2e-d38d-466c-b120-860c78d940e5",
   "metadata": {},
   "source": [
    "3. **Instalar las dependencias:** Con el archivo `requirements.txt` generado, puedes instalar todas las dependencias especificadas:\n",
    "\n",
    "```bash\n",
    "pip install -r requirements.txt\n",
    "```"
   ]
  },
  {
   "cell_type": "markdown",
   "id": "7326c7f4-730f-482d-a7dc-9e4cadb2ac0d",
   "metadata": {},
   "source": [
    "4. **Actualizar las dependencias:** Para actualizar las dependencias, puedes usar el comando:\n",
    "\n",
    "```bash\n",
    "pip-compile --upgrade requirements.in\n",
    "```\n",
    "\n",
    "Esto actualizará las versiones en `requirements.txt` a las últimas versiones compatibles."
   ]
  },
  {
   "cell_type": "markdown",
   "id": "51e801a5-651c-43f8-9f70-e78f59d49b97",
   "metadata": {},
   "source": [
    "### Beneficios\n",
    "\n",
    "- **Claridad en las dependencias:** Permite mantener un archivo de dependencias más claro y limpio.\n",
    "- **Gestión efectiva de subdependencias:** Asegura que todas las dependencias y subdependencias sean compatibles entre sí.\n",
    "- **Facilidad de actualización:** Facilita el proceso de mantener tus dependencias al día.\n",
    "\n",
    "`pip-tools` es una excelente opción para proyectos más grandes o aquellos que requieren una gestión cuidadosa de las versiones de paquetes y dependencias."
   ]
  },
  {
   "cell_type": "markdown",
   "id": "aa507ca9-efb4-46fc-be08-a0f2f030efac",
   "metadata": {},
   "source": [
    "## ¿Qué hace la biblioteca 'itsdangerous?"
   ]
  },
  {
   "cell_type": "markdown",
   "id": "5e9ec58b-168c-424c-9e9d-0656767f1511",
   "metadata": {},
   "source": [
    "La biblioteca itsdangerous en Python se usa para firmar datos de manera segura y protegerlos contra manipulaciones. Es comúnmente utilizada en aplicaciones web para generar tokens seguros, especialmente en frameworks como Flask.\n",
    "\n",
    "¿Para qué se usa?\n",
    "Firmar datos: Permite asegurar que los datos no han sido modificados después de ser generados.\n",
    "\n",
    "Generar tokens de sesión: Utilizado en autenticación y seguridad.\n",
    "\n",
    "Protección de enlaces: Para generar URLs firmadas con información segura.\n",
    "\n",
    "Tokens de restablecimiento de contraseña: Se usa para enviar enlaces seguros a usuarios."
   ]
  },
  {
   "cell_type": "code",
   "execution_count": 2,
   "id": "927811bb-70b3-452e-ac28-9c697a1ce131",
   "metadata": {},
   "outputs": [
    {
     "name": "stdout",
     "output_type": "stream",
     "text": [
      "eyJ1c2VyX2lkIjoxMjN9.BWIRSYUTFAv9pp0ubv_dbJVngDw\n",
      "{'user_id': 123}\n"
     ]
    }
   ],
   "source": [
    "from itsdangerous import URLSafeSerializer\n",
    "\n",
    "secret_key = \"clave_secreta\"\n",
    "s = URLSafeSerializer(secret_key)\n",
    "\n",
    "# Firmar datos\n",
    "token = s.dumps({\"user_id\": 123})\n",
    "print(token)  # Salida: algo como \"eyJ1c2VyX2lkIjoxMjN9.X3dOpQ.lWOm89jJbFZ\"\n",
    "\n",
    "# Verificar y recuperar datos\n",
    "data = s.loads(token)\n",
    "print(data)  # Salida: {'user_id': 123}"
   ]
  },
  {
   "cell_type": "markdown",
   "id": "43773aec-7252-477f-b865-054aeb5c6cff",
   "metadata": {},
   "source": [
    "- ¿Por qué usarlo?\n",
    "\n",
    "  - Protege los datos sin necesidad de una base de datos.\n",
    "  - No requiere cifrado complejo, solo firma los datos para verificar su integridad.\n",
    "  - Útil en aplicaciones Flask para manejar sesiones y tokens de seguridad.\n",
    "\n",
    "Si usas Flask, la extensión Flask-Login lo usa para manejar sesiones de usuario de forma segura. 🚀"
   ]
  },
  {
   "cell_type": "markdown",
   "id": "193db4e8-a3d5-4444-9805-f20cc13a4eb5",
   "metadata": {},
   "source": [
    "La biblioteca itsdangerous en Python se usa para firmar datos de forma segura y verificar su integridad sin necesidad de cifrado. Es útil cuando necesitas enviar datos confiables entre partes sin exponerlos a modificaciones malintencionadas.\n",
    "\n",
    "- Principales usos:\n",
    "  - Firmar y verificar datos\n",
    "  - Puedes firmar cualquier objeto serializable (como cadenas o JSON) y luego verificar su autenticidad.\n",
    "  - Tokens temporales\n",
    "  - Puedes generar tokens con vencimiento, útiles para restablecimiento de contraseñas, validación de correos, etc.\n",
    "  - Prevención de manipulación de datos\n",
    "  - Garantiza que los datos enviados no hayan sido alterados."
   ]
  },
  {
   "cell_type": "code",
   "execution_count": 3,
   "id": "b3fc4d4b-7a59-47ea-a6f2-c342fff80069",
   "metadata": {},
   "outputs": [
    {
     "name": "stdout",
     "output_type": "stream",
     "text": [
      "b'mensaje.Z-XMAQ.WiuBiDYYJ8CStld1ppsSL_FXthU'\n",
      "Mensaje válido: mensaje\n"
     ]
    }
   ],
   "source": [
    "from itsdangerous import TimestampSigner\n",
    "\n",
    "# Crear un firmador con una clave secreta\n",
    "signer = TimestampSigner(\"mi-clave-secreta\")\n",
    "\n",
    "# Firmar un mensaje\n",
    "dato_firmado = signer.sign(\"mensaje\")\n",
    "print(dato_firmado)\n",
    "\n",
    "# Verificar el mensaje\n",
    "try:\n",
    "    mensaje_original = signer.unsign(dato_firmado, max_age=60)  # Máximo 60 segundos\n",
    "    print(\"Mensaje válido:\", mensaje_original.decode())\n",
    "except Exception as e:\n",
    "    print(\"Token inválido o expirado:\", e)"
   ]
  },
  {
   "cell_type": "markdown",
   "id": "c4916190-0c17-4f07-b821-3641f3e6e0dc",
   "metadata": {},
   "source": [
    "- Casos de uso comunes\n",
    "  - Frameworks como Flask lo usan para gestionar cookies firmadas y tokens seguros.\n",
    "  - Protección contra ataques de manipulación de datos en formularios y URLs.\n",
    "\n",
    "Si necesitas seguridad sin cifrado complejo, itsdangerous es una buena opción. 🚀"
   ]
  },
  {
   "cell_type": "markdown",
   "id": "63a1a6bb-f6ce-4c86-afa9-e0b9cd5cc020",
   "metadata": {},
   "source": [
    "## Ejercicio pip-tools"
   ]
  },
  {
   "cell_type": "markdown",
   "id": "b93026bb-981e-4aa7-8a67-f0fc5b741901",
   "metadata": {},
   "source": [
    "```powershell\n",
    "PS C:\\Users\\Usuario\\Desktop\\env> py -m venv entorno1\n",
    "PS C:\\Users\\Usuario\\Desktop\\env>\n",
    "PS C:\\Users\\Usuario\\Desktop\\env> dir\n",
    "\n",
    "\n",
    "    Directorio: C:\\Users\\Usuario\\Desktop\\env\n",
    "\n",
    "\n",
    "Mode                 LastWriteTime         Length Name\n",
    "----                 -------------         ------ ----\n",
    "d-----        28/03/2025     10:17                entorno1\n",
    "\n",
    "\n",
    "PS C:\\Users\\Usuario\\Desktop\\env> .\\entorno1\\Scripts\\activate\n",
    "(entorno1) PS C:\\Users\\Usuario\\Desktop\\env> python -m pip install pip-tools\n",
    "Collecting pip-tools\n",
    "  Downloading pip_tools-7.4.1-py3-none-any.whl.metadata (26 kB)\n",
    "Collecting build>=1.0.0 (from pip-tools)\n",
    "  Using cached build-1.2.2.post1-py3-none-any.whl.metadata (6.5 kB)\n",
    "  Using cached click-8.1.8-py3-none-any.whl.metadata (2.3 kB)\n",
    "Requirement already satisfied: pip>=22.2 in c:\\users\\usuario\\desktop\\env\\entorno1\\lib\\site-packages (from pip-tools) (24.3.1)\n",
    "...\n",
    "...\n",
    "(entorno1) PS C:\\Users\\Usuario\\Desktop\\env> python -m pip list\n",
    "Package         Version\n",
    "--------------- -----------\n",
    "build           1.2.2.post1\n",
    "click           8.1.8\n",
    "colorama        0.4.6\n",
    "pip             24.3.1\n",
    "pip-tools       7.4.1\n",
    "pyproject_hooks 1.2.0\n",
    "setuptools      78.1.0\n",
    "wheel           0.45.1\n",
    "(entorno1) PS C:\\Users\\Usuario\\Desktop\\env> echo Flask > requirements.in\n",
    "(entorno1) PS C:\\Users\\Usuario\\Desktop\\env> echo requests >> requirements.in\n",
    "(entorno1) PS C:\\Users\\Usuario\\Desktop\\env> dir\n",
    "\n",
    "\n",
    "    Directorio: C:\\Users\\Usuario\\Desktop\\env\n",
    "\n",
    "\n",
    "Mode                 LastWriteTime         Length Name\n",
    "----                 -------------         ------ ----\n",
    "d-----        28/03/2025     10:17                entorno1\n",
    "-a----        28/03/2025     10:30             36 requirements.in\n",
    "\n",
    "\n",
    "(entorno1) PS C:\\Users\\Usuario\\Desktop\\env> type .\\requirements.in\n",
    "Flask\n",
    "requests\n",
    "\n",
    "(entorno1) PS C:\\Users\\Usuario\\Desktop\\env> pip-compile .\\requiremets.in\n",
    "WARNING: --strip-extras is becoming the default in version 8.0.0. To silence this warning, either use --strip-extras to opt into the new default or use --no-strip-extras to retain the existing behavior.\n",
    "#\n",
    "# This file is autogenerated by pip-compile with Python 3.13\n",
    "# by the following command:\n",
    "#\n",
    "#    pip-compile '.\\requiremets.in'\n",
    "blinker==1.9.0\n",
    "    # via flask\n",
    "certifi==2025.1.31\n",
    "    # via requests\n",
    "charset-normalizer==3.4.1\n",
    "    # via requests\n",
    "click==8.1.8\n",
    "    # via flask\n",
    "colorama==0.4.6\n",
    "    # via click\n",
    "flask==3.1.0\n",
    "    # via -r .\\requieremets.in\n",
    "    # via requests\n",
    "itsdangerous==2.2.0\n",
    "    # via flask\n",
    "jinja2==3.1.6\n",
    "    # via flask\n",
    "markupsafe==3.0.2\n",
    "    # via\n",
    "    #   jinja2\n",
    "    #   werkzeug\n",
    "requests==2.32.3\n",
    "    # via -r .\\requieremets.in\n",
    "urllib3==2.3.0\n",
    "    # via requests\n",
    "werkzeug==3.1.3\n",
    "    # via flask\n",
    "(entorno1) PS C:\\Users\\Usuario\\Desktop\\env> dir\n",
    "\n",
    "\n",
    "    Directorio: C:\\Users\\Usuario\\Desktop\\env\n",
    "\n",
    "\n",
    "Mode                 LastWriteTime         Length Name\n",
    "----                 -------------         ------ ----\n",
    "d-----        28/03/2025     10:17                entorno1\n",
    "-a----        28/03/2025     10:30             36 requiremets.in\n",
    "-a----        28/03/2025     10:33            621 requiremets.txt\n",
    "\n",
    "\n",
    "(entorno1) PS C:\\Users\\Usuario\\Desktop\\env> type .\\requirements.txt\n",
    "#\n",
    "# This file is autogenerated by pip-compile with Python 3.13\n",
    "# by the following command:\n",
    "#\n",
    "#    pip-compile '.\\requirements.in'\n",
    "#\n",
    "blinker==1.9.0\n",
    "    # via flask\n",
    "certifi==2025.1.31\n",
    "    # via requests\n",
    "charset-normalizer==3.4.1\n",
    "    # via requests\n",
    "click==8.1.8\n",
    "    # via flask\n",
    "colorama==0.4.6\n",
    "    # via click\n",
    "flask==3.1.0\n",
    "    # via -r .\\requieremets.in\n",
    "idna==3.10\n",
    "    # via requests\n",
    "itsdangerous==2.2.0\n",
    "    # via flask\n",
    "jinja2==3.1.6\n",
    "    # via flask\n",
    "markupsafe==3.0.2\n",
    "    # via\n",
    "    #   jinja2\n",
    "    #   werkzeug\n",
    "requests==2.32.3\n",
    "    # via -r .\\requieremets.in\n",
    "urllib3==2.3.0\n",
    "    # via requests\n",
    "werkzeug==3.1.3\n",
    "    # via flask\n",
    "```"
   ]
  },
  {
   "cell_type": "markdown",
   "id": "b076414b-b4ff-481c-9970-640cff795cd4",
   "metadata": {},
   "source": [
    "## Pedir al llm nivel de confianza de las librerias del projecto"
   ]
  },
  {
   "cell_type": "markdown",
   "id": "caf8fc23-599c-499b-8edc-71ea02105adc",
   "metadata": {},
   "source": [
    "## Estoy trabajando en una aplicación web sencilla en Python. A continuación se muestran las dependencias actuales de ese proyecto. Para cada una, escríbeme un breve resumen de su función y si debo confiar en ella\n",
    "\n",
    "blinker==1.9.0\n",
    "    # via flask\n",
    "certifi==2025.1.31\n",
    "    # via requests\n",
    "charset-normalizer==3.4.1\n",
    "    # via requests\n",
    "click==8.1.8\n",
    "    # via flask\n",
    "colorama==0.4.6\n",
    "    # via click\n",
    "flask==3.1.0\n",
    "    # via -r .\\requieremets.in\n",
    "idna==3.10\n",
    "    # via requests\n",
    "itsdangerous==2.2.0\n",
    "    # via flask\n",
    "jinja2==3.1.6\n",
    "    # via flask\n",
    "markupsafe==3.0.2\n",
    "    # via\n",
    "    #   jinja2\n",
    "    #   werkzeug\n",
    "requests==2.32.3\n",
    "    # via -r .\\requieremets.in\n",
    "urllib3==2.3.0\n",
    "    # via requests\n",
    "werkzeug==3.1.3\n",
    "    # via flask"
   ]
  },
  {
   "cell_type": "markdown",
   "id": "c4db470d-6a46-4d23-8be2-d23429a17864",
   "metadata": {},
   "source": [
    "GPT : Claro, aquí tienes un resumen de cada una de las dependencias actuales de tu aplicación web en Python, incluyendo su función y su\n",
    " nivel de confianza general:"
   ]
  },
  {
   "cell_type": "markdown",
   "id": "50d26ce7-aacb-486a-addf-ea3209510964",
   "metadata": {},
   "source": [
    "### 1. `blinker==1.9.0`\n",
    "- **Función**: Blinker es una biblioteca que proporciona soporte para señales (es un sistema de eventos que permite que otras partes de la aplicación escuchen y respondan a ciertas acciones). Se utiliza comúnmente en aplicaciones Flask para permitir la comunicación entre diferentes componentes de la aplicación.\n",
    "- **Confianza**: Generalmente se puede confiar en Blinker, ya que es una herramienta bien mantenida y utilizada en aplicaciones Flask."
   ]
  },
  {
   "cell_type": "markdown",
   "id": "a2290e0c-5d3f-4e66-9e9a-d1a48d1ad1b7",
   "metadata": {},
   "source": [
    "### 2. `certifi==2025.1.31`\n",
    "- **Función**: Certifi es un paquete que proporciona un conjunto de certificados CA (Autoridad de Certificación) que son utilizados por el módulo `ssl` de Python para verificar la validez de los certificados de los sitios a los que la aplicación se conecta.\n",
    "- **Confianza**: Alta. `certifi` es ampliamente utilizado para asegurar conexiones HTTPS."
   ]
  },
  {
   "cell_type": "markdown",
   "id": "c4441736-e03d-42b5-9902-dcc10f9bb869",
   "metadata": {},
   "source": [
    "### 3. `charset-normalizer==3.4.1`\n",
    "- **Función**: Esta biblioteca es utilizada para detectar y normalizar caracteres en texto. Es especialmente útil en el contexto de las solicitudes HTTP para asegurar que los datos de texto se manejen correctamente.\n",
    "- **Confianza**: Alta. Es la biblioteca recomendada para manejar la normalización de caracteres y es utilizada por `requests`."
   ]
  },
  {
   "cell_type": "markdown",
   "id": "6efb3cac-a6dc-4085-b54c-d9fab8c1f4ba",
   "metadata": {},
   "source": [
    "### 4. `click==8.1.8`\n",
    "- **Función**: Click es una biblioteca utilizada para crear interfaces de línea de comandos en Python. Es común en aplicaciones Flask para manejar comandos y argumentos de línea de comandos.\n",
    "- **Confianza**: Alta. Es una biblioteca estable y muy utilizada en proyectos de Python."
   ]
  },
  {
   "cell_type": "markdown",
   "id": "13b10ede-6391-4da0-8c1f-d2f4d26932bb",
   "metadata": {},
   "source": [
    "### 5. `colorama==0.4.6`\n",
    "- **Función**: Colorama hace que el texto de color en la consola sea multiplataforma, permitiendo que los textos de salida sean coloridos en Windows, macOS y Linux.\n",
    "- **Confianza**: Alta. Es una herramienta de confianza utilizada por muchos proyectos, especialmente para mejorar la experiencia de usuario en la terminal."
   ]
  },
  {
   "cell_type": "markdown",
   "id": "701acf6d-d968-48f6-b11b-54b5fb476fbf",
   "metadata": {},
   "source": [
    "### 6. `flask==3.1.0`\n",
    "- **Función**: Flask es un microframework para construir aplicaciones web en Python. Ofrece las herramientas necesarias para definir rutas, manejar solicitudes y respuestas, y crear aplicaciones web rápidas y ligeras.\n",
    "- **Confianza**: Muy alta. Flask es uno de los frameworks más populares y confiables para crear aplicaciones web en Python."
   ]
  },
  {
   "cell_type": "markdown",
   "id": "983cb0eb-03ee-4ca3-884e-acb0aaf6a5a8",
   "metadata": {},
   "source": [
    "### 7. `idna==3.10`\n",
    "- **Función**: Esta biblioteca se utiliza para manejar nombres de dominio que contienen caracteres no ASCII (como caracteres de diferentes idiomas). Es utilizada comúnmente en el contexto de solicitudes HTTP.\n",
    "- **Confianza**: Alta. Es una dependencia bien mantenida y utilizada, especialmente en la biblioteca `requests`."
   ]
  },
  {
   "cell_type": "markdown",
   "id": "09c24017-2b45-4ebf-ad92-9c561b0e6caa",
   "metadata": {},
   "source": [
    "### 8. `itsdangerous==2.2.0`\n",
    "- **Función**: Esta biblioteca se utiliza para la generación de tokens seguros. Es común en Flask para la creación de sesiones seguras y para proteger cookies.\n",
    "- **Confianza**: Alta. Es parte del stack de Flask y es confiable para su uso en la protección de datos sensibles."
   ]
  },
  {
   "cell_type": "markdown",
   "id": "087d102a-2603-4645-8ee1-d4642033b8c9",
   "metadata": {},
   "source": [
    "### 9. `jinja2==3.1.6`\n",
    "- **Función**: Jinja2 es un motor de plantillas para Python. Es utilizado en Flask para renderizar HTML y permite insertar datos dinámicos en las plantillas.\n",
    "- **Confianza**: Muy alta. Jinja2 es ampliamente utilizado en aplicaciones web y es una parte fundamental de muchas aplicaciones que utilizan Flask."
   ]
  },
  {
   "cell_type": "markdown",
   "id": "5aeda621-68ae-4e0e-9212-4875dad2e1e9",
   "metadata": {},
   "source": [
    "### 10. `markupsafe==3.0.2`\n",
    "- **Función**: MarkupSafe es una biblioteca utilizada por Jinja2 para escapar texto de manera segura en HTML y XML, evitando inyecciones de código y asegurando la seguridad en las salidas.\n",
    "- **Confianza**: Alta. Es una biblioteca bien establecida y es esencial para la seguridad de las aplicaciones de Flask que utilizan Jinja2."
   ]
  },
  {
   "cell_type": "markdown",
   "id": "f377d265-9073-4d1f-9df8-a93d6264e0df",
   "metadata": {},
   "source": [
    "### 11. `requests==2.32.3`\n",
    "- **Función**: Requests es una biblioteca popular para realizar solicitudes HTTP en Python. Hace que trabajar con solicitudes y respuestas HTTP sea muy sencillo y es ampliamente utilizada para interactuar con APIs y servicios web.\n",
    "- **Confianza**: Muy alta. Es una de las bibliotecas más utilizadas en la comunidad Python para realizar solicitudes HTTP."
   ]
  },
  {
   "cell_type": "markdown",
   "id": "618f9e9e-a55a-4c21-8583-626a5c32a7bc",
   "metadata": {},
   "source": [
    "### 12. `urllib3==2.3.0`\n",
    "- **Función**: Urllib3 es una biblioteca utilizada para manejar conexiones HTTP. Proporciona características como pooling de conexiones y soporte para HTTPS. `Requests` utiliza `urllib3` en su fondo.\n",
    "- **Confianza**: Alta. Es una biblioteca estable y confiable, pero asegúrate de mantenerla actualizada debido a problemas de seguridad potenciales en versiones anteriores."
   ]
  },
  {
   "cell_type": "markdown",
   "id": "24df4742-9af2-45c1-a58e-10df858cd803",
   "metadata": {},
   "source": [
    "### 13. `werkzeug==3.1.3`\n",
    "- **Función**: Werkzeug es una biblioteca WSGI que proporciona las herramientas necesarias para crear aplicaciones web en Python. Es la base de Flask y se encarga de manejar las solicitudes y respuestas HTTP.\n",
    "- **Confianza**: Muy alta. Como parte del stack de Flask, es confiable y muy utilizada en la comunidad."
   ]
  },
  {
   "cell_type": "markdown",
   "id": "efd8f86b-3eb4-43ca-b484-674de2b5f952",
   "metadata": {},
   "source": [
    "### Conclusión\n",
    "En general, todas las dependencias que enumeraste son ampliamente utilizadas en la comunidad Python y tienen buena reputación en términos de mantenimiento y seguridad. Asegúrate de revisar regularmente las actualizaciones y vulnerabilidades de seguridad, pero puedes confiar en estas bibliotecas para tu aplicación web sencilla. Si necesitas más información sobre alguna de ellas, no dudes en preguntar."
   ]
  },
  {
   "cell_type": "markdown",
   "id": "95421525-b34d-4e07-8370-0b311e674f21",
   "metadata": {},
   "source": [
    "## instalamos las librerias en el entorno"
   ]
  },
  {
   "cell_type": "markdown",
   "id": "edc183dd-bbf7-43e9-b1b7-3470e94b1bcb",
   "metadata": {},
   "source": [
    "```powershell\n",
    "(entorno1) PS C:\\Users\\Usuario\\Desktop\\env> python -m pip install -r .\\requirements.txt\n",
    "Collecting blinker==1.9.0 (from -r .\\requirements.txt (line 7))\n",
    "...\n",
    "...\n",
    "\n",
    "Installing collected packages: urllib3, markupsafe, itsdangerous, idna, charset-normalizer, certifi, blinker, werkzeug, requests, jinja2, flask\n",
    "Successfully installed blinker-1.9.0 certifi-2025.1.31 charset-normalizer-3.4.1 flask-3.1.0 idna-3.10 itsdangerous-2.2.0 jinja2-3.1.6 markupsafe-3.0.2 requests-2.32.3 urllib3-2.3.0 werkzeug-3.1.3\n",
    "\n",
    "[notice] A new release of pip is available: 24.3.1 -> 25.0.1\n",
    "[notice] To update, run: python.exe -m pip install --upgrade pip\n",
    "(entorno1) PS C:\\Users\\Usuario\\Desktop\\env> pip list\n",
    "Package            Version\n",
    "------------------ -----------\n",
    "blinker            1.9.0\n",
    "build              1.2.2.post1\n",
    "certifi            2025.1.31\n",
    "charset-normalizer 3.4.1\n",
    "click              8.1.8\n",
    "colorama           0.4.6\n",
    "Flask              3.1.0\n",
    "idna               3.10\n",
    "itsdangerous       2.2.0\n",
    "Jinja2             3.1.6\n",
    "MarkupSafe         3.0.2\n",
    "packaging          24.2\n",
    "pip                24.3.1\n",
    "pip-tools          7.4.1\n",
    "pyproject_hooks    1.2.0\n",
    "requests           2.32.3\n",
    "setuptools         78.1.0\n",
    "urllib3            2.3.0\n",
    "Werkzeug           3.1.3\n",
    "wheel              0.45.1\n",
    "(entorno1) PS C:\\Users\\Usuario\\Desktop\\env>\n",
    "```"
   ]
  },
  {
   "cell_type": "markdown",
   "id": "07c95a15-1830-44c8-ac21-ea75e2e09505",
   "metadata": {},
   "source": [
    "## Replicamos el entorno"
   ]
  },
  {
   "cell_type": "markdown",
   "id": "11b4b68a-fe61-44b4-8aca-b2ee727e7fc8",
   "metadata": {},
   "source": [
    "```powershell\n",
    "(entorno1) PS C:\\Users\\Usuario\\Desktop> mkdir env2\n",
    "\n",
    "\n",
    "    Directorio: C:\\Users\\Usuario\\Desktop\n",
    "\n",
    "\n",
    "Mode                 LastWriteTime         Length Name\n",
    "----                 -------------         ------ ----\n",
    "d-----        28/03/2025     10:53                env2\n",
    "\n",
    "(entorno1) PS C:\\Users\\Usuario\\Desktop> cd .\\env\\\n",
    "(entorno1) PS C:\\Users\\Usuario\\Desktop\\env> dir\n",
    "\n",
    "\n",
    "    Directorio: C:\\Users\\Usuario\\Desktop\\env\n",
    "\n",
    "\n",
    "Mode                 LastWriteTime         Length Name\n",
    "----                 -------------         ------ ----\n",
    "d-----        28/03/2025     10:17                entorno1\n",
    "-a----        28/03/2025     10:30             36 requirements.in\n",
    "-a----        28/03/2025     10:33            621 requirements.txt\n",
    "\n",
    "\n",
    "(entorno1) PS C:\\Users\\Usuario\\Desktop\\env> cp .\\requirements.txt  ..\\env2\\\n",
    "(entorno1) PS C:\\Users\\Usuario\\Desktop\\env> cd ..\n",
    "(entorno1) PS C:\\Users\\Usuario\\Desktop> cd .\\env2\\\n",
    "(entorno1) PS C:\\Users\\Usuario\\Desktop\\env2> dir\n",
    "\n",
    "\n",
    "    Directorio: C:\\Users\\Usuario\\Desktop\\env2\n",
    "\n",
    "\n",
    "Mode                 LastWriteTime         Length Name\n",
    "----                 -------------         ------ ----\n",
    "-a----        28/03/2025     10:33            621 requirements.txt\n",
    "\n",
    "\n",
    "(entorno1) PS C:\\Users\\Usuario\\Desktop\\env2> py -m venv entorno2\n",
    "\n",
    "```"
   ]
  },
  {
   "cell_type": "markdown",
   "id": "5c68fe79-36e3-4df5-b199-a79994bbf235",
   "metadata": {},
   "source": [
    "```powershell\n",
    "\n",
    "PS C:\\Users\\Usuario\\Desktop\\env2> .\\entorno2\\Scripts\\activate\n",
    "(entorno2) PS C:\\Users\\Usuario\\Desktop\\env2> python -m pip list\n",
    "Package Version\n",
    "------- -------\n",
    "pip     24.3.1\n",
    "(entorno2) PS C:\\Users\\Usuario\\Desktop\\env2> python -m pip install pip-tools\n",
    "Collecting pip-tools\n",
    "...\n",
    "...\n",
    "Installing collected packages: wheel, setuptools, pyproject-hooks, packaging, colorama, click, build, pip-tools\n",
    "Successfully installed build-1.2.2.post1 click-8.1.8 colorama-0.4.6 packaging-24.2 pip-tools-7.4.1 pyproject-hooks-1.2.0 setuptools-78.1.0 wheel-0.45.1\n",
    "\n",
    "[notice] A new release of pip is available: 24.3.1 -> 25.0.1\n",
    "[notice] To update, run: python.exe -m pip install --upgrade pip\n",
    "\n",
    "(entorno2) PS C:\\Users\\Usuario\\Desktop\\env2> pip-sync\n",
    "Collecting blinker==1.9.0 (from -r C:\\Users\\Usuario\\AppData\\Local\\Temp\\tmp5otmdiex (line 1))\n",
    "  Using cached blinker-1.9.0-py3-none-any.whl.metadata (1.6 kB)\n",
    "Collecting certifi==2025.1.31 (from -r C:\\Users\\Usuario\\AppData\\Local\\Temp\\tmp5otmdiex (line 2))\n",
    "  Using cached certifi-2025.1.31-py3-none-any.whl.metadata (2.5 kB)\n",
    "Collecting charset-normalizer==3.4.1 (from -r C:\\Users\\Usuario\\AppData\\Local\\Temp\\tmp5otmdiex (line 3))\n",
    "  Using cached charset_normalizer-3.4.1-cp313-cp313-win_amd64.whl.metadata (36 kB)\n",
    "Collecting flask==3.1.0 (from -r C:\\Users\\Usuario\\AppData\\Local\\Temp\\tmp5otmdiex (line 4))\n",
    "  Using cached flask-3.1.0-py3-none-any.whl.metadata (2.7 kB)\n",
    "Collecting idna==3.10 (from -r C:\\Users\\Usuario\\AppData\\Local\\Temp\\tmp5otmdiex (line 5))\n",
    "  Using cached idna-3.10-py3-none-any.whl.metadata (10 kB)\n",
    "Collecting itsdangerous==2.2.0 (from -r C:\\Users\\Usuario\\AppData\\Local\\Temp\\tmp5otmdiex (line 6))\n",
    "  Using cached itsdangerous-2.2.0-py3-none-any.whl.metadata (1.9 kB)\n",
    "Collecting jinja2==3.1.6 (from -r C:\\Users\\Usuario\\AppData\\Local\\Temp\\tmp5otmdiex (line 7))\n",
    "  Using cached jinja2-3.1.6-py3-none-any.whl.metadata (2.9 kB)\n",
    "Collecting markupsafe==3.0.2 (from -r C:\\Users\\Usuario\\AppData\\Local\\Temp\\tmp5otmdiex (line 8))\n",
    "Collecting requests==2.32.3 (from -r C:\\Users\\Usuario\\AppData\\Local\\Temp\\tmp5otmdiex (line 9))\n",
    "  Using cached requests-2.32.3-py3-none-any.whl.metadata (4.6 kB)\n",
    "Collecting urllib3==2.3.0 (from -r C:\\Users\\Usuario\\AppData\\Local\\Temp\\tmp5otmdiex (line 10))\n",
    "  Using cached urllib3-2.3.0-py3-none-any.whl.metadata (6.5 kB)\n",
    "Collecting werkzeug==3.1.3 (from -r C:\\Users\\Usuario\\AppData\\Local\\Temp\\tmp5otmdiex (line 11))\n",
    "  Using cached werkzeug-3.1.3-py3-none-any.whl.metadata (3.7 kB)\n",
    "Requirement already satisfied: click>=8.1.3 in c:\\users\\usuario\\desktop\\env2\\entorno2\\lib\\site-packages (from flask==3.1.0->-r C:\\Users\\Usuario\\AppData\\Local\\Temp\\tmp5otmdiex (line 4)) (8.1.8)\n",
    "Requirement already satisfied: colorama in c:\\users\\usuario\\desktop\\env2\\entorno2\\lib\\site-packages (from click>=8.1.3->flask==3.1.0->-r C:\\Users\\Usuario\\AppData\\Local\\Temp\\tmp5otmdiex (line 4)) (0.4.6)\n",
    "Using cached blinker-1.9.0-py3-none-any.whl (8.5 kB)\n",
    "Using cached certifi-2025.1.31-py3-none-any.whl (166 kB)\n",
    "Using cached charset_normalizer-3.4.1-cp313-cp313-win_amd64.whl (102 kB)\n",
    "Using cached flask-3.1.0-py3-none-any.whl (102 kB)\n",
    "Using cached idna-3.10-py3-none-any.whl (70 kB)\n",
    "Using cached itsdangerous-2.2.0-py3-none-any.whl (16 kB)\n",
    "Using cached jinja2-3.1.6-py3-none-any.whl (134 kB)\n",
    "Using cached MarkupSafe-3.0.2-cp313-cp313-win_amd64.whl (15 kB)\n",
    "Using cached requests-2.32.3-py3-none-any.whl (64 kB)\n",
    "Using cached urllib3-2.3.0-py3-none-any.whl (128 kB)\n",
    "Using cached werkzeug-3.1.3-py3-none-any.whl (224 kB)\n",
    "Installing collected packages: urllib3, markupsafe, itsdangerous, idna, charset-normalizer, certifi, blinker, werkzeug, requests, jinja2, flask\n",
    "Successfully installed blinker-1.9.0 certifi-2025.1.31 charset-normalizer-3.4.1 flask-3.1.0 idna-3.10 itsdangerous-2.2.0 jinja2-3.1.6 markupsafe-3.0.2 requests-2.32.3 urllib3-2.3.0 werkzeug-3.1.3\n",
    "\n",
    "[notice] A new release of pip is available: 24.3.1 -> 25.0.1\n",
    "[notice] To update, run: python.exe -m pip install --upgrade pip\n",
    "(entorno2) PS C:\\Users\\Usuario\\Desktop\\env2> python -m pip list\n",
    "Package            Version\n",
    "------------------ -----------\n",
    "blinker            1.9.0\n",
    "build              1.2.2.post1\n",
    "certifi            2025.1.31\n",
    "charset-normalizer 3.4.1\n",
    "click              8.1.8\n",
    "colorama           0.4.6\n",
    "Flask              3.1.0\n",
    "idna               3.10\n",
    "itsdangerous       2.2.0\n",
    "Jinja2             3.1.6\n",
    "MarkupSafe         3.0.2\n",
    "packaging          24.2\n",
    "pip                24.3.1\n",
    "pip-tools          7.4.1\n",
    "pyproject_hooks    1.2.0\n",
    "requests           2.32.3\n",
    "setuptools         78.1.0\n",
    "urllib3            2.3.0\n",
    "Werkzeug           3.1.3\n",
    "wheel              0.45.1\n",
    "(entorno2) PS C:\\Users\\Usuario\\Desktop\\env2>\n",
    "```"
   ]
  },
  {
   "cell_type": "code",
   "execution_count": null,
   "id": "e3dca31d-1187-4d1b-8ee4-bc288bef3f87",
   "metadata": {},
   "outputs": [],
   "source": []
  },
  {
   "cell_type": "code",
   "execution_count": null,
   "id": "bf5322cb-48d4-4673-9c3e-be4d54db66d6",
   "metadata": {},
   "outputs": [],
   "source": []
  },
  {
   "cell_type": "markdown",
   "id": "8b5b2c8e-b5c4-4872-afff-1b1a2c56be66",
   "metadata": {},
   "source": [
    "## Conflicto de dependencias"
   ]
  },
  {
   "cell_type": "markdown",
   "id": "5f662890-8273-4e02-bfbb-74f411f7ee49",
   "metadata": {},
   "source": [
    "- 🛑 Ejemplo real de conflicto\n",
    "\n",
    "Supongamos que estamos trabajando en un proyecto donde necesitamos tanto pandas como tensorflow.\n",
    "\n",
    "- pandas versión 1.3.0\n",
    "  - requiere numpy>=1.17.3\n",
    "- tensorflow 2.6.0\n",
    "  - requiere numpy<1.20.0,>=1.16.0\n",
    "\n",
    "Si intentamos instalar ambas, pandas podría instalar una versión de numpy incompatible con tensorflow, causando errores."
   ]
  },
  {
   "cell_type": "markdown",
   "id": "42d8bf20-4a9f-46a3-98fc-549dc995dbf0",
   "metadata": {},
   "source": [
    "- 🔥 Simulación del problema\n",
    "\n",
    "Primero, creamos un entorno virtual (para evitar dañar el sistema global):\n",
    "\n",
    "```bash\n",
    "python -m venv conflicto_env\n",
    "source conflicto_env/bin/activate  # En Windows: conflicto_env\\Scripts\\activate\n",
    "```\n",
    "Luego, instalamos tensorflow 2.6.0:\n",
    "\n",
    "```bash\n",
    "pip install tensorflow==2.6.0\n",
    "```\n",
    "\n",
    "Esto instalará numpy 1.19.5, porque es la versión compatible con tensorflow 2.6.0.\n",
    "\n",
    "Ahora intentamos instalar pandas 1.3.0:\n",
    "\n",
    "```bash\n",
    "pip install pandas==1.3.0\n",
    "```\n",
    "\n",
    "Esto actualizará numpy a una versión más reciente (numpy>=1.17.3), lo que puede romper tensorflow.\n",
    "\n",
    "- 🔎 Verificando el conflicto\n",
    "\n",
    "Para ver el problema, podemos listar las versiones instaladas:\n",
    "\n",
    "```bash\n",
    "pip list | grep numpy\n",
    "```\n",
    "\n",
    "Si numpy se actualiza a 1.21.0, tensorflow 2.6.0 podría fallar al importarse:\n",
    "\n",
    "```python\n",
    "import tensorflow as tf\n",
    "```\n",
    "\n",
    "Error:\n",
    "\n",
    "```vbnet\n",
    "ImportError: numpy 1.21.0 is incompatible with tensorflow 2.6.0\n",
    "```\n",
    "\n",
    "- ✅ Soluciones\n",
    "\n",
    "Forzar una versión compatible\n",
    "\n",
    "```bash\n",
    "pip install numpy==1.19.5\n",
    "```\n",
    "\n",
    "Luego instalar los paquetes sin actualizar numpy:\n",
    "\n",
    "```bash\n",
    "pip install pandas==1.3.0 --no-deps\n",
    "```\n",
    "\n",
    "Usar un entorno virtual separado para cada paquete\n",
    "\n",
    "Si tensorflow y pandas se usan en distintos scripts, podemos crear dos entornos virtuales diferentes.\n",
    "\n",
    "Actualizar tensorflow a una versión compatible con versiones más nuevas de numpy\n",
    "\n",
    "```bash\n",
    "pip install --upgrade tensorflow\n",
    "```\n"
   ]
  },
  {
   "cell_type": "markdown",
   "id": "6bcdf985-6d61-49ba-bc15-e1ad651c0f77",
   "metadata": {},
   "source": [
    "### 🔹 Código para probar el conflicto"
   ]
  },
  {
   "cell_type": "markdown",
   "id": "83941b17-1ab1-42ff-a499-5982f215a59a",
   "metadata": {},
   "source": [
    "```python\n",
    "import subprocess\n",
    "\n",
    "def run_command(command):\n",
    "    result = subprocess.run(command, shell=True, capture_output=True, text=True)\n",
    "    return result.stdout.strip() + \"\\n\" + result.stderr.strip()\n",
    "\n",
    "# Verificar la versión actual de numpy\n",
    "print(\"Versión actual de numpy:\")\n",
    "print(run_command(\"pip show numpy\"))\n",
    "\n",
    "# Instalar tensorflow 2.6.0\n",
    "print(\"\\nInstalando TensorFlow 2.6.0...\")\n",
    "print(run_command(\"pip install tensorflow==2.6.0\"))\n",
    "\n",
    "# Verificar la versión de numpy después de instalar tensorflow\n",
    "print(\"\\nVersión de numpy después de instalar TensorFlow:\")\n",
    "print(run_command(\"pip show numpy\"))\n",
    "\n",
    "# Instalar pandas 1.3.0\n",
    "print(\"\\nInstalando Pandas 1.3.0...\")\n",
    "print(run_command(\"pip install pandas==1.3.0\"))\n",
    "\n",
    "# Verificar la versión de numpy después de instalar pandas\n",
    "print(\"\\nVersión de numpy después de instalar Pandas:\")\n",
    "print(run_command(\"pip show numpy\"))\n",
    "\n",
    "# Intentar importar tensorflow después del cambio\n",
    "print(\"\\nProbando importación de TensorFlow...\")\n",
    "print(run_command(\"python -c 'import tensorflow as tf'\"))\n",
    "```"
   ]
  },
  {
   "cell_type": "markdown",
   "id": "72c9d684-0ff9-4663-b5e3-3a5ce7fb6091",
   "metadata": {},
   "source": [
    "## Como experto en seguridad de dependenias que herramientas recomendas para pyrhon       "
   ]
  },
  {
   "cell_type": "markdown",
   "id": "c8e16ab7-7d26-4054-b9f9-a70c9a47927c",
   "metadata": {},
   "source": [
    "GPT : La gestión de la seguridad de las dependencias es crucial en cualquier proyecto de software, incluyendo en el ecosistema de Pytho\n",
    "n. A continuación, te presento algunas herramientas y prácticas recomendadas para asegurarte de que tus dependencias sean seguras:"
   ]
  },
  {
   "cell_type": "markdown",
   "id": "58ad4342-7645-466b-bb4c-772360716b47",
   "metadata": {},
   "source": [
    "### Herramientas para la Seguridad de Dependencias en Python"
   ]
  },
  {
   "cell_type": "markdown",
   "id": "af0c4214-c751-4181-b1aa-e6b2aba6750e",
   "metadata": {},
   "source": [
    "#### 1. **Safety**\n",
    "   - **Descripción**: Safety es una herramienta que verifica tus dependencias en busca de vulnerabilidades conocidas. Compara tus dependencias contra una base de datos de vulnerabilidades y te proporciona un informe.\n",
    "   - **Uso**: \n",
    "     ```bash\n",
    "     pip install safety\n",
    "     safety check\n",
    "     ```"
   ]
  },
  {
   "cell_type": "markdown",
   "id": "70528fb6-d839-4f99-b1b9-5203c6225dcb",
   "metadata": {},
   "source": [
    "#### 2. **Bandit**\n",
    "   - **Descripción**: Bandit es una herramienta para analizar código Python en busca de problemas de seguridad. Realiza un análisis estático del código y puede encontrar vulnerabilidades comunes.\n",
    "   - **Uso**:\n",
    "     ```bash\n",
    "     pip install bandit\n",
    "     bandit -r tu_proyecto/\n",
    "     ```"
   ]
  },
  {
   "cell_type": "markdown",
   "id": "ef8a0f08-1396-4602-b6dc-24ff24b38ceb",
   "metadata": {},
   "source": [
    "#### 3. **Pyup**\n",
    "   - **Descripción**: Pyup es una herramienta que monitoriza tus dependencias y te notifica cuando hay actualizaciones disponibles, así como posibles vulnerabilidades de seguridad.\n",
    "   - **Uso**: Puedes integrarla en tu flujo de trabajo para recibir notificaciones sobre la seguridad de tus dependencias."
   ]
  },
  {
   "cell_type": "markdown",
   "id": "52d9509e-5d94-4806-9700-d6221934e9c5",
   "metadata": {},
   "source": [
    "#### 4. **Snyk**\n",
    "   - **Descripción**: Snyk es una plataforma que permite a los desarrolladores encontrar y corregir vulnerabilidades en sus aplicaciones y dependencias. Ofrece una CLI que se integra en el proceso de desarrollo.\n",
    "   - **Uso**:\n",
    "     ```bash\n",
    "     npm install -g snyk  # Para instalar la CLI de Snyk\n",
    "     snyk test  # Para escanear tu proyecto\n",
    "     ```"
   ]
  },
  {
   "cell_type": "markdown",
   "id": "5f554d0a-549a-4fe5-a943-5f39e7651d81",
   "metadata": {},
   "source": [
    "#### 5. **pip-audit**\n",
    "   - **Descripción**: pip-audit es una herramienta específica para Python que audita las dependencias instaladas y las compara con una base de datos de vulnerabilidades para informar sobre cualquier problema.\n",
    "   - **Uso**:\n",
    "     ```bash\n",
    "     pip install pip-audit\n",
    "     pip-audit\n",
    "     ```"
   ]
  },
  {
   "cell_type": "markdown",
   "id": "a2c547ac-627a-4ff7-849e-60fce41e106f",
   "metadata": {},
   "source": [
    "#### 6. **Dependabot**\n",
    "   - **Descripción**: Dependabot es una herramienta que ayuda a mantener actualizadas las dependencias de tu proyecto. Ofrece pull requests automáticos cuando se detectan nuevas versiones o vulnerabilidades.\n",
    "   - **Uso**: Se integra en GitHub y puede ser configurado en los archivos de configuración del repositorio."
   ]
  },
  {
   "cell_type": "markdown",
   "id": "afb19613-48b0-4a75-9515-b8be42126df9",
   "metadata": {},
   "source": [
    "#### 7. **pyup.io**\n",
    "   - **Descripción**: Funciona como un servicio para rastrear vulnerabilidades en tus dependencias y permite automatizar la creación de pull requests para actualizarlas.\n",
    "   - **Uso**: Necesitarás registrarte y seguir la configuración de tu repositorio."
   ]
  },
  {
   "cell_type": "markdown",
   "id": "c05af6ac-733d-4e16-a775-7cb82ec0c531",
   "metadata": {},
   "source": [
    "### Prácticas Recomendadas"
   ]
  },
  {
   "cell_type": "markdown",
   "id": "29d9a0b5-24b7-4738-a0bc-beabf7471c87",
   "metadata": {},
   "source": [
    "- **Actualizaciones Regulares**: Mantén tus dependencias actualizadas. Usa herramientas como `pip-tools`, `pip-audit` o `dependabot` para monitorizar y manejar las actualizaciones.\n",
    "\n",
    "- **Entornos Virtuales**: Utiliza entornos virtuales (como `venv` o `virtualenv`) para aislar tus dependencias del sistema global y evitar conflictos y problemas de seguridad.\n",
    "\n",
    "- **Revisión de Código**: Realiza revisiones de código y asegúrate de que el uso de las dependencias siga las mejores prácticas de seguridad.\n",
    "\n",
    "- **Pruebas de Seguridad**: Incorpora pruebas de seguridad en tu flujo de CI/CD para que se realicen automáticamente cada vez que despliegues tu aplicación.\n",
    "\n",
    "- **Documentación**: Revisa la documentación de las bibliotecas que incluyes en tu proyecto para entender sus implicaciones de seguridad y cómo manejan los datos sensibles.\n",
    "\n",
    "- **Escaneo Manual**: Regularmente, realiza un escaneo manual utilizando herramientas que analicen la seguridad de las bibliotecas que estás utilizando."
   ]
  },
  {
   "cell_type": "markdown",
   "id": "2186a8e1-fd7e-45eb-9e28-3f5e6bc07544",
   "metadata": {},
   "source": [
    "### Conclusion\n",
    "Combinar herramientas automatizadas con buenas prácticas y revisiones regulares te ayudará a mantener la seguridad de tus dependencias en proyectos Python. Asegúrate de mantener una mentalidad de seguridad desde el principio del desarrollo y en cada iteración del proyecto. Si necesitas más información sobre alguna de estas herramientas o prácticas, ¡no dudes en preguntar!"
   ]
  },
  {
   "cell_type": "markdown",
   "id": "f3373924-0b09-4a75-b5b8-fe38d8e360e1",
   "metadata": {},
   "source": [
    "emi $: que es el CI/CD"
   ]
  },
  {
   "cell_type": "markdown",
   "id": "5f1b03b8-fd3f-491b-8401-01e6deb58302",
   "metadata": {},
   "source": [
    "GPT : CI/CD son siglas que representan \"Integración Continua\" (Continuous Integration) y \"Entrega Continua\" (Continuous Delivery) o \"Despliegue Continuo\" (Continuous Deployment). Estas prácticas son fundamentales en el desarrollo moderno de software y tienen por objetivo mejorar la calidad del código, acelerar el proceso de desarrollo y facilitar la entrega de software a los usuarios. A continuación, te explico cada uno de estos conceptos en detalle:"
   ]
  },
  {
   "cell_type": "markdown",
   "id": "0396b12a-f05e-4431-b6f2-0d113dff0cba",
   "metadata": {},
   "source": [
    "### Integración Continua (CI)"
   ]
  },
  {
   "cell_type": "markdown",
   "id": "cf033bd5-47ea-4f90-83d1-f601769005ae",
   "metadata": {},
   "source": [
    "- **Definición**: La Integración Continua es una práctica en la que los desarrolladores integran su código en un repositorio compartido de forma frecuente, al menos varias veces al día. Cada integración es verificada automáticamente por medio de la construcción y pruebas del software.\n",
    "  \n",
    "- **Objetivos**:\n",
    "  - Detectar errores rápidamente al integrar el código con más frecuencia.\n",
    "  - Reducir el tiempo necesario para reparar errores, ya que se puede identificar rápidamente qué cambio causó una falla.\n",
    "  - Asegurar que el código en el repositorio principal esté siempre en un estado desplegable.\n",
    "\n",
    "- **Herramientas Comunes**: Jenkins, Travis CI, CircleCI, GitHub Actions, GitLab CI/CD.\n",
    "\n",
    "### Entrega Continua (CD)\n",
    "\n",
    "- **Definición**: La Entrega Continua es una práctica que se basa en la Integración Continua y asegura que el código que ha pasado todas las pruebas puede ser desplegado a producción de manera segura y rápida en cualquier momento.\n",
    "\n",
    "- **Objetivos**:\n",
    "  - Asegurar que el software pueda ser desplegado en producción en cualquier momento, lo que facilita un ciclo de vida ágil de desarrollo.\n",
    "  - Mantener un entorno de producción que siempre esté disponible y listo para recibir nuevas versiones del software de forma controlada.\n",
    "\n",
    "- **Características**:\n",
    "  - Las versiones del software se construyen y se prueban automáticamente, y luego son enviadas a un entorno de preproducción donde pueden ser evaluadas por el equipo antes de ser lanzadas a producción."
   ]
  },
  {
   "cell_type": "markdown",
   "id": "7efbd219-682c-4113-a691-1b54064001b5",
   "metadata": {},
   "source": [
    "  \n",
    "### Despliegue Continuo (CD)"
   ]
  },
  {
   "cell_type": "markdown",
   "id": "094c9365-f7ae-4ad8-8e53-726dc4df44e0",
   "metadata": {},
   "source": [
    "- **Definición**: El Despliegue Continuo va un paso más allá de la Entrega Continua. En esta práctica, el software se despliega automáticamente en producción después de pasar todas las pruebas, sin intervención manual.\n",
    "\n",
    "- **Objetivos**:\n",
    "  - Automatizar por completo el proceso de liberación, permitiendo que nuevas características y correcciones se entreguen a los usuarios de forma instantánea y continua.\n",
    "\n",
    "- **Características**:\n",
    "  - Requiere un conjunto completo de pruebas automatizadas que aseguran que el software funcionará correctamente en producción.\n",
    "  - Mantiene un alto nivel de confianza en el código que se despliega."
   ]
  },
  {
   "cell_type": "markdown",
   "id": "b935b6bb-e2c7-4e4f-b503-3a95a2242df4",
   "metadata": {},
   "source": [
    "### Beneficios de CI/CD"
   ]
  },
  {
   "cell_type": "markdown",
   "id": "add814b5-3f18-4495-b006-e5307b4fe22b",
   "metadata": {},
   "source": [
    "1. **Mejora de la Calidad del Software**: A través de pruebas automáticas y rutinarias, se puede detectar y solucionar errores más rápidamente.\n",
    "  \n",
    "2. **Aceleración del Desarrollo**: Permite a los desarrolladores concentrarse en implementar nuevas características sin preocuparse demasiado por el riesgo de introducir errores.\n",
    "\n",
    "3. **Reducción de Riesgos**: Al desplazar pequeños incrementos de código en lugar de grandes lanzamientos, se reduce el riesgo de problemas a gran escala.\n",
    "\n",
    "4. **Feedback Rápido**: Permite a los desarrolladores recibir comentarios inmediatos sobre su código y su ejecución en diferentes entornos.\n",
    "\n",
    "5. **Despliegues Más Frecuentes**: Hace que la entrega de nuevas características y correcciones de errores sea más rápida y eficiente."
   ]
  },
  {
   "cell_type": "markdown",
   "id": "ce5e6f53-753e-4529-8fb9-d963fb51f018",
   "metadata": {},
   "source": [
    "### Conclusión"
   ]
  },
  {
   "cell_type": "markdown",
   "id": "5e9826b4-3c0c-4152-a767-795fe14fe7be",
   "metadata": {},
   "source": [
    "CI/CD representa un cambio importante en la cultura de desarrollo de software, promoviendo la colaboración, la mejora continua y la reducción del riesgo asociado con el proceso de despliegue. Las organizaciones que adoptan estas prácticas generalmente experimentan un desarrollo más ágil y eficiente, llevando su software de la concepción a la producción de manera rápida y efectiva. Si deseas más información o ejemplos sobre CI/CD, ¡no dudes en preguntar!"
   ]
  },
  {
   "cell_type": "markdown",
   "id": "05bfc1e5-3950-49f6-b18f-6a0458ad7f76",
   "metadata": {},
   "source": [
    "## Como experto en seguridad explicame como usar pip audit\n",
    "\n",
    "GPT : `pip-audit` es una herramienta muy útil para auditar las dependencias de tu proyecto Python en busca de vulnerabilidades conocida\n",
    "s. A continuación, te guiaré a través de los pasos para instalar y utilizar `pip-audit` para mejorar la seguridad de tus dependencias."
   ]
  },
  {
   "cell_type": "markdown",
   "id": "fe16ec77-7ea9-41be-bd9b-73936c9c8dc4",
   "metadata": {},
   "source": [
    "### Paso 1: Instalación de pip-audit\n",
    "\n",
    "Primero, asegúrate de que tienes `pip` instalado. Puedes utilizar el siguiente comando para instalar `pip-audit`:\n",
    "\n",
    "```bash\n",
    "pip install pip-audit\n",
    "```"
   ]
  },
  {
   "cell_type": "markdown",
   "id": "e51f4d6b-ad76-4c67-a172-19894c98f25e",
   "metadata": {},
   "source": [
    "### Paso 2: Uso de pip-audit\n",
    "\n",
    "Una vez que hayas instalado `pip-audit`, puedes usarlo para auditar las dependencias de tu proyecto. Sigue estos pasos:"
   ]
  },
  {
   "cell_type": "markdown",
   "id": "d9924526-6dc3-4236-967c-d84326507305",
   "metadata": {},
   "source": [
    "#### 1. **Navega a tu proyecto**: Abre tu terminal y navega al directorio de tu proyecto donde se encuentra el archivo `requirements.txt` (o donde hayas instalado tus dependencias).\n",
    "\n",
    "   ```bash\n",
    "   cd /ruta/a/tu/proyecto\n",
    "   ```"
   ]
  },
  {
   "cell_type": "markdown",
   "id": "317cb7a2-b6a2-4632-8834-c7c6187123c9",
   "metadata": {},
   "source": [
    "#### 2. **Ejecuta pip-audit**: Simplemente ejecuta el comando:\n",
    "\n",
    "   ```bash\n",
    "   pip-audit\n",
    "   ```\n",
    "\n",
    "   Por defecto, `pip-audit` escaneará las dependencias instaladas y buscará vulnerabilidades en ellas."
   ]
  },
  {
   "cell_type": "markdown",
   "id": "4300738a-6356-4304-ba4c-28f5417036fa",
   "metadata": {},
   "source": [
    "### Opciones Comunes de pip-audit\n",
    "\n",
    "`pip-audit` también tiene algunas opciones útiles que puedes utilizar:"
   ]
  },
  {
   "cell_type": "markdown",
   "id": "e55d7352-4a6c-496a-b0bb-eabef266c4c8",
   "metadata": {},
   "source": [
    "- **Escaneo de un archivo específico**: Si deseas auditar las dependencias especificadas en un archivo de requisitos específico, puedes usar la opción `-r`:\n",
    "\n",
    "   ```bash\n",
    "   pip-audit -r requirements.txt\n",
    "   ```"
   ]
  },
  {
   "cell_type": "markdown",
   "id": "0d8a2086-f9cd-4473-b721-eca0e08cdf31",
   "metadata": {},
   "source": [
    "- **Formato de salida**: Puedes especificar el formato de salida utilizando la opción `--format`. Los formatos disponibles son `table`, `json` y `text`. Por ejemplo, para obtener la salida en formato JSON:\n",
    "\n",
    "   ```bash\n",
    "   pip-audit --format json\n",
    "   ```"
   ]
  },
  {
   "cell_type": "markdown",
   "id": "62a81bac-36a5-4889-b5d8-7dfcf84d6294",
   "metadata": {},
   "source": [
    "- **Actualizar dependencias automáticamente**: Si deseas recibir recomendaciones sobre cómo actualizar las dependencias vulnerables, puedes usar la opción `--repair`, que sugiere cómo solucionar las vulnerabilidades:\n",
    "\n",
    "   ```bash\n",
    "   pip-audit --repair\n",
    "   ```"
   ]
  },
  {
   "cell_type": "markdown",
   "id": "5e6262c7-04a7-46b2-9f0a-d32ed4a25a2f",
   "metadata": {},
   "source": [
    "### Interpretar el Resultado\n",
    "\n",
    "Cuando ejecutas `pip-audit`, recibirás una lista de las vulnerabilidades encontradas. Para cada vulnerabilidad, recibirás información importante como:\n",
    "\n",
    "- **Dependencia**: El nombre del paquete vulnerable.\n",
    "- **Versión**: La versión de la dependencia que tiene la vulnerabilidad.\n",
    "- **Vulnerabilidad**: Un identificador único para la vulnerabilidad (por ejemplo, CVE) y una descripción de qué problema representa.\n",
    "- **Solución**: Una recomendación o enlace a un recurso donde puedes encontrar información sobre cómo resolver el problema."
   ]
  },
  {
   "cell_type": "markdown",
   "id": "65a2601e-8332-4658-9b48-4f55d85fe5af",
   "metadata": {},
   "source": [
    "### Ejemplo de uso\n",
    "\n",
    "Aquí tienes un ejemplo completo de cómo podría lucir la salida de `pip-audit`:\n",
    "\n",
    "```bash\n",
    "$ pip-audit\n",
    "Package     Version   ID             Severity    Advisory\n",
    "----------- --------- -------------- ----------- ------------------------------------------\n",
    "requests    2.25.1    CVE-2021-22945  High        https://nvd.nist.gov/vuln/detail/CVE-2021-22945\n",
    "flask       1.1.1     CVE-2020-28851  Medium      https://nvd.nist.gov/vuln/detail/CVE-2020-28851\n",
    "```\n",
    "\n",
    "En este caso, se han encontrado vulnerabilidades en el paquete `requests` y `flask`, y se proporcionan enlaces a los detalles de las mismas."
   ]
  },
  {
   "cell_type": "markdown",
   "id": "b6f5e5cb-0124-43c4-afbc-53d30d97bce6",
   "metadata": {},
   "source": [
    "### Conclusión"
   ]
  },
  {
   "cell_type": "markdown",
   "id": "232caf71-4b22-4e57-ae3a-3bff667eff56",
   "metadata": {},
   "source": [
    "`pip-audit` es una herramienta efectiva para asegurar que las dependencias de tu proyecto Python no tengan vulnerabilidades conocidas. \n",
    "Es recomendable realizar auditorías periódicas como parte de tu ciclo de vida de desarrollo para mantener la seguridad de tu aplicación."
   ]
  },
  {
   "cell_type": "code",
   "execution_count": null,
   "id": "6f43707c-2d7d-4953-aaa8-1e7b5017c0d3",
   "metadata": {},
   "outputs": [],
   "source": []
  }
 ],
 "metadata": {
  "kernelspec": {
   "display_name": "Python 3 (ipykernel)",
   "language": "python",
   "name": "python3"
  },
  "language_info": {
   "codemirror_mode": {
    "name": "ipython",
    "version": 3
   },
   "file_extension": ".py",
   "mimetype": "text/x-python",
   "name": "python",
   "nbconvert_exporter": "python",
   "pygments_lexer": "ipython3",
   "version": "3.10.4"
  }
 },
 "nbformat": 4,
 "nbformat_minor": 5
}
