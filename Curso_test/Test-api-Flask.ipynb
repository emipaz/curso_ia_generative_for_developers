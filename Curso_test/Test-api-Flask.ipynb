{
 "cells": [
  {
   "cell_type": "markdown",
   "id": "b41dfbe7-f80b-4167-80cc-f02d418f673b",
   "metadata": {},
   "source": [
    "# Ejercicio Test - flask"
   ]
  },
  {
   "cell_type": "code",
   "execution_count": null,
   "id": "f238104b-74bc-4d2d-ab4f-08a1b0e002d8",
   "metadata": {},
   "outputs": [],
   "source": [
    "## Api muy simple en flask"
   ]
  },
  {
   "cell_type": "code",
   "execution_count": null,
   "id": "cfe49a88-5d30-4c73-9b6d-5a61c31dd07d",
   "metadata": {},
   "outputs": [
    {
     "name": "stdout",
     "output_type": "stream",
     "text": [
      " * Serving Flask app '__main__'\n",
      " * Debug mode: off\n"
     ]
    },
    {
     "name": "stderr",
     "output_type": "stream",
     "text": [
      "WARNING: This is a development server. Do not use it in a production deployment. Use a production WSGI server instead.\n",
      " * Running on all addresses (0.0.0.0)\n",
      " * Running on http://127.0.0.1:5000\n",
      " * Running on http://192.168.0.5:5000\n",
      "Press CTRL+C to quit\n"
     ]
    }
   ],
   "source": [
    "from flask import Flask, jsonify\n",
    "import threading\n",
    "\n",
    "app = Flask(__name__)\n",
    "@app.route('/api/greet/<name>', methods=['GET']) #endpoint\n",
    "def greet(name):\n",
    "    return jsonify(message=f\"Hello, {name}!\") # retorna un json\n",
    "\n",
    "# Para que funcione en Jupyter o Colab, use esta línea en lugar del app.run habitual\n",
    "threading.Thread(target=app.run, kwargs={'host':'0.0.0.0','port':5000, \"debug\": False}).start()\n",
    "\n",
    "# para ejecucion en script\n",
    "#if __name__ == \"__main__\":\n",
    "    #app.run(host=\"127.0.0.1\", port=5000,debug=True)"
   ]
  },
  {
   "cell_type": "markdown",
   "id": "797af2a4-45e2-41c5-b4c5-9d248a9bf650",
   "metadata": {},
   "source": [
    "llamar a la api con curl (se puede llamar desde cmd o terminal linux sin !)"
   ]
  },
  {
   "cell_type": "code",
   "execution_count": 38,
   "id": "f39baafd-38b1-42ee-806a-d517fc26c97c",
   "metadata": {},
   "outputs": [
    {
     "name": "stderr",
     "output_type": "stream",
     "text": [
      "127.0.0.1 - - [07/Apr/2025 19:28:19] \"GET /api/greet/api HTTP/1.1\" 200 -\n"
     ]
    },
    {
     "name": "stdout",
     "output_type": "stream",
     "text": [
      "{\"message\":\"Hello, api!\"}\n"
     ]
    },
    {
     "name": "stderr",
     "output_type": "stream",
     "text": [
      "  % Total    % Received % Xferd  Average Speed   Time    Time     Time  Current\n",
      "                                 Dload  Upload   Total   Spent    Left  Speed\n",
      "\n",
      "  0     0    0     0    0     0      0      0 --:--:-- --:--:-- --:--:--     0\n",
      "100    26  100    26    0     0     72      0 --:--:-- --:--:-- --:--:--    73\n"
     ]
    }
   ],
   "source": [
    "!curl -X GET http://localhost:5000/api/greet/api"
   ]
  },
  {
   "cell_type": "code",
   "execution_count": 39,
   "id": "002fc7c3-e7d8-4ab1-9631-00ced0d4d548",
   "metadata": {},
   "outputs": [],
   "source": [
    "import requests"
   ]
  },
  {
   "cell_type": "code",
   "execution_count": 40,
   "id": "9ac60340-6b68-4f30-91d8-37d10ea27837",
   "metadata": {},
   "outputs": [
    {
     "name": "stderr",
     "output_type": "stream",
     "text": [
      "127.0.0.1 - - [07/Apr/2025 19:28:40] \"GET /api/greet/api HTTP/1.1\" 200 -\n"
     ]
    },
    {
     "data": {
      "text/plain": [
       "{'message': 'Hello, api!'}"
      ]
     },
     "execution_count": 40,
     "metadata": {},
     "output_type": "execute_result"
    }
   ],
   "source": [
    "requests.get(\"http://localhost:5000/api/greet/api\").json()"
   ]
  },
  {
   "cell_type": "code",
   "execution_count": 41,
   "id": "85735565-2acd-48d2-b66b-0cdfa6aab6df",
   "metadata": {},
   "outputs": [
    {
     "name": "stderr",
     "output_type": "stream",
     "text": [
      "127.0.0.1 - - [07/Apr/2025 19:28:59] \"GET /api/greet/ HTTP/1.1\" 404 -\n"
     ]
    }
   ],
   "source": [
    "sin_dato = requests.get(\"http://localhost:5000/api/greet/\")"
   ]
  },
  {
   "cell_type": "code",
   "execution_count": 42,
   "id": "6284ea3e-fee3-4318-ae7a-a881c2080634",
   "metadata": {},
   "outputs": [
    {
     "data": {
      "text/plain": [
       "{'_content': b'<!doctype html>\\n<html lang=en>\\n<title>404 Not Found</title>\\n<h1>Not Found</h1>\\n<p>The requested URL was not found on the server. If you entered the URL manually please check your spelling and try again.</p>\\n',\n",
       " '_content_consumed': True,\n",
       " '_next': None,\n",
       " 'status_code': 404,\n",
       " 'headers': {'Server': 'Werkzeug/3.1.3 Python/3.10.4', 'Date': 'Mon, 07 Apr 2025 22:28:59 GMT', 'Content-Type': 'text/html; charset=utf-8', 'Content-Length': '207', 'Connection': 'close'},\n",
       " 'raw': <urllib3.response.HTTPResponse at 0x182c37bf9d0>,\n",
       " 'url': 'http://localhost:5000/api/greet/',\n",
       " 'encoding': 'utf-8',\n",
       " 'history': [],\n",
       " 'reason': 'NOT FOUND',\n",
       " 'cookies': <RequestsCookieJar[]>,\n",
       " 'elapsed': datetime.timedelta(seconds=2, microseconds=718269),\n",
       " 'request': <PreparedRequest [GET]>,\n",
       " 'connection': <requests.adapters.HTTPAdapter at 0x182c35ed720>}"
      ]
     },
     "execution_count": 42,
     "metadata": {},
     "output_type": "execute_result"
    }
   ],
   "source": [
    "sin_dato.__dict__"
   ]
  },
  {
   "cell_type": "code",
   "execution_count": 43,
   "id": "e6557581-8f14-48bb-9352-5d2b6cd8b964",
   "metadata": {},
   "outputs": [
    {
     "name": "stderr",
     "output_type": "stream",
     "text": [
      "127.0.0.1 - - [07/Apr/2025 19:29:37] \"GET /api/greet/123 HTTP/1.1\" 200 -\n"
     ]
    }
   ],
   "source": [
    "dato_numerico = requests.get(\"http://localhost:5000/api/greet/123\").json()"
   ]
  },
  {
   "cell_type": "code",
   "execution_count": 44,
   "id": "7c462a94-b76e-4c98-9e43-3adfb62fb233",
   "metadata": {},
   "outputs": [
    {
     "data": {
      "text/plain": [
       "{'message': 'Hello, 123!'}"
      ]
     },
     "execution_count": 44,
     "metadata": {},
     "output_type": "execute_result"
    }
   ],
   "source": [
    "dato_numerico"
   ]
  },
  {
   "cell_type": "code",
   "execution_count": null,
   "id": "42fca9d6-2891-4186-b7c0-1bb660e6cbe0",
   "metadata": {},
   "outputs": [],
   "source": [
    "requests.get(\"http://localhost:5000/api/\").__dict__"
   ]
  },
  {
   "cell_type": "markdown",
   "id": "b96dad40-515d-4656-b9a1-7e454684aadf",
   "metadata": {},
   "source": [
    "Como un experto en pruebas de software que está enseñando a una nueva persona a escribir casos de prueba, ¿puedes analizar este código y proporcionar un conjunto de casos de prueba explicando cada uno?\n",
    "\n",
    "```python\n",
    "from flask import Flask, jsonify\n",
    "import threading\n",
    "\n",
    "app = Flask(__name__)\n",
    "@app.route('/api/greet/<name>', methods=['GET']) #endpoint\n",
    "def greet(name):\n",
    "    return jsonify(message=f\"Hello, {name}!\") # retorna un json\n",
    "\n",
    "# Para que funcione en Jupyter o Colab, use esta línea en lugar del app.run habitual\n",
    "threading.Thread(target=app.run, kwargs={'host':'0.0.0.0','port':5000, \"debug\": False}).start()\n",
    "```"
   ]
  },
  {
   "cell_type": "markdown",
   "id": "8c341570-70a5-40ba-8a54-6226dfac0619",
   "metadata": {},
   "source": [
    "¡Claro! Vamos a analizar el código que has proporcionado. Esta es una aplicación web básica usando Flask que tiene una única ruta: `'/api/greet/<name>'`, donde `<name>` es un parámetro de la ruta que se utiliza para personalizar el saludo."
   ]
  },
  {
   "cell_type": "markdown",
   "id": "6fb7b8fd-290f-4f07-8b44-22f7ba213135",
   "metadata": {},
   "source": [
    "### Casos de Prueba Propuestos"
   ]
  },
  {
   "cell_type": "markdown",
   "id": "f1255065-98a1-4802-84ae-81f0c0d25b8c",
   "metadata": {},
   "source": [
    "1. **Caso de Prueba: Saludo Básico con Nombre Válido**\n",
    "   - **Descripción:** Verificar que el endpoint `'/api/greet/<name>'` retorne un saludo correcto para un nombre dado.\n",
    "   - **Input:** `name = \"Alice\"`\n",
    "   - **Expected Output:** Un JSON con `{\"message\": \"Hello, Alice!\"}`.\n",
    "   - **Razonamiento:** Este caso prueba la funcionalidad principal de la aplicación, asegurándose de que el saludo se genere correctamente."
   ]
  },
  {
   "cell_type": "code",
   "execution_count": 45,
   "id": "2010fa47-a357-456b-914c-05cdc521c5cf",
   "metadata": {},
   "outputs": [
    {
     "name": "stderr",
     "output_type": "stream",
     "text": [
      "127.0.0.1 - - [07/Apr/2025 19:30:36] \"GET /api/greet/Alice HTTP/1.1\" 200 -\n"
     ]
    },
    {
     "name": "stdout",
     "output_type": "stream",
     "text": [
      "{\"message\":\"Hello, Alice!\"}\n"
     ]
    },
    {
     "name": "stderr",
     "output_type": "stream",
     "text": [
      "  % Total    % Received % Xferd  Average Speed   Time    Time     Time  Current\n",
      "                                 Dload  Upload   Total   Spent    Left  Speed\n",
      "\n",
      "  0     0    0     0    0     0      0      0 --:--:-- --:--:-- --:--:--     0\n",
      "100    28  100    28    0     0     51      0 --:--:-- --:--:-- --:--:--    52\n"
     ]
    }
   ],
   "source": [
    "!curl -X GET http://localhost:5000/api/greet/Alice"
   ]
  },
  {
   "cell_type": "markdown",
   "id": "ba4c2956-2934-4103-b10b-582027a85bfc",
   "metadata": {},
   "source": [
    "2. **Caso de Prueba: Saludo con Nombre Válido (con Espacios)**\n",
    "   - **Descripción:** Verificar que el endpoint `'/api/greet/<name>'` maneja nombres que incluyen espacios.\n",
    "   - **Input:** `name = \"John Doe\"`\n",
    "   - **Expected Output:** Un JSON con `{\"message\": \"Hello, John Doe!\"}`.\n",
    "   - **Razonamiento:** Es importante comprobar cómo la aplicación maneja los nombres con espacios, que son comunes y deben ser tratados correctamente \n",
    "en las URLs."
   ]
  },
  {
   "cell_type": "code",
   "execution_count": 46,
   "id": "253235f6-3362-4b63-aaa1-bbc7ac5c909f",
   "metadata": {},
   "outputs": [
    {
     "name": "stderr",
     "output_type": "stream",
     "text": [
      "127.0.0.1 - - [07/Apr/2025 19:31:13] \"GET /api/greet/Joe%20Doe HTTP/1.1\" 200 -\n"
     ]
    },
    {
     "name": "stdout",
     "output_type": "stream",
     "text": [
      "{\"message\":\"Hello, Joe Doe!\"}"
     ]
    },
    {
     "name": "stderr",
     "output_type": "stream",
     "text": [
      "  % Total    % Received % Xferd  Average Speed   Time    Time     Time  Current\n",
      "                                 Dload  Upload   Total   Spent    Left  Speed\n",
      "\n",
      "  0     0    0     0    0     0      0      0 --:--:-- --:--:-- --:--:--     0\n",
      "  0     0    0     0    0     0      0      0 --:--:-- --:--:-- --:--:--     0\n",
      "100    30  100    30    0     0     93      0 --:--:-- --:--:-- --:--:--    93\n"
     ]
    },
    {
     "name": "stdout",
     "output_type": "stream",
     "text": [
      "\n"
     ]
    }
   ],
   "source": [
    "!curl -X GET http://localhost:5000/api/greet/Joe%20Doe"
   ]
  },
  {
   "cell_type": "code",
   "execution_count": 47,
   "id": "c1245ced-6113-4107-bf00-97820e7de8fc",
   "metadata": {},
   "outputs": [
    {
     "name": "stderr",
     "output_type": "stream",
     "text": [
      "127.0.0.1 - - [07/Apr/2025 19:31:29] \"GET /api/greet/joe%20doe HTTP/1.1\" 200 -\n"
     ]
    },
    {
     "data": {
      "text/plain": [
       "{'message': 'Hello, joe doe!'}"
      ]
     },
     "execution_count": 47,
     "metadata": {},
     "output_type": "execute_result"
    }
   ],
   "source": [
    "requests.get(\"http://localhost:5000/api/greet/joe doe\").json()"
   ]
  },
  {
   "cell_type": "markdown",
   "id": "febbe938-3567-404e-ad7e-8a4545ae2210",
   "metadata": {},
   "source": [
    "3. **Caso de Prueba: Saludo con Nombre Válido (caracteres especiales)**\n",
    "   - **Descripción:** Verificar que el endpoint maneja caracteres especiales en el nombre.\n",
    "   - **Input:** `name = \"Jürgen\"`\n",
    "   - **Expected Output:** Un JSON con `{\"message\": \"Hello, Jürgen!\"}`.\n",
    "   - **Razonamiento:** Este caso prueba que la aplicación puede manejar nombres con caracteres especiales que podrían no ser comunes en todos los sist\n",
    "emas."
   ]
  },
  {
   "cell_type": "code",
   "execution_count": 48,
   "id": "9439dc7c-f646-4be7-bc77-d3bd145854dc",
   "metadata": {},
   "outputs": [
    {
     "name": "stderr",
     "output_type": "stream",
     "text": [
      "127.0.0.1 - - [07/Apr/2025 19:31:40] \"GET /api/greet/Jürgen HTTP/1.1\" 200 -\n"
     ]
    },
    {
     "data": {
      "text/plain": [
       "{'message': 'Hello, Jürgen!'}"
      ]
     },
     "execution_count": 48,
     "metadata": {},
     "output_type": "execute_result"
    }
   ],
   "source": [
    "requests.get(\"http://localhost:5000/api/greet/Jürgen\").json()"
   ]
  },
  {
   "cell_type": "markdown",
   "id": "5da55a3f-ae49-4b59-8216-14f008a031c6",
   "metadata": {},
   "source": [
    "4. **Caso de Prueba: Saludo con Nombre Vacío**\n",
    "   - **Descripción:** Verificar la respuesta cuando se proporciona un nombre vacío.\n",
    "   - **Input:** `name = \"\"`\n",
    "   - **Expected Output:** Un JSON con `{\"message\": \"Hello, !\"}` o un error (dependiendo de cómo se desee manejar este caso).\n",
    "   - **Razonamiento:** Es importante verificar cómo la aplicación maneja la entrada vacía, lo que puede ser un caso inesperado."
   ]
  },
  {
   "cell_type": "code",
   "execution_count": 49,
   "id": "b4dc0019-bec8-470f-a085-bd5c1a505592",
   "metadata": {},
   "outputs": [
    {
     "name": "stderr",
     "output_type": "stream",
     "text": [
      "127.0.0.1 - - [07/Apr/2025 19:31:56] \"GET /api/greet/ HTTP/1.1\" 404 -\n"
     ]
    },
    {
     "data": {
      "text/plain": [
       "'<!doctype html>\\n<html lang=en>\\n<title>404 Not Found</title>\\n<h1>Not Found</h1>\\n<p>The requested URL was not found on the server. If you entered the URL manually please check your spelling and try again.</p>\\n'"
      ]
     },
     "execution_count": 49,
     "metadata": {},
     "output_type": "execute_result"
    }
   ],
   "source": [
    "nombre = \"\"\n",
    "requests.get(\"http://localhost:5000/api/greet/\").text"
   ]
  },
  {
   "cell_type": "markdown",
   "id": "4c8d7334-5b17-42b9-bfde-f207a9922944",
   "metadata": {},
   "source": [
    "5. **Caso de Prueba: Saludo con Nombre Nulo**\n",
    "   - **Descripción:** Verificar la respuesta cuando se proporciona un parámetro que no es un nombre (e.g., ser un `None`).\n",
    "   - **Input:** `name = None`\n",
    "   - **Expected Output:** Esto podría ser al menos un error 404 (no encontrado) o un JSON similar a `{\"message\": \"Hello, None!\"}`.\n",
    "   - **Razonamiento:** Este caso es esencial para verificar la robustez del endpoint contra entradas no válidas."
   ]
  },
  {
   "cell_type": "code",
   "execution_count": 50,
   "id": "66cdaf11-1ee1-4fd9-a4ef-212cb09800a4",
   "metadata": {},
   "outputs": [
    {
     "name": "stderr",
     "output_type": "stream",
     "text": [
      "127.0.0.1 - - [07/Apr/2025 19:32:25] \"GET /api/greet/None HTTP/1.1\" 200 -\n"
     ]
    },
    {
     "data": {
      "text/plain": [
       "{'message': 'Hello, None!'}"
      ]
     },
     "execution_count": 50,
     "metadata": {},
     "output_type": "execute_result"
    }
   ],
   "source": [
    "requests.get(\"http://localhost:5000/api/greet/None\").json()"
   ]
  },
  {
   "cell_type": "markdown",
   "id": "0a1c7930-76e3-477e-a421-3e4e4e423639",
   "metadata": {},
   "source": [
    "6. **Caso de Prueba: Saludo con Parámetros de URL Malformados**\n",
    "   - **Descripción:** Probar que la aplicación responde adecuadamente cuando el parámetro `name` está mal formado (por ejemplo, caracteres no permitid\n",
    "os en URLs).\n",
    "   - **Input:** `name = \"John%20Doe<>\"`\n",
    "   - **Expected Output:** Esto debería resultar en un error 400 de solicitud incorrecta o un manejo específico, dependiendo de las configuraciones de \n",
    "Flask sobre cómo tratar esos caracteres.\n",
    "   - **Razonamiento:** Verifica que la aplicación maneje adecuadamente errores en la entrada del usuario."
   ]
  },
  {
   "cell_type": "code",
   "execution_count": 51,
   "id": "36e9e193-ae38-4706-a541-6e26c0ef7c6d",
   "metadata": {},
   "outputs": [
    {
     "name": "stderr",
     "output_type": "stream",
     "text": [
      "127.0.0.1 - - [07/Apr/2025 19:32:37] \"GET /api/greet/John%20Doe<> HTTP/1.1\" 200 -\n"
     ]
    },
    {
     "data": {
      "text/plain": [
       "{'message': 'Hello, John Doe<>!'}"
      ]
     },
     "execution_count": 51,
     "metadata": {},
     "output_type": "execute_result"
    }
   ],
   "source": [
    "requests.get(\"http://localhost:5000/api/greet/John Doe<>\").json()"
   ]
  },
  {
   "cell_type": "code",
   "execution_count": 52,
   "id": "1a17fdb2-5a32-42c6-b2e5-ab4c5d4aa0d6",
   "metadata": {},
   "outputs": [
    {
     "name": "stderr",
     "output_type": "stream",
     "text": [
      "127.0.0.1 - - [07/Apr/2025 19:32:56] \"GET /api/greet/Joe%20Doe<script>alert</script> HTTP/1.1\" 404 -\n",
      "  % Total    % Received % Xferd  Average Speed   Time    Time     Time  Current\n",
      "                                 Dload  Upload   Total   Spent    Left  Speed\n",
      "\n",
      "  0     0    0     0    0     0      0      0 --:--:-- --:--:-- --:--:--     0\n",
      "100   207  100   207    0     0    892      0 --:--:-- --:--:-- --:--:--   896\n"
     ]
    },
    {
     "name": "stdout",
     "output_type": "stream",
     "text": [
      "<!doctype html>\n",
      "<html lang=en>\n",
      "<title>404 Not Found</title>\n",
      "<h1>Not Found</h1>\n",
      "<p>The requested URL was not found on the server. If you entered the URL manually please check your spelling and try again.</p>\n"
     ]
    }
   ],
   "source": [
    "!curl -X GET \"http://localhost:5000/api/greet/Joe%20Doe<script>alert</script>\""
   ]
  },
  {
   "cell_type": "markdown",
   "id": "d2ce8319-c714-4771-a8ce-c2fd937f92ae",
   "metadata": {},
   "source": [
    "7. **Caso de Prueba: Método HTTP Incorrecto**\n",
    "   - **Descripción:** Verificar la respuesta cuando se usa un método HTTP diferente (por ejemplo, POST) en lugar del método GET.\n",
    "   - **Input:** `POST /api/greet/Alice`\n",
    "   - **Expected Output:** Un error 405 (Método No Permitido).\n",
    "   - **Razonamiento:** Es importante asegurarse de que la API solo responda a los métodos HTTP que tiene definidos."
   ]
  },
  {
   "cell_type": "code",
   "execution_count": 53,
   "id": "d40424f4-e7b6-4975-9160-41db41f6fe82",
   "metadata": {},
   "outputs": [
    {
     "name": "stderr",
     "output_type": "stream",
     "text": [
      "127.0.0.1 - - [07/Apr/2025 19:33:31] \"POST /api/greet/Alice HTTP/1.1\" 405 -\n"
     ]
    },
    {
     "data": {
      "text/plain": [
       "{'_content': b'<!doctype html>\\n<html lang=en>\\n<title>405 Method Not Allowed</title>\\n<h1>Method Not Allowed</h1>\\n<p>The method is not allowed for the requested URL.</p>\\n',\n",
       " '_content_consumed': True,\n",
       " '_next': None,\n",
       " 'status_code': 405,\n",
       " 'headers': {'Server': 'Werkzeug/3.1.3 Python/3.10.4', 'Date': 'Mon, 07 Apr 2025 22:33:31 GMT', 'Content-Type': 'text/html; charset=utf-8', 'Allow': 'GET, OPTIONS, HEAD', 'Content-Length': '153', 'Connection': 'close'},\n",
       " 'raw': <urllib3.response.HTTPResponse at 0x182c37e4580>,\n",
       " 'url': 'http://localhost:5000/api/greet/Alice',\n",
       " 'encoding': 'utf-8',\n",
       " 'history': [],\n",
       " 'reason': 'METHOD NOT ALLOWED',\n",
       " 'cookies': <RequestsCookieJar[]>,\n",
       " 'elapsed': datetime.timedelta(seconds=2, microseconds=515648),\n",
       " 'request': <PreparedRequest [POST]>,\n",
       " 'connection': <requests.adapters.HTTPAdapter at 0x182c37bf100>}"
      ]
     },
     "execution_count": 53,
     "metadata": {},
     "output_type": "execute_result"
    }
   ],
   "source": [
    "requests.post(\"http://localhost:5000/api/greet/Alice\").__dict__"
   ]
  },
  {
   "cell_type": "markdown",
   "id": "38eebafd-b9c5-4bc8-8de6-061f5a5c3906",
   "metadata": {},
   "source": [
    "8. **Caso de Prueba 7: Comprobación de formato de respuesta**\n",
    "   - **Descripción:** Verificar que la respuesta sea un JSON.\n",
    "   - **Entrada:** `/api/greet/Bob`\n",
    "   - **Salida Esperada:** El encabezado `Content-Type` debe ser `application/json` y el cuerpo de la respuesta debe ser un JSON\n",
    " válido.\n",
    "   - **Justificación:** Asegura que el servicio está entregando su respuesta en el formato adecuado."
   ]
  },
  {
   "cell_type": "markdown",
   "id": "8e77568a-8239-4426-abe3-8be570886b7d",
   "metadata": {},
   "source": [
    "### Nota sobre las Pruebas"
   ]
  },
  {
   "cell_type": "markdown",
   "id": "c54fe4a8-032a-4b04-adaa-376c09c7fc35",
   "metadata": {},
   "source": [
    "Es recomendable utilizar una herramienta de pruebas como `unittest`, `pytest`, o `Flask-Testing` para escribir pruebas automatizadas. Esto permite validar rápidamente que la aplicación funcione correctamente tras cualquier modificación en el código. Además, no olvides revisar los códigos de estado de la respuesta y el contenido del JSON retornado para cada uno de los casos de prueba."
   ]
  },
  {
   "cell_type": "code",
   "execution_count": null,
   "id": "7b843ed9-0057-46e9-b224-ee2be4664abe",
   "metadata": {},
   "outputs": [],
   "source": [
    "Ahora como experto en tests , generame los tests unitarios para cada prueba"
   ]
  },
  {
   "cell_type": "markdown",
   "id": "181a5964-db72-4e33-a83f-dc96314f6838",
   "metadata": {},
   "source": [
    "A continuación, proporcionaré un conjunto de pruebas unitarias que se pueden implementar utilizando un marco de pruebas como `unittest` en Python. Estas pruebas verificarán el funcionamiento de la función `greet` directamente, sin necesidad de un servidor Flask en ejecución."
   ]
  },
  {
   "cell_type": "markdown",
   "id": "d46d05c2-a75b-4f30-911f-5707cd0c327b",
   "metadata": {},
   "source": [
    "### Código de Pruebas Unitarias\n",
    "\n",
    "1. Primero, asegurémonos de que la aplicación esté estructurada de manera que permita probar la función. A continuación, se proporciona el código de la función `greet` junto con las pruebas unitarias en un solo archivo.\n",
    "\n",
    "```python\n",
    "from flask import Flask, jsonify\n",
    "\n",
    "app = Flask(__name__)\n",
    "\n",
    "@app.route('/api/greet/<name>', methods=['GET'])\n",
    "def greet(name):\n",
    "    return jsonify(message=f\"Hello, {name}!\")"
   ]
  },
  {
   "cell_type": "code",
   "execution_count": 54,
   "id": "6e6bdd7e-34b3-4ac5-a91d-dc738fb66217",
   "metadata": {},
   "outputs": [
    {
     "name": "stderr",
     "output_type": "stream",
     "text": [
      "test_greet_empty_name (__main__.TestGreetFunction)\n",
      "Verifica el comportamiento del servicio cuando se proporciona un nombre vacío. ... ok\n",
      "test_greet_invalid_method (__main__.TestGreetFunction)\n",
      "Verifica que el método no permitido para la solicitud arroje un error (esto no se prueba aquí porque no hay lógica d ... ok\n",
      "test_greet_long_name (__main__.TestGreetFunction)\n",
      "Verifica la respuesta del servicio al proporcionar un nombre extremadamente largo. ... ok\n",
      "test_greet_name_with_spaces (__main__.TestGreetFunction)\n",
      "Verifica que el servicio maneje correctamente un nombre con espacios. ... ok\n",
      "test_greet_special_characters (__main__.TestGreetFunction)\n",
      "Verifica que el servicio maneje correctamente nombres que contengan caracteres especiales. ... ok\n",
      "test_greet_valid_name (__main__.TestGreetFunction)\n",
      "Verifica que el saludo sea correcto con un nombre válido. ... ok\n",
      "\n",
      "----------------------------------------------------------------------\n",
      "Ran 6 tests in 0.275s\n",
      "\n",
      "OK\n"
     ]
    }
   ],
   "source": [
    "import unittest\n",
    "class TestGreetFunction(unittest.TestCase):\n",
    "\n",
    "    def test_greet_valid_name(self):\n",
    "        \"\"\"Verifica que el saludo sea correcto con un nombre válido.\"\"\"\n",
    "        with app.test_request_context('/api/greet/Alice'):\n",
    "            response = greet('Alice')\n",
    "            self.assertEqual(response.json, {\"message\": \"Hello, Alice!\"})\n",
    "            self.assertEqual(response.status_code, 200)\n",
    "\n",
    "    def test_greet_name_with_spaces(self):\n",
    "        \"\"\"Verifica que el servicio maneje correctamente un nombre con espacios.\"\"\"\n",
    "        with app.test_request_context('/api/greet/John Doe'):\n",
    "            response = greet('John Doe')\n",
    "            self.assertEqual(response.json, {\"message\": \"Hello, John Doe!\"})\n",
    "            self.assertEqual(response.status_code, 200)\n",
    "\n",
    "    def test_greet_special_characters(self):\n",
    "        \"\"\"Verifica que el servicio maneje correctamente nombres que contengan caracteres especiales.\"\"\"\n",
    "        with app.test_request_context('/api/greet/Jane-Doe!@#'):\n",
    "            response = greet('Jane-Doe!@#')\n",
    "            self.assertEqual(response.json, {\"message\": \"Hello, Jane-Doe!@#!\"})\n",
    "            self.assertEqual(response.status_code, 200)\n",
    "\n",
    "    def test_greet_empty_name(self):\n",
    "        \"\"\"Verifica el comportamiento del servicio cuando se proporciona un nombre vacío.\"\"\"\n",
    "        with app.test_request_context('/api/greet/'):\n",
    "            response = greet('')\n",
    "            self.assertEqual(response.json, {\"message\": \"Hello, !\"})\n",
    "            self.assertEqual(response.status_code, 200)\n",
    "\n",
    "    def test_greet_long_name(self):\n",
    "        \"\"\"Verifica la respuesta del servicio al proporcionar un nombre extremadamente largo.\"\"\"\n",
    "        long_name = \"A\" * 1000  # Nombre de 1000 caracteres\n",
    "        with app.test_request_context(f'/api/greet/{long_name}'):\n",
    "            response = greet(long_name)\n",
    "            self.assertEqual(response.json, {\"message\": f\"Hello, {long_name}!\"})\n",
    "            self.assertEqual(response.status_code, 200)\n",
    "\n",
    "    def test_greet_invalid_method(self):\n",
    "        \"\"\"Verifica que el método no permitido para la solicitud arroje un error (esto no se prueba aquí porque no hay lógica d\n",
    "e Flask involucrada).\"\"\"\n",
    "        \n",
    "# Las pruebas unitarias aquí solo verifican la lógica de 'greet', iniciar el endpoint no es parte de las pruebas unitarias directas.\n",
    "\n",
    "if __name__ == '__main__':\n",
    "    unittest.main(argv=[''], verbosity=2, exit=False)"
   ]
  },
  {
   "cell_type": "markdown",
   "id": "1acbc25d-49ee-40f7-9b71-796612e29e0a",
   "metadata": {},
   "source": [
    "### Explicación de las Pruebas Unitarias"
   ]
  },
  {
   "cell_type": "markdown",
   "id": "5f19a93e-5913-4e01-8f9c-dd1e1719e49c",
   "metadata": {},
   "source": [
    "1. **test_greet_valid_name:** Verifica que la función `greet` devuelva el saludo correcto al recibir un nombre válido.\n",
    "2. **test_greet_name_with_spaces:** Prueba que la función maneje nombres que contienen espacios.\n",
    "3. **test_greet_special_characters:** Asegura que la función maneje correctamente nombres con caracteres especiales.\n",
    "4. **test_greet_empty_name:** Comprueba el comportamiento de la función cuando el nombre está vacío.\n",
    "5. **test_greet_long_name:** Verifica la funcionalidad con un nombre que excede el tamaño común (1000 caracteres).\n",
    "6. **test_greet_invalid_method:** Este caso es un comentario, ya que no se puede probar un método HTTP en sí con `unittest`. Es\n",
    "te aspecto generalmente se prueba a nivel de integración."
   ]
  },
  {
   "cell_type": "markdown",
   "id": "71f46ac6-b898-4e8b-94a3-433303f207ed",
   "metadata": {},
   "source": [
    "### Cómo Ejecutar las Pruebas\n",
    "\n",
    "Para ejecutar estas pruebas unitarias, guarda el código en un archivo llamado `test_app.py` y luego, desde la terminal, ejecuta\n",
    ":\n",
    "\n",
    "```bash\n",
    "python -m unittest test_app.py\n",
    "```\n",
    "\n",
    "Esto ejecutará todas las pruebas en el archivo y mostrará los resultados en la consola."
   ]
  },
  {
   "cell_type": "markdown",
   "id": "f3dbeca9-d520-49a1-b354-2ece44823207",
   "metadata": {},
   "source": [
    "### Notas"
   ]
  },
  {
   "cell_type": "markdown",
   "id": "c301524e-dc01-43b0-a3a9-6ef000605752",
   "metadata": {},
   "source": [
    "- Estas pruebas son unitarias porque se centran en probar cada llamada a la función `greet` de forma aislada.\n",
    "- No tocan lógica de enrutamiento o de servidor de Flask, lo que las hace más simples y rápidas de ejecutar."
   ]
  }
 ],
 "metadata": {
  "kernelspec": {
   "display_name": "py_global",
   "language": "python",
   "name": "py_global"
  },
  "language_info": {
   "codemirror_mode": {
    "name": "ipython",
    "version": 3
   },
   "file_extension": ".py",
   "mimetype": "text/x-python",
   "name": "python",
   "nbconvert_exporter": "python",
   "pygments_lexer": "ipython3",
   "version": "3.10.4"
  }
 },
 "nbformat": 4,
 "nbformat_minor": 5
}
