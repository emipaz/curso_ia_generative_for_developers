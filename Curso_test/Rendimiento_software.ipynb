{
 "cells": [
  {
   "cell_type": "markdown",
   "metadata": {},
   "source": [
    " ¿Cómo puedo medir cuánto tiempo lleva llamar a la función ingenua suma_de_primos en Python?\n",
    "\n",
    " ```python\n",
    "def is_prime(n):\n",
    "    if n <= 1:\n",
    "        return False\n",
    "    for i in range(2, int(n**(1/2))+1):\n",
    "        if n % i == 0:\n",
    "            return False\n",
    "    return True\n",
    "```\n"
   ]
  },
  {
   "cell_type": "markdown",
   "metadata": {},
   "source": [
    "Para medir el tiempo que lleva llamar a una función en Python, puedes usar el módulo `time`. A continuación, te muestro cómo podrías implementar esto para medir el tiempo que toma la función `suma_de_primos` (que asumo que es una función que suma números primos en un rango determinado o similar). Para demostrar cómo hacer esto, primero definamos la función `suma_de_primos` de manera sencilla.\n",
    "\n",
    "Aquí tienes un ejemplo completo:"
   ]
  },
  {
   "cell_type": "code",
   "execution_count": null,
   "metadata": {},
   "outputs": [],
   "source": [
    "import time\n",
    "\n",
    "def is_prime(n):\n",
    "    if n <= 1:\n",
    "        return False\n",
    "    for i in range(2, int(n**(1/2))+1):\n",
    "        if n % i == 0:\n",
    "            return False\n",
    "    return True\n",
    "\n",
    "def suma_de_primos(limit):\n",
    "    suma = 0\n",
    "    for num in range(2, limit):\n",
    "        if is_prime(num):\n",
    "            suma += num\n",
    "    return suma"
   ]
  },
  {
   "cell_type": "code",
   "execution_count": null,
   "metadata": {},
   "outputs": [],
   "source": [
    "# Medir el tiempo de ejecución de la función suma_de_primos\n",
    "limit = 10000  # puedes ajustar el límite que desees\n",
    "start_time = time.time()  # marca el tiempo de inicio\n",
    "resultado = suma_de_primos(limit)  # llama a la función\n",
    "end_time = time.time()  # marca el tiempo al finalizar\n",
    "\n",
    "# Calcula el tiempo transcurrido\n",
    "elapsed_time = end_time - start_time\n",
    "print(f\"La suma de primos hasta {limit} es {resultado} y tomó {elapsed_time:.6f} segundos.\")"
   ]
  },
  {
   "cell_type": "markdown",
   "metadata": {},
   "source": [
    "## timeit"
   ]
  },
  {
   "cell_type": "markdown",
   "metadata": {},
   "source": [
    "El módulo `timeit` en Python está diseñado específicamente para medir el tiempo de ejecución de pequeñas porciones de código de manera más precisa y concisa que simplemente usar `time`. Aquí tienes algunas ventajas del uso de `timeit`:"
   ]
  },
  {
   "cell_type": "markdown",
   "metadata": {},
   "source": [
    "### Ventajas de `timeit`"
   ]
  },
  {
   "cell_type": "markdown",
   "metadata": {},
   "source": [
    "1. **Precisión**: \n",
    "   - `timeit` ejecuta el código varias veces y calcula el tiempo promedio, lo que ayuda a mitigar las variaciones debidas a la carga del sistema o a otros factores externos que pueden influir en la medición de tiempo de ejecución en una sola prueba.\n",
    "2. **Automatización de ejecución repetida**:\n",
    "   - Puedes especificar el número de veces que se debe ejecutar el código para una medición más confiable. `timeit` se encarga de repetir la ejecución sin necesidad de escribir bucles manualmente.\n",
    "3. **Manejo simplificado de configuración**:\n",
    "   - Puedes definir \"setup\" para preparar el entorno de prueba una sola vez. Esto es útil si necesitas importar módulos, inicializar variables, entre otras cosas.\n",
    "4. **Eliminación de ruido**:\n",
    "   - El módulo automatiza la eliminación de errores comunes en el tiempo de ejecución, como el tiempo que puede tomar la primera ejecución (debido a la carga inicial o la compilación de código).\n",
    "5. **Informe de tiempo fácil de interpretar**:\n",
    "   - `timeit` proporciona un formato de salida que facilita la interpretación y comparación de los resultados de distintas ejecuciones.\n",
    "6. **Configuración flexible**:\n",
    "   - Permite personalizar el número de repeticiones y el número de veces que se ejecuta el código en cada repetición, lo que brinda control sobre la precisión de la medición."
   ]
  },
  {
   "cell_type": "markdown",
   "metadata": {},
   "source": [
    "### Uso básico de `timeit`"
   ]
  },
  {
   "cell_type": "markdown",
   "metadata": {},
   "source": [
    "Aquí tienes un ejemplo de cómo usar `timeit` para medir el tiempo de ejecución de la función `suma_de_primos`:"
   ]
  },
  {
   "cell_type": "markdown",
   "metadata": {},
   "source": [
    "desde una celda de jupyter con `%%timeit`"
   ]
  },
  {
   "cell_type": "code",
   "execution_count": 3,
   "metadata": {},
   "outputs": [
    {
     "name": "stdout",
     "output_type": "stream",
     "text": [
      "454396537\n",
      "454396537\n",
      "454396537\n",
      "454396537\n",
      "454396537\n",
      "454396537\n",
      "454396537\n",
      "454396537\n",
      "991 ms ± 327 ms per loop (mean ± std. dev. of 7 runs, 1 loop each)\n"
     ]
    }
   ],
   "source": [
    "%%timeit\n",
    "print(suma_de_primos(100000))"
   ]
  },
  {
   "cell_type": "code",
   "execution_count": 4,
   "metadata": {},
   "outputs": [],
   "source": [
    "import timeit\n",
    "# Medir el tiempo de ejecución usando timeit\n",
    "execution_time = timeit.timeit('suma_de_primos(100000)', globals=globals(), number=7)"
   ]
  },
  {
   "cell_type": "code",
   "execution_count": 5,
   "metadata": {},
   "outputs": [
    {
     "data": {
      "text/plain": [
       "9.050937199994223"
      ]
     },
     "execution_count": 5,
     "metadata": {},
     "output_type": "execute_result"
    }
   ],
   "source": [
    "execution_time"
   ]
  },
  {
   "cell_type": "markdown",
   "metadata": {},
   "source": [
    "> Aunque el uso de `time` es completamente válido para mediciones simples, `timeit` proporciona una serie de ventajas que lo hacen más adecuado para análisis de rendimiento en Python, especialmente cuando deseas obtener mediciones más precisas y automáticas en segmentos de código que requieren optimización."
   ]
  },
  {
   "cell_type": "code",
   "execution_count": 6,
   "metadata": {
    "executionInfo": {
     "elapsed": 188,
     "status": "ok",
     "timestamp": 1717883839717,
     "user": {
      "displayName": "Laurence Moroney",
      "userId": "17858265307580721507"
     },
     "user_tz": 420
    },
    "id": "62kqP_1Gylfo"
   },
   "outputs": [],
   "source": [
    "import time\n",
    "import timeit\n",
    "import cProfile\n",
    "def is_prime(n):\n",
    "    if n <= 1:\n",
    "        return False\n",
    "    for i in range(2, int(n**(1/2))+1):\n",
    "        if n % i == 0:\n",
    "            return False\n",
    "    return True\n",
    "\n",
    "def sum_of_primes_naive(numbers):\n",
    "    total = 0\n",
    "    for number in numbers:\n",
    "        if is_prime(number):\n",
    "            total += number\n",
    "    return total\n"
   ]
  },
  {
   "cell_type": "code",
   "execution_count": 7,
   "metadata": {
    "colab": {
     "base_uri": "https://localhost:8080/"
    },
    "executionInfo": {
     "elapsed": 41199,
     "status": "ok",
     "timestamp": 1717884269856,
     "user": {
      "displayName": "Laurence Moroney",
      "userId": "17858265307580721507"
     },
     "user_tz": 420
    },
    "id": "iMLK38E_1oxU",
    "outputId": "b803f404-401a-4488-faf2-9f6160ef64d4"
   },
   "outputs": [
    {
     "name": "stdout",
     "output_type": "stream",
     "text": [
      "579 ms ± 203 ms per loop (mean ± std. dev. of 7 runs, 1 loop each)\n"
     ]
    }
   ],
   "source": [
    "%%timeit\n",
    "numbers = list(range(1, 100000))\n",
    "sum_of_primes_naive(numbers)"
   ]
  },
  {
   "cell_type": "code",
   "execution_count": 11,
   "metadata": {},
   "outputs": [],
   "source": [
    "numbers = list(range(1, 100000))"
   ]
  },
  {
   "cell_type": "code",
   "execution_count": 12,
   "metadata": {
    "colab": {
     "base_uri": "https://localhost:8080/"
    },
    "executionInfo": {
     "elapsed": 40231,
     "status": "ok",
     "timestamp": 1717884310085,
     "user": {
      "displayName": "Laurence Moroney",
      "userId": "17858265307580721507"
     },
     "user_tz": 420
    },
    "id": "8gRZnb8G4P7O",
    "outputId": "a07f24d3-6576-4dd1-b8d8-50759ba48a6e"
   },
   "outputs": [
    {
     "name": "stdout",
     "output_type": "stream",
     "text": [
      "Execution time: 1.8221841000195127 seconds\n"
     ]
    }
   ],
   "source": [
    "# Mide el tiempo usando timeit\n",
    "execution_time = timeit.timeit('sum_of_primes_naive(numbers)', globals=globals(), number=1)\n",
    "print(f\"Execution time: {execution_time} seconds\")"
   ]
  },
  {
   "cell_type": "code",
   "execution_count": 13,
   "metadata": {
    "colab": {
     "base_uri": "https://localhost:8080/"
    },
    "executionInfo": {
     "elapsed": 11051,
     "status": "ok",
     "timestamp": 1717884017573,
     "user": {
      "displayName": "Laurence Moroney",
      "userId": "17858265307580721507"
     },
     "user_tz": 420
    },
    "id": "GTcItCtD0u3y",
    "outputId": "c4cb77c8-3ba8-4707-f944-f9ac21f8699c"
   },
   "outputs": [
    {
     "name": "stdout",
     "output_type": "stream",
     "text": [
      "Execution time for sum_of_primes: 2.615858900011517 seconds\n"
     ]
    }
   ],
   "source": [
    "get_user_time = timeit.timeit(lambda: sum_of_primes_naive(numbers), number=1)\n",
    "print(f\"Execution time for sum_of_primes: {get_user_time} seconds\")"
   ]
  },
  {
   "cell_type": "markdown",
   "metadata": {},
   "source": [
    "## cProfile"
   ]
  },
  {
   "cell_type": "markdown",
   "metadata": {},
   "source": [
    "`cProfile` es un módulo de Python que se utiliza para el perfilado de código, lo que significa que ayuda a medir el rendimiento de programas de Python. A continuación, te explicaré cómo y por qué deberías usar `cProfile`."
   ]
  },
  {
   "cell_type": "markdown",
   "metadata": {},
   "source": [
    "### ¿Qué es `cProfile`?"
   ]
  },
  {
   "cell_type": "markdown",
   "metadata": {},
   "source": [
    "`cProfile` es un perfilador de alto rendimiento para programas de Python. Proporciona información sobre cuántas veces se llamó a cada función y cuánto tiempo pasó el programa ejecutando cada una de ellas. Esto te permite identificar cuellos de botella en tu código y áreas que pueden necesitar optimización."
   ]
  },
  {
   "cell_type": "markdown",
   "metadata": {},
   "source": [
    "### ¿Por qué usar `cProfile`?"
   ]
  },
  {
   "cell_type": "markdown",
   "metadata": {},
   "source": [
    "1. **Identificar cuellos de botella**: Al perfilar tu aplicación, puedes descubrir funciones que tardan mucho tiempo en ejecutarse. Esto te permite enfocarte en las secciones del código que realmente necesitan ser optimizadas.\n",
    "2. **Optimización dirigida**: En lugar de intentar optimizar todo el código a ciegas, `cProfile` te ayuda a concentrar tus esfuerzos en las partes del código que tienen un mayor impacto en el rendimiento.\n",
    "3. **Toma de decisiones fundamentadas**: Los datos que obtienes de `cProfile` son cuantificables y te permiten tomar decisiones informadas sobre cuándo y cómo optimizar tu código.\n",
    "4. **Mejorar la experiencia del usuario**: Un código más rápido y eficiente contribuye a una mejor experiencia general para los usuarios de tu aplicación."
   ]
  },
  {
   "cell_type": "markdown",
   "metadata": {},
   "source": [
    "### ¿Cómo usar `cProfile`?"
   ]
  },
  {
   "cell_type": "markdown",
   "metadata": {},
   "source": [
    "Usar `cProfile` es bastante sencillo. Aquí tienes pasos básicos junto con ejemplos:"
   ]
  },
  {
   "cell_type": "markdown",
   "metadata": {},
   "source": [
    "#### 1. Perfilado de un script desde la línea de comandos"
   ]
  },
  {
   "cell_type": "markdown",
   "metadata": {},
   "source": [
    "Puedes usar `cProfile` directamente desde la línea de comandos para perfilar un script de Python como sigue:\n",
    "\n",
    "```bash\n",
    "python -m cProfile myscript.py\n",
    "```"
   ]
  },
  {
   "cell_type": "markdown",
   "metadata": {},
   "source": [
    "#### 2. Uso de `cProfile` en código"
   ]
  },
  {
   "cell_type": "markdown",
   "metadata": {},
   "source": [
    "También puedes usar `cProfile` dentro de tu código. Aquí hay un ejemplo simple:"
   ]
  },
  {
   "cell_type": "markdown",
   "metadata": {},
   "source": [
    "```python\n",
    "import cProfile\n",
    "\n",
    "def func():\n",
    "    total = 0\n",
    "    for i in range(10000):\n",
    "        total += i\n",
    "    return total\n",
    "\n",
    "# Iniciar el perfilador\n",
    "cProfile.run('func()')\n",
    "```"
   ]
  },
  {
   "cell_type": "markdown",
   "metadata": {},
   "source": [
    "#### 3. Guardar el resultado en un archivo"
   ]
  },
  {
   "cell_type": "markdown",
   "metadata": {},
   "source": [
    "Si quieres guardar los datos de perfilado en un archivo para un análisis posterior, puedes hacerlo de la siguiente manera:\n",
    "```python\n",
    "import cProfile\n",
    "\n",
    "def func():\n",
    "    total = 0\n",
    "    for i in range(10000):\n",
    "        total += i\n",
    "    return total\n",
    "\n",
    "# Guardar el perfilado en un archivo\n",
    "cProfile.run('func()', 'profiling_stats')\n",
    "\n",
    "# Luego puedes usar pstats para analizar el archivo\n",
    "import pstats\n",
    "p = pstats.Stats('profiling_stats')\n",
    "p.sort_stats('cumulative').print_stats(10)  # Ordenar por tiempo acumulado\n",
    "```"
   ]
  },
  {
   "cell_type": "markdown",
   "metadata": {},
   "source": [
    "### Análisis de resultados"
   ]
  },
  {
   "cell_type": "markdown",
   "metadata": {},
   "source": [
    "Los resultados del perfilado proporcionan varias métricas valiosas:\n",
    "\n",
    "- **tottime**: Tiempo total de la función sin contar la llamada a funciones secundarias.\n",
    "- **percall**: Tiempo promedio por llamada.\n",
    "- **cumtime**: Tiempo acumulado incluyendo subfunciones.\n",
    "- **calls**: Número total de llamadas a la función."
   ]
  },
  {
   "cell_type": "markdown",
   "metadata": {},
   "source": [
    "### Conclusión"
   ]
  },
  {
   "cell_type": "markdown",
   "metadata": {},
   "source": [
    "`cProfile` es una herramienta poderosa y fácil de usar que te permitirá mejorar y optimizar el rendimiento de tus aplicaciones en Python. Al identificar los cuellos de botella en el código, puedes centrarte en las optimizaciones que realmente marcan la diferencia, garantizando así un mejor rendimiento general de tus aplicaciones."
   ]
  },
  {
   "cell_type": "code",
   "execution_count": 14,
   "metadata": {
    "colab": {
     "base_uri": "https://localhost:8080/"
    },
    "executionInfo": {
     "elapsed": 52418,
     "status": "ok",
     "timestamp": 1717884599707,
     "user": {
      "displayName": "Laurence Moroney",
      "userId": "17858265307580721507"
     },
     "user_tz": 420
    },
    "id": "ANFvfM1iywwr",
    "outputId": "3fa5ccd1-ec51-4a37-cbde-660d09058f3b"
   },
   "outputs": [
    {
     "name": "stdout",
     "output_type": "stream",
     "text": [
      "         100002 function calls in 1.988 seconds\n",
      "\n",
      "   Ordered by: standard name\n",
      "\n",
      "   ncalls  tottime  percall  cumtime  percall filename:lineno(function)\n",
      "    99998    1.719    0.000    1.719    0.000 1498653376.py:4(is_prime)\n",
      "        1    0.269    0.269    1.988    1.988 3535728432.py:11(suma_de_primos)\n",
      "        1    0.000    0.000    1.988    1.988 <string>:1(<module>)\n",
      "        1    0.000    0.000    1.988    1.988 {built-in method builtins.exec}\n",
      "        1    0.000    0.000    0.000    0.000 {method 'disable' of '_lsprof.Profiler' objects}\n",
      "\n",
      "\n"
     ]
    }
   ],
   "source": [
    "cProfile.run('suma_de_primos(100000)')"
   ]
  },
  {
   "cell_type": "markdown",
   "metadata": {},
   "source": [
    "Reescriba mi función es_primo en el código a continuación para optimizarla. \n",
    "\n",
    "```python\n",
    "def is_prime(n):\n",
    "    if n <= 1:\n",
    "        return False\n",
    "    for i in range(2, int(n**(1/2))+1):\n",
    "        if n % i == 0:\n",
    "            return False\n",
    "    return True\n",
    "```\n",
    "\n",
    "A continuación, se muestra el resultado de un análisis de CProfile de la función.\n",
    "\n",
    "```bash\n",
    "100002 function calls in 1.606 seconds\n",
    "\n",
    "Ordered by: standard name\n",
    "ncalls  tottime  percall  cumtime  percall filename:lineno(function)\n",
    "     1    0.162    0.162    1.606    1.606 3535728432.py:11(suma_de_primos)\n",
    " 99998    1.444    0.000    1.444    0.000 3535728432.py:3(is_prime)\n",
    "     1    0.000    0.000    1.606    1.606 <string>:1(<module>)\n",
    "     1    0.000    0.000    1.606    1.606 {built-in method builtins.exec}\n",
    "     1    0.000    0.000    0.000    0.000 {method 'disable' of '_lsprof.Profiler' objects}\n",
    "```\n"
   ]
  },
  {
   "cell_type": "markdown",
   "metadata": {},
   "source": [
    "Para optimizar la función `is_prime`, podemos hacer varios cambios. Además de utilizar una verificación hasta la raíz cuadrada de `n`, podemos reducir el número de iteraciones evitando verificar los número pares después de comprobar si `n` es divisible por 2. También podemos agregar un manejo de excepciones para casos negativos. Aquí tienes una versión optimizada de la función:\n",
    "\n",
    "```python\n",
    "def is_prime(n):\n",
    "    if n <= 1:\n",
    "        return False\n",
    "    if n <= 3:  # 2 y 3 son primos\n",
    "        return True\n",
    "    if n % 2 == 0 or n % 3 == 0:  # Eliminar múltiplos de 2 y 3\n",
    "        return False\n",
    "    i = 5\n",
    "    while i * i <= n:  # Solo probamos números de la forma 6k ± 1\n",
    "        if n % i == 0 or n % (i + 2) == 0:\n",
    "            return False\n",
    "        i += 6\n",
    "    return True\n",
    "```\n",
    "\n",
    "### Explicación de las mejoras:\n",
    "\n",
    "1. **Condiciones iniciales para números pequeños**: Se verifica si `n` es menor o igual a 3 antes de entrar en un bucle. Esto mejora la velocidad para pequeños números.\n",
    "2. **Eliminación de múltiplos de 2 y 3**: Si `n` es par o múltiplo de 3, se puede descartar inmediatamente, lo que reduce considerablemente el número de iteraciones necesarias.\n",
    "3. **Verificación de `6k ± 1`**: Solo se prueba con números de la forma 6k ± 1. Esto se debe a que todos los números primos mayores que 3 tienen esta forma. Al incrementar `i` de 6 en 6 y comprobar `i` y `i + 2`, reducimos aún más la cantidad de divisiones necesarias.\n",
    "\n",
    "Estas optimizaciones deberían reducir significativamente el tiempo de ejecución de la función `is_prime`, especialmente cuando se llama repetidamente en la función que las utiliza, como `suma_de_primos`."
   ]
  },
  {
   "cell_type": "code",
   "execution_count": 15,
   "metadata": {
    "colab": {
     "base_uri": "https://localhost:8080/"
    },
    "executionInfo": {
     "elapsed": 205,
     "status": "ok",
     "timestamp": 1717885644131,
     "user": {
      "displayName": "Laurence Moroney",
      "userId": "17858265307580721507"
     },
     "user_tz": 420
    },
    "id": "5mt_SJ74ymKS",
    "outputId": "57794678-538e-414a-89ce-d8f408a789ac"
   },
   "outputs": [
    {
     "name": "stdout",
     "output_type": "stream",
     "text": [
      "Implementacion Optimizada: Suma de primos = 454396537, Tiempo medido = 3.7046895027160645 segundos\n"
     ]
    }
   ],
   "source": [
    "def es_primp_optimizado(n):\n",
    "    # evaluo negativos cero y uno no son primos\n",
    "    if n <= 1:\n",
    "        return False\n",
    "    # evaluo 2 y 3 que son numero primos\n",
    "    if n <= 3:\n",
    "        return True\n",
    "    # todos los divissibles por 2 o 3 que ya no seran numeros primos\n",
    "    if n % 2 == 0 or n % 3 == 0:\n",
    "        return False\n",
    "    # iniciamos un bucle en 5 proximo numero primo\n",
    "    # se itera por los posibles primos que orma 6k ± 1 (i = 5, 7, 11, 13, 17, 19...)\n",
    "    # todos los números primos mayores que 3 son de la forma 6k ± 1\n",
    "    i = 5\n",
    "    while i * i <= n:\n",
    "        if n % i == 0 or n % (i + 2) == 0:\n",
    "            return False\n",
    "        i += 6\n",
    "    return True\n",
    "\n",
    "def suma_de_primos_op(limit):\n",
    "    suma = 0\n",
    "    for num in range(2, limit):\n",
    "        if es_primp_optimizado(num):\n",
    "            suma += num\n",
    "    return suma\n",
    "\n",
    "# Measure the time taken by the optimized implementation\n",
    "start_time = time.time()\n",
    "total_optimized = suma_de_primos_op(100000)\n",
    "print(f\"Implementacion Optimizada: Suma de primos = {total_optimized}, Tiempo medido = {time.time() - start_time} segundos\")\n"
   ]
  },
  {
   "cell_type": "code",
   "execution_count": 16,
   "metadata": {
    "colab": {
     "base_uri": "https://localhost:8080/"
    },
    "executionInfo": {
     "elapsed": 205,
     "status": "ok",
     "timestamp": 1717885646713,
     "user": {
      "displayName": "Laurence Moroney",
      "userId": "17858265307580721507"
     },
     "user_tz": 420
    },
    "id": "hInww94b6IEU",
    "outputId": "2d0c27b9-0ee7-4d61-ed1e-7bb0cb4e69b8"
   },
   "outputs": [
    {
     "name": "stdout",
     "output_type": "stream",
     "text": [
      "Tiempo de ejecucion de suma_de_primos(100000): 2.351149499998428 segundos\n"
     ]
    }
   ],
   "source": [
    "tiempo_de_ejecucuion = timeit.timeit(lambda:suma_de_primos_op(100000), number=1)\n",
    "print(f\"Tiempo de ejecucion de suma_de_primos(100000): {tiempo_de_ejecucuion} segundos\")"
   ]
  },
  {
   "cell_type": "code",
   "execution_count": 17,
   "metadata": {},
   "outputs": [
    {
     "name": "stdout",
     "output_type": "stream",
     "text": [
      "355 ms ± 48 ms per loop (mean ± std. dev. of 7 runs, 1 loop each)\n"
     ]
    }
   ],
   "source": [
    "%%timeit\n",
    "suma_de_primos_op(100000)"
   ]
  },
  {
   "cell_type": "code",
   "execution_count": 20,
   "metadata": {
    "colab": {
     "base_uri": "https://localhost:8080/"
    },
    "executionInfo": {
     "elapsed": 477,
     "status": "ok",
     "timestamp": 1717885650015,
     "user": {
      "displayName": "Laurence Moroney",
      "userId": "17858265307580721507"
     },
     "user_tz": 420
    },
    "id": "9nJGMgs-y-YN",
    "outputId": "6f947452-01b8-4f4b-852e-6e8329ed6b44"
   },
   "outputs": [
    {
     "name": "stdout",
     "output_type": "stream",
     "text": [
      "         100002 function calls in 3.757 seconds\n",
      "\n",
      "   Ordered by: standard name\n",
      "\n",
      "   ncalls  tottime  percall  cumtime  percall filename:lineno(function)\n",
      "    99998    3.148    0.000    3.148    0.000 519210228.py:1(es_primp_optimizado)\n",
      "        1    0.608    0.608    3.757    3.757 519210228.py:21(suma_de_primos_op)\n",
      "        1    0.000    0.000    3.757    3.757 <string>:1(<module>)\n",
      "        1    0.000    0.000    3.757    3.757 {built-in method builtins.exec}\n",
      "        1    0.000    0.000    0.000    0.000 {method 'disable' of '_lsprof.Profiler' objects}\n",
      "\n",
      "\n"
     ]
    }
   ],
   "source": [
    "cProfile.run('suma_de_primos_op(100000)')"
   ]
  },
  {
   "cell_type": "code",
   "execution_count": 21,
   "metadata": {},
   "outputs": [],
   "source": [
    "def es_primo_optimizado(n):\n",
    "    if n <= 1:\n",
    "        return False\n",
    "    if n <= 3:\n",
    "        return True\n",
    "    if n % 2 == 0 or n % 3 == 0:\n",
    "        return False\n",
    "    \n",
    "    for i in range(5, int(n**0.5) + 1, 6):\n",
    "        if n % i == 0 or n % (i + 2) == 0:\n",
    "            return False\n",
    "    \n",
    "    return True\n",
    "\n",
    "\n",
    "def suma_de_primos_optimizados(numbers):\n",
    "    total = 0\n",
    "    for number in numbers:\n",
    "        if es_primo_optimizado(number):\n",
    "            total += number\n",
    "    return total"
   ]
  },
  {
   "cell_type": "code",
   "execution_count": 22,
   "metadata": {},
   "outputs": [
    {
     "name": "stdout",
     "output_type": "stream",
     "text": [
      "Implementacion Optimizada: Suma de Primos hasta 100000 = 454396537, Tiempo = 1.3673667907714844 segundos\n"
     ]
    }
   ],
   "source": [
    "# Measure the time taken by the optimized implementation\n",
    "start_time = time.time()\n",
    "total_optimizado = suma_de_primos_optimizados(range(100000))\n",
    "print(f\"Implementacion Optimizada: Suma de Primos hasta 100000 = {total_optimizado}, Tiempo = {time.time() - start_time} segundos\")"
   ]
  },
  {
   "cell_type": "code",
   "execution_count": 23,
   "metadata": {},
   "outputs": [
    {
     "name": "stdout",
     "output_type": "stream",
     "text": [
      "         100004 function calls in 1.420 seconds\n",
      "\n",
      "   Ordered by: standard name\n",
      "\n",
      "   ncalls  tottime  percall  cumtime  percall filename:lineno(function)\n",
      "   100000    1.246    0.000    1.246    0.000 2983765493.py:1(es_primo_optimizado)\n",
      "        1    0.174    0.174    1.419    1.419 2983765493.py:16(suma_de_primos_optimizados)\n",
      "        1    0.000    0.000    1.419    1.419 <string>:1(<module>)\n",
      "        1    0.000    0.000    1.420    1.420 {built-in method builtins.exec}\n",
      "        1    0.000    0.000    0.000    0.000 {method 'disable' of '_lsprof.Profiler' objects}\n",
      "\n",
      "\n"
     ]
    }
   ],
   "source": [
    "cProfile.run('suma_de_primos_optimizados(range(100000))')"
   ]
  },
  {
   "cell_type": "markdown",
   "metadata": {},
   "source": [
    "___"
   ]
  },
  {
   "cell_type": "code",
   "execution_count": 24,
   "metadata": {
    "colab": {
     "base_uri": "https://localhost:8080/"
    },
    "executionInfo": {
     "elapsed": 1068,
     "status": "ok",
     "timestamp": 1717882774096,
     "user": {
      "displayName": "Laurence Moroney",
      "userId": "17858265307580721507"
     },
     "user_tz": 420
    },
    "id": "wsyxgdMYyoEZ",
    "outputId": "cde1f184-602d-4b5d-e83a-d39de6ea6718"
   },
   "outputs": [
    {
     "name": "stdout",
     "output_type": "stream",
     "text": [
      "Naive Implementation: Sum of primes = 5736396, Time taken = 1.4540858268737793 seconds\n",
      "Optimized Implementation: Sum of primes = 5736396, Time taken = 0.009997844696044922 seconds\n",
      "Optimized Implementation 2: Sum of primes = 5736396, Time taken = 0.005995035171508789 seconds\n"
     ]
    }
   ],
   "source": [
    "import time\n",
    "import math\n",
    "\n",
    "# Naive primality check\n",
    "def is_prime(n):\n",
    "    if n <= 1:\n",
    "        return False\n",
    "    for i in range(2, n):\n",
    "        if n % i == 0:\n",
    "            return False\n",
    "    return True\n",
    "\n",
    "# Optimized primality check\n",
    "def is_prime_optimized(n):\n",
    "    if n <= 1:\n",
    "        return False\n",
    "    if n <= 3:\n",
    "        return True\n",
    "    if n % 2 == 0 or n % 3 == 0:\n",
    "        return False\n",
    "    i = 5\n",
    "    while i * i <= n:\n",
    "        if n % i == 0 or n % (i + 2) == 0:\n",
    "            return False\n",
    "        i += 6\n",
    "    return True\n",
    "\n",
    "def is_prime_optimizado(n):\n",
    "    if n <= 1:\n",
    "        return False\n",
    "    if n <= 3:\n",
    "        return True\n",
    "    if n % 2 == 0 or n % 3 == 0:\n",
    "        return False\n",
    "    \n",
    "    for i in range(5, int(n**0.5) + 1, 6):\n",
    "        if n % i == 0 or n % (i + 2) == 0:\n",
    "            return False\n",
    "    return True\n",
    "\n",
    "# Naive sum of primes\n",
    "def sum_of_primes_naive(numbers):\n",
    "    total = 0\n",
    "    for number in numbers:\n",
    "        if is_prime(number):\n",
    "            total += number\n",
    "    return total\n",
    "\n",
    "# Optimized sum of primes\n",
    "def sum_of_primes_optimized(numbers):\n",
    "    total = 0\n",
    "    for number in numbers:\n",
    "        if is_prime_optimized(number):\n",
    "            total += number\n",
    "    return total\n",
    "\n",
    "def sum_of_primes_optimizedo(numbers):\n",
    "    total = 0\n",
    "    for number in numbers:\n",
    "        if is_prime_optimizado(number):\n",
    "            total += number\n",
    "    return total\n",
    "\n",
    "# Generate a list of numbers\n",
    "numbers = list(range(1, 10000))\n",
    "\n",
    "# Measure the time taken by the naive implementation\n",
    "start_time = time.time()\n",
    "total_naive = sum_of_primes_naive(numbers)\n",
    "print(f\"Naive Implementation: Sum of primes = {total_naive}, Time taken = {time.time() - start_time} seconds\")\n",
    "\n",
    "# Measure the time taken by the optimized implementation\n",
    "start_time = time.time()\n",
    "total_optimized = sum_of_primes_optimized(numbers)\n",
    "print(f\"Optimized Implementation: Sum of primes = {total_optimized}, Time taken = {time.time() - start_time} seconds\")\n",
    "\n",
    "# Measure the time taken by the optimized implementation\n",
    "start_time = time.time()\n",
    "total_optimized = sum_of_primes_optimizedo(numbers)\n",
    "print(f\"Optimized Implementation 2: Sum of primes = {total_optimized}, Time taken = {time.time() - start_time} seconds\")\n"
   ]
  },
  {
   "cell_type": "markdown",
   "metadata": {},
   "source": [
    "___"
   ]
  },
  {
   "cell_type": "code",
   "execution_count": 25,
   "metadata": {
    "colab": {
     "base_uri": "https://localhost:8080/"
    },
    "executionInfo": {
     "elapsed": 2063,
     "status": "ok",
     "timestamp": 1717882583699,
     "user": {
      "displayName": "Laurence Moroney",
      "userId": "17858265307580721507"
     },
     "user_tz": 420
    },
    "id": "lu3mWMkex-Jw",
    "outputId": "a94b3d35-21a7-4bde-97a0-7a5a15d5aeb6"
   },
   "outputs": [
    {
     "name": "stdout",
     "output_type": "stream",
     "text": [
      "Naive Matrix Multiplication Time: 6.937035083770752 seconds\n"
     ]
    }
   ],
   "source": [
    "import time\n",
    "import numpy as np\n",
    "\n",
    "# Naive matrix multiplication\n",
    "def naive_matrix_multiply(A, B):\n",
    "    n = len(A)\n",
    "    C = [[0] * n for _ in range(n)]\n",
    "    for i in range(n):\n",
    "        for j in range(n):\n",
    "            for k in range(n):\n",
    "                C[i][j] += A[i][k] * B[k][j]\n",
    "    return C\n",
    "\n",
    "# Generate random matrices\n",
    "n = 200\n",
    "A = np.random.rand(n, n).tolist()\n",
    "B = np.random.rand(n, n).tolist()\n",
    "\n",
    "start_time = time.time()\n",
    "C_naive = naive_matrix_multiply(A, B)\n",
    "print(f\"Naive Matrix Multiplication Time: {time.time() - start_time} seconds\")\n"
   ]
  },
  {
   "cell_type": "code",
   "execution_count": 26,
   "metadata": {
    "colab": {
     "base_uri": "https://localhost:8080/"
    },
    "executionInfo": {
     "elapsed": 3582,
     "status": "ok",
     "timestamp": 1717882668756,
     "user": {
      "displayName": "Laurence Moroney",
      "userId": "17858265307580721507"
     },
     "user_tz": 420
    },
    "id": "iOhXSknWyOyf",
    "outputId": "78946b0f-a1aa-4a0b-c8f6-5f6761950a76"
   },
   "outputs": [
    {
     "name": "stdout",
     "output_type": "stream",
     "text": [
      "         6 function calls in 7.282 seconds\n",
      "\n",
      "   Ordered by: standard name\n",
      "\n",
      "   ncalls  tottime  percall  cumtime  percall filename:lineno(function)\n",
      "        1    7.280    7.280    7.281    7.281 3358304666.py:5(naive_matrix_multiply)\n",
      "        1    0.001    0.001    0.001    0.001 3358304666.py:7(<listcomp>)\n",
      "        1    0.000    0.000    7.281    7.281 <string>:1(<module>)\n",
      "        1    0.000    0.000    7.282    7.282 {built-in method builtins.exec}\n",
      "        1    0.000    0.000    0.000    0.000 {built-in method builtins.len}\n",
      "        1    0.000    0.000    0.000    0.000 {method 'disable' of '_lsprof.Profiler' objects}\n",
      "\n",
      "\n"
     ]
    }
   ],
   "source": [
    "cProfile.run('naive_matrix_multiply(A, B)')"
   ]
  },
  {
   "cell_type": "code",
   "execution_count": 27,
   "metadata": {
    "colab": {
     "base_uri": "https://localhost:8080/"
    },
    "executionInfo": {
     "elapsed": 200,
     "status": "ok",
     "timestamp": 1717882600535,
     "user": {
      "displayName": "Laurence Moroney",
      "userId": "17858265307580721507"
     },
     "user_tz": 420
    },
    "id": "4uANWZQKyDAP",
    "outputId": "25e71d94-6d87-4473-90b0-f61ab3d2edbf"
   },
   "outputs": [
    {
     "name": "stdout",
     "output_type": "stream",
     "text": [
      "Optimized Matrix Multiplication Time: 0.6545548439025879 seconds\n"
     ]
    }
   ],
   "source": [
    "# Optimized matrix multiplication using NumPy\n",
    "start_time = time.time()\n",
    "C_optimized = np.dot(A, B)\n",
    "print(f\"Optimized Matrix Multiplication Time: {time.time() - start_time} seconds\")\n"
   ]
  },
  {
   "cell_type": "code",
   "execution_count": 28,
   "metadata": {
    "colab": {
     "base_uri": "https://localhost:8080/"
    },
    "executionInfo": {
     "elapsed": 1056,
     "status": "ok",
     "timestamp": 1717882264238,
     "user": {
      "displayName": "Laurence Moroney",
      "userId": "17858265307580721507"
     },
     "user_tz": 420
    },
    "id": "nhPutqv_s1c7",
    "outputId": "e99800f2-d9ee-40de-dc85-6c9b1b0b5d7c"
   },
   "outputs": [
    {
     "name": "stdout",
     "output_type": "stream",
     "text": [
      "Graph generation complete.\n"
     ]
    }
   ],
   "source": [
    "# Import necessary libraries\n",
    "import random\n",
    "import heapq\n",
    "import timeit\n",
    "import cProfile\n",
    "\n",
    "# Generate a large, sparse directed graph\n",
    "def generate_graph(num_nodes, max_edges_per_node):\n",
    "    graph = {i: [] for i in range(num_nodes)}\n",
    "    for i in range(num_nodes):\n",
    "        num_edges = min_edges_per_node + random.randint(1, (max_edges_per_node-min_edges_per_node))\n",
    "        for _ in range(num_edges):\n",
    "            target = random.randint(0, num_nodes - 1)\n",
    "            weight = int(random.uniform(1, 10))\n",
    "            graph[i].append((target, weight))\n",
    "    return graph\n",
    "\n",
    "# Create a graph with 1000 nodes and up to 10 edges per node\n",
    "num_nodes = 1000\n",
    "min_edges_per_node = 100\n",
    "max_edges_per_node = 900\n",
    "graph = generate_graph(num_nodes, max_edges_per_node)\n",
    "\n",
    "print(\"Graph generation complete.\")\n"
   ]
  },
  {
   "cell_type": "code",
   "execution_count": null,
   "metadata": {},
   "outputs": [],
   "source": []
  },
  {
   "cell_type": "code",
   "execution_count": 29,
   "metadata": {
    "colab": {
     "base_uri": "https://localhost:8080/"
    },
    "executionInfo": {
     "elapsed": 210,
     "status": "ok",
     "timestamp": 1717882266396,
     "user": {
      "displayName": "Laurence Moroney",
      "userId": "17858265307580721507"
     },
     "user_tz": 420
    },
    "id": "Unoce-OEtD3Z",
    "outputId": "730cff43-c7b5-4c3c-dc88-6065fc30b57b"
   },
   "outputs": [
    {
     "name": "stdout",
     "output_type": "stream",
     "text": [
      "1000\n"
     ]
    }
   ],
   "source": [
    "print(len(graph))"
   ]
  },
  {
   "cell_type": "code",
   "execution_count": 30,
   "metadata": {},
   "outputs": [
    {
     "data": {
      "text/plain": [
       "481"
      ]
     },
     "execution_count": 30,
     "metadata": {},
     "output_type": "execute_result"
    }
   ],
   "source": [
    "len(graph[0])"
   ]
  },
  {
   "cell_type": "code",
   "execution_count": 31,
   "metadata": {
    "colab": {
     "base_uri": "https://localhost:8080/"
    },
    "executionInfo": {
     "elapsed": 198,
     "status": "ok",
     "timestamp": 1717882272164,
     "user": {
      "displayName": "Laurence Moroney",
      "userId": "17858265307580721507"
     },
     "user_tz": 420
    },
    "id": "Ydub6Lfos4G5",
    "outputId": "75b7f6ba-a8c8-4748-ad2c-9510bfee923e"
   },
   "outputs": [
    {
     "name": "stdout",
     "output_type": "stream",
     "text": [
      "Testing Dijkstra's algorithm...\n",
      "Shortest path from 0 to 500: [0, 963, 500]\n",
      "Total distance: 2\n",
      "Testing Dijkstra's algorithm with different start and goal...\n",
      "Shortest path from 100 to 200: [100, 362, 200]\n",
      "Total distance: 2\n",
      "Testing Dijkstra's algorithm with reversed start and goal...\n",
      "Shortest path from 999 to 0: [999, 204, 0]\n",
      "Total distance: 2\n"
     ]
    }
   ],
   "source": [
    "# Import necessary libraries\n",
    "import random\n",
    "import heapq\n",
    "import timeit\n",
    "import cProfile\n",
    "\n",
    "# Implement Dijkstra's algorithm\n",
    "def dijkstra(graph, start, goal):\n",
    "    queue = [(0, start)]\n",
    "    distances = {node: float('inf') for node in graph}\n",
    "    distances[start] = 0\n",
    "    previous_nodes = {node: None for node in graph}\n",
    "\n",
    "    while queue:\n",
    "        current_distance, current_node = heapq.heappop(queue)\n",
    "\n",
    "        if current_node == goal:\n",
    "            break\n",
    "\n",
    "        if current_distance > distances[current_node]:\n",
    "            continue\n",
    "\n",
    "        for neighbor, weight in graph[current_node]:\n",
    "            distance = current_distance + weight\n",
    "            if distance < distances[neighbor]:\n",
    "                distances[neighbor] = distance\n",
    "                previous_nodes[neighbor] = current_node\n",
    "                heapq.heappush(queue, (distance, neighbor))\n",
    "\n",
    "    path = []\n",
    "    current = goal\n",
    "    while current is not None:\n",
    "        path.append(current)\n",
    "        current = previous_nodes[current]\n",
    "    path.reverse()\n",
    "\n",
    "    if distances[goal] == float('inf'):\n",
    "        return [], float('inf')  # If there's no path to the goal\n",
    "\n",
    "    return path, distances[goal]\n",
    "\n",
    "# Test Dijkstra's algorithm with different start and goal nodes\n",
    "start_node = 0\n",
    "goal_node = 500  # Test with a different goal node\n",
    "\n",
    "print(\"Testing Dijkstra's algorithm...\")\n",
    "path, distance = dijkstra(graph, start_node, goal_node)\n",
    "print(f\"Shortest path from {start_node} to {goal_node}: {path}\")\n",
    "print(f\"Total distance: {distance}\")\n",
    "\n",
    "start_node = 100\n",
    "goal_node = 200  # Test with another different goal node\n",
    "\n",
    "print(\"Testing Dijkstra's algorithm with different start and goal...\")\n",
    "path, distance = dijkstra(graph, start_node, goal_node)\n",
    "print(f\"Shortest path from {start_node} to {goal_node}: {path}\")\n",
    "print(f\"Total distance: {distance}\")\n",
    "\n",
    "start_node = 999\n",
    "goal_node = 0  # Test with goal node at the start\n",
    "\n",
    "print(\"Testing Dijkstra's algorithm with reversed start and goal...\")\n",
    "path, distance = dijkstra(graph, start_node, goal_node)\n",
    "print(f\"Shortest path from {start_node} to {goal_node}: {path}\")\n",
    "print(f\"Total distance: {distance}\")\n"
   ]
  },
  {
   "cell_type": "code",
   "execution_count": 32,
   "metadata": {
    "colab": {
     "base_uri": "https://localhost:8080/"
    },
    "executionInfo": {
     "elapsed": 206,
     "status": "ok",
     "timestamp": 1717882287132,
     "user": {
      "displayName": "Laurence Moroney",
      "userId": "17858265307580721507"
     },
     "user_tz": 420
    },
    "id": "gxbRU_GTs7YV",
    "outputId": "d7b8c188-17f6-4e8d-db59-874f76c5b748"
   },
   "outputs": [
    {
     "name": "stdout",
     "output_type": "stream",
     "text": [
      "Execution time for Dijkstra's algorithm: 0.02191569999558851 seconds\n"
     ]
    }
   ],
   "source": [
    "# Measure execution time of Dijkstra's algorithm\n",
    "dijkstra_time = timeit.timeit(lambda: dijkstra(graph, start_node, goal_node), number=1)\n",
    "print(f\"Execution time for Dijkstra's algorithm: {dijkstra_time} seconds\")\n"
   ]
  },
  {
   "cell_type": "code",
   "execution_count": 33,
   "metadata": {
    "colab": {
     "base_uri": "https://localhost:8080/"
    },
    "executionInfo": {
     "elapsed": 4232,
     "status": "ok",
     "timestamp": 1717882316542,
     "user": {
      "displayName": "Laurence Moroney",
      "userId": "17858265307580721507"
     },
     "user_tz": 420
    },
    "id": "e8o8ko2wtJwp",
    "outputId": "14ca63f7-eac8-4ad1-e15a-82a4fb7cc7be"
   },
   "outputs": [
    {
     "name": "stdout",
     "output_type": "stream",
     "text": [
      "Execution time for Dijkstra's algorithm: 0.242956 seconds\n",
      "Execution time for Dijkstra's algorithm: 1.771890 seconds\n",
      "Execution time for Dijkstra's algorithm: 0.249282 seconds\n",
      "Execution time for Dijkstra's algorithm: 0.389336 seconds\n",
      "Execution time for Dijkstra's algorithm: 0.265138 seconds\n",
      "Execution time for Dijkstra's algorithm: 0.275113 seconds\n",
      "Execution time for Dijkstra's algorithm: 0.174422 seconds\n",
      "Execution time for Dijkstra's algorithm: 0.217424 seconds\n",
      "Execution time for Dijkstra's algorithm: 0.225726 seconds\n",
      "Execution time for Dijkstra's algorithm: 0.012501 seconds\n",
      "Execution time for Dijkstra's algorithm: 0.010170 seconds\n",
      "Execution time for Dijkstra's algorithm: 0.051816 seconds\n",
      "Execution time for Dijkstra's algorithm: 0.149184 seconds\n",
      "Execution time for Dijkstra's algorithm: 0.137858 seconds\n",
      "Execution time for Dijkstra's algorithm: 0.260690 seconds\n",
      "Execution time for Dijkstra's algorithm: 0.540588 seconds\n",
      "Execution time for Dijkstra's algorithm: 0.097185 seconds\n",
      "Execution time for Dijkstra's algorithm: 0.087117 seconds\n",
      "Execution time for Dijkstra's algorithm: 0.098424 seconds\n",
      "Execution time for Dijkstra's algorithm: 0.181614 seconds\n",
      "Execution time for Dijkstra's algorithm: 0.116611 seconds\n",
      "Execution time for Dijkstra's algorithm: 0.352362 seconds\n",
      "Execution time for Dijkstra's algorithm: 0.645927 seconds\n",
      "Execution time for Dijkstra's algorithm: 0.057468 seconds\n",
      "Execution time for Dijkstra's algorithm: 0.059618 seconds\n",
      "Execution time for Dijkstra's algorithm: 0.096546 seconds\n",
      "Execution time for Dijkstra's algorithm: 0.186808 seconds\n",
      "Execution time for Dijkstra's algorithm: 0.111799 seconds\n",
      "Execution time for Dijkstra's algorithm: 0.146278 seconds\n",
      "Execution time for Dijkstra's algorithm: 0.712099 seconds\n",
      "Execution time for Dijkstra's algorithm: 0.220247 seconds\n",
      "Execution time for Dijkstra's algorithm: 0.929978 seconds\n",
      "Execution time for Dijkstra's algorithm: 0.304178 seconds\n",
      "Execution time for Dijkstra's algorithm: 0.530220 seconds\n",
      "Execution time for Dijkstra's algorithm: 0.368697 seconds\n",
      "Execution time for Dijkstra's algorithm: 0.030470 seconds\n",
      "Execution time for Dijkstra's algorithm: 0.094169 seconds\n",
      "Execution time for Dijkstra's algorithm: 0.033322 seconds\n",
      "Execution time for Dijkstra's algorithm: 0.083811 seconds\n",
      "Execution time for Dijkstra's algorithm: 0.284515 seconds\n",
      "Execution time for Dijkstra's algorithm: 0.378537 seconds\n",
      "Execution time for Dijkstra's algorithm: 0.062123 seconds\n",
      "Execution time for Dijkstra's algorithm: 0.637612 seconds\n",
      "Execution time for Dijkstra's algorithm: 0.113823 seconds\n",
      "Execution time for Dijkstra's algorithm: 0.570012 seconds\n",
      "Execution time for Dijkstra's algorithm: 0.131000 seconds\n",
      "Execution time for Dijkstra's algorithm: 0.052121 seconds\n",
      "Execution time for Dijkstra's algorithm: 0.388628 seconds\n",
      "Execution time for Dijkstra's algorithm: 0.195573 seconds\n",
      "Execution time for Dijkstra's algorithm: 0.234282 seconds\n",
      "Execution time for Dijkstra's algorithm: 0.150142 seconds\n",
      "Execution time for Dijkstra's algorithm: 0.265022 seconds\n",
      "Execution time for Dijkstra's algorithm: 0.058703 seconds\n",
      "Execution time for Dijkstra's algorithm: 0.074192 seconds\n",
      "Execution time for Dijkstra's algorithm: 0.117314 seconds\n",
      "Execution time for Dijkstra's algorithm: 0.538560 seconds\n",
      "Execution time for Dijkstra's algorithm: 0.119669 seconds\n",
      "Execution time for Dijkstra's algorithm: 0.114635 seconds\n",
      "Execution time for Dijkstra's algorithm: 0.008421 seconds\n",
      "Execution time for Dijkstra's algorithm: 0.587503 seconds\n",
      "Execution time for Dijkstra's algorithm: 0.467008 seconds\n",
      "Execution time for Dijkstra's algorithm: 0.406022 seconds\n",
      "Execution time for Dijkstra's algorithm: 0.071426 seconds\n",
      "Execution time for Dijkstra's algorithm: 0.377510 seconds\n",
      "Execution time for Dijkstra's algorithm: 0.175333 seconds\n",
      "Execution time for Dijkstra's algorithm: 0.001995 seconds\n",
      "Execution time for Dijkstra's algorithm: 0.560757 seconds\n",
      "Execution time for Dijkstra's algorithm: 0.568904 seconds\n",
      "Execution time for Dijkstra's algorithm: 0.079932 seconds\n",
      "Execution time for Dijkstra's algorithm: 0.014727 seconds\n",
      "Execution time for Dijkstra's algorithm: 0.024267 seconds\n",
      "Execution time for Dijkstra's algorithm: 0.063563 seconds\n",
      "Execution time for Dijkstra's algorithm: 0.011719 seconds\n",
      "Execution time for Dijkstra's algorithm: 0.494476 seconds\n",
      "Execution time for Dijkstra's algorithm: 0.010119 seconds\n",
      "Execution time for Dijkstra's algorithm: 0.101408 seconds\n",
      "Execution time for Dijkstra's algorithm: 0.056872 seconds\n",
      "Execution time for Dijkstra's algorithm: 0.019975 seconds\n",
      "Execution time for Dijkstra's algorithm: 0.011074 seconds\n",
      "Execution time for Dijkstra's algorithm: 0.115090 seconds\n",
      "Execution time for Dijkstra's algorithm: 0.447629 seconds\n",
      "Execution time for Dijkstra's algorithm: 0.066508 seconds\n",
      "Execution time for Dijkstra's algorithm: 0.372994 seconds\n",
      "Execution time for Dijkstra's algorithm: 0.092933 seconds\n",
      "Execution time for Dijkstra's algorithm: 0.102989 seconds\n",
      "Execution time for Dijkstra's algorithm: 0.004820 seconds\n",
      "Execution time for Dijkstra's algorithm: 0.026793 seconds\n",
      "Execution time for Dijkstra's algorithm: 0.034755 seconds\n",
      "Execution time for Dijkstra's algorithm: 0.024585 seconds\n",
      "Execution time for Dijkstra's algorithm: 0.210191 seconds\n",
      "Execution time for Dijkstra's algorithm: 0.313787 seconds\n",
      "Execution time for Dijkstra's algorithm: 0.222653 seconds\n",
      "Execution time for Dijkstra's algorithm: 0.083333 seconds\n",
      "Execution time for Dijkstra's algorithm: 0.155396 seconds\n",
      "Execution time for Dijkstra's algorithm: 0.180920 seconds\n",
      "Execution time for Dijkstra's algorithm: 0.244154 seconds\n",
      "Execution time for Dijkstra's algorithm: 0.051080 seconds\n",
      "Execution time for Dijkstra's algorithm: 0.092995 seconds\n",
      "Execution time for Dijkstra's algorithm: 0.089427 seconds\n",
      "Execution time for Dijkstra's algorithm: 0.251360 seconds\n"
     ]
    }
   ],
   "source": [
    "# Do 100 examples\n",
    "for i in range(100):\n",
    "    start_node = random.randint(0, num_nodes - 1)\n",
    "    goal_node = random.randint(0, num_nodes - 1)\n",
    "\n",
    "    # Measure the execution time of the Dijkstra's algorithm\n",
    "    start_time = timeit.default_timer()\n",
    "    path, distance = dijkstra(graph, start_node, goal_node)\n",
    "    end_time = timeit.default_timer()\n",
    "\n",
    "    dijkstra_time = end_time - start_time\n",
    "\n",
    "    print(f\"Execution time for Dijkstra's algorithm: {dijkstra_time:.6f} seconds\")\n",
    "    #print(f\"Shortest path from {start_node} to {goal_node}: {path}\")\n",
    "    #print(f\"Total distance: {distance}\")"
   ]
  },
  {
   "cell_type": "code",
   "execution_count": 34,
   "metadata": {
    "colab": {
     "base_uri": "https://localhost:8080/"
    },
    "executionInfo": {
     "elapsed": 3,
     "status": "ok",
     "timestamp": 1717882510013,
     "user": {
      "displayName": "Laurence Moroney",
      "userId": "17858265307580721507"
     },
     "user_tz": 420
    },
    "id": "2f1GQffpv-Kk",
    "outputId": "d46fe44b-a089-4276-c2cd-4fb7d04f5b5d"
   },
   "outputs": [
    {
     "name": "stdout",
     "output_type": "stream",
     "text": [
      "         3526 function calls in 1.617 seconds\n",
      "\n",
      "   Ordered by: standard name\n",
      "\n",
      "   ncalls  tottime  percall  cumtime  percall filename:lineno(function)\n",
      "        1    0.002    0.002    0.002    0.002 1916113701.py:10(<dictcomp>)\n",
      "        1    0.000    0.000    0.000    0.000 1916113701.py:12(<dictcomp>)\n",
      "        1    1.527    1.527    1.615    1.615 1916113701.py:8(dijkstra)\n",
      "        1    0.002    0.002    1.617    1.617 <string>:1(<module>)\n",
      "      876    0.082    0.000    0.082    0.000 {built-in method _heapq.heappop}\n",
      "     2641    0.004    0.000    0.004    0.000 {built-in method _heapq.heappush}\n",
      "        1    0.000    0.000    1.617    1.617 {built-in method builtins.exec}\n",
      "        2    0.000    0.000    0.000    0.000 {method 'append' of 'list' objects}\n",
      "        1    0.000    0.000    0.000    0.000 {method 'disable' of '_lsprof.Profiler' objects}\n",
      "        1    0.000    0.000    0.000    0.000 {method 'reverse' of 'list' objects}\n",
      "\n",
      "\n"
     ]
    }
   ],
   "source": [
    "#start_node = random.randint(0, num_nodes - 1)\n",
    "#goal_node = random.randint(0, num_nodes - 1)\n",
    "start_node = 1\n",
    "end_node = 20\n",
    "cProfile.run('dijkstra(graph, start_node, goal_node)')"
   ]
  },
  {
   "cell_type": "code",
   "execution_count": 35,
   "metadata": {
    "executionInfo": {
     "elapsed": 205,
     "status": "ok",
     "timestamp": 1717882430206,
     "user": {
      "displayName": "Laurence Moroney",
      "userId": "17858265307580721507"
     },
     "user_tz": 420
    },
    "id": "ZSXnk80ZwDjn"
   },
   "outputs": [],
   "source": [
    "# Implement Dijkstra's algorithm\n",
    "def faster_dijkstra(graph, start, goal):\n",
    "    queue = [(0, start)]\n",
    "    distances = {node: float('inf') for node in graph}\n",
    "    distances[start] = 0\n",
    "    previous_nodes = {node: None for node in graph}\n",
    "    visited = set()\n",
    "\n",
    "    while queue:\n",
    "        current_distance, current_node = heapq.heappop(queue)\n",
    "\n",
    "        if current_node in visited:\n",
    "            continue\n",
    "        visited.add(current_node)\n",
    "\n",
    "        if current_node == goal:\n",
    "            break\n",
    "\n",
    "        for neighbor, weight in graph[current_node]:\n",
    "            if neighbor in visited:\n",
    "                continue\n",
    "            distance = current_distance + weight\n",
    "            if distance < distances[neighbor]:\n",
    "                distances[neighbor] = distance\n",
    "                previous_nodes[neighbor] = current_node\n",
    "                heapq.heappush(queue, (distance, neighbor))\n",
    "\n",
    "    path = []\n",
    "    current = goal\n",
    "    while current is not None:\n",
    "        path.append(current)\n",
    "        current = previous_nodes[current]\n",
    "    path.reverse()\n",
    "\n",
    "    if distances[goal] == float('inf'):\n",
    "        return [], float('inf')  # If there's no path to the goal\n",
    "\n",
    "    return path, distances[goal]"
   ]
  },
  {
   "cell_type": "code",
   "execution_count": 36,
   "metadata": {
    "colab": {
     "base_uri": "https://localhost:8080/"
    },
    "executionInfo": {
     "elapsed": 218,
     "status": "ok",
     "timestamp": 1717882514583,
     "user": {
      "displayName": "Laurence Moroney",
      "userId": "17858265307580721507"
     },
     "user_tz": 420
    },
    "id": "aUMrBpEAxb_c",
    "outputId": "8e8d0356-01fd-4c2a-a06e-b5e322059361"
   },
   "outputs": [
    {
     "name": "stdout",
     "output_type": "stream",
     "text": [
      "         2900 function calls in 0.675 seconds\n",
      "\n",
      "   Ordered by: standard name\n",
      "\n",
      "   ncalls  tottime  percall  cumtime  percall filename:lineno(function)\n",
      "        1    0.003    0.003    0.003    0.003 1916113701.py:10(<dictcomp>)\n",
      "        1    0.001    0.001    0.001    0.001 1916113701.py:12(<dictcomp>)\n",
      "        1    0.653    0.653    0.675    0.675 1916113701.py:8(dijkstra)\n",
      "        1    0.001    0.001    0.675    0.675 <string>:1(<module>)\n",
      "      249    0.013    0.000    0.013    0.000 {built-in method _heapq.heappop}\n",
      "     2641    0.005    0.000    0.005    0.000 {built-in method _heapq.heappush}\n",
      "        1    0.000    0.000    0.675    0.675 {built-in method builtins.exec}\n",
      "        3    0.000    0.000    0.000    0.000 {method 'append' of 'list' objects}\n",
      "        1    0.000    0.000    0.000    0.000 {method 'disable' of '_lsprof.Profiler' objects}\n",
      "        1    0.000    0.000    0.000    0.000 {method 'reverse' of 'list' objects}\n",
      "\n",
      "\n"
     ]
    }
   ],
   "source": [
    "start_node = 1\n",
    "goal_node = 200\n",
    "cProfile.run('dijkstra(graph, start_node, goal_node)')"
   ]
  },
  {
   "cell_type": "code",
   "execution_count": null,
   "metadata": {},
   "outputs": [],
   "source": []
  }
 ],
 "metadata": {
  "colab": {
   "authorship_tag": "ABX9TyNkrT5Jl+R5OS7nYZnRYW5j",
   "provenance": []
  },
  "kernelspec": {
   "display_name": "py_global",
   "language": "python",
   "name": "py_global"
  },
  "language_info": {
   "codemirror_mode": {
    "name": "ipython",
    "version": 3
   },
   "file_extension": ".py",
   "mimetype": "text/x-python",
   "name": "python",
   "nbconvert_exporter": "python",
   "pygments_lexer": "ipython3",
   "version": "3.10.4"
  }
 },
 "nbformat": 4,
 "nbformat_minor": 4
}
