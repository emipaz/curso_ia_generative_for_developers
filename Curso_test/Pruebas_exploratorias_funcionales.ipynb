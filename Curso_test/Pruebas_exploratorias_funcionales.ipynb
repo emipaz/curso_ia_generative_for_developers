{
 "cells": [
  {
   "cell_type": "markdown",
   "id": "14f258bd-4757-4d5d-a340-d04d4dbc9138",
   "metadata": {},
   "source": [
    "# Ejercicio Clase lista personalizada"
   ]
  },
  {
   "cell_type": "code",
   "execution_count": null,
   "id": "0bc1f549-f0c6-490b-80ed-f0b1b11772bc",
   "metadata": {},
   "outputs": [],
   "source": [
    "class Emilist(list):\n",
    "\n",
    "    def __init__(self, nombre, size = 20 ):\n",
    "        self.nombre = nombre\n",
    "        self.MAX_LEN = size\n",
    "\n",
    "    def __repr__(self):\n",
    "        return f\"<{self.__class__.__name__} {self.nombre}> {len(self)} elementos\" \n",
    "\n",
    "    def __str__(self):\n",
    "        st= self.nombre + \":\\n\"\n",
    "        for elemento in self:\n",
    "            st += \"\\t\" + elemento + \"\\n\"\n",
    "        return st\n",
    "    \n",
    "    def append(self, valor):\n",
    "        if len(self) == self.MAX_LEN :\n",
    "            raise UserWarning (\"La lista esta llena\")\n",
    "        if not valor: \n",
    "            return False\n",
    "        long=\"\"\n",
    "        if isinstance(valor, str) and 0 < ( long := len(valor) ) < 20:\n",
    "            super().append(valor);\n",
    "            return True\n",
    "        elif long:\n",
    "            raise ValueError (f\"Emilist solo acepta string de < de 20 caracteres y recibio un str de {long} caracteres\")\n",
    "        else:\n",
    "            raise TypeError (f\"Emilist solo acepta string y recibio un objeto tipo :{type(valor)}\")\n",
    "\n",
    "    def remove(self, elemento):\n",
    "        if elemento not in self:\n",
    "            return False\n",
    "        else:\n",
    "            super().remove(elemento)\n",
    "            return True\n",
    "        \n",
    "        "
   ]
  },
  {
   "cell_type": "markdown",
   "id": "201c4040-b403-4ca3-adb3-4b58610511ad",
   "metadata": {},
   "source": [
    "Pruebas Exploratorias"
   ]
  },
  {
   "cell_type": "code",
   "execution_count": null,
   "id": "c5db02e9-fd18-405e-b52c-75f7037fae3e",
   "metadata": {},
   "outputs": [],
   "source": [
    "# instanciar un objeto de mi lista\n",
    "lista = Emilist(\"tareas\")"
   ]
  },
  {
   "cell_type": "code",
   "execution_count": 5,
   "id": "3f0fe488-1a4c-4e8b-9743-c803d5d3a2d4",
   "metadata": {},
   "outputs": [
    {
     "data": {
      "text/plain": [
       "<Emilist tareas> 0 elementos"
      ]
     },
     "execution_count": 5,
     "metadata": {},
     "output_type": "execute_result"
    }
   ],
   "source": [
    "# mostrar una representacion\n",
    "lista"
   ]
  },
  {
   "cell_type": "code",
   "execution_count": 6,
   "id": "60334119-113d-4fe6-9c43-42dd6122e39e",
   "metadata": {},
   "outputs": [
    {
     "data": {
      "text/plain": [
       "'tareas'"
      ]
     },
     "execution_count": 6,
     "metadata": {},
     "output_type": "execute_result"
    }
   ],
   "source": [
    "lista.nombre"
   ]
  },
  {
   "cell_type": "code",
   "execution_count": 7,
   "id": "6a0bfbba-9d24-4c77-bf37-de9af5b9f93d",
   "metadata": {},
   "outputs": [
    {
     "name": "stdout",
     "output_type": "stream",
     "text": [
      "tareas:\n",
      "\n"
     ]
    }
   ],
   "source": [
    "print(lista)"
   ]
  },
  {
   "cell_type": "code",
   "execution_count": 8,
   "id": "957282e9-fe3b-4a1b-a7cc-4efeefc4000c",
   "metadata": {},
   "outputs": [
    {
     "name": "stdout",
     "output_type": "stream",
     "text": [
      "<class 'TypeError'> Emilist solo acepta string y recibio un objeto tipo :<class 'int'>\n"
     ]
    }
   ],
   "source": [
    "try:\n",
    "    lista.append(1)\n",
    "except Exception as e:\n",
    "    print (type(e),e)"
   ]
  },
  {
   "cell_type": "code",
   "execution_count": 9,
   "id": "36638684-9a36-496f-8b1e-92e8d4636fd6",
   "metadata": {},
   "outputs": [
    {
     "name": "stdout",
     "output_type": "stream",
     "text": [
      "<class 'ValueError'> Emilist solo acepta string de < de 20 caracteres y recibio un str de 27 caracteres\n"
     ]
    }
   ],
   "source": [
    "try:\n",
    "    lista.append(\"asfagalkdgakgsdfgaldgfasdga\")\n",
    "except Exception as e:\n",
    "    print (type(e),e)"
   ]
  },
  {
   "cell_type": "code",
   "execution_count": 10,
   "id": "4cadef72-2696-4905-9c0c-6fb42b2190b8",
   "metadata": {},
   "outputs": [
    {
     "data": {
      "text/plain": [
       "<Emilist tareas> 1 elementos"
      ]
     },
     "execution_count": 10,
     "metadata": {},
     "output_type": "execute_result"
    }
   ],
   "source": [
    "lista.append(\"desayuno\")\n",
    "lista"
   ]
  },
  {
   "cell_type": "code",
   "execution_count": 11,
   "id": "9ec59fc8-4993-4264-9286-289d51c87bc5",
   "metadata": {},
   "outputs": [
    {
     "data": {
      "text/plain": [
       "True"
      ]
     },
     "execution_count": 11,
     "metadata": {},
     "output_type": "execute_result"
    }
   ],
   "source": [
    "lista.append(\"almuerzo\")"
   ]
  },
  {
   "cell_type": "code",
   "execution_count": 12,
   "id": "19ba4bdc-dfdb-4d1a-8efe-a97628320cf4",
   "metadata": {},
   "outputs": [
    {
     "data": {
      "text/plain": [
       "2"
      ]
     },
     "execution_count": 12,
     "metadata": {},
     "output_type": "execute_result"
    }
   ],
   "source": [
    "len(lista)"
   ]
  },
  {
   "cell_type": "code",
   "execution_count": 13,
   "id": "4d1c8c71-367e-4faa-9638-83f1436ef09b",
   "metadata": {},
   "outputs": [
    {
     "name": "stdout",
     "output_type": "stream",
     "text": [
      "tareas:\n",
      "\tdesayuno\n",
      "\talmuerzo\n",
      "\n"
     ]
    }
   ],
   "source": [
    "print(lista)"
   ]
  },
  {
   "cell_type": "code",
   "execution_count": 14,
   "id": "544e0bb1-7a1b-4942-887b-79d894f8b3c8",
   "metadata": {},
   "outputs": [
    {
     "data": {
      "text/plain": [
       "True"
      ]
     },
     "execution_count": 14,
     "metadata": {},
     "output_type": "execute_result"
    }
   ],
   "source": [
    "lista.append(\"cena\")"
   ]
  },
  {
   "cell_type": "code",
   "execution_count": 15,
   "id": "be056d9b-1746-4835-8352-b8c0ddb22133",
   "metadata": {},
   "outputs": [
    {
     "data": {
      "text/plain": [
       "False"
      ]
     },
     "execution_count": 15,
     "metadata": {},
     "output_type": "execute_result"
    }
   ],
   "source": [
    "lista.append(\"\")"
   ]
  },
  {
   "cell_type": "code",
   "execution_count": 16,
   "id": "9ceeb6b4-de69-403d-a1b0-3febfc29b90f",
   "metadata": {},
   "outputs": [
    {
     "data": {
      "text/plain": [
       "False"
      ]
     },
     "execution_count": 16,
     "metadata": {},
     "output_type": "execute_result"
    }
   ],
   "source": [
    "lista.append(None)"
   ]
  },
  {
   "cell_type": "code",
   "execution_count": 17,
   "id": "1b89056c-b966-476f-8c72-7f4cc6fdf9bd",
   "metadata": {},
   "outputs": [
    {
     "data": {
      "text/plain": [
       "'cena'"
      ]
     },
     "execution_count": 17,
     "metadata": {},
     "output_type": "execute_result"
    }
   ],
   "source": [
    "lista.pop()"
   ]
  },
  {
   "cell_type": "code",
   "execution_count": 18,
   "id": "c15240a3-1046-40c8-8ebb-d506799f6f16",
   "metadata": {},
   "outputs": [
    {
     "data": {
      "text/plain": [
       "True"
      ]
     },
     "execution_count": 18,
     "metadata": {},
     "output_type": "execute_result"
    }
   ],
   "source": [
    "lista.remove(\"desayuno\")"
   ]
  },
  {
   "cell_type": "code",
   "execution_count": 19,
   "id": "441eded1-e11f-4190-b4ea-c77f0f3363ee",
   "metadata": {},
   "outputs": [
    {
     "name": "stdout",
     "output_type": "stream",
     "text": [
      "tareas:\n",
      "\talmuerzo\n",
      "\n"
     ]
    }
   ],
   "source": [
    "print(lista)"
   ]
  },
  {
   "cell_type": "markdown",
   "id": "4c0d3e3f-c167-4b79-a0cd-d1e6ed54b4bd",
   "metadata": {},
   "source": [
    "## Uso de LLM"
   ]
  },
  {
   "cell_type": "markdown",
   "id": "23916dbf-1278-43b7-8711-bd81e50120a3",
   "metadata": {},
   "source": [
    "Eres un ingeniero de software y tester que es curioso y le gusta revisar el código en busca de casos extremos. Aquí hay algo de código Python; explóralo y encuentra cualquier problema que pueda causar errores o una funcionalidad deficiente.\n",
    "\n",
    "```python\n",
    "class Emilist(list):\n",
    "\n",
    "    def __init__(self, nombre, size = 20 ):\n",
    "        self.nombre = nombre\n",
    "        self.MAX_LEN = size\n",
    "\n",
    "    def __repr__(self):\n",
    "        return f\"<{self.__class__.__name__} {self.nombre}> {len(self)} elementos\" \n",
    "\n",
    "    def __str__(self):\n",
    "        st= self.nombre + \":\\n\"\n",
    "        for elemento in self:\n",
    "            st += \"\\t\" + elemento + \"\\n\"\n",
    "        return st\n",
    "    \n",
    "    def append(self, valor):\n",
    "        if len(self) == self.MAX_LEN :\n",
    "            raise UserWarning (\"La lista esta llena\")\n",
    "        if not valor: \n",
    "            return False\n",
    "        long=\"\"\n",
    "        if isinstance(valor, str) and 0 < ( long := len(valor) ) < 20:\n",
    "            super().append(valor);\n",
    "            return True\n",
    "        elif long:\n",
    "            raise ValueError (f\"Emilist solo acepta string de < de 20 caracteres y recibio un str de {long} caracteres\")\n",
    "        else:\n",
    "            raise TypeError (f\"Emilist solo acepta string y recibio un objeto tipo :{type(valor)}\")\n",
    "\n",
    "    def remove(self, elemento):\n",
    "        if elemento not in self:\n",
    "            return False\n",
    "        else:\n",
    "            super().remove(elemento)\n",
    "            return True\n",
    "```\n"
   ]
  },
  {
   "cell_type": "markdown",
   "id": "88bc34e4-5415-47f5-b516-c9cb45434122",
   "metadata": {},
   "source": [
    "GPT: He revisado el código de la clase `Emilist` y he encontrado varios puntos que podrían causar problemas o generar un comportamiento no deseado. A continuación, se detallan estos puntos, así como las posibles mejoras:"
   ]
  },
  {
   "cell_type": "markdown",
   "id": "87912ee2-88a9-402a-84fd-174577e7278e",
   "metadata": {},
   "source": [
    "### 1. Inicialización de la lista"
   ]
  },
  {
   "cell_type": "markdown",
   "id": "ecfa5c09-d5ec-403f-9362-e5e1b419e807",
   "metadata": {},
   "source": [
    "En el constructor `__init__`, deberías inicializar la lista base (`list`). No lo estás haciendo, por lo que `len(self)` y otras operaciones de lista no funcionarán como se espera.\n",
    "\n",
    "```python\n",
    "def __init__(self, nombre, size=20):\n",
    "    super().__init__()  # Inicializar la lista base\n",
    "    self.nombre = nombre\n",
    "    self.MAX_LEN = size\n",
    "```"
   ]
  },
  {
   "cell_type": "markdown",
   "id": "87c66b4e-89a5-4159-851f-c9ba57b7001d",
   "metadata": {},
   "source": [
    "### 2. Comprobaciones de longitud"
   ]
  },
  {
   "cell_type": "markdown",
   "id": "5191a7ea-41e8-4906-879d-7752c26b0ef2",
   "metadata": {},
   "source": [
    "La condición dentro del método `append` que verifica la longitud del valor puede lanzar advertencias que no son del tipo esperado, usando `UserWarning` para una situación que probablemente no es solo una advertencia. En su lugar, debes lanzar excepciones adecuadas. Además, considera permitir espacio para el nuevo elemento en el límite de longitud.\n",
    "\n",
    "```python\n",
    "if len(self) >= self.MAX_LEN:\n",
    "    raise OverflowError(\"La lista está llena, no se puede agregar más elementos.\")\n",
    "```"
   ]
  },
  {
   "cell_type": "markdown",
   "id": "4bf67d84-813c-4725-bb1e-2b47b5371673",
   "metadata": {},
   "source": [
    "### 3. Manejo de cadenas vacías"
   ]
  },
  {
   "cell_type": "markdown",
   "id": "b3b0af74-736b-4237-98ab-905b339a8e3f",
   "metadata": {},
   "source": [
    "El método `append` retorna `False` si el valor es falso (por ejemplo, una cadena vacía). Aunque esa puede ser una opción, consideraría lanzar una excepción en lugar de devolver un valor booleano. Esto puede ayudar a depurar problemas al usar la clase.\n",
    "\n",
    "```python\n",
    "if not valor:\n",
    "    raise ValueError(\"No se puede agregar un valor vacío.\")\n",
    "```"
   ]
  },
  {
   "cell_type": "markdown",
   "id": "48acf04b-d481-45db-aa8f-2f5194802197",
   "metadata": {},
   "source": [
    "### 4. Restricción del tamaño de la cadena"
   ]
  },
  {
   "cell_type": "markdown",
   "id": "e7dc1560-fb8a-4cce-920e-a03468efb0b5",
   "metadata": {},
   "source": [
    "La comprobación de longitud de la cadena se está realizando correctamente, pero sería mejor separarlo para mayor claridad. Además, debes considerar el tamaño máximo como parte de la definición de `MAX_LEN`.\n",
    "\n",
    "```python\n",
    "if isinstance(valor, str):\n",
    "    if long < 20:  # quizás usar MAX_LEN aquí\n",
    "        super().append(valor)\n",
    "        return True\n",
    "    else:\n",
    "        raise ValueError(f\"Emilist solo acepta string de menos de {self.MAX_LEN} caracteres y recibió un str de {long} caracteres\")\n",
    "```"
   ]
  },
  {
   "cell_type": "markdown",
   "id": "a2faa879-aa45-4553-bd5b-eab7edf3f1a0",
   "metadata": {},
   "source": [
    "### 5. La implementación de `remove`"
   ]
  },
  {
   "cell_type": "markdown",
   "id": "6de7ad0b-35e5-4445-9055-854f16e7257c",
   "metadata": {},
   "source": [
    "El método `remove` tiene una verificación que retorna `False` si el elemento no está en la lista, pero sería más útil que lanzara una excepción, similar a cómo se comporta el método `list.remove()` estándar de Python. Esto también garantiza comodidad y consistencia en la API.\n",
    "\n",
    "```python\n",
    "def remove(self, elemento):\n",
    "    if elemento not in self:\n",
    "        raise ValueError(f\"Elemento {elemento} no encontrado en la lista\")\n",
    "    else:\n",
    "        super().remove(elemento)\n",
    "```"
   ]
  },
  {
   "cell_type": "markdown",
   "id": "b433c426-cf4f-4c48-a638-589c461591b1",
   "metadata": {},
   "source": []
  },
  {
   "cell_type": "markdown",
   "id": "7d612829-6090-4962-ad95-e3b9a9423b13",
   "metadata": {},
   "source": [
    "### 6. Métodos de presentación\n"
   ]
  },
  {
   "cell_type": "markdown",
   "id": "f19b294a",
   "metadata": {},
   "source": [
    "Los métodos `__repr__` y `__str__` podrían mejorarse en términos de legibilidad agregando el contenido de la lista como parte de la salida. Sin embargo, al hacerlo, deberías tener en cuenta el tamaño de la lista para evitar representar listas muy grandes."
   ]
  },
  {
   "cell_type": "markdown",
   "id": "70a52f6e-f5fa-4956-829f-151774ceb4dd",
   "metadata": {},
   "source": [
    "### Resumen"
   ]
  },
  {
   "cell_type": "markdown",
   "id": "72750249-fe32-4487-a70c-8bce0c7d65ae",
   "metadata": {},
   "source": [
    "Corrigiendo los problemas de inicialización, manejo de errores, y la verificación de longitud de las cadenas, puedes mejorar significativamente la robustez y la funcionalidad de tu clase `Emilist`. "
   ]
  },
  {
   "cell_type": "markdown",
   "id": "f954dddf-2e4d-43dd-8eea-e1684b4b0097",
   "metadata": {},
   "source": [
    "Te estas confundienod el max_len es para la extencion de la lista. y lo otro seria la extencion de los elementos, deberia haber 2 atributos, por eso lo habia dejado fijo el tamaño de los elementos."
   ]
  },
  {
   "cell_type": "markdown",
   "id": "dea95b59-6f27-4bee-afed-15155a287400",
   "metadata": {},
   "source": [
    "GPT : Tienes razón, y te agradezco la aclaración. La clase tiene un atributo `MAX_LEN` que se refiere al tamaño máximo de la lista, y además juegas con la longitud de los elementos que se añaden a ella, que están limitados a menos de 20 caracteres. Para evitar confusiones y mejorar la funcionalidad, es conveniente declarar claramente ambos límites (el de la lista y el de los elementos). \n",
    "\n",
    "Voy a ajustar la clase para incluir dos atributos de tamaño, uno para el tamaño máximo de la lista y otro para el tamaño máximo de los elementos. Además, refactorizaré el código según esta aclaración.\n",
    "\n",
    "Aquí está la versión corregida:"
   ]
  },
  {
   "cell_type": "code",
   "execution_count": 37,
   "id": "1817f5bd-2ff3-4a7f-b710-b666cd8db43f",
   "metadata": {},
   "outputs": [],
   "source": [
    "class Emilist(list):\n",
    "    def __init__(self, nombre, size=20, max_element_length=20):\n",
    "        super().__init__()  # Inicializar la lista base\n",
    "        self.nombre = nombre\n",
    "        self.MAX_LEN = size  # Tamaño máximo de la lista\n",
    "        self.MAX_ELEMENT_LENGTH = max_element_length  # Tamaño máximo de cada elemento\n",
    "\n",
    "    def __repr__(self):\n",
    "        return f\"<{self.__class__.__name__} {self.nombre}> {len(self)} elementos: {super().__repr__()}\"\n",
    "\n",
    "    def __str__(self):\n",
    "        st = self.nombre + \":\\n\"\n",
    "        for elemento in self:\n",
    "            st += \"\\t\" + elemento + \"\\n\"\n",
    "        return st\n",
    "\n",
    "    def append(self, valor):\n",
    "        if len(self) >= self.MAX_LEN:\n",
    "            raise OverflowError(\"La lista está llena, no se puede agregar más elementos.\")\n",
    "        \n",
    "        if not valor:\n",
    "            raise ValueError(\"No se puede agregar un valor vacío.\")\n",
    "        \n",
    "        #long=\"\"\n",
    "        if isinstance(valor, str) and 0 < ( long := len(valor) ) < self.MAX_ELEMENT_LENGTH:\n",
    "            super().append(valor);\n",
    "            return True\n",
    "        elif long:\n",
    "            raise ValueError(f\"Emilist solo acepta strings de menos de {self.MAX_ELEMENT_LENGTH} caracteres y recibió un str de {long} caracteres.\")\n",
    "        else:\n",
    "            raise TypeError(f\"Emilist solo acepta strings y recibió un objeto tipo: {type(valor)}\")\n",
    "\n",
    "    def remove(self, elemento):\n",
    "        if elemento not in self:\n",
    "            raise ValueError(f\"Elemento {elemento} no encontrado en la lista.\")\n",
    "        else:\n",
    "            super().remove(elemento)\n",
    "\n",
    "    def extend(self, otra_lista):\n",
    "        for elemento in otra_lista:\n",
    "            try:\n",
    "                self.append(elemento)\n",
    "            except OverflowError:\n",
    "                return \n",
    "            except ValueError:\n",
    "                pass\n",
    "            except TypeError:\n",
    "                pass"
   ]
  },
  {
   "cell_type": "markdown",
   "id": "2f77b633-037f-4fb6-8948-5505c4e21d93",
   "metadata": {},
   "source": [
    "### Cambios Realizados:\n"
   ]
  },
  {
   "cell_type": "markdown",
   "id": "9bcc1ada",
   "metadata": {},
   "source": [
    "1. **Atributo para longitud de elementos:**\n",
    "   - Se ha añadido `max_element_length` como un parámetro en el constructor para representar la longitud máxima de los elementos.\n",
    "3. **Validaciones mejoradas:**\n",
    "   - Ahora, el código utiliza este nuevo atributo para validar la longitud de los elementos que se agregan.\n",
    "5. **Mensajes de error claros:**\n",
    "   - Se han adaptado los mensajes de error para que reflejen claramente los límites de los elementos y de la lista.\n",
    "\n",
    "Esto debería satisfacer lo que establecías en el diseño original, proporcionando de forma explícita las restricciones tanto para el tamaño de la lista como para la longitud de los elementos. ¡Gracias por tu paciencia y tu aclaración!"
   ]
  },
  {
   "cell_type": "markdown",
   "id": "ac5b9688-628a-40cd-ab74-06c06ad83b0b",
   "metadata": {},
   "source": [
    "Ahora como un experto en seguridad , verifica si el codigo estaria apto para sufrir ataques en produccion      "
   ]
  },
  {
   "cell_type": "markdown",
   "id": "9c97e949-ab17-4d4c-b43e-1fccf5f53f11",
   "metadata": {},
   "source": [
    "GPT : Como experto en seguridad, es importante revisar el código de la clase `Emilist` para identificar posibles vulnerabilidades, especialmente en contextos donde podría haber entradas no confiables o donde la clase podría ser utilizada en entornos críticos. Aquí hay algunas consideraciones que se deben tener en cuenta:"
   ]
  },
  {
   "cell_type": "markdown",
   "id": "07321b86-d4df-4ebd-9273-06c170e7aaaf",
   "metadata": {},
   "source": [
    "### 1. Manipulación de Tipos de Datos"
   ]
  },
  {
   "cell_type": "markdown",
   "id": "c51b1c1f-771a-44cb-a732-b8586e8df153",
   "metadata": {},
   "source": [
    "El código tiene verificaciones de tipo en el método `append`, lo cual es bueno, pero es recomendable asegurarse de que no se pueda evitar la verificación \n",
    "utilizando técnicas de manipulación de metaprogramación. Sin embargo, al ser una clase sencilla que no utiliza elementos avanzados de metaprogramación, es\n",
    "tá bastante segura en este aspecto."
   ]
  },
  {
   "cell_type": "markdown",
   "id": "94190101-3302-47df-91dc-00c458f5c04d",
   "metadata": {},
   "source": [
    "### 2. Validaciones de entrada"
   ]
  },
  {
   "cell_type": "markdown",
   "id": "6a01f96f-fab5-4afe-84af-af607fa55301",
   "metadata": {},
   "source": [
    "El método `append` está diseñado para validar la longitud de los elementos, pero puede haber entradas que podrían no ser seguras, como una cadena muy larga que podría causar problemas de rendimiento o memoria. Aunque el método está haciendo la verificación de longitud, siempre es mejor usar constantes delimitadas para evitar un posible desbordamiento (aunque en este caso es poco probable).\n",
    "\n",
    "Revisar cómo se maneja el almacenamiento de los elementos puede ser relevante en contextos donde no hay un límite definido. Es importante que cualquier operación en la lista sea limitada para evitar ataques de Denegación de Servicio (DoS) donde un atacante intente llenar la lista para agotar recursos."
   ]
  },
  {
   "cell_type": "markdown",
   "id": "0617675f-a51b-4f9a-9bc9-c21118db8573",
   "metadata": {},
   "source": [
    "### 3. Excepciones y gestión de errores"
   ]
  },
  {
   "cell_type": "markdown",
   "id": "9156a31f-7c08-41e2-8285-d223a3ff8674",
   "metadata": {},
   "source": [
    "El código lanza excepciones para manejar errores, lo cual es bueno, pero deberías tener cuidado de no revelar información demasiado detallada en un entorno de producción. \n",
    "Los mensajes de error que incluyen detalles de tipo de datos o longitudes pueden ser utilizados por un atacante para descubrir debilidades en la implementación. En un entorno de producción, considera registrar errores en lugar de mostrarlos directamente al usuario."
   ]
  },
  {
   "cell_type": "markdown",
   "id": "6d4a3c5e-3e40-48c6-89b9-1340685f209e",
   "metadata": {},
   "source": [
    "### 4. Posibilidad de inyecciones"
   ]
  },
  {
   "cell_type": "markdown",
   "id": "3281b199-9c0d-4be5-bea6-630e8b4949df",
   "metadata": {},
   "source": [
    "Si la clase `Emilist` se está utilizando en una aplicación web, por ejemplo, donde los usuarios pueden ingresar datos, debes asegurarte de que las entradas sean tratadas y sanitizadas adecuadamente para evitar inyecciones. Sin embargo, esta clase actualmente no ejecuta código o consultas, así que no hay una vulnerabilidad inmediata aquí en cuanto a inyecciones, pero es un buen recordatorio de la necesidad de validar y sanitizar entradas en el contexto general de la aplicación."
   ]
  },
  {
   "cell_type": "markdown",
   "id": "bb826b55-75a6-4809-a3f8-d14a9ea284e3",
   "metadata": {},
   "source": [
    "### 5. Concurrente Acceso"
   ]
  },
  {
   "cell_type": "markdown",
   "id": "c6ed2264-c2dd-439e-9959-9dd965205dbb",
   "metadata": {},
   "source": [
    "Si `Emilist` se está utilizando en un entorno multihilo (por ejemplo, en una aplicación que maneja múltiples solicitudes simultáneamente), debes tener encuenta que no existen mecanismos de bloqueo (locking) para garantizar la seguridad de los accesos concurrentes. Dos hilos podrían intentar modificar la lista al mismo tiempo, lo que podría causar condiciones de carrera o inconsistencias."
   ]
  },
  {
   "cell_type": "markdown",
   "id": "ce5b88e8-e866-42a4-afa7-6c43305ad759",
   "metadata": {},
   "source": [
    "### Recomendaciones de Seguridad"
   ]
  },
  {
   "cell_type": "markdown",
   "id": "a090f0e2-fea8-46d1-8f53-ea53766a79e8",
   "metadata": {},
   "source": [
    "- **Controlar la entrada:**\n",
    "    - Validar y sanitizar cualquier entrada recibida antes de ser procesada.\n",
    "- **Seguir prácticas de manejo de errores:**\n",
    "    - Evitar mostrar mensajes de error detallados que puedan ayudar a un atacante.\n",
    "- **Implementar límites:**\n",
    "    - Considerar establecer límites más restrictivos sobre las entradas y hacer uso de constantes fijas.\n",
    "- **Soporte concurrente:**\n",
    "    - Si se prevé que `Emilist` sea utilizado en un contexto de múltiples hilos, implementa mecanismos de bloqueo para proteger el acceso a la lista.\n",
    "- **Validaciones amplias:**\n",
    "    - Considerar la posible creación de un mecanismo de validación aún más robusto que detecte patrones maliciosos en las entradas, dependiendo del contexto de uso.\n",
    "\n",
    "> En resumen, la clase `Emilist`, tal como está, está bastante bien diseñada, pero sería prudente considerar tanto el contexto en el que se utiliza como las mejores prácticas de seguridad para cualquier implementación seria."
   ]
  },
  {
   "cell_type": "markdown",
   "id": "9a5e7e8c-7706-4066-bda8-e0becb6cacfa",
   "metadata": {},
   "source": [
    "Pruebas exploratorias de la nueva clase Emilist"
   ]
  },
  {
   "cell_type": "code",
   "execution_count": 22,
   "id": "ebea5934-653c-4109-8830-f90e1c255f40",
   "metadata": {},
   "outputs": [],
   "source": [
    "lista = Emilist(\"tareas\", size=3,max_element_length=10)"
   ]
  },
  {
   "cell_type": "code",
   "execution_count": 23,
   "id": "a9cd174c-664f-459b-8283-9513562c74ec",
   "metadata": {},
   "outputs": [
    {
     "data": {
      "text/plain": [
       "<Emilist tareas> 0 elementos: []"
      ]
     },
     "execution_count": 23,
     "metadata": {},
     "output_type": "execute_result"
    }
   ],
   "source": [
    "lista"
   ]
  },
  {
   "cell_type": "code",
   "execution_count": 24,
   "id": "43c60d45-8018-4a1e-aa78-d40d0c4dac0d",
   "metadata": {},
   "outputs": [
    {
     "name": "stdout",
     "output_type": "stream",
     "text": [
      "<class 'TypeError'> Emilist solo acepta strings y recibió un objeto tipo: <class 'int'>\n",
      "<class 'ValueError'> Emilist solo acepta strings de menos de 10 caracteres y recibió un str de 19 caracteres.\n"
     ]
    }
   ],
   "source": [
    "try:\n",
    "    lista.append(1)\n",
    "except Exception as e:\n",
    "    print (type(e),e)\n",
    "try:\n",
    "    lista.append(\"Agregando una tarea\")\n",
    "except Exception as e:\n",
    "    print (type(e),e)"
   ]
  },
  {
   "cell_type": "code",
   "execution_count": 25,
   "id": "e66e0382-f6e9-43cd-a496-5cf2c7e5ea6b",
   "metadata": {},
   "outputs": [
    {
     "name": "stdout",
     "output_type": "stream",
     "text": [
      "<class 'ValueError'> No se puede agregar un valor vacío.\n",
      "<class 'ValueError'> No se puede agregar un valor vacío.\n"
     ]
    }
   ],
   "source": [
    "try:\n",
    "    lista.append(\"\")\n",
    "except Exception as e:\n",
    "    print (type(e),e)\n",
    "try:\n",
    "    lista.append(None)\n",
    "except Exception as e:\n",
    "    print (type(e),e)"
   ]
  },
  {
   "cell_type": "code",
   "execution_count": 26,
   "id": "d41b55ca-2ecc-4293-864b-711dd9d6210d",
   "metadata": {},
   "outputs": [
    {
     "name": "stdout",
     "output_type": "stream",
     "text": [
      "tareas:\n",
      "\tdesayuno\n",
      "\talmuerzo\n",
      "\tcena\n",
      "\n"
     ]
    }
   ],
   "source": [
    "lista.append(\"desayuno\")\n",
    "lista.append(\"almuerzo\")\n",
    "lista.append(\"cena\")\n",
    "print(lista)\n"
   ]
  },
  {
   "cell_type": "code",
   "execution_count": 27,
   "id": "9615c335-00b1-4f3c-88a6-45c49e7026d1",
   "metadata": {},
   "outputs": [
    {
     "name": "stdout",
     "output_type": "stream",
     "text": [
      "<class 'OverflowError'> La lista está llena, no se puede agregar más elementos.\n"
     ]
    }
   ],
   "source": [
    "try:\n",
    "    lista.append(\"postre\")\n",
    "except Exception as e:\n",
    "    print(type(e),e)"
   ]
  },
  {
   "cell_type": "code",
   "execution_count": 28,
   "id": "d63b2870-b6c2-43aa-a84d-b1afc546c858",
   "metadata": {},
   "outputs": [
    {
     "name": "stdout",
     "output_type": "stream",
     "text": [
      "eliminamos la primer tarea : desayuno\n",
      "tareas:\n",
      "\talmuerzo\n",
      "\tcena\n",
      "\tpostre\n",
      "\n"
     ]
    }
   ],
   "source": [
    "try:    \n",
    "    lista.append(\"postre\")\n",
    "except OverflowError:\n",
    "    print(\"eliminamos la primer tarea :\", lista.pop(0))   \n",
    "    lista.append(\"postre\")\n",
    "finally:    \n",
    "    print(lista)"
   ]
  },
  {
   "cell_type": "code",
   "execution_count": 29,
   "id": "0e7e5932-af32-4265-9304-8972e2c96c97",
   "metadata": {},
   "outputs": [
    {
     "data": {
      "text/plain": [
       "<Emilist tareas> 3 elementos: ['almuerzo', 'cena', 'postre']"
      ]
     },
     "execution_count": 29,
     "metadata": {},
     "output_type": "execute_result"
    }
   ],
   "source": [
    "lista"
   ]
  },
  {
   "cell_type": "code",
   "execution_count": 31,
   "id": "5e1c563f-88f9-4e0e-bbcc-0e75cdee47c8",
   "metadata": {},
   "outputs": [
    {
     "name": "stdout",
     "output_type": "stream",
     "text": [
      "<class 'ValueError'> Elemento cafe no encontrado en la lista.\n"
     ]
    }
   ],
   "source": [
    "try:\n",
    "    lista.remove(\"cafe\")\n",
    "except Exception as e:\n",
    "    print (type(e),e)"
   ]
  },
  {
   "cell_type": "code",
   "execution_count": 32,
   "id": "754ae193-571e-4b4f-83fe-7767d14a3c8c",
   "metadata": {},
   "outputs": [
    {
     "data": {
      "text/plain": [
       "True"
      ]
     },
     "execution_count": 32,
     "metadata": {},
     "output_type": "execute_result"
    }
   ],
   "source": [
    "lista_numeros = Emilist(\"numeros\", size=10)\n",
    "lista_numeros.append(\"diez\")"
   ]
  },
  {
   "cell_type": "code",
   "execution_count": 33,
   "id": "307045f3-f457-4bb0-a15c-1df4d6b64d87",
   "metadata": {},
   "outputs": [
    {
     "data": {
      "text/plain": [
       "<Emilist numeros> 1 elementos: ['diez']"
      ]
     },
     "execution_count": 33,
     "metadata": {},
     "output_type": "execute_result"
    }
   ],
   "source": [
    "lista_numeros"
   ]
  },
  {
   "cell_type": "code",
   "execution_count": 34,
   "id": "63bc15d4-1741-40c6-b284-4d6c5d001dba",
   "metadata": {},
   "outputs": [],
   "source": [
    "lista_numeros.extend([\"uno\",\"dos\",1,0,\"15\",\"tres mil ochocientos cuarenta y cuatro\"])"
   ]
  },
  {
   "cell_type": "code",
   "execution_count": 35,
   "id": "b26fb062-2885-413c-8ba1-21a4694a385e",
   "metadata": {},
   "outputs": [
    {
     "data": {
      "text/plain": [
       "<Emilist numeros> 4 elementos: ['diez', 'uno', 'dos', '15']"
      ]
     },
     "execution_count": 35,
     "metadata": {},
     "output_type": "execute_result"
    }
   ],
   "source": [
    "lista_numeros"
   ]
  },
  {
   "cell_type": "markdown",
   "id": "30a9c2aa-b132-4063-aa3f-cd4de9f2f07c",
   "metadata": {},
   "source": [
    "## Prompt Test funcionales"
   ]
  },
  {
   "cell_type": "markdown",
   "id": "2ebaf55c-4bdd-4725-81a0-e9bf607afea3",
   "metadata": {},
   "source": [
    "Como Expertos en test de codigo, te voy a pasar un codigo python con pruebas exploratorias:\n",
    "```python\n",
    "class Emilist(list):\n",
    "    def __init__(self, nombre, size=20, max_element_length=20):\n",
    "        super().__init__()  # Inicializar la lista base\n",
    "        self.nombre = nombre\n",
    "        self.MAX_LEN = size  # Tamaño máximo de la lista\n",
    "        self.MAX_ELEMENT_LENGTH = max_element_length  # Tamaño máximo de cada elemento\n",
    "\n",
    "    def __repr__(self):\n",
    "        return f\"<{self.__class__.__name__} {self.nombre}> {len(self)} elementos: {super().__repr__()}\"\n",
    "\n",
    "    def __str__(self):\n",
    "        st = self.nombre + \":\\n\"\n",
    "        for elemento in self:\n",
    "            st += \"\\t\" + elemento + \"\\n\"\n",
    "        return st\n",
    "\n",
    "    def append(self, valor):\n",
    "        if len(self) >= self.MAX_LEN:\n",
    "            raise OverflowError(\"La lista está llena, no se puede agregar más elementos.\")\n",
    "        \n",
    "        if not valor:\n",
    "            raise ValueError(\"No se puede agregar un valor vacío.\")\n",
    "        \n",
    "        long=\"\"\n",
    "        if isinstance(valor, str) and 0 < ( long := len(valor) ) < self.MAX_ELEMENT_LENGTH:\n",
    "            super().append(valor);\n",
    "            return True\n",
    "        elif long:\n",
    "            raise ValueError(f\"Emilist solo acepta strings de menos de {self.MAX_ELEMENT_LENGTH} caracteres y recibió un str de {long} caracteres.\")\n",
    "        else:\n",
    "            raise TypeError(f\"Emilist solo acepta strings y recibió un objeto tipo: {type(valor)}\")\n",
    "\n",
    "    def remove(self, elemento):\n",
    "        if elemento not in self:\n",
    "            raise ValueError(f\"Elemento {elemento} no encontrado en la lista.\")\n",
    "        else:\n",
    "            super().remove(elemento)\n",
    "\n",
    "    def extend(self, otra_lista):\n",
    "        for elemento in otra_lista:\n",
    "            try:\n",
    "                self.append(elemento)\n",
    "            except OverflowError:\n",
    "                return \n",
    "            except ValueError:\n",
    "                pass\n",
    "            except TypeError:\n",
    "                pass\n",
    "\n",
    "if __name__== \"__main\"\":\n",
    "    lista = Emilist(\"tareas\", size=3,max_element_length=10)\n",
    "    try:\n",
    "        lista.append(1)\n",
    "    except Exception as e:\n",
    "        print (type(e),e)\n",
    "    try:\n",
    "        lista.append(\"Agregando una tarea\")\n",
    "    except Exception as e:\n",
    "        print (type(e),e)\n",
    "    lista.append(\"desayuno\")\n",
    "    lista.append(\"almuerzo\")\n",
    "    lista.append(\"cena\")\n",
    "    print(lista)\n",
    "    try:\n",
    "        lista.remove(\"cafe\")\n",
    "    except Exception as e:\n",
    "        print (type(e),e)\n",
    "\n",
    "    lista_numeros = Emilist(\"numeros\", size=10)\n",
    "    lista_numeros.append(\"diez\")\n",
    "    lista_numeros.extend([\"uno\",\"dos\",1,0,\"15\",\"tres mil ochocientos cuarenta y cuatro\"])\n",
    "    print(lista_numeros)\n",
    "\n",
    "```\n",
    "\n",
    "Genera test funcionales de cada caso y considera agregar mas segun tu experiencia teniendo en cuenta que esta clase hereda de list."
   ]
  },
  {
   "cell_type": "markdown",
   "id": "e18bba9a-aefc-4e37-9bd5-52a0e44204b6",
   "metadata": {},
   "source": [
    "GPT : A continuación, se presentan pruebas funcionales para la clase `Emilist`. Estas pruebas están organizadas en un conjunto de casos que cubren diversas funcionalidades de la clase, incluyendo los métodos `append`, `remove`, y `extend`.\n",
    "\n",
    "Para simplificar la ejecución y mantener la organización, podemos usar la biblioteca `unittest`, que es adecuada para crear y ejecutar pruebas de Python. \n",
    "También agregaré algunas pruebas adicionales que considero importantes."
   ]
  },
  {
   "cell_type": "markdown",
   "id": "f4873b0f-b698-472b-8a0a-bc0ac8dddb70",
   "metadata": {},
   "source": [
    "### Código de pruebas usando `unittest`"
   ]
  },
  {
   "cell_type": "code",
   "execution_count": 38,
   "id": "ac7448d7-671b-44c4-af8b-f92f43dc9e18",
   "metadata": {
    "jp-MarkdownHeadingCollapsed": true
   },
   "outputs": [
    {
     "name": "stderr",
     "output_type": "stream",
     "text": [
      "test_append_empty_string (__main__.TestEmilist) ... ok\n",
      "test_append_exceeding_length (__main__.TestEmilist) ... ok\n",
      "test_append_full_list (__main__.TestEmilist) ... ok\n",
      "test_append_non_string (__main__.TestEmilist) ... ERROR\n",
      "test_append_valid_string (__main__.TestEmilist) ... ok\n",
      "test_extend_with_exceeding_length_strings (__main__.TestEmilist) ... ok\n",
      "test_extend_with_mixed_items (__main__.TestEmilist) ... "
     ]
    },
    {
     "name": "stderr",
     "output_type": "stream",
     "text": [
      "ERROR\n",
      "test_extend_with_valid_items (__main__.TestEmilist) ... ok\n",
      "test_remove_element (__main__.TestEmilist) ... ok\n",
      "test_remove_non_existing_element (__main__.TestEmilist) ... ok\n",
      "test_repr (__main__.TestEmilist) ... ok\n",
      "test_str (__main__.TestEmilist) ... ok\n",
      "\n",
      "======================================================================\n",
      "ERROR: test_append_non_string (__main__.TestEmilist)\n",
      "----------------------------------------------------------------------\n",
      "Traceback (most recent call last):\n",
      "  File \"C:\\Users\\Usuario\\AppData\\Local\\Temp\\ipykernel_16108\\3819255255.py\", line 26, in test_append_non_string\n",
      "    self.lista_tareas.append(123)\n",
      "  File \"C:\\Users\\Usuario\\AppData\\Local\\Temp\\ipykernel_16108\\3376687909.py\", line 28, in append\n",
      "    elif long:\n",
      "UnboundLocalError: local variable 'long' referenced before assignment\n",
      "\n",
      "======================================================================\n",
      "ERROR: test_extend_with_mixed_items (__main__.TestEmilist)\n",
      "----------------------------------------------------------------------\n",
      "Traceback (most recent call last):\n",
      "  File \"C:\\Users\\Usuario\\AppData\\Local\\Temp\\ipykernel_16108\\3819255255.py\", line 54, in test_extend_with_mixed_items\n",
      "    self.lista_numeros.extend([\"uno\", \"dos\", 1, 0, \"quince\"])\n",
      "  File \"C:\\Users\\Usuario\\AppData\\Local\\Temp\\ipykernel_16108\\3376687909.py\", line 42, in extend\n",
      "    self.append(elemento)\n",
      "  File \"C:\\Users\\Usuario\\AppData\\Local\\Temp\\ipykernel_16108\\3376687909.py\", line 28, in append\n",
      "    elif long:\n",
      "UnboundLocalError: local variable 'long' referenced before assignment\n",
      "\n",
      "----------------------------------------------------------------------\n",
      "Ran 12 tests in 0.823s\n",
      "\n",
      "FAILED (errors=2)\n"
     ]
    }
   ],
   "source": [
    "import unittest\n",
    "\n",
    "class TestEmilist(unittest.TestCase):\n",
    "\n",
    "    def setUp(self):\n",
    "        \"\"\"Crea una Emilist antes de cada prueba.\"\"\"\n",
    "        self.lista_tareas = Emilist(\"tareas\", size=3, max_element_length=10)\n",
    "        self.lista_numeros = Emilist(\"numeros\", size=10)\n",
    "\n",
    "    def test_append_valid_string(self):\n",
    "        self.lista_tareas.append(\"tarea1\")\n",
    "        self.assertIn(\"tarea1\", self.lista_tareas)\n",
    "\n",
    "    def test_append_exceeding_length(self):\n",
    "        with self.assertRaises(ValueError) as context:\n",
    "            self.lista_tareas.append(\"tarea demasiado larga\")\n",
    "        self.assertEqual(str(context.exception), \"Emilist solo acepta strings de menos de 10 caracteres y recibió un str de 21 caracteres.\")\n",
    "\n",
    "    def test_append_empty_string(self):\n",
    "        with self.assertRaises(ValueError) as context:\n",
    "            self.lista_tareas.append(\"\")\n",
    "        self.assertEqual(str(context.exception), \"No se puede agregar un valor vacío.\")\n",
    "\n",
    "    def test_append_non_string(self):\n",
    "        with self.assertRaises(TypeError) as context:\n",
    "            self.lista_tareas.append(123)\n",
    "        self.assertEqual(str(context.exception), \"Emilist solo acepta strings y recibió un objeto tipo: <class 'int'>\")\n",
    "\n",
    "    def test_append_full_list(self):\n",
    "        self.lista_tareas.append(\"tarea1\")\n",
    "        self.lista_tareas.append(\"tarea2\")\n",
    "        self.lista_tareas.append(\"tarea3\")\n",
    "        with self.assertRaises(OverflowError) as context:\n",
    "            self.lista_tareas.append(\"tarea4\")\n",
    "        self.assertEqual(str(context.exception), \"La lista está llena, no se puede agregar más elementos.\")\n",
    "\n",
    "    def test_remove_element(self):\n",
    "        self.lista_tareas.append(\"tarea1\")\n",
    "        self.lista_tareas.remove(\"tarea1\")\n",
    "        self.assertNotIn(\"tarea1\", self.lista_tareas)\n",
    "\n",
    "    def test_remove_non_existing_element(self):\n",
    "        with self.assertRaises(ValueError) as context:\n",
    "            self.lista_tareas.remove(\"tarea1\")\n",
    "        self.assertEqual(str(context.exception), \"Elemento tarea1 no encontrado en la lista.\")\n",
    "\n",
    "    def test_extend_with_valid_items(self):\n",
    "        self.lista_numeros.extend([\"uno\", \"dos\", \"tres\"])\n",
    "        self.assertIn(\"uno\", self.lista_numeros)\n",
    "        self.assertIn(\"dos\", self.lista_numeros)\n",
    "        self.assertIn(\"tres\", self.lista_numeros)\n",
    "\n",
    "    def test_extend_with_mixed_items(self):\n",
    "        self.lista_numeros.extend([\"uno\", \"dos\", 1, 0, \"quince\"])\n",
    "        self.assertIn(\"uno\", self.lista_numeros)\n",
    "        self.assertIn(\"dos\", self.lista_numeros)\n",
    "        self.assertIn(\"quince\", self.lista_numeros)\n",
    "        self.assertNotIn(1, self.lista_numeros, \"No se deben permitir enteros.\")\n",
    "        self.assertNotIn(0, self.lista_numeros, \"No se deben permitir enteros.\")\n",
    "\n",
    "    def test_extend_with_exceeding_length_strings(self):\n",
    "        self.lista_numeros.extend([\"uno\", \"dos\", \"string muy larga que no cabrá\"])\n",
    "        self.assertIn(\"uno\", self.lista_numeros)\n",
    "        self.assertIn(\"dos\", self.lista_numeros)\n",
    "\n",
    "    def test_repr(self):\n",
    "        self.lista_tareas.append(\"tarea1\")\n",
    "        self.assertEqual(repr(self.lista_tareas), \"<Emilist tareas> 1 elementos: ['tarea1']\")\n",
    "\n",
    "    def test_str(self):\n",
    "        self.lista_tareas.append(\"tarea1\")\n",
    "        expected_str = \"tareas:\\n\\ttarea1\\n\"\n",
    "        self.assertEqual(str(self.lista_tareas), expected_str)\n",
    "\n",
    "if __name__ == '__main__':\n",
    "    unittest.main(argv=[''], verbosity=2, exit=False)"
   ]
  },
  {
   "cell_type": "markdown",
   "id": "7add2662-f454-42dc-8919-f9ca043203fb",
   "metadata": {
    "jp-MarkdownHeadingCollapsed": true
   },
   "source": [
    "### Detalle de los Casos de Prueba\n"
   ]
  },
  {
   "cell_type": "markdown",
   "id": "93633f93",
   "metadata": {},
   "source": [
    "\n",
    "1. **`test_append_valid_string`**:\n",
    "   - Verifica que se pueda agregar una cadena válida a la lista.\n",
    "3. **`test_append_exceeding_length`**:\n",
    "   - Comprueba que se lance una excepción cuando se intenta agregar una cadena que supera la longitud máxima permitida.\n",
    "5. **`test_append_empty_string`**:\n",
    "   - Asegura que no se puede agregar una cadena vacía.\n",
    "7. **`test_append_non_string`**:\n",
    "   - Verifica que se genere una excepción al intentar agregar un tipo diferente de datos que no es una cadena.\n",
    "9. **`test_append_full_list`**:\n",
    "   - Comprueba que se lance un `OverflowError` al intentar agregar un elemento a una lista ya llena.\n",
    "11. **`test_remove_element`**:\n",
    "    - Verifica que se pueda eliminar un elemento efectivamente.\n",
    "13. **`test_remove_non_existing_element`**:\n",
    "    - Asegura que se lanza una excepción para intentar eliminar un elemento que no existe.\n",
    "15. **`test_extend_with_valid_items`**:\n",
    "    - Verifica que se puedan agregar varios elementos válidos.\n",
    "17. **`test_extend_with_mixed_items`**:\n",
    "    - Asegura que solo se agreguen cadenas y no enteros.\n",
    "19. **`test_extend_with_exceeding_length_strings`**:\n",
    "    - Comprueba que no se persigan cadenas que excedan la longitud permitida.\n",
    "21. **`test_repr`**:\n",
    "    - Verifica la representación de la clase.\n",
    "23. **`test_str`**:\n",
    "    - Comprobación de la representación de cadena de la lista."
   ]
  },
  {
   "cell_type": "markdown",
   "id": "b9a93aae-6f8d-4fdc-9aab-1d5a9773d5e8",
   "metadata": {},
   "source": [
    "### Notas Adicionales"
   ]
  },
  {
   "cell_type": "markdown",
   "id": "45e03640-4c06-498e-a45d-a82b94c12dce",
   "metadata": {
    "jp-MarkdownHeadingCollapsed": true
   },
   "source": [
    "- Considera la posibilidad de agregar otros métodos de prueba como desafíos de rendimiento (por ejemplo, añadir muchos elementos) o pruebas de concurrencia si planeas utilizar `Emilist` en entornos multihilo.\n",
    "- Adaptar el tamaño máximo de la lista y la longitud máxima de los elementos en las pruebas para asegurarte de que se cubran todos los casos, en función del comportamiento esperado.\n",
    "\n",
    "Estas pruebas deberían brindarte una buena cobertura y ayudar a garantizar que la clase `Emilist` funcione correctamente y de manera segura en múltiples aspectos."
   ]
  }
 ],
 "metadata": {
  "kernelspec": {
   "display_name": "py_global",
   "language": "python",
   "name": "py_global"
  },
  "language_info": {
   "codemirror_mode": {
    "name": "ipython",
    "version": 3
   },
   "file_extension": ".py",
   "mimetype": "text/x-python",
   "name": "python",
   "nbconvert_exporter": "python",
   "pygments_lexer": "ipython3",
   "version": "3.10.4"
  }
 },
 "nbformat": 4,
 "nbformat_minor": 5
}
