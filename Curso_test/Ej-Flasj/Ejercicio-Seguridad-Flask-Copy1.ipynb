{
 "cells": [
  {
   "cell_type": "markdown",
   "id": "4bf405bd-c85a-4eda-b03e-204cca0d990b",
   "metadata": {},
   "source": [
    "Eres experto en seguridad web y en la creación de endpoints de API. Con el siguiente código, es probable que existan muchas vulnerabilidades. ¿Podrías crear casos de prueba que las evalúen?\n",
    "\n",
    "```python\n",
    "from flask import Flask, request, jsonify\n",
    "from flask_sqlalchemy import SQLAlchemy\n",
    "import threading\n",
    "\n",
    "app = Flask(__name__)\n",
    "app.config['SQLALCHEMY_DATABASE_URI'] = 'sqlite:///users.db'\n",
    "app.config['SQLALCHEMY_TRACK_MODIFICATIONS'] = False\n",
    "db = SQLAlchemy(app)\n",
    "\n",
    "class User(db.Model):\n",
    "    id = db.Column(db.Integer, primary_key=True)\n",
    "    username = db.Column(db.String(80), unique=True, nullable=False)\n",
    "    password = db.Column(db.String(120), nullable=False)\n",
    "\n",
    "with app.app_context():\n",
    "  db.create_all()\n",
    "\n",
    "@app.route('/')\n",
    "def home():\n",
    "    return \"Welcome to the Security Testing Demo!\"\n",
    "\n",
    "@app.route('/users', methods=['GET'])\n",
    "def get_users():\n",
    "    users = User.query.all()\n",
    "    return jsonify([{\"id\": user.id, \"username\": user.username, \"password\": user.password} for user in users])\n",
    "\n",
    "@app.route('/user/<int:id>', methods=['GET'])\n",
    "def get_user(id):\n",
    "    user = User.query.get(id)\n",
    "    if user:\n",
    "        return jsonify({\"id\": user.id, \"username\": user.username, \"password\": user.password})\n",
    "    return jsonify({\"message\": \"User not found\"}), 404\n",
    "\n",
    "@app.route('/user', methods=['POST'])\n",
    "def add_user():\n",
    "    data = request.get_json()\n",
    "    new_user = User(username=data['username'], password=data['password'])\n",
    "    db.session.add(new_user)\n",
    "    db.session.commit()\n",
    "    return jsonify({\"message\": \"User added successfully\"}), 201\n",
    "\n",
    "@app.route('/user/<int:id>', methods=['PUT'])\n",
    "def update_user(id):\n",
    "    data = request.get_json()\n",
    "    user = User.query.get(id)\n",
    "    if user:\n",
    "        user.username = data['username']\n",
    "        user.password = data['password']\n",
    "        db.session.commit()\n",
    "        return jsonify({\"message\": \"User updated successfully\"})\n",
    "    return jsonify({\"message\": \"User not found\"}), 404\n",
    "\n",
    "@app.route('/user/<int:id>', methods=['DELETE'])\n",
    "def delete_user(id):\n",
    "    user = User.query.get(id)\n",
    "    if user:\n",
    "        db.session.delete(user)\n",
    "        db.session.commit()\n",
    "        return jsonify({\"message\": \"User deleted successfully\"})\n",
    "    return jsonify({\"message\": \"User not found\"}), 404\n",
    "```"
   ]
  },
  {
   "cell_type": "markdown",
   "id": "4337f5a3-6c0d-4561-b911-544e094f2e34",
   "metadata": {},
   "source": [
    "El código que proporcionaste presenta varias vulnerabilidades y áreas de mejora en términos de seguridad. Analizaremos cada endpoint y generaremos casos de prueba para evaluar estas vulnerabilidades. Aquí están algunos de los problemas de seguridad más notables:\n",
    "\n",
    "1. **Exposición de contraseñas**: En los endpoints `get_users` y `get_user`, las contraseñas se devuelven a través de la API, lo que es un grave problema de seguridad.\n",
    "2. **Inyección SQL**: Aunque SQLAlchemy ayuda a mitigar esto, la forma en que se gestionan los datos del usuario podría ser vulnerable si se implementan prácticas inadecuadas más adelante.\n",
    "3. **Falta de validación de entrada**: No hay ninguna validación para los datos que se reciben en el endpoint `add_user` y `update_user`.\n",
    "4. **Falta de autenticación/ autorización**: No hay ningún mecanismo para restringir quién puede acceder a estos endpoints.\n",
    "5. **Exposición del método DELETE**: No hay ningún control para prevenir la eliminación accidental o maliciosa de usuarios.\n",
    "\n",
    "A continuación se presentan algunos casos de prueba diseñados para evaluar estas vulnerabilidades:"
   ]
  },
  {
   "cell_type": "markdown",
   "id": "5a999393-2bf5-4085-bed0-2c12156b0a70",
   "metadata": {},
   "source": [
    "### 1. Exposición de contraseñas"
   ]
  },
  {
   "cell_type": "markdown",
   "id": "a91a8967-ea57-46c3-9627-72bba35e18b8",
   "metadata": {},
   "source": [
    "**Caso de prueba**: Asegurarse de que la contraseña no se devuelva en las respuestas de la API.\n",
    "\n",
    "- **Input**: Realizar una petición GET a `/users` y `/user/<id>`.\n",
    "- **Expected Output**: La propiedad `password` no debe estar presente en la respuesta JSON."
   ]
  },
  {
   "cell_type": "markdown",
   "id": "7d738927-7c24-448c-a06d-1a1f7971ad92",
   "metadata": {},
   "source": [
    "### 2. Inyección de SQL"
   ]
  },
  {
   "cell_type": "markdown",
   "id": "b9d29e17-dd56-49a5-a41a-737ce40484da",
   "metadata": {},
   "source": [
    "**Caso de prueba**: Verificar que la API no sea vulnerable a inyecciones SQL.\n",
    "\n",
    "- **Input**: Enviar un JSON con `username` y `password` como parámetros en `POST /user`, usando `{\"username\": \"test; DROP TABLE users; --\", \"password\": \"test\"}`.\n",
    "- **Expected Output**: La tabla de usuarios no debe ser eliminada y el servidor debe manejar la consulta sin errores."
   ]
  },
  {
   "cell_type": "markdown",
   "id": "8a0f9009-9f01-499d-a084-9eb53b508c83",
   "metadata": {},
   "source": [
    "### 3. Validación de entrada"
   ]
  },
  {
   "cell_type": "markdown",
   "id": "6b45f40b-7514-4a81-8864-8ef2952753d8",
   "metadata": {},
   "source": [
    "**Caso de prueba**: Probar la validación de entrada en los endpoints de creación y actualización.\n",
    "\n",
    "- **Input**: Realizar un POST a `/user` con datos incompletos, como `{\"username\": \"test\"}` (sin contraseña).\n",
    "- **Expected Output**: Respuesta de error 400 con un mensaje que indique que faltan campos necesarios.\n",
    "\n",
    "- **Input**: Enviar un `PUT` a `/user/<id>` con datos no válidos, como `{\"username\": 12345, \"password\": \"\"}`.\n",
    "- **Expected Output**: Respuesta de error 400, mostrando que los datos son inválidos."
   ]
  },
  {
   "cell_type": "markdown",
   "id": "b46cf817-f771-426b-83c5-3a3995d482fb",
   "metadata": {},
   "source": [
    "### 4. Control de acceso"
   ]
  },
  {
   "cell_type": "markdown",
   "id": "1957bf95-dc17-40b3-be5c-c24a7363b7d8",
   "metadata": {},
   "source": [
    "**Caso de prueba**: Verificar que no todos los usuarios puedan acceder a los endpoints.\n",
    "\n",
    "- **Input**: Intentar acceder a los endpoints `/users`, `/user`, `/user/<id>` sin autenticación (puedes simular diferentes usuarios).\n",
    "- **Expected Output**: Respuestas de error 401 o 403, dependiendo de cómo se maneje la autenticación."
   ]
  },
  {
   "cell_type": "markdown",
   "id": "001c30cf-76c1-41fe-988a-032dd315f797",
   "metadata": {},
   "source": [
    "### 5. Protección contra eliminaciones no deseadas"
   ]
  },
  {
   "cell_type": "markdown",
   "id": "92918f0d-1312-45d4-bf2e-2db041caf0de",
   "metadata": {},
   "source": [
    "**Caso de prueba**: Intentar eliminar un usuario que no existe o sin autorización.\n",
    "\n",
    "- **Input**: Hacer un `DELETE` a `/user/<id>` con un `id` que no existe.\n",
    "- **Expected Output**: Respuesta JSON con mensaje de \"User not found\" y estado 404.\n",
    "\n",
    "- **Input**: Hacer un `DELETE` a `/user/<id>` sin autenticación.\n",
    "- **Expected Output**: Respuesta de error 401 o 403."
   ]
  },
  {
   "cell_type": "markdown",
   "id": "93feef0d-58b5-4d82-a2cc-fa8e4b8a160d",
   "metadata": {},
   "source": [
    "### Resumen de pruebas"
   ]
  },
  {
   "cell_type": "markdown",
   "id": "5d7a54e8-a1c1-4eb6-a6de-4361065ea38e",
   "metadata": {},
   "source": [
    "Estos son solo algunos de los casos de prueba que se pueden implementar para evaluar la seguridad de tu API. Debes considerar implementar medidas de seguridad adicionales, como autenticación y autorización, hashing de contraseñas (ej. bcrypt), validación de entrada más estricta, y sanitización de salidas para mitigar los riesgos identificados. Además, considerar la implementación de herramientas de análisis de vulnerabilidades y pruebas de penetración puede ser útil en tu proceso de desarrollo."
   ]
  },
  {
   "cell_type": "code",
   "execution_count": null,
   "id": "70939024-156e-49d3-a273-b48da50f2bc3",
   "metadata": {},
   "outputs": [],
   "source": []
  },
  {
   "cell_type": "code",
   "execution_count": 1,
   "id": "c37edadf-3020-4228-8508-7c7866b7db43",
   "metadata": {},
   "outputs": [],
   "source": [
    "from flask import Flask, request, jsonify\n",
    "from flask_sqlalchemy import SQLAlchemy\n",
    "import threading\n",
    "\n",
    "app = Flask(__name__)\n",
    "app.config['SQLALCHEMY_DATABASE_URI'] = 'sqlite:///users.db'\n",
    "app.config['SQLALCHEMY_TRACK_MODIFICATIONS'] = False\n",
    "db = SQLAlchemy(app)\n",
    "\n",
    "class User(db.Model):\n",
    "    id = db.Column(db.Integer, primary_key=True)\n",
    "    username = db.Column(db.String(80), unique=True, nullable=False)\n",
    "    password = db.Column(db.String(120), nullable=False)\n",
    "\n",
    "with app.app_context():\n",
    "  db.create_all()\n",
    "\n",
    "@app.route('/')\n",
    "def home():\n",
    "    return \"Welcome to the Security Testing Demo!\"\n",
    "\n",
    "@app.route('/users', methods=['GET'])\n",
    "def get_users():\n",
    "    users = User.query.all()\n",
    "    return jsonify([{\"id\": user.id, \"username\": user.username, \"password\": user.password} for user in users])\n",
    "\n",
    "@app.route('/user/<int:id>', methods=['GET'])\n",
    "def get_user(id):\n",
    "    user = User.query.get(id)\n",
    "    if user:\n",
    "        return jsonify({\"id\": user.id, \"username\": user.username, \"password\": user.password})\n",
    "    return jsonify({\"message\": \"User not found\"}), 404\n",
    "\n",
    "@app.route('/user', methods=['POST'])\n",
    "def add_user():\n",
    "    data = request.get_json()\n",
    "    new_user = User(username=data['username'], password=data['password'])\n",
    "    db.session.add(new_user)\n",
    "    db.session.commit()\n",
    "    return jsonify({\"message\": \"User added successfully\"}), 201\n",
    "\n",
    "@app.route('/user/<int:id>', methods=['PUT'])\n",
    "def update_user(id):\n",
    "    data = request.get_json()\n",
    "    user = User.query.get(id)\n",
    "    if user:\n",
    "        user.username = data['username']\n",
    "        user.password = data['password']\n",
    "        db.session.commit()\n",
    "        return jsonify({\"message\": \"User updated successfully\"})\n",
    "    return jsonify({\"message\": \"User not found\"}), 404\n",
    "\n",
    "@app.route('/user/<int:id>', methods=['DELETE'])\n",
    "def delete_user(id):\n",
    "    user = User.query.get(id)\n",
    "    if user:\n",
    "        db.session.delete(user)\n",
    "        db.session.commit()\n",
    "        return jsonify({\"message\": \"User deleted successfully\"})\n",
    "    return jsonify({\"message\": \"User not found\"}), 404"
   ]
  },
  {
   "cell_type": "code",
   "execution_count": null,
   "id": "931b7fbe-82a7-46a6-b1ad-b489fd6f02d0",
   "metadata": {},
   "outputs": [
    {
     "name": "stdout",
     "output_type": "stream",
     "text": [
      " * Serving Flask app '__main__'\n",
      " * Debug mode: off\n"
     ]
    },
    {
     "name": "stderr",
     "output_type": "stream",
     "text": [
      "WARNING: This is a development server. Do not use it in a production deployment. Use a production WSGI server instead.\n",
      " * Running on all addresses (0.0.0.0)\n",
      " * Running on http://127.0.0.1:5000\n",
      " * Running on http://192.168.0.5:5000\n",
      "Press CTRL+C to quit\n"
     ]
    }
   ],
   "source": [
    "# Para que funcione en Jupyter o Colab, use esta línea en lugar del app.run habitual\n",
    "threading.Thread(target=app.run, kwargs={'host':'0.0.0.0','port':5000, \"debug\": False}).start()"
   ]
  },
  {
   "cell_type": "code",
   "execution_count": 3,
   "id": "166c9a57-0586-411c-8f72-8f9e584a9071",
   "metadata": {},
   "outputs": [],
   "source": [
    "import unittest\n",
    "import requests"
   ]
  },
  {
   "cell_type": "code",
   "execution_count": 5,
   "id": "5093a661-c031-4188-ae5c-29a51ae915b4",
   "metadata": {},
   "outputs": [],
   "source": [
    "BASE_URL=\"http://127.0.0.1:5000\""
   ]
  },
  {
   "cell_type": "code",
   "execution_count": 6,
   "id": "595478d4-9190-47c7-9766-0571eb276a4a",
   "metadata": {},
   "outputs": [
    {
     "name": "stderr",
     "output_type": "stream",
     "text": [
      "test_sql_injection (__main__.FlaskAppTestCase) ... 127.0.0.1 - - [07/Apr/2025 11:33:54] \"POST /user HTTP/1.1\" 201 -\n",
      "FAIL\n",
      "\n",
      "======================================================================\n",
      "FAIL: test_sql_injection (__main__.FlaskAppTestCase)\n",
      "----------------------------------------------------------------------\n",
      "Traceback (most recent call last):\n",
      "  File \"C:\\Users\\Usuario\\AppData\\Local\\Temp\\ipykernel_7536\\898591648.py\", line 6, in test_sql_injection\n",
      "    self.assertNotEqual(response.status_code, 201, \"SQL Injection vulnerability detected\")\n",
      "AssertionError: 201 == 201 : SQL Injection vulnerability detected\n",
      "\n",
      "----------------------------------------------------------------------\n",
      "Ran 1 test in 0.155s\n",
      "\n",
      "FAILED (failures=1)\n",
      "sys:1: ResourceWarning: Unclosed socket <zmq.Socket(zmq.PUSH) at 0x146d5f25780>\n",
      "ResourceWarning: Enable tracemalloc to get the object allocation traceback\n"
     ]
    }
   ],
   "source": [
    "class FlaskAppTestCase(unittest.TestCase):\n",
    "\n",
    "    def test_sql_injection(self):\n",
    "        payload = {\"username\": \"testuser'; DROP TABLE users; --\", \"password\": \"testpass\"}\n",
    "        response = requests.post(f\"{BASE_URL}/user\", json=payload)\n",
    "        self.assertNotEqual(response.status_code, 201, \"SQL Injection vulnerability detected\")\n",
    "\n",
    "if __name__ == '__main__':\n",
    "    unittest.main(argv=[''], verbosity=2, exit=False)"
   ]
  },
  {
   "cell_type": "markdown",
   "id": "3fa0130b-0047-4c4a-936d-2df0684d3ab7",
   "metadata": {},
   "source": [
    "Cree el siguiente test:\n",
    "\n",
    "```python\n",
    "import unittest\n",
    "import requests\n",
    "BASE_URL=\"http://127.0.0.1:5000\"\n",
    "\n",
    "class FlaskAppTestCase(unittest.TestCase):\n",
    "\n",
    "    def test_sql_injection(self):\n",
    "        payload = {\"username\": \"testuser'; DROP TABLE users; --\", \"password\": \"testpass\"}\n",
    "        response = requests.post(f\"{BASE_URL}/user\", json=payload)\n",
    "        self.assertNotEqual(response.status_code, 201, \"SQL Injection vulnerability detected\")\n",
    "\n",
    "if __name__ == '__main__':\n",
    "    unittest.main(argv=[''], verbosity=2, exit=False)\n",
    "```\n",
    "y obtuve el siguente error:\n",
    "\n",
    "```bash\n",
    "test_sql_injection (__main__.FlaskAppTestCase) ... 127.0.0.1 - - [13/Mar/2025 18:35:55] \"POST /user HTTP/1.1\" 201 -\n",
    "FAIL\n",
    "\n",
    "======================================================================\n",
    "FAIL: test_sql_injection (__main__.FlaskAppTestCase)\n",
    "----------------------------------------------------------------------\n",
    "Traceback (most recent call last):\n",
    "  File \"C:\\Users\\Usuario\\AppData\\Local\\Temp\\ipykernel_12792\\898591648.py\", line 6, in test_sql_injection\n",
    "    self.assertNotEqual(response.status_code, 201, \"SQL Injection vulnerability detected\")\n",
    "AssertionError: 201 == 201 : SQL Injection vulnerability detected\n",
    "\n",
    "----------------------------------------------------------------------\n",
    "Ran 1 test in 0.102s\n",
    "\n",
    "FAILED (failures=1)\n",
    "```"
   ]
  },
  {
   "cell_type": "markdown",
   "id": "b6912263-592a-4466-baa0-2f755ddd73aa",
   "metadata": {},
   "source": [
    "El error que estás experimentando indica que tu prueba está fallando porque el servidor está permitiendo que se ejecute una inyección SQL. En este caso, el servidor devolvió un estado 201 para la creación del usuario, lo que significa que se creó un nuevo registro en la base de datos, lo cual es una indicación de que hay una vulnerabilidad de inyección SQL.\n",
    "\n",
    "Aquí hay algunas sugerencias para manejar este problema y mejorar tu test:\n",
    "\n",
    "### 1. Mejora del test:\n",
    "Asegúrate de que tu test esté diseñado para evaluar correctamente la creación de un usuario y la vulnerabilidad de inyección SQL. Un método apropiado sería intentar crear un usuario con un payload que intente inyectar SQL y verificar si la tabla `users` sigue existiendo después del test.\n",
    "\n",
    "### 2. Verificación después de la inyección\n",
    "Podrías implementar una verificación que compruebe que la tabla `users` no ha sido eliminada tras el intento de inyección:\n",
    "\n",
    "```python\n",
    "import unittest\n",
    "import requests\n",
    "from sqlalchemy import create_engine\n",
    "from sqlalchemy.orm import sessionmaker\n",
    "\n",
    "BASE_URL = \"http://127.0.0.1:5000\"\n",
    "DATABASE_URL = \"sqlite:///users.db\"  # Debes usar el mismo URI de la base\n",
    "\n",
    "class FlaskAppTestCase(unittest.TestCase):\n",
    "    \n",
    "    @classmethod\n",
    "    def setUpClass(cls):\n",
    "        # Conexión a la base de datos\n",
    "        cls.engine = create_engine(DATABASE_URL)\n",
    "        cls.Session = sessionmaker(bind=cls.engine)\n",
    "    \n",
    "    def test_sql_injection(self):\n",
    "        payload = {\"username\": \"testuser'; DROP TABLE users; --\", \"password\": \"testpass\"}\n",
    "        response = requests.post(f\"{BASE_URL}/user\", json=payload)\n",
    "        \n",
    "        self.assertNotEqual(response.status_code, 201, \"SQL Injection vulnerability detected\")\n",
    "        \n",
    "        # Verificar si la tabla 'users' aún existe\n",
    "        session = self.Session()\n",
    "        result = session.execute(\"SELECT name FROM sqlite_master WHERE type='table' AND name='users';\").fetchall()\n",
    "        session.close()\n",
    "        \n",
    "        self.assertEqual(len(result), 1, \"The 'users' table should still exist after SQL injection attempt\")\n",
    "\n",
    "if __name__ == '__main__':\n",
    "    unittest.main(argv=[''], verbosity=2, exit=False)\n",
    "```\n",
    "\n",
    "### Explicación del código:\n",
    "- En `setUpClass`, se configura una conexión a la base de datos para poder hacer consultas directas a la misma.\n",
    "- En `test_sql_injection`, además de verificar que el `POST` no genera un estado 201 (lo que indicaría que se creó el usuario), se ejecuta una consulta SQL para asegurar que la tabla `users` sigue existiendo después del intento de inyección.\n",
    "\n",
    "### Nota de seguridad:\n",
    "Si bien el uso de SQLAlchemy proporciona una capa de seguridad contra inyecciones SQL, es importante tener otras medidas de seguridad y validaciones en su lugar, tales como validaciones de entrada, autenticación, etc., como se mencionó en respuestas anteriores. Además de realizar pruebas, es aconsejable realizar auditorías de seguridad y seguir las mejores prácticas en el desarrollo web seguro."
   ]
  },
  {
   "cell_type": "markdown",
   "id": "5bd235aa-c5df-475b-b12d-54563e411824",
   "metadata": {},
   "source": [
    "## Solución:"
   ]
  },
  {
   "cell_type": "markdown",
   "id": "057a4eb1-5ef7-4b10-87e6-2653df391606",
   "metadata": {},
   "source": [
    "- Usar bcrypt para encriptar contraseñas.\n",
    "- Nunca guardes contraseñas en texto plano.\n",
    "- Escapar entradas de usuario. SQLAlchemy ya previene inyecciones si se usa correctamente, pero es bueno validar y sanitizar datos.\n",
    "Restringir caracteres peligrosos.\n",
    "- Evitar que los nombres de usuario contengan caracteres que podrían usarse en una inyección.\n",
    "\n",
    "Aquí está la versión mejorada de tu código:\n",
    "\n",
    "```python\n",
    "from flask import Flask, request, jsonify\n",
    "from flask_sqlalchemy import SQLAlchemy\n",
    "from werkzeug.security import generate_password_hash, check_password_hash\n",
    "\n",
    "app = Flask(__name__)\n",
    "app.config['SQLALCHEMY_DATABASE_URI'] = 'sqlite:///users.db'\n",
    "app.config['SQLALCHEMY_TRACK_MODIFICATIONS'] = False\n",
    "db = SQLAlchemy(app)\n",
    "\n",
    "class User(db.Model):\n",
    "    id = db.Column(db.Integer, primary_key=True)\n",
    "    username = db.Column(db.String(80), unique=True, nullable=False)\n",
    "    password = db.Column(db.String(256), nullable=False)  # Aumentamos el tamaño para bcrypt\n",
    "\n",
    "with app.app_context():\n",
    "    db.create_all()\n",
    "\n",
    "@app.route('/user', methods=['POST'])\n",
    "def add_user():\n",
    "    data = request.get_json()\n",
    "\n",
    "    # Validar username (no permitir caracteres sospechosos)\n",
    "    if \"'\" in data['username'] or \";\" in data['username'] or \"--\" in data['username']:\n",
    "        return jsonify({\"message\": \"Invalid characters in username\"}), 400\n",
    "\n",
    "    # Encriptar contraseña antes de almacenarla\n",
    "    hashed_password = generate_password_hash(data['password'])\n",
    "    \n",
    "    new_user = User(username=data['username'], password=hashed_password)\n",
    "    db.session.add(new_user)\n",
    "    db.session.commit()\n",
    "    \n",
    "    return jsonify({\"message\": \"User added successfully\"}), 201\n",
    "\n",
    "@app.route('/user/<int:id>', methods=['GET'])\n",
    "def get_user(id):\n",
    "    user = User.query.get(id)\n",
    "    if user:\n",
    "        return jsonify({\"id\": user.id, \"username\": user.username})  # Eliminamos password en la respuesta\n",
    "    return jsonify({\"message\": \"User not found\"}), 404\n",
    "```"
   ]
  },
  {
   "cell_type": "markdown",
   "id": "0700bbae-e6ef-45ee-8c9c-d8ff63ceb5c8",
   "metadata": {},
   "source": [
    "### Mejoras aplicadas\n",
    "\n",
    "- ✅ Protección contra SQL Injection: SQLAlchemy ya maneja las consultas de forma segura, pero evitamos inyecciones en username.\n",
    "- ✅ Encriptación de contraseñas: Ahora las contraseñas se almacenan con generate_password_hash.\n",
    "- ✅ No devolvemos contraseñas en las respuestas de la API."
   ]
  }
 ],
 "metadata": {
  "kernelspec": {
   "display_name": "py_global",
   "language": "python",
   "name": "py_global"
  },
  "language_info": {
   "codemirror_mode": {
    "name": "ipython",
    "version": 3
   },
   "file_extension": ".py",
   "mimetype": "text/x-python",
   "name": "python",
   "nbconvert_exporter": "python",
   "pygments_lexer": "ipython3",
   "version": "3.10.4"
  }
 },
 "nbformat": 4,
 "nbformat_minor": 5
}
