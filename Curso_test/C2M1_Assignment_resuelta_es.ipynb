{
 "cells": [
  {
   "cell_type": "markdown",
   "metadata": {
    "id": "YfknStK6Y1QM"
   },
   "source": [
    "# Tarea 1 - Identificar y corregir errores en el código utilizando un LLM\n",
    "\n",
    "Bienvenido a la primera tarea en el curso de Inteligencia Artificial Generativa para Desarrollo de Software - Ingeniería de Software en Equipo. En esta tarea, verás varios fragmentos de código que contienen errores o problemas. Tu tarea es identificar y corregir estos errores. Si bien podría ser posible depurar cada problema por ti mismo, descubrirás que usar un modelo de lenguaje grande te ayudará a abordar estos desafíos de manera más eficiente, e incluso podría ofrecerte soluciones que no habías considerado. Este enfoque no solo mejora tus habilidades de depuración, sino que también te introduce en las aplicaciones prácticas de los LLM en el desarrollo de software. Prepárate para mejorar tus habilidades para resolver problemas y sumergirte en el mundo de la corrección de código con la ayuda de un asistente de IA a tu lado.\n"
   ]
  },
  {
   "cell_type": "markdown",
   "metadata": {},
   "source": [
    "## 1 - Instrucciones\n",
    "\n",
    "Para cada ejercicio, se te proporcionará una función/clase que se supone que funciona correctamente, excepto por el último ejercicio, que se discutirá en su momento. Sin embargo, cada función contendrá un error o inconsistencia. Tu tarea es escribir una nueva función que realice la misma tarea que la original pero con todos los errores o problemas identificados resueltos. Puedes pedirle a un LLM que construya pruebas unitarias para ti o incluso pedirle que te ayude a resolver el ejercicio, ¡depende de ti! Recuerda que también puedes usar el archivo `unittests.py` para depurar lo que está sucediendo e incluso pedirle a un LLM que te ayude en esta tarea.\n",
    "\n",
    "Cada ejercicio viene con un conjunto de restricciones a las que debes adherirte. No seguir estas pautas resultará en no aprobar el ejercicio respectivo.\n",
    "\n",
    "El formato es el siguiente:\n",
    "\n",
    "La función o clase que requiere corrección se llamará, por ejemplo, `funcion_1`. Debes escribir su versión mejorada en el bloque de solución designado, nombrándola `funcion_1_corregida`. **NO** alteres los parámetros o el nombre de la función, ya que hacerlo romperá el autograder, lo que resultará en un fallo en el ejercicio.\n",
    "\n",
    "**INSTRUCCIONES FINALES**\n",
    "\n",
    "- Si tienes dudas, puedes indicarle al LLM cómo ejecutar tus casos de prueba.\n",
    "- Si te encuentras con errores en tiempo de ejecución, puedes indicarle al LLM cómo corregir los errores.\n",
    "- Si estás fallando en las pruebas unitarias, puedes abrir el archivo unittests.py y pedirle a un LLM que te explique las pruebas que se están realizando.\n",
    "\n",
    "**NOTAS IMPORTANTES SOBRE EL SISTEMA DE AUTOCALIFICACIÓN**\n",
    "\n",
    "- Las celdas calificadas están etiquetadas, lo que significa que el autocalificador las busca específicamente al calificar. Por lo tanto, **no elimines estas celdas ni agregues tu solución en otra celda**, ya que esto causará un mal funcionamiento del autocalificador. Si eliminas accidentalmente una celda o encuentras algún problema inusual con el autocalificador, por favor [actualiza tu espacio de trabajo](https://www.coursera.org/learn/team-software-engineering-with-ai/supplement/qEB8o/optional-downloading-your-notebook-and-refreshing-your-workspace) para obtener una nueva copia de la tarea y coloca tu solución en las celdas de solución designadas.\n",
    "- El autocalificador **no tiene acceso** a la biblioteca de **unittests**, así que **evita importarla o usar funciones de unittest dentro de una celda calificada**, ya que esto interrumpirá la funcionalidad del autocalificador.\n",
    "- Si enfrentas desafíos o tienes preguntas sobre esta tarea, ¡no dudes en [unirte a nuestra comunidad](https://www.coursera.org/teach/team-software-engineering-with-ai/k6snBDf0Ee-9Ig7qA4dB5w/content/item/supplement/8E5g9) y buscar ayuda de nuestros mentores!\n"
   ]
  },
  {
   "cell_type": "code",
   "execution_count": 1,
   "metadata": {},
   "outputs": [],
   "source": [
    "import unittests"
   ]
  },
  {
   "cell_type": "markdown",
   "metadata": {
    "id": "8s_Bm9ZPbNwj"
   },
   "source": [
    "### Ejercicio 1 - Verificar si una oración es un palíndromo\n",
    "\n",
    "Tu tarea en este ejercicio es depurar y corregir la función dada que verifica si una oración es un palíndromo.\n",
    "\n",
    "**Restricciones**: Se **prohíbe** el uso de bibliotecas externas.\n"
   ]
  },
  {
   "cell_type": "code",
   "execution_count": 2,
   "metadata": {
    "id": "lcFebKlCawf_"
   },
   "outputs": [],
   "source": [
    "def is_palindrome(sentence):\n",
    "    # Compare characters from both ends\n",
    "    left, right = 0, len(sentence)-1\n",
    "    while left <= right:\n",
    "        if sentence[left] != sentence[right]:\n",
    "            return False\n",
    "        left += 1\n",
    "        right -= 1\n",
    "    return True"
   ]
  },
  {
   "cell_type": "code",
   "execution_count": 3,
   "metadata": {
    "colab": {
     "base_uri": "https://localhost:8080/"
    },
    "id": "q9UZKfMSh6Fv",
    "outputId": "948c73f7-503b-432e-8e29-a231c95f9da2",
    "tags": [
     "graded"
    ]
   },
   "outputs": [],
   "source": [
    "# Exercise block. Do not change the function input parameters.\n",
    "\n",
    "def is_palindrome_fixed(sentence):\n",
    "    sentence = ''.join(char.lower() for char in sentence if char.isalnum())\n",
    "    return sentence.lower() == sentence[::-1].lower()"
   ]
  },
  {
   "cell_type": "code",
   "execution_count": 4,
   "metadata": {},
   "outputs": [
    {
     "name": "stdout",
     "output_type": "stream",
     "text": [
      "\u001b[92m All tests passed!\n"
     ]
    }
   ],
   "source": [
    "unittests.test_is_palindrome_fixed(is_palindrome_fixed)"
   ]
  },
  {
   "cell_type": "markdown",
   "metadata": {
    "id": "z2qbEBCedkPn"
   },
   "source": [
    "### Ejercicio 2 - Implementación del algoritmo de Dijkstra\n",
    "\n",
    "Este ejercicio implica depurar una función que implementa el algoritmo de Dijkstra para calcular la ruta más corta desde el nodo 0 hasta cada otro nodo en un grafo y produce un diccionario con cada nodo y su distancia desde 0, así como un booleano que indica si todos los nodos son alcanzables o no. La función lee un archivo `graph.json` desde el directorio local para obtener el grafo, el cual **no** se proporciona. Se espera que el grafo conste exactamente de `20` nodos.\n",
    "\n",
    "**Instrucciones**:\n",
    "- La salida de la función debe permanecer consistente, manteniendo el mismo orden.\n",
    "\n",
    "**Restricciones**:\n",
    "- Solo se pueden utilizar las bibliotecas que ya están importadas en el bloque de ejercicio.\n",
    "\n",
    "**Pistas**:\n",
    "- Existe una función auxiliar para deserializar un `graph.json`. Puedes solicitar a un LLM que describa la estructura del grafo en el archivo .json, asegurando que pueda ser cargado correctamente por esta función, y que genere algunos archivos de ejemplo para realizar pruebas.\n",
    "- Conocer la estructura del grafo te permite pedir a un LLM que cree algunos grafos que se ajusten a esta estructura, lo que te permitirá probar tu código con varios grafos.\n",
    "- Antes de identificar posibles errores, considera pedir a un LLM que explique el funcionamiento de la función.\n"
   ]
  },
  {
   "cell_type": "code",
   "execution_count": 5,
   "metadata": {},
   "outputs": [],
   "source": [
    "from collections import defaultdict\n",
    "import json\n",
    "## Helper function - Do NOT edit or overwrite it in the solution block.\n",
    "\n",
    "# Deserialize graph from JSON\n",
    "# The graph has 20 nodes, numbered 0-19\n",
    "def deserialize_graph(filename):\n",
    "    with open(filename, 'r') as f:\n",
    "        data = json.load(f)\n",
    "    return defaultdict(list, {int(k): v for k, v in data.items()})"
   ]
  },
  {
   "cell_type": "code",
   "execution_count": 6,
   "metadata": {
    "colab": {
     "base_uri": "https://localhost:8080/"
    },
    "id": "r--D9XYydjwE",
    "outputId": "e64cda2e-05d4-476a-b599-39671032adcb"
   },
   "outputs": [],
   "source": [
    "import heapq\n",
    "\n",
    "def dijkstra(graph, start):\n",
    "    distances = {node: float('infinity') for node in range(20)}\n",
    "    distances[start] = 0\n",
    "    pq = [(0, start)]\n",
    "    visited = set()\n",
    "\n",
    "    while pq:\n",
    "        current_distance, current_node = heapq.heappop(pq)\n",
    "\n",
    "        if current_node in visited:\n",
    "            continue\n",
    "\n",
    "        visited.add(current_node)\n",
    "\n",
    "        for neighbor, weight in graph[current_node]:\n",
    "            distance = current_distance + weight\n",
    "            if distance < distances[neighbor]:\n",
    "                distances[neighbor] = distance\n",
    "                heapq.heappush(pq, (distance, neighbor))\n",
    "    all_nodes_visited = len(distances) == 20\n",
    "    \n",
    "    return distances, all_nodes_visited"
   ]
  },
  {
   "cell_type": "code",
   "execution_count": 7,
   "metadata": {
    "colab": {
     "base_uri": "https://localhost:8080/"
    },
    "id": "Y-Lr9GwWmYsh",
    "outputId": "777cba5b-ce35-4af2-ff98-0e4c17ac34c7",
    "tags": [
     "graded"
    ]
   },
   "outputs": [],
   "source": [
    "# Exercise block. Do not add or remove any library and do not add/remove any argument in the function.\n",
    "import heapq\n",
    "\n",
    "def dijkstra_fixed(graph, start):\n",
    "    if start not in graph:\n",
    "        raise ValueError(\"The start node does not exist in the graph\")\n",
    "\n",
    "    # Crear distancias dinámicamente según los nodos en el grafo\n",
    "    distances = {node: float('inf') for node in graph}\n",
    "    distances[start] = 0\n",
    "    pq = [(0, start)]\n",
    "    visited = set()\n",
    "\n",
    "    while pq:\n",
    "        current_distance, current_node = heapq.heappop(pq)\n",
    "\n",
    "        if current_node in visited:\n",
    "            continue\n",
    "\n",
    "        visited.add(current_node)\n",
    "\n",
    "        for neighbor, weight in graph.get(current_node, []):\n",
    "            distance = current_distance + weight\n",
    "            if distance < distances[neighbor]:\n",
    "                distances[neighbor] = distance\n",
    "                heapq.heappush(pq, (distance, neighbor))\n",
    "\n",
    "    # Comprobar si todos los nodos alcanzables han sido visitados\n",
    "    all_nodes_visited = len(visited) == len(graph)\n",
    "\n",
    "    return distances, all_nodes_visited"
   ]
  },
  {
   "cell_type": "code",
   "execution_count": 8,
   "metadata": {},
   "outputs": [
    {
     "name": "stdout",
     "output_type": "stream",
     "text": [
      "\u001b[92m All tests passed!\n"
     ]
    }
   ],
   "source": [
    "unittests.test_dijkstra_fixed(dijkstra_fixed)"
   ]
  },
  {
   "cell_type": "markdown",
   "metadata": {
    "id": "LBAGRh1QnF29"
   },
   "source": [
    "### Ejercicio 3 - Depuración de una Implementación de Pila\n",
    "\n",
    "En este ejercicio, se te proporciona una implementación de pila que alberga una inconsistencia. Tu tarea es identificar y corregir esta inconsistencia. Es crucial que esta pila funcione de manera similar a una lista de Python. Por lo tanto, si hay un método común tanto a la pila como a una lista de Python, deberían operar de manera idéntica. Esta información es clave para identificar la inconsistencia.\n",
    "\n",
    "**Instrucciones**: Asegúrate de que la clase corregida incluya todos los métodos encontrados en la clase original con errores, abordando la inconsistencia.\n",
    "\n",
    "**Restricciones**: No se te permite importar ninguna biblioteca.\n",
    "\n",
    "**Sugerencias**:\n",
    "- Considera pedirle a un LLM una explicación detallada de cómo funciona esta pila y el propósito previsto de sus métodos.\n",
    "- También podrías solicitar casos de ejemplo a un LLM para comprender y probar mejor la funcionalidad de la pila.\n"
   ]
  },
  {
   "cell_type": "code",
   "execution_count": 9,
   "metadata": {},
   "outputs": [],
   "source": [
    "class Stack:\n",
    "    def __init__(self):\n",
    "        self.items = []\n",
    "\n",
    "    def push(self, item):\n",
    "        self.items.append(item)\n",
    "\n",
    "    def pop(self):\n",
    "        if self.items:\n",
    "            return self.items.pop()\n",
    "        else:\n",
    "            return None  \n",
    "\n",
    "    def peek(self):\n",
    "        if self.items:\n",
    "            return self.items[-1]\n",
    "        else:\n",
    "            return None  \n",
    "\n",
    "    def is_empty(self):\n",
    "        return len(self.items) == 0\n",
    "\n",
    "    def size(self):\n",
    "        return len(self.items)"
   ]
  },
  {
   "cell_type": "code",
   "execution_count": 10,
   "metadata": {
    "id": "lEjXlLg9lYEU",
    "tags": [
     "graded"
    ]
   },
   "outputs": [],
   "source": [
    "# Exercise block. Do not change any method/constructor call from the original class.\n",
    "class StackFixed:\n",
    "    def __init__(self):\n",
    "        self.items = []\n",
    "\n",
    "    def push(self, item):\n",
    "        self.items.append(item)\n",
    "\n",
    "    def pop(self):\n",
    "        if not self.is_empty():\n",
    "            return self.items.pop()\n",
    "        else:\n",
    "            raise IndexError(\"pop from empty stack\")\n",
    "\n",
    "    def peek(self):\n",
    "        if not self.is_empty():\n",
    "            return self.items[-1]\n",
    "        else:\n",
    "            raise IndexError(\"peek from empty stack\")\n",
    "\n",
    "    def is_empty(self):\n",
    "        return not self.items\n",
    "\n",
    "    def size(self):\n",
    "        return len(self.items)\n"
   ]
  },
  {
   "cell_type": "code",
   "execution_count": 11,
   "metadata": {},
   "outputs": [
    {
     "name": "stdout",
     "output_type": "stream",
     "text": [
      "\u001b[92m All tests passed!\n"
     ]
    }
   ],
   "source": [
    "unittests.test_StackFixed(StackFixed)"
   ]
  },
  {
   "cell_type": "markdown",
   "metadata": {
    "id": "iGU_mvSK7JE2"
   },
   "source": [
    "### Ejercicio 4 - Lista Enlazada con errores\n",
    "\n",
    "En este ejercicio, se proporciona una clase `Node` y una clase `Doubly Linked List`. Debes encontrar el error en un método de la clase `Doubly Linked List` y corregirlo. La clase `Node` está corregida y **no debes** editarla.\n",
    "\n",
    "**Instrucciones**: La clase corregida debe tener todos los métodos que tiene la clase con errores, pero con el error corregido.\n",
    "\n",
    "**Restricciones**: No se puede importar ninguna librería.\n",
    "\n",
    "**Pistas**:\n",
    "- Puedes pedirle a un LLM que te explique las clases.\n",
    "- También puedes pedirle a un LLM que te haga algunos casos de ejemplo.\n"
   ]
  },
  {
   "cell_type": "code",
   "execution_count": 12,
   "metadata": {
    "tags": [
     "graded"
    ]
   },
   "outputs": [],
   "source": [
    "## Do NOT modify this class.\n",
    "class Node:\n",
    "\tdef __init__(self, data):\n",
    "\t\tself.data = data\n",
    "\t\tself.prev = None\n",
    "\t\tself.next = None"
   ]
  },
  {
   "cell_type": "code",
   "execution_count": 13,
   "metadata": {
    "id": "Tfe2Ztiu7IVO"
   },
   "outputs": [],
   "source": [
    "class DoublyLinkedList:\n",
    "\tdef __init__(self):\n",
    "\t\tself.head = None\n",
    "\t\tself.tail = None\n",
    "\n",
    "\tdef add_node(self, data):\n",
    "\t\tnew_node = Node(data)\n",
    "\t\tif not self.head:\n",
    "\t\t\tself.head = new_node\n",
    "\t\t\tself.tail = new_node\n",
    "\t\telse:\n",
    "\t\t\tself.tail.next = new_node\n",
    "\t\t\tnew_node.prev = self.tail\n",
    "\t\t\tself.tail = new_node\n",
    "\t\treturn new_node\n",
    "\n",
    "\tdef link_nodes(self, node1, node2):\n",
    "\t\tnode1.next = node2\n",
    "\t\tnode2.prev = node1\n",
    "\n",
    "\tdef traverse(self):\n",
    "\t\tvisited = []\n",
    "\t\tcurrent = self.head\n",
    "\t\twhile current:\n",
    "\t\t\tvisited.append(current)\n",
    "\t\t\tcurrent = current.next\n",
    "\t\treturn visited"
   ]
  },
  {
   "cell_type": "code",
   "execution_count": 14,
   "metadata": {
    "tags": [
     "graded"
    ]
   },
   "outputs": [],
   "source": [
    "# Graded block. Do not change the input of any method/constructor already implemented.\n",
    "\n",
    "class DoublyLinkedListFixed:\n",
    "    def __init__(self):\n",
    "        self.head = None\n",
    "        self.tail = None\n",
    "\n",
    "    def add_node(self, data):\n",
    "        new_node = Node(data)\n",
    "        if not self.head:\n",
    "            self.head = new_node\n",
    "            self.tail = new_node\n",
    "        else:\n",
    "            self.tail.next = new_node\n",
    "            new_node.prev = self.tail\n",
    "            self.tail = new_node\n",
    "        return new_node\n",
    "\n",
    "    def link_nodes(self, node1, node2):\n",
    "        node1.next = node2\n",
    "        node2.prev = node1\n",
    "\n",
    "    def traverse(self):\n",
    "        visited = []\n",
    "        current = self.head\n",
    "        if current:  # Asegurarse de que la lista no esté vacía\n",
    "            visited.append(current)  # Agregar el primer nodo\n",
    "            current = current.next\n",
    "            while current and current != self.tail:  # Evitar el ciclo infinito\n",
    "                visited.append(current)\n",
    "                current = current.next\n",
    "            else:\n",
    "                visited.append(current)\n",
    "                \n",
    "        return visited"
   ]
  },
  {
   "cell_type": "code",
   "execution_count": 15,
   "metadata": {},
   "outputs": [
    {
     "name": "stdout",
     "output_type": "stream",
     "text": [
      "\u001b[92m All tests passed!\n"
     ]
    }
   ],
   "source": [
    "unittests.test_DoublyLinkedListFixed(DoublyLinkedListFixed)"
   ]
  },
  {
   "cell_type": "markdown",
   "metadata": {},
   "source": [
    "¡Felicidades! Has completado la primera tarea en el curso de Ingeniería de Software en Equipo de IA Generativa para Desarrollo de Software. ¡Sigue con el buen trabajo!\n"
   ]
  }
 ],
 "metadata": {
  "colab": {
   "provenance": []
  },
  "grader_version": "1",
  "kernelspec": {
   "display_name": "Python 3 (ipykernel)",
   "language": "python",
   "name": "python3"
  },
  "language_info": {
   "codemirror_mode": {
    "name": "ipython",
    "version": 3
   },
   "file_extension": ".py",
   "mimetype": "text/x-python",
   "name": "python",
   "nbconvert_exporter": "python",
   "pygments_lexer": "ipython3",
   "version": "3.10.4"
  }
 },
 "nbformat": 4,
 "nbformat_minor": 4
}
