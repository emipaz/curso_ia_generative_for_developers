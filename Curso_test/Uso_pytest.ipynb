{
 "cells": [
  {
   "cell_type": "markdown",
   "id": "befb884a-49de-4905-93db-ef70053afe6c",
   "metadata": {},
   "source": [
    "# Pytest"
   ]
  },
  {
   "cell_type": "markdown",
   "id": "e8dc4ba4-ebef-400d-a737-2e372179d63f",
   "metadata": {},
   "source": [
    "## Instalación"
   ]
  },
  {
   "cell_type": "markdown",
   "id": "2367eb17-16c7-4739-9589-20e8864bd291",
   "metadata": {},
   "source": [
    "Primero, necesitas instalar `pytest`. Puedes hacerlo usando `pip`. Abre tu terminal y ejecuta:\n",
    "\n",
    "```bash\n",
    "pip install pytest\n",
    "```"
   ]
  },
  {
   "cell_type": "markdown",
   "id": "e547b892-8f8a-4679-af05-8c76ba883687",
   "metadata": {},
   "source": [
    "## Estructura de tu proyecto"
   ]
  },
  {
   "cell_type": "markdown",
   "id": "4ef640c8-0cc0-452b-988c-2efa6407b8dd",
   "metadata": {},
   "source": [
    "Crea una estructura de directorios como esta:\n",
    "\n",
    "```\n",
    "mi_proyecto/\n",
    "│\n",
    "├── mi_modulo.py\n",
    "└── test_mi_modulo.py\n",
    "```\n",
    "\n",
    "Donde `mi_modulo.py` es el archivo que contiene el código que deseas probar y `test_mi_modulo.py` es donde escribirás tus pruebas."
   ]
  },
  {
   "cell_type": "markdown",
   "id": "c5b7b449-73e0-495b-a77b-3614e13a2eff",
   "metadata": {},
   "source": [
    "### Escribir pruebas"
   ]
  },
  {
   "cell_type": "markdown",
   "id": "39325afd-1e41-4ae2-98a6-290645a562f3",
   "metadata": {},
   "source": [
    "En `test_mi_modulo.py`, escribe tus pruebas. A continuación, un ejemplo básico:\n",
    "\n",
    "```python\n",
    "# test_mi_modulo.py\n",
    "\n",
    "from mi_modulo import mi_funcion\n",
    "\n",
    "def test_mi_funcion():\n",
    "    assert mi_funcion(2) == 4  # Suponiendo que la función multiplica por 2\n",
    "```"
   ]
  },
  {
   "cell_type": "markdown",
   "id": "a91258ca-9793-4e95-8f82-19a48f809791",
   "metadata": {},
   "source": [
    "Las funciones de prueba deben comenzar con `test_`, y dentro de ellas, puedes usar `assert` para comprobar resultados."
   ]
  },
  {
   "cell_type": "markdown",
   "id": "958c014b-0b0c-4a08-8b7b-e588465fa7f4",
   "metadata": {},
   "source": [
    "### Ejecutar pruebas"
   ]
  },
  {
   "cell_type": "markdown",
   "id": "ec776a3b-fdac-4699-854f-ff72061aa8d1",
   "metadata": {},
   "source": [
    "Después de haber escrito tus pruebas, puedes ejecutarlas desde la terminal. Navega a la carpeta del proyecto y ejecuta el siguiente comando:\n",
    "\n",
    "```bash\n",
    "pytest\n",
    "```\n",
    "\n",
    "`pytest` buscará automáticamente archivos que comiencen con `test_` y ejecutará todas las funciones que comiencen con `test_`."
   ]
  },
  {
   "cell_type": "markdown",
   "id": "6b8ebec0-d836-4e1d-821b-8918ba013b19",
   "metadata": {},
   "source": [
    "### Ver resultados"
   ]
  },
  {
   "cell_type": "markdown",
   "id": "65b99321-94b6-48e4-b1e1-022976ee8119",
   "metadata": {},
   "source": [
    "Al ejecutar `pytest`, verás un informe en la terminal que te indicará cuántas pruebas fueron exitosas y cuántas fallaron. Si alguna prueba falla, `pytest` mostrará información sobre el error, lo que te ayudará a depurar tu código."
   ]
  },
  {
   "cell_type": "markdown",
   "id": "eb415958-4284-4c7d-987f-0ee2a61d92b8",
   "metadata": {},
   "source": [
    "### Recursos adicionales\n",
    "\n",
    "A medida que te familiarices con `pytest`, puedes explorar características más avanzadas como fixtures, pruebas parametrizadas y plugins. La [documentación oficial](https://docs.pytest.org/en/stable/) es un excelente recurso para aprender más.\n",
    "\n",
    "¡Y eso es todo! Con estos pasos, ya puedes empezar a escribir y ejecutar pruebas con `pytest`."
   ]
  },
  {
   "cell_type": "markdown",
   "id": "368d71da-7e11-45a0-9763-cc301d5e10e1",
   "metadata": {},
   "source": [
    "Eres experto en PyTest para pruebas automatizadas de código Python. Por favor, modifica este código con un conjunto completo de pruebas en PyTest para detectar errores u otros problemas\n",
    "```python\n",
    "class Emilist(list):\n",
    "    def __init__(self, nombre, size=20, max_element_length=20):\n",
    "        super().__init__()  # Inicializar la lista base\n",
    "        self.nombre = nombre\n",
    "        self.MAX_LEN = size  # Tamaño máximo de la lista\n",
    "        self.MAX_ELEMENT_LENGTH = max_element_length  # Tamaño máximo de cada elemento\n",
    "\n",
    "    def __repr__(self):\n",
    "        return f\"<{self.__class__.__name__} {self.nombre}> {len(self)} elementos: {super().__repr__()}\"\n",
    "\n",
    "    def __str__(self):\n",
    "        st = self.nombre + \":\\n\"\n",
    "        for elemento in self:\n",
    "            st += \"\\t\" + elemento + \"\\n\"\n",
    "        return st\n",
    "\n",
    "    def append(self, valor):\n",
    "        if len(self) >= self.MAX_LEN:\n",
    "            raise OverflowError(\"La lista está llena, no se puede agregar más elementos.\")\n",
    "\n",
    "        if not valor:\n",
    "            raise ValueError(\"No se puede agregar un valor vacío.\")\n",
    "\n",
    "        long=\"\"\n",
    "        if isinstance(valor, str) and 0 < ( long := len(valor) ) < self.MAX_ELEMENT_LENGTH:\n",
    "            super().append(valor);\n",
    "            return True\n",
    "        elif long:\n",
    "            raise ValueError(f\"Emilist solo acepta strings de menos de {self.MAX_ELEMENT_LENGTH} caracteres y recibió un str de {long} caracteres.\")\n",
    "        else:\n",
    "            raise TypeError(f\"Emilist solo acepta strings y recibió un objeto tipo: {type(valor)}\")\n",
    "\n",
    "    def remove(self, elemento):\n",
    "        if elemento not in self:\n",
    "            raise ValueError(f\"Elemento {elemento} no encontrado en la lista.\")\n",
    "        else:\n",
    "            super().remove(elemento)\n",
    "\n",
    "    def extend(self, otra_lista):\n",
    "        for elemento in otra_lista:\n",
    "            try:\n",
    "                self.append(elemento)\n",
    "            except OverflowError:\n",
    "                return\n",
    "            except ValueError:\n",
    "                pass\n",
    "            except TypeError:\n",
    "                pass\n",
    "\n",
    "if __name__== \"__main\"\":\n",
    "    lista = Emilist(\"tareas\", size=3,max_element_length=10)\n",
    "    try:\n",
    "        lista.append(1)\n",
    "    except Exception as e:\n",
    "        print (type(e),e)\n",
    "    try:\n",
    "        lista.append(\"Agregando una tarea\")\n",
    "    except Exception as e:\n",
    "        print (type(e),e)\n",
    "    lista.append(\"desayuno\")\n",
    "    lista.append(\"almuerzo\")\n",
    "    lista.append(\"cena\")\n",
    "    print(lista)\n",
    "    try:\n",
    "        lista.remove(\"cafe\")\n",
    "    except Exception as e:\n",
    "        print (type(e),e)\n",
    "\n",
    "    lista_numeros = Emilist(\"numeros\", size=10)\n",
    "    lista_numeros.append(\"diez\")\n",
    "    lista_numeros.extend([\"uno\",\"dos\",1,0,\"15\",\"tres mil ochocientos cuarenta y cuatro\"])\n",
    "    print(lista_numeros)\n",
    "\n",
    "```\n",
    "\n",
    "GPT : Claro, aquí tienes ejemplos de pruebas para tu clase `Emilist` utilizando `pytest`. Estas pruebas cubren los casos que ya tienes en el código de pruebas exploratorias y también verifican el comportamiento esperado ante escenarios específicos. \n",
    "\n",
    "Puedes crear un archivo llamado `test_emilist.py` y agregar el siguiente contenido:"
   ]
  },
  {
   "cell_type": "code",
   "execution_count": 1,
   "id": "f97f8c72-7ec7-4190-aa04-0877f9231dbe",
   "metadata": {},
   "outputs": [
    {
     "name": "stdout",
     "output_type": "stream",
     "text": [
      "Overwriting test_emilist.py\n"
     ]
    }
   ],
   "source": [
    "%%writefile test_emilist.py\n",
    "import pytest\n",
    "from emilist import Emilist  # Asegúrate de que la clase Emilist esté en el archivo emilist.py\n",
    "\n",
    "def test_initialization():\n",
    "    emilist = Emilist(\"tareas\", size=5, max_element_length=10)\n",
    "    assert emilist.nombre == \"tareas\"\n",
    "    assert emilist.MAX_LEN == 5\n",
    "    assert emilist.MAX_ELEMENT_LENGTH == 10\n",
    "    assert len(emilist) == 0\n",
    "\n",
    "def test_append_valid_string():\n",
    "    emilist = Emilist(\"tareas\")\n",
    "    assert len(emilist) == 0\n",
    "    emilist.append(\"tarea 1\")\n",
    "    assert len(emilist) == 1\n",
    "    assert \"tarea 1\" in emilist\n",
    "\n",
    "def test_append_full_list():\n",
    "    emilist = Emilist(\"tareas\", size=2)\n",
    "    emilist.append(\"tarea 1\")\n",
    "    emilist.append(\"tarea 2\")\n",
    "    with pytest.raises(OverflowError):\n",
    "        emilist.append(\"tarea 3\")\n",
    "\n",
    "def test_append_empty_value():\n",
    "    emilist = Emilist(\"tareas\")\n",
    "    with pytest.raises(ValueError, match=\"No se puede agregar un valor vacío.\"):\n",
    "        emilist.append(\"\")\n",
    "\n",
    "def test_append_non_string_value():\n",
    "    emilist = Emilist(\"tareas\")\n",
    "    with pytest.raises(TypeError, match=\"Emilist solo acepta strings y recibió un objeto tipo: <class 'int'>\"):\n",
    "        emilist.append(123)\n",
    "\n",
    "def test_append_string_too_long():\n",
    "    emilist = Emilist(\"tareas\", max_element_length=5)\n",
    "    with pytest.raises(ValueError, match=\"Emilist solo acepta strings de menos de 5 caracteres y recibió un str de 12 caracteres.\"):\n",
    "        emilist.append(\"tarea demasiado larga\")\n",
    "\n",
    "def test_remove_existing_element():\n",
    "    emilist = Emilist(\"tareas\")\n",
    "    emilist.append(\"tarea 1\")\n",
    "    emilist.remove(\"tarea 1\")\n",
    "    assert len(emilist) == 0\n",
    "\n",
    "def test_remove_non_existing_element():\n",
    "    emilist = Emilist(\"tareas\")\n",
    "    emilist.append(\"tarea 1\")\n",
    "    with pytest.raises(ValueError, match=\"Elemento cafe no encontrado en la lista.\"):\n",
    "        emilist.remove(\"cafe\")\n",
    "\n",
    "def test_extend_with_valid_elements():\n",
    "    emilist = Emilist(\"tareas\", size=5)\n",
    "    emilist.extend([\"tarea 1\", \"tarea 2\"])\n",
    "    assert len(emilist) == 2\n",
    "    assert \"tarea 1\" in emilist\n",
    "    assert \"tarea 2\" in emilist\n",
    "\n",
    "def test_extend_with_oversized_elements():\n",
    "    emilist = Emilist(\"tareas\", size=2)\n",
    "    emilist.append(\"tarea 1\")\n",
    "    emilist.extend([\"tarea 2\", \"tarea 3\"])\n",
    "    assert len(emilist) == 2  # No debe permitir agregar \"tarea 3\"\n",
    "\n",
    "def test_extend_with_non_string_elements():\n",
    "    emilist = Emilist(\"tareas\")\n",
    "    emilist.extend([1, 2, \"tarea válida\"])\n",
    "    assert len(emilist) == 1  # Solo debe agregar \"tarea válida\"\n",
    "\n",
    "def test_repr_method():\n",
    "    emilist = Emilist(\"tareas\")\n",
    "    emilist.append(\"tarea 1\")\n",
    "    assert repr(emilist) == \"<Emilist tareas> 1 elementos: ['tarea 1']\"\n",
    "\n",
    "def test_str_method():\n",
    "    emilist = Emilist(\"tareas\")\n",
    "    emilist.append(\"tarea 1\")\n",
    "    expected_str = \"tareas:\\n\\ttarea 1\\n\"\n",
    "    assert str(emilist) == expected_str\n",
    "\n",
    "if __name__ == \"__main__\":\n",
    "    pytest.main()"
   ]
  },
  {
   "cell_type": "markdown",
   "id": "7361d07f-77c3-4eb0-9a7c-5c017d3a3700",
   "metadata": {},
   "source": [
    "### Explicación de las pruebas\n",
    "\n",
    "1. **test_initialization**:\n",
    "   - Verifica que se inicialice correctamente la clase.\n",
    "3. **test_append_valid_string**:\n",
    "   - Prueba agregar un string válido y comprobar que se añade a la lista.\n",
    "5. **test_append_full_list**:\n",
    "   - Comprueba el error cuando se intenta agregar un elemento a una lista llena.\n",
    "7. **test_append_empty_value**:\n",
    "   - Verifica que no se permita agregar un valor vacío.\n",
    "9. **test_append_non_string_value**:\n",
    "    - Asegura que se levante un error al intentar añadir un valor que no es un string.\n",
    "11. **test_append_string_too_long**:\n",
    "    - Verifica que se levante un error al intentar agregar un string que excede la longitud máxima permitida.\n",
    "13. **test_remove_existing_element**:\n",
    "    - Comprueba la eliminación de un elemento existente.\n",
    "15. **test_remove_non_existing_element**:\n",
    "    - Verifica que se levante un error al intentar eliminar un elemento que no está en la lista.\n",
    "17. **test_extend_with_valid_elements**:\n",
    "    - Prueba el método `extend` agregando elementos válidos.\n",
    "19. **test_extend_with_oversized_elements**:\n",
    "    - Verifica que no se añadan elementos que exceden la capacidad.\n",
    "21. **test_extend_with_non_string_elements**:\n",
    "    - Asegura que solo se añadan strings en el método `extend`.\n",
    "23. **test_repr_method**:\n",
    "    - Verifica que el método `__repr__` devuelva la representación correcta del objeto.\n",
    "25. **test_str_method**:\n",
    "    - Comprueba que el método `__str__` devuelva la representación en string esperada."
   ]
  },
  {
   "cell_type": "markdown",
   "id": "e638b2e0-6f9c-4e55-914e-7543a952e2eb",
   "metadata": {},
   "source": [
    "### Cómo ejecutar las pruebas"
   ]
  },
  {
   "cell_type": "markdown",
   "id": "41a87e4e-944b-4e87-ab7b-2982b51d02b5",
   "metadata": {},
   "source": [
    "Para ejecutar las pruebas, simplemente navega hasta el directorio que contiene el archivo `test_emilist.py` en tu terminal y ejecuta:\n",
    "\n",
    "```bash\n",
    "pytest\n",
    "```\n",
    "\n",
    "Esto buscará y ejecutará todas las pruebas definidas en el archivo, proporcionando un informe sobre las que pasaron y las que fallaron."
   ]
  },
  {
   "cell_type": "markdown",
   "id": "d3ed2c9f-705f-4bc2-9e03-e2b4a47d2f0c",
   "metadata": {},
   "source": [
    "Executo el script desde consola"
   ]
  },
  {
   "cell_type": "code",
   "execution_count": 2,
   "id": "25c22368-1e47-43ea-b145-047d2e65e8d5",
   "metadata": {},
   "outputs": [
    {
     "name": "stdout",
     "output_type": "stream",
     "text": [
      "<class 'UnboundLocalError'> local variable 'long' referenced before assignment\n",
      "<class 'ValueError'> Emilist solo acepta strings de menos de 10 caracteres y recibió un str de 19 caracteres.\n",
      "tareas:\n",
      "\tdesayuno\n",
      "\talmuerzo\n",
      "\tcena\n",
      "\n",
      "<class 'ValueError'> Elemento cafe no encontrado en la lista.\n"
     ]
    },
    {
     "ename": "UnboundLocalError",
     "evalue": "local variable 'long' referenced before assignment",
     "output_type": "error",
     "traceback": [
      "\u001b[1;31m---------------------------------------------------------------------------\u001b[0m",
      "\u001b[1;31mUnboundLocalError\u001b[0m                         Traceback (most recent call last)",
      "File \u001b[1;32mE:\\AIgenerative\\Curso 2 (Team Software Engineering with AI)\\Semana1\\emilist.py:71\u001b[0m, in \u001b[0;36m<module>\u001b[1;34m\u001b[0m\n\u001b[0;32m     69\u001b[0m lista_numeros \u001b[38;5;241m=\u001b[39m Emilist(\u001b[38;5;124m\"\u001b[39m\u001b[38;5;124mnumeros\u001b[39m\u001b[38;5;124m\"\u001b[39m, size\u001b[38;5;241m=\u001b[39m\u001b[38;5;241m10\u001b[39m)\n\u001b[0;32m     70\u001b[0m lista_numeros\u001b[38;5;241m.\u001b[39mappend(\u001b[38;5;124m\"\u001b[39m\u001b[38;5;124mdiez\u001b[39m\u001b[38;5;124m\"\u001b[39m)\n\u001b[1;32m---> 71\u001b[0m \u001b[43mlista_numeros\u001b[49m\u001b[38;5;241;43m.\u001b[39;49m\u001b[43mextend\u001b[49m\u001b[43m(\u001b[49m\u001b[43m[\u001b[49m\u001b[38;5;124;43m\"\u001b[39;49m\u001b[38;5;124;43muno\u001b[39;49m\u001b[38;5;124;43m\"\u001b[39;49m\u001b[43m,\u001b[49m\u001b[38;5;124;43m\"\u001b[39;49m\u001b[38;5;124;43mdos\u001b[39;49m\u001b[38;5;124;43m\"\u001b[39;49m\u001b[43m,\u001b[49m\u001b[38;5;241;43m1\u001b[39;49m\u001b[43m,\u001b[49m\u001b[38;5;241;43m0\u001b[39;49m\u001b[43m,\u001b[49m\u001b[38;5;124;43m\"\u001b[39;49m\u001b[38;5;124;43m15\u001b[39;49m\u001b[38;5;124;43m\"\u001b[39;49m\u001b[43m,\u001b[49m\u001b[38;5;124;43m\"\u001b[39;49m\u001b[38;5;124;43mtres mil ochocientos cuarenta y cuatro\u001b[39;49m\u001b[38;5;124;43m\"\u001b[39;49m\u001b[43m]\u001b[49m\u001b[43m)\u001b[49m\n\u001b[0;32m     72\u001b[0m \u001b[38;5;28mprint\u001b[39m(lista_numeros)\n",
      "File \u001b[1;32mE:\\AIgenerative\\Curso 2 (Team Software Engineering with AI)\\Semana1\\emilist.py:42\u001b[0m, in \u001b[0;36mEmilist.extend\u001b[1;34m(self, otra_lista)\u001b[0m\n\u001b[0;32m     40\u001b[0m \u001b[38;5;28;01mfor\u001b[39;00m elemento \u001b[38;5;129;01min\u001b[39;00m otra_lista:\n\u001b[0;32m     41\u001b[0m     \u001b[38;5;28;01mtry\u001b[39;00m:\n\u001b[1;32m---> 42\u001b[0m         \u001b[38;5;28;43mself\u001b[39;49m\u001b[38;5;241;43m.\u001b[39;49m\u001b[43mappend\u001b[49m\u001b[43m(\u001b[49m\u001b[43melemento\u001b[49m\u001b[43m)\u001b[49m\n\u001b[0;32m     43\u001b[0m     \u001b[38;5;28;01mexcept\u001b[39;00m \u001b[38;5;167;01mOverflowError\u001b[39;00m:\n\u001b[0;32m     44\u001b[0m         \u001b[38;5;28;01mreturn\u001b[39;00m \n",
      "File \u001b[1;32mE:\\AIgenerative\\Curso 2 (Team Software Engineering with AI)\\Semana1\\emilist.py:28\u001b[0m, in \u001b[0;36mEmilist.append\u001b[1;34m(self, valor)\u001b[0m\n\u001b[0;32m     26\u001b[0m     \u001b[38;5;28msuper\u001b[39m()\u001b[38;5;241m.\u001b[39mappend(valor);\n\u001b[0;32m     27\u001b[0m     \u001b[38;5;28;01mreturn\u001b[39;00m \u001b[38;5;28;01mTrue\u001b[39;00m\n\u001b[1;32m---> 28\u001b[0m \u001b[38;5;28;01melif\u001b[39;00m \u001b[43mlong\u001b[49m:\n\u001b[0;32m     29\u001b[0m     \u001b[38;5;28;01mraise\u001b[39;00m \u001b[38;5;167;01mValueError\u001b[39;00m(\u001b[38;5;124mf\u001b[39m\u001b[38;5;124m\"\u001b[39m\u001b[38;5;124mEmilist solo acepta strings de menos de \u001b[39m\u001b[38;5;132;01m{\u001b[39;00m\u001b[38;5;28mself\u001b[39m\u001b[38;5;241m.\u001b[39mMAX_ELEMENT_LENGTH\u001b[38;5;132;01m}\u001b[39;00m\u001b[38;5;124m caracteres y recibió un str de \u001b[39m\u001b[38;5;132;01m{\u001b[39;00mlong\u001b[38;5;132;01m}\u001b[39;00m\u001b[38;5;124m caracteres.\u001b[39m\u001b[38;5;124m\"\u001b[39m)\n\u001b[0;32m     30\u001b[0m \u001b[38;5;28;01melse\u001b[39;00m:\n",
      "\u001b[1;31mUnboundLocalError\u001b[0m: local variable 'long' referenced before assignment"
     ]
    }
   ],
   "source": [
    "%run emilist.py"
   ]
  },
  {
   "cell_type": "code",
   "execution_count": 3,
   "id": "8997cc44-7051-4a45-81df-1e1022fa62c1",
   "metadata": {},
   "outputs": [
    {
     "name": "stdout",
     "output_type": "stream",
     "text": [
      "============================= test session starts =============================\n",
      "platform win32 -- Python 3.10.4, pytest-8.3.4, pluggy-1.5.0\n",
      "rootdir: E:\\AIgenerative\\Curso 2 (Team Software Engineering with AI)\\Semana1\n",
      "plugins: anyio-4.8.0\n",
      "collected 13 items\n",
      "\n",
      "test_emilist.py ....FF....F..                                            [100%]\n",
      "\n",
      "================================== FAILURES ===================================\n",
      "________________________ test_append_non_string_value _________________________\n",
      "\n",
      "    def test_append_non_string_value():\n",
      "        emilist = Emilist(\"tareas\")\n",
      "        with pytest.raises(TypeError, match=\"Emilist solo acepta strings y recibió un objeto tipo: <class 'int'>\"):\n",
      ">           emilist.append(123)\n",
      "\n",
      "test_emilist.py:33: \n",
      "_ _ _ _ _ _ _ _ _ _ _ _ _ _ _ _ _ _ _ _ _ _ _ _ _ _ _ _ _ _ _ _ _ _ _ _ _ _ _ _\n",
      "\n",
      "self = <Emilist tareas> 0 elementos: [], valor = 123\n",
      "\n",
      "    def append(self, valor):\n",
      "        if len(self) >= self.MAX_LEN:\n",
      "            raise OverflowError(\"La lista está llena, no se puede agregar más elementos.\")\n",
      "    \n",
      "        if not valor:\n",
      "            raise ValueError(\"No se puede agregar un valor vacío.\")\n",
      "    \n",
      "        # long=\"\"\n",
      "        if isinstance(valor, str) and 0 < ( long := len(valor) ) < self.MAX_ELEMENT_LENGTH:\n",
      "            super().append(valor);\n",
      "            return True\n",
      ">       elif long:\n",
      "E       UnboundLocalError: local variable 'long' referenced before assignment\n",
      "\n",
      "emilist.py:28: UnboundLocalError\n",
      "_________________________ test_append_string_too_long _________________________\n",
      "\n",
      "    def test_append_string_too_long():\n",
      "        emilist = Emilist(\"tareas\", max_element_length=5)\n",
      "        with pytest.raises(ValueError, match=\"Emilist solo acepta strings de menos de 5 caracteres y recibió un str de 12 caracteres.\"):\n",
      ">           emilist.append(\"tarea demasiado larga\")\n",
      "\n",
      "test_emilist.py:38: \n",
      "_ _ _ _ _ _ _ _ _ _ _ _ _ _ _ _ _ _ _ _ _ _ _ _ _ _ _ _ _ _ _ _ _ _ _ _ _ _ _ _\n",
      "\n",
      "self = <Emilist tareas> 0 elementos: [], valor = 'tarea demasiado larga'\n",
      "\n",
      "    def append(self, valor):\n",
      "        if len(self) >= self.MAX_LEN:\n",
      "            raise OverflowError(\"La lista está llena, no se puede agregar más elementos.\")\n",
      "    \n",
      "        if not valor:\n",
      "            raise ValueError(\"No se puede agregar un valor vacío.\")\n",
      "    \n",
      "        # long=\"\"\n",
      "        if isinstance(valor, str) and 0 < ( long := len(valor) ) < self.MAX_ELEMENT_LENGTH:\n",
      "            super().append(valor);\n",
      "            return True\n",
      "        elif long:\n",
      ">           raise ValueError(f\"Emilist solo acepta strings de menos de {self.MAX_ELEMENT_LENGTH} caracteres y recibió un str de {long} caracteres.\")\n",
      "E           ValueError: Emilist solo acepta strings de menos de 5 caracteres y recibió un str de 21 caracteres.\n",
      "\n",
      "emilist.py:29: ValueError\n",
      "\n",
      "During handling of the above exception, another exception occurred:\n",
      "\n",
      "    def test_append_string_too_long():\n",
      "        emilist = Emilist(\"tareas\", max_element_length=5)\n",
      ">       with pytest.raises(ValueError, match=\"Emilist solo acepta strings de menos de 5 caracteres y recibió un str de 12 caracteres.\"):\n",
      "E       AssertionError: Regex pattern did not match.\n",
      "E        Regex: 'Emilist solo acepta strings de menos de 5 caracteres y recibió un str de 12 caracteres.'\n",
      "E        Input: 'Emilist solo acepta strings de menos de 5 caracteres y recibió un str de 21 caracteres.'\n",
      "\n",
      "test_emilist.py:37: AssertionError\n",
      "____________________ test_extend_with_non_string_elements _____________________\n",
      "\n",
      "    def test_extend_with_non_string_elements():\n",
      "        emilist = Emilist(\"tareas\")\n",
      ">       emilist.extend([1, 2, \"tarea válida\"])\n",
      "\n",
      "test_emilist.py:67: \n",
      "_ _ _ _ _ _ _ _ _ _ _ _ _ _ _ _ _ _ _ _ _ _ _ _ _ _ _ _ _ _ _ _ _ _ _ _ _ _ _ _\n",
      "emilist.py:42: in extend\n",
      "    self.append(elemento)\n",
      "_ _ _ _ _ _ _ _ _ _ _ _ _ _ _ _ _ _ _ _ _ _ _ _ _ _ _ _ _ _ _ _ _ _ _ _ _ _ _ _\n",
      "\n",
      "self = <Emilist tareas> 0 elementos: [], valor = 1\n",
      "\n",
      "    def append(self, valor):\n",
      "        if len(self) >= self.MAX_LEN:\n",
      "            raise OverflowError(\"La lista está llena, no se puede agregar más elementos.\")\n",
      "    \n",
      "        if not valor:\n",
      "            raise ValueError(\"No se puede agregar un valor vacío.\")\n",
      "    \n",
      "        # long=\"\"\n",
      "        if isinstance(valor, str) and 0 < ( long := len(valor) ) < self.MAX_ELEMENT_LENGTH:\n",
      "            super().append(valor);\n",
      "            return True\n",
      ">       elif long:\n",
      "E       UnboundLocalError: local variable 'long' referenced before assignment\n",
      "\n",
      "emilist.py:28: UnboundLocalError\n",
      "=========================== short test summary info ===========================\n",
      "FAILED test_emilist.py::test_append_non_string_value - UnboundLocalError: loc...\n",
      "FAILED test_emilist.py::test_append_string_too_long - AssertionError: Regex p...\n",
      "FAILED test_emilist.py::test_extend_with_non_string_elements - UnboundLocalEr...\n",
      "======================== 3 failed, 10 passed in 0.88s =========================\n"
     ]
    }
   ],
   "source": [
    "!pytest test_emilist.py"
   ]
  },
  {
   "cell_type": "markdown",
   "id": "a6dc816e-8a50-4bc1-8b63-812bc7850af8",
   "metadata": {},
   "source": [
    "que son las fixtures y pruebas parametrizadas con pytests, podes explicarme y darme ejemplos\n",
    "\n",
    "GPT : ¡Claro! En `pytest`, las **fixtures** y las **pruebas parametrizadas** son características muy útiles que permiten organizar y simplificar tus pruebas."
   ]
  },
  {
   "cell_type": "markdown",
   "id": "69b50ba4-492b-46f6-b19e-301ea3b0a4d3",
   "metadata": {},
   "source": [
    "### Fixtures"
   ]
  },
  {
   "cell_type": "markdown",
   "id": "16319567-02e6-4857-9be1-69f09d21a30c",
   "metadata": {},
   "source": [
    "Las **fixtures** en `pytest` son una forma de proporcionar datos o recursos comunes a múltiples pruebas. Permiten preparar el entorno de prueba antes de que se ejecuten las pruebas. Este mecanismo es útil cuando\n",
    " necesitas configurar objetos, conectarte a bases de datos o, en general, ejecutar alguna lógica que se necesita en varias pruebas."
   ]
  },
  {
   "cell_type": "markdown",
   "id": "1ec72755-0468-478d-b9d4-aafaface12f9",
   "metadata": {},
   "source": [
    "#### Ejemplo de fixture"
   ]
  },
  {
   "cell_type": "markdown",
   "id": "50b500a4-532f-4c7f-8f54-7404e84eaf37",
   "metadata": {},
   "source": [
    "Supongamos que tienes una función que necesita acceder a una base de datos. Podrías crear una fixture que se encargue de crear y eliminar ese acceso a la base de datos:\n",
    "\n",
    "```python\n",
    "import pytest\n",
    "\n",
    "@pytest.fixture\n",
    "def setup_database():\n",
    "    # Configurar la base de datos\n",
    "    db = connect_to_database()\n",
    "    yield db  # Esta parte se ejecuta cuando se utiliza la fixture\n",
    "    db.close()  # Limpiar después de la prueba\n",
    "\n",
    "def test_query(setup_database):\n",
    "    db = setup_database\n",
    "    result = db.query(\"SELECT * FROM users\")\n",
    "    assert len(result) > 0  # Verificar que hay usuarios\n",
    "```\n",
    "\n",
    "En este ejemplo, `setup_database` se encargará de configurar una conexión a la base de datos antes de ejecutar cualquier prueba que la fallece, y luego cerrará la conexión después de que se complete la prueba."
   ]
  },
  {
   "cell_type": "markdown",
   "id": "09b01c37-9913-45e5-a2b3-097429903285",
   "metadata": {},
   "source": [
    "### Pruebas Parametrizadas"
   ]
  },
  {
   "cell_type": "markdown",
   "id": "0d819547-4ee8-4d82-8b89-c3a7c48514cc",
   "metadata": {},
   "source": [
    "Las **pruebas parametrizadas** en `pytest` te permiten ejecutar la misma prueba con diferentes conjuntos de datos. Esto es muy útil cuando quieres probar una función con distintos valores de entrada sin tener qu\n",
    "e escribir múltiples funciones de prueba."
   ]
  },
  {
   "cell_type": "markdown",
   "id": "aeb21067-4455-470d-a3d6-ccee0ca5d701",
   "metadata": {},
   "source": [
    "#### Ejemplo de pruebas parametrizadas"
   ]
  },
  {
   "cell_type": "markdown",
   "id": "53a38b4d-76a3-474a-8989-f83a3967439b",
   "metadata": {},
   "source": [
    "Supongamos que tienes una función que suma dos números y quieres asegurarte de que funciona correctamente con diferentes parejas de números:\n",
    "\n",
    "```python\n",
    "import pytest\n",
    "\n",
    "def suma(a, b):\n",
    "    return a + b\n",
    "\n",
    "@pytest.mark.parametrize(\"a,b,resultado\", [\n",
    "    (1, 2, 3),\n",
    "    (2, 3, 5),\n",
    "    (5, 5, 10),\n",
    "    (-1, 1, 0),\n",
    "    (0, 0, 0)\n",
    "])\n",
    "def test_suma(a, b, resultado):\n",
    "    assert suma(a, b) == resultado\n",
    "```"
   ]
  },
  {
   "cell_type": "markdown",
   "id": "c8bdc4d6-6abc-416b-b7a3-e3cbc1615cfb",
   "metadata": {},
   "source": [
    "En este caso, la función `test_suma` se ejecutará cinco veces, cada vez con un conjunto diferente de valores de `a` y `b`, y comprobará que el resultado sea el esperado (`resultado`)."
   ]
  },
  {
   "cell_type": "markdown",
   "id": "6371e027-9d3f-4a8a-98b0-0f7dcdb4046a",
   "metadata": {},
   "source": [
    "### Resumen"
   ]
  },
  {
   "cell_type": "markdown",
   "id": "f689fde0-b936-4438-8a76-162613f81d17",
   "metadata": {},
   "source": [
    "- **Fixtures**: Son utilizadas para preparar el entorno necesario para las pruebas y se pueden compartir entre varias pruebas.\n",
    "- **Pruebas parametrizadas**: Permiten ejecutar una misma prueba con diferentes conjuntos de datos, facilitando la verificación de la función bajo múltiples condiciones.\n",
    "\n",
    "Ambas características son muy poderosas y pueden ayudar a mantener tus pruebas organizadas y eficientes."
   ]
  },
  {
   "cell_type": "code",
   "execution_count": null,
   "id": "f38c381a-8efe-454a-8093-d29fa3ccc6d5",
   "metadata": {},
   "outputs": [],
   "source": []
  }
 ],
 "metadata": {
  "kernelspec": {
   "display_name": "py_global",
   "language": "python",
   "name": "py_global"
  },
  "language_info": {
   "codemirror_mode": {
    "name": "ipython",
    "version": 3
   },
   "file_extension": ".py",
   "mimetype": "text/x-python",
   "name": "python",
   "nbconvert_exporter": "python",
   "pygments_lexer": "ipython3",
   "version": "3.10.4"
  }
 },
 "nbformat": 4,
 "nbformat_minor": 5
}
