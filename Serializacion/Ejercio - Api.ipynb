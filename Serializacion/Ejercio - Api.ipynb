{
 "cells": [
  {
   "cell_type": "markdown",
   "id": "417c2bf9-4fcc-4c98-bbde-eea6c989e467",
   "metadata": {},
   "source": [
    "## Eres un experto en el ecosistema OpenAI, incluyendo las bibliotecas cliente, los endpoints REST y cualquier otra forma de acceder a la funcionalidad de GPT, DALL-E y otros modelos. Crea un código legible y fácil de seguir que llame a DALLE para generar una imagen. El código debe estar en Python y todos los parámetros deben estar en un archivo externo que el código Python pueda leer. Utiliza el patrón de diseño más actualizado.\n",
    "\n",
    "GPT : Para crear un código legible y fácil de seguir que llame a la API de DALL-E de OpenAI para generar una imagen, seguiremos un enfo\n",
    "que que incluye:"
   ]
  },
  {
   "cell_type": "markdown",
   "id": "b67d9b9f-0b11-400d-b3d3-59867b71b541",
   "metadata": {},
   "source": [
    "1. **Archivo de configuración** para almacenar parámetros como la clave de API, la descripción de la imagen, etc.\n",
    "2. **Código Python** para leer el archivo de configuración y realizar la llamada a la API utilizando la biblioteca `openai`."
   ]
  },
  {
   "cell_type": "markdown",
   "id": "32b085b3-8162-4990-a163-683af9468b89",
   "metadata": {},
   "source": [
    "### Paso 1: Crear un archivo de configuración"
   ]
  },
  {
   "cell_type": "markdown",
   "id": "39ab4b2a-38d7-4981-a378-ea3e0beb0b3a",
   "metadata": {},
   "source": [
    "Vamos a crear un archivo JSON llamado `config.json` que contendrá los parámetros necesarios."
   ]
  },
  {
   "cell_type": "markdown",
   "id": "59cb63f9-f06d-4a41-b5db-102cf20eb533",
   "metadata": {},
   "source": [
    "**config.json**\n",
    "```json\n",
    "{\n",
    "    \"api_key\": \"tu_clave_de_api_aqui\",\n",
    "    \"prompt\": \"Un paisaje futurista con montañas y un cielo estrellado\",\n",
    "    \"n_images\": 1,\n",
    "    \"size\": \"1024x1024\"\n",
    "}\n",
    "```"
   ]
  },
  {
   "cell_type": "markdown",
   "id": "88b246fd-d09c-484b-9c60-b08571064c41",
   "metadata": {},
   "source": [
    "### Paso 2: Crear el script en Python"
   ]
  },
  {
   "cell_type": "markdown",
   "id": "a98d35a5-1d4d-4c23-b233-65da4088f9d0",
   "metadata": {},
   "source": [
    "Luego, crearemos un script en Python que leerá este archivo y generará una imagen usando la API de DALL-E."
   ]
  },
  {
   "cell_type": "markdown",
   "id": "e0bef023-db44-4204-9b81-d20140dfb84d",
   "metadata": {},
   "source": [
    "**dalle_image_generator.py**\n",
    "```python\n",
    "import openai\n",
    "import json\n",
    "\n",
    "class DALL_E_Generator:\n",
    "    def __init__(self, config_file):\n",
    "        self.config = self.load_config(config_file)\n",
    "        self.initialize_openai()\n",
    "\n",
    "    def load_config(self, config_file):\n",
    "        \"\"\"Carga la configuración del archivo JSON.\"\"\"\n",
    "        with open(config_file, 'r') as file:\n",
    "            return json.load(file)\n",
    "\n",
    "    def initialize_openai(self):\n",
    "        \"\"\"Inicializa la clave de API de OpenAI.\"\"\"\n",
    "        openai.api_key = self.config['api_key']\n",
    "\n",
    "    def generate_image(self):\n",
    "        \"\"\"Genera una imagen utilizando DALL-E según la configuración.\"\"\"\n",
    "        response = openai.Image.create(\n",
    "            prompt=self.config['prompt'],\n",
    "            n=self.config['n_images'],\n",
    "            size=self.config['size']\n",
    "        )\n",
    "        return response\n",
    "\n",
    "    def save_image(self, response):\n",
    "        \"\"\"Guarda la imagen generada en un archivo.\"\"\"\n",
    "        for i, data in enumerate(response['data']):\n",
    "            image_url = data['url']\n",
    "            image_response = requests.get(image_url)\n",
    "            with open(f'generated_image_{i + 1}.png', 'wb') as img_file:\n",
    "                img_file.write(image_response.content)\n",
    "            print(f'Imagen guardada como generated_image_{i + 1}.png')\n",
    "\n",
    "if __name__ == \"__main__\":\n",
    "    dalle_generator = DALL_E_Generator('config.json')\n",
    "    response = dalle_generator.generate_image()\n",
    "    dalle_generator.save_image(response)\n",
    "```"
   ]
  },
  {
   "cell_type": "markdown",
   "id": "2afe2764-58bd-4f02-8174-8afb5f1c8497",
   "metadata": {},
   "source": [
    "### Paso 3: Instalación de dependencias"
   ]
  },
  {
   "cell_type": "markdown",
   "id": "49e995e6-09f1-47ef-963b-ffc384b64091",
   "metadata": {},
   "source": [
    "Asegúrate de tener la biblioteca `openai` instalada. Si aún no la has instalado, puedes hacerlo con el siguiente comando:\n",
    "\n",
    "```bash\n",
    "pip install openai requests\n",
    "```\n",
    "\n",
    "### Paso 4: Ejecutar el script\n",
    "\n",
    "Una vez configurado el archivo `config.json` y creado el script `dalle_image_generator.py`, puedes ejecutar el script en la terminal:\n",
    "\n",
    "```bash\n",
    "python dalle_image_generator.py\n",
    "```\n",
    "\n",
    "### Notas:\n",
    "\n",
    "1. Asegúrate de reemplazar `\"tu_clave_de_api_aqui\"` con tu verdadera clave de API de OpenAI en el archivo `config.json`.\n",
    "2. El script generará una imagen basada en el `prompt` proporcionado en el archivo de configuración y la guardará en el directorio actu\n",
    "al.\n",
    "3. El tamaño de la imagen, el número de imágenes y el prompt son totalmente editables en el archivo de configuración. \n",
    "\n",
    "Este patrón de diseño permite una buena separación de responsabilidades y hace que el código sea fácilmente mantenible."
   ]
  },
  {
   "cell_type": "markdown",
   "id": "75b746ab-3498-4116-8539-7a0d1bac754e",
   "metadata": {},
   "source": [
    "Debo recordarte que openai cambio su api te paso la info para que puedas ayudarme\n",
    "\n",
    "\"\"\"\n",
    "Image generation\n",
    "Learn how to generate or edit images.\n",
    "Overview\n",
    "The OpenAI API lets you generate and edit images from text prompts, using the GPT Image or DALL·E models.\n",
    "\n",
    "Currently, image generation is only available through the Image API. We’re actively working on expanding support to the Responses API.\n",
    "\n",
    "The Image API provides three endpoints, each with distinct capabilities:\n",
    "\n",
    "Generations: Generate images from scratch based on a text prompt\n",
    "Edits: Modify existing images using a new prompt, either partially or entirely\n",
    "Variations: Generate variations of an existing image (available with DALL·E 2 only)\n",
    "You can also customize the output by specifying the quality, size, format, compression, and whether you would like a transparent background.\n",
    "\n",
    "DALL·E 3 is our previous generation model and has some limitations. For a better experience, we recommend using GPT Image.\n",
    "\n",
    "Model comparison\n",
    "Our latest and most advanced model for image generation is gpt-image-1, a natively multimodal language model.\n",
    "\n",
    "We recommend this model for its high-quality image generation and ability to use world knowledge in image creation. However, you can also use specialized image generation models—DALL·E 2 and DALL·E 3—with the Image API.\n",
    "\n",
    "Model\tEndpoints\tUse case\n",
    "DALL·E 2\tImage API: Generations, Edits, Variations\tLower cost, concurrent requests, inpainting (image editing with a mask)\n",
    "DALL·E 3\tImage API: Generations only\tHigher image quality than DALL·E 2, support for larger resolutions\n",
    "GPT Image\tImage API: Generations, Edits – Responses API support coming soon\tSuperior instruction following, text rendering, detailed editing, real-world knowledge\n",
    "This guide focuses on DALL·E 3, but you can also switch to the docs for GPT Image and DALL·E 2.\n",
    "\n",
    "a vet with a baby otter\n",
    "Generate Images\n",
    "You can use the image generation endpoint to create images based on text prompts. To learn more about customizing the output (size, quality, format, transparency), refer to the customize image output section below.\n",
    "\n",
    "Generate an image\n",
    "from openai import OpenAI\n",
    "client = OpenAI()\n",
    "\n",
    "result = client.images.generate(\n",
    "    model=\"dall-e-3\",\n",
    "    prompt=\"a white siamese cat\",\n",
    "    size=\"1024x1024\"\n",
    ")\n",
    "\n",
    "print(result.data[0].url)\n",
    "Prompting tips\n",
    "When you use DALL·E 3, OpenAI automatically rewrites your prompt for safety reasons and to add more detail.\n",
    "\n",
    "You can't disable this feature, but you can get outputs closer to your requested image by adding the following to your prompt:\n",
    "\n",
    "I NEED to test how the tool works with extremely simple prompts. DO NOT add any detail, just use it AS-IS:\n",
    "\n",
    "The updated prompt is visible in the revised_prompt field of the data response object.\n",
    "\n",
    "Edit Images\n",
    "The Image Edits endpoint is not available for DALL·E 3. If you would like to edit images, we recommend using our newest model, GPT Image.\n",
    "\n",
    "Customize Image Output\n",
    "You can configure the following output options:\n",
    "\n",
    "Size: Image dimensions (e.g., 1024x1024, 1024x1536)\n",
    "Quality: Rendering quality (e.g. standard)\n",
    "Format: url (default), b64_json\n",
    "Size and quality options\n",
    "Square images with standard quality are the fastest to generate. The default size is 1024x1024 pixels.\n",
    "\n",
    "Available sizes\t\n",
    "1024x1024 (square)\n",
    "1024x1792 (portrait)\n",
    "1792x1024 (landscape)\n",
    "auto (default)\n",
    "Quality options\t\n",
    "standard (default)\n",
    "hd\n",
    "Output format\n",
    "The default Image API output when using DALL·E 3 is a url pointing to the hosted image. You can also request the response_format as b64_json for a base64-encoded image.\n",
    "\n",
    "Limitations\n",
    "DALL·E 3 is an improvement over DALL·E 2 but still has some limitations:\n",
    "\n",
    "Text Rendering: The model struggles with rendering legible text.\n",
    "Instruction Following: The model has trouble following precise instructions.\n",
    "Photorealism: The model is not able to generate highly photorealistic images.\n",
    "For a better experience, we recommend using GPT Image for image generation.\n",
    "\n",
    "Cost and latency\n",
    "Cost for DALL·E 3 is fixed can be calculated by image generated depending on the size and image quality.\n",
    "\n",
    "You can find the pricing details on the pricing page.\n",
    "\"\"\""
   ]
  },
  {
   "cell_type": "markdown",
   "id": "60d788a5-637e-4df1-b719-b04e55fb192c",
   "metadata": {},
   "source": [
    "GPT : Gracias por la información actualizada sobre la API de OpenAI y su uso para la generación de imágenes con DALL·E 3. Basándonos en esta información, vamos a ajustar el código Python para que sea compatible con la nueva estructura de la API y que siga utilizando un archivo de configuración."
   ]
  },
  {
   "cell_type": "markdown",
   "id": "5f5785dd-f0bb-4abd-a78d-6d4baecae994",
   "metadata": {},
   "source": [
    "### Paso 1: Crear el archivo de configuración"
   ]
  },
  {
   "cell_type": "markdown",
   "id": "4ec3a93c-07a8-49d6-8d66-dc022dabbfb5",
   "metadata": {},
   "source": [
    "Vamos a mantener el archivo JSON `config.json` similar al anterior. Asegúrate de tener los detalles correctos.\n",
    "\n",
    "**config.json**\n",
    "```json\n",
    "{\n",
    "    \"api_key\": \"tu_clave_de_api_aqui\",\n",
    "    \"prompt\": \"Un paisaje futurista con montañas y un cielo estrellado\",\n",
    "    \"size\": \"1024x1024\",\n",
    "    \"model\": \"dall-e-3\"\n",
    "}\n",
    "```"
   ]
  },
  {
   "cell_type": "markdown",
   "id": "613e358f-6ae0-4d07-9e08-b200051c760c",
   "metadata": {},
   "source": [
    "### Paso 2: Crear el script en Python"
   ]
  },
  {
   "cell_type": "markdown",
   "id": "41d3e40d-07e6-4411-9c5d-15bdbe27adaa",
   "metadata": {},
   "source": [
    "Aquí tienes el script actualizado que utiliza la nueva API:"
   ]
  },
  {
   "cell_type": "code",
   "execution_count": 3,
   "id": "cec6e95e-3aef-43f4-b7e5-dbc76896b9be",
   "metadata": {
    "scrolled": true
   },
   "outputs": [
    {
     "name": "stdout",
     "output_type": "stream",
     "text": [
      "Overwriting dalle_image_generator.py\n"
     ]
    }
   ],
   "source": [
    "%%writefile dalle_image_generator.py\n",
    "\n",
    "import openai\n",
    "import json\n",
    "import requests\n",
    "\n",
    "class DALL_E_Generator:\n",
    "    def __init__(self, config_file):\n",
    "        self.config = self.load_config(config_file)\n",
    "        self.initialize_openai()\n",
    "\n",
    "    def load_config(self, config_file):\n",
    "        \"\"\"Carga la configuración del archivo JSON.\"\"\"\n",
    "        with open(config_file, 'r') as file:\n",
    "            return json.load(file)\n",
    "\n",
    "    def initialize_openai(self):\n",
    "        \"\"\"Inicializa la clave de API de OpenAI.\"\"\"\n",
    "        openai.api_key = self.config['api_key']\n",
    "\n",
    "    def generate_image(self):\n",
    "        \"\"\"Genera una imagen utilizando DALL-E según la configuración.\"\"\"\n",
    "        response = openai.images.generate(\n",
    "            model=self.config['model'],\n",
    "            prompt=self.config['prompt'],\n",
    "            size=self.config['size']\n",
    "        )\n",
    "        return response\n",
    "\n",
    "    def save_image(self, response):\n",
    "        \"\"\"Guarda la imagen generada en un archivo.\"\"\"\n",
    "        image_url = response['data'][0]['url']\n",
    "        image_response = requests.get(image_url)\n",
    "        with open('generated_image.png', 'wb') as img_file:\n",
    "            img_file.write(image_response.content)\n",
    "        print(f'Imagen guardada como generated_image.png')\n",
    "\n",
    "if __name__ == \"__main__\":\n",
    "    dalle_generator = DALL_E_Generator('config_dalle.json')\n",
    "    response = dalle_generator.generate_image()\n",
    "    dalle_generator.save_image(response)\n"
   ]
  },
  {
   "cell_type": "markdown",
   "id": "f0c17958-1cdc-40f0-bf14-868556533980",
   "metadata": {},
   "source": [
    "### Instrucciones de Instalación"
   ]
  },
  {
   "cell_type": "markdown",
   "id": "c49bf092-1d66-4307-bb0f-41f1d9a4518b",
   "metadata": {},
   "source": [
    "1. Asegúrate de tener la biblioteca `openai` instalada. Si no la tienes, puedes instalarla con:\n",
    "\n",
    "   ```bash\n",
    "   pip install openai requests\n",
    "   ```"
   ]
  },
  {
   "cell_type": "markdown",
   "id": "1b5aaa1b-c281-4657-ace0-d856c58d42b5",
   "metadata": {},
   "source": [
    "2. Reemplaza `\"tu_clave_de_api_aqui\"` en el archivo `config.json` con tu verdadera clave de API de OpenAI."
   ]
  },
  {
   "cell_type": "markdown",
   "id": "d95ceae8-525f-4087-b6f4-760dc3b4d0d0",
   "metadata": {},
   "source": [
    "### Ejecución del Script"
   ]
  },
  {
   "cell_type": "markdown",
   "id": "b8217b12-f0fc-4c20-ad9c-d9430fae2a5a",
   "metadata": {},
   "source": [
    "Ejecuta el script desde la terminal:"
   ]
  },
  {
   "cell_type": "markdown",
   "id": "be8c58a6-042d-43bf-84dc-b8d31e73d9aa",
   "metadata": {},
   "source": [
    "```bash\n",
    "python dalle_image_generator.py\n",
    "```"
   ]
  },
  {
   "cell_type": "markdown",
   "id": "56d723e9-2a16-43a1-97b6-b31ab532eef4",
   "metadata": {},
   "source": [
    "### Notas:"
   ]
  },
  {
   "cell_type": "markdown",
   "id": "c0c46660-6ae3-4108-89f1-e13233fa16f6",
   "metadata": {},
   "source": [
    "- El script generará una imagen según el `prompt` en `config.json` y la guardará como `generated_image.png` en el mismo directorio.\n",
    "- Este código sigue el patrón de diseño que establece una clara separación de responsabilidades, lo que facilita su mantenimiento y adaptación a futuros cambios o nuevas funcionalidades.\n",
    "\n",
    "Si tienes alguna otra pregunta o necesitas más funciones, ¡no dudes en decírmelo!"
   ]
  },
  {
   "cell_type": "markdown",
   "id": "0abed46f-63ef-4ed8-95e6-d78e6ef92929",
   "metadata": {},
   "source": [
    "emi $: no verificas si en la configuracion le pedimos mas de una imagen\n",
    "\n",
    "GPT : ¡Tienes razón! Es importante tener en cuenta si se solicita más de una imagen en la configuración. Vamos a actualizar el código para incluir un parámetro que especifique cuántas imágenes se desean generar y gestionar este caso adecuadamente.\n",
    "\n",
    "### Paso 1: Actualizar el archivo de configuración\n",
    "\n",
    "Primero, vamos a modificar `config.json` para incluir el número de imágenes que deseas generar:\n",
    "\n",
    "**config.json**\n",
    "```json\n",
    "{\n",
    "    \"api_key\": \"tu_clave_de_api_aqui\",\n",
    "    \"prompt\": \"Un paisaje futurista con montañas y un cielo estrellado\",\n",
    "    \"size\": \"1024x1024\",\n",
    "    \"model\": \"dall-e-3\",\n",
    "    \"n_images\": 3  // Define cuántas imágenes generar (1 o más)\n",
    "}\n",
    "```"
   ]
  },
  {
   "cell_type": "markdown",
   "id": "2dbe6b82-84b9-4167-a751-00cf2ccbf112",
   "metadata": {},
   "source": [
    "### Paso 2: Actualizar el script en Python"
   ]
  },
  {
   "cell_type": "markdown",
   "id": "99eafbd7-6669-42e6-8efb-12bda68c9bc5",
   "metadata": {},
   "source": [
    "Aquí está el script actualizado que tiene en cuenta la cantidad de imágenes a generar:\n",
    "\n",
    "**dalle_image_generator.py**\n",
    "```python\n",
    "import openai\n",
    "import json\n",
    "import requests\n",
    "\n",
    "class DALL_E_Generator:\n",
    "    def __init__(self, config_file):\n",
    "        self.config = self.load_config(config_file)\n",
    "        self.initialize_openai()\n",
    "\n",
    "    def load_config(self, config_file):\n",
    "        \"\"\"Carga la configuración del archivo JSON.\"\"\"\n",
    "        with open(config_file, 'r') as file:\n",
    "            return json.load(file)\n",
    "\n",
    "    def initialize_openai(self):\n",
    "        \"\"\"Inicializa la clave de API de OpenAI.\"\"\"\n",
    "        openai.api_key = self.config['api_key']\n",
    "        self.client = openai.OpenAI()\n",
    "\n",
    "\n",
    "    def generate_images(self):\n",
    "        \"\"\"Genera imágenes utilizando DALL-E según la configuración.\"\"\"\n",
    "        response = self.client.Image.create(\n",
    "            model=self.config['model'],\n",
    "            prompt=self.config['prompt'],\n",
    "            size=self.config['size'],\n",
    "            n=self.config['n_images']  # Número de imágenes a generar\n",
    "        )\n",
    "        return response\n",
    "\n",
    "    def save_images(self, response):\n",
    "        \"\"\"Guarda las imágenes generadas en archivos.\"\"\"\n",
    "        for i, data in enumerate(response['data']):\n",
    "            image_url = data['url']\n",
    "            image_response = requests.get(image_url)\n",
    "\n",
    "            # Guardar cada imagen con un nombre único\n",
    "            with open(f'generated_image_{i + 1}.png', 'wb') as img_file:\n",
    "                img_file.write(image_response.content)\n",
    "            print(f'Imagen guardada como generated_image_{i + 1}.png')\n",
    "\n",
    "if __name__ == \"__main__\":\n",
    "    dalle_generator = DALL_E_Generator('config.json')\n",
    "    response = dalle_generator.generate_images()\n",
    "    dalle_generator.save_images(response)\n",
    "```"
   ]
  },
  {
   "cell_type": "markdown",
   "id": "bc61b3fd-05fe-4dc0-9b06-e406d2bb6473",
   "metadata": {},
   "source": [
    "### Instrucciones de Instalación"
   ]
  },
  {
   "cell_type": "markdown",
   "id": "82ac4fd9-c546-4cc7-8257-f46804e4df6b",
   "metadata": {},
   "source": [
    "1. Asegúrate de tener la biblioteca `openai` instalada. Si no la tienes, puedes instalarla con el siguiente comando:\n",
    "\n",
    "   ```bash\n",
    "   pip install openai requests\n",
    "   ```"
   ]
  },
  {
   "cell_type": "markdown",
   "id": "9fdf7579-8593-41c3-876e-82643482f2af",
   "metadata": {},
   "source": [
    "2. Reemplaza `\"tu_clave_de_api_aqui\"` en el archivo `config.json` con tu verdadera clave de API de OpenAI."
   ]
  },
  {
   "cell_type": "markdown",
   "id": "7ea2493f-77ed-4562-98a2-765571bfa0ef",
   "metadata": {},
   "source": [
    "### Ejecución del Script\n",
    "\n",
    "Ejecuta el script desde la terminal:\n",
    "\n",
    "```bash\n",
    "python dalle_image_generator.py\n",
    "```"
   ]
  },
  {
   "cell_type": "markdown",
   "id": "e68488aa-0c32-4102-affe-146e40664558",
   "metadata": {},
   "source": [
    "### Notas:\n",
    "\n",
    "- El script ahora permite generar múltiples imágenes según se especifique en el parámetro `n_images` en `config.json`, guardando cada imagen con un nombre único.\n",
    "- Si el usuario pide más de una imagen, se generarán y guardarán de manera ordenada (ej: `generated_image_1.png`, `generated_image_2.png`, etc.).\n",
    "  \n",
    "Si necesitas más ajustes o tienes alguna pregunta, estaré encantado de ayudarte."
   ]
  },
  {
   "cell_type": "markdown",
   "id": "3442e617-4fae-4038-8dc1-2ffb5e81c0aa",
   "metadata": {},
   "source": [
    "python .\\dalle_image_generator.py\n",
    "\n",
    "```python\n",
    "ImagesResponse(created=1746286926, \n",
    "    data=[Image(b64_json=None, \n",
    "    revised_prompt='A medieval-style lighthouse perched on a pine cone, rendered in watercolor with pastel tones. It stands against a backdrop of a sunset sky with a budding moon.', \n",
    "    url='https://oaidalleapiprodscus.blob.core.windows.net/private/org-InTAILrCdaHZn66Z3ZrDBTGy/user-lDTKDLMJ7UuNryhOgd7HlOru/img-a3lzFsIMd65RcmxMig71zqmi.png?st=2025-05-03T14%3A42%3A06Z&se=2025-05-03T16%3A42%3A06Z&sp=r&sv=2024-08-04&sr=b&rscd=inline&rsct=image/png&skoid=475fd488-6c59-44a5-9aa9-31c4db451bea&sktid=a48cca56-e6da-484e-a814-9c849652bcb3&skt=2025-05-03T00%3A12%3A45Z&ske=2025-05-0\n",
    "4T00%3A12%3A45Z&sks=b&skv=2024-08-04&sig=17RIOe9IcOkNCILNTGuRHCKsF0DflolPzBGRR2Pr6t0%3D')\n",
    "        ]\n",
    ")\n",
    "```\n",
    "Imagen guardada como generated_image.png"
   ]
  },
  {
   "cell_type": "code",
   "execution_count": null,
   "id": "fb7e506e-6652-47d7-87c0-eed52b0ddce3",
   "metadata": {},
   "outputs": [],
   "source": []
  }
 ],
 "metadata": {
  "kernelspec": {
   "display_name": "Python 3 (ipykernel)",
   "language": "python",
   "name": "python3"
  },
  "language_info": {
   "codemirror_mode": {
    "name": "ipython",
    "version": 3
   },
   "file_extension": ".py",
   "mimetype": "text/x-python",
   "name": "python",
   "nbconvert_exporter": "python",
   "pygments_lexer": "ipython3",
   "version": "3.10.4"
  }
 },
 "nbformat": 4,
 "nbformat_minor": 5
}
