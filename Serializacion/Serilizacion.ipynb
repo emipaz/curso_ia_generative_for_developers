{
 "cells": [
  {
   "cell_type": "markdown",
   "id": "f07ed1da-59a4-4a31-a47a-401e20849410",
   "metadata": {},
   "source": [
    "# Diferencias entre Json y Yaml"
   ]
  },
  {
   "cell_type": "markdown",
   "id": "15a469a3-70d4-418c-802f-91c6e4de9bea",
   "metadata": {},
   "source": [
    "| Característica     | JSON                          | YAML                       |\n",
    "|--------------------|-------------------------------|----------------------------|\n",
    "| Sintaxis           | Llaves `{}`, corchetes `[]`   | Sangrías                  |\n",
    "| Comentarios        | ❌ No soporta                  | ✅ Usa `# comentario`     |\n",
    "| Legibilidad        | Media                         | Alta                       |"
   ]
  },
  {
   "cell_type": "markdown",
   "id": "e9c8180b-4fa1-431c-830d-1087e2b4d23b",
   "metadata": {},
   "source": [
    "🧾 Ejemplo de configuración en JSON (config.json):"
   ]
  },
  {
   "cell_type": "code",
   "execution_count": null,
   "id": "d0eb4c6f-07f0-4417-8dd5-e5f105780ca2",
   "metadata": {},
   "outputs": [],
   "source": [
    "%%writefile config_js.json\n",
    "\n",
    "{\n",
    "  \"api_key\": \"sk-abc123\",\n",
    "  \"endpoint\": \"https://api.openai.com/v1/images/generations\",\n",
    "  \"model\": \"dall-e-3\",\n",
    "  \"parameters\": {\n",
    "    \"prompt\": \"a futuristic cityscape at sunset\",\n",
    "    \"n\": 1,\n",
    "    \"size\": \"1024x1024\"\n",
    "  }\n",
    "}\n"
   ]
  },
  {
   "cell_type": "markdown",
   "id": "60d17a4a-1ce6-4c59-ab7c-ad47fa023094",
   "metadata": {},
   "source": [
    "🧾 Ejemplo equivalente en YAML (config.yaml):"
   ]
  },
  {
   "cell_type": "code",
   "execution_count": null,
   "id": "164a3f19-5ff7-46f6-84c3-f7e88a6882da",
   "metadata": {},
   "outputs": [],
   "source": [
    "%%writefile config.yaml\n",
    "# archivo de configuracion \n",
    "api_key: sk-abc123 # api_key\n",
    "endpoint: https://api.openai.com/v1/images/generations\n",
    "model: dall-e-3\n",
    "parameters:\n",
    "  prompt: a futuristic cityscape at sunset\n",
    "  n: 1\n",
    "  size: 1024x1024"
   ]
  },
  {
   "cell_type": "markdown",
   "id": "752a9b58-7fda-4d68-8062-7645d8083c3c",
   "metadata": {},
   "source": [
    "### 📊 Comparación entre JSON y YAML en Python\n",
    "\n",
    "| Característica                     | **JSON**                                    | **YAML**                                       |\n",
    "|------------------------------------|---------------------------------------------|------------------------------------------------|\n",
    "| Formato                            | Basado en texto estructurado (estilo objeto) | Más simple y legible (basado en sangrías)      |\n",
    "| Ejemplo de archivo                 | `{ \"nombre\": \"Ana\", \"edad\": 30 }`           | `nombre: Ana`<br>`edad: 30`                    |\n",
    "| Comentarios                        | ❌ No permite                                | ✅ Soporta `# comentarios`                      |\n",
    "| Multidocumento                     | ❌ No admite                                 | ✅ Usa `---` para separar documentos            |\n",
    "| Orden de claves                    | 🔁 Puede cambiar al cargar                   | ✅ Mantiene orden (según PyYAML)               |\n",
    "| Librería estándar                  | ✅ `json` incluida con Python                | ❌ Requiere instalación: `pip install pyyaml`  |\n",
    "| Lectura desde archivo              | `json.load(f)`                              | `yaml.safe_load(f)`                            |\n",
    "| Escritura a archivo                | `json.dump(obj, f)`                         | `yaml.dump(obj, f)`                            |\n",
    "| Conversión a string                | `json.dumps(obj)`                           | `yaml.dump(obj)`                               |\n",
    "| Legibilidad humana                 | Media (estructurado)                        | Alta (natural)                                 |\n",
    "| Seguridad de carga                 | `json.load()` es seguro                     | Usar `yaml.safe_load()` para evitar riesgos    |\n",
    "| Velocidad                          | Más rápido                                  | Un poco más lento                              |\n",
    "| Ideal para                         | APIs, web, bases de datos                   | Configuración, archivos de entorno             |\n"
   ]
  },
  {
   "cell_type": "markdown",
   "id": "14054fd2-cbbe-404c-8769-0f992cc69677",
   "metadata": {},
   "source": [
    "## obtener datos de configuracion de archivos"
   ]
  },
  {
   "cell_type": "code",
   "execution_count": null,
   "id": "fc37bfe1-5daf-4046-94df-c36ef279e99d",
   "metadata": {},
   "outputs": [],
   "source": [
    "import yaml # pip instal pyyaml\n",
    "import json"
   ]
  },
  {
   "cell_type": "code",
   "execution_count": null,
   "id": "8430d3dc-2989-4ca7-864c-c29a44be1696",
   "metadata": {},
   "outputs": [],
   "source": [
    "def load_config(filename):\n",
    "    \"\"\"\n",
    "    Carga Archivo de configuración según su formato.\n",
    "\n",
    "    :param filename: Nombre del archivo a cargar.\n",
    "    :type filename: str\n",
    "    :return: Datos de configuración analizados.\n",
    "    :rtype: dict\n",
    "    :raises ValueError: Si el formato del archivo no es compatible.\n",
    "    :raises FileNotFoundError: Si el archivo no existe.\n",
    "    \"\"\"\n",
    "    # Verificar si el archivo existe antes de intentar abrirlo\n",
    "    try:\n",
    "        with open(filename, \"r\") as f:\n",
    "            # Manejo de formatos compatibles (.json, .yaml/.yml)\n",
    "            if filename.endswith(\".json\"):\n",
    "                return json.load(f)\n",
    "            elif filename.endswith((\".yaml\", \".yml\")):\n",
    "                return yaml.safe_load(f)\n",
    "            else:\n",
    "                # Error para formatos no compatibles\n",
    "                raise ValueError(\"Formato no soportado\")\n",
    "    except FileNotFoundError:\n",
    "        # Error si el archivo no se encuentra\n",
    "        raise FileNotFoundError(f\"El archivo {filename} no existe.\")"
   ]
  },
  {
   "cell_type": "code",
   "execution_count": 6,
   "id": "78fd25ce-1680-44b9-9ebd-69100e773f2d",
   "metadata": {},
   "outputs": [
    {
     "data": {
      "text/plain": [
       "{'api_key': 'sk-abc123',\n",
       " 'endpoint': 'https://api.openai.com/v1/images/generations',\n",
       " 'model': 'dall-e-3',\n",
       " 'parameters': {'prompt': 'a futuristic cityscape at sunset',\n",
       "  'n': 1,\n",
       "  'size': '1024x1024'}}"
      ]
     },
     "execution_count": 6,
     "metadata": {},
     "output_type": "execute_result"
    }
   ],
   "source": [
    "load_config(\"config.json\") "
   ]
  },
  {
   "cell_type": "code",
   "execution_count": 7,
   "id": "d77981f6-ae3c-41a9-973a-1ada1af128e6",
   "metadata": {},
   "outputs": [
    {
     "data": {
      "text/plain": [
       "{'api_key': 'sk-abc123',\n",
       " 'endpoint': 'https://api.openai.com/v1/images/generations',\n",
       " 'model': 'dall-e-3',\n",
       " 'parameters': {'prompt': 'a futuristic cityscape at sunset',\n",
       "  'n': 1,\n",
       "  'size': '1024x1024'}}"
      ]
     },
     "execution_count": 7,
     "metadata": {},
     "output_type": "execute_result"
    }
   ],
   "source": [
    "load_config(\"config.yaml\")"
   ]
  },
  {
   "cell_type": "code",
   "execution_count": 9,
   "id": "7ccc44de-ac03-480d-94e3-fa7bb21967c9",
   "metadata": {},
   "outputs": [
    {
     "data": {
      "text/plain": [
       "dict"
      ]
     },
     "execution_count": 9,
     "metadata": {},
     "output_type": "execute_result"
    }
   ],
   "source": [
    "type(load_config(\"config.yaml\")) "
   ]
  },
  {
   "cell_type": "markdown",
   "id": "15c88c2e-1908-4774-b0b7-493ed029483e",
   "metadata": {},
   "source": [
    "## Serializar Datos en archivos"
   ]
  },
  {
   "cell_type": "markdown",
   "id": "c7d033e6-a4a8-4228-80d2-7e87690552c6",
   "metadata": {},
   "source": [
    "Creamos datos para serializar"
   ]
  },
  {
   "cell_type": "code",
   "execution_count": 15,
   "id": "c65c9f60-b559-44e8-b1af-ed513265b405",
   "metadata": {},
   "outputs": [],
   "source": [
    "datos= [{\n",
    "    \"nombre\":\"jesus\",\n",
    "    \"edad\":2025,\n",
    "    \"alumno\":True\n",
    "},{\n",
    "    \"nombre\":\"jorge\",\n",
    "    \"edad\":88\n",
    "}]"
   ]
  },
  {
   "cell_type": "code",
   "execution_count": 16,
   "id": "3a8c8889-091e-40f9-b07e-401e0c827b22",
   "metadata": {},
   "outputs": [
    {
     "data": {
      "text/plain": [
       "[{'nombre': 'jesus', 'edad': 2025, 'alumno': True},\n",
       " {'nombre': 'jorge', 'edad': 88}]"
      ]
     },
     "execution_count": 16,
     "metadata": {},
     "output_type": "execute_result"
    }
   ],
   "source": [
    "datos"
   ]
  },
  {
   "cell_type": "markdown",
   "id": "5095fb38-30d9-44a6-8a0f-198941de0028",
   "metadata": {},
   "source": [
    "### Mostramos los datos en un strig con json y yaml"
   ]
  },
  {
   "cell_type": "code",
   "execution_count": 18,
   "id": "41ba0de9-d0f2-4bd3-882a-3d68d4331bdd",
   "metadata": {},
   "outputs": [
    {
     "name": "stdout",
     "output_type": "stream",
     "text": [
      "- alumno: true\n",
      "  edad: 2025\n",
      "  nombre: jesus\n",
      "- edad: 88\n",
      "  nombre: jorge\n",
      "\n"
     ]
    }
   ],
   "source": [
    "print(yaml.dump(datos, indent=2))"
   ]
  },
  {
   "cell_type": "code",
   "execution_count": 19,
   "id": "ac897fc6-3b10-4c7f-91df-caa7dfbe3fef",
   "metadata": {},
   "outputs": [
    {
     "name": "stdout",
     "output_type": "stream",
     "text": [
      "alumno: true\n",
      "edad: 2025\n",
      "nombre: jesus\n",
      "---\n",
      "edad: 88\n",
      "nombre: jorge\n",
      "\n"
     ]
    }
   ],
   "source": [
    "print(yaml.dump_all(datos, indent=4)) # separa los datos "
   ]
  },
  {
   "cell_type": "code",
   "execution_count": 20,
   "id": "99ede0fe-077b-468e-a813-d0a5d7413c28",
   "metadata": {},
   "outputs": [
    {
     "name": "stdout",
     "output_type": "stream",
     "text": [
      "[\n",
      "    {\n",
      "        \"nombre\": \"jesus\",\n",
      "        \"edad\": 2025,\n",
      "        \"alumno\": true\n",
      "    },\n",
      "    {\n",
      "        \"nombre\": \"jorge\",\n",
      "        \"edad\": 88\n",
      "    }\n",
      "]\n"
     ]
    }
   ],
   "source": [
    "print(json.dumps(datos, indent=4))"
   ]
  },
  {
   "cell_type": "markdown",
   "id": "02e4aa88-b5e4-4cc8-a601-6b4192c74481",
   "metadata": {},
   "source": [
    "### Guardad los datos con json y yaml"
   ]
  },
  {
   "cell_type": "code",
   "execution_count": 21,
   "id": "5a0b3e83-b581-423b-b892-92e2c6864ce0",
   "metadata": {},
   "outputs": [],
   "source": [
    "with open(\"datos.yaml\", \"w\") as file:\n",
    "    yaml.dump(datos, file)"
   ]
  },
  {
   "cell_type": "code",
   "execution_count": 22,
   "id": "23fabf96-d9b1-4925-aa95-ef28282bdab5",
   "metadata": {},
   "outputs": [
    {
     "name": "stdout",
     "output_type": "stream",
     "text": [
      "- alumno: true\n",
      "  edad: 2025\n",
      "  nombre: jesus\n",
      "- edad: 88\n",
      "  nombre: jorge\n"
     ]
    }
   ],
   "source": [
    "!more datos.yaml"
   ]
  },
  {
   "cell_type": "code",
   "execution_count": 23,
   "id": "7780cb94-850e-4d59-b977-8b7564362613",
   "metadata": {},
   "outputs": [],
   "source": [
    "with open(\"datos_sep.yaml\", \"w\") as file:\n",
    "    yaml.dump_all(datos, stream=file)"
   ]
  },
  {
   "cell_type": "code",
   "execution_count": 24,
   "id": "cb1dec17-bfdc-4acc-a3f8-9af5a4fe4ede",
   "metadata": {},
   "outputs": [
    {
     "name": "stdout",
     "output_type": "stream",
     "text": [
      "alumno: true\n",
      "edad: 2025\n",
      "nombre: jesus\n",
      "---\n",
      "edad: 88\n",
      "nombre: jorge\n"
     ]
    }
   ],
   "source": [
    "!more datos_sep.yaml"
   ]
  },
  {
   "cell_type": "code",
   "execution_count": 25,
   "id": "b9629d15-1d5f-4a4d-aec3-60c6d662cb14",
   "metadata": {},
   "outputs": [],
   "source": [
    "with open(\"datos.json\", \"w\") as file:\n",
    "    json.dump(datos, file, indent=2)"
   ]
  },
  {
   "cell_type": "code",
   "execution_count": 26,
   "id": "d049c685-2510-4677-9d2e-d102737dee74",
   "metadata": {
    "scrolled": true
   },
   "outputs": [
    {
     "name": "stdout",
     "output_type": "stream",
     "text": [
      "[\n",
      "  {\n",
      "    \"nombre\": \"jesus\",\n",
      "    \"edad\": 2025,\n",
      "    \"alumno\": true\n",
      "  },\n",
      "  {\n",
      "    \"nombre\": \"jorge\",\n",
      "    \"edad\": 88\n",
      "  }\n",
      "]\n"
     ]
    }
   ],
   "source": [
    "!more datos.json"
   ]
  },
  {
   "cell_type": "markdown",
   "id": "cc2e7256-5096-4f1e-88ec-414694d92bc4",
   "metadata": {},
   "source": [
    "## Cargar Datos desde archivos"
   ]
  },
  {
   "cell_type": "markdown",
   "id": "b29d8d33-7ed5-413c-a494-ea74fbd81848",
   "metadata": {},
   "source": [
    "### Cargar dese yaml"
   ]
  },
  {
   "cell_type": "code",
   "execution_count": 27,
   "id": "ba77bea7-c74b-4cfc-8afa-47be6d37f77e",
   "metadata": {},
   "outputs": [],
   "source": [
    "with open (\"datos.yaml\", \"r\") as f:\n",
    "    datos_leidos_yaml = yaml.safe_load(f)"
   ]
  },
  {
   "cell_type": "code",
   "execution_count": 28,
   "id": "b2d85be1-394f-4f9d-a7a5-4dbaab77414d",
   "metadata": {},
   "outputs": [
    {
     "data": {
      "text/plain": [
       "list"
      ]
     },
     "execution_count": 28,
     "metadata": {},
     "output_type": "execute_result"
    }
   ],
   "source": [
    "type(datos_leidos_yaml) "
   ]
  },
  {
   "cell_type": "code",
   "execution_count": 29,
   "id": "8f381b79-6d3f-45c7-9058-0c147919f62c",
   "metadata": {},
   "outputs": [
    {
     "data": {
      "text/plain": [
       "[{'alumno': True, 'edad': 2025, 'nombre': 'jesus'},\n",
       " {'edad': 88, 'nombre': 'jorge'}]"
      ]
     },
     "execution_count": 29,
     "metadata": {},
     "output_type": "execute_result"
    }
   ],
   "source": [
    "datos_leidos_yaml"
   ]
  },
  {
   "cell_type": "code",
   "execution_count": 30,
   "id": "6e7f2d30-fa3e-406c-bce3-9033eca9d6c9",
   "metadata": {},
   "outputs": [
    {
     "ename": "ComposerError",
     "evalue": "expected a single document in the stream\n  in \"datos_sep.yaml\", line 1, column 1\nbut found another document\n  in \"datos_sep.yaml\", line 4, column 1",
     "output_type": "error",
     "traceback": [
      "\u001b[1;31m---------------------------------------------------------------------------\u001b[0m",
      "\u001b[1;31mComposerError\u001b[0m                             Traceback (most recent call last)",
      "Input \u001b[1;32mIn [30]\u001b[0m, in \u001b[0;36m<cell line: 1>\u001b[1;34m()\u001b[0m\n\u001b[0;32m      1\u001b[0m \u001b[38;5;28;01mwith\u001b[39;00m \u001b[38;5;28mopen\u001b[39m (\u001b[38;5;124m\"\u001b[39m\u001b[38;5;124mdatos_sep.yaml\u001b[39m\u001b[38;5;124m\"\u001b[39m, \u001b[38;5;124m\"\u001b[39m\u001b[38;5;124mr\u001b[39m\u001b[38;5;124m\"\u001b[39m) \u001b[38;5;28;01mas\u001b[39;00m f:\n\u001b[1;32m----> 2\u001b[0m     datos_leidos_yaml \u001b[38;5;241m=\u001b[39m \u001b[43myaml\u001b[49m\u001b[38;5;241;43m.\u001b[39;49m\u001b[43msafe_load\u001b[49m\u001b[43m(\u001b[49m\u001b[43mf\u001b[49m\u001b[43m)\u001b[49m\n",
      "File \u001b[1;32m~\\AppData\\Roaming\\Python\\Python310\\site-packages\\yaml\\__init__.py:125\u001b[0m, in \u001b[0;36msafe_load\u001b[1;34m(stream)\u001b[0m\n\u001b[0;32m    117\u001b[0m \u001b[38;5;28;01mdef\u001b[39;00m\u001b[38;5;250m \u001b[39m\u001b[38;5;21msafe_load\u001b[39m(stream):\n\u001b[0;32m    118\u001b[0m \u001b[38;5;250m    \u001b[39m\u001b[38;5;124;03m\"\"\"\u001b[39;00m\n\u001b[0;32m    119\u001b[0m \u001b[38;5;124;03m    Parse the first YAML document in a stream\u001b[39;00m\n\u001b[0;32m    120\u001b[0m \u001b[38;5;124;03m    and produce the corresponding Python object.\u001b[39;00m\n\u001b[1;32m   (...)\u001b[0m\n\u001b[0;32m    123\u001b[0m \u001b[38;5;124;03m    to be safe for untrusted input.\u001b[39;00m\n\u001b[0;32m    124\u001b[0m \u001b[38;5;124;03m    \"\"\"\u001b[39;00m\n\u001b[1;32m--> 125\u001b[0m     \u001b[38;5;28;01mreturn\u001b[39;00m \u001b[43mload\u001b[49m\u001b[43m(\u001b[49m\u001b[43mstream\u001b[49m\u001b[43m,\u001b[49m\u001b[43m \u001b[49m\u001b[43mSafeLoader\u001b[49m\u001b[43m)\u001b[49m\n",
      "File \u001b[1;32m~\\AppData\\Roaming\\Python\\Python310\\site-packages\\yaml\\__init__.py:81\u001b[0m, in \u001b[0;36mload\u001b[1;34m(stream, Loader)\u001b[0m\n\u001b[0;32m     79\u001b[0m loader \u001b[38;5;241m=\u001b[39m Loader(stream)\n\u001b[0;32m     80\u001b[0m \u001b[38;5;28;01mtry\u001b[39;00m:\n\u001b[1;32m---> 81\u001b[0m     \u001b[38;5;28;01mreturn\u001b[39;00m \u001b[43mloader\u001b[49m\u001b[38;5;241;43m.\u001b[39;49m\u001b[43mget_single_data\u001b[49m\u001b[43m(\u001b[49m\u001b[43m)\u001b[49m\n\u001b[0;32m     82\u001b[0m \u001b[38;5;28;01mfinally\u001b[39;00m:\n\u001b[0;32m     83\u001b[0m     loader\u001b[38;5;241m.\u001b[39mdispose()\n",
      "File \u001b[1;32m~\\AppData\\Roaming\\Python\\Python310\\site-packages\\yaml\\constructor.py:49\u001b[0m, in \u001b[0;36mBaseConstructor.get_single_data\u001b[1;34m(self)\u001b[0m\n\u001b[0;32m     47\u001b[0m \u001b[38;5;28;01mdef\u001b[39;00m\u001b[38;5;250m \u001b[39m\u001b[38;5;21mget_single_data\u001b[39m(\u001b[38;5;28mself\u001b[39m):\n\u001b[0;32m     48\u001b[0m     \u001b[38;5;66;03m# Ensure that the stream contains a single document and construct it.\u001b[39;00m\n\u001b[1;32m---> 49\u001b[0m     node \u001b[38;5;241m=\u001b[39m \u001b[38;5;28;43mself\u001b[39;49m\u001b[38;5;241;43m.\u001b[39;49m\u001b[43mget_single_node\u001b[49m\u001b[43m(\u001b[49m\u001b[43m)\u001b[49m\n\u001b[0;32m     50\u001b[0m     \u001b[38;5;28;01mif\u001b[39;00m node \u001b[38;5;129;01mis\u001b[39;00m \u001b[38;5;129;01mnot\u001b[39;00m \u001b[38;5;28;01mNone\u001b[39;00m:\n\u001b[0;32m     51\u001b[0m         \u001b[38;5;28;01mreturn\u001b[39;00m \u001b[38;5;28mself\u001b[39m\u001b[38;5;241m.\u001b[39mconstruct_document(node)\n",
      "File \u001b[1;32m~\\AppData\\Roaming\\Python\\Python310\\site-packages\\yaml\\composer.py:41\u001b[0m, in \u001b[0;36mComposer.get_single_node\u001b[1;34m(self)\u001b[0m\n\u001b[0;32m     39\u001b[0m \u001b[38;5;28;01mif\u001b[39;00m \u001b[38;5;129;01mnot\u001b[39;00m \u001b[38;5;28mself\u001b[39m\u001b[38;5;241m.\u001b[39mcheck_event(StreamEndEvent):\n\u001b[0;32m     40\u001b[0m     event \u001b[38;5;241m=\u001b[39m \u001b[38;5;28mself\u001b[39m\u001b[38;5;241m.\u001b[39mget_event()\n\u001b[1;32m---> 41\u001b[0m     \u001b[38;5;28;01mraise\u001b[39;00m ComposerError(\u001b[38;5;124m\"\u001b[39m\u001b[38;5;124mexpected a single document in the stream\u001b[39m\u001b[38;5;124m\"\u001b[39m,\n\u001b[0;32m     42\u001b[0m             document\u001b[38;5;241m.\u001b[39mstart_mark, \u001b[38;5;124m\"\u001b[39m\u001b[38;5;124mbut found another document\u001b[39m\u001b[38;5;124m\"\u001b[39m,\n\u001b[0;32m     43\u001b[0m             event\u001b[38;5;241m.\u001b[39mstart_mark)\n\u001b[0;32m     45\u001b[0m \u001b[38;5;66;03m# Drop the STREAM-END event.\u001b[39;00m\n\u001b[0;32m     46\u001b[0m \u001b[38;5;28mself\u001b[39m\u001b[38;5;241m.\u001b[39mget_event()\n",
      "\u001b[1;31mComposerError\u001b[0m: expected a single document in the stream\n  in \"datos_sep.yaml\", line 1, column 1\nbut found another document\n  in \"datos_sep.yaml\", line 4, column 1"
     ]
    }
   ],
   "source": [
    "with open (\"datos_sep.yaml\", \"r\") as f:\n",
    "    datos_leidos_yaml = yaml.safe_load(f)"
   ]
  },
  {
   "cell_type": "markdown",
   "id": "034e69d7-5252-46e6-8d4c-81b50c252378",
   "metadata": {},
   "source": [
    "#### leer datos separados de un yaml con varios datos"
   ]
  },
  {
   "cell_type": "code",
   "execution_count": 31,
   "id": "42c50d9c-95b0-49b1-8706-06a0f9ece0f8",
   "metadata": {},
   "outputs": [
    {
     "name": "stdout",
     "output_type": "stream",
     "text": [
      "<class 'generator'>\n",
      "<class 'dict'> {'alumno': True, 'edad': 2025, 'nombre': 'jesus'}\n",
      "<class 'dict'> {'edad': 88, 'nombre': 'jorge'}\n"
     ]
    }
   ],
   "source": [
    "with open (\"datos_sep.yaml\", \"r\") as f:\n",
    "    datos_sep_leidos_yaml = yaml.safe_load_all(f)\n",
    "    print(type(datos_sep_leidos_yaml))\n",
    "    for dat in datos_sep_leidos_yaml:\n",
    "        print(type(dat), dat)"
   ]
  },
  {
   "cell_type": "markdown",
   "id": "ccab1407-c80f-4f2f-b749-e94a3695440e",
   "metadata": {},
   "source": [
    "## Leer datos desde un json"
   ]
  },
  {
   "cell_type": "code",
   "execution_count": 32,
   "id": "7b76fa86-89b0-430c-8acb-3c898bed00e3",
   "metadata": {},
   "outputs": [],
   "source": [
    "with open (\"datos.json\", \"r\") as f:\n",
    "    datos_leidos_json = json.load(f)"
   ]
  },
  {
   "cell_type": "code",
   "execution_count": 33,
   "id": "25ecd287-0d4f-41c7-b823-e471b7e92338",
   "metadata": {},
   "outputs": [
    {
     "data": {
      "text/plain": [
       "list"
      ]
     },
     "execution_count": 33,
     "metadata": {},
     "output_type": "execute_result"
    }
   ],
   "source": [
    "type(datos_leidos_json)"
   ]
  },
  {
   "cell_type": "code",
   "execution_count": 34,
   "id": "87f891fd-1b8f-4e4f-b59d-54caa5f7ab96",
   "metadata": {},
   "outputs": [
    {
     "data": {
      "text/plain": [
       "[{'nombre': 'jesus', 'edad': 2025, 'alumno': True},\n",
       " {'nombre': 'jorge', 'edad': 88}]"
      ]
     },
     "execution_count": 34,
     "metadata": {},
     "output_type": "execute_result"
    }
   ],
   "source": [
    "datos_leidos_json"
   ]
  },
  {
   "cell_type": "code",
   "execution_count": null,
   "id": "a29a9267-aa86-45d6-9007-3c0b64fa8fce",
   "metadata": {},
   "outputs": [],
   "source": []
  },
  {
   "cell_type": "code",
   "execution_count": null,
   "id": "b46cdfa1-62b1-4b01-8caf-f70c3cb14b1a",
   "metadata": {},
   "outputs": [],
   "source": []
  },
  {
   "cell_type": "code",
   "execution_count": null,
   "id": "87fd258a-a55e-4fa1-9e95-1680e8bfe422",
   "metadata": {},
   "outputs": [],
   "source": []
  },
  {
   "cell_type": "code",
   "execution_count": 35,
   "id": "f8f4a239-6f9e-4f92-af2c-e66c74e9a356",
   "metadata": {},
   "outputs": [],
   "source": [
    "lista = [list(range(10)), dict(((\"nombre\",\"emiliano\"),(\"edad\",50)))]"
   ]
  },
  {
   "cell_type": "code",
   "execution_count": 36,
   "id": "673270a1-02f3-4829-9923-c55f3431e644",
   "metadata": {},
   "outputs": [
    {
     "data": {
      "text/plain": [
       "[[0, 1, 2, 3, 4, 5, 6, 7, 8, 9], {'nombre': 'emiliano', 'edad': 50}]"
      ]
     },
     "execution_count": 36,
     "metadata": {},
     "output_type": "execute_result"
    }
   ],
   "source": [
    "lista"
   ]
  },
  {
   "cell_type": "code",
   "execution_count": 37,
   "id": "df1d9cb0-a512-4d78-8229-236f2cc33ddb",
   "metadata": {},
   "outputs": [
    {
     "name": "stdout",
     "output_type": "stream",
     "text": [
      "- - 0\n",
      "  - 1\n",
      "  - 2\n",
      "  - 3\n",
      "  - 4\n",
      "  - 5\n",
      "  - 6\n",
      "  - 7\n",
      "  - 8\n",
      "  - 9\n",
      "- edad: 50\n",
      "  nombre: emiliano\n",
      "\n"
     ]
    }
   ],
   "source": [
    "print(yaml.dump(lista))"
   ]
  },
  {
   "cell_type": "code",
   "execution_count": 38,
   "id": "d4c95ea7-89b8-4676-8053-1ef1ee2e67c0",
   "metadata": {},
   "outputs": [
    {
     "name": "stdout",
     "output_type": "stream",
     "text": [
      "- 0\n",
      "- 1\n",
      "- 2\n",
      "- 3\n",
      "- 4\n",
      "- 5\n",
      "- 6\n",
      "- 7\n",
      "- 8\n",
      "- 9\n",
      "---\n",
      "edad: 50\n",
      "nombre: emiliano\n",
      "\n"
     ]
    }
   ],
   "source": [
    "print(yaml.dump_all(lista))"
   ]
  },
  {
   "cell_type": "markdown",
   "id": "357f0ce8-8791-4592-93c1-517c925c3641",
   "metadata": {},
   "source": [
    "## Como experto en seguridad en software , que recomendas para configurar un software que necesita llaves api_keys de distintas api, hasta ahora estaba usando yaml o json para eso pero no quiero exponer mis api_keys"
   ]
  },
  {
   "cell_type": "markdown",
   "id": "fb581aa7-d32c-421a-88ac-3275dda8fab7",
   "metadata": {},
   "source": [
    "GPT :Proteger las API keys es crucial para mantener la seguridad de tus aplicaciones y servicios. Aquí hay algunas recomendaciones que puedes seguir para evitar exponer tus claves de API al configurarlas en tu software:"
   ]
  },
  {
   "cell_type": "markdown",
   "id": "01d980ef-121b-479b-8ffd-cd015797feb6",
   "metadata": {},
   "source": [
    "1. **Variables de Entorno**:\n",
    "   - Utiliza variables de entorno para almacenar tus claves de API. La mayoría de los lenguajes y marcos de trabajo permiten acceder a estas variables de manera fácil y segura. Esto evita que las claves se escriban directamente en el código o en archivos de configuración que puedan ser accidentalmente expuestos."
   ]
  },
  {
   "cell_type": "markdown",
   "id": "581f379e-9e75-458c-bf5a-7b0a02db9343",
   "metadata": {},
   "source": [
    "2. **Archivos de Configuración Ignorados**:\n",
    "   - Si decides seguir usando archivos como YAML o JSON, asegúrate de que esos archivos conteniendo las claves de API no estén incluidos en tu control de versiones (como Git). Puedes hacer esto agregando un archivo `.gitignore` para que Git ignore el archivo con tus claves."
   ]
  },
  {
   "cell_type": "markdown",
   "id": "1dd4d083-a0ea-4cbc-ade7-adcf08f7b1cd",
   "metadata": {},
   "source": [
    "3. **Gestores de Secretos**:\n",
    "   - Considera usar un gestor de secretos como AWS Secrets Manager, Azure Key Vault, HashiCorp Vault o Docker Secrets para almacenar tus credenciales de forma segura. Estos servicios están diseñados específicamente para manejar secretos de manera segura y permiten un acceso controlado y registro de auditoría."
   ]
  },
  {
   "cell_type": "markdown",
   "id": "04f05628-94da-4c24-92e4-693a8707d005",
   "metadata": {},
   "source": [
    "4. **Cifrado**:\n",
    "   - Si necesitas almacenar las claves en archivos, considera cifrarlas. Asegúrate de que la clave de cifrado no esté en el mismo sistema que los datos cifrados, y utiliza bibliotecas de cifrado robustas y bien mantenidas."
   ]
  },
  {
   "cell_type": "markdown",
   "id": "95c8315d-dd29-4ed6-9236-9f20bd9bc440",
   "metadata": {},
   "source": [
    "5. **Control de Acceso**:\n",
    "   - Implementa controles de acceso y permisos estrictos en tu aplicación. Asegúrate de que solo los servicios y usuarios autorizados tengan acceso a las claves de API."
   ]
  },
  {
   "cell_type": "markdown",
   "id": "727480ba-c255-460e-84b2-6eb2ec50e8f6",
   "metadata": {},
   "source": [
    "6. **Revisión de Código y Auditoría**:\n",
    "   - Haz revisiones de código regularmente para asegurarte de que no se están incluyendo accidentalmente API keys en el código fuente. También considera realizar auditorías de seguridad para identificar posibles vulnerabilidades."
   ]
  },
  {
   "cell_type": "markdown",
   "id": "7b1e24a3-6806-425b-aeac-080bf0b95b67",
   "metadata": {},
   "source": [
    "7. **Rotación de Claves**:\n",
    "   - Establece una política para la rotación regular de tus API keys. Esto significa que, incluso si alguna vez se expusiera una clave, su tiempo de utilidad sería limitado."
   ]
  },
  {
   "cell_type": "markdown",
   "id": "299afd0b-9930-4d0d-a4fd-0f28a744acb7",
   "metadata": {},
   "source": [
    "8. **Monitoreo y Alertas**:\n",
    "   - Implementa un sistema de monitoreo para detectar el uso inusual de tus API keys, lo que podría señalar un compromiso.\n",
    "\n",
    "Implementando estas prácticas, puedes mejorar significativamente la seguridad de tus API keys y reducir el riesgo de exposición."
   ]
  },
  {
   "cell_type": "markdown",
   "id": "e979d169-c7a5-4168-9b39-a41a964bf281",
   "metadata": {},
   "source": [
    "## Y usar dotenv lo recomendas como alternativa a ponerla como variables de entorno, ya que tengo varios scripts pero en distintos entornos y usas distintas apis de los mismo servicios"
   ]
  },
  {
   "cell_type": "markdown",
   "id": "e7539002-8da1-4e4b-8e9d-a0c22a100c09",
   "metadata": {},
   "source": [
    "GPT :Usar `dotenv` es una práctica válida y ampliamente recomendada para manejar configuraciones sensibles, incluidas las API keys, en entornos de desarrollo y producción. Aquí tienes algunos aspectos a considerar sobre el uso de `dotenv`:"
   ]
  },
  {
   "cell_type": "markdown",
   "id": "84863ead-a599-458d-a57e-d646e3e8dcc3",
   "metadata": {},
   "source": [
    "### Ventajas de usar `dotenv`"
   ]
  },
  {
   "cell_type": "markdown",
   "id": "d71f2571-5437-4df1-861f-04a63719e8df",
   "metadata": {},
   "source": [
    "1. **Simplicidad**:\n",
    "   - `dotenv` permite cargar configuraciones desde un archivo `.env` en el directorio raíz de tu proyecto, lo que facilita su gestión. Esto es especialmente útil para proyectos con múltiples scripts y entornos."
   ]
  },
  {
   "cell_type": "markdown",
   "id": "6830dc53-a96f-4b2d-8fbc-a90ffb18d14a",
   "metadata": {},
   "source": [
    "2. **Separación de Configuración y Código**:\n",
    "   - Al usar un archivo `.env`, separas tus configuraciones sensibles del código fuente. Esto facilita el manejo de diferentes entornos (desarrollo, pruebas, producción) al tener configuraciones específicas en cada archivo `.env`."
   ]
  },
  {
   "cell_type": "markdown",
   "id": "61e472cd-28c9-4e02-9135-d6761dcb07c7",
   "metadata": {},
   "source": [
    "3. **Facilidad de Uso**:\n",
    "   - La mayoría de los lenguajes y marcos de trabajo (como Node.js, Python, Ruby, etc.) tienen bibliotecas que permiten cargar variables desde un archivo `.env` de manera sencilla."
   ]
  },
  {
   "cell_type": "markdown",
   "id": "0b32d796-0dcf-4330-9d1c-3d7fbdb9acf6",
   "metadata": {},
   "source": [
    "4. **No se Expondrá en el Control de Versiones**:\n",
    "   - Puedes agregar el archivo `.env` a tu `.gitignore`, evitando que se suba accidentalmente a un repositorio público o compartido."
   ]
  },
  {
   "cell_type": "markdown",
   "id": "8f8ee788-a6a1-48e6-be9e-f55c8e0d20e5",
   "metadata": {},
   "source": [
    "### Recomendaciones al usar `dotenv`"
   ]
  },
  {
   "cell_type": "markdown",
   "id": "789c5750-49b9-4aff-b357-d5352d7c1cb1",
   "metadata": {},
   "source": [
    "1. **Mantén el archivo `.env` fuera del control de versiones**:\n",
    "   - Asegúrate de incluir el archivo `.env` en tu `.gitignore` para evitar que se suba al repositorio. Esto es crucial para proteger tus claves de API."
   ]
  },
  {
   "cell_type": "markdown",
   "id": "bc8d8e63-ccfa-4377-b58b-2b07ebab6d1e",
   "metadata": {},
   "source": [
    "2. **Crea un archivo de ejemplo**:\n",
    "   - Considera crear un archivo `.env.example` que contenga las claves y variables que se esperan (sin valores reales), para que otros desarrolladores puedan ver qué variables necesitan configurar."
   ]
  },
  {
   "cell_type": "markdown",
   "id": "a7b6f413-61f4-4fb2-98dd-8e842986774c",
   "metadata": {},
   "source": [
    "3. **Cargar Configuraciones en el Código**:\n",
    "   - Asegúrate de cargar las variables de entorno en la parte superior de tus scripts. En JavaScript, por ejemplo, podrías usar algo como `require('dotenv').config();` al inicio de tu archivo."
   ]
  },
  {
   "cell_type": "markdown",
   "id": "9880f569-dbdd-45b1-986e-e24a35d7a317",
   "metadata": {},
   "source": [
    "4. **Validación de Entorno**:\n",
    "   - Implementa validaciones para asegurar que todas las variables necesarias están presentes al iniciar tu aplicación. Esto puede ayudar a evitar errores en entornos de producción."
   ]
  },
  {
   "cell_type": "markdown",
   "id": "5f87f241-6f35-4e6e-98e3-87b51a6d410e",
   "metadata": {},
   "source": [
    "5. **Gestión de múltiples entornos**:\n",
    "   - Si te preocupa gestionar múltiples entornos, considera tener diferentes archivos `.env` (como `.env.development`, `.env.production`, etc.) y cargar el archivo correspondiente según el entorno en el que estés ejecutando tu aplicación."
   ]
  },
  {
   "cell_type": "markdown",
   "id": "7b8d9a1c-5780-435a-b8f4-57a3270cf6db",
   "metadata": {},
   "source": [
    "### Conclusión"
   ]
  },
  {
   "cell_type": "markdown",
   "id": "fe887b8f-5603-41fa-8d57-1424841874ef",
   "metadata": {},
   "source": [
    "Usar `dotenv` es una solución efectiva para manejar configuraciones sensibles en tu software, especialmente en entornos donde diferentes scripts necesitan diferentes configuraciones. Asegúrate de seguir las mejores prácticas mencionadas para maximizar la seguridad de tus API keys y otras configuraciones."
   ]
  },
  {
   "cell_type": "markdown",
   "id": "7ede7410-ff47-4a21-8cbb-940a9279a5a6",
   "metadata": {},
   "source": [
    "## explicame el uso de dotenv con python"
   ]
  },
  {
   "cell_type": "markdown",
   "id": "8c908bcb-9a03-4b85-9449-f8a802b69817",
   "metadata": {},
   "source": [
    "GPT :El uso de `dotenv` en Python es bastante sencillo y te permite gestionar configuraciones y credenciales de forma segura mediante un archivo `.env`. Aquí te explicaré cómo usarlo paso a paso."
   ]
  },
  {
   "cell_type": "markdown",
   "id": "081bc837-d948-4246-9214-3959c6337d86",
   "metadata": {},
   "source": [
    "### 1. Instalación de `python-dotenv`"
   ]
  },
  {
   "cell_type": "markdown",
   "id": "5bc36c3c-771f-41f0-a74d-b296acfc1b62",
   "metadata": {},
   "source": [
    "Primero, necesitas instalar la biblioteca `python-dotenv`. Puedes hacerlo usando `pip`:\n",
    "\n",
    "```bash\n",
    "pip install python-dotenv\n",
    "```"
   ]
  },
  {
   "cell_type": "markdown",
   "id": "f0177e0a-5bf0-437d-bbec-8b76a9c7f862",
   "metadata": {},
   "source": [
    "### 2. Creación del Archivo `.env`"
   ]
  },
  {
   "cell_type": "markdown",
   "id": "ab86c46f-b1f4-4ba2-86f7-d9167d56ed38",
   "metadata": {},
   "source": [
    "Crea un archivo llamado `.env` en el directorio raíz de tu proyecto. Este archivo contendrá las variables de entorno que deseas definir. Por ejemplo:\n",
    "\n",
    "```plaintext\n",
    "# .env\n",
    "API_KEY=mi_api_key_secreta\n",
    "DB_USER=mi_usuario\n",
    "DB_PASSWORD=mi_contraseña\n",
    "```"
   ]
  },
  {
   "cell_type": "code",
   "execution_count": 40,
   "id": "c19bd93d-8686-467c-9a96-a61daf13c373",
   "metadata": {},
   "outputs": [
    {
     "name": "stdout",
     "output_type": "stream",
     "text": [
      "Writing .env\n"
     ]
    }
   ],
   "source": [
    "%%writefile .env\n",
    "API_KEY=mi_api_key_secreta\n",
    "DB_USER=mi_usuario\n",
    "DB_PASSWORD=mi_contraseña"
   ]
  },
  {
   "cell_type": "markdown",
   "id": "0ed21a42-2129-4513-a766-d8358ba1d070",
   "metadata": {},
   "source": [
    "### 3. Cargar las Variables en tu Código Python"
   ]
  },
  {
   "cell_type": "markdown",
   "id": "3179413b-c98c-4575-b74c-37dde4aeb4d1",
   "metadata": {},
   "source": [
    "Ahora que tienes el archivo `.env` configurado, puedes cargar las variables en tu aplicación. Aquí hay un ejemplo de cómo hacerlo:\n",
    "\n",
    "```python\n",
    "import os\n",
    "from dotenv import load_dotenv\n",
    "\n",
    "# Cargar las variables del archivo .env\n",
    "load_dotenv()\n",
    "\n",
    "# Acceder a las variables de entorno\n",
    "api_key = os.getenv('API_KEY')\n",
    "db_user = os.getenv('DB_USER')\n",
    "db_password = os.getenv('DB_PASSWORD')\n",
    "\n",
    "# Usar las variables en tu aplicación\n",
    "print(f\"API Key: {api_key}\")\n",
    "print(f\"Database User: {db_user}\")\n",
    "```"
   ]
  },
  {
   "cell_type": "code",
   "execution_count": 43,
   "id": "e1a19450-e6e7-4b18-98e1-4d6c2d5d2e3c",
   "metadata": {},
   "outputs": [
    {
     "name": "stdout",
     "output_type": "stream",
     "text": [
      "API Key: mi_api_key_secreta\n",
      "Database User: mi_usuario\n",
      "pass : mi_contraseña\n"
     ]
    }
   ],
   "source": [
    "import os\n",
    "from dotenv import load_dotenv\n",
    "\n",
    "# Cargar las variables del archivo .env\n",
    "load_dotenv()\n",
    "\n",
    "# Acceder a las variables de entorno\n",
    "api_key = os.getenv('API_KEY')\n",
    "db_user = os.getenv('DB_USER')\n",
    "db_password = os.getenv('DB_PASSWORD')\n",
    "\n",
    "# Usar las variables en tu aplicación\n",
    "print(f\"API Key: {api_key}\")\n",
    "print(f\"Database User: {db_user}\")\n",
    "print(f\"pass : {db_password}\")"
   ]
  },
  {
   "cell_type": "code",
   "execution_count": 44,
   "id": "f1b19fbd-08a8-4666-b19a-bd3e2949e03e",
   "metadata": {},
   "outputs": [
    {
     "name": "stdout",
     "output_type": "stream",
     "text": [
      "API_KEY=mi_api_key_secreta\n",
      "DB_USER=mi_usuario\n",
      "DB_PASSWORD=mi_contraseÃ±a\n"
     ]
    }
   ],
   "source": [
    "!more .env"
   ]
  },
  {
   "cell_type": "markdown",
   "id": "a9dc7a74-1a0b-41a0-8ac7-74423fae8810",
   "metadata": {},
   "source": [
    "### 4. Ignorar el Archivo `.env`"
   ]
  },
  {
   "cell_type": "markdown",
   "id": "6fea8150-bfe0-4900-a7e9-7f075fd57219",
   "metadata": {},
   "source": [
    "Asegúrate de agregar tu archivo `.env` al archivo `.gitignore` para que no se suba a tu repositorio de control de versiones:\n",
    "\n",
    "```\n",
    "# .gitignore\n",
    ".env\n",
    "```"
   ]
  },
  {
   "cell_type": "markdown",
   "id": "6bf3087d-9c27-471c-bced-5d5ecfcb7564",
   "metadata": {},
   "source": [
    "### 5. Manejo de Errores (Opcional)"
   ]
  },
  {
   "cell_type": "markdown",
   "id": "a4f90ecb-4dec-4fcd-b06f-951d810af758",
   "metadata": {},
   "source": [
    "Es una buena práctica validar que las variables críticas se hayan cargado correctamente. Puedes hacerlo de la siguiente manera:\n",
    "\n",
    "```python\n",
    "import os\n",
    "from dotenv import load_dotenv\n",
    "\n",
    "load_dotenv()\n",
    "\n",
    "# Función de validación\n",
    "def check_env_variable(var_name):\n",
    "    value = os.getenv(var_name)\n",
    "    if value is None:\n",
    "        raise ValueError(f\"La variable de entorno '{var_name}' no está configurada\")\n",
    "    return value\n",
    "\n",
    "# Cargar variables de manera segura\n",
    "api_key = check_env_variable('API_KEY')\n",
    "db_user = check_env_variable('DB_USER')\n",
    "db_password = check_env_variable('DB_PASSWORD')\n",
    "\n",
    "# Usar las variables\n",
    "print(f\"API Key: {api_key}\")\n",
    "print(f\"Database User: {db_user}\")\n",
    "```"
   ]
  },
  {
   "cell_type": "markdown",
   "id": "d36be764-30a6-44ab-83b4-79a0c29b96c1",
   "metadata": {},
   "source": [
    "### 6. Usar Múltiples Entornos"
   ]
  },
  {
   "cell_type": "markdown",
   "id": "44db3e11-fd1e-47d1-be42-206fb8da92e8",
   "metadata": {},
   "source": [
    "Si necesitas manejar múltiples entornos (desarrollo, producción, pruebas), puedes crear diferentes archivos `.env` (como `.env.development`, `.env.production`, etc.) y cargarlos según la necesidad en tu aplicación:\n",
    "\n",
    "```python\n",
    "import os\n",
    "from dotenv import load_dotenv\n",
    "\n",
    "# Puedes especificar el archivo .env a cargar\n",
    "load_dotenv('.env.development')  # O '.env.production' según corresponda\n",
    "\n",
    "# Accede a las variables como antes\n",
    "api_key = os.getenv('API_KEY')\n",
    "```"
   ]
  },
  {
   "cell_type": "markdown",
   "id": "577f3553-44a7-4652-bdb3-1da3d1c0b18a",
   "metadata": {},
   "source": [
    "### Resumen"
   ]
  },
  {
   "cell_type": "markdown",
   "id": "7a492b06-734e-4d3a-aaa5-4aea266d727b",
   "metadata": {},
   "source": [
    "Utilizando `python-dotenv`, puedes cargar fácilmente configuraciones y credenciales desde un archivo `.env`, manteniendo tu código limpio y seguro. Esta práctica ayuda a separar la configuración del código y evita la exposición accidental de información sensible. Siguiendo los pasos y consideraciones mencionadas, podrás gestionar tus configuraciones de forma más segura y eficiente."
   ]
  },
  {
   "cell_type": "code",
   "execution_count": null,
   "id": "38b211c2-0925-4f13-8f98-3a3dd4b3239a",
   "metadata": {},
   "outputs": [],
   "source": []
  },
  {
   "cell_type": "markdown",
   "id": "130269c0-91b9-4e1b-9a03-f86fd2e89fe7",
   "metadata": {},
   "source": [
    "## Eres un desarrollador experto en Python que comprende íntimamente el lenguaje y su ecosistema. También eres un excelente explicador que ayuda a las personas a entender lo que les dices, ya sean principiantes o expertos. Por favor, responde esta pregunta: Explica qué es Pickle y por qué es útil en Python. Sé muy conciso."
   ]
  },
  {
   "cell_type": "markdown",
   "id": "13d7cf13-2485-4d26-a0e3-72e0ba1e84ed",
   "metadata": {},
   "source": [
    "GPT : Pickle es un módulo de Python que permite la serialización y deserialización de objetos. La serialización es el proceso de convertir un objeto de Python en una secuencia de bytes, lo cual facilita su almacena\n",
    "miento en disco o su transmisión a través de una red. La deserialización, por otro lado, convierte esta secuencia de bytes de vuelta en un objeto de Python.\n",
    "\n",
    "Es útil porque permite guardar el estado de un objeto, facilitando la persistencia de datos y el intercambio de información entre diferentes programas o sesiones de ejecución. Por ejemplo, puedes usar Pickle para guardar un modelo entrenado de machine learning y cargarlo posteriormente sin necesidad de volver a entrenarlo. Sin embargo, se debe tener cuidado al deserializar datos de fuentes no confiables, ya que esto puede ser un vector de ataque."
   ]
  },
  {
   "cell_type": "markdown",
   "id": "23799a02-a63c-44ae-b5e7-6359e891b06e",
   "metadata": {},
   "source": [
    "## Explica qué es Pickle y por qué es útil en Python. Sé muy conciso."
   ]
  },
  {
   "cell_type": "markdown",
   "id": "8f07b3ce-31bf-47bc-ac4b-a033c2b8cc2d",
   "metadata": {},
   "source": [
    "GPT : Pickle es un módulo de Python que permite serializar y deserializar objetos, transformando objetos en una secuencia de bytes para su almacenamiento o transmisión. Es útil para guardar el estado de objetos complejos, como modelos de machine learning, y recuperarlos\n",
    " posteriormente sin perder información. Sin embargo, es importante tener cuidado al deserializar datos de fuentes no confiables debido a posibles riesgos de seguridad."
   ]
  },
  {
   "cell_type": "markdown",
   "id": "7d0b7551-24e1-4cff-b5c0-7d151883b43c",
   "metadata": {},
   "source": [
    "emi $: Dame exemplos practicos del uso de pickle"
   ]
  },
  {
   "cell_type": "markdown",
   "id": "27e3536e-b79d-4388-85f6-0015fd567bb5",
   "metadata": {},
   "source": [
    "GPT : Claro, aquí tienes algunos ejemplos prácticos del uso de Pickle en Python:"
   ]
  },
  {
   "cell_type": "markdown",
   "id": "a4d99f71-11f5-472f-b107-aeac833c2824",
   "metadata": {},
   "source": [
    "### Ejemplo 1: Guardar y cargar un objeto simple"
   ]
  },
  {
   "cell_type": "code",
   "execution_count": 45,
   "id": "4df373b4-fd9c-4566-896b-aa73f0730e61",
   "metadata": {},
   "outputs": [],
   "source": [
    "import pickle"
   ]
  },
  {
   "cell_type": "code",
   "execution_count": 46,
   "id": "1cb392d1-555a-4063-831e-54c65d527b75",
   "metadata": {},
   "outputs": [
    {
     "name": "stdout",
     "output_type": "stream",
     "text": [
      "{'nombre': 'Alice', 'edad': 30, 'profesión': 'Ingeniera'}\n"
     ]
    }
   ],
   "source": [
    "# Un objeto simple: un diccionario\n",
    "data = {'nombre': 'Alice', 'edad': 30, 'profesión': 'Ingeniera'}\n",
    "\n",
    "# Serializar y guardar en un archivo\n",
    "with open('data.pkl', 'wb') as file:\n",
    "    pickle.dump(data, file)\n",
    "\n",
    "# Leer y deserializar el objeto\n",
    "with open('data.pkl', 'rb') as file:\n",
    "    loaded_data = pickle.load(file)\n",
    "\n",
    "print(loaded_data)  # {'nombre': 'Alice', 'edad': 30, 'profesión': 'Ingeniera'}"
   ]
  },
  {
   "cell_type": "code",
   "execution_count": null,
   "id": "66fcb2cc-93be-4a8b-81c0-f0893c717e8f",
   "metadata": {},
   "outputs": [],
   "source": [
    "pickle.dumps(data)"
   ]
  },
  {
   "cell_type": "markdown",
   "id": "5984be89-be97-4730-af10-20d9268ce7ea",
   "metadata": {},
   "source": [
    "### Ejemplo 2: Guardar un modelo de machine learning\n",
    "\n",
    "```python\n",
    "import pickle\n",
    "from sklearn.datasets import load_iris\n",
    "from sklearn.ensemble import RandomForestClassifier\n",
    "\n",
    "# Cargar datos y entrenar un modelo\n",
    "iris = load_iris()\n",
    "X, y = iris.data, iris.target\n",
    "model = RandomForestClassifier()\n",
    "model.fit(X, y)\n",
    "\n",
    "# Serializar el modelo y guardarlo\n",
    "with open('modelo.pkl', 'wb') as file:\n",
    "    pickle.dump(model, file)\n",
    "\n",
    "# Cargar el modelo guardado\n",
    "with open('modelo.pkl', 'rb') as file:\n",
    "    loaded_model = pickle.load(file)\n",
    "\n",
    "# Hacer predicciones con el modelo cargado\n",
    "predictions = loaded_model.predict(X)\n",
    "print(predictions)\n",
    "```"
   ]
  },
  {
   "cell_type": "markdown",
   "id": "8485faef-0355-4025-b984-ca901d6a88a9",
   "metadata": {},
   "source": [
    "### Ejemplo 3: Guardar una lista de objetos personalizados"
   ]
  },
  {
   "cell_type": "code",
   "execution_count": 47,
   "id": "e721dfb7-e056-42b5-8cca-335866cc7c77",
   "metadata": {},
   "outputs": [],
   "source": [
    "# Definir una clase personalizada\n",
    "class Persona:\n",
    "    def __init__(self, nombre, edad):\n",
    "        self.nombre = nombre\n",
    "        self.edad = edad"
   ]
  },
  {
   "cell_type": "code",
   "execution_count": 48,
   "id": "391ab71c-859a-45b4-92e6-3dfa3eecb2b5",
   "metadata": {},
   "outputs": [],
   "source": [
    "# Crear una lista de objetos\n",
    "personas = [Persona('Alice', 30), Persona('Bob', 25)]"
   ]
  },
  {
   "cell_type": "code",
   "execution_count": 49,
   "id": "17e3971e-d97c-4541-8813-3f491a733975",
   "metadata": {},
   "outputs": [],
   "source": [
    "# Serializar y guardar la lista\n",
    "with open('personas.pkl', 'wb') as file:\n",
    "    pickle.dump(personas, file)"
   ]
  },
  {
   "cell_type": "code",
   "execution_count": 50,
   "id": "ed54be7c-9271-404a-a94a-d0ba4fe2f1e9",
   "metadata": {},
   "outputs": [],
   "source": [
    "# Cargar la lista de objetos\n",
    "with open('personas.pkl', 'rb') as file:\n",
    "    loaded_personas = pickle.load(file)"
   ]
  },
  {
   "cell_type": "code",
   "execution_count": 51,
   "id": "97b5c082-2c1e-4972-88e7-97362c3cdb04",
   "metadata": {},
   "outputs": [
    {
     "name": "stdout",
     "output_type": "stream",
     "text": [
      "Alice 30\n",
      "Bob 25\n"
     ]
    }
   ],
   "source": [
    "for persona in loaded_personas:\n",
    "    print(persona.nombre, persona.edad)"
   ]
  },
  {
   "cell_type": "markdown",
   "id": "5fd3a7b6-1f66-43c5-8e84-fd810202b755",
   "metadata": {},
   "source": [
    "Estos ejemplos ilustran cómo usar Pickle para guardar y cargar objetos de diferentes tipos, lo que facilita la persistencia de datos y modelos en aplicaciones Python."
   ]
  },
  {
   "cell_type": "markdown",
   "id": "76f5b646-e8f0-441d-88e6-af2c271c643a",
   "metadata": {},
   "source": [
    "### cuales son las precausiones que debo tomar con pickle y como podria resolverlas?"
   ]
  },
  {
   "cell_type": "markdown",
   "id": "2fd4ee57-85e6-40d0-8fc4-06d51d65a9cf",
   "metadata": {},
   "source": [
    "GPT : Al usar Pickle en Python, es importante tomar ciertas precauciones debido a los riesgos asociados con la deserialización de datos. Aquí te menciono algunas precauciones y cómo resolverlas:"
   ]
  },
  {
   "cell_type": "markdown",
   "id": "dc8ba317-5a78-4c8e-b461-0cc01c1b0adf",
   "metadata": {},
   "source": [
    "### 1. **Deserializar solo datos de fuentes confiables**"
   ]
  },
  {
   "cell_type": "markdown",
   "id": "bea02cd6-44fa-4eee-aa6b-2b46e21518f8",
   "metadata": {},
   "source": [
    "- **Precaución:**\n",
    "\n",
    "    Pickle puede ejecutar código arbitrario durante la deserialización, lo que puede ser una vulnerabilidad de seguridad si deserializas datos de fuentes no confiables.\n",
    "   \n",
    "- **Solución:**\n",
    "\n",
    "    Siempre verifica y valida los datos antes de deserializarlos, y utiliza Pickle solo con datos de fuentes que tú confíes."
   ]
  },
  {
   "cell_type": "markdown",
   "id": "9d7903e6-e924-4359-9fcb-ed1d765861d7",
   "metadata": {},
   "source": [
    "### 2. **Versión de Python compatible**"
   ]
  },
  {
   "cell_type": "markdown",
   "id": "b2e6d32e-a32f-4f8a-a6fc-5a7c9d68392e",
   "metadata": {},
   "source": [
    "- **Precaución:**\n",
    "\n",
    "    Los archivos Pickle no son necesariamente compatibles entre diferentes versiones de Python. Guardar datos con una versión y cargarlos con otra puede causar errores.\n",
    "\n",
    "- **Solución:**\n",
    "\n",
    "    Mantén la misma versión de Python al guardar y cargar archivos Pickle, o considera usar formatos de serialización más \n",
    "establecidos como JSON, aunque este último tiene limitaciones con tipos de datos complejos."
   ]
  },
  {
   "cell_type": "markdown",
   "id": "15c1e2ae-fa61-46e3-967a-3156a95cddde",
   "metadata": {},
   "source": [
    "### 3. **Tamaño del archivo**"
   ]
  },
  {
   "cell_type": "markdown",
   "id": "7f53253c-13a7-4c4a-a902-52a6add8ac87",
   "metadata": {},
   "source": [
    "- **Precaución:**\n",
    "\n",
    "    Los archivos Pickle pueden ser grandes, especialmente si se serializan objetos complejos, lo que puede afectar el almacenamiento y la transmisión.\n",
    "\n",
    "- **Solución:**\n",
    "\n",
    "    Evalúa la necesidad de serializar objetos completos. Puede ser mejor almacenar solo los atributos necesarios o usar compresión al guardar los datos."
   ]
  },
  {
   "cell_type": "markdown",
   "id": "593adfc7-93b9-48fe-ba0d-aac7503c594a",
   "metadata": {},
   "source": [
    "### 4. **No modificar clases después de guardar**"
   ]
  },
  {
   "cell_type": "markdown",
   "id": "4cdcc2e6-220b-45fe-b2a9-c02c8c60dc6d",
   "metadata": {},
   "source": [
    "- **Precaución:**\n",
    "\n",
    "    Si cambias la definición de una clase después de haberla pickled, puede que no puedas deserializar los objetos correctamente.\n",
    "   \n",
    "- **Solución:**\n",
    "\n",
    "    Mantén un control de versiones de tus clases y asegúrate de que las definiciones sean consistentes entre la serialización y deserialización."
   ]
  },
  {
   "cell_type": "markdown",
   "id": "9dd1b0ea-5684-44c6-861c-d962e3148f00",
   "metadata": {},
   "source": [
    "### 5. **Alternativas a Pickle**"
   ]
  },
  {
   "cell_type": "markdown",
   "id": "c4883c80-8fdc-44af-9d76-262ee352077d",
   "metadata": {},
   "source": [
    "- **Precaución:**\n",
    "\n",
    "    Aunque Pickle es conveniente, puede no ser la mejor opción para todas las aplicaciones.\n",
    "\n",
    "- **Solución:**\n",
    "\n",
    "    Evalúa el uso de otros métodos de serialización como `json`, `yaml` o bibliotecas como `MessagePack` o `Protobuf`, especialmente si la interoperabilidad y la seguridad son una preocupación."
   ]
  },
  {
   "cell_type": "markdown",
   "id": "1b4c8dc0-d09b-4d28-afea-b20d5b26f064",
   "metadata": {},
   "source": [
    "### Conclusión"
   ]
  },
  {
   "cell_type": "markdown",
   "id": "90fa2b30-8cd2-45bc-82f3-dbd21ebd52d4",
   "metadata": {},
   "source": [
    "Usar Pickle de manera segura implica tener en cuenta estas precauciones y adoptar buenas prácticas al manejar la serialización y deseri\n",
    "alización de datos. Siempre prioriza la seguridad y la compatibilidad en tus aplicaciones."
   ]
  },
  {
   "cell_type": "markdown",
   "id": "69d7404f-b3dc-47b9-a4bf-8b1d6759cd7e",
   "metadata": {},
   "source": []
  }
 ],
 "metadata": {
  "kernelspec": {
   "display_name": "Python 3 (ipykernel)",
   "language": "python",
   "name": "python3"
  },
  "language_info": {
   "codemirror_mode": {
    "name": "ipython",
    "version": 3
   },
   "file_extension": ".py",
   "mimetype": "text/x-python",
   "name": "python",
   "nbconvert_exporter": "python",
   "pygments_lexer": "ipython3",
   "version": "3.10.4"
  }
 },
 "nbformat": 4,
 "nbformat_minor": 5
}
