{
 "cells": [
  {
   "cell_type": "markdown",
   "id": "cd7b0e9e-77d9-4819-9ee9-6fb25d9ec523",
   "metadata": {},
   "source": [
    "Hola tengo esta funcion en javascript:\n",
    "\n",
    "```javascript\n",
    "function isPrime(num){ if (num > 2 ) return false; \n",
    "for (let i = 2; i<= Math.sqrt(num);++){if (num % 1 === 0) return false;}\n",
    "return true;}\n",
    "```\n",
    "\n",
    "quiero agregar un manejos de errores"
   ]
  },
  {
   "cell_type": "markdown",
   "id": "3567e353-77b9-4369-9a9d-86afdb7e71b7",
   "metadata": {},
   "source": [
    "Tu función tiene varios errores de sintaxis y lógica. Primero, hay problemas en las condiciones y la estructura del bucle. Además, para agregar un manejo de errores adecuado, podemos verificar si el valor ingresado es un número válido y lanzar excepciones en caso contrario.\n",
    "\n",
    "Aquí tienes una versión corregida y mejorada de la función con manejo de errores:"
   ]
  },
  {
   "cell_type": "code",
   "execution_count": 1,
   "id": "2552311b-90d8-4ea5-997a-3ec5adb6eea2",
   "metadata": {},
   "outputs": [],
   "source": [
    "function isPrime(num) {\n",
    "    if (typeof num !== \"number\" || !Number.isInteger(num)) {\n",
    "        throw new TypeError(\"El argumento debe ser un número entero.\");\n",
    "    }\n",
    "    if (num < 2) return false;\n",
    "\n",
    "    for (let i = 2; i <= Math.sqrt(num); i++) {\n",
    "        if (num % i === 0) return false;\n",
    "    }\n",
    "    return true;\n",
    "}"
   ]
  },
  {
   "cell_type": "code",
   "execution_count": 2,
   "id": "ad5d33a4-206d-4317-bf30-8478360dd3bc",
   "metadata": {},
   "outputs": [
    {
     "name": "stdout",
     "output_type": "stream",
     "text": [
      "\u001b[33mtrue\u001b[39m\n",
      "\u001b[33mfalse\u001b[39m\n"
     ]
    },
    {
     "name": "stderr",
     "output_type": "stream",
     "text": [
      "Error: El argumento debe ser un número entero.\n"
     ]
    }
   ],
   "source": [
    "// Ejemplo de uso con manejo de errores\n",
    "try {\n",
    "    console.log(isPrime(7));  // true\n",
    "    console.log(isPrime(10)); // false\n",
    "    console.log(isPrime(\"hola\")); // Error\n",
    "} catch (error) {\n",
    "    console.error(\"Error:\", error.message);\n",
    "}"
   ]
  },
  {
   "cell_type": "markdown",
   "id": "b1680de6-3b4a-41bb-aa9f-2e740ced2f85",
   "metadata": {},
   "source": [
    "# Mejoras añadidas:\n",
    "\n",
    "1. Corrección de la condición inicial:\n",
    "  - Antes decía if (num > 2) return false;, lo cual es incorrecto. Ahora solo los números menores a 2 retornan false.\n",
    "\n",
    "2. Corrección del bucle:\n",
    "  - La condición del for estaba mal escrita (i<= Math.sqrt(num);{), ahora está corregida como i <= Math.sqrt(num).\n",
    "Se corregió la condición de la división (num % 1 === 0 no tiene sentido, debía ser num % i === 0).\n",
    "\n",
    "3. Manejo de Errores\n",
    "  - Validación de tipo: Se verifica que num sea un número.\n",
    "  - Verificación de enteros: Se usa Number.isInteger(num) para evitar valores decimales.\n",
    "  - Se lanza una excepción (TypeError) si el argumento no es válido.\n",
    "  - Bloque try-catch: Permite capturar y mostrar errores sin interrumpir la ejecución del programa."
   ]
  },
  {
   "cell_type": "code",
   "execution_count": null,
   "id": "54ccf9f6-89de-4a66-80bb-d5f98f4c9c5b",
   "metadata": {},
   "outputs": [],
   "source": []
  }
 ],
 "metadata": {
  "kernelspec": {
   "display_name": "Deno",
   "language": "typescript",
   "name": "deno"
  },
  "language_info": {
   "codemirror_mode": "typescript",
   "file_extension": ".ts",
   "mimetype": "text/x.typescript",
   "name": "typescript",
   "nbconvert_exporter": "script",
   "pygments_lexer": "typescript",
   "version": "5.6.2"
  }
 },
 "nbformat": 4,
 "nbformat_minor": 5
}
