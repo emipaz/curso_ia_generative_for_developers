{
 "cells": [
  {
   "cell_type": "markdown",
   "metadata": {},
   "source": [
    "# Laboratorio no calificado - Construyendo una Clase de Lista Doblemente Enlazada con un LLM\n",
    "\n",
    "¡Bienvenido al primer laboratorio no calificado de este curso! En este laboratorio trabajarás junto a un LLM para actualizar una clase de Lista Enlazada y convertirla en una lista doblemente enlazada. Esta es una buena oportunidad para practicar tus habilidades de LLM y prepararte para la tarea de programación al final de este curso.\n",
    "\n",
    "# Esquema\n",
    "- [ 1 - Introducción](#1)\n",
    "  - [ 1.1 Importando bibliotecas necesarias](#1.1)\n",
    "- [ 2 - Las Clases `Node` y `LinkedList` a Actualizar](#2)\n",
    "- [ 3 - Prueba tus Clases](#3)\n",
    "- [ 4 - Avanza con tus Habilidades de LLM](#4)\n"
   ]
  },
  {
   "cell_type": "markdown",
   "metadata": {},
   "source": [
    "<a name=\"1\"></a>\n",
    "## 1 - Introducción\n",
    "\n",
    "**Tu tarea:** A continuación encontrarás la clase `Node` y `LinkedList` que viste en las clases. Tu trabajo es trabajar junto a un LLM para actualizar esta clase y convertirla en una lista doblemente enlazada, lo que significa que cada nodo tiene conexiones tanto con su nodo anterior como con el siguiente. Una vez que hayas hecho eso, trabaja con el LLM para refinar aún más la clase y tener en cuenta otras preocupaciones comunes en la ingeniería de software, como preocupaciones de seguridad o escalabilidad.\n",
    "\n",
    "**Acceso al LLM:** Puedes acceder al modelo GPT-3.5 de OpenAI [aquí](https://www.coursera.org/learn/introduction-to-generative-ai-for-software-development/ungradedLab/Vuqvf/gpt-3-5-environment), ¡pero siéntete libre de usar el LLM que desees!\n",
    "\n",
    "**Práctica de Estímulo:** Enfócate en probar las habilidades de estímulo cubiertas en las clases:\n",
    "\n",
    "* **Sé Específico:** En tus estímulos, proporciona detalles sobre lo que estás tratando de lograr y el contexto en el que estás trabajando. Por ejemplo, sería totalmente apropiado proporcionar al LLM la clase tal como está escrita y describir la nueva funcionalidad que estás tratando de agregar.\n",
    "* **Proporciona Retroalimentación:** Estimula al LLM de forma iterativa y proporciona retroalimentación sobre la salida que recibes para acercarte a los resultados esperados. En este caso, podrías probar el código que desarrollas junto al LLM y reportar errores, comportamientos inesperados o decisiones estilísticas que deseas mejorar.\n",
    "* **Asigna un Rol:** Asigna un rol para adaptar la salida que recibes del LLM. Al principio, es posible que solo quieras asignar el rol de \"un desarrollador experimentado en Python\", pero más adelante prueba roles más específicos o expertos para enfocarte en áreas como la seguridad o la escalabilidad.\n",
    "\n",
    "**Probando tu Clase:** En la parte inferior de este cuaderno encontrarás diferentes casos de prueba que te ayudarán a determinar si tu clase funciona como se espera. Sin embargo, este laboratorio no tiene calificación, por lo que no necesitas pasar todos los casos de prueba para avanzar. Enfócate en explorar cómo es programar junto a un LLM, probar las habilidades de estímulo y desarrollar tu propio sentido intuitivo de cómo los LLM se integrarán mejor en tu flujo de trabajo de desarrollo de software.\n"
   ]
  },
  {
   "cell_type": "markdown",
   "metadata": {},
   "source": [
    "<a name=\"1.1\"></a>\n",
    "### 1.1 Importando bibliotecas necesarias\n"
   ]
  },
  {
   "cell_type": "code",
   "execution_count": 1,
   "metadata": {},
   "outputs": [],
   "source": [
    "import threading # Used to make the class thread-safe"
   ]
  },
  {
   "cell_type": "markdown",
   "metadata": {},
   "source": [
    "<a name=\"2\"></a>\n",
    "## 2 - Las clases `Node` y `LinkedList` a actualizar\n",
    "A continuación se muestran las clases que viste en las clases y que estarás editando. Recuerda que una lista enlazada está compuesta por nodos individuales que tienen conexiones entre sí. Esta clase inicialmente es una lista enlazada simple, lo que significa que cada nodo solo conoce la ubicación del nodo que le sigue en la lista enlazada. En una lista enlazada doble, los nodos también conocen la ubicación del nodo que les precede.\n",
    "\n",
    "**Actualiza ambas clases para que la lista enlazada sea de doble enlace.**\n"
   ]
  },
  {
   "cell_type": "code",
   "execution_count": 7,
   "metadata": {},
   "outputs": [],
   "source": [
    "class Node:\n",
    "\n",
    "    # Initially each node knows the location of the next\n",
    "    # node in the linked list\n",
    "    def __init__(self, data):\n",
    "        self.data = data\n",
    "        self.next = None\n",
    "\n",
    "class LinkedList:\n",
    "    def __init__(self, max_size=None):\n",
    "        self.head = None\n",
    "        self.size = 0\n",
    "        self.max_size = max_size  \n",
    "        # Esta clase está diseñada para ser segura para subprocesos, mediante bloqueos. \n",
    "        # Si no está familiarizado con los conceptos de subprocesos múltiples \n",
    "        # Considere pedirle orientación a su LLM\n",
    "        self.lock = threading.Lock()\n",
    "\n",
    "    def append(self, data):\n",
    "        # Validate input data (secuencias menores a 1000 elementos)\n",
    "        # TODO no valida el tipo dato\n",
    "        if len(data) > 1000:  \n",
    "            raise ValueError(\"Data size exceeds maximum limit\")\n",
    "        with self.lock:           \n",
    "            if self.max_size is not None and self.size >= self.max_size:\n",
    "                raise ValueError(\"Linked list is full\")\n",
    "            new_node = Node(data)\n",
    "            if self.head is None:\n",
    "                self.head = new_node\n",
    "            else:\n",
    "                last = self.head\n",
    "                while last.next:\n",
    "                    last = last.next\n",
    "                last.next = new_node\n",
    "            self.size += 1\n",
    "\n",
    "    def print_list(self):\n",
    "        current = self.head\n",
    "        while current:\n",
    "            print(current.data, end=\" \")\n",
    "            current = current.next\n",
    "\n",
    "\n",
    "    def print_list_reverse(self):\n",
    "        # Usa recursividad o pila según prefieras\n",
    "        stack = []\n",
    "        current = self.head\n",
    "        while current:\n",
    "            stack.append(current.data)\n",
    "            current = current.next\n",
    "        while stack:\n",
    "            print(stack.pop(), end=\" \")\n",
    "        # Print the list from last element to first\n",
    "        # This method is much easier to implement once\n",
    "        # you have a doubly linked list\n",
    "        \n",
    "        # print(\"print_list_reverse not yet implemented\")\n",
    "    # def print_list_reverse(self):\n",
    "    #     stack = []\n",
    "    #     current = self.head\n",
    "\n",
    "    #     # Almacena todos los datos en la pila\n",
    "    #     while current:\n",
    "    #         stack.append(current.data)\n",
    "    #         current = current.next\n",
    "\n",
    "    #     # Imprime los elementos en orden inverso\n",
    "    #     while stack:\n",
    "    #         print(stack.pop(), end=\" \")\n",
    "\n",
    "    def print_list_reverse(self):\n",
    "        def _reverse_print(node):\n",
    "            if node is None:\n",
    "                return\n",
    "            _reverse_print(node.next)\n",
    "            print(node.data, end=\" \")\n",
    "\n",
    "        _reverse_print(self.head)\n"
   ]
  },
  {
   "cell_type": "markdown",
   "metadata": {},
   "source": [
    "<a name=\"3\"></a>\n",
    "\n",
    "## 3 - Prueba tus Clases\n",
    "A continuación se presentan tres pruebas que deberían ayudarte a validar que tu clase actualizada está funcionando según lo previsto.\n"
   ]
  },
  {
   "cell_type": "code",
   "execution_count": 8,
   "metadata": {},
   "outputs": [
    {
     "name": "stdout",
     "output_type": "stream",
     "text": [
      "A 1 0.1 "
     ]
    }
   ],
   "source": [
    "# Test 1 - Append Multiple Data Types\n",
    "# As initially designed not all data types can be added to the linked list.\n",
    "# Update the code to allow for additional data types.\n",
    "\n",
    "linked_list = LinkedList()\n",
    "linked_list.append(\"A\")\n",
    "linked_list.append(\"1\")\n",
    "linked_list.append(\"0.1\")\n",
    "linked_list.print_list()\n",
    "\n",
    "# Expected Output:\n",
    "# A 1 0.1"
   ]
  },
  {
   "cell_type": "code",
   "execution_count": 9,
   "metadata": {},
   "outputs": [
    {
     "name": "stdout",
     "output_type": "stream",
     "text": [
      "20 10 B A "
     ]
    }
   ],
   "source": [
    "# Test 2 - Print the Linked List in Reverse\n",
    "# Write the print_list_reverse method. Once your list is doubly linked\n",
    "# this should be a much easier method to write\n",
    "\n",
    "linked_list = LinkedList()\n",
    "linked_list.append(\"A\")\n",
    "linked_list.append(\"B\")\n",
    "linked_list.append(\"10\")\n",
    "linked_list.append(\"20\")\n",
    "linked_list.print_list_reverse()\n",
    "\n",
    "# Expected Output:\n",
    "# 20 10 B A"
   ]
  },
  {
   "cell_type": "code",
   "execution_count": 10,
   "metadata": {},
   "outputs": [
    {
     "name": "stdout",
     "output_type": "stream",
     "text": [
      "9.74 s ± 830 ms per loop (mean ± std. dev. of 7 runs, 1 loop each)\n"
     ]
    }
   ],
   "source": [
    "%%timeit\n",
    "# Prueba 3 - Agregar 10,000 elementos rápidamente  \n",
    "# Tal como está escrito inicialmente, este es un proceso muy lento.  \n",
    "# Tu clase actualizada debería poder encontrar el final de tu lista enlazada  \n",
    "# (el último nodo) muy rápidamente, acelerando significativamente este proceso.  \n",
    "# Los tiempos de ejecución variarán sustancialmente, pero en su forma inicial,  \n",
    "# el método de agregar tomará bastante más de un segundo.  \n",
    "# Una clase de lista doblemente enlazada refactorizada debería tardar  \n",
    "# significativamente menos de un segundo.  \n",
    "\n",
    "\n",
    "linked_list = LinkedList()\n",
    "for i in range(10000):\n",
    "    linked_list.append(\"A\")\n",
    "linked_list.size"
   ]
  },
  {
   "cell_type": "markdown",
   "metadata": {},
   "source": [
    "<a name=\"4\"></a>\n",
    "## 4 - Avanza más con tus habilidades de LLM Prompting\n",
    "\n",
    "Las tres pruebas anteriores son simples verificaciones de que tu clase está doblemente enlazada, pero de ninguna manera son exhaustivas de todas las preocupaciones que tendrías sobre el diseño de esta clase. Tómate un tiempo para experimentar con funcionalidades adicionales que desearías agregar, o solicita al LLM que sugiera adiciones basadas en nuevos roles, como el de un experto en seguridad o escalabilidad. Recuerda, la parte más importante de esta actividad es desarrollar tus habilidades trabajando con un LLM, así que piensa en formas interesantes de probar lo que estas herramientas pueden ayudarte a lograr.\n"
   ]
  },
  {
   "cell_type": "markdown",
   "metadata": {},
   "source": [
    "## lista doble enlazada"
   ]
  },
  {
   "cell_type": "code",
   "execution_count": null,
   "metadata": {},
   "outputs": [],
   "source": [
    "import threading\n",
    "\n",
    "class Node:\n",
    "    def __init__(self, data):\n",
    "        self.data = data\n",
    "        self.next = None\n",
    "        self.prev = None  # Nuevo puntero para el nodo anterior\n",
    "\n",
    "class DoublyLinkedList:\n",
    "    def __init__(self, max_size=None):\n",
    "        self.head = None\n",
    "        self.tail = None  # Nuevo puntero al último nodo\n",
    "        self.size = 0\n",
    "        self.max_size = max_size\n",
    "        self.lock = threading.Lock()\n",
    "\n",
    "    def append(self, data):\n",
    "        \n",
    "        #if len(data) > 1000:\n",
    "        #    raise ValueError(\"Data size exceeds maximum limit\")\n",
    "        # cambios para la validaiones\n",
    "        if not isinstance(data , (int,float,str)):\n",
    "            raise TypeError (f\"{type(data)} tipo de dato no soportado, solo int float o str < 1000 caracteres\")\n",
    "        if type(dato) == str and len(data) > 1000:\n",
    "            raise ValueError(\"El tamaño de los datos excede el límite máximo\")\n",
    "        \n",
    "        with self.lock:\n",
    "            if self.max_size is not None and self.size >= self.max_size:\n",
    "                raise ValueError(\"La Lista esta completa\")\n",
    "            new_node = Node(data)\n",
    "            if self.head is None:\n",
    "                self.head = self.tail = new_node  # La lista inicia con un solo nodo\n",
    "            else:\n",
    "                self.tail.next = new_node\n",
    "                new_node.prev = self.tail\n",
    "                self.tail = new_node  # Actualizar la cola\n",
    "            self.size += 1\n",
    "\n",
    "    def print_list(self):\n",
    "        current = self.head\n",
    "        while current:\n",
    "            print(current.data, end=\" \")\n",
    "            current = current.next\n",
    "        print()\n",
    "\n",
    "    def print_list_reverse(self):\n",
    "        current = self.tail\n",
    "        while current:\n",
    "            print(current.data, end=\" \")\n",
    "            current = current.prev\n",
    "        print()\n",
    "\n",
    "    def delete(self, data):\n",
    "        with self.lock:\n",
    "            current = self.head\n",
    "            while current:\n",
    "                if current.data == data:\n",
    "                    if current.prev:\n",
    "                        current.prev.next = current.next\n",
    "                    else:\n",
    "                        self.head = current.next  # Eliminar la cabeza\n",
    "\n",
    "                    if current.next:\n",
    "                        current.next.prev = current.prev\n",
    "                    else:\n",
    "                        self.tail = current.prev  # Eliminar la cola\n",
    "\n",
    "                    self.size -= 1\n",
    "                    return\n",
    "                current = current.next\n",
    "            raise ValueError(\"Datos no encontrados en la lista\")"
   ]
  },
  {
   "cell_type": "code",
   "execution_count": 15,
   "metadata": {},
   "outputs": [],
   "source": [
    "import threading\n",
    "\n",
    "class Node:\n",
    "    def __init__(self, data):\n",
    "        self.data = data\n",
    "        self.next = None\n",
    "        self.prev = None\n",
    "\n",
    "class DoublyLinkedList:\n",
    "    def __init__(self, max_size=None):\n",
    "        self.head = None\n",
    "        self.tail = None\n",
    "        self.size = 0\n",
    "        self.max_size = max_size  \n",
    "        self.lock = threading.Lock()\n",
    "\n",
    "    def append(self, data):\n",
    "        if len(data) > 1000:\n",
    "            raise ValueError(\"Data size exceeds maximum limit\")\n",
    "        with self.lock:\n",
    "            if self.max_size is not None and self.size >= self.max_size:\n",
    "                raise ValueError(\"Linked list is full\")\n",
    "            new_node = Node(data)\n",
    "            if self.head is None:\n",
    "                self.head = new_node\n",
    "                self.tail = new_node\n",
    "            else:\n",
    "                self.tail.next = new_node\n",
    "                new_node.prev = self.tail\n",
    "                self.tail = new_node\n",
    "            self.size += 1\n",
    "\n",
    "    def print_list(self):\n",
    "        current = self.head\n",
    "        while current:\n",
    "            print(current.data, end=\" \")\n",
    "            current = current.next\n",
    "        print()\n",
    "    \n",
    "    def print_list_reverse(self):\n",
    "        current = self.tail\n",
    "        while current:\n",
    "            print(current.data, end=\" \")\n",
    "            current = current.prev\n",
    "        print()\n",
    "    \n",
    "    def remove(self, data):\n",
    "        with self.lock:\n",
    "            current = self.head\n",
    "            while current:\n",
    "                if current.data == data:\n",
    "                    if current.prev:\n",
    "                        current.prev.next = current.next\n",
    "                    else:\n",
    "                        self.head = current.next\n",
    "                    if current.next:\n",
    "                        current.next.prev = current.prev\n",
    "                    else:\n",
    "                        self.tail = current.prev\n",
    "                    self.size -= 1\n",
    "                    return\n",
    "                current = current.next\n",
    "            raise ValueError(\"Data not found in the list\")\n",
    "\n",
    "    def delete(self, data):\n",
    "        with self.lock:\n",
    "            current = self.head\n",
    "            while current:\n",
    "                if current.data == data:\n",
    "                    if current.prev:\n",
    "                        current.prev.next = current.next\n",
    "                    else:\n",
    "                        self.head = current.next\n",
    "                    if current.next:\n",
    "                        current.next.prev = current.prev\n",
    "                    else:\n",
    "                        self.tail = current.prev\n",
    "                    self.size -= 1\n",
    "                    return\n",
    "                current = current.next\n",
    "            raise ValueError(\"Data not found in the list\")"
   ]
  },
  {
   "cell_type": "code",
   "execution_count": 16,
   "metadata": {},
   "outputs": [
    {
     "name": "stdout",
     "output_type": "stream",
     "text": [
      "A B C \n",
      "C B A \n",
      "A C \n",
      "C A \n"
     ]
    }
   ],
   "source": [
    "# Ejemplo de uso\n",
    "dll = DoublyLinkedList()\n",
    "dll.append(\"A\")\n",
    "dll.append(\"B\")\n",
    "dll.append(\"C\")\n",
    "\n",
    "dll.print_list()         # A B C\n",
    "dll.print_list_reverse() # C B A\n",
    "\n",
    "dll.delete(\"B\")\n",
    "dll.print_list()         # A C\n",
    "dll.print_list_reverse() # C A"
   ]
  },
  {
   "cell_type": "code",
   "execution_count": 17,
   "metadata": {},
   "outputs": [
    {
     "ename": "TypeError",
     "evalue": "object of type 'int' has no len()",
     "output_type": "error",
     "traceback": [
      "\u001b[1;31m---------------------------------------------------------------------------\u001b[0m",
      "\u001b[1;31mTypeError\u001b[0m                                 Traceback (most recent call last)",
      "Input \u001b[1;32mIn [17]\u001b[0m, in \u001b[0;36m<cell line: 1>\u001b[1;34m()\u001b[0m\n\u001b[1;32m----> 1\u001b[0m \u001b[43mdll\u001b[49m\u001b[38;5;241;43m.\u001b[39;49m\u001b[43mappend\u001b[49m\u001b[43m(\u001b[49m\u001b[38;5;241;43m1\u001b[39;49m\u001b[43m)\u001b[49m\n",
      "Input \u001b[1;32mIn [15]\u001b[0m, in \u001b[0;36mDoublyLinkedList.append\u001b[1;34m(self, data)\u001b[0m\n\u001b[0;32m     17\u001b[0m \u001b[38;5;28;01mdef\u001b[39;00m \u001b[38;5;21mappend\u001b[39m(\u001b[38;5;28mself\u001b[39m, data):\n\u001b[1;32m---> 18\u001b[0m     \u001b[38;5;28;01mif\u001b[39;00m \u001b[38;5;28;43mlen\u001b[39;49m\u001b[43m(\u001b[49m\u001b[43mdata\u001b[49m\u001b[43m)\u001b[49m \u001b[38;5;241m>\u001b[39m \u001b[38;5;241m1000\u001b[39m:\n\u001b[0;32m     19\u001b[0m         \u001b[38;5;28;01mraise\u001b[39;00m \u001b[38;5;167;01mValueError\u001b[39;00m(\u001b[38;5;124m\"\u001b[39m\u001b[38;5;124mData size exceeds maximum limit\u001b[39m\u001b[38;5;124m\"\u001b[39m)\n\u001b[0;32m     20\u001b[0m     \u001b[38;5;28;01mwith\u001b[39;00m \u001b[38;5;28mself\u001b[39m\u001b[38;5;241m.\u001b[39mlock:\n",
      "\u001b[1;31mTypeError\u001b[0m: object of type 'int' has no len()"
     ]
    }
   ],
   "source": [
    "dll.append(1)"
   ]
  },
  {
   "cell_type": "code",
   "execution_count": 18,
   "metadata": {},
   "outputs": [
    {
     "name": "stdout",
     "output_type": "stream",
     "text": [
      "A C \n"
     ]
    }
   ],
   "source": [
    "dll.print_list() "
   ]
  },
  {
   "cell_type": "code",
   "execution_count": 19,
   "metadata": {},
   "outputs": [
    {
     "name": "stdout",
     "output_type": "stream",
     "text": [
      "86 ms ± 20.2 ms per loop (mean ± std. dev. of 7 runs, 1 loop each)\n"
     ]
    }
   ],
   "source": [
    "%%timeit\n",
    "\n",
    "linked_list = DoublyLinkedList()\n",
    "for i in range(10000):\n",
    "    linked_list.append(\"A\")\n",
    "linked_list.size"
   ]
  },
  {
   "cell_type": "markdown",
   "metadata": {},
   "source": [
    "## metodo pop"
   ]
  },
  {
   "cell_type": "code",
   "execution_count": 20,
   "metadata": {},
   "outputs": [],
   "source": [
    "class Dll(DoublyLinkedList):\n",
    "    def pop(self):\n",
    "        \"\"\"Elimina y devuelve el último elemento de la lista.\"\"\"\n",
    "        with self.lock:\n",
    "            if self.tail is None:\n",
    "                raise IndexError(\"Pop from empty list\")\n",
    "            \n",
    "            data = self.tail.data  # Guardar el dato del nodo a eliminar\n",
    "\n",
    "            if self.tail.prev is None:  # Si solo hay un elemento\n",
    "                self.head = self.tail = None\n",
    "            else:\n",
    "                self.tail = self.tail.prev\n",
    "                self.tail.next = None  # Desconectar el último nodo\n",
    "            \n",
    "            self.size -= 1\n",
    "            return data"
   ]
  },
  {
   "cell_type": "code",
   "execution_count": 21,
   "metadata": {},
   "outputs": [
    {
     "name": "stdout",
     "output_type": "stream",
     "text": [
      "A B C \n",
      "Pop: C\n",
      "A B \n",
      "Pop: B\n",
      "A \n",
      "Pop: A\n",
      "\n"
     ]
    }
   ],
   "source": [
    "# Ejemplo de uso\n",
    "dll = Dll()\n",
    "dll.append(\"A\")\n",
    "dll.append(\"B\")\n",
    "dll.append(\"C\")\n",
    "\n",
    "dll.print_list()  # A B C\n",
    "print(\"Pop:\", dll.pop())  # C\n",
    "dll.print_list()  # A B\n",
    "print(\"Pop:\", dll.pop())  # B\n",
    "dll.print_list()  # A\n",
    "print(\"Pop:\", dll.pop())  # A\n",
    "dll.print_list()  # (Lista vacía)\n",
    "\n",
    "# Intentar hacer pop en una lista vacía lanzará un error"
   ]
  },
  {
   "cell_type": "code",
   "execution_count": 22,
   "metadata": {},
   "outputs": [
    {
     "ename": "IndexError",
     "evalue": "Pop from empty list",
     "output_type": "error",
     "traceback": [
      "\u001b[1;31m---------------------------------------------------------------------------\u001b[0m",
      "\u001b[1;31mIndexError\u001b[0m                                Traceback (most recent call last)",
      "Input \u001b[1;32mIn [22]\u001b[0m, in \u001b[0;36m<cell line: 1>\u001b[1;34m()\u001b[0m\n\u001b[1;32m----> 1\u001b[0m \u001b[38;5;28mprint\u001b[39m(\u001b[38;5;124m\"\u001b[39m\u001b[38;5;124mPop:\u001b[39m\u001b[38;5;124m\"\u001b[39m, \u001b[43mdll\u001b[49m\u001b[38;5;241;43m.\u001b[39;49m\u001b[43mpop\u001b[49m\u001b[43m(\u001b[49m\u001b[43m)\u001b[49m)\n",
      "Input \u001b[1;32mIn [20]\u001b[0m, in \u001b[0;36mDll.pop\u001b[1;34m(self)\u001b[0m\n\u001b[0;32m      4\u001b[0m \u001b[38;5;28;01mwith\u001b[39;00m \u001b[38;5;28mself\u001b[39m\u001b[38;5;241m.\u001b[39mlock:\n\u001b[0;32m      5\u001b[0m     \u001b[38;5;28;01mif\u001b[39;00m \u001b[38;5;28mself\u001b[39m\u001b[38;5;241m.\u001b[39mtail \u001b[38;5;129;01mis\u001b[39;00m \u001b[38;5;28;01mNone\u001b[39;00m:\n\u001b[1;32m----> 6\u001b[0m         \u001b[38;5;28;01mraise\u001b[39;00m \u001b[38;5;167;01mIndexError\u001b[39;00m(\u001b[38;5;124m\"\u001b[39m\u001b[38;5;124mPop from empty list\u001b[39m\u001b[38;5;124m\"\u001b[39m)\n\u001b[0;32m      8\u001b[0m     data \u001b[38;5;241m=\u001b[39m \u001b[38;5;28mself\u001b[39m\u001b[38;5;241m.\u001b[39mtail\u001b[38;5;241m.\u001b[39mdata  \u001b[38;5;66;03m# Guardar el dato del nodo a eliminar\u001b[39;00m\n\u001b[0;32m     10\u001b[0m     \u001b[38;5;28;01mif\u001b[39;00m \u001b[38;5;28mself\u001b[39m\u001b[38;5;241m.\u001b[39mtail\u001b[38;5;241m.\u001b[39mprev \u001b[38;5;129;01mis\u001b[39;00m \u001b[38;5;28;01mNone\u001b[39;00m:  \u001b[38;5;66;03m# Si solo hay un elemento\u001b[39;00m\n",
      "\u001b[1;31mIndexError\u001b[0m: Pop from empty list"
     ]
    }
   ],
   "source": [
    "print(\"Pop:\", dll.pop())  # IndexError: Pop from empty list"
   ]
  },
  {
   "cell_type": "code",
   "execution_count": 23,
   "metadata": {},
   "outputs": [
    {
     "name": "stdout",
     "output_type": "stream",
     "text": [
      "\n"
     ]
    }
   ],
   "source": [
    "dll.print_list()"
   ]
  },
  {
   "cell_type": "markdown",
   "metadata": {},
   "source": [
    "## 🔥 ¿Qué hace pop()?\n",
    "\n",
    "Elimina el último nodo (tail).\n",
    "Retorna su valor.\n",
    "\n",
    "Actualiza los punteros (tail y tail.prev).\n",
    "Maneja el caso donde la lista queda vacía.\n",
    "\n",
    "Ahora tienes una lista doblemente enlazada con pop() 🚀. ¿Quieres agregar pop_first() para eliminar el primer nodo también?"
   ]
  },
  {
   "cell_type": "code",
   "execution_count": null,
   "metadata": {},
   "outputs": [],
   "source": [
    "## metodo pop con first pop"
   ]
  },
  {
   "cell_type": "code",
   "execution_count": 24,
   "metadata": {},
   "outputs": [],
   "source": [
    "class Dll(DoublyLinkedList):\n",
    "    def pop(self, last=True):\n",
    "        \"\"\"Elimina y devuelve el primer o último elemento de la lista.\"\"\"\n",
    "        with self.lock:\n",
    "            if self.head is None:\n",
    "                raise IndexError(\"Pop from empty list\")\n",
    "            \n",
    "            if last:  # Eliminar el último nodo (por defecto)\n",
    "                data = self.tail.data\n",
    "                if self.tail.prev is None:  # Solo hay un elemento\n",
    "                    self.head = self.tail = None\n",
    "                else:\n",
    "                    self.tail = self.tail.prev\n",
    "                    self.tail.next = None\n",
    "            else:  # Eliminar el primer nodo\n",
    "                data = self.head.data\n",
    "                if self.head.next is None:  # Solo hay un elemento\n",
    "                    self.head = self.tail = None\n",
    "                else:\n",
    "                    self.head = self.head.next\n",
    "                    self.head.prev = None\n",
    "            \n",
    "            self.size -= 1\n",
    "            return data"
   ]
  },
  {
   "cell_type": "code",
   "execution_count": 25,
   "metadata": {},
   "outputs": [
    {
     "name": "stdout",
     "output_type": "stream",
     "text": [
      "A B C D \n",
      "Pop last: D\n",
      "A B C \n",
      "Pop first: A\n",
      "B C \n",
      "Pop last: C\n",
      "B \n",
      "Pop first: B\n",
      "\n"
     ]
    }
   ],
   "source": [
    "# Ejemplo de uso\n",
    "dll = Dll()\n",
    "dll.append(\"A\")\n",
    "dll.append(\"B\")\n",
    "dll.append(\"C\")\n",
    "dll.append(\"D\")\n",
    "\n",
    "dll.print_list()  # A B C D\n",
    "\n",
    "print(\"Pop last:\", dll.pop())  # D\n",
    "dll.print_list()  # A B C\n",
    "\n",
    "print(\"Pop first:\", dll.pop(last=False))  # A\n",
    "dll.print_list()  # B C\n",
    "\n",
    "print(\"Pop last:\", dll.pop())  # C\n",
    "dll.print_list()  # B\n",
    "\n",
    "print(\"Pop first:\", dll.pop(last=False))  # B\n",
    "dll.print_list()  # (Lista vacía)\n",
    "\n",
    "# Intentar hacer pop en una lista vacía lanzará un error\n",
    "# print(\"Pop:\", dll.pop())  # IndexError: Pop from empty list"
   ]
  },
  {
   "cell_type": "markdown",
   "metadata": {},
   "source": [
    "## Agregar acceso por indice"
   ]
  },
  {
   "cell_type": "code",
   "execution_count": 26,
   "metadata": {},
   "outputs": [],
   "source": [
    "class Dll(Dll):\n",
    "    def __getitem__(self, index):\n",
    "        \"\"\"Permite acceder a los elementos con dll[index].\"\"\"\n",
    "        if not isinstance(index, int):\n",
    "            raise TypeError(\"Index must be an integer\")\n",
    "        if index < 0:\n",
    "            index += self.size  # Soporta índices negativos como una lista nativa\n",
    "        if index < 0 or index >= self.size:\n",
    "            raise IndexError(\"Index out of range\")\n",
    "\n",
    "        with self.lock:\n",
    "            if index < self.size // 2:\n",
    "                current = self.head\n",
    "                for _ in range(index):\n",
    "                    current = current.next\n",
    "            else:\n",
    "                current = self.tail\n",
    "                for _ in range(self.size - 1, index, -1):\n",
    "                    current = current.prev\n",
    "            \n",
    "            return current.data"
   ]
  },
  {
   "cell_type": "code",
   "execution_count": 27,
   "metadata": {},
   "outputs": [],
   "source": [
    "# Ejemplo de uso\n",
    "dll = Dll()\n",
    "dll.append(\"A\")\n",
    "dll.append(\"B\")\n",
    "dll.append(\"C\")\n",
    "dll.append(\"D\")\n",
    "dll.append(\"E\")"
   ]
  },
  {
   "cell_type": "code",
   "execution_count": 28,
   "metadata": {},
   "outputs": [
    {
     "name": "stdout",
     "output_type": "stream",
     "text": [
      "A B C D E \n"
     ]
    }
   ],
   "source": [
    "dll.print_list()  # A B C D E"
   ]
  },
  {
   "cell_type": "code",
   "execution_count": 29,
   "metadata": {},
   "outputs": [
    {
     "name": "stdout",
     "output_type": "stream",
     "text": [
      "dll[0]: A\n"
     ]
    }
   ],
   "source": [
    "print(\"dll[0]:\", dll[0])   # A"
   ]
  },
  {
   "cell_type": "code",
   "execution_count": 30,
   "metadata": {},
   "outputs": [
    {
     "name": "stdout",
     "output_type": "stream",
     "text": [
      "dll[2]: C\n"
     ]
    }
   ],
   "source": [
    "print(\"dll[2]:\", dll[2])   # C"
   ]
  },
  {
   "cell_type": "code",
   "execution_count": 31,
   "metadata": {},
   "outputs": [
    {
     "name": "stdout",
     "output_type": "stream",
     "text": [
      "dll[4]: E\n"
     ]
    }
   ],
   "source": [
    "print(\"dll[4]:\", dll[4])   # E"
   ]
  },
  {
   "cell_type": "code",
   "execution_count": 32,
   "metadata": {},
   "outputs": [
    {
     "name": "stdout",
     "output_type": "stream",
     "text": [
      "dll[-1]: E\n"
     ]
    }
   ],
   "source": [
    "print(\"dll[-1]:\", dll[-1]) # E (soporta índices negativos)"
   ]
  },
  {
   "cell_type": "code",
   "execution_count": 33,
   "metadata": {},
   "outputs": [
    {
     "name": "stdout",
     "output_type": "stream",
     "text": [
      "dll[-3]: C\n"
     ]
    }
   ],
   "source": [
    "print(\"dll[-3]:\", dll[-3]) # C"
   ]
  },
  {
   "cell_type": "markdown",
   "metadata": {},
   "source": [
    "## Agregar asignacion por indice"
   ]
  },
  {
   "cell_type": "code",
   "execution_count": 34,
   "metadata": {},
   "outputs": [],
   "source": [
    "class Dll(Dll):\n",
    "    def __setitem__(self, index, value):\n",
    "        \"\"\"Permite modificar un elemento con dll[index] = nuevo_valor.\"\"\"\n",
    "        if not isinstance(index, int):\n",
    "            raise TypeError(\"Index must be an integer\")\n",
    "        if index < 0:\n",
    "            index += self.size  # Soporta índices negativos\n",
    "        if index < 0 or index >= self.size:\n",
    "            raise IndexError(\"Index out of range\")\n",
    "    \n",
    "        with self.lock:\n",
    "            if index < self.size // 2:\n",
    "                current = self.head\n",
    "                for _ in range(index):\n",
    "                    current = current.next\n",
    "            else:\n",
    "                current = self.tail\n",
    "                for _ in range(self.size - 1, index, -1):\n",
    "                    current = current.prev\n",
    "    \n",
    "            current.data = value\n",
    "    def __str__(self):\n",
    "        \"\"\"Devuelve una representación en cadena de la lista enlazada.\"\"\"\n",
    "        elements = []\n",
    "        current = self.head\n",
    "        while current:\n",
    "            elements.append(str(current.data))\n",
    "            current = current.next\n",
    "        return \"[\" + \", \".join(elements) + \"]\"\n",
    "    def __repr__(self):\n",
    "        return f\"Dll : {str(self)}\"\n",
    "            "
   ]
  },
  {
   "cell_type": "code",
   "execution_count": 35,
   "metadata": {},
   "outputs": [],
   "source": [
    "# Ejemplo de uso\n",
    "dll = Dll()\n",
    "dll.append(\"A\")\n",
    "dll.append(\"B\")\n",
    "dll.append(\"C\")\n",
    "dll.append(\"D\")\n",
    "dll.append(\"E\")"
   ]
  },
  {
   "cell_type": "code",
   "execution_count": 36,
   "metadata": {},
   "outputs": [
    {
     "name": "stdout",
     "output_type": "stream",
     "text": [
      "[A, B, C, D, E]\n"
     ]
    }
   ],
   "source": [
    "print(dll)"
   ]
  },
  {
   "cell_type": "code",
   "execution_count": 37,
   "metadata": {},
   "outputs": [],
   "source": [
    "dll[2] = \"X\"  # Modifica el tercer elemento\n",
    "dll[-1] = \"Z\"  # Modifica el último elemento"
   ]
  },
  {
   "cell_type": "code",
   "execution_count": 38,
   "metadata": {},
   "outputs": [
    {
     "data": {
      "text/plain": [
       "Dll : [A, B, X, D, Z]"
      ]
     },
     "execution_count": 38,
     "metadata": {},
     "output_type": "execute_result"
    }
   ],
   "source": [
    "dll"
   ]
  },
  {
   "cell_type": "code",
   "execution_count": null,
   "metadata": {},
   "outputs": [],
   "source": []
  },
  {
   "cell_type": "code",
   "execution_count": null,
   "metadata": {},
   "outputs": [],
   "source": [
    "while dll.size > 0:\n",
    "    print(dll.pop())\n",
    "else:\n",
    "    print(dll)"
   ]
  },
  {
   "cell_type": "code",
   "execution_count": null,
   "metadata": {},
   "outputs": [],
   "source": []
  },
  {
   "cell_type": "code",
   "execution_count": null,
   "metadata": {},
   "outputs": [],
   "source": []
  }
 ],
 "metadata": {
  "kernelspec": {
   "display_name": "Python 3 (ipykernel)",
   "language": "python",
   "name": "python3"
  },
  "language_info": {
   "codemirror_mode": {
    "name": "ipython",
    "version": 3
   },
   "file_extension": ".py",
   "mimetype": "text/x-python",
   "name": "python",
   "nbconvert_exporter": "python",
   "pygments_lexer": "ipython3",
   "version": "3.10.4"
  }
 },
 "nbformat": 4,
 "nbformat_minor": 4
}
