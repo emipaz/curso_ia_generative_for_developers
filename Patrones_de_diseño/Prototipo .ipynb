{
 "cells": [
  {
   "cell_type": "markdown",
   "id": "ab011f6c-5700-4a50-aa2b-6f9659feb08d",
   "metadata": {},
   "source": [
    "Aquí tienes un ejemplo del patrón Prototipo en Python:"
   ]
  },
  {
   "cell_type": "code",
   "execution_count": 2,
   "id": "e1c762d1-110b-489c-b188-322f942b9c76",
   "metadata": {},
   "outputs": [],
   "source": [
    "import copy\n",
    "\n",
    "class Prototype:\n",
    "    def clone(self):\n",
    "        return copy.deepcopy(self)\n",
    "\n",
    "class ConcretePrototypeA(Prototype):\n",
    "    def __init__(self, attribute):\n",
    "        self.attribute = attribute\n",
    "\n",
    "    def __str__(self):\n",
    "        return f\"ConcretePrototypeA with attribute: {self.attribute}\"\n",
    "\n",
    "class ConcretePrototypeB(Prototype):\n",
    "    def __init__(self, attribute):\n",
    "        self.attribute = attribute\n",
    "\n",
    "    def __str__(self):\n",
    "        return f\"ConcretePrototypeB with attribute: {self.attribute}\""
   ]
  },
  {
   "cell_type": "markdown",
   "id": "e6c052b7-9a12-49f0-b9db-d23f507b87f7",
   "metadata": {},
   "source": [
    "# Uso del patrón Prototipo"
   ]
  },
  {
   "cell_type": "code",
   "execution_count": 3,
   "id": "51a928ad-3add-420a-8c61-36a076ab0497",
   "metadata": {},
   "outputs": [],
   "source": [
    "prototype_a = ConcretePrototypeA(\"Value A\")\n",
    "prototype_b = ConcretePrototypeB(\"Value B\")"
   ]
  },
  {
   "cell_type": "code",
   "execution_count": 4,
   "id": "3fdf0762-2404-4f37-baab-331a34a7d183",
   "metadata": {},
   "outputs": [],
   "source": [
    "# Clonando los prototipos\n",
    "clone_a = prototype_a.clone()\n",
    "clone_b = prototype_b.clone()"
   ]
  },
  {
   "cell_type": "code",
   "execution_count": 5,
   "id": "fba1cdec-8fce-4862-b193-460f2b3339c2",
   "metadata": {},
   "outputs": [
    {
     "name": "stdout",
     "output_type": "stream",
     "text": [
      "ConcretePrototypeA with attribute: Value A\n",
      "ConcretePrototypeB with attribute: Value B\n"
     ]
    }
   ],
   "source": [
    "print(clone_a)  # Output: ConcretePrototypeA with attribute: Value A\n",
    "print(clone_b)  # Output: ConcretePrototypeB with attribute: Value B"
   ]
  },
  {
   "cell_type": "code",
   "execution_count": 6,
   "id": "3f2ceceb-ece2-47de-af6a-3923bbae8225",
   "metadata": {},
   "outputs": [
    {
     "data": {
      "text/plain": [
       "False"
      ]
     },
     "execution_count": 6,
     "metadata": {},
     "output_type": "execute_result"
    }
   ],
   "source": [
    "clone_a is prototype_a"
   ]
  },
  {
   "cell_type": "markdown",
   "id": "41f097eb-6d3c-4cb8-89d0-1669eb8332a4",
   "metadata": {},
   "source": [
    "En este ejemplo, ConcretePrototypeA y ConcretePrototypeB son clases que heredan de Prototype. Cada una tiene un método clone que crea una copia profunda de la instancia actual. Esto permite crear nuevos objetos basados en instancias existentes sin necesidad de conocer su estructura interna."
   ]
  }
 ],
 "metadata": {
  "kernelspec": {
   "display_name": "py313",
   "language": "python",
   "name": "py313"
  },
  "language_info": {
   "codemirror_mode": {
    "name": "ipython",
    "version": 3
   },
   "file_extension": ".py",
   "mimetype": "text/x-python",
   "name": "python",
   "nbconvert_exporter": "python",
   "pygments_lexer": "ipython3",
   "version": "3.13.1"
  }
 },
 "nbformat": 4,
 "nbformat_minor": 5
}
