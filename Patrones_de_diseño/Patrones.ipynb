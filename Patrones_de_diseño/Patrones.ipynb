{
 "cells": [
  {
   "cell_type": "markdown",
   "id": "425967d6-e5a4-4293-b060-f932acb70b1a",
   "metadata": {},
   "source": [
    "# <center> Patrones de Diseño </center>"
   ]
  },
  {
   "cell_type": "markdown",
   "id": "1801e6b7-043c-472f-8a7d-7ca85f33b87a",
   "metadata": {},
   "source": [
    "Los Patrones de Diseño (en inglés, Design Patterns) son soluciones reutilizables y comprobadas a problemas comunes de diseño de software. No son fragmentos de código listos para copiar y pegar, sino estructuras o esquemas generales que se pueden adaptar a diferentes situaciones.\n",
    "\n",
    "¿Para qué sirven?\n",
    "\n",
    "- Promueven buenas prácticas de programación.\n",
    "- Facilitan la comunicación entre desarrolladores usando un lenguaje común.\n",
    "- Mejoran la reusabilidad y el mantenimiento del código.\n",
    "- Ayudan a resolver problemas comunes de forma más eficiente."
   ]
  },
  {
   "cell_type": "markdown",
   "id": "6da9889a-8c95-424e-a869-30ab5a01be29",
   "metadata": {},
   "source": [
    "¿Por qué son útiles?\n",
    "\n",
    "En proyectos grandes o al trabajar en equipo, los patrones ayudan a:\n",
    "\n",
    "- Reducir la complejidad.\n",
    "- Evitar reinventar la rueda.\n",
    "- Hacer el código más comprensible y flexible."
   ]
  },
  {
   "cell_type": "markdown",
   "id": "be11b69e-0f3d-436b-b915-a8b58431dff9",
   "metadata": {},
   "source": [
    "🔧 Estructura del libro\n",
    "\n",
    "1. Introducción a los Patrones\n",
    "\n",
    "  - Define qué son los patrones de diseño.\n",
    "  - Explica cómo identificarlos, nombrarlos y aplicarlos.\n",
    "  - Presenta una plantilla uniforme para describir cada patrón.\n",
    "\n",
    "2. Catálogo de 23 patrones, organizados en tres categorías:\n",
    "\n",
    "1. Patrones Creacionales (manejo de creación de objetos)\n",
    "  - Singleton\n",
    "  - Factory Method\n",
    "  - Abstract Factory\n",
    "  - Builder\n",
    "  - Prototype\n",
    "\n",
    "2. Patrones Estructurales (composición de clases y objetos)\n",
    "\n",
    "  - Adapter\n",
    "  - Bridge\n",
    "  - Composite\n",
    "  - Decorator\n",
    "  - Facade \n",
    "  - Flyweight\n",
    "  - Proxy\n",
    "\n",
    "3. Patrones de Comportamiento (interacción entre objetos)\n",
    "\n",
    "  - Chain of Responsibility\n",
    "  - Command\n",
    "  - Interpreter \n",
    "  - Iterator\n",
    "  - Mediator\n",
    "  - Memento\n",
    "  - Observer\n",
    "  - State\n",
    "  - Strategy\n",
    "  - Template Method\n",
    "  - Visitor"
   ]
  },
  {
   "cell_type": "markdown",
   "id": "6dbb4c38-e887-4de4-b6f3-e55eb26ccbfa",
   "metadata": {},
   "source": [
    "## 🧱 Patrones Creacionales – ¿Por qué usarlos?"
   ]
  },
  {
   "cell_type": "markdown",
   "id": "64b3a5bb-f81b-45c2-a1e4-868dc44651fe",
   "metadata": {},
   "source": [
    "Los **patrones creacionales** abordan la forma en que los **objetos son creados**, encapsulando el proceso de instanciación para hacerlo más flexible y controlado. En lugar de crear objetos directamente con `new` (o su equivalente), estos patrones delegan la responsabilidad de creación a métodos o clases especializadas. Esto permite **desacoplar el código del tipo concreto de objeto que se crea**, facilitando el uso de estructuras más complejas, reutilizables y escalables."
   ]
  },
  {
   "cell_type": "markdown",
   "id": "e2b6b57d-29d0-4ac2-aa6b-57a62c2fdd4c",
   "metadata": {},
   "source": [
    "### ✅ Ventajas principales"
   ]
  },
  {
   "cell_type": "markdown",
   "id": "a8cbebcc-cbe8-4b7f-9a98-699eab5a0c61",
   "metadata": {},
   "source": [
    "- Flexibilidad:\n",
    " \n",
    "    Cambiar el tipo de objetos creados sin modificar el código cliente.\n",
    "\n",
    "-  Desacoplamiento:\n",
    "\n",
    "    El código no necesita saber cómo se construye un objeto, solo cómo usarlo.\n",
    "\n",
    "- Reutilización:\n",
    "\n",
    "    Promueven estructuras reutilizables para crear familias de objetos relacionados.\n",
    "\n",
    "- Control centralizado:\n",
    "\n",
    "    Permiten agregar lógica adicional (como control de acceso, caché, logs) en el proceso de creación."
   ]
  },
  {
   "cell_type": "markdown",
   "id": "1ced6bf9-89c9-4db4-8151-300295560019",
   "metadata": {},
   "source": [
    "### 🧩 Patron Singleton"
   ]
  },
  {
   "cell_type": "markdown",
   "id": "5599a66c-af18-4d9e-98a9-e7851fc5ccbc",
   "metadata": {},
   "source": [
    "#### ¿Qué hace este patrón Singleton?"
   ]
  },
  {
   "cell_type": "markdown",
   "id": "db70e485-050b-463d-9b0b-80e78e548204",
   "metadata": {},
   "source": [
    "El patrón Singleton asegura que una clase tenga una única instancia en toda la aplicación y proporciona un punto de acceso global a ella. Es útil cuando necesitas exactamente un objeto que coordine acciones en todo el sistema, como una configuración global, un logger o una conexión a base de datos."
   ]
  },
  {
   "cell_type": "markdown",
   "id": "d464c0f7-50d5-4ebb-92ce-02293cf1aff7",
   "metadata": {},
   "source": [
    "#### Ejemplo simple"
   ]
  },
  {
   "cell_type": "code",
   "execution_count": 32,
   "id": "5f7579f4-f53f-4597-bc72-ca67669cb274",
   "metadata": {},
   "outputs": [],
   "source": [
    "class Singleton:\n",
    "    _instancia = None  # Atributo de clase que guarda la única instancia creada\n",
    "\n",
    "    def __init__(self):\n",
    "        # Si ya existe una instancia, no se permite crear otra\n",
    "        if Singleton._instancia is not None:\n",
    "            raise Exception(\"¡Esta clase es un Singleton!\")\n",
    "        else:\n",
    "            Singleton._instancia = self\n",
    "        self.configuracion = {}  # Diccionario para guardar configuraciones\n",
    "\n",
    "    @staticmethod\n",
    "    def obtener_instancia():\n",
    "        # Si no hay una instancia aún, la crea\n",
    "        if Singleton._instancia is None:\n",
    "            Singleton._instancia = Singleton()\n",
    "        return Singleton._instancia\n",
    "\n",
    "    def establecer_configuracion(self, clave, valor):\n",
    "        self.configuracion[clave] = valor\n",
    "\n",
    "    def obtener_configuracion(self, clave):\n",
    "        return self.configuracion.get(clave, None)\n",
    "\n",
    "    def mostrar_configuracion(self):\n",
    "        for clave, valor in self.configuracion.items():\n",
    "            print(f\"{clave}: {valor}\")\n"
   ]
  },
  {
   "cell_type": "code",
   "execution_count": 33,
   "id": "27979d0d-2ee3-4bbf-b547-39a269b615bf",
   "metadata": {},
   "outputs": [
    {
     "name": "stdout",
     "output_type": "stream",
     "text": [
      "base_de_datos: PostgreSQL\n",
      "¿Son la misma instancia? True\n"
     ]
    }
   ],
   "source": [
    "# Establecer configuración en una parte del programa\n",
    "instancia_1 = Singleton.obtener_instancia()\n",
    "instancia_1.establecer_configuracion('base_de_datos', 'PostgreSQL')\n",
    "\n",
    "# Acceder a la configuración desde otro lugar\n",
    "instancia_2 = Singleton.obtener_instancia()\n",
    "instancia_2.mostrar_configuracion()\n",
    "\n",
    "# Verificación: ambas instancias son la misma\n",
    "assert instancia_1 is instancia_2\n",
    "print(\"¿Son la misma instancia?\", instancia_1 is instancia_2)\n"
   ]
  },
  {
   "cell_type": "markdown",
   "id": "d546a06a-795a-49c6-afa8-2f0ca23f6486",
   "metadata": {},
   "source": [
    "📌 ¿Qué aprenden tus alumnos con este ejemplo?\n",
    "\n",
    "- Cómo evitar múltiples instancias de una clase.\n",
    "- Cómo mantener un estado global (como una configuración compartida).\n",
    "- Cómo separar la creación de una clase del uso de su instancia.\n",
    "\n"
   ]
  },
  {
   "cell_type": "markdown",
   "id": "b39d7455-120e-45c6-85a3-6f34a00affd6",
   "metadata": {
    "jp-MarkdownHeadingCollapsed": true
   },
   "source": [
    "### 🧱 Patrón Factory Method (Método Fábrica)"
   ]
  },
  {
   "cell_type": "markdown",
   "id": "ee728583-f242-48c5-9c14-efd501eaa6b1",
   "metadata": {},
   "source": [
    "- 📌 ¿Por qué usarlo?\n",
    "\n",
    "El patrón Factory Method permite delegar la creación de objetos a subclases sin especificar la clase exacta del objeto que se va a crear. Esto da más flexibilidad para agregar nuevas clases sin modificar el código existente, siguiendo el principio de abierto/cerrado.\n",
    "\n",
    "✅ Ventajas principales:\n",
    "\n",
    "- Separa la lógica de creación del uso del objeto.\n",
    "- Facilita la extensión y mantenimiento del sistema.\n",
    "- Promueve bajo acoplamiento entre clases.\n",
    "- Muy útil cuando se trabaja con familias de objetos relacionados."
   ]
  },
  {
   "cell_type": "markdown",
   "id": "2b0b899c-486b-4e35-b07c-506025427a50",
   "metadata": {},
   "source": [
    "🎯 Supongamos que queremos crear diferentes tipos de notificaciones (Email, SMS, Push)"
   ]
  },
  {
   "cell_type": "code",
   "execution_count": 34,
   "id": "156fd3f6-e6b3-4a81-9d3d-bc0ff8585586",
   "metadata": {},
   "outputs": [],
   "source": [
    "from abc import ABC, abstractmethod\n",
    "\n",
    "# Clase base abstracta\n",
    "class Notificacion(ABC):\n",
    "    \"\"\"Clase base que define el método abstracto enviar\"\"\"\n",
    "    \n",
    "    @abstractmethod\n",
    "    def enviar(self, mensaje):\n",
    "        pass\n",
    "\n",
    "\n",
    "# Clases concretas que implementan Notificacion\n",
    "\n",
    "class NotificacionEmail(Notificacion):\n",
    "    def enviar(self, mensaje):\n",
    "        print(f\"Enviando EMAIL con el mensaje: {mensaje}\")\n",
    "\n",
    "class NotificacionSMS(Notificacion):\n",
    "    def enviar(self, mensaje):\n",
    "        print(f\"Enviando SMS con el mensaje: {mensaje}\")\n",
    "\n",
    "class NotificacionPush(Notificacion):\n",
    "    def enviar(self, mensaje):\n",
    "        print(f\"Enviando PUSH con el mensaje: {mensaje}\")\n"
   ]
  },
  {
   "cell_type": "markdown",
   "id": "1e9521d8-1d2d-4478-b1f3-98d24fcdba9d",
   "metadata": {},
   "source": [
    "🏭 Ahora implementamos la Fábrica (Factory Method):"
   ]
  },
  {
   "cell_type": "code",
   "execution_count": 35,
   "id": "3de6cc20-00e4-431f-b6cf-85c09f7e3bda",
   "metadata": {},
   "outputs": [],
   "source": [
    "class FabricaNotificaciones:\n",
    "    \"\"\"Fábrica que crea objetos de tipo Notificacion\"\"\"\n",
    "    \n",
    "    @staticmethod\n",
    "    def crear_notificacion(tipo):\n",
    "        if tipo == 'email':\n",
    "            return NotificacionEmail()\n",
    "        elif tipo == 'sms':\n",
    "            return NotificacionSMS()\n",
    "        elif tipo == 'push':\n",
    "            return NotificacionPush()\n",
    "        else:\n",
    "            raise ValueError(\"Tipo de notificación no válido\")\n"
   ]
  },
  {
   "cell_type": "markdown",
   "id": "64ee0152-1907-4f1a-91a4-214a623f1be1",
   "metadata": {},
   "source": [
    "🧪 Uso del patrón Factory:"
   ]
  },
  {
   "cell_type": "code",
   "execution_count": 36,
   "id": "4c38cc24-be73-4bc4-8b9a-914690fb8480",
   "metadata": {},
   "outputs": [
    {
     "name": "stdout",
     "output_type": "stream",
     "text": [
      "Enviando SMS con el mensaje: Este es un mensaje importante\n"
     ]
    }
   ],
   "source": [
    "# Creamos una notificación usando la fábrica\n",
    "tipo = 'sms'  # puede ser 'email', 'sms', 'push'\n",
    "notificacion = FabricaNotificaciones.crear_notificacion(tipo)\n",
    "\n",
    "# Usamos el objeto sin preocuparnos de su tipo exacto\n",
    "notificacion.enviar(\"Este es un mensaje importante\")\n"
   ]
  },
  {
   "cell_type": "markdown",
   "id": "bc49b80a-52eb-4e86-8082-91239d28e546",
   "metadata": {},
   "source": [
    "🧠 Lo que logramos:\n",
    "\n",
    "- Separar la lógica de creación (fábrica) de la lógica de uso (enviar).\n",
    "- Agregar un nuevo tipo de notificación en el futuro (por ejemplo, WhatsApp) sería muy fácil y no afectaría el código existente."
   ]
  },
  {
   "cell_type": "markdown",
   "id": "cf59094b-8269-4710-9bbd-8fab0203139e",
   "metadata": {},
   "source": [
    "me parece que si lo ordenamos asi:\n",
    "\n",
    "1. Script singlenton de la base dedatos\n",
    "2. Script con la Clase Empresa\n",
    "3. Script Con La Clase FabricaEmpresa que fsbrica una clase Empresa \n",
    "\n",
    "que opinas?"
   ]
  },
  {
   "cell_type": "markdown",
   "id": "bf955670-d8bb-4d00-84b9-a7e0cc268ae1",
   "metadata": {},
   "source": [
    "Tu propuesta es excelente. Organizar los scripts de esa manera tiene varias ventajas:\n",
    "\n",
    "    ✅ Ventajas de ese orden:\n",
    "\n",
    "1. Separación clara de responsabilidades:\n",
    "\n",
    "  - Cada script cumple una función específica:\n",
    "\n",
    "    - 1. Singleton: Manejo de la conexión a base de datos (único acceso centralizado).\n",
    "    - 2. Empresa: Modelo de entidad con lógica de negocio (cálculo de bandas, etc.).\n",
    "    - 3. Fábrica: Creación de instancias Empresa sin acoplar el código a la fuente de datos.\n",
    "\n",
    "2. Modularidad y reusabilidad:\n",
    "\n",
    "  - Cada módulo se puede importar y reutilizar fácilmente en otros scripts o notebooks.\n",
    "\n",
    "3. Facilita el testing y la enseñanza:\n",
    "\n",
    "  - Podés mostrar, probar o explicar cada parte por separado. Ideal para tus alumnos."
   ]
  },
  {
   "cell_type": "markdown",
   "id": "940aa37b-88f1-4d31-a205-dffc86bca85d",
   "metadata": {},
   "source": [
    "📦 Te propongo los nombres de los módulos / notebooks:\n",
    "\n",
    "| Archivo / Notebook         | Contenido                                                             |\n",
    "| -------------------------- | --------------------------------------------------------------------- |\n",
    "| `singleton_db.py`          | Implementa el patrón Singleton para la conexión a SQLite              |\n",
    "| `empresa.py`               | Define la clase `Company` y sus métodos (`load_time_series`, etc.)    |\n",
    "| `fabrica_empresa.py`       | Implementa la clase `CompanyFactory` con sus métodos de creación      |\n",
    "| `main.ipynb` (o `demo.py`) | Script o notebook para usar la fábrica y mostrar el análisis completo |\n"
   ]
  },
  {
   "cell_type": "markdown",
   "id": "c6962820-7571-41a2-aada-e3f27273d59c",
   "metadata": {},
   "source": [
    "#### Usando Empresa con Patron Fabrica"
   ]
  },
  {
   "cell_type": "code",
   "execution_count": 1,
   "id": "dc417c8f-ded4-42e4-b868-f286513d99d9",
   "metadata": {},
   "outputs": [],
   "source": [
    "from singleton_db import ConexionDB\n",
    "from fabrica_empresa import FabricaEmpresa"
   ]
  },
  {
   "cell_type": "code",
   "execution_count": 2,
   "id": "85852a83-9e43-45ac-91dc-3e7922171b39",
   "metadata": {},
   "outputs": [],
   "source": [
    "# Obtener conexión única\n",
    "conexion = ConexionDB.get_instancia().obtener_conexion()"
   ]
  },
  {
   "cell_type": "code",
   "execution_count": 3,
   "id": "b2882739-dd88-40be-bebd-66b69bc17388",
   "metadata": {},
   "outputs": [],
   "source": [
    "# Crear empresa a partir del ticker\n",
    "empresa = FabricaEmpresa.crear('GOOGL', conexion)"
   ]
  },
  {
   "cell_type": "code",
   "execution_count": 4,
   "id": "dfcbae65-9cfe-48c9-82ad-0595a43c17a1",
   "metadata": {},
   "outputs": [
    {
     "name": "stdout",
     "output_type": "stream",
     "text": [
      "Empresa: Alphabet Inc. (GOOGL)\n",
      "Calificación: B\n",
      "Últimos valores de la serie temporal:\n",
      "        fecha   valor\n",
      "95 2023-04-06  342.20\n",
      "96 2023-04-07  301.04\n",
      "97 2023-04-08  294.89\n",
      "98 2023-04-09  399.50\n",
      "99 2023-04-10  107.33\n",
      "Media móvil:\n",
      "95    283.6750\n",
      "96    282.2255\n",
      "97    291.9070\n",
      "98    292.2340\n",
      "99    290.6065\n",
      "Name: valor, dtype: float64\n",
      "Banda superior:\n",
      "95    543.167290\n",
      "96    540.950274\n",
      "97    536.208438\n",
      "98    537.121760\n",
      "99    540.146010\n",
      "Name: valor, dtype: float64\n",
      "Banda inferior:\n",
      "95    24.182710\n",
      "96    23.500726\n",
      "97    47.605562\n",
      "98    47.346240\n",
      "99    41.066990\n",
      "Name: valor, dtype: float64\n"
     ]
    }
   ],
   "source": [
    "# Analizar y mostrar datos\n",
    "empresa.cargar_serie_temporal(conexion)\n",
    "empresa.calcular_bandas_bollinger()\n",
    "empresa.asignar_calificacion()\n",
    "empresa.mostrar_informacion()"
   ]
  },
  {
   "cell_type": "code",
   "execution_count": 5,
   "id": "a923dbf7-8c90-46ca-904a-37b587719aad",
   "metadata": {},
   "outputs": [],
   "source": [
    "empresa_meta = FabricaEmpresa.crear(6, conexion)"
   ]
  },
  {
   "cell_type": "code",
   "execution_count": 6,
   "id": "1f7327ab-d907-4ab5-872b-47ae7251710d",
   "metadata": {},
   "outputs": [],
   "source": [
    "empresa_meta.cargar_serie_temporal(conexion)"
   ]
  },
  {
   "cell_type": "code",
   "execution_count": 7,
   "id": "c69482dc-1efd-40e8-b26a-8de1993a7297",
   "metadata": {},
   "outputs": [],
   "source": [
    "empresa_meta.calcular_bandas_bollinger()"
   ]
  },
  {
   "cell_type": "code",
   "execution_count": 8,
   "id": "ce540b27-3765-4bd1-818f-018012f584a4",
   "metadata": {},
   "outputs": [
    {
     "name": "stdout",
     "output_type": "stream",
     "text": [
      "Empresa: Meta Platforms Inc. (META)\n",
      "Calificación: B\n",
      "Últimos valores de la serie temporal:\n",
      "        fecha   valor\n",
      "95 2023-04-06  305.57\n",
      "96 2023-04-07  300.47\n",
      "97 2023-04-08  189.96\n",
      "98 2023-04-09  416.20\n",
      "99 2023-04-10  474.12\n",
      "Media móvil:\n",
      "95    334.4005\n",
      "96    325.7970\n",
      "97    320.0125\n",
      "98    326.4495\n",
      "99    326.3085\n",
      "Name: valor, dtype: float64\n",
      "Banda superior:\n",
      "95    565.893047\n",
      "96    548.287757\n",
      "97    550.577815\n",
      "98    560.352494\n",
      "99    559.832618\n",
      "Name: valor, dtype: float64\n",
      "Banda inferior:\n",
      "95    102.907953\n",
      "96    103.306243\n",
      "97     89.447185\n",
      "98     92.546506\n",
      "99     92.784382\n",
      "Name: valor, dtype: float64\n"
     ]
    }
   ],
   "source": [
    "empresa_meta.asignar_calificacion()\n",
    "empresa_meta.mostrar_informacion()"
   ]
  },
  {
   "cell_type": "markdown",
   "id": "d45c4f2b-7a7a-464b-8a94-81d772a1ebc9",
   "metadata": {
    "jp-MarkdownHeadingCollapsed": true
   },
   "source": [
    "### 🏗️ 2. Builder"
   ]
  },
  {
   "cell_type": "markdown",
   "id": "d13613e4-e96d-42d9-ae4d-df090f75b7f2",
   "metadata": {},
   "source": [
    "Separa la construcción de un objeto complejo de su representación final.\n",
    "\n",
    "📌 Motivación: Cuando un objeto tiene muchos pasos opcionales o combinaciones posibles al crearse (por ejemplo, una empresa con o sin datos financieros, con o sin análisis técnico, etc.)."
   ]
  },
  {
   "cell_type": "markdown",
   "id": "99068287-7cc7-433b-8487-b79428b10449",
   "metadata": {},
   "source": [
    "- ¿Cuándo conviene aplicar el patrón Builder formalmente?\n",
    "\n",
    "  - Cuando tenés muchas combinaciones posibles de creación.\n",
    "  - Cuando la construcción es muy compleja o involucra varios objetos.\n",
    "  - Cuando querés separar claramente la lógica de creación de la lógica del objeto final.\n",
    "  - Cuando te gustaría tener un solo .build() que entregue el objeto completo."
   ]
  },
  {
   "cell_type": "markdown",
   "id": "83d54174-e5e0-47b8-85b5-89ac849e4446",
   "metadata": {},
   "source": [
    "#### ejemplo de uso"
   ]
  },
  {
   "cell_type": "code",
   "execution_count": 9,
   "id": "6545dadf-4f48-4ccd-96f3-55aabbf8135f",
   "metadata": {},
   "outputs": [],
   "source": [
    "from singleton_db import ConexionDB"
   ]
  },
  {
   "cell_type": "code",
   "execution_count": 10,
   "id": "3faa7012-90ef-42c4-82a2-645e9d6bff50",
   "metadata": {},
   "outputs": [],
   "source": [
    "from empresa_build import EmpresaBuilder"
   ]
  },
  {
   "cell_type": "code",
   "execution_count": 11,
   "id": "07d41c6c-2e32-4814-a400-5098918cb725",
   "metadata": {},
   "outputs": [
    {
     "name": "stdout",
     "output_type": "stream",
     "text": [
      "Empresa: Apple Inc. (AAPL)\n",
      "Calificación: B\n",
      "Últimos valores de la serie temporal:\n",
      "        fecha   valor\n",
      "95 2023-04-06  147.26\n",
      "96 2023-04-07  220.70\n",
      "97 2023-04-08  485.35\n",
      "98 2023-04-09  410.49\n",
      "99 2023-04-10  267.94\n",
      "Media Móvil:\n",
      "95    306.695\n",
      "96    309.591\n",
      "97    313.938\n",
      "98    327.715\n",
      "99    319.001\n",
      "Name: valor, dtype: float64\n",
      "Banda Superior:\n",
      "95    538.852388\n",
      "96    535.551815\n",
      "97    550.203399\n",
      "98    551.858201\n",
      "99    537.889970\n",
      "Name: valor, dtype: float64\n",
      "Banda Inferior:\n",
      "95     74.537612\n",
      "96     83.630185\n",
      "97     77.672601\n",
      "98    103.571799\n",
      "99    100.112030\n",
      "Name: valor, dtype: float64\n"
     ]
    }
   ],
   "source": [
    "# Abrimos conexión\n",
    "conn = ConexionDB.get_instancia().obtener_conexion()\n",
    "\n",
    "# Construimos la empresa paso a paso\n",
    "builder = EmpresaBuilder(conn)\n",
    "empresa = (builder\n",
    "           .obtener_por_ticker(\"AAPL\")\n",
    "           .con_serie_temporal()\n",
    "           .con_bandas_bollinger()\n",
    "           .con_calificacion()\n",
    "           .build())\n",
    "\n",
    "# Mostramos resultados\n",
    "if empresa:\n",
    "    empresa.mostrar()\n",
    "\n",
    "# conn.close()\n"
   ]
  },
  {
   "cell_type": "markdown",
   "id": "4fcb77d3-a381-4fae-943c-64379585aea0",
   "metadata": {
    "jp-MarkdownHeadingCollapsed": true
   },
   "source": [
    "## 📚 Patrones de comportamiento"
   ]
  },
  {
   "cell_type": "markdown",
   "id": "1d32dc42-6bd8-4772-be66-41cc5dc4997d",
   "metadata": {},
   "source": [
    "Los patrones de comportamiento (Behavioral Patterns) \n",
    "\n",
    "Están enfocados en cómo interactúan los objetos entre sí, cómo se comunican, cómo se reparten responsabilidades, y cómo se gestionan flujos o algoritmos.\n",
    "\n",
    "- 📚 Lista de Patrones de Comportamiento\n",
    "\n",
    "  - Chain of Responsibility (Cadena de Responsabilidad)\n",
    "  - Command (Comando)\n",
    "  - Interpreter (Intérprete)\n",
    "  - Iterator (Iterador)\n",
    "  - Mediator (Mediador)\n",
    "  - Memento (Recuerdo)\n",
    "  - Observer (Observador / Publicador-Suscriptor)\n",
    "  - State (Estado)\n",
    "  - Strategy (Estrategia)\n",
    "  - Template Method (Método Plantilla)\n",
    "  - Visitor (Visitante)"
   ]
  },
  {
   "cell_type": "markdown",
   "id": "bac58d06-274f-4107-bade-4737995d5d1b",
   "metadata": {},
   "source": [
    "⭐ Los más utilizados en la práctica\n",
    "\n",
    "En desarrollo real (y especialmente en Python), los más comunes y prácticos son:\n",
    "\n",
    "| Patrón                      | ¿Para qué se usa?                                                                                                                  |\n",
    "| --------------------------- | ---------------------------------------------------------------------------------------------------------------------------------- |\n",
    "| **Observer**                | Para notificar múltiples objetos cuando cambia el estado de otro. Útil en GUIs, eventos o modelos reactivos.                       |\n",
    "| **Strategy**                | Para intercambiar algoritmos en tiempo de ejecución sin modificar el objeto que los usa. Muy común en validaciones, cálculos, etc. |\n",
    "| **Command**                 | Para encapsular una solicitud como un objeto. Se usa en menús, deshacer/rehacer, batch processing, etc.                            |\n",
    "| **State**                   | Para cambiar el comportamiento de un objeto dependiendo de su estado interno.                                                      |\n",
    "| **Template Method**         | Para definir la estructura de un algoritmo, dejando que las subclases definan partes específicas. Muy usado en frameworks.         |\n",
    "| **Chain of Responsibility** | Para pasar solicitudes por una cadena de objetos hasta que uno pueda atenderla. Útil para validaciones o manejo de eventos.        |\n"
   ]
  },
  {
   "cell_type": "markdown",
   "id": "af1a71dd-7577-47c0-946d-eed3b2bbbb93",
   "metadata": {
    "jp-MarkdownHeadingCollapsed": true
   },
   "source": [
    "### 🧩 Patrón Template Method"
   ]
  },
  {
   "cell_type": "markdown",
   "id": "7b45ca89-ac71-4afa-b42f-2598fedbf42e",
   "metadata": {},
   "source": [
    "- ¿Qué es el Patrón Template Method?"
   ]
  },
  {
   "cell_type": "markdown",
   "id": "d199846c-9170-4725-8079-481fd91b9d0e",
   "metadata": {},
   "source": [
    "El patrón Template Method define la estructura general de un algoritmo en una clase base, dejando que las subclases implementen ciertos pasos del algoritmo sin cambiar su estructura general.\n",
    "\n",
    "Este patrón es muy útil cuando diferentes clases comparten un proceso general, pero cada una necesita personalizar algunos pasos de ese proceso.\n",
    "\n",
    "- 🎯 Ventajas:\n",
    "\n",
    "Fomenta el principio de Hollywood: \"No nos llames, te llamaremos\", ya que la clase base controla el flujo.\n",
    "\n",
    "Favorece la reutilización del código y la inversión de control.\n",
    "\n",
    "Centraliza el algoritmo y permite variaciones en puntos específicos.\n",
    "\n",
    "- 🧠 Estructura típica\n",
    "\n",
    "```python\n",
    "class ClaseBase:\n",
    "    def metodo_template(self):\n",
    "        self.paso_comun1()\n",
    "        self.paso_variable()\n",
    "        self.paso_comun2()\n",
    "\n",
    "    def paso_comun1(self):\n",
    "        pass  # Implementación común\n",
    "\n",
    "    def paso_variable(self):\n",
    "        pass  # Método que se sobreescribe en la subclase\n",
    "\n",
    "    def paso_comun2(self):\n",
    "        pass  # Implementación común\n",
    "\n",
    "class SubClase(ClaseBase):\n",
    "    def paso_variable(self):\n",
    "        # Implementación específica\n",
    "```"
   ]
  },
  {
   "cell_type": "markdown",
   "id": "4d847f5a-5f95-4860-b474-c28db31a97fd",
   "metadata": {},
   "source": [
    "#### ✅ Ejemplo sencillo en Python"
   ]
  },
  {
   "cell_type": "markdown",
   "id": "26dfe525-0251-4acd-b699-27e38a159846",
   "metadata": {},
   "source": [
    "Supongamos que estamos desarrollando un sistema de carga de datos. El proceso general es siempre:\n",
    "\n",
    "Conectarse a una fuente de datos.\n",
    "\n",
    "- Leer los datos.\n",
    "- Procesarlos.\n",
    "- Cerrar la conexión.\n",
    "\n",
    "Pero el origen de los datos (por ejemplo: archivo, base de datos o API) cambia. Ahí es donde el patrón Template Method brilla."
   ]
  },
  {
   "cell_type": "code",
   "execution_count": 12,
   "id": "ffbd6f2b-c380-455c-83b6-6a2b592741ae",
   "metadata": {},
   "outputs": [],
   "source": [
    "from abc import ABC, abstractmethod\n",
    "\n",
    "class ProcesoCargaDatos(ABC):\n",
    "    \"\"\"\n",
    "    Clase base que define el algoritmo general de carga de datos.\n",
    "    \"\"\"\n",
    "\n",
    "    def ejecutar(self):\n",
    "        self.conectar()\n",
    "        datos = self.leer_datos()\n",
    "        self.procesar(datos)\n",
    "        self.cerrar_conexion()\n",
    "\n",
    "    @abstractmethod\n",
    "    def conectar(self):\n",
    "        pass\n",
    "\n",
    "    @abstractmethod\n",
    "    def leer_datos(self):\n",
    "        pass\n",
    "\n",
    "    @abstractmethod\n",
    "    def procesar(self, datos):\n",
    "        pass\n",
    "\n",
    "    @abstractmethod\n",
    "    def cerrar_conexion(self):\n",
    "        pass"
   ]
  },
  {
   "cell_type": "code",
   "execution_count": 13,
   "id": "8ffaf1bb-2c19-49e0-b536-a79f68029e8d",
   "metadata": {},
   "outputs": [],
   "source": [
    "class CargaDesdeArchivo(ProcesoCargaDatos):\n",
    "    def conectar(self):\n",
    "        print(\"Abriendo archivo...\")\n",
    "\n",
    "    def leer_datos(self):\n",
    "        print(\"Leyendo datos del archivo...\")\n",
    "        return [\"dato1\", \"dato2\", \"dato3\"]\n",
    "\n",
    "    def procesar(self, datos):\n",
    "        print(f\"Procesando datos del archivo: {datos}\")\n",
    "\n",
    "    def cerrar_conexion(self):\n",
    "        print(\"Cerrando archivo.\")"
   ]
  },
  {
   "cell_type": "code",
   "execution_count": 14,
   "id": "02c24aa1-0999-4dd5-b8fc-76b941b43542",
   "metadata": {},
   "outputs": [],
   "source": [
    "class CargaDesdeAPI(ProcesoCargaDatos):\n",
    "    def conectar(self):\n",
    "        print(\"Conectando a la API...\")\n",
    "\n",
    "    def leer_datos(self):\n",
    "        print(\"Obteniendo datos desde la API...\")\n",
    "        return {\"data\": [1, 2, 3]}\n",
    "\n",
    "    def procesar(self, datos):\n",
    "        print(f\"Procesando datos de la API: {datos['data']}\")\n",
    "\n",
    "    def cerrar_conexion(self):\n",
    "        print(\"Desconectando de la API.\")"
   ]
  },
  {
   "cell_type": "code",
   "execution_count": 15,
   "id": "5aa01f20-2001-4171-9568-046ebad1c4a1",
   "metadata": {},
   "outputs": [
    {
     "name": "stdout",
     "output_type": "stream",
     "text": [
      "Abriendo archivo...\n",
      "Leyendo datos del archivo...\n",
      "Procesando datos del archivo: ['dato1', 'dato2', 'dato3']\n",
      "Cerrando archivo.\n",
      "\n",
      "---\n",
      "\n",
      "Conectando a la API...\n",
      "Obteniendo datos desde la API...\n",
      "Procesando datos de la API: [1, 2, 3]\n",
      "Desconectando de la API.\n"
     ]
    }
   ],
   "source": [
    "# Uso\n",
    "proceso_archivo = CargaDesdeArchivo()\n",
    "proceso_archivo.ejecutar()\n",
    "\n",
    "print(\"\\n---\\n\")\n",
    "\n",
    "proceso_api = CargaDesdeAPI()\n",
    "proceso_api.ejecutar()"
   ]
  },
  {
   "cell_type": "markdown",
   "id": "eac1041b-eada-4f80-92ab-3976e963288a",
   "metadata": {
    "jp-MarkdownHeadingCollapsed": true
   },
   "source": [
    "### 🧩 Patrón Strategy"
   ]
  },
  {
   "cell_type": "markdown",
   "id": "4d5c8f90-7d72-4061-b52e-eece4b7df4fe",
   "metadata": {},
   "source": [
    "🧩 ¿Qué es el Patrón Strategy?"
   ]
  },
  {
   "cell_type": "markdown",
   "id": "d8005e83-57bf-4cf0-bee2-c670c2eddabe",
   "metadata": {},
   "source": [
    "El patrón Strategy permite definir una familia de algoritmos, encapsular cada uno y hacerlos intercambiables. El objeto que usa el algoritmo no necesita saber cómo funciona internamente: simplemente delega la acción a la estrategia.\n",
    "\n",
    "Esto permite cambiar el comportamiento de un objeto en tiempo de ejecución sin modificar su clase.\n",
    "\n",
    "- 🎯 Ventajas\n",
    "\n",
    "Separa la lógica del algoritmo de su uso.\n",
    "\n",
    "Facilita la extensión y el mantenimiento del código.\n",
    "\n",
    "Permite intercambiar comportamientos dinámicamente.\n",
    "\n",
    "- 🧠 Estructura básica\n",
    "\n",
    "```python\n",
    "class Estrategia(ABC):\n",
    "    @abstractmethod\n",
    "    def ejecutar(self, datos):\n",
    "        pass\n",
    "\n",
    "class EstrategiaConcretaA(Estrategia):\n",
    "    def ejecutar(self, datos):\n",
    "        # Algoritmo A\n",
    "\n",
    "class EstrategiaConcretaB(Estrategia):\n",
    "    def ejecutar(self, datos):\n",
    "        # Algoritmo B\n",
    "\n",
    "class Contexto:\n",
    "    def __init__(self, estrategia: Estrategia):\n",
    "        self.estrategia = estrategia\n",
    "\n",
    "    def procesar(self, datos):\n",
    "        return self.estrategia.ejecutar(datos)\n",
    "```"
   ]
  },
  {
   "cell_type": "markdown",
   "id": "1cba12a3-0848-48f6-841f-48348fd6fead",
   "metadata": {},
   "source": [
    "#### ✅ Ejemplo sencillo en Python\n",
    "\n",
    "Vamos a simular un sistema que aplica distintos descuentos a un carrito de compras. Cambiar la estrategia de descuento no afecta al resto del sistema."
   ]
  },
  {
   "cell_type": "code",
   "execution_count": 1,
   "id": "5bee6a7b-0ee1-4a9b-8ff7-054b55bc439e",
   "metadata": {},
   "outputs": [],
   "source": [
    "from abc import ABC, abstractmethod\n",
    "\n",
    "# Interfaz de Estrategia\n",
    "class EstrategiaDescuento(ABC):\n",
    "    @abstractmethod\n",
    "    def aplicar_descuento(self, total: float) -> float:\n",
    "        pass\n",
    "\n",
    "# Estrategias concretas\n",
    "class DescuentoFijo(EstrategiaDescuento):\n",
    "    def aplicar_descuento(self, total: float) -> float:\n",
    "        return total - 10  # Descuento fijo de 10 unidades\n",
    "\n",
    "class DescuentoPorcentaje(EstrategiaDescuento):\n",
    "    def aplicar_descuento(self, total: float) -> float:\n",
    "        return total * 0.9  # Descuento del 10%\n",
    "\n",
    "class SinDescuento(EstrategiaDescuento):\n",
    "    def aplicar_descuento(self, total: float) -> float:\n",
    "        return total  # No aplica descuento"
   ]
  },
  {
   "cell_type": "code",
   "execution_count": 2,
   "id": "ec7b2f15-d458-423b-936d-9f0321ee6037",
   "metadata": {},
   "outputs": [],
   "source": [
    "# Clase que usa la estrategia\n",
    "class Carrito:\n",
    "    def __init__(self, estrategia: EstrategiaDescuento):\n",
    "        self.estrategia = estrategia\n",
    "        self.productos = []\n",
    "\n",
    "    def agregar_producto(self, nombre: str, precio: float):\n",
    "        self.productos.append((nombre, precio))\n",
    "\n",
    "    def calcular_total(self):\n",
    "        total = sum(precio for _, precio in self.productos)\n",
    "        return self.estrategia.aplicar_descuento(total)"
   ]
  },
  {
   "cell_type": "code",
   "execution_count": 3,
   "id": "8d14998c-caca-4091-b7cb-837dc14e7ea9",
   "metadata": {},
   "outputs": [
    {
     "name": "stdout",
     "output_type": "stream",
     "text": [
      "Total con descuento fijo: 40\n"
     ]
    }
   ],
   "source": [
    "# Ejemplo de uso\n",
    "carrito = Carrito(DescuentoFijo())\n",
    "carrito.agregar_producto(\"Libro\", 30)\n",
    "carrito.agregar_producto(\"Cuaderno\", 20)\n",
    "print(\"Total con descuento fijo:\", carrito.calcular_total())"
   ]
  },
  {
   "cell_type": "code",
   "execution_count": 4,
   "id": "90395799-5e2e-4701-b2bc-96742a640780",
   "metadata": {},
   "outputs": [
    {
     "name": "stdout",
     "output_type": "stream",
     "text": [
      "Total con descuento por porcentaje: 45.0\n"
     ]
    }
   ],
   "source": [
    "carrito.estrategia = DescuentoPorcentaje()\n",
    "print(\"Total con descuento por porcentaje:\", carrito.calcular_total())"
   ]
  },
  {
   "cell_type": "code",
   "execution_count": 5,
   "id": "22d9907d-93ad-4517-a82e-764f0eb95283",
   "metadata": {},
   "outputs": [
    {
     "name": "stdout",
     "output_type": "stream",
     "text": [
      "Total sin descuento: 50\n"
     ]
    }
   ],
   "source": [
    "carrito.estrategia = SinDescuento()\n",
    "print(\"Total sin descuento:\", carrito.calcular_total())"
   ]
  },
  {
   "cell_type": "markdown",
   "id": "634162a4-f2e1-48e7-8f5b-062ca89fa26c",
   "metadata": {},
   "source": [
    "#### 🧠 ¿Cómo saber si necesito este patrón?\n",
    "\n",
    "Usalo si:\n",
    "\n",
    "- Tenés varias formas de realizar una acción (cálculo, validación, ordenamiento, etc.).\n",
    "- Querés cambiar dinámicamente ese comportamiento.\n",
    "- No querés usar muchas estructuras condicionales (if, elif, etc.) para seleccionar el algoritmo."
   ]
  },
  {
   "cell_type": "markdown",
   "id": "df57215d-54f8-4600-8b95-713aa4b896bb",
   "metadata": {
    "jp-MarkdownHeadingCollapsed": true
   },
   "source": [
    "### 👁️‍🗨️ Patrón Observer (Observador)"
   ]
  },
  {
   "cell_type": "markdown",
   "id": "952f9162-a661-4906-ae7d-d1abae291544",
   "metadata": {},
   "source": [
    "📌 ¿Qué es?\n",
    "\n",
    "El patrón Observer define una relación de suscripción entre objetos: cuando uno cambia de estado, todos los que dependen de él son notificados automáticamente.\n",
    "\n",
    "🧰 ¿Cuándo usarlo?\n",
    "\n",
    "Cuando necesitás que muchos objetos reaccionen a un cambio en otro.\n",
    "\n",
    "Cuando querés desacoplar el objeto que envía la notificación de los que la reciben.\n",
    "\n",
    "Ej: interfaces gráficas, sistemas de eventos, redes sociales, sensores, etc."
   ]
  },
  {
   "cell_type": "markdown",
   "id": "8b6895af-f068-45ca-b3dc-1d26a6747d10",
   "metadata": {},
   "source": [
    "#### ✅ Ejemplo práctico en Python"
   ]
  },
  {
   "cell_type": "markdown",
   "id": "e3de99d4-3a35-4355-abf1-32ce171d4950",
   "metadata": {},
   "source": [
    "Simularemos un sistema de noticias, donde los usuarios (observadores) se suscriben a un canal (sujeto) y reciben una notificación cuando se publica una noticia nueva."
   ]
  },
  {
   "cell_type": "code",
   "execution_count": 6,
   "id": "f44a7dd8-9d92-4d0d-814d-cd93278633ae",
   "metadata": {},
   "outputs": [],
   "source": [
    "from abc import ABC, abstractmethod\n",
    "\n",
    "# Interfaz del observador\n",
    "class Observador(ABC):\n",
    "    @abstractmethod\n",
    "    def actualizar(self, mensaje: str):\n",
    "        pass"
   ]
  },
  {
   "cell_type": "code",
   "execution_count": 7,
   "id": "052e0a68-e5bc-46f7-8a14-109033237c07",
   "metadata": {},
   "outputs": [],
   "source": [
    "# Sujeto (emisor de eventos)\n",
    "class CanalDeNoticias:\n",
    "    def __init__(self):\n",
    "        self.suscriptores = []\n",
    "\n",
    "    def suscribir(self, observador: Observador):\n",
    "        self.suscriptores.append(observador)\n",
    "\n",
    "    def desuscribir(self, observador: Observador):\n",
    "        self.suscriptores.remove(observador)\n",
    "\n",
    "    def notificar(self, mensaje: str):\n",
    "        for observador in self.suscriptores:\n",
    "            observador.actualizar(mensaje)\n",
    "\n",
    "    def publicar_noticia(self, titulo: str):\n",
    "        print(f\"📰 Nueva noticia: {titulo}\")\n",
    "        self.notificar(titulo)"
   ]
  },
  {
   "cell_type": "code",
   "execution_count": 8,
   "id": "187bd77f-7afc-4a1b-805e-a1e6fb79fcca",
   "metadata": {},
   "outputs": [],
   "source": [
    "# Observadores concretos\n",
    "class Usuario(Observador):\n",
    "    def __init__(self, nombre: str):\n",
    "        self.nombre = nombre\n",
    "\n",
    "    def actualizar(self, mensaje: str):\n",
    "        print(f\"{self.nombre} recibió la noticia: {mensaje}\")"
   ]
  },
  {
   "cell_type": "code",
   "execution_count": 9,
   "id": "cba5a46b-90e7-4c3f-982f-a89485559794",
   "metadata": {},
   "outputs": [],
   "source": [
    "# Uso del patrón\n",
    "canal = CanalDeNoticias()"
   ]
  },
  {
   "cell_type": "code",
   "execution_count": 10,
   "id": "184d10be-1881-4d46-9f6b-f61d4e6f5fc5",
   "metadata": {},
   "outputs": [],
   "source": [
    "usuario1 = Usuario(\"Ana\")\n",
    "usuario2 = Usuario(\"Juan\")\n",
    "usuario3 = Usuario(\"Luisa\")"
   ]
  },
  {
   "cell_type": "code",
   "execution_count": 11,
   "id": "ecea1cf8-60a9-4cb2-ba5e-b7999102ecdd",
   "metadata": {},
   "outputs": [],
   "source": [
    "canal.suscribir(usuario1)\n",
    "canal.suscribir(usuario2)"
   ]
  },
  {
   "cell_type": "code",
   "execution_count": 12,
   "id": "abb83af3-d027-46dd-b7b7-0b0dcfb35804",
   "metadata": {},
   "outputs": [
    {
     "name": "stdout",
     "output_type": "stream",
     "text": [
      "📰 Nueva noticia: Se aprobó nueva ley de educación.\n",
      "Ana recibió la noticia: Se aprobó nueva ley de educación.\n",
      "Juan recibió la noticia: Se aprobó nueva ley de educación.\n"
     ]
    }
   ],
   "source": [
    "canal.publicar_noticia(\"Se aprobó nueva ley de educación.\")"
   ]
  },
  {
   "cell_type": "code",
   "execution_count": 13,
   "id": "6e877e0a-e366-4254-9726-d34993bfbccf",
   "metadata": {},
   "outputs": [
    {
     "name": "stdout",
     "output_type": "stream",
     "text": [
      "📰 Nueva noticia: Finalizó el torneo de fútbol escolar.\n",
      "Ana recibió la noticia: Finalizó el torneo de fútbol escolar.\n",
      "Juan recibió la noticia: Finalizó el torneo de fútbol escolar.\n"
     ]
    }
   ],
   "source": [
    "canal.publicar_noticia(\"Finalizó el torneo de fútbol escolar.\")"
   ]
  },
  {
   "cell_type": "code",
   "execution_count": 14,
   "id": "2b810afb-fcfa-46e1-9cc8-d569e4b89875",
   "metadata": {},
   "outputs": [],
   "source": [
    "canal.desuscribir(usuario1)"
   ]
  },
  {
   "cell_type": "code",
   "execution_count": 15,
   "id": "cf08aebd-9ea9-4450-8783-1c6d2988a800",
   "metadata": {},
   "outputs": [],
   "source": [
    "canal.suscribir(usuario3)"
   ]
  },
  {
   "cell_type": "code",
   "execution_count": 16,
   "id": "616d9e65-94e9-4b58-9ca2-061c574d4fe5",
   "metadata": {},
   "outputs": [
    {
     "name": "stdout",
     "output_type": "stream",
     "text": [
      "📰 Nueva noticia: Nuevo descubrimiento científico en Marte.\n",
      "Juan recibió la noticia: Nuevo descubrimiento científico en Marte.\n",
      "Luisa recibió la noticia: Nuevo descubrimiento científico en Marte.\n"
     ]
    }
   ],
   "source": [
    "canal.publicar_noticia(\"Nuevo descubrimiento científico en Marte.\")"
   ]
  },
  {
   "cell_type": "markdown",
   "id": "d1f26580-a334-44b9-85a8-74c0fd4edcbb",
   "metadata": {},
   "source": [
    "🔍 ¿Qué hace este ejemplo?\n",
    "\n",
    "- CanalDeNoticias mantiene una lista de observadores (Usuario).\n",
    "- Cuando se publica una noticia, todos los usuarios suscritos son notificados automáticamente.\n",
    "- Podemos agregar o quitar observadores en tiempo real, sin cambiar la lógica del canal."
   ]
  },
  {
   "cell_type": "markdown",
   "id": "9f025f83-7f05-48e1-beff-8b4dd114b690",
   "metadata": {
    "jp-MarkdownHeadingCollapsed": true
   },
   "source": [
    "### 🎮 Patrón Command (Comando)"
   ]
  },
  {
   "cell_type": "markdown",
   "id": "0c7d6c22-b066-432f-9c25-4862e085304e",
   "metadata": {},
   "source": [
    "📌 ¿Qué es?\n",
    "\n",
    "El patrón Command encapsula una petición (una acción) como un objeto, permitiendo:\n",
    "\n",
    "- parametrizar acciones,\n",
    "- hacer \"deshacer\",\n",
    "- programar comandos para ejecutar más tarde,\n",
    "- o incluso crear colas de tareas."
   ]
  },
  {
   "cell_type": "markdown",
   "id": "5c022e4c-b6f0-400d-92c1-a1257da68c32",
   "metadata": {},
   "source": [
    "🧰 ¿Cuándo usarlo?\n",
    "\n",
    "- Cuando querés desacoplar el emisor de un comando del ejecutor.\n",
    "- Cuando necesitás implementar funcionalidades como:\n",
    "  - Menús y botones configurables,\n",
    "  - Historial de acciones (con \"deshacer\"),\n",
    "  - Programación de tareas.\n",
    "\n"
   ]
  },
  {
   "cell_type": "markdown",
   "id": "80ccda79-1f55-4357-a2bb-814bdbe65182",
   "metadata": {},
   "source": [
    "#### ✅ Ejemplo práctico en Python"
   ]
  },
  {
   "cell_type": "markdown",
   "id": "e9443905-a5a0-45d1-8337-77ecb7bb6296",
   "metadata": {},
   "source": [
    "Vamos a simular un control remoto que puede prender y apagar dispositivos como una lámpara y una cafetera. Cada botón ejecuta un comando específico."
   ]
  },
  {
   "cell_type": "code",
   "execution_count": 17,
   "id": "fe15e9c3-444f-41a9-bb07-13aaaf436ce2",
   "metadata": {},
   "outputs": [],
   "source": [
    "from abc import ABC, abstractmethod\n",
    "\n",
    "# Interfaz de comando\n",
    "class Comando(ABC):\n",
    "    @abstractmethod\n",
    "    def ejecutar(self):\n",
    "        pass"
   ]
  },
  {
   "cell_type": "code",
   "execution_count": 18,
   "id": "e278946f-d028-4ee8-a344-e31e617fd0df",
   "metadata": {},
   "outputs": [],
   "source": [
    "# Receptor: dispositivos reales\n",
    "class Lampara:\n",
    "    def encender(self):\n",
    "        print(\"💡 La lámpara está encendida.\")\n",
    "\n",
    "    def apagar(self):\n",
    "        print(\"💡 La lámpara está apagada.\")"
   ]
  },
  {
   "cell_type": "code",
   "execution_count": 19,
   "id": "a222113a-ad59-4c99-906d-725d3543d703",
   "metadata": {},
   "outputs": [],
   "source": [
    "class Cafetera:\n",
    "    def encender(self):\n",
    "        print(\"☕ La cafetera está encendida.\")\n",
    "\n",
    "    def apagar(self):\n",
    "        print(\"☕ La cafetera está apagada.\")"
   ]
  },
  {
   "cell_type": "code",
   "execution_count": 20,
   "id": "15b0f744-f43c-42df-a09c-8a4881fb17da",
   "metadata": {},
   "outputs": [],
   "source": [
    "# Comandos concretos\n",
    "class EncenderLampara(Comando):\n",
    "    def __init__(self, lampara: Lampara):\n",
    "        self.lampara = lampara\n",
    "\n",
    "    def ejecutar(self):\n",
    "        self.lampara.encender()"
   ]
  },
  {
   "cell_type": "code",
   "execution_count": 21,
   "id": "95412869-6f80-4372-a461-486013cc9bc9",
   "metadata": {},
   "outputs": [],
   "source": [
    "class ApagarLampara(Comando):\n",
    "    def __init__(self, lampara: Lampara):\n",
    "        self.lampara = lampara\n",
    "\n",
    "    def ejecutar(self):\n",
    "        self.lampara.apagar()"
   ]
  },
  {
   "cell_type": "code",
   "execution_count": 22,
   "id": "2db68a04-22db-4d1c-b078-140e290998b2",
   "metadata": {},
   "outputs": [],
   "source": [
    "class EncenderCafetera(Comando):\n",
    "    def __init__(self, cafetera: Cafetera):\n",
    "        self.cafetera = cafetera\n",
    "\n",
    "    def ejecutar(self):\n",
    "        self.cafetera.encender()"
   ]
  },
  {
   "cell_type": "code",
   "execution_count": 23,
   "id": "0e7a8d54-f633-4066-9ddb-f16aceb486ae",
   "metadata": {},
   "outputs": [],
   "source": [
    "class ApagarCafetera(Comando):\n",
    "    def __init__(self, cafetera: Cafetera):\n",
    "        self.cafetera = cafetera\n",
    "\n",
    "    def ejecutar(self):\n",
    "        self.cafetera.apagar()"
   ]
  },
  {
   "cell_type": "code",
   "execution_count": 24,
   "id": "d3966e37-3e54-40a6-a8d2-879241ea7b81",
   "metadata": {},
   "outputs": [],
   "source": [
    "# Invocador: el control remoto\n",
    "class ControlRemoto:\n",
    "    def __init__(self):\n",
    "        self.botones = {}\n",
    "\n",
    "    def asignar_comando(self, boton: str, comando: Comando):\n",
    "        self.botones[boton] = comando\n",
    "\n",
    "    def presionar(self, boton: str):\n",
    "        if boton in self.botones:\n",
    "            self.botones[boton].ejecutar()\n",
    "        else:\n",
    "            print(\"⚠️ No hay comando asignado a ese botón.\")"
   ]
  },
  {
   "cell_type": "code",
   "execution_count": 25,
   "id": "fcc1517d-3f06-4580-95fd-9f07940dc1a4",
   "metadata": {},
   "outputs": [],
   "source": [
    "# Uso del patrón Command\n",
    "lampara = Lampara()\n",
    "cafetera = Cafetera()"
   ]
  },
  {
   "cell_type": "code",
   "execution_count": 26,
   "id": "52a097a3-e7d9-425c-b6e0-48ef3dbf40a7",
   "metadata": {},
   "outputs": [],
   "source": [
    "encender_lampara = EncenderLampara(lampara)\n",
    "apagar_lampara = ApagarLampara(lampara)\n",
    "encender_cafetera = EncenderCafetera(cafetera)\n",
    "apagar_cafetera = ApagarCafetera(cafetera)"
   ]
  },
  {
   "cell_type": "code",
   "execution_count": 27,
   "id": "da1710ef-56a6-4ca6-9d70-a7ffc513d7c3",
   "metadata": {},
   "outputs": [],
   "source": [
    "control = ControlRemoto()\n",
    "control.asignar_comando(\"A\", encender_lampara)\n",
    "control.asignar_comando(\"B\", apagar_lampara)\n",
    "control.asignar_comando(\"C\", encender_cafetera)\n",
    "control.asignar_comando(\"D\", apagar_cafetera)"
   ]
  },
  {
   "cell_type": "code",
   "execution_count": 28,
   "id": "dd7868fc-cc07-4790-8358-d8f06211394f",
   "metadata": {},
   "outputs": [
    {
     "name": "stdout",
     "output_type": "stream",
     "text": [
      "💡 La lámpara está encendida.\n"
     ]
    }
   ],
   "source": [
    "control.presionar(\"A\")"
   ]
  },
  {
   "cell_type": "code",
   "execution_count": 29,
   "id": "3ea3c140-b87b-4f2b-9c14-0c63f26ede3f",
   "metadata": {},
   "outputs": [
    {
     "name": "stdout",
     "output_type": "stream",
     "text": [
      "☕ La cafetera está encendida.\n"
     ]
    }
   ],
   "source": [
    "control.presionar(\"C\")"
   ]
  },
  {
   "cell_type": "code",
   "execution_count": 30,
   "id": "d7f224be-b0b0-4ae6-8475-dbebfbdcb1e3",
   "metadata": {},
   "outputs": [
    {
     "name": "stdout",
     "output_type": "stream",
     "text": [
      "☕ La cafetera está apagada.\n"
     ]
    }
   ],
   "source": [
    "control.presionar(\"D\")"
   ]
  },
  {
   "cell_type": "code",
   "execution_count": 31,
   "id": "95e54a7e-3163-457c-a7ed-e7fc86c4bd9c",
   "metadata": {},
   "outputs": [
    {
     "name": "stdout",
     "output_type": "stream",
     "text": [
      "💡 La lámpara está apagada.\n"
     ]
    }
   ],
   "source": [
    "control.presionar(\"B\")"
   ]
  },
  {
   "cell_type": "markdown",
   "id": "9b8b10c6-6865-415f-ae2a-88790a36670a",
   "metadata": {},
   "source": [
    "🔍 ¿Qué está pasando?\n",
    "\n",
    "- ControlRemoto es el invocador que no sabe nada sobre los dispositivos reales.\n",
    "- Cada acción (encender, apagar) es un comando encapsulado.\n",
    "- Esto permite cambiar o extender funcionalidades fácilmente, incluso guardar comandos en historial."
   ]
  },
  {
   "cell_type": "markdown",
   "id": "5d380a3c-893e-4718-9493-fe1f72bed678",
   "metadata": {
    "jp-MarkdownHeadingCollapsed": true
   },
   "source": [
    "### 🧠 Patrón State"
   ]
  },
  {
   "cell_type": "markdown",
   "id": "6e393a6b-f7d0-4030-9897-d06ec3be5e9d",
   "metadata": {},
   "source": [
    "El patrón State permite que un objeto cambie su comportamiento cuando cambia su estado interno, como si cambiara de clase en tiempo de ejecución.\n",
    "\n",
    "- 📌 Ventaja principal:\n",
    "  - elimina las grandes estructuras if/elif/else o switch al delegar el comportamiento en clases que representan cada estado."
   ]
  },
  {
   "cell_type": "markdown",
   "id": "8d66c124-59f5-4456-83a5-6b877273336b",
   "metadata": {},
   "source": [
    "#### 📦 Ejemplo práctico: Semáforo"
   ]
  },
  {
   "cell_type": "markdown",
   "id": "4b3859f0-c32c-4a33-a8ac-b8742c5f6f61",
   "metadata": {},
   "source": [
    "Vamos a modelar un semáforo con los estados: Rojo, Verde y Amarillo, y su comportamiento cambia según el estado actual.\n",
    "\n",
    "✅ Código Python con docstrings y comentarios en español"
   ]
  },
  {
   "cell_type": "code",
   "execution_count": 73,
   "id": "8d106ccf-08d4-4132-b7d0-84c6d8e14bcc",
   "metadata": {},
   "outputs": [],
   "source": [
    "import time\n",
    "from abc import ABC, abstractmethod\n",
    "\n",
    "\n",
    "config = {\n",
    "  \"duracion_rojo\": 4,\n",
    "  \"duracion_amarillo\": 2,\n",
    "  \"duracion_verde\": 3\n",
    "}\n",
    "\n",
    "# Duraciones por estado (segundos)\n",
    "DURACION_ROJO = config[\"duracion_rojo\"]\n",
    "DURACION_AMARILLO = config[\"duracion_amarillo\"]\n",
    "DURACION_VERDE = config[\"duracion_verde\"]"
   ]
  },
  {
   "cell_type": "code",
   "execution_count": 74,
   "id": "7c6f487f-1af0-461c-8157-2475656dcf3d",
   "metadata": {},
   "outputs": [],
   "source": [
    "class EstadoSemaforo(ABC):\n",
    "    \"\"\"\n",
    "    Clase base para definir los estados del semáforo.\n",
    "    \"\"\"\n",
    "    @abstractmethod\n",
    "    def ejecutar(self, semaforo):\n",
    "        pass"
   ]
  },
  {
   "cell_type": "code",
   "execution_count": 75,
   "id": "7f568ddc-0a07-40b5-bd0f-50f3a7aabe4b",
   "metadata": {},
   "outputs": [],
   "source": [
    "class EstadoRojo(EstadoSemaforo):\n",
    "    def ejecutar(self, semaforo):\n",
    "        print(\"\\r🔴 Detenerse\"+ \" \"*20, end=\"\")\n",
    "        time.sleep(DURACION_ROJO)\n",
    "        semaforo.estado = EstadoAmarilloDesdeRojo()\n",
    "\n",
    "class EstadoVerde(EstadoSemaforo):\n",
    "    def ejecutar(self, semaforo):\n",
    "        print(\"\\r🟢 Avanzar\" + \" \"*20, end=\"\")\n",
    "        time.sleep(DURACION_VERDE)\n",
    "        semaforo.estado = EstadoAmarilloDesdeVerde()"
   ]
  },
  {
   "cell_type": "code",
   "execution_count": 76,
   "id": "f55f176d-7395-4236-a23e-ba72dc09d5d6",
   "metadata": {},
   "outputs": [],
   "source": [
    "class EstadoAmarilloDesdeRojo(EstadoSemaforo):\n",
    "    def ejecutar(self, semaforo):\n",
    "        print(\"\\r🟡 Prepararse para avanzar\", end=\"\")\n",
    "        self.parpadear()\n",
    "        semaforo.estado = EstadoVerde()\n",
    "\n",
    "    def parpadear(self):\n",
    "        for i in range(DURACION_AMARILLO):\n",
    "            print(\"\\r🟡 Prepararse para avanzar   \", end=\"\")\n",
    "            time.sleep(0.3)\n",
    "            print(\"\\r⚫ Prepararse para avanzar   \",end=\"\")\n",
    "            time.sleep(0.3)\n",
    "\n",
    "class EstadoAmarilloDesdeVerde(EstadoSemaforo):\n",
    "    def ejecutar(self, semaforo):\n",
    "        print(\"\\r🟡 Prepararse para detenerse   \", end=\"\")\n",
    "        self.parpadear()\n",
    "        semaforo.estado = EstadoRojo()\n",
    "\n",
    "    def parpadear(self):\n",
    "        for i in range(DURACION_AMARILLO):\n",
    "            print(\"\\r🟡 Prepararse para detenerse   \", end=\"\")\n",
    "            time.sleep(0.3)\n",
    "            print(\"\\r⚫ Prepararse para detenerse    \", end=\"\")\n",
    "            time.sleep(0.3)"
   ]
  },
  {
   "cell_type": "code",
   "execution_count": 77,
   "id": "617967df-36af-4a50-a677-d35a2003c4be",
   "metadata": {},
   "outputs": [],
   "source": [
    "class Semaforo:\n",
    "    \"\"\"\n",
    "    Clase principal que controla el estado actual.\n",
    "    \"\"\"\n",
    "    def __init__(self):\n",
    "        self.estado = EstadoRojo()\n",
    "\n",
    "    def ejecutar_ciclo(self):\n",
    "        self.estado.ejecutar(self)"
   ]
  },
  {
   "cell_type": "code",
   "execution_count": 80,
   "id": "fa40febf-2ece-42ec-a116-82004819dd2f",
   "metadata": {},
   "outputs": [
    {
     "name": "stdout",
     "output_type": "stream",
     "text": [
      "⚫ Prepararse para avanzar       \n",
      "Semaforo Apagado\n"
     ]
    }
   ],
   "source": [
    "# ----------------------------\n",
    "# Simulación del semáforo\n",
    "# ----------------------------\n",
    "semaforo = Semaforo()\n",
    "for i in range(10):\n",
    "    semaforo.ejecutar_ciclo()\n",
    "else:\n",
    "    print()\n",
    "    print(\"Semaforo Apagado\")"
   ]
  },
  {
   "cell_type": "markdown",
   "id": "8eef4cb3-07d5-49e5-bfdf-11fd5c47a732",
   "metadata": {
    "jp-MarkdownHeadingCollapsed": true
   },
   "source": [
    "### 🧩 Chain of Responsibility"
   ]
  },
  {
   "cell_type": "markdown",
   "id": "64365d6d-9c93-43e2-9b4f-4afc9c26bd57",
   "metadata": {},
   "source": [
    "Este patrón permite pasar una solicitud por una cadena de objetos receptores hasta que uno de ellos la maneje. Cada objeto de la cadena decide si maneja la solicitud o la pasa al siguiente."
   ]
  },
  {
   "cell_type": "markdown",
   "id": "225f08ed-52b4-4688-8dbf-449426afcdf3",
   "metadata": {},
   "source": [
    "#### ✅ Ejemplo práctico en Python: Validación de un formulario de usuario"
   ]
  },
  {
   "cell_type": "markdown",
   "id": "2ed456ca-b984-4dda-a231-8a3b5f1c17ce",
   "metadata": {},
   "source": [
    "Supongamos que queremos validar un formulario de registro con estas reglas:\n",
    "\n",
    "- El nombre debe tener al menos 3 caracteres.\n",
    "- El correo debe contener “@”.\n",
    "- La contraseña debe tener al menos 6 caracteres.\n",
    "\n",
    "Vamos a construir una cadena de validadores, cada uno con su responsabilidad:\n",
    "\n",
    "📄 Código explicado y comentado en español"
   ]
  },
  {
   "cell_type": "code",
   "execution_count": 81,
   "id": "533c7d3f-18b4-4408-bdd3-3f9d6775abbd",
   "metadata": {},
   "outputs": [],
   "source": [
    "class Validador:\n",
    "    \"\"\"\n",
    "    Clase base del validador. Define la interfaz común y referencia al siguiente validador en la cadena.\n",
    "    \"\"\"\n",
    "    def __init__(self):\n",
    "        self._siguiente = None\n",
    "\n",
    "    def establecer_siguiente(self, validador):\n",
    "        self._siguiente = validador\n",
    "        return validador\n",
    "\n",
    "    def manejar(self, datos):\n",
    "        if self._siguiente:\n",
    "            return self._siguiente.manejar(datos)\n",
    "        return True"
   ]
  },
  {
   "cell_type": "code",
   "execution_count": 82,
   "id": "7ccd6e2d-63d6-4e7c-9bdd-f928ab61da39",
   "metadata": {},
   "outputs": [],
   "source": [
    "class ValidadorNombre(Validador):\n",
    "    def manejar(self, datos):\n",
    "        if len(datos.get(\"nombre\", \"\")) < 3:\n",
    "            print(\"❌ El nombre debe tener al menos 3 caracteres.\")\n",
    "            return False\n",
    "        return super().manejar(datos)"
   ]
  },
  {
   "cell_type": "code",
   "execution_count": 83,
   "id": "559666d0-4eda-479f-bcdc-1c18963252d2",
   "metadata": {},
   "outputs": [],
   "source": [
    "class ValidadorCorreo(Validador):\n",
    "    def manejar(self, datos):\n",
    "        if \"@\" not in datos.get(\"correo\", \"\"):\n",
    "            print(\"❌ El correo debe contener '@'.\")\n",
    "            return False\n",
    "        return super().manejar(datos)"
   ]
  },
  {
   "cell_type": "code",
   "execution_count": 84,
   "id": "7e05932c-2404-4476-b19d-c975797848ea",
   "metadata": {},
   "outputs": [],
   "source": [
    "class ValidadorContrasena(Validador):\n",
    "    def manejar(self, datos):\n",
    "        if len(datos.get(\"contrasena\", \"\")) < 6:\n",
    "            print(\"❌ La contraseña debe tener al menos 6 caracteres.\")\n",
    "            return False\n",
    "        return super().manejar(datos)"
   ]
  },
  {
   "cell_type": "code",
   "execution_count": 85,
   "id": "b49d299d-2ead-467e-a299-9ab6ebcee137",
   "metadata": {},
   "outputs": [],
   "source": [
    "# Crear la cadena de validación\n",
    "validador = ValidadorNombre()"
   ]
  },
  {
   "cell_type": "code",
   "execution_count": 86,
   "id": "37d3b7e6-f38c-4b1a-8ae2-c35844918a06",
   "metadata": {},
   "outputs": [
    {
     "data": {
      "text/plain": [
       "<__main__.ValidadorContrasena at 0x1b23dc2b620>"
      ]
     },
     "execution_count": 86,
     "metadata": {},
     "output_type": "execute_result"
    }
   ],
   "source": [
    "validador.establecer_siguiente(ValidadorCorreo()).establecer_siguiente(ValidadorContrasena())"
   ]
  },
  {
   "cell_type": "code",
   "execution_count": 87,
   "id": "8d42bc3f-9267-4f61-9495-3715b3a7798b",
   "metadata": {},
   "outputs": [],
   "source": [
    "# Datos del formulario\n",
    "usuario = {\n",
    "    \"nombre\": \"Ana\",\n",
    "    \"correo\": \"ana@example.com\",\n",
    "    \"contrasena\": \"123456\"\n",
    "}"
   ]
  },
  {
   "cell_type": "code",
   "execution_count": 88,
   "id": "bcd5d5bf-9029-4c11-9599-38b6f1ba4523",
   "metadata": {},
   "outputs": [
    {
     "name": "stdout",
     "output_type": "stream",
     "text": [
      "✅ Todos los datos son válidos.\n"
     ]
    }
   ],
   "source": [
    "# Ejecutar la validación\n",
    "if validador.manejar(usuario):\n",
    "    print(\"✅ Todos los datos son válidos.\")\n",
    "else:\n",
    "    print(\"⚠️ Validación fallida.\")"
   ]
  },
  {
   "cell_type": "markdown",
   "id": "6ace8b96-e5fb-44d4-93f6-154e50580892",
   "metadata": {},
   "source": [
    "📝 ¿Qué se puede destacar?\n",
    "\n",
    "- Cada validador solo se encarga de una cosa, y si todo está bien, pasa al siguiente.\n",
    "- Si un validador falla, se detiene la cadena.\n",
    "- Podemos agregar, quitar o reordenar validadores fácilmente."
   ]
  },
  {
   "cell_type": "markdown",
   "id": "6a46ddf3-240a-442b-9697-645fc91978b3",
   "metadata": {
    "jp-MarkdownHeadingCollapsed": true
   },
   "source": [
    "### 🔁  Patrón Iterator\n",
    "\n",
    "Este patrón permite recorrer los elementos de una colección sin exponer su estructura interna. Separa la lógica de recorrido del contenido, y permite múltiples tipos de recorrido si es necesario."
   ]
  },
  {
   "cell_type": "markdown",
   "id": "d2dbcf8b-4dff-4068-b755-925fcc198ad3",
   "metadata": {},
   "source": [
    "#### 🧱 Ejemplo práctico en Python Recorrer una colección personalizada"
   ]
  },
  {
   "cell_type": "markdown",
   "id": "583bcb5d-1422-4c81-9263-1e8d37a19a95",
   "metadata": {},
   "source": [
    "Supongamos que tenemos una colección de objetos Libro, y queremos iterarlos usando un iterador personalizado.\n",
    "\n",
    "📄 Código explicado y comentado en español"
   ]
  },
  {
   "cell_type": "code",
   "execution_count": 89,
   "id": "2b0e1d4d-0c63-4e6f-87e1-bd338ff9499e",
   "metadata": {},
   "outputs": [],
   "source": [
    "class Libro:\n",
    "    \"\"\"\n",
    "    Clase simple para representar un libro.\n",
    "    \"\"\"\n",
    "    def __init__(self, titulo, autor):\n",
    "        self.titulo = titulo\n",
    "        self.autor = autor\n",
    "\n",
    "    def __str__(self):\n",
    "        return f\"{self.titulo} de {self.autor}\""
   ]
  },
  {
   "cell_type": "code",
   "execution_count": 90,
   "id": "aa18048d-885d-46b7-b0ef-3d6b8eb427f9",
   "metadata": {},
   "outputs": [],
   "source": [
    "class ColeccionLibros:\n",
    "    \"\"\"\n",
    "    Clase que representa una colección de libros. Implementa el protocolo iterable.\n",
    "    \"\"\"\n",
    "    def __init__(self):\n",
    "        self._libros = []\n",
    "\n",
    "    def agregar_libro(self, libro):\n",
    "        self._libros.append(libro)\n",
    "\n",
    "    def __iter__(self):\n",
    "        return IteradorLibros(self._libros)"
   ]
  },
  {
   "cell_type": "code",
   "execution_count": 91,
   "id": "043a5343-3c94-4e15-a791-6a2ab9f1f755",
   "metadata": {},
   "outputs": [],
   "source": [
    "class IteradorLibros:\n",
    "    \"\"\"\n",
    "    Iterador personalizado para la colección de libros.\n",
    "    \"\"\"\n",
    "    def __init__(self, libros):\n",
    "        self._libros = libros\n",
    "        self._indice = 0\n",
    "\n",
    "    def __next__(self):\n",
    "        if self._indice < len(self._libros):\n",
    "            libro = self._libros[self._indice]\n",
    "            self._indice += 1\n",
    "            return libro\n",
    "        raise StopIteration"
   ]
  },
  {
   "cell_type": "code",
   "execution_count": 92,
   "id": "5f4e8e4c-f23a-41ac-a72b-57f5a6dd1ea8",
   "metadata": {},
   "outputs": [],
   "source": [
    "# Ejemplo de uso\n",
    "coleccion = ColeccionLibros()"
   ]
  },
  {
   "cell_type": "code",
   "execution_count": 93,
   "id": "79f70b4a-ee7d-4e6a-9a49-900514aa1492",
   "metadata": {},
   "outputs": [],
   "source": [
    "coleccion.agregar_libro(Libro(\"1984\", \"George Orwell\"))"
   ]
  },
  {
   "cell_type": "code",
   "execution_count": 94,
   "id": "60cf22ae-a2b5-4f13-ace7-3e1af5f87d64",
   "metadata": {},
   "outputs": [],
   "source": [
    "coleccion.agregar_libro(Libro(\"Cien años de soledad\", \"Gabriel García Márquez\"))"
   ]
  },
  {
   "cell_type": "code",
   "execution_count": 95,
   "id": "7beacb59-b0a6-412a-abea-f0662457fa46",
   "metadata": {},
   "outputs": [],
   "source": [
    "coleccion.agregar_libro(Libro(\"Don Quijote\", \"Miguel de Cervantes\"))"
   ]
  },
  {
   "cell_type": "code",
   "execution_count": 96,
   "id": "c313e8c9-2cb1-4e7f-b0f4-461692f79425",
   "metadata": {},
   "outputs": [
    {
     "name": "stdout",
     "output_type": "stream",
     "text": [
      "📚 Libros en la colección:\n",
      "✔️ 1984 de George Orwell\n",
      "✔️ Cien años de soledad de Gabriel García Márquez\n",
      "✔️ Don Quijote de Miguel de Cervantes\n"
     ]
    }
   ],
   "source": [
    "print(\"📚 Libros en la colección:\")\n",
    "for libro in coleccion:\n",
    "    print(f\"✔️ {libro}\")"
   ]
  },
  {
   "cell_type": "markdown",
   "id": "1ae7b322-e10d-4d15-8e12-01c40ea975b5",
   "metadata": {},
   "source": [
    "🧠 ¿Qué resuelve este patrón?\n",
    "\n",
    "- Permite recorrer elementos sin conocer su estructura.\n",
    "- Es posible definir diferentes formas de iterar (orden inverso, por autor, por año, etc.).\n",
    "- Mejora la cohesión al separar la lógica de recorrido.\n",
    "\n"
   ]
  },
  {
   "cell_type": "markdown",
   "id": "b987c252-ca52-47fe-8223-a1d3d43d265e",
   "metadata": {
    "jp-MarkdownHeadingCollapsed": true
   },
   "source": [
    "### 👤 Visitor"
   ]
  },
  {
   "cell_type": "markdown",
   "id": "cf709f62-c87a-4e99-a674-da357717c5a9",
   "metadata": {},
   "source": [
    "📘 ¿Qué es?\n",
    "\n",
    "El patrón Visitor permite agregar nuevas operaciones a una jerarquía de clases sin modificarlas, separando el algoritmo de los objetos sobre los que opera.\n",
    "\n",
    "Ideal cuando tenés muchas clases con estructuras similares y necesitás aplicar distintas operaciones sobre ellas."
   ]
  },
  {
   "cell_type": "markdown",
   "id": "98c7972f-03a6-45dd-8345-4b55fecbc37c",
   "metadata": {},
   "source": [
    "#### 🧪 Ejemplo práctico en Python: Reporteador de figuras geométricas"
   ]
  },
  {
   "cell_type": "markdown",
   "id": "6ebf3c2b-4979-4cb2-a48e-f760a32b9031",
   "metadata": {},
   "source": [
    "Supongamos que tenemos distintas clases de figuras, y queremos calcular su área o imprimir sus datos, sin que las clases cambien.\n",
    "\n",
    "📄 Código comentado en español"
   ]
  },
  {
   "cell_type": "code",
   "execution_count": 108,
   "id": "adf0283b-bb81-4788-b4f6-ce6eab16585f",
   "metadata": {},
   "outputs": [],
   "source": [
    "# Clases base de figuras\n",
    "class Figura:\n",
    "    def aceptar(self, visitante):\n",
    "        \"\"\"\n",
    "        Método que acepta un visitante externo para aplicar una operación.\n",
    "        \"\"\"\n",
    "        pass"
   ]
  },
  {
   "cell_type": "code",
   "execution_count": 109,
   "id": "75e439e0-ecdd-4ebc-a34e-c97931edbcd5",
   "metadata": {},
   "outputs": [],
   "source": [
    "class Circulo(Figura):\n",
    "    def __init__(self, radio):\n",
    "        self.radio = radio\n",
    "\n",
    "    def aceptar(self, visitante):\n",
    "        visitante.visitar_circulo(self)"
   ]
  },
  {
   "cell_type": "code",
   "execution_count": 110,
   "id": "f0f6533a-5341-41ab-bf6e-4279e2b0c2ad",
   "metadata": {},
   "outputs": [],
   "source": [
    "class Rectangulo(Figura):\n",
    "    def __init__(self, ancho, alto):\n",
    "        self.ancho = ancho\n",
    "        self.alto = alto\n",
    "\n",
    "    def aceptar(self, visitante):\n",
    "        visitante.visitar_rectangulo(self)"
   ]
  },
  {
   "cell_type": "code",
   "execution_count": 111,
   "id": "7e49d63a-5b1b-4dda-899b-6d62a12a97d7",
   "metadata": {},
   "outputs": [],
   "source": [
    "# Visitante base\n",
    "class Visitante:\n",
    "    def visitar_circulo(self, circulo):\n",
    "        pass\n",
    "\n",
    "    def visitar_rectangulo(self, rectangulo):\n",
    "        pass"
   ]
  },
  {
   "cell_type": "code",
   "execution_count": 112,
   "id": "226deed8-40f7-4474-b5a8-86d0d4e1b407",
   "metadata": {},
   "outputs": [],
   "source": [
    "# Visitante concreto que calcula el área\n",
    "class VisitanteArea(Visitante):\n",
    "    def visitar_circulo(self, circulo):\n",
    "        area = 3.14 * circulo.radio ** 2\n",
    "        print(f\"Área del círculo: {area:.2f}\")\n",
    "\n",
    "    def visitar_rectangulo(self, rectangulo):\n",
    "        area = rectangulo.ancho * rectangulo.alto\n",
    "        print(f\"Área del rectángulo: {area:.2f}\")"
   ]
  },
  {
   "cell_type": "code",
   "execution_count": 113,
   "id": "e21b9719-d88c-4c99-adc4-5ddaf1ebce32",
   "metadata": {},
   "outputs": [],
   "source": [
    "# Visitante concreto que imprime información\n",
    "class VisitanteDescripcion(Visitante):\n",
    "    def visitar_circulo(self, circulo):\n",
    "        print(f\"Círculo con radio {circulo.radio}\")\n",
    "\n",
    "    def visitar_rectangulo(self, rectangulo):\n",
    "        print(f\"Rectángulo de {rectangulo.ancho} x {rectangulo.alto}\")"
   ]
  },
  {
   "cell_type": "code",
   "execution_count": 114,
   "id": "bce98727-87bd-4036-bdf4-39935be06bb0",
   "metadata": {},
   "outputs": [],
   "source": [
    "# Uso del patrón Visitor\n",
    "figuras = [\n",
    "    Circulo(5),\n",
    "    Rectangulo(3, 4),\n",
    "    Circulo(2)\n",
    "]"
   ]
  },
  {
   "cell_type": "code",
   "execution_count": 115,
   "id": "8862e406-1cfc-4c60-b74f-d5f5dceab4c2",
   "metadata": {},
   "outputs": [
    {
     "name": "stdout",
     "output_type": "stream",
     "text": [
      "🔎 Descripción de las figuras:\n",
      "Círculo con radio 5\n",
      "Rectángulo de 3 x 4\n",
      "Círculo con radio 2\n"
     ]
    }
   ],
   "source": [
    "print(\"🔎 Descripción de las figuras:\")\n",
    "for figura in figuras:\n",
    "    figura.aceptar(VisitanteDescripcion())"
   ]
  },
  {
   "cell_type": "code",
   "execution_count": 116,
   "id": "5c0534e0-e52a-4a66-ab4c-028c966eb780",
   "metadata": {},
   "outputs": [
    {
     "name": "stdout",
     "output_type": "stream",
     "text": [
      "\n",
      "📐 Cálculo de áreas:\n",
      "Área del círculo: 78.50\n",
      "Área del rectángulo: 12.00\n",
      "Área del círculo: 12.56\n"
     ]
    }
   ],
   "source": [
    "print(\"\\n📐 Cálculo de áreas:\")\n",
    "for figura in figuras:\n",
    "    figura.aceptar(VisitanteArea())"
   ]
  },
  {
   "cell_type": "markdown",
   "id": "6380c91e-7f56-467a-9b2c-04831cb0374f",
   "metadata": {},
   "source": [
    "✅ Ventajas del patrón Visitor:\n",
    "\n",
    "- Permite agregar nuevas operaciones sin modificar las clases.\n",
    "- Centraliza las operaciones, mejorando la organización del código.\n",
    "- Útil en compiladores, estructuras de árbol o validaciones múltiples."
   ]
  },
  {
   "cell_type": "markdown",
   "id": "92de6901-e31a-4455-bbb1-07d7a171bf00",
   "metadata": {
    "jp-MarkdownHeadingCollapsed": true
   },
   "source": [
    "### 🧠 Memento"
   ]
  },
  {
   "cell_type": "markdown",
   "id": "96ec807f-b130-4398-aec3-78e2fae5a4cc",
   "metadata": {},
   "source": [
    "📘 ¿Qué es?\n",
    "\n",
    "El patrón Memento permite guardar y restaurar el estado anterior de un objeto sin exponer los detalles internos de su implementación.\n",
    "\n",
    "Es ideal para agregar funcionalidad tipo \"Deshacer (Undo)\", o guardar versiones temporales."
   ]
  },
  {
   "cell_type": "markdown",
   "id": "f203e68a-465c-4f6d-a1d3-8f93fef6fdee",
   "metadata": {},
   "source": [
    "#### 🧪 Ejemplo práctico en Python: Editor de texto con deshacer"
   ]
  },
  {
   "cell_type": "code",
   "execution_count": 117,
   "id": "d7254595-a234-431d-a485-0a2538c35dff",
   "metadata": {},
   "outputs": [],
   "source": [
    "# Clase Memento: almacena el estado del texto\n",
    "class Memento:\n",
    "    def __init__(self, estado):\n",
    "        self._estado = estado\n",
    "\n",
    "    def obtener_estado(self):\n",
    "        return self._estado"
   ]
  },
  {
   "cell_type": "code",
   "execution_count": 118,
   "id": "308cb205-0cd5-457b-8afc-e696e584b966",
   "metadata": {},
   "outputs": [],
   "source": [
    "# Clase Originador: el editor de texto\n",
    "class EditorTexto:\n",
    "    def __init__(self):\n",
    "        self._contenido = \"\"\n",
    "\n",
    "    def escribir(self, texto):\n",
    "        \"\"\"\n",
    "        Agrega texto al contenido actual.\n",
    "        \"\"\"\n",
    "        self._contenido += texto\n",
    "\n",
    "    def mostrar(self):\n",
    "        \"\"\"\n",
    "        Muestra el contenido actual.\n",
    "        \"\"\"\n",
    "        print(f\"Contenido actual: '{self._contenido}'\")\n",
    "\n",
    "    def guardar(self):\n",
    "        \"\"\"\n",
    "        Guarda el estado actual dentro de un Memento.\n",
    "        \"\"\"\n",
    "        return Memento(self._contenido)\n",
    "\n",
    "    def restaurar(self, memento):\n",
    "        \"\"\"\n",
    "        Restaura el contenido desde un Memento.\n",
    "        \"\"\"\n",
    "        self._contenido = memento.obtener_estado()"
   ]
  },
  {
   "cell_type": "code",
   "execution_count": 119,
   "id": "6b1d8d1a-40a6-4f09-a0d2-0674904c9562",
   "metadata": {},
   "outputs": [],
   "source": [
    "# Clase Cuidador: administra los estados guardados\n",
    "class Historial:\n",
    "    def __init__(self):\n",
    "        self._mementos = []\n",
    "\n",
    "    def guardar_estado(self, memento):\n",
    "        self._mementos.append(memento)\n",
    "\n",
    "    def deshacer(self):\n",
    "        if self._mementos:\n",
    "            return self._mementos.pop()\n",
    "        return None"
   ]
  },
  {
   "cell_type": "code",
   "execution_count": 131,
   "id": "9ce73402-8d99-43d8-a290-505d984a203f",
   "metadata": {},
   "outputs": [],
   "source": [
    "# Ejemplo de uso\n",
    "editor = EditorTexto()\n",
    "historial = Historial()"
   ]
  },
  {
   "cell_type": "code",
   "execution_count": 132,
   "id": "20daef44-ca91-4a93-9afa-16e18b1c57cc",
   "metadata": {},
   "outputs": [
    {
     "name": "stdout",
     "output_type": "stream",
     "text": [
      "Contenido actual: 'Hola'\n"
     ]
    }
   ],
   "source": [
    "editor.escribir(\"Hola\")\n",
    "historial.guardar_estado(editor.guardar())\n",
    "editor.mostrar()"
   ]
  },
  {
   "cell_type": "code",
   "execution_count": 133,
   "id": "2a7b653e-b2fc-4d48-811d-eb7f66c92ce7",
   "metadata": {},
   "outputs": [
    {
     "name": "stdout",
     "output_type": "stream",
     "text": [
      "Contenido actual: 'Hola, mundo'\n"
     ]
    }
   ],
   "source": [
    "editor.escribir(\", mundo\")\n",
    "historial.guardar_estado(editor.guardar())\n",
    "editor.mostrar()"
   ]
  },
  {
   "cell_type": "code",
   "execution_count": 134,
   "id": "9e7027e2-9d3d-42ee-bf27-98135feee03f",
   "metadata": {},
   "outputs": [
    {
     "name": "stdout",
     "output_type": "stream",
     "text": [
      "Contenido actual: 'Hola, mundo cruel.'\n"
     ]
    }
   ],
   "source": [
    "editor.escribir(\" cruel.\")\n",
    "editor.mostrar()"
   ]
  },
  {
   "cell_type": "code",
   "execution_count": 135,
   "id": "7a7b7f87-a8b0-4e4d-99fa-0d15407c620d",
   "metadata": {},
   "outputs": [
    {
     "name": "stdout",
     "output_type": "stream",
     "text": [
      "Contenido actual: 'Hola, mundo'\n"
     ]
    }
   ],
   "source": [
    "# Deshacer dos veces\n",
    "editor.restaurar(historial.deshacer())\n",
    "editor.mostrar()"
   ]
  },
  {
   "cell_type": "code",
   "execution_count": 136,
   "id": "105e13a3-be33-433c-9e0d-ab131cddfaa3",
   "metadata": {},
   "outputs": [
    {
     "name": "stdout",
     "output_type": "stream",
     "text": [
      "Contenido actual: 'Hola'\n"
     ]
    }
   ],
   "source": [
    "editor.restaurar(historial.deshacer())\n",
    "editor.mostrar()"
   ]
  },
  {
   "cell_type": "markdown",
   "id": "cdeac5dd-4c20-4ecb-a12e-18fa0cf8c347",
   "metadata": {},
   "source": [
    "✅ Ventajas del patrón Memento:\n",
    "\n",
    "- Permite volver a estados anteriores sin romper el encapsulamiento.\n",
    "- Es muy útil para sistemas con comandos de deshacer, juegos, formularios, editores, etc.\n",
    "- Separa el almacenamiento del estado de la lógica del objeto."
   ]
  },
  {
   "cell_type": "markdown",
   "id": "1685f584-664f-4aaa-b750-fc2c747679f5",
   "metadata": {
    "jp-MarkdownHeadingCollapsed": true
   },
   "source": [
    "## 🧱 Patrones de Diseño Estructurales"
   ]
  },
  {
   "cell_type": "markdown",
   "id": "5da2186d-d218-4c16-9015-20d9a301ca4b",
   "metadata": {},
   "source": [
    "🧩 ¿Qué son?\n",
    "\n",
    "Los patrones estructurales se encargan de la composición de clases y objetos, es decir, de cómo se relacionan entre sí para formar estructuras más grandes y flexibles.\n",
    "\n",
    "📦 Lista de patrones estructurales:\n",
    "\n",
    "- Adapter (Adaptador)\n",
    "- Bridge (Puente)\n",
    "- Composite (Compuesto)\n",
    "- Decorator (Decorador)\n",
    "- Facade (Fachada)\n",
    "- Flyweight (Peso Ligero)\n",
    "- Proxy (Apoderado o Representante)"
   ]
  },
  {
   "cell_type": "markdown",
   "id": "c0738e66-a2eb-41a7-b94a-dd18351a2b0e",
   "metadata": {},
   "source": [
    "### 🧩 Patrón Estructural: Adapter (Adaptador)"
   ]
  },
  {
   "cell_type": "markdown",
   "id": "a6fc44e8-a2d2-4eb1-99c2-7347ed710297",
   "metadata": {},
   "source": [
    "📌 ¿Para qué sirve?\n",
    "\n",
    "Permite que dos clases con interfaces incompatibles trabajen juntas, adaptando una interfaz a otra esperada por el cliente."
   ]
  },
  {
   "cell_type": "markdown",
   "id": "20203c62-06ae-4610-b17b-65b37dc4dd28",
   "metadata": {},
   "source": [
    "#### 🎯 Ejemplo práctico sencillo en Python"
   ]
  },
  {
   "cell_type": "markdown",
   "id": "b0e8bf01-97c5-475f-a4ea-279465a8997a",
   "metadata": {},
   "source": [
    "Supongamos que tenemos una aplicación que espera una impresora con un método imprimir(texto), pero conseguimos una nueva impresora que tiene un método llamado print_text(text)."
   ]
  },
  {
   "cell_type": "code",
   "execution_count": 1,
   "id": "d8c1c137-7eb3-4157-871a-bd393f54cf7e",
   "metadata": {},
   "outputs": [],
   "source": [
    "# Clase que espera el cliente\n",
    "class Cliente:\n",
    "    def __init__(self, impresora):\n",
    "        self.impresora = impresora\n",
    "\n",
    "    def imprimir_documento(self, texto):\n",
    "        self.impresora.imprimir(texto)"
   ]
  },
  {
   "cell_type": "code",
   "execution_count": 2,
   "id": "dfe8409c-991a-4863-b459-e31378e3e0b9",
   "metadata": {},
   "outputs": [],
   "source": [
    "# Clase con la interfaz esperada\n",
    "class ImpresoraVieja:\n",
    "    def imprimir(self, texto):\n",
    "        print(f\"Imprimiendo desde Impresora Vieja: {texto}\")"
   ]
  },
  {
   "cell_type": "code",
   "execution_count": 3,
   "id": "44cbaf7d-0873-463a-aba7-0d45779995c6",
   "metadata": {},
   "outputs": [],
   "source": [
    "# Nueva clase incompatible (interfaz diferente)\n",
    "class NuevaImpresora:\n",
    "    def print_text(self, text):\n",
    "        print(f\"🖨️ Nueva impresora dice: {text}\")"
   ]
  },
  {
   "cell_type": "markdown",
   "id": "be2afb47-0cba-453b-ab09-3bef722688ec",
   "metadata": {},
   "source": [
    "🛠 Solución: creamos un Adaptador"
   ]
  },
  {
   "cell_type": "code",
   "execution_count": 4,
   "id": "6515eb78-4170-43f1-8855-40b8657474a5",
   "metadata": {},
   "outputs": [],
   "source": [
    "# Adaptador que convierte la interfaz de NuevaImpresora a la esperada\n",
    "class AdaptadorImpresora:\n",
    "    def __init__(self, nueva_impresora):\n",
    "        self.nueva_impresora = nueva_impresora\n",
    "\n",
    "    def imprimir(self, texto):\n",
    "        self.nueva_impresora.print_text(texto)\n"
   ]
  },
  {
   "cell_type": "code",
   "execution_count": 5,
   "id": "d3980577-0777-495a-bdbd-f963a4a0a280",
   "metadata": {},
   "outputs": [
    {
     "name": "stdout",
     "output_type": "stream",
     "text": [
      "Imprimiendo desde Impresora Vieja: Hola mundo con impresora vieja\n"
     ]
    }
   ],
   "source": [
    "# Uso con la impresora vieja (compatible)\n",
    "cliente1 = Cliente(ImpresoraVieja())\n",
    "cliente1.imprimir_documento(\"Hola mundo con impresora vieja\")"
   ]
  },
  {
   "cell_type": "code",
   "execution_count": 6,
   "id": "f9b71944-c3b2-4b30-a061-aaf2c5019840",
   "metadata": {},
   "outputs": [],
   "source": [
    "# Uso con la nueva impresora usando el adaptador\n",
    "nueva = NuevaImpresora()"
   ]
  },
  {
   "cell_type": "code",
   "execution_count": 7,
   "id": "94f5d622-0d3b-47c8-aaf2-7b8036ed8ffb",
   "metadata": {},
   "outputs": [],
   "source": [
    "adaptador = AdaptadorImpresora(nueva)"
   ]
  },
  {
   "cell_type": "code",
   "execution_count": 8,
   "id": "094a0497-a6a8-4b18-9f5d-25ffb6e35773",
   "metadata": {},
   "outputs": [],
   "source": [
    "cliente2 = Cliente(adaptador)"
   ]
  },
  {
   "cell_type": "code",
   "execution_count": 9,
   "id": "8cfacda8-8611-4e40-8213-be375dd7d679",
   "metadata": {},
   "outputs": [
    {
     "name": "stdout",
     "output_type": "stream",
     "text": [
      "🖨️ Nueva impresora dice: Hola mundo con adaptador\n"
     ]
    }
   ],
   "source": [
    "cliente2.imprimir_documento(\"Hola mundo con adaptador\")"
   ]
  },
  {
   "cell_type": "markdown",
   "id": "13a17af1-87ea-43b1-8483-daa689f3ce93",
   "metadata": {},
   "source": [
    "🧠 Ventajas del patrón Adapter:\n",
    "\n",
    "- No hay que modificar la clase nueva ni la del cliente.\n",
    "- Se puede integrar código legado o de terceros fácilmente.\n",
    "- Aumenta la flexibilidad del sistema."
   ]
  },
  {
   "cell_type": "markdown",
   "id": "dba39ba2-cce5-4cb4-ab61-6a34167380ec",
   "metadata": {},
   "source": [
    "otro ejemplo mas complejo"
   ]
  },
  {
   "cell_type": "markdown",
   "id": "09ceee6c-ecc4-4bb0-82df-8339407675f4",
   "metadata": {},
   "source": [
    "Escenario: Adaptando distintos formatos de sensores\n",
    "\n",
    "Supongamos que desarrollamos una app que espera sensores de temperatura con una interfaz estándar: leer_temperatura() devuelve un valor en grados Celsius.\n",
    "\n",
    "Pero tenemos sensores de distintos proveedores que devuelven:\n",
    "\n",
    "- valores en Fahrenheit,\n",
    "- diccionarios con datos extra,\n",
    "- o incluso strings codificados.\n",
    "\n",
    "Queremos adaptarlos sin modificar sus clases originales.\n",
    "\n"
   ]
  },
  {
   "cell_type": "markdown",
   "id": "89592ae2-964b-4492-9bbd-156c5de57bf5",
   "metadata": {},
   "source": [
    "🧱 Interfaz esperada"
   ]
  },
  {
   "cell_type": "code",
   "execution_count": 10,
   "id": "8ca4919d-77a1-461d-8fd7-cd331411aa24",
   "metadata": {},
   "outputs": [],
   "source": [
    "class SensorTemperatura:\n",
    "    def leer_temperatura(self):\n",
    "        \"\"\"Debe devolver la temperatura en grados Celsius.\"\"\"\n",
    "        raise NotImplementedError\n"
   ]
  },
  {
   "cell_type": "markdown",
   "id": "b9cd00dd-8dc4-4394-9eb9-3b7bfb06d876",
   "metadata": {},
   "source": [
    "👾 Sensores incompatibles"
   ]
  },
  {
   "cell_type": "code",
   "execution_count": 11,
   "id": "4eb4845e-08fc-4bcb-9d64-7a60dfd2b5b8",
   "metadata": {},
   "outputs": [],
   "source": [
    "class SensorFahrenheit:\n",
    "    def get_temperature_f(self):\n",
    "        return 98.6  # Fahrenheit\n",
    "\n",
    "class SensorConJson:\n",
    "    def read_data(self):\n",
    "        return {\"temperature\": 20.5, \"units\": \"C\", \"status\": \"ok\"}\n",
    "\n",
    "class SensorTexto:\n",
    "    def obtener(self):\n",
    "        return \"TEMP=23.4C\"\n"
   ]
  },
  {
   "cell_type": "markdown",
   "id": "ee7bd339-5559-4cd9-91ca-23edfdeaea64",
   "metadata": {},
   "source": [
    "🛠 Adaptadores para cada caso"
   ]
  },
  {
   "cell_type": "code",
   "execution_count": 12,
   "id": "a0aab544-a938-417e-97e2-d77b744a5ae8",
   "metadata": {},
   "outputs": [],
   "source": [
    "class AdaptadorFahrenheit(SensorTemperatura):\n",
    "    def __init__(self, sensor):\n",
    "        self.sensor = sensor\n",
    "\n",
    "    def leer_temperatura(self):\n",
    "        f = self.sensor.get_temperature_f()\n",
    "        return (f - 32) * 5 / 9  # Convertir a Celsius\n",
    "\n",
    "class AdaptadorJson(SensorTemperatura):\n",
    "    def __init__(self, sensor):\n",
    "        self.sensor = sensor\n",
    "\n",
    "    def leer_temperatura(self):\n",
    "        data = self.sensor.read_data()\n",
    "        return data[\"temperature\"]  # Ya viene en Celsius\n",
    "\n",
    "class AdaptadorTexto(SensorTemperatura):\n",
    "    def __init__(self, sensor):\n",
    "        self.sensor = sensor\n",
    "\n",
    "    def leer_temperatura(self):\n",
    "        texto = self.sensor.obtener()  # Ej: \"TEMP=23.4C\"\n",
    "        valor = float(texto.replace(\"TEMP=\", \"\").replace(\"C\", \"\"))\n",
    "        return valor\n"
   ]
  },
  {
   "cell_type": "markdown",
   "id": "f6c4c3d6-516e-464a-97bf-a238b3a40306",
   "metadata": {},
   "source": [
    "🎯 Uso uniforme desde el cliente"
   ]
  },
  {
   "cell_type": "code",
   "execution_count": 13,
   "id": "fc9b94af-8163-4e07-89ec-6e53e9036f5a",
   "metadata": {},
   "outputs": [],
   "source": [
    "def mostrar_temperatura(sensor: SensorTemperatura):\n",
    "    temp = sensor.leer_temperatura()\n",
    "    print(f\"Temperatura actual: {temp:.2f}°C\")"
   ]
  },
  {
   "cell_type": "code",
   "execution_count": 14,
   "id": "6d969364-8a91-4415-89ef-992931a00347",
   "metadata": {},
   "outputs": [],
   "source": [
    "# Sensores reales\n",
    "sensor1 = AdaptadorFahrenheit(SensorFahrenheit())\n",
    "sensor2 = AdaptadorJson(SensorConJson())\n",
    "sensor3 = AdaptadorTexto(SensorTexto())"
   ]
  },
  {
   "cell_type": "code",
   "execution_count": 15,
   "id": "ddc854fc-174c-44e5-9f96-54a66a7a7af7",
   "metadata": {},
   "outputs": [
    {
     "name": "stdout",
     "output_type": "stream",
     "text": [
      "Temperatura actual: 37.00°C\n"
     ]
    }
   ],
   "source": [
    "# Uso uniforme desde el cliente\n",
    "mostrar_temperatura(sensor1)"
   ]
  },
  {
   "cell_type": "code",
   "execution_count": 16,
   "id": "f9d4fb8e-c0b2-4a35-b97b-205ed331a6a9",
   "metadata": {},
   "outputs": [
    {
     "name": "stdout",
     "output_type": "stream",
     "text": [
      "Temperatura actual: 20.50°C\n"
     ]
    }
   ],
   "source": [
    "mostrar_temperatura(sensor2)"
   ]
  },
  {
   "cell_type": "code",
   "execution_count": 17,
   "id": "2623014e-41b5-4eb7-829a-ef9f6764ef4b",
   "metadata": {},
   "outputs": [
    {
     "name": "stdout",
     "output_type": "stream",
     "text": [
      "Temperatura actual: 23.40°C\n"
     ]
    }
   ],
   "source": [
    "mostrar_temperatura(sensor3)"
   ]
  },
  {
   "cell_type": "markdown",
   "id": "cd5e1eba-63dd-4fdb-adf8-7e00937a1e34",
   "metadata": {},
   "source": [
    "🧠 ¿Qué ganamos?\n",
    "\n",
    "- Unificación de interfaz: todos los sensores parecen iguales desde el cliente.\n",
    "- Baja acoplamiento: no tocamos el código de sensores ajenos.\n",
    "- Alta reutilización: podemos extender a otros sensores fácilmente."
   ]
  },
  {
   "cell_type": "markdown",
   "id": "ab831a76-ced5-4049-b341-3b747202d14d",
   "metadata": {},
   "source": [
    "### 🧩 Patrón Facade (Fachada)"
   ]
  },
  {
   "cell_type": "markdown",
   "id": "57e103dd-dea4-4d7e-a691-127437cad162",
   "metadata": {},
   "source": [
    "📌 ¿Para qué sirve?\n",
    "\n",
    "El patrón Fachada proporciona una interfaz simplificada y unificada a un conjunto de interfaces en un subsistema. Es útil para ocultar la complejidad del sistema y facilitar su uso por parte de los clientes."
   ]
  },
  {
   "cell_type": "markdown",
   "id": "d7517e9a-c629-431f-a522-b3f068169d99",
   "metadata": {},
   "source": [
    "#### 🎯 Ejemplo práctico sencillo en Python"
   ]
  },
  {
   "cell_type": "markdown",
   "id": "d7f46978-714a-4ff2-b062-3eb0c3289242",
   "metadata": {},
   "source": [
    "Supongamos que queremos iniciar un sistema de cine en casa, que involucra encender varias partes: el proyector, el sistema de sonido y las luces. El cliente no debería tener que controlar cada parte por separado.\n",
    "\n",
    "👇 Sin Fachada, el cliente tiene que controlar todo directamente:"
   ]
  },
  {
   "cell_type": "code",
   "execution_count": 19,
   "id": "22f6bb09-4e66-4dcf-93d5-6b578519df80",
   "metadata": {},
   "outputs": [],
   "source": [
    "# Subsistemas individuales\n",
    "class Proyector:\n",
    "    def encender(self):\n",
    "        print(\"📽️ Proyector encendido\")\n",
    "\n",
    "class SistemaSonido:\n",
    "    def encender(self):\n",
    "        print(\"🔊 Sistema de sonido encendido\")\n",
    "\n",
    "class Luces:\n",
    "    def atenuar(self):\n",
    "        print(\"💡 Luces atenuadas\")\n"
   ]
  },
  {
   "cell_type": "markdown",
   "id": "26175bc6-c28c-41f4-908f-c9f36d0c0bec",
   "metadata": {},
   "source": [
    "🛠 Solución: creamos una clase Fachada"
   ]
  },
  {
   "cell_type": "code",
   "execution_count": 20,
   "id": "0ff4ff98-de43-46ad-af12-c1665ae8fd93",
   "metadata": {},
   "outputs": [],
   "source": [
    "# Fachada que oculta la complejidad del subsistema\n",
    "class CineEnCasa:\n",
    "    def __init__(self):\n",
    "        self.proyector = Proyector()\n",
    "        self.sonido = SistemaSonido()\n",
    "        self.luces = Luces()\n",
    "\n",
    "    def iniciar_pelicula(self):\n",
    "        print(\"🎬 Iniciando el modo cine en casa...\")\n",
    "        self.luces.atenuar()\n",
    "        self.sonido.encender()\n",
    "        self.proyector.encender()\n"
   ]
  },
  {
   "cell_type": "markdown",
   "id": "a5fc8626-24a1-426d-b72f-4959cf1a7b11",
   "metadata": {},
   "source": [
    "✅ Uso del patrón:"
   ]
  },
  {
   "cell_type": "code",
   "execution_count": 21,
   "id": "f4276708-3cc2-41a7-97cd-e2060101172b",
   "metadata": {},
   "outputs": [
    {
     "name": "stdout",
     "output_type": "stream",
     "text": [
      "🎬 Iniciando el modo cine en casa...\n",
      "💡 Luces atenuadas\n",
      "🔊 Sistema de sonido encendido\n",
      "📽️ Proyector encendido\n"
     ]
    }
   ],
   "source": [
    "# Cliente usa solo la fachada\n",
    "cine = CineEnCasa()\n",
    "cine.iniciar_pelicula()\n"
   ]
  },
  {
   "cell_type": "markdown",
   "id": "05f8a60f-5483-4a4f-a948-17d7d3fef0bc",
   "metadata": {},
   "source": [
    "🧠 Ventajas del patrón Facade:\n",
    "\n",
    "- Reduce la complejidad para el cliente.\n",
    "- Oculta detalles de implementación de subsistemas.\n",
    "- Facilita cambios internos sin afectar al cliente.\n",
    "- Promueve el bajo acoplamiento."
   ]
  },
  {
   "cell_type": "markdown",
   "id": "ed7ac99b-226a-4953-9e09-ab0d75ea30df",
   "metadata": {
    "jp-MarkdownHeadingCollapsed": true
   },
   "source": [
    "#### otro ejemplo"
   ]
  },
  {
   "cell_type": "markdown",
   "id": "cc162d9a-c933-4175-bf3f-9a2d85d1afd2",
   "metadata": {},
   "source": [
    "🔌 🏢 Escenario: Sistema de reservas de vuelos\n",
    "\n",
    "Tienes un sistema complejo con módulos independientes:\n",
    "\n",
    "- Búsqueda de vuelos\n",
    "- Procesamiento de pagos\n",
    "- Envío de confirmaciones\n",
    "- Registro de pasajero\n",
    "\n",
    "El cliente no debería interactuar con cada módulo por separado. Usamos un Facade para ocultar la complejidad y ofrecer un punto de acceso simple.\n",
    "\n",
    "🎯 Objetivo\n",
    "Tener una interfaz simple como:"
   ]
  },
  {
   "cell_type": "markdown",
   "id": "70783075-a7fb-4c4d-b8c5-8257aeec374e",
   "metadata": {},
   "source": [
    "```python\n",
    "reserva_facade.reservar_vuelo(nombre, destino, tarjeta)\n",
    "```"
   ]
  },
  {
   "cell_type": "markdown",
   "id": "6cdb3a84-7db3-42ac-9d3b-4b9d7698b73f",
   "metadata": {},
   "source": [
    "🧩 Subsistemas"
   ]
  },
  {
   "cell_type": "code",
   "execution_count": 22,
   "id": "ec2b4f44-9716-4eeb-a91e-8aeaeab6b008",
   "metadata": {},
   "outputs": [],
   "source": [
    "class BuscadorVuelos:\n",
    "    def buscar(self, destino):\n",
    "        print(f\"🔍 Buscando vuelos a {destino}...\")\n",
    "        return f\"Vuelo a {destino} encontrado\"\n",
    "\n",
    "class ProcesadorPagos:\n",
    "    def procesar_pago(self, tarjeta, monto):\n",
    "        print(f\"💳 Procesando pago de ${monto} con tarjeta {tarjeta}...\")\n",
    "        return True\n",
    "\n",
    "class Confirmador:\n",
    "    def enviar_confirmacion(self, nombre, destino):\n",
    "        print(f\"📧 Enviando confirmación a {nombre} para el vuelo a {destino}...\")\n",
    "\n",
    "class RegistroPasajero:\n",
    "    def registrar(self, nombre, destino):\n",
    "        print(f\"📝 Registrando al pasajero {nombre} para el vuelo a {destino}...\")"
   ]
  },
  {
   "cell_type": "markdown",
   "id": "cb7c05f5-ac50-4a64-a007-355ebb221736",
   "metadata": {},
   "source": [
    "🏛 Clase Facade"
   ]
  },
  {
   "cell_type": "code",
   "execution_count": 23,
   "id": "0ed99ffb-8518-49a3-aa22-bee5c053bd54",
   "metadata": {},
   "outputs": [],
   "source": [
    "class SistemaReservasFacade:\n",
    "    def __init__(self):\n",
    "        self.buscador = BuscadorVuelos()\n",
    "        self.pagos = ProcesadorPagos()\n",
    "        self.confirmador = Confirmador()\n",
    "        self.registro = RegistroPasajero()\n",
    "\n",
    "    def reservar_vuelo(self, nombre, destino, tarjeta):\n",
    "        vuelo = self.buscador.buscar(destino)\n",
    "        if not vuelo:\n",
    "            print(\"❌ No se encontró vuelo\")\n",
    "            return\n",
    "\n",
    "        if self.pagos.procesar_pago(tarjeta, 250.0):\n",
    "            self.registro.registrar(nombre, destino)\n",
    "            self.confirmador.enviar_confirmacion(nombre, destino)\n",
    "            print(\"✅ Reserva completada\")\n",
    "        else:\n",
    "            print(\"❌ Error en el pago\")"
   ]
  },
  {
   "cell_type": "markdown",
   "id": "c103e98d-6307-46ca-b1fa-bbb979d8e117",
   "metadata": {},
   "source": [
    "🧪 Uso desde el cliente"
   ]
  },
  {
   "cell_type": "code",
   "execution_count": 24,
   "id": "f53f2394-937a-4756-9b5b-cb23289046bd",
   "metadata": {},
   "outputs": [
    {
     "name": "stdout",
     "output_type": "stream",
     "text": [
      "🔍 Buscando vuelos a Madrid...\n",
      "💳 Procesando pago de $250.0 con tarjeta 1234-5678-9876...\n",
      "📝 Registrando al pasajero Lucía González para el vuelo a Madrid...\n",
      "📧 Enviando confirmación a Lucía González para el vuelo a Madrid...\n",
      "✅ Reserva completada\n"
     ]
    }
   ],
   "source": [
    "# Cliente\n",
    "reserva = SistemaReservasFacade()\n",
    "reserva.reservar_vuelo(\"Lucía González\", \"Madrid\", \"1234-5678-9876\")"
   ]
  },
  {
   "cell_type": "markdown",
   "id": "57cba39a-e8d7-4a28-ad1d-c8818850fbfb",
   "metadata": {},
   "source": [
    "### 🧩 Patrón Bridge (Puente)"
   ]
  },
  {
   "cell_type": "markdown",
   "id": "9efe0cc4-c290-4cdb-9635-1f937982dcb4",
   "metadata": {},
   "source": [
    "📌 ¿Para qué sirve?\n",
    "\n",
    "El patrón Bridge separa una abstracción de su implementación para que ambas puedan evolucionar de forma independiente. Es útil cuando hay múltiples dimensiones de variación en una jerarquía de clases."
   ]
  },
  {
   "cell_type": "markdown",
   "id": "428b2649-b2bf-454b-9798-54a818917158",
   "metadata": {},
   "source": [
    "#### 🎯 Ejemplo práctico sencillo en Python"
   ]
  },
  {
   "cell_type": "markdown",
   "id": "bfab3d14-83fc-4e5e-a608-ba33a081275f",
   "metadata": {},
   "source": [
    "Imagina que queremos representar formas que se pueden dibujar de distintas maneras (por ejemplo, en pantalla o impresora).\n",
    "\n",
    "👇 Sin Bridge, tendríamos una combinación de clases para cada forma y tipo de dibujo (ej: CirculoPantalla, CirculoImpresora, etc.)."
   ]
  },
  {
   "cell_type": "markdown",
   "id": "0f107f67-c3e6-4d2c-b456-0c500d0c31fc",
   "metadata": {},
   "source": [
    "🛠 Solución: separamos la abstracción (Forma) de la implementación (Dibujo)"
   ]
  },
  {
   "cell_type": "code",
   "execution_count": 25,
   "id": "6d49f675-7a9c-43e1-9b30-33bc663acea8",
   "metadata": {},
   "outputs": [],
   "source": [
    "# Implementación (puede variar)\n",
    "class DibujoPantalla:\n",
    "    def dibujar_circulo(self, x, y, radio):\n",
    "        print(f\"🖥️ Dibujando círculo en pantalla en ({x},{y}) con radio {radio}\")\n",
    "\n",
    "class DibujoImpresora:\n",
    "    def dibujar_circulo(self, x, y, radio):\n",
    "        print(f\"🖨️ Imprimiendo círculo en ({x},{y}) con radio {radio}\")"
   ]
  },
  {
   "cell_type": "code",
   "execution_count": 26,
   "id": "dc801b7f-2d32-42d0-9996-e70533edb0a4",
   "metadata": {},
   "outputs": [],
   "source": [
    "# Abstracción\n",
    "class Forma:\n",
    "    def __init__(self, implementacion_dibujo):\n",
    "        self.dibujo = implementacion_dibujo"
   ]
  },
  {
   "cell_type": "code",
   "execution_count": 27,
   "id": "cdf3fa93-68bf-4806-af93-a737ffdc6a6e",
   "metadata": {},
   "outputs": [],
   "source": [
    "# Abstracción refinada\n",
    "class Circulo(Forma):\n",
    "    def __init__(self, x, y, radio, implementacion_dibujo):\n",
    "        super().__init__(implementacion_dibujo)\n",
    "        self.x = x\n",
    "        self.y = y\n",
    "        self.radio = radio\n",
    "\n",
    "    def dibujar(self):\n",
    "        self.dibujo.dibujar_circulo(self.x, self.y, self.radio)"
   ]
  },
  {
   "cell_type": "markdown",
   "id": "a7fa3e75-7473-4a3e-a93a-d496638ab5f5",
   "metadata": {},
   "source": [
    "✅ Uso del patrón:"
   ]
  },
  {
   "cell_type": "code",
   "execution_count": 28,
   "id": "b98f236b-82a2-43be-bc5d-c0726a6d3e02",
   "metadata": {},
   "outputs": [],
   "source": [
    "pantalla = DibujoPantalla()\n",
    "impresora = DibujoImpresora()"
   ]
  },
  {
   "cell_type": "code",
   "execution_count": 29,
   "id": "02ffa22d-d123-418a-a860-de9e1fd36609",
   "metadata": {},
   "outputs": [],
   "source": [
    "circulo1 = Circulo(5, 10, 3, pantalla)\n",
    "circulo2 = Circulo(0, 0, 10, impresora)"
   ]
  },
  {
   "cell_type": "code",
   "execution_count": 30,
   "id": "e374ea77-9f38-4899-8960-304497444ccd",
   "metadata": {},
   "outputs": [
    {
     "name": "stdout",
     "output_type": "stream",
     "text": [
      "🖥️ Dibujando círculo en pantalla en (5,10) con radio 3\n",
      "🖨️ Imprimiendo círculo en (0,0) con radio 10\n"
     ]
    }
   ],
   "source": [
    "circulo1.dibujar()\n",
    "circulo2.dibujar()"
   ]
  },
  {
   "cell_type": "markdown",
   "id": "73a8236f-b030-49d7-bcd7-676805be2996",
   "metadata": {},
   "source": [
    "🧠 Ventajas del patrón Bridge:\n",
    "\n",
    "- Permite extender abstracción e implementación por separado.\n",
    "- Facilita el mantenimiento y la escalabilidad.\n",
    "- Evita una explosión de clases por combinaciones múltiples."
   ]
  },
  {
   "cell_type": "markdown",
   "id": "d79e39b8-2335-429f-ba7c-2304a2caa631",
   "metadata": {},
   "source": [
    "### 🧩 Patrón Composite (Compuesto)"
   ]
  },
  {
   "cell_type": "markdown",
   "id": "cc6bc5ec-2262-49ac-9516-1832efa25adb",
   "metadata": {},
   "source": [
    "📌 ¿Para qué sirve?\n",
    "\n",
    "El patrón Composite permite tratar objetos individuales y composiciones de objetos de manera uniforme. Es ideal para representar jerarquías del tipo árbol, como estructuras de archivos o interfaces gráficas."
   ]
  },
  {
   "cell_type": "markdown",
   "id": "3d8d80cd-d12f-422b-829e-ae8ce4cb9594",
   "metadata": {},
   "source": [
    "#### 🎯 Ejemplo práctico sencillo en Python"
   ]
  },
  {
   "cell_type": "code",
   "execution_count": null,
   "id": "d1ca3988-bc32-4b84-8cc6-dacef6ea6864",
   "metadata": {},
   "outputs": [],
   "source": [
    "Sistema de archivos\n",
    "\n",
    "Supongamos que estamos modelando un sistema de archivos con carpetas y archivos. Las carpetas pueden contener tanto archivos como otras carpetas. Queremos poder recorrer esta estructura e imprimir el contenido con sangrías que indiquen jerarquía.\n",
    "\n",
    "👨‍💻 Código con Composite aplicado"
   ]
  },
  {
   "cell_type": "code",
   "execution_count": 31,
   "id": "512af48b-2985-47f3-bd86-b4b76fefbe49",
   "metadata": {},
   "outputs": [],
   "source": [
    "# Componente base\n",
    "class ElementoSistema:\n",
    "    def mostrar(self, nivel=0):\n",
    "        raise NotImplementedError(\"Debe implementarse en las subclases\")"
   ]
  },
  {
   "cell_type": "code",
   "execution_count": 32,
   "id": "173dcf51-fdb0-43bb-a911-1d841f528444",
   "metadata": {},
   "outputs": [],
   "source": [
    "# Hoja: Archivo\n",
    "class Archivo(ElementoSistema):\n",
    "    def __init__(self, nombre):\n",
    "        self.nombre = nombre\n",
    "\n",
    "    def mostrar(self, nivel=0):\n",
    "        print(\"  \" * nivel + f\"📄 Archivo: {self.nombre}\")"
   ]
  },
  {
   "cell_type": "code",
   "execution_count": 33,
   "id": "18cc1cd6-b90b-49cd-b670-0bf9fd3db6e6",
   "metadata": {},
   "outputs": [],
   "source": [
    "# Compuesto: Carpeta\n",
    "class Carpeta(ElementoSistema):\n",
    "    def __init__(self, nombre):\n",
    "        self.nombre = nombre\n",
    "        self.contenido = []\n",
    "\n",
    "    def agregar(self, elemento):\n",
    "        self.contenido.append(elemento)\n",
    "\n",
    "    def mostrar(self, nivel=0):\n",
    "        print(\"  \" * nivel + f\"📁 Carpeta: {self.nombre}\")\n",
    "        for elem in self.contenido:\n",
    "            elem.mostrar(nivel + 1)"
   ]
  },
  {
   "cell_type": "markdown",
   "id": "73ed219c-756b-4b6d-b043-1817887063a2",
   "metadata": {},
   "source": [
    "✅ Uso del patrón:"
   ]
  },
  {
   "cell_type": "code",
   "execution_count": 34,
   "id": "88e81461-a6e3-4ebb-99d3-646e31c06f9e",
   "metadata": {},
   "outputs": [],
   "source": [
    "# Crear archivos\n",
    "a1 = Archivo(\"documento.txt\")\n",
    "a2 = Archivo(\"foto.jpg\")\n",
    "a3 = Archivo(\"presentacion.pptx\")"
   ]
  },
  {
   "cell_type": "code",
   "execution_count": 35,
   "id": "098c6781-ceca-4082-a23c-13f552a004d9",
   "metadata": {},
   "outputs": [],
   "source": [
    "# Crear carpetas\n",
    "carpeta_docs = Carpeta(\"Documentos\")\n",
    "carpeta_docs.agregar(a1)\n",
    "carpeta_docs.agregar(a3)"
   ]
  },
  {
   "cell_type": "code",
   "execution_count": 36,
   "id": "f6b8752f-4dc1-4720-8021-6032782b7386",
   "metadata": {},
   "outputs": [],
   "source": [
    "carpeta_fotos = Carpeta(\"Fotos\")\n",
    "carpeta_fotos.agregar(a2)"
   ]
  },
  {
   "cell_type": "code",
   "execution_count": 37,
   "id": "35e3814d-0f30-4c3e-bc70-ed220a428225",
   "metadata": {},
   "outputs": [],
   "source": [
    "# Carpeta raíz\n",
    "raiz = Carpeta(\"Usuario\")\n",
    "raiz.agregar(carpeta_docs)\n",
    "raiz.agregar(carpeta_fotos)"
   ]
  },
  {
   "cell_type": "code",
   "execution_count": 38,
   "id": "5973aa2c-6360-414b-9c8b-623cc1bed769",
   "metadata": {},
   "outputs": [
    {
     "name": "stdout",
     "output_type": "stream",
     "text": [
      "📁 Carpeta: Usuario\n",
      "  📁 Carpeta: Documentos\n",
      "    📄 Archivo: documento.txt\n",
      "    📄 Archivo: presentacion.pptx\n",
      "  📁 Carpeta: Fotos\n",
      "    📄 Archivo: foto.jpg\n"
     ]
    }
   ],
   "source": [
    "# Mostrar estructura\n",
    "raiz.mostrar()"
   ]
  },
  {
   "cell_type": "markdown",
   "id": "4c439161-0126-40e0-acb2-a7aafefe52bc",
   "metadata": {},
   "source": [
    "🧠 Ventajas reforzadas en este ejemplo:\n",
    "\n",
    "- Recorrido uniforme sin importar si es carpeta o archivo.\n",
    "- Flexibilidad para construir estructuras complejas anidadas.\n",
    "- Facilita operaciones recursivas como impresión, búsqueda o conteo."
   ]
  },
  {
   "cell_type": "markdown",
   "id": "ff215ff6-7228-4030-ba19-6c4a58ba6ae7",
   "metadata": {},
   "source": [
    "### 🧩 Patrón Decorator (Decorador)"
   ]
  },
  {
   "cell_type": "markdown",
   "id": "64434365-370e-46a6-923a-7f0919b58a9e",
   "metadata": {},
   "source": [
    "📌 ¿Para qué sirve?\n",
    "\n",
    "El patrón Decorator permite añadir funcionalidades a objetos de forma dinámica, sin modificar su clase original. Es una alternativa flexible a la herencia cuando se desea extender comportamiento."
   ]
  },
  {
   "cell_type": "markdown",
   "id": "4f1eea57-0417-4e08-8243-cbc2e766d6fa",
   "metadata": {},
   "source": [
    "#### 🎯 Ejemplo más avanzado: Sistema de mensajes\n",
    "\n",
    "Supongamos que tenemos un sistema que envía mensajes. Queremos que algunos mensajes sean:\n",
    "\n",
    "- Encriptados 🔒\n",
    "- Comprimidos 📦\n",
    "- Firmados con una clave 🔏\n",
    "\n",
    "Cada funcionalidad debe poder combinarse dinámicamente, sin modificar la clase original del mensaje."
   ]
  },
  {
   "cell_type": "markdown",
   "id": "d7b4940e-5e14-4a7c-bf7d-ecd3e9bc912d",
   "metadata": {},
   "source": [
    "👨‍💻 Código base"
   ]
  },
  {
   "cell_type": "code",
   "execution_count": 40,
   "id": "0add8361-2b55-444f-9935-55207367b9f6",
   "metadata": {},
   "outputs": [],
   "source": [
    "# Componente base\n",
    "class Mensaje:\n",
    "    def enviar(self):\n",
    "        raise NotImplementedError(\"Debe implementarse en las subclases\")"
   ]
  },
  {
   "cell_type": "code",
   "execution_count": 41,
   "id": "d7e503e3-b91e-4d77-8f44-1d979827b0cf",
   "metadata": {},
   "outputs": [],
   "source": [
    "# Componente concreto\n",
    "class MensajeTexto(Mensaje):\n",
    "    def __init__(self, contenido):\n",
    "        self.contenido = contenido\n",
    "\n",
    "    def enviar(self):\n",
    "        return f\"Enviando: {self.contenido}\""
   ]
  },
  {
   "cell_type": "markdown",
   "id": "f2b094bf-7589-4ab4-a048-7e04d4e5042c",
   "metadata": {},
   "source": [
    "🧩 Decoradores (agregan funcionalidades)"
   ]
  },
  {
   "cell_type": "code",
   "execution_count": 43,
   "id": "b91e3a41-3abe-40f4-84ed-e1377de70bd9",
   "metadata": {},
   "outputs": [],
   "source": [
    "# Decorador base\n",
    "class DecoradorMensaje(Mensaje):\n",
    "    def __init__(self, mensaje):\n",
    "        self._mensaje = mensaje\n",
    "\n",
    "    def enviar(self):\n",
    "        return self._mensaje.enviar()"
   ]
  },
  {
   "cell_type": "code",
   "execution_count": 44,
   "id": "15953b77-3325-402d-96e9-77bdd6157350",
   "metadata": {},
   "outputs": [],
   "source": [
    "# Decorador concreto: Encriptar\n",
    "class Encriptado(DecoradorMensaje):\n",
    "    def enviar(self):\n",
    "        contenido = self._mensaje.enviar()\n",
    "        return f\"🔒 Encriptado({contenido})\""
   ]
  },
  {
   "cell_type": "code",
   "execution_count": 45,
   "id": "105ce7b5-02cb-4eea-8965-9b8c6c461a85",
   "metadata": {},
   "outputs": [],
   "source": [
    "# Decorador concreto: Comprimir\n",
    "class Comprimido(DecoradorMensaje):\n",
    "    def enviar(self):\n",
    "        contenido = self._mensaje.enviar()\n",
    "        return f\"📦 Comprimido({contenido})\""
   ]
  },
  {
   "cell_type": "code",
   "execution_count": 46,
   "id": "68a0cf89-cfb0-451c-a5d7-1474d5f1a949",
   "metadata": {},
   "outputs": [],
   "source": [
    "# Decorador concreto: Firmar\n",
    "class Firmado(DecoradorMensaje):\n",
    "    def __init__(self, mensaje, clave):\n",
    "        super().__init__(mensaje)\n",
    "        self.clave = clave\n",
    "\n",
    "    def enviar(self):\n",
    "        contenido = self._mensaje.enviar()\n",
    "        return f\"{contenido} 🔏 [Firma: {self.clave}]\""
   ]
  },
  {
   "cell_type": "markdown",
   "id": "d3a4e555-2670-411c-b1b3-8905d9c15de7",
   "metadata": {},
   "source": [
    "✅ Uso del patrón:"
   ]
  },
  {
   "cell_type": "code",
   "execution_count": 48,
   "id": "c3d67e9e-1d0e-4d5c-9cfb-8bc6d60e22f9",
   "metadata": {},
   "outputs": [
    {
     "name": "stdout",
     "output_type": "stream",
     "text": [
      "Enviando: Hola mundo\n"
     ]
    }
   ],
   "source": [
    "# Mensaje simple\n",
    "msg_simple = MensajeTexto(\"Hola mundo\")\n",
    "print(msg_simple.enviar())"
   ]
  },
  {
   "cell_type": "code",
   "execution_count": 49,
   "id": "c423e610-5cfb-49ca-8fb3-2ecddc2d5c48",
   "metadata": {},
   "outputs": [
    {
     "name": "stdout",
     "output_type": "stream",
     "text": [
      "🔒 Encriptado(Enviando: Hola mundo)\n"
     ]
    }
   ],
   "source": [
    "# Mensaje encriptado\n",
    "msg_encriptado = Encriptado(msg_simple)\n",
    "print(msg_encriptado.enviar())"
   ]
  },
  {
   "cell_type": "code",
   "execution_count": 50,
   "id": "71adacd5-0d34-4e17-9bdf-918fbde95cf5",
   "metadata": {},
   "outputs": [
    {
     "name": "stdout",
     "output_type": "stream",
     "text": [
      "📦 Comprimido(🔒 Encriptado(Enviando: Hola mundo))\n"
     ]
    }
   ],
   "source": [
    "# Mensaje encriptado y comprimido\n",
    "msg_seguro = Comprimido(msg_encriptado)\n",
    "print(msg_seguro.enviar())"
   ]
  },
  {
   "cell_type": "code",
   "execution_count": 51,
   "id": "5a5dadcc-7029-4c25-9e55-25fad43c0483",
   "metadata": {},
   "outputs": [
    {
     "name": "stdout",
     "output_type": "stream",
     "text": [
      "📦 Comprimido(🔒 Encriptado(Enviando: Hola mundo)) 🔏 [Firma: ABC123]\n"
     ]
    }
   ],
   "source": [
    "# Mensaje completo: encriptado, comprimido y firmado\n",
    "msg_final = Firmado(msg_seguro, clave=\"ABC123\")\n",
    "print(msg_final.enviar())"
   ]
  },
  {
   "cell_type": "markdown",
   "id": "970cdb30-b466-4a3d-aade-e2e66a92f5d5",
   "metadata": {},
   "source": [
    "🧠 Ventajas del patrón Decorator:\n",
    "\n",
    "- Permite extender comportamiento sin modificar clases existentes.\n",
    "- Las funcionalidades pueden combinarse de forma flexible.\n",
    "- Aplica el principio de responsabilidad única y el abierto/cerrado."
   ]
  },
  {
   "cell_type": "markdown",
   "id": "0ee9b10c-c3d9-479b-b188-b82797f35c7c",
   "metadata": {},
   "source": [
    "### 🧩 Patrón Flyweight (Peso Ligero)"
   ]
  },
  {
   "cell_type": "markdown",
   "id": "19cdf31c-5f7f-4e70-bc32-45d6815d90af",
   "metadata": {},
   "source": [
    "📌 ¿Para qué sirve?\n",
    "\n",
    "El patrón Flyweight se utiliza para reducir el uso de memoria compartiendo objetos comunes y reutilizables, en lugar de crear muchos objetos iguales. Es útil cuando tenemos gran cantidad de objetos similares."
   ]
  },
  {
   "cell_type": "markdown",
   "id": "de851cbc-6c92-4882-aaaa-9bfec70e816f",
   "metadata": {},
   "source": [
    "#### 🎯 Juego de letras en pantalla"
   ]
  },
  {
   "cell_type": "markdown",
   "id": "7ef954b3-6b29-4592-ac94-2996a2319bf8",
   "metadata": {},
   "source": [
    "Supongamos que estamos desarrollando un editor de texto o un videojuego con letras animadas. Cada letra se dibuja muchas veces, pero su tipo (forma, color, fuente) puede repetirse.\n",
    "\n",
    "👉 Queremos evitar crear una instancia de letra para cada posición, y en su lugar compartir las que tienen estado interno común.\n",
    "\n",
    "🧱 Tipos de estado:\n",
    "- 🔒 Estado Intrínseco: se puede compartir (forma de la letra, color, fuente).\n",
    "- 🔓 Estado Extrínseco: cambia en cada uso (posición, tamaño, rotación)."
   ]
  },
  {
   "cell_type": "markdown",
   "id": "ee00ca0c-968a-4bbe-9b05-2042ffcfcd99",
   "metadata": {},
   "source": [
    " Implementación"
   ]
  },
  {
   "cell_type": "code",
   "execution_count": 52,
   "id": "9226f01f-43ee-4e1a-9e7e-defe8fd10f2b",
   "metadata": {},
   "outputs": [],
   "source": [
    "# Clase Flyweight: representa una letra compartida\n",
    "class Letra:\n",
    "    def __init__(self, caracter, fuente, color):\n",
    "        self.caracter = caracter        # Estado intrínseco\n",
    "        self.fuente = fuente\n",
    "        self.color = color\n",
    "\n",
    "    def dibujar(self, x, y):\n",
    "        print(f\"Dibujando '{self.caracter}' en ({x},{y}) con fuente {self.fuente} y color {self.color}\")"
   ]
  },
  {
   "cell_type": "code",
   "execution_count": 53,
   "id": "eb4e6b43-a9d9-4eea-82f0-85b281ca9a0b",
   "metadata": {},
   "outputs": [],
   "source": [
    "# Flyweight Factory: gestiona letras compartidas\n",
    "class FabricaLetras:\n",
    "    _letras = {}\n",
    "\n",
    "    @classmethod\n",
    "    def obtener_letra(cls, caracter, fuente, color):\n",
    "        clave = (caracter, fuente, color)\n",
    "        if clave not in cls._letras:\n",
    "            cls._letras[clave] = Letra(caracter, fuente, color)\n",
    "            print(f\"✅ Nueva letra creada: {caracter}, fuente={fuente}, color={color}\")\n",
    "        return cls._letras[clave]"
   ]
  },
  {
   "cell_type": "markdown",
   "id": "3f4183b5-f0d5-4356-893f-fbad5a55dcf8",
   "metadata": {},
   "source": [
    "✅ Uso del patrón:"
   ]
  },
  {
   "cell_type": "code",
   "execution_count": 54,
   "id": "801dbeb2-25d4-422e-aa45-b58e55f19aee",
   "metadata": {},
   "outputs": [
    {
     "name": "stdout",
     "output_type": "stream",
     "text": [
      "✅ Nueva letra creada: H, fuente=Arial, color=Negro\n",
      "Dibujando 'H' en (10,10) con fuente Arial y color Negro\n",
      "✅ Nueva letra creada: o, fuente=Arial, color=Negro\n",
      "Dibujando 'o' en (20,10) con fuente Arial y color Negro\n",
      "✅ Nueva letra creada: l, fuente=Arial, color=Negro\n",
      "Dibujando 'l' en (30,10) con fuente Arial y color Negro\n",
      "✅ Nueva letra creada: a, fuente=Arial, color=Negro\n",
      "Dibujando 'a' en (40,10) con fuente Arial y color Negro\n",
      "Dibujando 'H' en (10,30) con fuente Arial y color Negro\n",
      "Dibujando 'o' en (20,30) con fuente Arial y color Negro\n",
      "Dibujando 'l' en (30,30) con fuente Arial y color Negro\n",
      "Dibujando 'a' en (40,30) con fuente Arial y color Negro\n"
     ]
    }
   ],
   "source": [
    "# Texto en pantalla con muchas letras\n",
    "texto = [\n",
    "    ('H', 10, 10), ('o', 20, 10), ('l', 30, 10), ('a', 40, 10),\n",
    "    ('H', 10, 30), ('o', 20, 30), ('l', 30, 30), ('a', 40, 30)\n",
    "]\n",
    "\n",
    "fuente = \"Arial\"\n",
    "color = \"Negro\"\n",
    "\n",
    "for caracter, x, y in texto:\n",
    "    letra = FabricaLetras.obtener_letra(caracter, fuente, color)\n",
    "    letra.dibujar(x, y)"
   ]
  },
  {
   "cell_type": "markdown",
   "id": "10542106-eb40-4c66-bacf-cf834d06851a",
   "metadata": {},
   "source": [
    "🧠 Ventajas del patrón Flyweight:\n",
    "\n",
    "- Reduce drásticamente el consumo de memoria.\n",
    "- Mejora el rendimiento al reutilizar objetos comunes.\n",
    "- Ideal para sistemas con miles o millones de elementos similares (texto, gráficos, partículas, etc.)."
   ]
  },
  {
   "cell_type": "markdown",
   "id": "dcfa2334-0489-4fd9-bb02-af6058738a25",
   "metadata": {},
   "source": [
    "### 🧩 Patrón Proxy (Apoderado o Representante)"
   ]
  },
  {
   "cell_type": "markdown",
   "id": "0931d9ff-6bc4-4061-a9b8-c040feca6d64",
   "metadata": {},
   "source": [
    "📌 ¿Para qué sirve?\n",
    "\n",
    "El patrón Proxy proporciona un sustituto o representante de otro objeto para controlar su acceso. Es útil cuando necesitamos:\n",
    "\n",
    "Controlar el acceso a un objeto costoso o sensible.\n",
    "\n",
    "Añadir funcionalidades como caché, logging, control de acceso o carga diferida."
   ]
  },
  {
   "cell_type": "markdown",
   "id": "a6f0679c-e2d6-4d4d-bc60-8fe31c9f635e",
   "metadata": {},
   "source": [
    "#### 🎯 Ejemplo más avanzado: Acceso a un servicio de imágenes pesadas"
   ]
  },
  {
   "cell_type": "markdown",
   "id": "4c69ca84-f395-4bef-bf7b-d98ae68f7eb1",
   "metadata": {},
   "source": [
    "Supongamos que estamos construyendo una galería de imágenes, pero las imágenes son pesadas y costosas de cargar. Queremos usar un proxy que cargue la imagen real solo cuando se necesite (lazy loading o carga diferida)."
   ]
  },
  {
   "cell_type": "markdown",
   "id": "dab06654-1aca-4519-a31b-e852f4267abc",
   "metadata": {},
   "source": [
    "👨‍💻 Código base"
   ]
  },
  {
   "cell_type": "code",
   "execution_count": 55,
   "id": "7b6c0c3d-b251-4598-b30c-4d6da6f729b3",
   "metadata": {},
   "outputs": [],
   "source": [
    "# Interfaz común\n",
    "class Imagen:\n",
    "    def mostrar(self):\n",
    "        raise NotImplementedError()"
   ]
  },
  {
   "cell_type": "code",
   "execution_count": 56,
   "id": "e1188c0f-532b-46e0-92ff-c46f402aa3c1",
   "metadata": {},
   "outputs": [],
   "source": [
    "# Objeto real (costoso)\n",
    "class ImagenAltaResolucion(Imagen):\n",
    "    def __init__(self, archivo):\n",
    "        self.archivo = archivo\n",
    "        self._cargar_desde_disco()\n",
    "\n",
    "    def _cargar_desde_disco(self):\n",
    "        print(f\"📂 Cargando imagen pesada: {self.archivo}\")\n",
    "\n",
    "    def mostrar(self):\n",
    "        print(f\"🖼️ Mostrando imagen: {self.archivo}\")"
   ]
  },
  {
   "cell_type": "markdown",
   "id": "a5930143-a217-4c82-9cb7-5369852fd484",
   "metadata": {},
   "source": [
    "🛠 Proxy: carga diferida (Lazy Proxy)"
   ]
  },
  {
   "cell_type": "code",
   "execution_count": 57,
   "id": "afee44ac-5530-4025-b189-db7ead249289",
   "metadata": {},
   "outputs": [],
   "source": [
    "class ProxyImagen(Imagen):\n",
    "    def __init__(self, archivo):\n",
    "        self.archivo = archivo\n",
    "        self._imagen_real = None\n",
    "\n",
    "    def mostrar(self):\n",
    "        if self._imagen_real is None:\n",
    "            print(\"⚠️ Imagen no cargada aún. Cargando ahora...\")\n",
    "            self._imagen_real = ImagenAltaResolucion(self.archivo)\n",
    "        else:\n",
    "            print(\"✅ Imagen ya cargada.\")\n",
    "        self._imagen_real.mostrar()"
   ]
  },
  {
   "cell_type": "markdown",
   "id": "2f8c2b9c-b743-4512-bfe7-7d6f780b5c97",
   "metadata": {},
   "source": [
    "✅ Uso del patrón:"
   ]
  },
  {
   "cell_type": "code",
   "execution_count": 58,
   "id": "9f258fdb-4544-498b-8c7a-7f0a1a3588e7",
   "metadata": {},
   "outputs": [
    {
     "name": "stdout",
     "output_type": "stream",
     "text": [
      "🎨 Mostrando miniaturas... (sin cargar imágenes reales)\n"
     ]
    }
   ],
   "source": [
    "# Creamos proxies, no se carga la imagen aún\n",
    "galeria = [\n",
    "    ProxyImagen(\"paisaje1.png\"),\n",
    "    ProxyImagen(\"paisaje2.png\")\n",
    "]\n",
    "\n",
    "print(\"🎨 Mostrando miniaturas... (sin cargar imágenes reales)\")"
   ]
  },
  {
   "cell_type": "code",
   "execution_count": 59,
   "id": "20aed840-d790-4818-8664-25137aba8875",
   "metadata": {},
   "outputs": [
    {
     "name": "stdout",
     "output_type": "stream",
     "text": [
      "\n",
      "🖱️ Usuario selecciona 'paisaje1.png'\n",
      "⚠️ Imagen no cargada aún. Cargando ahora...\n",
      "📂 Cargando imagen pesada: paisaje1.png\n",
      "🖼️ Mostrando imagen: paisaje1.png\n"
     ]
    }
   ],
   "source": [
    "# Ahora se carga y muestra la imagen solo si se solicita\n",
    "print(\"\\n🖱️ Usuario selecciona 'paisaje1.png'\")\n",
    "galeria[0].mostrar()"
   ]
  },
  {
   "cell_type": "code",
   "execution_count": 60,
   "id": "d1e94d84-2cde-4e79-b6a2-26840bd4d9fc",
   "metadata": {},
   "outputs": [
    {
     "name": "stdout",
     "output_type": "stream",
     "text": [
      "\n",
      "🖱️ Usuario vuelve a ver 'paisaje1.png'\n",
      "✅ Imagen ya cargada.\n",
      "🖼️ Mostrando imagen: paisaje1.png\n"
     ]
    }
   ],
   "source": [
    "print(\"\\n🖱️ Usuario vuelve a ver 'paisaje1.png'\")\n",
    "galeria[0].mostrar()"
   ]
  },
  {
   "cell_type": "code",
   "execution_count": 61,
   "id": "1f013a6a-28f5-42de-8e6a-9a2f4080a231",
   "metadata": {},
   "outputs": [
    {
     "name": "stdout",
     "output_type": "stream",
     "text": [
      "\n",
      "🖱️ Usuario selecciona 'paisaje2.png'\n",
      "⚠️ Imagen no cargada aún. Cargando ahora...\n",
      "📂 Cargando imagen pesada: paisaje2.png\n",
      "🖼️ Mostrando imagen: paisaje2.png\n"
     ]
    }
   ],
   "source": [
    "print(\"\\n🖱️ Usuario selecciona 'paisaje2.png'\")\n",
    "galeria[1].mostrar()"
   ]
  },
  {
   "cell_type": "markdown",
   "id": "99c5afdc-484c-4a36-8dca-eb2d084ca419",
   "metadata": {},
   "source": [
    "🧠 Ventajas del patrón Proxy:\n",
    "\n",
    "- Permite controlar el acceso a objetos complejos o sensibles.\n",
    "- Reduce el uso de memoria o mejora rendimiento (carga diferida, caché).\n",
    "- Aísla al cliente de la complejidad de instanciar objetos reales."
   ]
  },
  {
   "cell_type": "code",
   "execution_count": null,
   "id": "e6f0622b-62e3-42d5-abde-5abfcd3c92f8",
   "metadata": {},
   "outputs": [],
   "source": []
  }
 ],
 "metadata": {
  "kernelspec": {
   "display_name": "py313",
   "language": "python",
   "name": "py313"
  },
  "language_info": {
   "codemirror_mode": {
    "name": "ipython",
    "version": 3
   },
   "file_extension": ".py",
   "mimetype": "text/x-python",
   "name": "python",
   "nbconvert_exporter": "python",
   "pygments_lexer": "ipython3",
   "version": "3.13.1"
  }
 },
 "nbformat": 4,
 "nbformat_minor": 5
}
